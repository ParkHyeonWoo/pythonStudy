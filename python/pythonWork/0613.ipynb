{
 "cells": [
  {
   "cell_type": "code",
   "execution_count": 17,
   "id": "7f4c0b2f",
   "metadata": {},
   "outputs": [
    {
     "name": "stdout",
     "output_type": "stream",
     "text": [
      "30\n",
      "a\n",
      "b\n",
      "c10\n",
      "a 100 1.2 True\n"
     ]
    }
   ],
   "source": [
    "100\n",
    "100.30\n",
    "True\n",
    "print(10+20)\n",
    "print('a')\n",
    "print(\"b\")\n",
    "#print('c'+10) -> 서로의 타입을 맞춰줘야 한다.\n",
    "print('c'+str(10))\n",
    "print('a',100,1.2,True)"
   ]
  },
  {
   "cell_type": "markdown",
   "id": "8f19bca9",
   "metadata": {},
   "source": [
    "참(True): TRUE, true 등은 인식하지 못한다.\n",
    "거짓(False): 위와 동일."
   ]
  },
  {
   "cell_type": "markdown",
   "id": "8d19261d",
   "metadata": {},
   "source": [
    "기본적으론 print가 없어도 출력은 되지만 print를 사용하게 되면 그것을 우선, 다른 print되지 않은 값들은 출력되지 않는다."
   ]
  },
  {
   "cell_type": "code",
   "execution_count": 13,
   "id": "1c6d12c5",
   "metadata": {},
   "outputs": [
    {
     "name": "stdout",
     "output_type": "stream",
     "text": [
      "5-(3-1) =  3\n",
      "20 5.0\n"
     ]
    }
   ],
   "source": [
    "print('5-(3-1) = ',5-(3-1))\n",
    "print(10*2,10/2)"
   ]
  },
  {
   "cell_type": "markdown",
   "id": "2394cd53",
   "metadata": {},
   "source": [
    "파이썬에서는 변수의 타입 선언 필요 없이 모든 타입을 받아들인다. 사용시에만 타입에 주의할 것. 모든 값들은 인스턴스 값으로 해당 변수들에 참조값으로 호출되는 방식."
   ]
  },
  {
   "cell_type": "code",
   "execution_count": 23,
   "id": "e776fbc4",
   "metadata": {},
   "outputs": [
    {
     "name": "stdout",
     "output_type": "stream",
     "text": [
      "4.0\n"
     ]
    }
   ],
   "source": [
    "x = 2*2*2\n",
    "y = x/4\n",
    "z = y*y\n",
    "print(z)"
   ]
  },
  {
   "cell_type": "code",
   "execution_count": 33,
   "id": "89978e0c",
   "metadata": {},
   "outputs": [
    {
     "name": "stdout",
     "output_type": "stream",
     "text": [
      "4.0\n"
     ]
    }
   ],
   "source": [
    "x = 2**3\n",
    "x = x/4\n",
    "x = x*x\n",
    "print(x)"
   ]
  },
  {
   "cell_type": "markdown",
   "id": "cda979bc",
   "metadata": {},
   "source": [
    "def test():\n",
    "    함수에 속하는 문장등 ... \\n\n",
    "-> 이 때 주의할 점은 들여쓰기를 사용하지 않을 경우 함수로 취급하지 않는 것이다."
   ]
  },
  {
   "cell_type": "code",
   "execution_count": 34,
   "id": "fd9c1c8f",
   "metadata": {},
   "outputs": [],
   "source": [
    "def greet():\n",
    "    print('hello')\n",
    "    print('python')"
   ]
  },
  {
   "cell_type": "code",
   "execution_count": 36,
   "id": "61922ddc",
   "metadata": {},
   "outputs": [
    {
     "name": "stdout",
     "output_type": "stream",
     "text": [
      "hello\n",
      "python\n"
     ]
    }
   ],
   "source": [
    "greet()"
   ]
  },
  {
   "cell_type": "code",
   "execution_count": 1,
   "id": "9d13730b",
   "metadata": {},
   "outputs": [],
   "source": [
    "def MH():\n",
    "    print('1+2+3+4+5 =', 1+2+3+4+5)\n",
    "    print('simple')\n",
    "    print('python')"
   ]
  },
  {
   "cell_type": "code",
   "execution_count": 2,
   "id": "e2b39f99",
   "metadata": {},
   "outputs": [
    {
     "name": "stdout",
     "output_type": "stream",
     "text": [
      "1+2+3+4+5 = 15\n",
      "simple\n",
      "python\n"
     ]
    }
   ],
   "source": [
    "MH()"
   ]
  },
  {
   "cell_type": "code",
   "execution_count": 9,
   "id": "9dd0d794",
   "metadata": {},
   "outputs": [],
   "source": [
    "def greet2(name, age):\n",
    "    print(name, '님의 나이는', age, '살 입니다.')\n",
    "    print(name+' 님의 나이는 '+str(age)+'살 입니다.')"
   ]
  },
  {
   "cell_type": "code",
   "execution_count": 10,
   "id": "fd5ae8f4",
   "metadata": {},
   "outputs": [
    {
     "name": "stdout",
     "output_type": "stream",
     "text": [
      "홍길동 님의 나이는 30 살 입니다.\n",
      "홍길동 님의 나이는 30살 입니다.\n"
     ]
    }
   ],
   "source": [
    "greet2('홍길동', 30)"
   ]
  },
  {
   "cell_type": "code",
   "execution_count": 11,
   "id": "5780e3c1",
   "metadata": {},
   "outputs": [],
   "source": [
    "def adder(num1, num2):\n",
    "    add = num1 + num2\n",
    "    return add"
   ]
  },
  {
   "cell_type": "code",
   "execution_count": 14,
   "id": "6d5600bf",
   "metadata": {},
   "outputs": [
    {
     "name": "stdout",
     "output_type": "stream",
     "text": [
      "3\n"
     ]
    }
   ],
   "source": [
    "result = adder(1, 2)\n",
    "print(result)"
   ]
  },
  {
   "cell_type": "code",
   "execution_count": 26,
   "id": "ac412bc0",
   "metadata": {},
   "outputs": [],
   "source": [
    "def a(num):\n",
    "    return num*-1"
   ]
  },
  {
   "cell_type": "code",
   "execution_count": 27,
   "id": "31c763d7",
   "metadata": {},
   "outputs": [
    {
     "name": "stdout",
     "output_type": "stream",
     "text": [
      "1\n"
     ]
    }
   ],
   "source": [
    "b = a(-1)\n",
    "print(b)"
   ]
  },
  {
   "cell_type": "code",
   "execution_count": 28,
   "id": "07feadc5",
   "metadata": {},
   "outputs": [],
   "source": [
    "def c(num1, num2): \n",
    "    return (num1 + num2)/2"
   ]
  },
  {
   "cell_type": "code",
   "execution_count": 29,
   "id": "1914b4e0",
   "metadata": {},
   "outputs": [
    {
     "name": "stdout",
     "output_type": "stream",
     "text": [
      "3.0\n"
     ]
    }
   ],
   "source": [
    "d = c(2, 4)\n",
    "print(d)"
   ]
  },
  {
   "cell_type": "markdown",
   "id": "95b0440b",
   "metadata": {},
   "source": [
    "변수와 함수의 이름은 소문자로 시작한다, 둘 이상의 단어를 연결할 경우 언더바를 이용한다."
   ]
  },
  {
   "cell_type": "code",
   "execution_count": 30,
   "id": "8fb4b117",
   "metadata": {},
   "outputs": [
    {
     "name": "stdout",
     "output_type": "stream",
     "text": [
      "입력: 100\n",
      "100\n",
      "<class 'int'>\n"
     ]
    }
   ],
   "source": [
    "res = input('입력: ')\n",
    "print(res)\n",
    "print(type(result))"
   ]
  },
  {
   "cell_type": "code",
   "execution_count": 41,
   "id": "dc80d391",
   "metadata": {},
   "outputs": [
    {
     "name": "stdout",
     "output_type": "stream",
     "text": [
      "입력: 10\n",
      "입력: 20\n",
      "두 입력의 합은 30\n"
     ]
    }
   ],
   "source": [
    "res1 = input('입력: ')\n",
    "res2 = input('입력: ')\n",
    "print('두 입력의 합은 '+str(int(res1)+int(res2)))"
   ]
  },
  {
   "cell_type": "code",
   "execution_count": 50,
   "id": "521276f0",
   "metadata": {},
   "outputs": [
    {
     "name": "stdout",
     "output_type": "stream",
     "text": [
      "362880\n"
     ]
    }
   ],
   "source": [
    "sum = 1\n",
    "for i in range(1, 10):\n",
    "    sum *= i\n",
    "print(sum)"
   ]
  },
  {
   "cell_type": "code",
   "execution_count": 52,
   "id": "6646e847",
   "metadata": {},
   "outputs": [
    {
     "name": "stdout",
     "output_type": "stream",
     "text": [
      "입력: 5\n",
      "24\n"
     ]
    }
   ],
   "source": [
    "pnum = input('입력: ')\n",
    "sum = 1\n",
    "for i in range(1, int(pnum)):\n",
    "    sum *= i\n",
    "print(sum)"
   ]
  },
  {
   "cell_type": "markdown",
   "id": "7793da06",
   "metadata": {},
   "source": [
    "반복문 => for i in range(초기값, 마지막값, 증감식) -> 초기값 0과 증감식 1은 제외가 가능하다. 또한, 초기값은 반복에 포함되지만 마지막값은 반복에 포함되지 않는다. (ex) range(1, 10, 1) => 1에서 시작하여 9번까지 1번씩 증가하여 반복한다.)"
   ]
  },
  {
   "cell_type": "markdown",
   "id": "d407eb59",
   "metadata": {},
   "source": [
    "파이썬에선 증감 연산자가 존재하지 않는다."
   ]
  },
  {
   "cell_type": "code",
   "execution_count": 16,
   "id": "f9bf6a7e",
   "metadata": {},
   "outputs": [
    {
     "name": "stdout",
     "output_type": "stream",
     "text": [
      "2\n",
      "1*1=1\n",
      "1*2=2\n",
      "1*3=3\n",
      "1*4=4\n",
      "1*5=5\n",
      "1*6=6\n",
      "1*7=7\n",
      "1*8=8\n",
      "1*9=9\n",
      "-----\n",
      "2*1=2\n",
      "2*2=4\n",
      "2*3=6\n",
      "2*4=8\n",
      "2*5=10\n",
      "2*6=12\n",
      "2*7=14\n",
      "2*8=16\n",
      "2*9=18\n",
      "-----\n"
     ]
    }
   ],
   "source": [
    "rng = input()\n",
    "\n",
    "for i in range(1, int(rng)+1):\n",
    "    for j in range(1, 10):\n",
    "        print(f'{i}*{j}={i*j}')\n",
    "    print('-----')"
   ]
  },
  {
   "cell_type": "code",
   "execution_count": 14,
   "id": "b5fba54c",
   "metadata": {},
   "outputs": [
    {
     "name": "stdout",
     "output_type": "stream",
     "text": [
      "2\n",
      "2*9=18\n",
      "2*8=16\n",
      "2*7=14\n",
      "2*6=12\n",
      "2*5=10\n",
      "2*4=8\n",
      "2*3=6\n",
      "2*2=4\n",
      "2*1=2\n",
      "-----\n",
      "1*9=9\n",
      "1*8=8\n",
      "1*7=7\n",
      "1*6=6\n",
      "1*5=5\n",
      "1*4=4\n",
      "1*3=3\n",
      "1*2=2\n",
      "1*1=1\n",
      "-----\n"
     ]
    }
   ],
   "source": [
    "rng = input()\n",
    "\n",
    "for i in range(int(rng), 0, -1):\n",
    "    for j in range(9, 0, -1):\n",
    "        print(f'{i}*{j}={i*j}')\n",
    "    print('-----')"
   ]
  },
  {
   "cell_type": "code",
   "execution_count": 3,
   "id": "2a77e696",
   "metadata": {},
   "outputs": [
    {
     "name": "stdout",
     "output_type": "stream",
     "text": [
      "1. 너의 이름은?\n"
     ]
    }
   ],
   "source": [
    "c = '{}. 너의 이름은?'.format(1)\n",
    "print(c)"
   ]
  },
  {
   "cell_type": "code",
   "execution_count": 5,
   "id": "14f9e0cd",
   "metadata": {},
   "outputs": [
    {
     "name": "stdout",
     "output_type": "stream",
     "text": [
      "1 + 2 = 3\n"
     ]
    }
   ],
   "source": [
    "a, b= 1, 2\n",
    "c = '{} + {} = {}'.format(a, b, a+b)\n",
    "print(c)"
   ]
  },
  {
   "cell_type": "code",
   "execution_count": 6,
   "id": "4eeb6c7c",
   "metadata": {},
   "outputs": [
    {
     "name": "stdout",
     "output_type": "stream",
     "text": [
      "나는 2022년 까지 인천에 살았어요.\n"
     ]
    }
   ],
   "source": [
    "str = '나는 {year}년 까지 {area}에 살았어요.'.format(year = 2022, area = '인천')\n",
    "print(str)"
   ]
  },
  {
   "cell_type": "code",
   "execution_count": 7,
   "id": "6bc185e9",
   "metadata": {},
   "outputs": [
    {
     "name": "stdout",
     "output_type": "stream",
     "text": [
      "나는 {2022}년 까지 인천에 살았어요.\n"
     ]
    }
   ],
   "source": [
    "str = '나는 {{{year}}}년 까지 {area}에 살았어요.'.format(year = 2022, area = '인천')\n",
    "print(str)"
   ]
  },
  {
   "cell_type": "code",
   "execution_count": 2,
   "id": "7e634d6d",
   "metadata": {},
   "outputs": [
    {
     "data": {
      "text/plain": [
       "'B..o..24..31'"
      ]
     },
     "execution_count": 2,
     "metadata": {},
     "output_type": "execute_result"
    }
   ],
   "source": [
    "my = ['Box', (24, 31)] \n",
    "'{0[0]}..{0[1]}..{1[0]}..{1[1]}'.format(*my)"
   ]
  },
  {
   "cell_type": "code",
   "execution_count": 5,
   "id": "3fc409d0",
   "metadata": {},
   "outputs": [
    {
     "data": {
      "text/plain": [
       "'toy = Robot, price = 3500'"
      ]
     },
     "execution_count": 5,
     "metadata": {},
     "output_type": "execute_result"
    }
   ],
   "source": [
    "d = {'toy': 'Robot', 'price': 3500} \n",
    "'toy = {0[toy]}, price = {0[price]}'.format(d) "
   ]
  },
  {
   "cell_type": "code",
   "execution_count": 1,
   "id": "7312f026",
   "metadata": {},
   "outputs": [
    {
     "name": "stdout",
     "output_type": "stream",
     "text": [
      "나는 2022년 까지 인천에 살았어요.\n"
     ]
    }
   ],
   "source": [
    "str = '나는 %d년 까지 %s에 살았어요.'%(2022, '인천')\n",
    "print(str)"
   ]
  },
  {
   "cell_type": "markdown",
   "id": "b28637df",
   "metadata": {},
   "source": [
    "format함수를 사용하지 않을 경우 %를 사용한다."
   ]
  },
  {
   "cell_type": "code",
   "execution_count": 12,
   "id": "4254e5e0",
   "metadata": {},
   "outputs": [
    {
     "name": "stdout",
     "output_type": "stream",
     "text": [
      "왼쪽 정렬 예제 |x                   |\n",
      "오른쪽 정렬 예제 |                   x|\n",
      "중앙 정렬 예제 |         x          |\n"
     ]
    }
   ],
   "source": [
    "str = '왼쪽 정렬 예제 |{:<20}|'.format('x') #20자릿수\n",
    "print(str)\n",
    "str = '오른쪽 정렬 예제 |{:>20}|'.format('x') #20자릿수\n",
    "print(str)\n",
    "str = '중앙 정렬 예제 |{:^20}|'.format('x') #20자릿수\n",
    "print(str)"
   ]
  },
  {
   "cell_type": "code",
   "execution_count": 13,
   "id": "9af6252b",
   "metadata": {},
   "outputs": [
    {
     "name": "stdout",
     "output_type": "stream",
     "text": [
      "나는 2022년 까지 인천에 살았어요.\n"
     ]
    }
   ],
   "source": [
    "year, area = 2022, '인천'\n",
    "str = f'나는 {year}년 까지 {area}에 살았어요.'\n",
    "print(str)"
   ]
  },
  {
   "cell_type": "markdown",
   "id": "732b17bf",
   "metadata": {},
   "source": [
    "위의 문법은 .format와 같으나 속도는 더욱 빠른 f-string라고 한다."
   ]
  },
  {
   "cell_type": "code",
   "execution_count": 13,
   "id": "ae81b185",
   "metadata": {},
   "outputs": [
    {
     "name": "stdout",
     "output_type": "stream",
     "text": [
      "2\n",
      "3\n"
     ]
    },
    {
     "data": {
      "text/plain": [
       "8"
      ]
     },
     "execution_count": 13,
     "metadata": {},
     "output_type": "execute_result"
    }
   ],
   "source": [
    "def exp(a, b):\n",
    "    return int(a)**int(b)\n",
    "exp(input(), input())"
   ]
  },
  {
   "cell_type": "code",
   "execution_count": 10,
   "id": "cb1107a2",
   "metadata": {},
   "outputs": [
    {
     "name": "stdout",
     "output_type": "stream",
     "text": [
      "5\n",
      "hi\n",
      "hi\n",
      "hi\n",
      "hi\n",
      "hi\n"
     ]
    }
   ],
   "source": [
    "def greet3(num):\n",
    "    for i in range(int(num)):\n",
    "        print('hi')\n",
    "greet3(input())"
   ]
  },
  {
   "cell_type": "markdown",
   "id": "9c10b73f",
   "metadata": {},
   "source": [
    "a/b, 몫 - \n",
    "a//b, 몫(정수) - \n",
    "a%b, 나머지"
   ]
  },
  {
   "cell_type": "code",
   "execution_count": 34,
   "id": "eb19d693",
   "metadata": {},
   "outputs": [
    {
     "name": "stdout",
     "output_type": "stream",
     "text": [
      "3\n",
      "4\n",
      "7\n"
     ]
    }
   ],
   "source": [
    "def bet_sum(a, b):\n",
    "    sum = 0\n",
    "    for i in range(a+1, b):\n",
    "        sum += i\n",
    "        print(i)\n",
    "    print(sum)\n",
    "bet_sum(2, 5)"
   ]
  },
  {
   "cell_type": "code",
   "execution_count": 2,
   "id": "5a808b52",
   "metadata": {},
   "outputs": [
    {
     "data": {
      "text/plain": [
       "float"
      ]
     },
     "execution_count": 2,
     "metadata": {},
     "output_type": "execute_result"
    }
   ],
   "source": [
    "type(3)\n",
    "type(3.1)"
   ]
  },
  {
   "cell_type": "markdown",
   "id": "3616facc",
   "metadata": {},
   "source": [
    "파이썬에선 double는 사용하지 않는다. 대신 float을 사용."
   ]
  },
  {
   "cell_type": "code",
   "execution_count": 3,
   "id": "382d7234",
   "metadata": {},
   "outputs": [
    {
     "name": "stdout",
     "output_type": "stream",
     "text": [
      "1_2_3_"
     ]
    }
   ],
   "source": [
    "for i in [1,2,3]:\n",
    "    print(i, end='_')"
   ]
  },
  {
   "cell_type": "markdown",
   "id": "77f25c52",
   "metadata": {},
   "source": [
    "for i in [1,2,3]: \\n\n",
    "    print(i, 매개변수='인자')"
   ]
  }
 ],
 "metadata": {
  "kernelspec": {
   "display_name": "Python 3 (ipykernel)",
   "language": "python",
   "name": "python3"
  },
  "language_info": {
   "codemirror_mode": {
    "name": "ipython",
    "version": 3
   },
   "file_extension": ".py",
   "mimetype": "text/x-python",
   "name": "python",
   "nbconvert_exporter": "python",
   "pygments_lexer": "ipython3",
   "version": "3.9.12"
  }
 },
 "nbformat": 4,
 "nbformat_minor": 5
}
