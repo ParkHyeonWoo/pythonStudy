{
 "cells": [
  {
   "cell_type": "markdown",
   "id": "ae99901c",
   "metadata": {},
   "source": [
    "happy와  'happy'는 다르다. 전자는 정의되지 않은 인스턴스, 후자는 정의된 인스턴스로 볼 수 있다. 단, 배열의 경우엔 []만으로도 정의될 수 있다."
   ]
  },
  {
   "cell_type": "code",
   "execution_count": 3,
   "id": "e3f37c31",
   "metadata": {},
   "outputs": [
    {
     "data": {
      "text/plain": [
       "list"
      ]
     },
     "execution_count": 3,
     "metadata": {},
     "output_type": "execute_result"
    }
   ],
   "source": [
    "type([1,2,3])"
   ]
  },
  {
   "cell_type": "code",
   "execution_count": 4,
   "id": "4d8c1be6",
   "metadata": {},
   "outputs": [
    {
     "data": {
      "text/plain": [
       "[1, 2, [3, 4], ['happy']]"
      ]
     },
     "execution_count": 4,
     "metadata": {},
     "output_type": "execute_result"
    }
   ],
   "source": [
    "[1,2,[3,4],['happy']]"
   ]
  },
  {
   "cell_type": "code",
   "execution_count": 6,
   "id": "c1fcc75f",
   "metadata": {},
   "outputs": [
    {
     "name": "stdout",
     "output_type": "stream",
     "text": [
      "[1, 2, 3, 1, 2, 3]\n"
     ]
    }
   ],
   "source": [
    "#st = [1,2,3]+[4,5]\n",
    "st = [1,2,3]*2\n",
    "print(st)"
   ]
  },
  {
   "cell_type": "markdown",
   "id": "f0f6bb95",
   "metadata": {},
   "source": [
    "위의 경우 기존의 인스턴스를 재활용한 것이 아닌 새로운 인스턴스를 생성한 것이다."
   ]
  },
  {
   "cell_type": "code",
   "execution_count": 7,
   "id": "53bde956",
   "metadata": {},
   "outputs": [
    {
     "data": {
      "text/plain": [
       "5"
      ]
     },
     "execution_count": 7,
     "metadata": {},
     "output_type": "execute_result"
    }
   ],
   "source": [
    "len([1,2,3,4,5])"
   ]
  },
  {
   "cell_type": "code",
   "execution_count": 11,
   "id": "d5c6020b",
   "metadata": {},
   "outputs": [
    {
     "name": "stdout",
     "output_type": "stream",
     "text": [
      "3\n",
      "3\n",
      "3\n"
     ]
    },
    {
     "data": {
      "text/plain": [
       "[1, 2, 4]"
      ]
     },
     "execution_count": 11,
     "metadata": {},
     "output_type": "execute_result"
    }
   ],
   "source": [
    "st = [1,2,3]\n",
    "length = len(st)\n",
    "print(length)\n",
    "print(st[length-1])\n",
    "print(st[-1])\n",
    "st[-1] = 4\n",
    "st"
   ]
  },
  {
   "cell_type": "code",
   "execution_count": 12,
   "id": "982e0d9e",
   "metadata": {},
   "outputs": [
    {
     "name": "stdout",
     "output_type": "stream",
     "text": [
      "1\n",
      "2\n",
      "3\n",
      "4\n"
     ]
    }
   ],
   "source": [
    "st = [1,2,3,4]\n",
    "for i in range(len(st)):\n",
    "    print(st[i])"
   ]
  },
  {
   "cell_type": "code",
   "execution_count": 17,
   "id": "56ca620f",
   "metadata": {},
   "outputs": [
    {
     "name": "stdout",
     "output_type": "stream",
     "text": [
      "4\n",
      "3\n",
      "2\n",
      "1\n"
     ]
    }
   ],
   "source": [
    "st = [1,2,3,4]\n",
    "for i in range(1, len(st)+1):\n",
    "    print(st[-i])"
   ]
  },
  {
   "cell_type": "code",
   "execution_count": 21,
   "id": "ba5e86c2",
   "metadata": {},
   "outputs": [
    {
     "name": "stdout",
     "output_type": "stream",
     "text": [
      "[2, 3, 4, 5]\n"
     ]
    }
   ],
   "source": [
    "st = [1,2,3,4]\n",
    "for i in range(len(st)):\n",
    "    st[i] += 1\n",
    "print(st)"
   ]
  },
  {
   "cell_type": "code",
   "execution_count": 20,
   "id": "d206ebf8",
   "metadata": {},
   "outputs": [
    {
     "name": "stdout",
     "output_type": "stream",
     "text": [
      "[4, 2, 3, 1]\n"
     ]
    }
   ],
   "source": [
    "st = [1,2,3,4]\n",
    "#st[0], st[-1] = sr[-1], st[0]\n",
    "temp = st[0]\n",
    "st[0] = st[-1]\n",
    "st[-1] = temp\n",
    "print(st)"
   ]
  },
  {
   "cell_type": "code",
   "execution_count": 23,
   "id": "bdecad2c",
   "metadata": {},
   "outputs": [
    {
     "name": "stdout",
     "output_type": "stream",
     "text": [
      "[3, 4]\n"
     ]
    }
   ],
   "source": [
    "st = [1,2,3,4,5]\n",
    "stA = st[2:4] #range(2, 4)\n",
    "print(stA)"
   ]
  },
  {
   "cell_type": "code",
   "execution_count": 24,
   "id": "ce198f73",
   "metadata": {},
   "outputs": [
    {
     "name": "stdout",
     "output_type": "stream",
     "text": [
      "[1, 2, 0, 0, 0, 0, 5]\n"
     ]
    }
   ],
   "source": [
    "st = [1,2,3,4,5]\n",
    "st[2:4] = [0,0,0,0]\n",
    "print(st)"
   ]
  },
  {
   "cell_type": "code",
   "execution_count": 25,
   "id": "116022db",
   "metadata": {},
   "outputs": [
    {
     "name": "stdout",
     "output_type": "stream",
     "text": [
      "[0, 0, 0, 0, 5]\n"
     ]
    }
   ],
   "source": [
    "st = [1,2,3,4,5]\n",
    "st[0:4] = [0,0,0,0]\n",
    "print(st)"
   ]
  },
  {
   "cell_type": "code",
   "execution_count": 26,
   "id": "4ff10c8a",
   "metadata": {},
   "outputs": [
    {
     "name": "stdout",
     "output_type": "stream",
     "text": [
      "[0]\n"
     ]
    }
   ],
   "source": [
    "st = [1,2,3,4,5]\n",
    "st[:] = [0] #배열의 처음부터 끝까지\n",
    "print(st)"
   ]
  },
  {
   "cell_type": "code",
   "execution_count": 33,
   "id": "429c3391",
   "metadata": {},
   "outputs": [
    {
     "name": "stdout",
     "output_type": "stream",
     "text": [
      "3072474565312\n",
      "[]\n",
      "3072474565312\n"
     ]
    }
   ],
   "source": [
    "st = [1,2,3,4,5]\n",
    "print(id(st))\n",
    "st[:] = [] #리스트 전체 내용 삭제\n",
    "print(st)\n",
    "print(id(st))"
   ]
  },
  {
   "cell_type": "markdown",
   "id": "f2b4f8c9",
   "metadata": {},
   "source": [
    "id -> 참조값 출력, 값을 확인하면 인스턴스가 들어왔을 때와 아닐 때와 다르지 않음을 알 수 있다."
   ]
  },
  {
   "cell_type": "code",
   "execution_count": 34,
   "id": "a10581f7",
   "metadata": {},
   "outputs": [
    {
     "name": "stdout",
     "output_type": "stream",
     "text": [
      "[1, 3, 5]\n"
     ]
    }
   ],
   "source": [
    "st = [1,2,3,4,5,6]\n",
    "stA = st[0:5:2] #range(5)에서 0번째 부터 2칸씩 건너뛰면서\n",
    "print(stA)"
   ]
  },
  {
   "cell_type": "code",
   "execution_count": 36,
   "id": "22d0cdbf",
   "metadata": {},
   "outputs": [
    {
     "name": "stdout",
     "output_type": "stream",
     "text": [
      "[1, 3, 5]\n"
     ]
    }
   ],
   "source": [
    "st = [1,2,3,4,5]\n",
    "st[1:4] = [3]\n",
    "print(st)"
   ]
  },
  {
   "cell_type": "code",
   "execution_count": 58,
   "id": "17136427",
   "metadata": {},
   "outputs": [
    {
     "name": "stdout",
     "output_type": "stream",
     "text": [
      "[1, 2, 3, 3.5, 4, 5]\n"
     ]
    }
   ],
   "source": [
    "st = [1,2,3,4,5]\n",
    "#st[3:] = [3.5, 4, 5]\n",
    "st[3:3] = [3.5]\n",
    "print(st)"
   ]
  },
  {
   "cell_type": "code",
   "execution_count": 43,
   "id": "936cb1b7",
   "metadata": {},
   "outputs": [
    {
     "name": "stdout",
     "output_type": "stream",
     "text": [
      "[1, 5]\n"
     ]
    }
   ],
   "source": [
    "st = [1,2,3,4,5]\n",
    "st[1:4] = []\n",
    "print(st)"
   ]
  },
  {
   "cell_type": "code",
   "execution_count": 44,
   "id": "a15eb774",
   "metadata": {},
   "outputs": [
    {
     "name": "stdout",
     "output_type": "stream",
     "text": [
      "[]\n"
     ]
    }
   ],
   "source": [
    "st = [1,2,3,4,5]\n",
    "st[:] = []\n",
    "print(st)"
   ]
  },
  {
   "cell_type": "code",
   "execution_count": 59,
   "id": "745cca24",
   "metadata": {},
   "outputs": [
    {
     "name": "stdout",
     "output_type": "stream",
     "text": [
      "[1, 3, 5, 7, 9]\n"
     ]
    }
   ],
   "source": [
    "st = [1,2,3,4,5,6,7,8,9,10]\n",
    "stA = st[::2] # => st[0:10:2]\n",
    "print(stA)"
   ]
  },
  {
   "cell_type": "code",
   "execution_count": 60,
   "id": "474b92b0",
   "metadata": {},
   "outputs": [
    {
     "name": "stdout",
     "output_type": "stream",
     "text": [
      "[2, 4, 6, 8, 10]\n"
     ]
    }
   ],
   "source": [
    "st = [1,2,3,4,5,6,7,8,9,10]\n",
    "stA = st[1::2] # => st[1:10:2]\n",
    "print(stA)"
   ]
  },
  {
   "cell_type": "code",
   "execution_count": 61,
   "id": "0cf58331",
   "metadata": {},
   "outputs": [
    {
     "name": "stdout",
     "output_type": "stream",
     "text": [
      "m\n"
     ]
    }
   ],
   "source": [
    "str = 'simple'\n",
    "print(str[2])"
   ]
  },
  {
   "cell_type": "code",
   "execution_count": 62,
   "id": "3c57dd84",
   "metadata": {},
   "outputs": [
    {
     "name": "stdout",
     "output_type": "stream",
     "text": [
      "mpl\n"
     ]
    }
   ],
   "source": [
    "str = 'simple'\n",
    "print(str[2:5])"
   ]
  },
  {
   "cell_type": "markdown",
   "id": "442e141c",
   "metadata": {},
   "source": [
    "문자열도 리스트처럼 취급하여 값을 뽑아 낼 순 있으나 결국 문자열은 상수이기 때문에 str[0] = 't' 와 같이 값을 변경 할 순 없다."
   ]
  },
  {
   "cell_type": "code",
   "execution_count": 64,
   "id": "258756cf",
   "metadata": {},
   "outputs": [
    {
     "name": "stdout",
     "output_type": "stream",
     "text": [
      "h a p p y 5\n"
     ]
    }
   ],
   "source": [
    "str =  'happy'\n",
    "for i in str:\n",
    "    print(i, end = ' ')\n",
    "print(len(str))"
   ]
  },
  {
   "cell_type": "code",
   "execution_count": 15,
   "id": "a8cf39ab",
   "metadata": {},
   "outputs": [],
   "source": [
    "def sum_all(lst):\n",
    "    sum = 0\n",
    "    nlst = lst[:]\n",
    "    for i in range(len(nlst)):\n",
    "        sum += nlst[i]\n",
    "    return sum"
   ]
  },
  {
   "cell_type": "code",
   "execution_count": 16,
   "id": "ff84a2f6",
   "metadata": {},
   "outputs": [
    {
     "data": {
      "text/plain": [
       "15"
      ]
     },
     "execution_count": 16,
     "metadata": {},
     "output_type": "execute_result"
    }
   ],
   "source": [
    "lst = [1,2,3,4,5]\n",
    "sum_all(lst)"
   ]
  },
  {
   "cell_type": "code",
   "execution_count": 69,
   "id": "91c6e2a3",
   "metadata": {},
   "outputs": [],
   "source": [
    "def sum_reverse(lst):\n",
    "    nlst = lst[:]\n",
    "    for i in range(len(nlst)):\n",
    "        print(nlst[(i+1)*-1], end=' ')"
   ]
  },
  {
   "cell_type": "code",
   "execution_count": 73,
   "id": "8147c797",
   "metadata": {},
   "outputs": [
    {
     "name": "stdout",
     "output_type": "stream",
     "text": [
      "5 4 3 2 1 "
     ]
    }
   ],
   "source": [
    "lst2 = [1,2,3,4,5]\n",
    "sum_reverse(lst2)"
   ]
  },
  {
   "cell_type": "code",
   "execution_count": 75,
   "id": "2e547371",
   "metadata": {},
   "outputs": [
    {
     "name": "stdout",
     "output_type": "stream",
     "text": [
      "[5, 4, 3, 2, 1]\n"
     ]
    }
   ],
   "source": [
    "lst2 = [1,2,3,4,5]\n",
    "lst2.reverse()\n",
    "print(lst2)"
   ]
  },
  {
   "cell_type": "code",
   "execution_count": 71,
   "id": "ff217dcc",
   "metadata": {},
   "outputs": [
    {
     "name": "stdout",
     "output_type": "stream",
     "text": [
      "c b a "
     ]
    }
   ],
   "source": [
    "lst2 = 'abc'\n",
    "sum_reverse(lst2)"
   ]
  },
  {
   "cell_type": "markdown",
   "id": "47bff1f1",
   "metadata": {},
   "source": [
    "list.min(), .max() => 최소 최대 / list.remove(a) => 리스트에서 a를 찾아서 삭제(리턴값 없음) / list.pop(a) => 인덱스 값 a의 위치에 저장된 데이터 삭제(리턴값 존재) / list.append(a) => list 끝에 a 추가 / list.extend([a, b]) => list 끝에 [a, b]를 추가 / list.insert(a, b) => a 위치에 b를 저장, 교체가 아닌 새로운 자리를 만들어 추가하는 것. / list.clear()  => list의 내용을 전부 삭제 / list.count(a) => a가 등장하는 횟수 / list.index(a) => 처음 a가 등장하는 위치의 인덱스 값"
   ]
  },
  {
   "cell_type": "code",
   "execution_count": 143,
   "id": "7a058370",
   "metadata": {},
   "outputs": [],
   "source": [
    "def lst_push(lst):\n",
    "    nlst = lst[:]\n",
    "    temp = []\n",
    "    for i in range(len(nlst)):\n",
    "        temp.append(nlst[i])\n",
    "        print(temp)"
   ]
  },
  {
   "cell_type": "code",
   "execution_count": 144,
   "id": "64a98ad7",
   "metadata": {},
   "outputs": [
    {
     "name": "stdout",
     "output_type": "stream",
     "text": [
      "[1]\n",
      "[1, 2]\n",
      "[1, 2, 3]\n",
      "[1, 2, 3, 4]\n",
      "[1, 2, 3, 4, 5]\n"
     ]
    }
   ],
   "source": [
    "lst = [1,2,3,4,5]\n",
    "lst_push(lst)"
   ]
  },
  {
   "cell_type": "code",
   "execution_count": 116,
   "id": "ceb7ef4f",
   "metadata": {},
   "outputs": [],
   "source": [
    "def lst_pop(lst):\n",
    "    nlst = lst[:]\n",
    "    for i in range(len(nlst)):\n",
    "        nlst.pop()\n",
    "        print(nlst)"
   ]
  },
  {
   "cell_type": "code",
   "execution_count": 117,
   "id": "99c02a70",
   "metadata": {},
   "outputs": [
    {
     "name": "stdout",
     "output_type": "stream",
     "text": [
      "[1, 2, 3, 4]\n",
      "[1, 2, 3]\n",
      "[1, 2]\n",
      "[1]\n",
      "[]\n"
     ]
    }
   ],
   "source": [
    "lst = [1,2,3,4,5]\n",
    "lst_pop(lst)"
   ]
  },
  {
   "cell_type": "code",
   "execution_count": 142,
   "id": "c4740e38",
   "metadata": {},
   "outputs": [
    {
     "name": "stdout",
     "output_type": "stream",
     "text": [
      "[1, 2, 3, 4, 5, 6, 7, 8, 9, 10]\n",
      "[]\n"
     ]
    }
   ],
   "source": [
    "temp = []\n",
    "for i in range(10):\n",
    "    temp.append(i+1)\n",
    "print(temp)\n",
    "for j in range(len(temp)):\n",
    "    temp.pop()\n",
    "print(temp)"
   ]
  },
  {
   "cell_type": "code",
   "execution_count": 147,
   "id": "eea80e32",
   "metadata": {},
   "outputs": [
    {
     "name": "stdout",
     "output_type": "stream",
     "text": [
      "[]\n"
     ]
    }
   ],
   "source": [
    "lst = [1,2,3,4,5]\n",
    "#lst.clear()\n",
    "lst[:] = []\n",
    "print(lst)"
   ]
  },
  {
   "cell_type": "markdown",
   "id": "54550f3b",
   "metadata": {},
   "source": [
    ".lower() => 모든 문자를 소문자로 / .upper() => 모든 문자를 대문자로"
   ]
  },
  {
   "cell_type": "markdown",
   "id": "dd38dab6",
   "metadata": {},
   "source": [
    ".lstrip => 앞(왼)쪽 공백 제거 / .rstrip => 뒤(오른)쪽 공백 제거"
   ]
  },
  {
   "cell_type": "markdown",
   "id": "8e548545",
   "metadata": {},
   "source": [
    ".replace('a', 'b', c) => c번째 'a'들을 'b'로 변경(대상이 전체일 경우 c는 제외가능)"
   ]
  },
  {
   "cell_type": "markdown",
   "id": "548e8d5b",
   "metadata": {},
   "source": [
    ".split('a') => a를 기준으로 문자열을 쪼개 리스트에 담는다."
   ]
  },
  {
   "cell_type": "markdown",
   "id": "e2bbca49",
   "metadata": {},
   "source": [
    "// 알다시피 문자열은 상수이기 때문에 변환된 인스턴스를 새롭게 넣어 새로운 참조값을 만드는 과정을 거친다."
   ]
  },
  {
   "cell_type": "code",
   "execution_count": 165,
   "id": "f3bcf697",
   "metadata": {},
   "outputs": [],
   "source": [
    "def lst_split(str):\n",
    "    return str.split('-')[0]"
   ]
  },
  {
   "cell_type": "code",
   "execution_count": 166,
   "id": "370a65fd",
   "metadata": {},
   "outputs": [
    {
     "data": {
      "text/plain": [
       "'123456'"
      ]
     },
     "execution_count": 166,
     "metadata": {},
     "output_type": "execute_result"
    }
   ],
   "source": [
    "lst = lst_split('123456-78910')\n",
    "lst"
   ]
  },
  {
   "cell_type": "markdown",
   "id": "810cbcbb",
   "metadata": {},
   "source": [
    "if 조건식:  \n",
    "    실행문    \n",
    "elif 조건식:  \n",
    "    실행문  \n",
    "else:  \n",
    "    실행문"
   ]
  },
  {
   "cell_type": "markdown",
   "id": "035b9f36",
   "metadata": {},
   "source": [
    "and, or, not -> 논리 연산자는 사용하지 않는다."
   ]
  },
  {
   "cell_type": "markdown",
   "id": "3eb18001",
   "metadata": {},
   "source": [
    "== -> 문자열 비교는 기본, 리스트 간의 내용 비교까지 가능하다. // 결과값은 참, 거짓으로 나온다."
   ]
  },
  {
   "cell_type": "markdown",
   "id": "1ddd878f",
   "metadata": {},
   "source": [
    ".find('a') => a 문자열을 찾아서 리턴값으로 참(해당 위치의 인덱스 값), 거짓(-1)을 반환한다.  \n",
    ".find(찾을 문자, 시작 인덱스) : 시작 인덱스가 0일 경우 생략 가능  \n",
    ".find(찾을 문자, 시작 인덱스, 마지막 인덱스) : 마지막 인덱스가 가장 마지막 인덱스일 경우 생략 가능"
   ]
  },
  {
   "cell_type": "code",
   "execution_count": 169,
   "id": "08d88cac",
   "metadata": {},
   "outputs": [],
   "source": [
    "s = \"Tomato spaghetti\""
   ]
  },
  {
   "cell_type": "code",
   "execution_count": 173,
   "id": "8cde5de4",
   "metadata": {},
   "outputs": [
    {
     "name": "stdout",
     "output_type": "stream",
     "text": [
      "있습니다.\n"
     ]
    }
   ],
   "source": [
    "if s.find(\"ghe\") != -1:\n",
    "    print(\"있습니다.\")\n",
    "else:\n",
    "    print(\"없습니다.\")"
   ]
  },
  {
   "cell_type": "code",
   "execution_count": 172,
   "id": "a3bb184a",
   "metadata": {},
   "outputs": [
    {
     "name": "stdout",
     "output_type": "stream",
     "text": [
      "있습니다.\n"
     ]
    }
   ],
   "source": [
    "if \"ghe\" in s:\n",
    "    print(\"있습니다.\")\n",
    "else:   \n",
    "    print(\"없습니다.\")"
   ]
  },
  {
   "cell_type": "markdown",
   "id": "4057ede3",
   "metadata": {},
   "source": [
    "숫자의 경우.  \n",
    "True : 0이 아닌 값  \n",
    "False : 0  \n",
    "이 외에 비어 있는 값의 경우도 False이다, 반대의 경우는 True"
   ]
  },
  {
   "cell_type": "code",
   "execution_count": 174,
   "id": "0e7d312a",
   "metadata": {},
   "outputs": [],
   "source": [
    "def main(num):\n",
    "    if num >= 0:\n",
    "        print('>= 0')\n",
    "    else:\n",
    "        print('< 0')"
   ]
  },
  {
   "cell_type": "code",
   "execution_count": 177,
   "id": "ae946646",
   "metadata": {},
   "outputs": [
    {
     "name": "stdout",
     "output_type": "stream",
     "text": [
      "5\n",
      ">= 0\n"
     ]
    }
   ],
   "source": [
    "main(int(input()))"
   ]
  },
  {
   "cell_type": "code",
   "execution_count": 186,
   "id": "31e616ad",
   "metadata": {},
   "outputs": [],
   "source": [
    "def main_2(num):\n",
    "    if 1 < num < 5:\n",
    "        print('1< num < 5')\n",
    "    else:\n",
    "        print('none')"
   ]
  },
  {
   "cell_type": "code",
   "execution_count": 187,
   "id": "d2eae662",
   "metadata": {},
   "outputs": [
    {
     "name": "stdout",
     "output_type": "stream",
     "text": [
      "3\n",
      "1< num < 5\n"
     ]
    }
   ],
   "source": [
    "main_2(int(input()))"
   ]
  },
  {
   "cell_type": "code",
   "execution_count": 188,
   "id": "b79ab50f",
   "metadata": {},
   "outputs": [],
   "source": [
    "def main_3(num):\n",
    "    if num < 3 or num > 10:\n",
    "        print('num < 3 or num > 10')\n",
    "    else:\n",
    "        print('none')"
   ]
  },
  {
   "cell_type": "code",
   "execution_count": 190,
   "id": "c3bd0041",
   "metadata": {},
   "outputs": [
    {
     "name": "stdout",
     "output_type": "stream",
     "text": [
      "11\n",
      "num < 3 or num > 10\n"
     ]
    }
   ],
   "source": [
    "main_3(int(input()))"
   ]
  },
  {
   "cell_type": "code",
   "execution_count": 198,
   "id": "f6c158c0",
   "metadata": {},
   "outputs": [],
   "source": [
    "def main_4(num):\n",
    "    if num % 2 == 0:\n",
    "        if num % 3 != 0:\n",
    "            print('%2')\n",
    "        else:\n",
    "            print('none')\n",
    "    else:\n",
    "        print('none')"
   ]
  },
  {
   "cell_type": "code",
   "execution_count": 199,
   "id": "23f3113b",
   "metadata": {},
   "outputs": [
    {
     "name": "stdout",
     "output_type": "stream",
     "text": [
      "6\n",
      "none\n"
     ]
    }
   ],
   "source": [
    "main_4(int(input()))"
   ]
  },
  {
   "cell_type": "code",
   "execution_count": 3,
   "id": "1ca4d543",
   "metadata": {},
   "outputs": [],
   "source": [
    "def main_5(num):\n",
    "    if num < 0:\n",
    "        print('< 0')\n",
    "    elif 0 <= num < 10:\n",
    "        print('0 <= num < 10')\n",
    "    elif 10 <= num < 20:\n",
    "        print('10 <= num < 20')\n",
    "    elif num >= 20:\n",
    "        print('num >= 20')\n",
    "    else:\n",
    "        print('none')"
   ]
  },
  {
   "cell_type": "code",
   "execution_count": 7,
   "id": "f7363020",
   "metadata": {},
   "outputs": [
    {
     "name": "stdout",
     "output_type": "stream",
     "text": [
      "15\n",
      "10 <= num < 20\n"
     ]
    }
   ],
   "source": [
    "main_5(int(input()))"
   ]
  }
 ],
 "metadata": {
  "kernelspec": {
   "display_name": "Python 3 (ipykernel)",
   "language": "python",
   "name": "python3"
  },
  "language_info": {
   "codemirror_mode": {
    "name": "ipython",
    "version": 3
   },
   "file_extension": ".py",
   "mimetype": "text/x-python",
   "name": "python",
   "nbconvert_exporter": "python",
   "pygments_lexer": "ipython3",
   "version": "3.9.12"
  }
 },
 "nbformat": 4,
 "nbformat_minor": 5
}
