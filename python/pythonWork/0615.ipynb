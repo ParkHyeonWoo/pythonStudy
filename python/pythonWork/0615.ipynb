{
 "cells": [
  {
   "cell_type": "markdown",
   "id": "e00528be",
   "metadata": {},
   "source": [
    "id(a) : a의 주소값."
   ]
  },
  {
   "cell_type": "markdown",
   "id": "b1ad51e7",
   "metadata": {},
   "source": [
    "for 변수 in 반복 범위:  \n",
    "실행문.  \n",
    "  \n",
    "while 반복 조건:  \n",
    "조건이 True인 경우 실행할 실행문."
   ]
  },
  {
   "cell_type": "code",
   "execution_count": 3,
   "id": "9a29b7fb",
   "metadata": {},
   "outputs": [
    {
     "name": "stdout",
     "output_type": "stream",
     "text": [
      "sum = 55 "
     ]
    }
   ],
   "source": [
    "def main():\n",
    "    i = 1\n",
    "    sum = 0\n",
    "    while i < 11:\n",
    "        sum = sum + i\n",
    "        i = i + 1\n",
    "    print(\"sum =\", sum, end = ' ')\n",
    "main()"
   ]
  },
  {
   "cell_type": "markdown",
   "id": "9dd6b7fc",
   "metadata": {},
   "source": [
    "print의 경우 여러 종류의 인자들을 받고 있는 것을 확인 할 수 있는데 다른 문자들과 달리 오버로딩의 과정 없이 여러 종류의 인자를 받을 수 있는 가변 매개 타입이다."
   ]
  },
  {
   "cell_type": "code",
   "execution_count": 5,
   "id": "0a520ffe",
   "metadata": {},
   "outputs": [
    {
     "name": "stdout",
     "output_type": "stream",
     "text": [
      "1 더했을 때의 합 1 \n",
      "2 더했을 때의 합 3 \n",
      "3 더했을 때의 합 6 \n",
      "4 더했을 때의 합 10 \n",
      "5 더했을 때의 합 15 \n",
      "6 더했을 때의 합 21 \n",
      "7 더했을 때의 합 28 \n",
      "8 더했을 때의 합 36 \n",
      "9 더했을 때의 합 45 \n",
      "10 더했을 때의 합 55 \n",
      "11 더했을 때의 합 66 \n",
      "12 더했을 때의 합 78 \n",
      "13 더했을 때의 합 91 \n",
      "14 더했을 때의 합 105 \n"
     ]
    }
   ],
   "source": [
    "def main():\n",
    "    i = 1\n",
    "    sum = 0\n",
    "    while sum <= 100:\n",
    "        sum = sum + i\n",
    "        i = i + 1\n",
    "        print(i-1, \"더했을 때의 합\", sum, end = ' ')\n",
    "        print()\n",
    "main()"
   ]
  },
  {
   "cell_type": "code",
   "execution_count": 28,
   "id": "4b56e704",
   "metadata": {},
   "outputs": [
    {
     "name": "stdout",
     "output_type": "stream",
     "text": [
      "42\n"
     ]
    }
   ],
   "source": [
    "def test():\n",
    "    num = 0\n",
    "    result = 0\n",
    "    while result != 63:\n",
    "        num += 1\n",
    "        result = 3*num/2\n",
    "    print(num)\n",
    "test()"
   ]
  },
  {
   "cell_type": "code",
   "execution_count": 30,
   "id": "7cdcc98f",
   "metadata": {},
   "outputs": [
    {
     "name": "stdout",
     "output_type": "stream",
     "text": [
      "0 1 2 3 4 5 6 7 8 9 10 11 12 13 14 15 16 17 18 19 "
     ]
    }
   ],
   "source": [
    "def main():\n",
    "    i = 0\n",
    "    while True:\n",
    "        print(i, end = ' ')\n",
    "        i = i + 1\n",
    "        if i == 20:\n",
    "            break\n",
    "main()"
   ]
  },
  {
   "cell_type": "code",
   "execution_count": 32,
   "id": "26245b6e",
   "metadata": {},
   "outputs": [
    {
     "name": "stdout",
     "output_type": "stream",
     "text": [
      "1 2 4 5 7 8 10 "
     ]
    }
   ],
   "source": [
    "i = 0\n",
    "while i < 10:\n",
    "    i = i + 1\n",
    "    if i % 3 == 0: \n",
    "        continue\n",
    "    print(i, end = ' ' )"
   ]
  },
  {
   "cell_type": "code",
   "execution_count": 33,
   "id": "06cc03eb",
   "metadata": {
    "scrolled": true
   },
   "outputs": [
    {
     "name": "stdout",
     "output_type": "stream",
     "text": [
      "a b c aa bb cc "
     ]
    }
   ],
   "source": [
    "for i in [1, 2]:\n",
    "    for j in ['a', 'b', 'c']:\n",
    "        print(j * i, end = ' ')"
   ]
  },
  {
   "cell_type": "code",
   "execution_count": 34,
   "id": "754c9731",
   "metadata": {},
   "outputs": [
    {
     "data": {
      "text/plain": [
       "4"
      ]
     },
     "execution_count": 34,
     "metadata": {},
     "output_type": "execute_result"
    }
   ],
   "source": [
    "sr = ['father', 'mother', 'brother']\n",
    "cnt = 0\n",
    "for s in sr:\n",
    "    for c in s:\n",
    "        if c == 'r':\n",
    "            cnt += 1\n",
    "cnt"
   ]
  },
  {
   "cell_type": "code",
   "execution_count": 22,
   "id": "6d9064c4",
   "metadata": {},
   "outputs": [
    {
     "name": "stdout",
     "output_type": "stream",
     "text": [
      "90\n"
     ]
    }
   ],
   "source": [
    "#최소 공배수\n",
    "a, b = 6, 45\n",
    "for i in range(max(a, b), (a*b)+1):\n",
    "    if i%a == 0 and i%b ==0:\n",
    "        print(i)\n",
    "        break"
   ]
  },
  {
   "cell_type": "markdown",
   "id": "62def851",
   "metadata": {},
   "source": [
    "a, b 중 더 큰 숫자부터 a*b의 수까지 for문을 실행한다. 이 때 더 큰 숫자부터 실행하는 이유는 a, b의 배수들 중 공통 부분을 찾는 것이기 때문에 a, b 중 작은 수부터 시작하게 되면 i가 ++1이 되면서 둘 중 큰 수에 도달할 때까지 for문이 헛돌게 되기 때문이다."
   ]
  },
  {
   "cell_type": "code",
   "execution_count": 24,
   "id": "0e8ba920",
   "metadata": {},
   "outputs": [
    {
     "name": "stdout",
     "output_type": "stream",
     "text": [
      "6\n"
     ]
    }
   ],
   "source": [
    "#최대 공약수\n",
    "a, b = 42, 120\n",
    "for i in range(min(a, b), 0, -1):\n",
    "    if a%i == 0 and b%i == 0:\n",
    "        print(i)\n",
    "        break"
   ]
  },
  {
   "cell_type": "markdown",
   "id": "e7e011c6",
   "metadata": {},
   "source": [
    "a, b 중 작은 숫자부터 1까지 -1을 하면서 for문을 실행시킨다. 만약 a%i, b%i의 값이 딱 떨어지는 나머지가 없는 상태(== 0)라면 이 때 사용된 i는 a와 b의 최대 공약수가 된다."
   ]
  },
  {
   "cell_type": "code",
   "execution_count": 29,
   "id": "0c6040b7",
   "metadata": {},
   "outputs": [
    {
     "name": "stdout",
     "output_type": "stream",
     "text": [
      "[2, 3, 4, 5, 7, 8, 9, 10, 11, 13, 14, 15, 16, 17, 19, 20, 21, 22, 23, 25, 26, 27, 28, 29, 31, 32, 33, 34, 35, 37, 38, 39, 40, 41, 43, 44, 45, 46, 47, 49, 50, 51, 52, 53, 55, 56, 57, 58, 59, 61, 62, 63, 64, 65, 67, 68, 69, 70, 71, 73, 74, 75, 76, 77, 79, 80, 81, 82, 83, 85, 86, 87, 88, 89, 91, 92, 93, 94, 95, 97, 98, 99, 100]\n"
     ]
    }
   ],
   "source": [
    "num = 0\n",
    "temp = []\n",
    "while True:\n",
    "    num+=1\n",
    "    if num%2 == 0:\n",
    "        if num%3 == 0:\n",
    "            continue\n",
    "    elif num <= 2:\n",
    "        continue\n",
    "    elif num > 100:\n",
    "        break\n",
    "    temp.append(num)\n",
    "print(temp)"
   ]
  },
  {
   "cell_type": "markdown",
   "id": "aaef52f7",
   "metadata": {},
   "source": [
    "튜플이란? '값이 변하지 않는 객체'이다.  \n",
    "lst = [1,2,3] -> 이것은 mutable(값이 변하는) 객체  \n",
    "lst = (1,2,3) -> 이것은 immutable(값이 변하지 않는) 객체이다.  \n",
    "값이 변하지 않는다는 것은 쓰기와 관련된 기능이 적용되지 않을 뿐 읽기와 관련된 기능을 상관 없다."
   ]
  },
  {
   "cell_type": "markdown",
   "id": "c60bbff9",
   "metadata": {},
   "source": [
    "->튜플의 저장 데이터는 변경할 수 없지만  \n",
    "frns = [('동수', 131120), ('진우', 130312), ('선영', 130904)]  \n",
    "frns[0] = ('준현', 140101)  \n",
    "frns  \n",
    "[('준현', 140101), ('진우', 130312), ('선영', 130904)]  \n",
    "->튜플을 교체하는 것은 가능하다. "
   ]
  },
  {
   "cell_type": "code",
   "execution_count": 39,
   "id": "b73e7940",
   "metadata": {},
   "outputs": [
    {
     "data": {
      "text/plain": [
       "[1, 2, 3]"
      ]
     },
     "execution_count": 39,
     "metadata": {},
     "output_type": "execute_result"
    }
   ],
   "source": [
    "ds = (1,2,3)\n",
    "temp = []\n",
    "for i in range(len(ds)):\n",
    "    temp.append(ds[i])\n",
    "temp"
   ]
  },
  {
   "cell_type": "markdown",
   "id": "f7925631",
   "metadata": {},
   "source": [
    "range(a, b, c) -> a<= 정수 < b, c만큼 증감한다.  \n",
    "구간 설정시 증감의 여부를 잘 확인해야 한다."
   ]
  },
  {
   "cell_type": "code",
   "execution_count": 46,
   "id": "15694510",
   "metadata": {},
   "outputs": [
    {
     "data": {
      "text/plain": [
       "['h', 'e', 'l', 'l', 'o']"
      ]
     },
     "execution_count": 46,
     "metadata": {},
     "output_type": "execute_result"
    }
   ],
   "source": [
    "list((1,2,3)) #튜플을 리스트로\n",
    "list(range(1,5)) #레인지를 리스트로\n",
    "list('hello') #문자열을 리스트로"
   ]
  },
  {
   "cell_type": "code",
   "execution_count": 2,
   "id": "5763c268",
   "metadata": {},
   "outputs": [
    {
     "name": "stdout",
     "output_type": "stream",
     "text": [
      "7\n",
      "7*9=63\n",
      "7*8=56\n",
      "7*7=49\n",
      "7*6=42\n",
      "7*5=35\n",
      "7*4=28\n",
      "7*3=21\n",
      "7*2=14\n",
      "7*1=7\n"
     ]
    }
   ],
   "source": [
    "rng = input()\n",
    "for i in range(int(rng), 0, -1):\n",
    "    for j in range(9, 0, -1):\n",
    "        print(f'{i}*{j}={i*j}')\n",
    "    break"
   ]
  },
  {
   "cell_type": "code",
   "execution_count": 26,
   "id": "4148e7da",
   "metadata": {},
   "outputs": [
    {
     "name": "stdout",
     "output_type": "stream",
     "text": [
      "(1, 2, 3, 4, 5, 6, 7, 8, 9, 10, 11, 12, 13, 14, 15, 16, 17, 18, 19, 20, 21, 22, 23, 24, 25, 26, 27, 28, 29, 30, 31, 32, 33, 34, 35, 36, 37, 38, 39, 40, 41, 42, 43, 44, 45, 46, 47, 48, 49, 50, 51, 52, 53, 54, 55, 56, 57, 58, 59, 60, 61, 62, 63, 64, 65, 66, 67, 68, 69, 70, 71, 72, 73, 74, 75, 76, 77, 78, 79, 80, 81, 82, 83, 84, 85, 86, 87, 88, 89, 90, 91, 92, 93, 94, 95, 96, 97, 98, 99, 100, 99, 98, 97, 96, 95, 94, 93, 92, 91, 90, 89, 88, 87, 86, 85, 84, 83, 82, 81, 80, 79, 78, 77, 76, 75, 74, 73, 72, 71, 70, 69, 68, 67, 66, 65, 64, 63, 62, 61, 60, 59, 58, 57, 56, 55, 54, 53, 52, 51, 50, 49, 48, 47, 46, 45, 44, 43, 42, 41, 40, 39, 38, 37, 36, 35, 34, 33, 32, 31, 30, 29, 28, 27, 26, 25, 24, 23, 22, 21, 20, 19, 18, 17, 16, 15, 14, 13, 12, 11, 10, 9, 8, 7, 6, 5, 4, 3, 2, 1)\n"
     ]
    }
   ],
   "source": [
    "tu = tuple(range(1,100+1)) + tuple(range(100-1,0,-1))\n",
    "print(tu)"
   ]
  },
  {
   "cell_type": "markdown",
   "id": "484fe6af",
   "metadata": {},
   "source": [
    "print(s, sep, end)의 형태를 지니고 있으나 평소 sep, end는 숨겨진 상태이다."
   ]
  },
  {
   "cell_type": "code",
   "execution_count": 30,
   "id": "38e8acb8",
   "metadata": {},
   "outputs": [
    {
     "name": "stdout",
     "output_type": "stream",
     "text": [
      "1 _ 2 _ 3 m^^m "
     ]
    }
   ],
   "source": [
    "print(1, 2, 3, sep = ' _ ', end = ' m^^m ')"
   ]
  },
  {
   "cell_type": "code",
   "execution_count": 39,
   "id": "916e5c15",
   "metadata": {},
   "outputs": [
    {
     "name": "stdout",
     "output_type": "stream",
     "text": [
      "1, 2, 3\n",
      "2, 3, 4\n",
      "3, 4, 5\n"
     ]
    }
   ],
   "source": [
    "for i in range(3):\n",
    "    print(i+1, i+2, i+3, sep = ', ')"
   ]
  },
  {
   "cell_type": "code",
   "execution_count": 41,
   "id": "d70146f5",
   "metadata": {},
   "outputs": [],
   "source": [
    "def who_are_you(name, age = 0): # age의 디폴트 값은 0\n",
    "    print(\"이름:\", name)\n",
    "    print(\"나이:\", age)"
   ]
  },
  {
   "cell_type": "code",
   "execution_count": 42,
   "id": "919ff509",
   "metadata": {},
   "outputs": [
    {
     "name": "stdout",
     "output_type": "stream",
     "text": [
      "이름: 제임스\n",
      "나이: 0\n",
      "이름: 잔느\n",
      "나이: 29\n"
     ]
    }
   ],
   "source": [
    "who_are_you('제임스')\n",
    "who_are_you('잔느', 29)"
   ]
  },
  {
   "cell_type": "markdown",
   "id": "c082f7ac",
   "metadata": {},
   "source": [
    "def who_are_you(name, age = 0): # OK  \n",
    "def who_are_you(age = 0, name): # ERROR"
   ]
  },
  {
   "cell_type": "code",
   "execution_count": 58,
   "id": "a9a68a84",
   "metadata": {},
   "outputs": [],
   "source": [
    "def add(lst):\n",
    "    for i in range(len(lst)):\n",
    "        lst[i]+=1\n",
    "    return lst"
   ]
  },
  {
   "cell_type": "code",
   "execution_count": 59,
   "id": "4a4973b7",
   "metadata": {},
   "outputs": [
    {
     "data": {
      "text/plain": [
       "[2, 3, 4, 5, 6]"
      ]
     },
     "execution_count": 59,
     "metadata": {},
     "output_type": "execute_result"
    }
   ],
   "source": [
    "nlst = [1,2,3,4,5]\n",
    "add(nlst)"
   ]
  },
  {
   "cell_type": "code",
   "execution_count": 69,
   "id": "c8b61374",
   "metadata": {},
   "outputs": [
    {
     "name": "stdout",
     "output_type": "stream",
     "text": [
      "원의 넓이:  94.985\n",
      "원의 둘레:  34.54\n"
     ]
    }
   ],
   "source": [
    "import circle as cc #circle.py 모듈 임포트\n",
    "\n",
    "def cir():\n",
    "    ar = cc.ar_circle(5.5)\n",
    "    print('원의 넓이: ', ar)\n",
    "    ci = cc.ci_circle(5.5)\n",
    "    print('원의 둘레: ', ci)\n",
    "    \n",
    "cir()"
   ]
  },
  {
   "cell_type": "code",
   "execution_count": 72,
   "id": "653cd0e6",
   "metadata": {},
   "outputs": [
    {
     "name": "stdout",
     "output_type": "stream",
     "text": [
      "원의 넓이:  94.985\n",
      "원의 둘레:  34.54\n"
     ]
    }
   ],
   "source": [
    "from circle import ar_circle, ci_circle as c_c\n",
    "\n",
    "def cir():\n",
    "    ar = ar_circle(5.5)\n",
    "    print('원의 넓이: ', ar)\n",
    "    ci = c_c(5.5)\n",
    "    print('원의 둘레: ', ci)\n",
    "    \n",
    "cir()"
   ]
  },
  {
   "cell_type": "markdown",
   "id": "e800fb0e",
   "metadata": {},
   "source": [
    "빌트인(built-in) 함수 : import 선언 없이 언제든 호출 가능한 함수. ex) print, input, math ..."
   ]
  },
  {
   "cell_type": "code",
   "execution_count": 73,
   "id": "b1f4eda2",
   "metadata": {},
   "outputs": [
    {
     "data": {
      "text/plain": [
       "<function print>"
      ]
     },
     "execution_count": 73,
     "metadata": {},
     "output_type": "execute_result"
    }
   ],
   "source": [
    "print"
   ]
  },
  {
   "cell_type": "code",
   "execution_count": 74,
   "id": "0be5bd22",
   "metadata": {},
   "outputs": [
    {
     "data": {
      "text/plain": [
       "10.0"
      ]
     },
     "execution_count": 74,
     "metadata": {},
     "output_type": "execute_result"
    }
   ],
   "source": [
    "import math\n",
    "math.fabs(-10)"
   ]
  },
  {
   "cell_type": "code",
   "execution_count": 119,
   "id": "2d3a2d81",
   "metadata": {},
   "outputs": [
    {
     "data": {
      "text/plain": [
       "{'이름': '이순둥', '나이': 19, '직업': '학생', '키': 175.8}"
      ]
     },
     "execution_count": 119,
     "metadata": {},
     "output_type": "execute_result"
    }
   ],
   "source": [
    "dc = { # key(중복 불가):value(중복 가능)\n",
    "'이름': '이순둥', # 값이 문자열\n",
    "'나이': 19, # 값이 정수\n",
    "'직업': '학생', # 값이 문자열\n",
    "'키': 175.8 # 값이 실수\n",
    "}\n",
    "\n",
    "dc"
   ]
  },
  {
   "cell_type": "code",
   "execution_count": 121,
   "id": "7288ceb4",
   "metadata": {},
   "outputs": [
    {
     "data": {
      "text/plain": [
       "{'x': 24}"
      ]
     },
     "execution_count": 121,
     "metadata": {},
     "output_type": "execute_result"
    }
   ],
   "source": [
    "dc = {\n",
    " 'x': 22,\n",
    " 'x': 23,\n",
    " 'x': 24\n",
    "}\n",
    "\n",
    "dc"
   ]
  },
  {
   "cell_type": "code",
   "execution_count": 124,
   "id": "579ad5df",
   "metadata": {},
   "outputs": [
    {
     "data": {
      "text/plain": [
       "450"
      ]
     },
     "execution_count": 124,
     "metadata": {},
     "output_type": "execute_result"
    }
   ],
   "source": [
    "dc = { #딕셔너리 참조\n",
    "'코카콜라': 900, \n",
    "'바나나맛우유': 750, \n",
    "'비타500': 600, \n",
    "'삼다수': 450\n",
    "}\n",
    "\n",
    "v = dc['삼다수']\n",
    "v"
   ]
  },
  {
   "cell_type": "code",
   "execution_count": 123,
   "id": "75da98ae",
   "metadata": {},
   "outputs": [
    {
     "data": {
      "text/plain": [
       "{'코카콜라': 900, '바나나맛우유': 750, '비타500': 600, '삼다수': 550}"
      ]
     },
     "execution_count": 123,
     "metadata": {},
     "output_type": "execute_result"
    }
   ],
   "source": [
    "dc = { #딕셔너리 수정\n",
    "'코카콜라': 900, \n",
    "'바나나맛우유': 750, \n",
    "'비타500': 600, \n",
    "'삼다수': 450\n",
    "}\n",
    "\n",
    "dc['삼다수'] = 550\n",
    "dc"
   ]
  },
  {
   "cell_type": "code",
   "execution_count": 125,
   "id": "b8af56c3",
   "metadata": {},
   "outputs": [
    {
     "data": {
      "text/plain": [
       "{'코카콜라': 900, '바나나맛우유': 750, '비타500': 600, '삼다수': 450, '카페라떼': 1300}"
      ]
     },
     "execution_count": 125,
     "metadata": {},
     "output_type": "execute_result"
    }
   ],
   "source": [
    "dc = { #딕셔너리 추가\n",
    "'코카콜라': 900, \n",
    "'바나나맛우유': 750, \n",
    "'비타500': 600, \n",
    "'삼다수': 450\n",
    "}\n",
    "\n",
    "dc['카페라떼'] = 1300\n",
    "dc"
   ]
  },
  {
   "cell_type": "code",
   "execution_count": 140,
   "id": "8ba37e89",
   "metadata": {},
   "outputs": [
    {
     "data": {
      "text/plain": [
       "['코카콜라', '바나나맛우유', '비타500', '삼다수']"
      ]
     },
     "execution_count": 140,
     "metadata": {},
     "output_type": "execute_result"
    }
   ],
   "source": [
    "dc = {\n",
    "'코카콜라': 900, \n",
    "'바나나맛우유': 750, \n",
    "'비타500': 600, \n",
    "'삼다수': 450\n",
    "}\n",
    "\n",
    "list(dc.keys()) #key값만 가져온다.\n",
    "#dc.keys() #dict_keys(['코카콜라', '바나나맛우유', '비타500', '삼다수'])"
   ]
  },
  {
   "cell_type": "code",
   "execution_count": 151,
   "id": "15e3fd9d",
   "metadata": {},
   "outputs": [
    {
     "data": {
      "text/plain": [
       "[900, 750, 600, 450]"
      ]
     },
     "execution_count": 151,
     "metadata": {},
     "output_type": "execute_result"
    }
   ],
   "source": [
    "dc = {\n",
    "'코카콜라': 900, \n",
    "'바나나맛우유': 750, \n",
    "'비타500': 600, \n",
    "'삼다수': 450\n",
    "}\n",
    "\n",
    "list(dc.values()) #value값만 가져온다.\n",
    "#dc.values() #dict_values([900, 750, 600, 450])"
   ]
  },
  {
   "cell_type": "markdown",
   "id": "b4fcf94a",
   "metadata": {},
   "source": [
    "딕셔너리.key(), .values()를 사용하게 되면 dict_keys, _vaiues 객체를 반환한다. 이를 .list()를 이용하게 되면 해당 객체를 바로 리스트로써 사용할 수 있게 된다."
   ]
  },
  {
   "cell_type": "code",
   "execution_count": 152,
   "id": "2a0e3c9f",
   "metadata": {},
   "outputs": [
    {
     "data": {
      "text/plain": [
       "[('코카콜라', 900), ('바나나맛우유', 750), ('비타500', 600), ('삼다수', 450)]"
      ]
     },
     "execution_count": 152,
     "metadata": {},
     "output_type": "execute_result"
    }
   ],
   "source": [
    "dc = {\n",
    "'코카콜라': 900, \n",
    "'바나나맛우유': 750, \n",
    "'비타500': 600, \n",
    "'삼다수': 450\n",
    "}\n",
    "\n",
    "list(dc.items()) #해당 딕셔너리 내의 key, value값을 가져온다.\n",
    "#c.items() #dict_items([('코카콜라', 900), ('바나나맛우유', 750), ('비타500', 600), ('삼다수', 450)])"
   ]
  },
  {
   "cell_type": "markdown",
   "id": "8f4a4920",
   "metadata": {},
   "source": [
    ".items()도 key(), .values()와 마찬가지로 dict_items 객체를 반환한다."
   ]
  },
  {
   "cell_type": "code",
   "execution_count": 109,
   "id": "8ce75f5d",
   "metadata": {},
   "outputs": [
    {
     "data": {
      "text/plain": [
       "{'새우깡': 800, '꼬깔콘': 850, '홈런볼': 1000, '치즈콘': 1050}"
      ]
     },
     "execution_count": 109,
     "metadata": {},
     "output_type": "execute_result"
    }
   ],
   "source": [
    "dc = {'새우깡':700, '콘치즈':850, '꼬깔콘':750}\n",
    "\n",
    "if '홈런볼' not in dc:\n",
    "    dc['홈런볼'] = 900\n",
    "\n",
    "if '콘치즈' in dc:\n",
    "    del dc['콘치즈']\n",
    "    dc['치즈콘'] = 950\n",
    "\n",
    "add_dc(dc)"
   ]
  },
  {
   "cell_type": "code",
   "execution_count": 145,
   "id": "b216766d",
   "metadata": {},
   "outputs": [
    {
     "data": {
      "text/plain": [
       "450"
      ]
     },
     "execution_count": 145,
     "metadata": {},
     "output_type": "execute_result"
    }
   ],
   "source": [
    "dc = {\n",
    "'코카콜라': 900, \n",
    "'바나나맛우유': 750, \n",
    "'비타500': 600, \n",
    "'삼다수': 450\n",
    "}\n",
    "\n",
    "dc.get('삼다수') #해당 key값에 해당하는 value값을 가져온다."
   ]
  },
  {
   "cell_type": "code",
   "execution_count": 147,
   "id": "7491aec1",
   "metadata": {},
   "outputs": [
    {
     "data": {
      "text/plain": [
       "'없는 물품'"
      ]
     },
     "execution_count": 147,
     "metadata": {},
     "output_type": "execute_result"
    }
   ],
   "source": [
    "dc = {\n",
    "'코카콜라': 900, \n",
    "'바나나맛우유': 750, \n",
    "'비타500': 600, \n",
    "'삼다수': 450\n",
    "}\n",
    "\n",
    "dc.get('코코넛', '없는 물품') #해당 key값이 존재 하지 않을 경우 '디폴트 값'을 가져온다.\n",
    "#dc.get(key, default)"
   ]
  },
  {
   "cell_type": "code",
   "execution_count": 139,
   "id": "eccc0efd",
   "metadata": {},
   "outputs": [
    {
     "data": {
      "text/plain": [
       "{}"
      ]
     },
     "execution_count": 139,
     "metadata": {},
     "output_type": "execute_result"
    }
   ],
   "source": [
    "dc = {\n",
    "'코카콜라': 900, \n",
    "'바나나맛우유': 750, \n",
    "'비타500': 600, \n",
    "'삼다수': 450\n",
    "}\n",
    "dc.clear() #해당 딕셔너리 안의 모든 요소 삭제\n",
    "dc"
   ]
  },
  {
   "cell_type": "code",
   "execution_count": 93,
   "id": "e9c6c736",
   "metadata": {},
   "outputs": [],
   "source": [
    "def add_dc(dc):\n",
    "    for i in dc:\n",
    "        dc[i] += 100\n",
    "    return dc"
   ]
  },
  {
   "cell_type": "markdown",
   "id": "8cd9b80c",
   "metadata": {},
   "source": [
    "다른 언어의 전역변수와 지역변수와 달리 파이썬에서는 두 변수를 철저하게 구별한다."
   ]
  },
  {
   "cell_type": "code",
   "execution_count": 114,
   "id": "30bda2d6",
   "metadata": {},
   "outputs": [
    {
     "name": "stdout",
     "output_type": "stream",
     "text": [
      "0\n",
      "100\n"
     ]
    }
   ],
   "source": [
    "cnt = 100 #전역변수\n",
    "def func():\n",
    "    cnt = 0 #지역변수\n",
    "    print(cnt)\n",
    "\n",
    "func()\n",
    "print(cnt)"
   ]
  },
  {
   "cell_type": "code",
   "execution_count": 115,
   "id": "888ff9c6",
   "metadata": {},
   "outputs": [
    {
     "name": "stdout",
     "output_type": "stream",
     "text": [
      "0\n",
      "0\n"
     ]
    }
   ],
   "source": [
    "cnt = 100 #전역변수\n",
    "def func():\n",
    "    global cnt\n",
    "    cnt = 0 #지역변수\n",
    "    print(cnt)\n",
    "\n",
    "func()\n",
    "print(cnt)"
   ]
  }
 ],
 "metadata": {
  "kernelspec": {
   "display_name": "Python 3 (ipykernel)",
   "language": "python",
   "name": "python3"
  },
  "language_info": {
   "codemirror_mode": {
    "name": "ipython",
    "version": 3
   },
   "file_extension": ".py",
   "mimetype": "text/x-python",
   "name": "python",
   "nbconvert_exporter": "python",
   "pygments_lexer": "ipython3",
   "version": "3.9.12"
  }
 },
 "nbformat": 4,
 "nbformat_minor": 5
}
