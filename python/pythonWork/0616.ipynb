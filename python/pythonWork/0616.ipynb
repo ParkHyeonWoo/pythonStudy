{
 "cells": [
  {
   "cell_type": "markdown",
   "id": "6b75e245",
   "metadata": {},
   "source": [
    "a == b : a와 b는 참조하는 객체의 값(내용)이 같은가?  \n",
    "a is b : a와 b는 참조하는 객체가 같은가?"
   ]
  },
  {
   "cell_type": "code",
   "execution_count": 8,
   "id": "b0c58a95",
   "metadata": {},
   "outputs": [],
   "source": [
    "class AgeInfo:\n",
    "    def up_age(self): #self = this\n",
    "        self.age += 1 #클래스 변수 선언이 없어도 자동으로 선언했다 판정된다.\n",
    "    def get_age(self):\n",
    "        return self.age\n",
    "    def set_age(self, age):\n",
    "        self.age = age"
   ]
  },
  {
   "cell_type": "code",
   "execution_count": 9,
   "id": "c989e0bd",
   "metadata": {},
   "outputs": [
    {
     "name": "stdout",
     "output_type": "stream",
     "text": [
      "1년 후 나이: 40\n"
     ]
    }
   ],
   "source": [
    "def main():\n",
    "    a = AgeInfo() #객체 생성 = new\n",
    "    a.set_age(39)\n",
    "    a.up_age()\n",
    "    print(\"1년 후 나이:\", a.get_age())\n",
    "main()"
   ]
  },
  {
   "cell_type": "code",
   "execution_count": 20,
   "id": "bbf220ac",
   "metadata": {},
   "outputs": [],
   "source": [
    "class Num:\n",
    "    def __init__(self, num, title): #생성자, 이니셜라이즈(초기화)\n",
    "        self.num = num\n",
    "        self.title = title\n",
    "        print(self.num, self.title)"
   ]
  },
  {
   "cell_type": "code",
   "execution_count": 21,
   "id": "2b41206e",
   "metadata": {},
   "outputs": [
    {
     "name": "stdout",
     "output_type": "stream",
     "text": [
      "1 one\n",
      "2 two\n"
     ]
    }
   ],
   "source": [
    "def main():\n",
    "    n1 = Num(1, 'one')\n",
    "    n2 = Num(2, 'two')\n",
    "\n",
    "main()"
   ]
  },
  {
   "cell_type": "code",
   "execution_count": 57,
   "id": "21c64a8e",
   "metadata": {},
   "outputs": [],
   "source": [
    "class Friend:\n",
    "    def __init__(self, name, phonNum):\n",
    "        self.name = name\n",
    "        self.phonNum = phonNum\n",
    "    def get_name(self):\n",
    "        return self.name\n",
    "    def set_name(self, name):\n",
    "        self.name = name\n",
    "    def get_phonNum(self):\n",
    "        return self.phonNum\n",
    "    def set_phonNum(self, phonNum):\n",
    "        self.phonNum = phonNum"
   ]
  },
  {
   "cell_type": "code",
   "execution_count": 83,
   "id": "a9b6e26f",
   "metadata": {},
   "outputs": [
    {
     "name": "stdout",
     "output_type": "stream",
     "text": [
      "[<__main__.Friend object at 0x000002C24CA8A040>, <__main__.Friend object at 0x000002C24C846B80>, <__main__.Friend object at 0x000002C24C7E94C0>]\n"
     ]
    }
   ],
   "source": [
    "fr = [('윤지민', '010-111-222'),('이선주', '010-333-444'),('장지우', '010-555-666')]\n",
    "temp = []\n",
    "for i in range(len(fr)):\n",
    "    f = Friend(fr[i][0], fr[i][1])\n",
    "    temp.append(f)\n",
    "print(temp)"
   ]
  },
  {
   "cell_type": "code",
   "execution_count": 81,
   "id": "dd265180",
   "metadata": {},
   "outputs": [
    {
     "name": "stdout",
     "output_type": "stream",
     "text": [
      "윤지민 010-111-222\n",
      "이선주 010-333-444\n",
      "장지우 010-555-666\n"
     ]
    }
   ],
   "source": [
    "for i in range(len(temp)):\n",
    "    print(temp[i].get_name(), temp[i].get_phonNum())"
   ]
  },
  {
   "cell_type": "code",
   "execution_count": 94,
   "id": "00f6c5e1",
   "metadata": {},
   "outputs": [
    {
     "name": "stdout",
     "output_type": "stream",
     "text": [
      "윤지민 010-111-222\n"
     ]
    }
   ],
   "source": [
    "for i in range(len(temp)):\n",
    "    if temp[i].get_name().startswith('윤'):\n",
    "        print(temp[i].get_name(), temp[i].get_phonNum())"
   ]
  },
  {
   "cell_type": "code",
   "execution_count": 95,
   "id": "b9c17f7b",
   "metadata": {},
   "outputs": [
    {
     "name": "stdout",
     "output_type": "stream",
     "text": [
      "장지우 010-999-999\n"
     ]
    }
   ],
   "source": [
    "for i in range(len(temp)):\n",
    "    if temp[i].get_name().startswith('장지우'):\n",
    "        temp[i].set_phonNum('010-999-999')\n",
    "        print(temp[i].get_name(), temp[i].get_phonNum())"
   ]
  },
  {
   "cell_type": "markdown",
   "id": "8071d675",
   "metadata": {},
   "source": [
    "find(찾을문자, 찾기시작할위치)  \n",
    "-> 문자열중에 특정문자를 찾고 위치를 반환해준다, 없을경우 -1을 리턴  \n",
    "startswith(시작하는문자, 시작지점)  \n",
    "-> 문자열이 특정문자로 시작하는지 여부를 알려준다 true나 false 를 반환  \n",
    "endswith(끝나는문자, 문자열의시작, 문자열의끝)  \n",
    "-> endswith는 문자열이 특정문자로 끝나는지 여부를 알려준다. true나 false를 반환"
   ]
  },
  {
   "cell_type": "code",
   "execution_count": 98,
   "id": "d9720166",
   "metadata": {},
   "outputs": [
    {
     "name": "stdout",
     "output_type": "stream",
     "text": [
      "안녕하세요.\n",
      "나이를 입력하세요: 스물\n",
      "입력이 잘못되었습니다.\n",
      "나이를 입력하세요: 20\n",
      "입력하신 나이는 다음과 같습니다: 20\n"
     ]
    }
   ],
   "source": [
    "def main():\n",
    "    print(\"안녕하세요.\")\n",
    "    while True:\n",
    "        try:\n",
    "            age = int(input(\"나이를 입력하세요: \"))\n",
    "            print(\"입력하신 나이는 다음과 같습니다:\", age)\n",
    "            break #입력이 정상적이면 while 루프 탈출\n",
    "        except ValueError: #except만 사용할 경우 모든 예외에 대하여 처리한다.\n",
    "            print(\"입력이 잘못되었습니다.\")\n",
    "main()"
   ]
  },
  {
   "cell_type": "code",
   "execution_count": 110,
   "id": "baf449b7",
   "metadata": {},
   "outputs": [
    {
     "name": "stdout",
     "output_type": "stream",
     "text": [
      "몇 명?5\n",
      "1인당 빵의 수:  2.0\n",
      "종료.\n"
     ]
    }
   ],
   "source": [
    "def main():\n",
    "    bread = 10 #열 개의 빵\n",
    "    try:\n",
    "        people = int(input(\"몇 명?\"))\n",
    "        if people < 0: #주관적 예외처리\n",
    "            raise ValueError #java의 throw\n",
    "        print(\"1인당 빵의 수: \", bread / people)\n",
    "    except ValueError:\n",
    "        print(\"입력이 잘못되었습니다.\")\n",
    "    finally:\n",
    "        print(\"종료.\")\n",
    "main()"
   ]
  },
  {
   "cell_type": "markdown",
   "id": "115cd134",
   "metadata": {},
   "source": [
    "파이썬은 인터프리터 언어로 스크립트를 작성하고 실행하면 이 코드는 '바이트 코드'로 변환되어 저장되는데 이러한 바이트 코드는 파이썬 가상 머신, PVM에서 실행된다. 이러한 코드 변환기와 가상 머신 그리고 기본적으로 포함되는 각종 라이브러리를 묶어 '파이썬 인터프리터'라 한다."
   ]
  },
  {
   "cell_type": "code",
   "execution_count": 130,
   "id": "3fbce76b",
   "metadata": {},
   "outputs": [],
   "source": [
    "def add_list(m, n):\n",
    "    m += n\n",
    "    print(m)"
   ]
  },
  {
   "cell_type": "code",
   "execution_count": 131,
   "id": "a00f93bc",
   "metadata": {},
   "outputs": [
    {
     "name": "stdout",
     "output_type": "stream",
     "text": [
      "[1, 2, 3, 4]\n"
     ]
    },
    {
     "data": {
      "text/plain": [
       "[1, 2, 3, 4]"
      ]
     },
     "execution_count": 131,
     "metadata": {},
     "output_type": "execute_result"
    }
   ],
   "source": [
    "r = [1,2]\n",
    "add_list(r, [3,4]) #리스트 r에 3,4를 추가\n",
    "r"
   ]
  },
  {
   "cell_type": "code",
   "execution_count": 132,
   "id": "3a5c9d0c",
   "metadata": {},
   "outputs": [
    {
     "name": "stdout",
     "output_type": "stream",
     "text": [
      "(1, 2, 5, 7)\n"
     ]
    },
    {
     "data": {
      "text/plain": [
       "(1, 2)"
      ]
     },
     "execution_count": 132,
     "metadata": {},
     "output_type": "execute_result"
    }
   ],
   "source": [
    "t = (1,2)\n",
    "add_list(t, (5,7)) #튜플 t에 5,7을 추가\n",
    "t  #결과를 보면 변경사항이 적용되지 않음을 알 수 있다."
   ]
  },
  {
   "cell_type": "markdown",
   "id": "d325d366",
   "metadata": {},
   "source": [
    "이러한 케이스는 튜플(+ 문자열)이 변경이 불가능하기 때문에 add_last 함수에서 작업 할 때 새로운 주소값을 생성했지만 그 값이 반환되지 않아 Grabage Collection에게 그 주소값이 회수된 케이스이다."
   ]
  },
  {
   "cell_type": "code",
   "execution_count": 139,
   "id": "bc24cd3c",
   "metadata": {},
   "outputs": [],
   "source": [
    "def add_tuple(t1, t2):\n",
    "    t1 += t2 \n",
    "    print(t1)\n",
    "    return t1"
   ]
  },
  {
   "cell_type": "code",
   "execution_count": 145,
   "id": "faef9fd8",
   "metadata": {},
   "outputs": [
    {
     "name": "stdout",
     "output_type": "stream",
     "text": [
      "(1, 2, 5, 7)\n"
     ]
    },
    {
     "data": {
      "text/plain": [
       "(1, 2, 5, 7)"
      ]
     },
     "execution_count": 145,
     "metadata": {},
     "output_type": "execute_result"
    }
   ],
   "source": [
    "t = (1,2)\n",
    "t1 = add_tuple(t, (5,7)) #튜플 t에 5,7을 추가\n",
    "t1"
   ]
  },
  {
   "cell_type": "markdown",
   "id": "769ef998",
   "metadata": {},
   "source": [
    "위처럼 반환값으로 새롭게 생성된 주소값을 건네줘야 원하는 값이 나오게 된다."
   ]
  },
  {
   "cell_type": "code",
   "execution_count": 146,
   "id": "6f1e7a34",
   "metadata": {},
   "outputs": [
    {
     "name": "stdout",
     "output_type": "stream",
     "text": [
      "3033537611456 [8, 5, 6, 2, 4]\n",
      "3033529611840 [2, 4, 5, 6, 8]\n"
     ]
    }
   ],
   "source": [
    "lst = [8,5,6,2,4]\n",
    "print(id(lst), lst)\n",
    "temp = list(lst)\n",
    "temp.sort()\n",
    "print(id(temp), temp)"
   ]
  },
  {
   "cell_type": "code",
   "execution_count": 147,
   "id": "bead0257",
   "metadata": {},
   "outputs": [
    {
     "data": {
      "text/plain": [
       "[2, 4, 6, 8, 10]"
      ]
     },
     "execution_count": 147,
     "metadata": {},
     "output_type": "execute_result"
    }
   ],
   "source": [
    "r1 = [1, 2, 3, 4, 5]\n",
    "r2 = [x * 2 for x in r1] # 리스트 컴프리헨션의 기본 구조\n",
    "r2"
   ]
  },
  {
   "cell_type": "code",
   "execution_count": 153,
   "id": "0a9622fc",
   "metadata": {},
   "outputs": [
    {
     "data": {
      "text/plain": [
       "[1, 3, 5]"
      ]
     },
     "execution_count": 153,
     "metadata": {},
     "output_type": "execute_result"
    }
   ],
   "source": [
    "r1 = [1, 2, 3, 4, 5]\n",
    "r2 = []\n",
    "for i in r1:\n",
    "    if i % 2: # i가 홀수인 경우에만 아래 문장 실행\n",
    "        r2.append(i) # i * 2의 결과를 리스트에 담는다. >>> r\n",
    "r2"
   ]
  },
  {
   "cell_type": "code",
   "execution_count": 148,
   "id": "99b90752",
   "metadata": {},
   "outputs": [
    {
     "data": {
      "text/plain": [
       "[11, 12, 13, 14, 15]"
      ]
     },
     "execution_count": 148,
     "metadata": {},
     "output_type": "execute_result"
    }
   ],
   "source": [
    "r1 = [1, 2, 3, 4, 5]\n",
    "r2 = [x + 10 for x in r1]\n",
    "r2"
   ]
  },
  {
   "cell_type": "code",
   "execution_count": 154,
   "id": "aadb6854",
   "metadata": {},
   "outputs": [
    {
     "data": {
      "text/plain": [
       "[1, 3, 5]"
      ]
     },
     "execution_count": 154,
     "metadata": {},
     "output_type": "execute_result"
    }
   ],
   "source": [
    "r1 = [1, 2, 3, 4, 5]\n",
    "r2 = [x for x in r1 if x % 2] # if절이 추가된 리스트 컴프리헨션\n",
    "r2"
   ]
  },
  {
   "cell_type": "code",
   "execution_count": 156,
   "id": "32723aa9",
   "metadata": {},
   "outputs": [
    {
     "data": {
      "text/plain": [
       "['BlackRed', 'BlackBlue', 'BlackGreen', 'WhiteRed', 'WhiteBlue', 'WhiteGreen']"
      ]
     },
     "execution_count": 156,
     "metadata": {},
     "output_type": "execute_result"
    }
   ],
   "source": [
    "r1 = ['Black', 'White']\n",
    "r2 = ['Red', 'Blue', 'Green']\n",
    "r3 = []\n",
    "for t in r1:\n",
    "    for p in r2:\n",
    "        r3.append(t + p)\n",
    "r3"
   ]
  },
  {
   "cell_type": "code",
   "execution_count": 157,
   "id": "bb7690a6",
   "metadata": {},
   "outputs": [
    {
     "data": {
      "text/plain": [
       "['BlackRed', 'BlackBlue', 'BlackGreen', 'WhiteRed', 'WhiteBlue', 'WhiteGreen']"
      ]
     },
     "execution_count": 157,
     "metadata": {},
     "output_type": "execute_result"
    }
   ],
   "source": [
    "r1 = ['Black', 'White']\n",
    "r2 = ['Red', 'Blue', 'Green']\n",
    "# 중첩된 for 루프 형태의 리스트 컴프리헨션\n",
    "r3 = [t + p for t in r1 for p in r2]\n",
    "r3"
   ]
  },
  {
   "cell_type": "code",
   "execution_count": 158,
   "id": "bf100b03",
   "metadata": {},
   "outputs": [
    {
     "name": "stdout",
     "output_type": "stream",
     "text": [
      "[3, 9, 15, 21, 27, 5, 15, 25, 35, 45, 7, 21, 35, 49, 63, 9, 27, 45, 63, 81] "
     ]
    }
   ],
   "source": [
    "r = [n*m for n in range(2, 10) for m in range(1, 10) if (n*m)%2]\n",
    "print(r, end = ' ')"
   ]
  },
  {
   "cell_type": "markdown",
   "id": "d74f15d0",
   "metadata": {},
   "source": [
    "결과 | 과정 | 조건  \n",
    "n*m | for n in range(2, 10) for m in range(1, 10) | if (n*m)%2"
   ]
  },
  {
   "cell_type": "code",
   "execution_count": 19,
   "id": "9eb12a85",
   "metadata": {},
   "outputs": [
    {
     "name": "stdout",
     "output_type": "stream",
     "text": [
      "1\n",
      "2\n",
      "3\n",
      "4\n"
     ]
    }
   ],
   "source": [
    " ds = [1, 2, 3, 4]\n",
    "ir = iter(ds) # iterator 객체를 얻는 방법\n",
    "print(next(ir)) # iterator 객체를 통해 값을 하나 꺼내는 방법, 첫 번째 값 반환\n",
    "print(next(ir)) # 두 번째 값 반환\n",
    "print(next(ir)) # 세 번째 값 반환\n",
    "print(next(ir)) # 네 번째 값 반환, 이 때 반환되는 값들은 객체값이다."
   ]
  },
  {
   "cell_type": "markdown",
   "id": "236ed0d2",
   "metadata": {},
   "source": [
    "Iterable 객체 iter 함수에 인자로 전달 가능한 객체  \n",
    "Iterator 객체 iter 함수가 생성해서 반환하는 객체"
   ]
  },
  {
   "cell_type": "code",
   "execution_count": 165,
   "id": "d7172dce",
   "metadata": {},
   "outputs": [
    {
     "name": "stdout",
     "output_type": "stream",
     "text": [
      "1 2 3 "
     ]
    }
   ],
   "source": [
    "ir = iter([1, 2, 3]) # iterator 객체를 얻는다.\n",
    "while True:\n",
    "    try:\n",
    "        i = next(ir) # iterator 객체를 통해서 값을 하나씩 꺼낸다. \n",
    "        print(i, end = ' ')\n",
    "    except StopIteration: # 더 이상 꺼낼 것이 없으면, \n",
    "        break"
   ]
  },
  {
   "cell_type": "code",
   "execution_count": 167,
   "id": "384b20b9",
   "metadata": {},
   "outputs": [
    {
     "name": "stdout",
     "output_type": "stream",
     "text": [
      "1 2 3 "
     ]
    }
   ],
   "source": [
    "ir = iter([1, 2, 3]) # ir에 저장되는 것은 iterator 객체\n",
    "for i in ir: # for 루프에 iterator 객체를 가져다 두었다. \n",
    "    print(i, end = ' ')"
   ]
  },
  {
   "cell_type": "markdown",
   "id": "a794f40d",
   "metadata": {},
   "source": [
    "즉, iterator 객체는 iterable 객체이다."
   ]
  },
  {
   "cell_type": "code",
   "execution_count": 169,
   "id": "b2b42873",
   "metadata": {},
   "outputs": [
    {
     "name": "stdout",
     "output_type": "stream",
     "text": [
      "hello\n",
      "hi~\n"
     ]
    }
   ],
   "source": [
    "def say1():\n",
    "    print('hello')\n",
    "def say2():\n",
    "    print('hi~')\n",
    "def caller(fct):\n",
    "    fct() # fct를 통해 전달된 함수를 호출\n",
    "\n",
    "caller(say1) # say1 함수를 caller에 전달\n",
    "caller(say2) # say2 함수를 caller에 전달"
   ]
  },
  {
   "cell_type": "code",
   "execution_count": 170,
   "id": "bf166d28",
   "metadata": {},
   "outputs": [],
   "source": [
    "def fct_fac(n):\n",
    "    def exp(x): # 함수 내에서 정의된, x의 n제곱을 반환하는 함수\n",
    "        return x ** n\n",
    "    return exp"
   ]
  },
  {
   "cell_type": "code",
   "execution_count": 175,
   "id": "426a3860",
   "metadata": {},
   "outputs": [
    {
     "name": "stdout",
     "output_type": "stream",
     "text": [
      "16\n",
      "64\n"
     ]
    }
   ],
   "source": [
    "f2 = fct_fac(2) #제곱 계산\n",
    "f3 = fct_fac(3) #세제곱 계산\n",
    "\n",
    "print(f2(4)) #4의 제곱\n",
    "print(f3(4)) #4의 세제곱"
   ]
  },
  {
   "cell_type": "code",
   "execution_count": 183,
   "id": "37c65fca",
   "metadata": {},
   "outputs": [],
   "source": [
    "def fct_fac(n): # 앞서 작성했던 fac_fac 함수의 람다식 버전\n",
    "    return lambda x: x ** n # 람다식 기반으로 함수 만들어서 반환"
   ]
  },
  {
   "cell_type": "code",
   "execution_count": 184,
   "id": "6933d725",
   "metadata": {},
   "outputs": [
    {
     "name": "stdout",
     "output_type": "stream",
     "text": [
      "16\n",
      "64\n"
     ]
    }
   ],
   "source": [
    "f2 = fct_fac(2) # lambda x: x ** 2\n",
    "f3 = fct_fac(3)\n",
    "\n",
    "print(f2(4))\n",
    "print(f3(4))"
   ]
  },
  {
   "cell_type": "code",
   "execution_count": 185,
   "id": "d8806a31",
   "metadata": {},
   "outputs": [
    {
     "data": {
      "text/plain": [
       "'good'"
      ]
     },
     "execution_count": 185,
     "metadata": {},
     "output_type": "execute_result"
    }
   ],
   "source": [
    "def fct(x):\n",
    "    if(x>3): \n",
    "        return 'good'\n",
    "    else:\n",
    "        return 'bed'\n",
    "fct(4) "
   ]
  },
  {
   "cell_type": "code",
   "execution_count": 187,
   "id": "d916248a",
   "metadata": {},
   "outputs": [
    {
     "data": {
      "text/plain": [
       "'good'"
      ]
     },
     "execution_count": 187,
     "metadata": {},
     "output_type": "execute_result"
    }
   ],
   "source": [
    "fct=lambda x: 'good' if(x>3) else 'bed'\n",
    "fct(4)"
   ]
  },
  {
   "cell_type": "code",
   "execution_count": 188,
   "id": "4927b751",
   "metadata": {},
   "outputs": [
    {
     "data": {
      "text/plain": [
       "11"
      ]
     },
     "execution_count": 188,
     "metadata": {},
     "output_type": "execute_result"
    }
   ],
   "source": [
    "(lambda x: x + 10)(1)"
   ]
  },
  {
   "cell_type": "code",
   "execution_count": 199,
   "id": "d9020df0",
   "metadata": {},
   "outputs": [
    {
     "name": "stdout",
     "output_type": "stream",
     "text": [
      "1\n",
      "10\n"
     ]
    }
   ],
   "source": [
    "print((lambda : 1)())\n",
    "\n",
    "x = 10\n",
    "print((lambda : x)())"
   ]
  },
  {
   "cell_type": "code",
   "execution_count": 16,
   "id": "66d70dfd",
   "metadata": {},
   "outputs": [
    {
     "name": "stdout",
     "output_type": "stream",
     "text": [
      "[3, 4, 5, 6, 7]\n",
      "[3, 4, 5, 6, 7]\n"
     ]
    }
   ],
   "source": [
    "def plus_two(x):\n",
    "    return x + 2\n",
    "\n",
    "lst = [1,2,3,4,5]\n",
    "\n",
    "result1 = list(map(plus_two, lst))\n",
    "print(result1)\n",
    "\n",
    "result2 = list(map((lambda x: x + 2), lst))\n",
    "print(result2)"
   ]
  },
  {
   "cell_type": "code",
   "execution_count": 3,
   "id": "cd008fe9",
   "metadata": {},
   "outputs": [
    {
     "name": "stdout",
     "output_type": "stream",
     "text": [
      "[6, 6, 6, 6, 6]\n"
     ]
    }
   ],
   "source": [
    "lst1 = [1,2,3,4,5]\n",
    "lst2 = [5,4,3,2,1]\n",
    "\n",
    "lst3 = list(map((lambda x, y: x + y), lst1, lst2))\n",
    "print(lst3)"
   ]
  },
  {
   "cell_type": "markdown",
   "id": "1f229186",
   "metadata": {},
   "source": [
    "map과 list와의 차이점이라면 작업 속도와 메모리 측면의 용이성 정도가 있다."
   ]
  },
  {
   "cell_type": "code",
   "execution_count": 9,
   "id": "7b4f1519",
   "metadata": {},
   "outputs": [
    {
     "name": "stdout",
     "output_type": "stream",
     "text": [
      "[0, 2, 4, 6, 8]\n",
      "[0, 2, 4, 6, 8]\n"
     ]
    }
   ],
   "source": [
    "def is_even(x):\n",
    "    return x%2 == 0\n",
    "\n",
    "result1 = list(filter(is_even, range(10)))\n",
    "print(result1)\n",
    "\n",
    "result2 = list(filter((lambda x: x%2 == 0), range(10)))\n",
    "print(result2)"
   ]
  },
  {
   "cell_type": "markdown",
   "id": "9eef47a8",
   "metadata": {},
   "source": [
    "filter의 경우 함수의 결과에 True값이 들어오는 경우에만 객체값을 반환한다."
   ]
  },
  {
   "cell_type": "code",
   "execution_count": 24,
   "id": "33d5abe8",
   "metadata": {},
   "outputs": [
    {
     "data": {
      "text/plain": [
       "[9, 36, 81]"
      ]
     },
     "execution_count": 24,
     "metadata": {},
     "output_type": "execute_result"
    }
   ],
   "source": [
    "st = list(range(1, 11)) \n",
    "fst = list(filter(lambda n: not(n % 3), map(lambda n: n**2, st))) \n",
    "fst "
   ]
  },
  {
   "cell_type": "code",
   "execution_count": 5,
   "id": "e679e69e",
   "metadata": {},
   "outputs": [
    {
     "data": {
      "text/plain": [
       "[1, 9, 25, 49, 81]"
      ]
     },
     "execution_count": 5,
     "metadata": {},
     "output_type": "execute_result"
    }
   ],
   "source": [
    "st = list(range(1, 11))\n",
    "fst = list(map(lambda n: n**2, filter(lambda n: n % 2, st))) \n",
    "fst"
   ]
  },
  {
   "cell_type": "markdown",
   "id": "2f77c5ba",
   "metadata": {},
   "source": [
    "map(함수, 리스트나 튜플)  \n",
    "첫 번째 인자인 함수는 두 번째 인자로 들어온 리스트나, 튜플에 특별한 가공 처리를 하는 함수이며, 사용자가 직접 함수를 정의해서 넣는다.두번째 인자인 리스트나 튜플은 바꾸고자 하는 데이터들을 집어 넣는다.  \n",
    "filter(함수, 리스트나 튜플)  \n",
    "첫 번째 인자에는 두 번째 인자로 들어온 리스트나 튜플을 하나하나씩 받아서 필터링할 함수를 넣는다.두번째 인자에는 리스트나 튜플을 집어 넣는다."
   ]
  }
 ],
 "metadata": {
  "kernelspec": {
   "display_name": "Python 3 (ipykernel)",
   "language": "python",
   "name": "python3"
  },
  "language_info": {
   "codemirror_mode": {
    "name": "ipython",
    "version": 3
   },
   "file_extension": ".py",
   "mimetype": "text/x-python",
   "name": "python",
   "nbconvert_exporter": "python",
   "pygments_lexer": "ipython3",
   "version": "3.9.12"
  }
 },
 "nbformat": 4,
 "nbformat_minor": 5
}
