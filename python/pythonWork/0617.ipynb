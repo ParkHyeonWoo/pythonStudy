{
 "cells": [
  {
   "cell_type": "markdown",
   "id": "954eb205",
   "metadata": {},
   "source": [
    "'yield'가 들어가면 제너레이터 함수로 정의된다."
   ]
  },
  {
   "cell_type": "code",
   "execution_count": 2,
   "id": "df2df5b6",
   "metadata": {},
   "outputs": [
    {
     "data": {
      "text/plain": [
       "1"
      ]
     },
     "execution_count": 2,
     "metadata": {},
     "output_type": "execute_result"
    }
   ],
   "source": [
    "def gen_for(): # 제너레이터 함수 \n",
    "    for i in [1, 2, 3]: \n",
    "        yield i\n",
    "        \n",
    "g = gen_for()\n",
    "next(g)"
   ]
  },
  {
   "cell_type": "markdown",
   "id": "f3786ed7",
   "metadata": {},
   "source": [
    "next() 호출로 얻을 게 없다면 StopIteration예외가 발생  \n",
    "lazy evaluation : next 함수가 호출될 때까지 실행의 흐름이 미뤄지는 특징, 이는 불필요한 메모리 낭비를 예방할 수 있다.  \n",
    "iterator 객체의 한 종류이다."
   ]
  },
  {
   "cell_type": "code",
   "execution_count": 5,
   "id": "599ea85a",
   "metadata": {},
   "outputs": [
    {
     "name": "stdout",
     "output_type": "stream",
     "text": [
      "8856\n"
     ]
    }
   ],
   "source": [
    "def pows(s):\n",
    "    r = []\n",
    "    for i in s:\n",
    "        r.append(i**2)\n",
    "    return r\n",
    "\n",
    "st = pows([n for n in range(1000)])\n",
    "\n",
    "import sys\n",
    "print(sys.getsizeof(st))"
   ]
  },
  {
   "cell_type": "code",
   "execution_count": 3,
   "id": "b1c6d7e7",
   "metadata": {},
   "outputs": [
    {
     "name": "stdout",
     "output_type": "stream",
     "text": [
      "112\n"
     ]
    }
   ],
   "source": [
    "def gpows(s):\n",
    "    for i in s: \n",
    "        yield i ** 2\n",
    "        \n",
    "st = gpows([n for n in range(1000)])\n",
    "\n",
    "import sys\n",
    "print(sys.getsizeof(st))"
   ]
  },
  {
   "cell_type": "markdown",
   "id": "a8354d85",
   "metadata": {},
   "source": [
    "위의 두 코드는 큰차이가 없지만 각 객체의 메모리 크기가 매우 큰 차이를 보이고 있음을 알 수 있다. 이러한 결과의 이유는 미리 메모리를 만들어 저장해두었는가 아닌가의 차이이다."
   ]
  },
  {
   "cell_type": "code",
   "execution_count": 6,
   "id": "9f5b0a2e",
   "metadata": {},
   "outputs": [
    {
     "name": "stdout",
     "output_type": "stream",
     "text": [
      "0\n",
      "1\n"
     ]
    }
   ],
   "source": [
    "def get_nums(): \n",
    "    ns = [0, 1, 0, 1, 0, 1] \n",
    "    for i in ns: \n",
    "        yield i\n",
    "\n",
    "g = get_nums()\n",
    "print(next(g)) \n",
    "print(next(g))"
   ]
  },
  {
   "cell_type": "code",
   "execution_count": 8,
   "id": "224ca1a6",
   "metadata": {},
   "outputs": [
    {
     "name": "stdout",
     "output_type": "stream",
     "text": [
      "0\n",
      "1\n"
     ]
    }
   ],
   "source": [
    "def get_nums(): \n",
    "    ns = [0, 1, 0, 1, 0, 1] \n",
    "    yield from ns\n",
    "\n",
    "g = get_nums()\n",
    "print(next(g)) \n",
    "print(next(g))"
   ]
  },
  {
   "cell_type": "code",
   "execution_count": 10,
   "id": "bbb800d4",
   "metadata": {},
   "outputs": [],
   "source": [
    "def show_all(s): # iterable 객체를 전달하면서 이 함수 호출 \n",
    "    for i in s: \n",
    "        print(i, end = ' ')"
   ]
  },
  {
   "cell_type": "code",
   "execution_count": 12,
   "id": "8c12ea8b",
   "metadata": {},
   "outputs": [
    {
     "name": "stdout",
     "output_type": "stream",
     "text": [
      "2 4 6 8 10 12 14 16 18 "
     ]
    }
   ],
   "source": [
    "def times(): # 제너레이터 함수의 정의 \n",
    "    for i in range(1, 10): \n",
    "        yield 2 * i\n",
    "\n",
    "g = times()\n",
    "show_all(g)"
   ]
  },
  {
   "cell_type": "code",
   "execution_count": 14,
   "id": "e96cbc2d",
   "metadata": {},
   "outputs": [
    {
     "name": "stdout",
     "output_type": "stream",
     "text": [
      "2 4 6 8 10 12 14 16 18 "
     ]
    }
   ],
   "source": [
    "g = (2 * i for i in range(1, 10)) # 표현식 기반 제너레이터 생성, 튜플 생성과는 다르다.\n",
    "show_all(g)"
   ]
  },
  {
   "cell_type": "code",
   "execution_count": 20,
   "id": "19028b8f",
   "metadata": {},
   "outputs": [
    {
     "name": "stdout",
     "output_type": "stream",
     "text": [
      "2 4 6 8 10 12 14 16 18 "
     ]
    }
   ],
   "source": [
    "show_all((2 * i for i in range(1, 10)))\n",
    "#위의 코드를 좀 더 생략한 형태."
   ]
  },
  {
   "cell_type": "code",
   "execution_count": 19,
   "id": "f08e8cf2",
   "metadata": {},
   "outputs": [
    {
     "name": "stdout",
     "output_type": "stream",
     "text": [
      "two\n"
     ]
    },
    {
     "data": {
      "text/plain": [
       "2"
      ]
     },
     "execution_count": 19,
     "metadata": {},
     "output_type": "execute_result"
    }
   ],
   "source": [
    "def two(): \n",
    "    print('two') # two 함수 호출 시에 two라는 문자열 출력 \n",
    "    return 2\n",
    "\n",
    "g = (two() * i for i in range(1, 10)) # 이때 two 함수 호출 안됨 \n",
    "next(g) # 이때 two 함수 한번 호출\n",
    "#next()에서 호출된 이유는 제너레이터 함수이기 때문에 \n",
    "#직접 호출 전까진 two()호출을 미루기 때문이다."
   ]
  },
  {
   "cell_type": "code",
   "execution_count": 21,
   "id": "733fa1e4",
   "metadata": {},
   "outputs": [
    {
     "name": "stdout",
     "output_type": "stream",
     "text": [
      "12 25\n"
     ]
    }
   ],
   "source": [
    "tri_three = (12, 25) \n",
    "bt, ht = tri_three # 튜플 언패킹 \n",
    "print(bt, ht) "
   ]
  },
  {
   "cell_type": "code",
   "execution_count": 24,
   "id": "a54acc9b",
   "metadata": {},
   "outputs": [
    {
     "name": "stdout",
     "output_type": "stream",
     "text": [
      "1 2\n",
      "[3, 4, 5]\n"
     ]
    }
   ],
   "source": [
    "nums = (1, 2, 3, 4, 5) \n",
    "n1, n2, *others = nums\n",
    "# 둘 이상의 값을 리스트로 묶을 때 *를 사용한다.\n",
    "print(n1, n2)\n",
    "print(others)"
   ]
  },
  {
   "cell_type": "code",
   "execution_count": 27,
   "id": "e2ee3047",
   "metadata": {},
   "outputs": [
    {
     "name": "stdout",
     "output_type": "stream",
     "text": [
      "1\n",
      "5\n",
      "[2, 3, 4]\n"
     ]
    }
   ],
   "source": [
    "nums = (1, 2, 3, 4, 5) \n",
    "first, *others, last = nums\n",
    "print(first)\n",
    "print(last)\n",
    "print(others)"
   ]
  },
  {
   "cell_type": "code",
   "execution_count": 34,
   "id": "630c6abc",
   "metadata": {},
   "outputs": [
    {
     "name": "stdout",
     "output_type": "stream",
     "text": [
      "Hong 178\n",
      "Hong 178 Korea\n"
     ]
    }
   ],
   "source": [
    "p = 'Hong', (32, 178), '010-1234-56xx', 'Korea' \n",
    "# 튜플 안에 튜플이 있다. \n",
    "na, (ag, he), ph, ad = p \n",
    "print(na, he) \n",
    "na, (_, he), _, _ = p # _ 변수에 중복해서 저장함.(관례처럼 사용)\n",
    "print(na, he, _) "
   ]
  },
  {
   "cell_type": "code",
   "execution_count": 57,
   "id": "6ccb7c0b",
   "metadata": {},
   "outputs": [
    {
     "data": {
      "text/plain": [
       "6"
      ]
     },
     "execution_count": 57,
     "metadata": {},
     "output_type": "execute_result"
    }
   ],
   "source": [
    "def sum(*nums): \n",
    "# 전달되는 모든 값들을 하나의 튜플로 묶어서 nums에 저장 \n",
    "    s = 0 \n",
    "    for i in nums: \n",
    "        s += i \n",
    "    return s\n",
    "\n",
    "sum(1,2,3)"
   ]
  },
  {
   "cell_type": "code",
   "execution_count": 37,
   "id": "4687ab57",
   "metadata": {},
   "outputs": [
    {
     "name": "stdout",
     "output_type": "stream",
     "text": [
      "Yoon, 22, 180\n"
     ]
    }
   ],
   "source": [
    "def show_man(name, age, height): \n",
    "    print(name, age, height, sep = ', ')\n",
    "    \n",
    "p = ('Yoon', 22, 180)\n",
    "show_man(*p)"
   ]
  },
  {
   "cell_type": "code",
   "execution_count": 58,
   "id": "ccd6a856",
   "metadata": {},
   "outputs": [
    {
     "data": {
      "text/plain": [
       "{'a': 1, 'b': 2, 'c': 3}"
      ]
     },
     "execution_count": 58,
     "metadata": {},
     "output_type": "execute_result"
    }
   ],
   "source": [
    "d = dict([('a', 1),('b', 2),('c', 3)])\n",
    "d "
   ]
  },
  {
   "cell_type": "code",
   "execution_count": 59,
   "id": "b212554d",
   "metadata": {},
   "outputs": [
    {
     "data": {
      "text/plain": [
       "{'a': 1, 'b': 2, 'c': 3}"
      ]
     },
     "execution_count": 59,
     "metadata": {},
     "output_type": "execute_result"
    }
   ],
   "source": [
    "d = dict(zip(['a', 'b', 'c'], [1, 2, 3]))  #또 다른 딕셔너리 생성 방법 \n",
    "d "
   ]
  },
  {
   "cell_type": "code",
   "execution_count": 60,
   "id": "8dbc251c",
   "metadata": {},
   "outputs": [
    {
     "data": {
      "text/plain": [
       "True"
      ]
     },
     "execution_count": 60,
     "metadata": {},
     "output_type": "execute_result"
    }
   ],
   "source": [
    "d1 = {'a': 1, 'b': 2, 'c': 3} \n",
    "d2 = dict([('a', 1),('b', 2),('c', 3)]) \n",
    "d3 = dict(a = 1, b = 2, c = 3) \n",
    "d4 = dict(zip(['a', 'b', 'c'], [1, 2, 3])) \n",
    "d1 == d2 == d3 == d4 #내용 비교, 만드는 방법 달라도 똑같은 결과물 \n",
    "#단 객체 자체의 비교(is)가 아닌 내용 비교인 것을 감안하자"
   ]
  },
  {
   "cell_type": "code",
   "execution_count": 61,
   "id": "ec2d5210",
   "metadata": {},
   "outputs": [
    {
     "name": "stdout",
     "output_type": "stream",
     "text": [
      "('a', 1), ('b', 2), ('c', 3), "
     ]
    }
   ],
   "source": [
    "z = zip(['a', 'b', 'c'], [1, 2, 3]) \n",
    "for i in z: \n",
    "    print(i, end = ', ')"
   ]
  },
  {
   "cell_type": "code",
   "execution_count": 62,
   "id": "d13e7e1f",
   "metadata": {},
   "outputs": [
    {
     "name": "stdout",
     "output_type": "stream",
     "text": [
      "('a', 1), ('b', 2), ('c', 3), "
     ]
    }
   ],
   "source": [
    "z = zip(('a', 'b', 'c'), (1, 2, 3)) \n",
    "for i in z: \n",
    "    print(i, end = ', ')"
   ]
  },
  {
   "cell_type": "markdown",
   "id": "1c83ad8c",
   "metadata": {},
   "source": [
    "zip이 반환하는 객체는 for루프에 둘 수 있다. 즉 iterable 객체이다."
   ]
  },
  {
   "cell_type": "markdown",
   "id": "e7f0a092",
   "metadata": {},
   "source": [
    "1. dict.keys() : 딕셔너리의 키들만 참조하고자 할 때  \n",
    "2. dict.values() : 딕셔너리의 값들만 참조하고자 할 때  \n",
    "3. dict.items() : 딕셔너리의 키와 값을 튜플형태로 참조하고자 할 때  \n",
    "0615 참고"
   ]
  },
  {
   "cell_type": "code",
   "execution_count": 86,
   "id": "3a31b0ff",
   "metadata": {},
   "outputs": [
    {
     "name": "stdout",
     "output_type": "stream",
     "text": [
      "1 scalar product of vector: [1, 2, 3]\n",
      "2 scalar product of vector: [2, 4, 6]\n",
      "3 scalar product of vector: [3, 6, 9]\n"
     ]
    }
   ],
   "source": [
    "vector_list = [[1, 2, 3]]\n",
    "for i, vector in enumerate(vector_list * 3):\n",
    "    print(\"{0} scalar product of vector: {1}\".format((i + 1), [(i + 1) * e for e in vector]))"
   ]
  },
  {
   "cell_type": "code",
   "execution_count": 87,
   "id": "eaaab180",
   "metadata": {},
   "outputs": [
    {
     "name": "stdout",
     "output_type": "stream",
     "text": [
      "{1: 'ming', 2: 'alice', 3: 'Nobody', 4: 'Nobody'}\n",
      "{1: 'alice', 2: 'ming', 3: 'mike', 4: 'Nobody'}\n",
      "{1: 'alice', 2: 'ming', 3: 'mike', 4: 'jim'}\n"
     ]
    }
   ],
   "source": [
    "def save_ranking(first, second, third=None, fourth=None):\n",
    "    rank = {}\n",
    "    rank[1], rank[2] = first, second\n",
    "    rank[3] = third if third is not None else 'Nobody'\n",
    "    rank[4] = fourth if fourth is not None else 'Nobody'\n",
    "    #True는 0이거나 비어있는 값이 아니면 된다. / False 0이거나 비어있는 값.\n",
    "    print(rank)\n",
    "\n",
    "# positional arguments 2개 전달\n",
    "save_ranking('ming', 'alice')\n",
    "# positional arguments 2개와 keyword argument 1개 전달\n",
    "save_ranking('alice', 'ming', third='mike')\n",
    "# positional arguments 2개와 keyword arguments 2개 전달 (단, 하나는 positional argument 형태로 전달)\n",
    "save_ranking('alice', 'ming', 'mike', fourth='jim')"
   ]
  },
  {
   "cell_type": "markdown",
   "id": "a6b00627",
   "metadata": {},
   "source": [
    "위의 코드의 경우 first와 second의 값이 주어지지 않을 경우 오류가 발생하는데 이러한 경우에 대비한 예외처리도 되어있지 않다. 이러한 상황을 피하기 위해 가변인자를 주어야 하는데,"
   ]
  },
  {
   "cell_type": "code",
   "execution_count": 121,
   "id": "8d174d7d",
   "metadata": {},
   "outputs": [
    {
     "name": "stdout",
     "output_type": "stream",
     "text": [
      "('ming', 'alice', 'tom', 'wilson', 'roy')\n"
     ]
    }
   ],
   "source": [
    "#positional arguments\n",
    "def save_ranking(*args):\n",
    "    print(args)\n",
    "save_ranking('ming', 'alice', 'tom', 'wilson', 'roy')"
   ]
  },
  {
   "cell_type": "code",
   "execution_count": 89,
   "id": "78fb781b",
   "metadata": {},
   "outputs": [
    {
     "name": "stdout",
     "output_type": "stream",
     "text": [
      "{'first': 'ming', 'second': 'alice', 'fourth': 'wilson', 'third': 'tom', 'fifth': 'roy'}\n"
     ]
    }
   ],
   "source": [
    "#keyword arguments\n",
    "def save_ranking(**kwargs):\n",
    "    print(kwargs)\n",
    "save_ranking(first='ming', second='alice', fourth='wilson', third='tom', fifth='roy')"
   ]
  },
  {
   "cell_type": "code",
   "execution_count": 90,
   "id": "c88c3ba5",
   "metadata": {},
   "outputs": [
    {
     "name": "stdout",
     "output_type": "stream",
     "text": [
      "('ming', 'alice', 'tom')\n",
      "{'fourth': 'wilson', 'fifth': 'roy'}\n"
     ]
    }
   ],
   "source": [
    "#positional arguments와 keyword arguments\n",
    "def save_ranking(*args, **kwargs):\n",
    "    print(args)\n",
    "    print(kwargs)\n",
    "save_ranking('ming', 'alice', 'tom', fourth='wilson', fifth='roy')"
   ]
  },
  {
   "cell_type": "markdown",
   "id": "3eae1503",
   "metadata": {},
   "source": [
    "위와 같이 가변인자들을 선언하여 사용하면 된다."
   ]
  },
  {
   "cell_type": "code",
   "execution_count": 64,
   "id": "af68bd30",
   "metadata": {},
   "outputs": [
    {
     "data": {
      "text/plain": [
       "{'a': 4, 'b': 8, 'c': 12}"
      ]
     },
     "execution_count": 64,
     "metadata": {},
     "output_type": "execute_result"
    }
   ],
   "source": [
    "d1 = dict(a = 1, b = 2, c = 3) \n",
    "# d1의 값을 두 배 늘린 딕셔너리 생성 \n",
    "d2 = {k : v*2 for k, v in d1.items()} \n",
    "# d2의 값을 두 배 늘린 딕셔너리 생성 \n",
    "d3 = {k : v*2 for k, v in d2.items()} \n",
    "\n",
    "d3"
   ]
  },
  {
   "cell_type": "code",
   "execution_count": 67,
   "id": "b1d383b7",
   "metadata": {},
   "outputs": [
    {
     "name": "stdout",
     "output_type": "stream",
     "text": [
      "1, 2, 3\n",
      "0.1, 0.2, 0.3\n",
      "a, b, c\n"
     ]
    }
   ],
   "source": [
    "def who(a, b, c): \n",
    "    print(a, b, c, sep = ', ')\n",
    "\n",
    "who(*[1, 2, 3]) # 리스트를 풀어서 매개변수에 각각 전달  \n",
    "who(*(0.1, 0.2, 0.3)) # 튜플을 풀어서 매개변수에 각각 전달  \n",
    "who(*'abc') # 문자열을 풀어서 매개변수에 각각 전달"
   ]
  },
  {
   "cell_type": "code",
   "execution_count": 69,
   "id": "eb139008",
   "metadata": {},
   "outputs": [
    {
     "name": "stdout",
     "output_type": "stream",
     "text": [
      "a, b, c\n",
      "1, 2, 3\n"
     ]
    }
   ],
   "source": [
    "def who(a, b, c): \n",
    "    print(a, b, c, sep = ', ')\n",
    "\n",
    "d = dict(a = 1, b = 2, c = 3) \n",
    "\n",
    "who(*d) # 이렇듯 *을 붙이면 키가 매개변수에 전달된다. \n",
    "who(**d) # 이렇듯 **을 붙이면 값이 매개변수에 전달된다. "
   ]
  },
  {
   "cell_type": "code",
   "execution_count": 70,
   "id": "d0233f60",
   "metadata": {},
   "outputs": [
    {
     "name": "stdout",
     "output_type": "stream",
     "text": [
      "()\n",
      "(1,)\n",
      "(1, 2)\n",
      "(1, 2, 3)\n"
     ]
    }
   ],
   "source": [
    "def func(*args): \n",
    "    print(args) # args는 튜플\n",
    "\n",
    "func() # 빈 튜플이 전달되는 형태  \n",
    "func(1) # 1이 튜플로 묶여서 전달 \n",
    "func(1, 2) # 1과 2가 튜플로 묶여서 전달 \n",
    "func(1, 2, 3)"
   ]
  },
  {
   "cell_type": "code",
   "execution_count": 71,
   "id": "28e35192",
   "metadata": {},
   "outputs": [
    {
     "name": "stdout",
     "output_type": "stream",
     "text": [
      "{'a': 1}\n",
      "{'a': 1, 'b': 2}\n",
      "{'a': 1, 'b': 2, 'c': 3}\n"
     ]
    }
   ],
   "source": [
    "def func(**args): \n",
    "    print(args) # args는 딕셔너리\n",
    "func(a = 1) # {'a': 1} 생성되어 args에 전달 \n",
    "func(a = 1, b = 2) # {'a': 1, 'b': 2} 생성되어 args에 전달 \n",
    "func(a = 1, b = 2, c = 3) "
   ]
  },
  {
   "cell_type": "code",
   "execution_count": 74,
   "id": "191c33ca",
   "metadata": {},
   "outputs": [
    {
     "name": "stdout",
     "output_type": "stream",
     "text": [
      "()\n",
      "{}\n",
      "(1,)\n",
      "{'a': 1}\n",
      "(1, 2)\n",
      "{'a': 1, 'b': 2}\n"
     ]
    }
   ],
   "source": [
    "def func(*args1, **args2):\n",
    "    print(args1)\n",
    "    print(args2)\n",
    "\n",
    "func()\n",
    "func(1, a = 1)\n",
    "func(1, 2, a = 1, b = 2)"
   ]
  },
  {
   "cell_type": "code",
   "execution_count": 77,
   "id": "493ba735",
   "metadata": {},
   "outputs": [
    {
     "data": {
      "text/plain": [
       "{'r': 1, 'o': 2, 'b': 1, 't': 1}"
      ]
     },
     "execution_count": 77,
     "metadata": {},
     "output_type": "execute_result"
    }
   ],
   "source": [
    "s = 'robot'\n",
    "d = {} \n",
    "for k in s: \n",
    "    if k in d: #키가 존재하면, \n",
    "        d[k] += 1 #해당 키의 값을 1 증가 \n",
    "    else: #키가 존재하지 않으면, \n",
    "        d[k] = 1 #해당 키의 값을 1로 해서 새로 추가\n",
    "\n",
    "d"
   ]
  },
  {
   "cell_type": "code",
   "execution_count": 78,
   "id": "3f8f34c5",
   "metadata": {},
   "outputs": [
    {
     "data": {
      "text/plain": [
       "{'r': 1, 'o': 2, 'b': 1, 't': 1}"
      ]
     },
     "execution_count": 78,
     "metadata": {},
     "output_type": "execute_result"
    }
   ],
   "source": [
    "s = 'robot'\n",
    "d = {} \n",
    "for k in s: \n",
    "    d[k] = d.setdefault(k, 0) + 1 \n",
    "    #딕셔너리의 setdefault 메소드 호출\n",
    "    #해당 키에 값이 없을 경우 디폴트값을 지정한다. \n",
    "    #이러한 방법 사용으로 키값이 없을 경우를 방지 할 수 있다.\n",
    "\n",
    "d "
   ]
  },
  {
   "cell_type": "code",
   "execution_count": 84,
   "id": "310c6066",
   "metadata": {},
   "outputs": [
    {
     "data": {
      "text/plain": [
       "0"
      ]
     },
     "execution_count": 84,
     "metadata": {},
     "output_type": "execute_result"
    }
   ],
   "source": [
    "from collections import defaultdict\n",
    "#defaultdict은 collections모듈의 함수이다.\n",
    "d = defaultdict(lambda : 0)\n",
    "d['a']"
   ]
  },
  {
   "cell_type": "code",
   "execution_count": 85,
   "id": "a61ce856",
   "metadata": {},
   "outputs": [
    {
     "data": {
      "text/plain": [
       "OrderedDict([('a', 1), ('b', 2), ('c', 3)])"
      ]
     },
     "execution_count": 85,
     "metadata": {},
     "output_type": "execute_result"
    }
   ],
   "source": [
    "from collections import OrderedDict \n",
    "# collections 모듈의 OrderedDict\n",
    "od = OrderedDict() # OrderedDict 객체 생성 \n",
    "od['a'] = 1 # 딕셔너리 사용 방법과 동일 \n",
    "od['b'] = 2 \n",
    "od['c'] = 3 \n",
    "od "
   ]
  },
  {
   "cell_type": "markdown",
   "id": "36628197",
   "metadata": {},
   "source": [
    "OrderedDict은 딕셔너리의 정보뿐만이 아닌 '저장 순서'도 중요한 정보로 판단한다."
   ]
  }
 ],
 "metadata": {
  "kernelspec": {
   "display_name": "Python 3 (ipykernel)",
   "language": "python",
   "name": "python3"
  },
  "language_info": {
   "codemirror_mode": {
    "name": "ipython",
    "version": 3
   },
   "file_extension": ".py",
   "mimetype": "text/x-python",
   "name": "python",
   "nbconvert_exporter": "python",
   "pygments_lexer": "ipython3",
   "version": "3.9.12"
  }
 },
 "nbformat": 4,
 "nbformat_minor": 5
}
