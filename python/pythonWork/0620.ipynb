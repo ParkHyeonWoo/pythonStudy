{
 "cells": [
  {
   "cell_type": "code",
   "execution_count": 8,
   "id": "62b9ea1e",
   "metadata": {},
   "outputs": [
    {
     "name": "stdout",
     "output_type": "stream",
     "text": [
      "{'c', 'f'}\n",
      "{'d', 'a'}\n",
      "{'c', 'b', 'e', 'd', 'a', 'f'}\n",
      "{'c', 'b', 'e', 'f'}\n"
     ]
    }
   ],
   "source": [
    "A = {'a', 'c', 'd', 'f'} # 집합 A, 이것이 set를 생성하는 기본 방법이다. \n",
    "B = {'a', 'b', 'd', 'e'} # 집합 B \n",
    "\n",
    "print(A - B) # A에 대한 B의 차집합, A - B \n",
    "\n",
    "print(A & B) # A와 B의 교집합, A ∩ B, and\n",
    "\n",
    "print(A | B) # A와 B의 합집합, A ∪ B, or\n",
    "\n",
    "print(A ^ B) # A와 B의 대칭 차집합(합집합에서 교집합을 뺀 것), (A-B) ∪ (B-A), xor"
   ]
  },
  {
   "cell_type": "code",
   "execution_count": 2,
   "id": "f1a72a8d",
   "metadata": {},
   "outputs": [
    {
     "data": {
      "text/plain": [
       "['z', 3, 7]"
      ]
     },
     "execution_count": 2,
     "metadata": {},
     "output_type": "execute_result"
    }
   ],
   "source": [
    "t = [3, 3, 3, 7, 7, 'z', 'z'] \n",
    "t = list(set(t)) \n",
    "# t를 가지고 set을 구성하고, 다시 그 결과로 리스트 구성\n",
    "t\n",
    "# 이러한 과정을 거치는 이유는 리스트 안의 중복값을 자동으로 처리해주기 때문이다."
   ]
  },
  {
   "cell_type": "code",
   "execution_count": 7,
   "id": "02553659",
   "metadata": {},
   "outputs": [
    {
     "name": "stdout",
     "output_type": "stream",
     "text": [
      "frozenset({'c', 'f'})\n",
      "frozenset({'c', 'e', 'b', 'd', 'a', 'f'})\n",
      "False\n",
      "d a "
     ]
    }
   ],
   "source": [
    "A = frozenset(['a', 'c', 'd', 'f']) # frozenset 함수에 iterable 객체 전달해서 생성\n",
    "B = frozenset(['a', 'b', 'd', 'e']) \n",
    "print(A - B)  \n",
    "print(A | B)  \n",
    "print(A == B) \n",
    "'a' in A \n",
    "for c in A & B: \n",
    "    print(c, end = ' ')\n",
    "#frozenset은 set을 상수로 만드는 것처럼 변경이 불가능하게 만든다."
   ]
  },
  {
   "cell_type": "markdown",
   "id": "982f9301",
   "metadata": {},
   "source": [
    "add 원소 추가하기  \n",
    "discard 원소 삭제하기  \n",
    "update 다른 집합의 원소 전부 추가하기  \n",
    "intersection_update, &= 다른 집합과 공통으로 있는 원소 남기기  \n",
    "difference_update, -= 다른 집합이 갖는 원소 모두 삭제하기  \n",
    "symmetric_difference_update, ^= 공통으로 갖지 않는 것들은 추가하고 나머지는 삭제  "
   ]
  },
  {
   "cell_type": "code",
   "execution_count": 10,
   "id": "c8e6456e",
   "metadata": {},
   "outputs": [
    {
     "data": {
      "text/plain": [
       "[1, 2, 3, 4]"
      ]
     },
     "execution_count": 10,
     "metadata": {},
     "output_type": "execute_result"
    }
   ],
   "source": [
    "ns = [3, 1, 4, 2] \n",
    "ns.sort()\n",
    "ns"
   ]
  },
  {
   "cell_type": "code",
   "execution_count": 11,
   "id": "309b5ef2",
   "metadata": {},
   "outputs": [
    {
     "data": {
      "text/plain": [
       "[4, 3, 2, 1]"
      ]
     },
     "execution_count": 11,
     "metadata": {},
     "output_type": "execute_result"
    }
   ],
   "source": [
    "ns = [3, 1, 4, 2] \n",
    "ns.sort(reverse = True)\n",
    "ns"
   ]
  },
  {
   "cell_type": "code",
   "execution_count": 12,
   "id": "714a0dc6",
   "metadata": {},
   "outputs": [
    {
     "data": {
      "text/plain": [
       "[('Lee', 12), ('Park', 29), ('Yoon', 33)]"
      ]
     },
     "execution_count": 12,
     "metadata": {},
     "output_type": "execute_result"
    }
   ],
   "source": [
    "ns = [('Yoon', 33), ('Lee', 12), ('Park', 29)] \n",
    "def age(t): \n",
    "    return t[1] #배열의 2번째 값인 나이들이 넘어간다.\n",
    "ns.sort(key = age) #매개변수 key에 함수 age를 전달\n",
    "ns.sort(key = age, reverse = True)\n",
    "ns"
   ]
  },
  {
   "cell_type": "code",
   "execution_count": 33,
   "id": "4e2c1624",
   "metadata": {},
   "outputs": [
    {
     "data": {
      "text/plain": [
       "[('Yoon', 33), ('Park', 29), ('Lee', 12)]"
      ]
     },
     "execution_count": 33,
     "metadata": {},
     "output_type": "execute_result"
    }
   ],
   "source": [
    "ns = [('Yoon', 33), ('Lee', 12), ('Park', 29)]\n",
    "ns.sort(key = lambda val : val[1], reverse = True)\n",
    "ns"
   ]
  },
  {
   "cell_type": "code",
   "execution_count": 35,
   "id": "5dbac5b2",
   "metadata": {},
   "outputs": [
    {
     "data": {
      "text/plain": [
       "[('Yoon', 33), ('Park', 29), ('Lee', 12)]"
      ]
     },
     "execution_count": 35,
     "metadata": {},
     "output_type": "execute_result"
    }
   ],
   "source": [
    "org = [('Yoon', 33), ('Lee', 12), ('Park', 29)]\n",
    "cpy = sorted(org, key = lambda t : t[1], reverse = True)\n",
    "print(org)\n",
    "print(cpy)\n",
    "#sort함수와 다른 점은 sort함수는 원본을 건들여 내용이 변경되지만 \n",
    "#sorted는 원본을 건들지 않고 리턴값으로 사본을 만들어 낸다."
   ]
  },
  {
   "cell_type": "code",
   "execution_count": 38,
   "id": "8d3f941e",
   "metadata": {},
   "outputs": [
    {
     "name": "stdout",
     "output_type": "stream",
     "text": [
      "(3, 1, 2)\n",
      "(1, 2, 3)\n"
     ]
    }
   ],
   "source": [
    "org = (3, 1, 2) \n",
    "cpy = tuple(sorted(org)) \n",
    "#원본과 동일한 자료형을 유지하기 위해 tuple함수로 다시 가둔다.\n",
    "print(org)\n",
    "print(cpy)"
   ]
  },
  {
   "cell_type": "code",
   "execution_count": 40,
   "id": "97eb3228",
   "metadata": {},
   "outputs": [
    {
     "data": {
      "text/plain": [
       "{1: '김현주', 2: '박선주', 3: '윤나은', 4: '이지선', 5: '장현지'}"
      ]
     },
     "execution_count": 40,
     "metadata": {},
     "output_type": "execute_result"
    }
   ],
   "source": [
    "names = ['윤나은', '김현주', '장현지', '이지선', '박선주'] \n",
    "names.sort() \n",
    "dnames = {} \n",
    "\n",
    "i = 1\n",
    "for n in names: \n",
    "    dnames[i] = n # i와 n을 각각 '키'와 '값'으로 해서 딕셔너리에 저장\n",
    "    i += 1\n",
    "dnames"
   ]
  },
  {
   "cell_type": "markdown",
   "id": "7a412d0b",
   "metadata": {},
   "source": [
    "위의 방식은 하나의 결과를 위해 여러 값들을 정의 해야하기에 과정이 번거로워진다."
   ]
  },
  {
   "cell_type": "code",
   "execution_count": 42,
   "id": "c206e251",
   "metadata": {},
   "outputs": [
    {
     "name": "stdout",
     "output_type": "stream",
     "text": [
      "(0, '윤나은')\n",
      "(1, '김현주')\n",
      "(2, '장현지')\n",
      "(3, '이지선')\n",
      "(4, '박선주')\n"
     ]
    }
   ],
   "source": [
    "names = ['윤나은', '김현주', '장현지', '이지선', '박선주'] \n",
    "en = enumerate(names)\n",
    "\n",
    "for n in en: \n",
    "    print(n)"
   ]
  },
  {
   "cell_type": "markdown",
   "id": "07e1f3cb",
   "metadata": {},
   "source": [
    "그래서 enumerate함수(열거형 함수)를 사용함으로써 과정을 간소화 시킨다. 하지만 이 또한 파이썬스러운 코딩은 아니다."
   ]
  },
  {
   "cell_type": "code",
   "execution_count": 43,
   "id": "a536af88",
   "metadata": {},
   "outputs": [
    {
     "data": {
      "text/plain": [
       "{1: '김현주', 2: '박선주', 3: '윤나은', 4: '이지선', 5: '장현지'}"
      ]
     },
     "execution_count": 43,
     "metadata": {},
     "output_type": "execute_result"
    }
   ],
   "source": [
    "names = ['윤나은', '김현주', '장현지', '이지선', '박선주']\n",
    "dnames = {k : v for k, v in enumerate(sorted(names), 1)}\n",
    "#딕셔너리 컴프리헨션 사용.\n",
    "dnames "
   ]
  },
  {
   "cell_type": "markdown",
   "id": "0b1d8c34",
   "metadata": {},
   "source": [
    "파이썬의 딕셔너리 컴프리헨션과 열거형 함수를 같이 사용하여 처음과 비교해 많이 간소화된 모습을 볼 수 있다."
   ]
  },
  {
   "cell_type": "code",
   "execution_count": 57,
   "id": "88a592dc",
   "metadata": {},
   "outputs": [
    {
     "data": {
      "text/plain": [
       "0"
      ]
     },
     "execution_count": 57,
     "metadata": {},
     "output_type": "execute_result"
    }
   ],
   "source": [
    "def quiz1(num):\n",
    "    return int(num%2==0)\n",
    "quiz1(1)"
   ]
  },
  {
   "cell_type": "code",
   "execution_count": 2,
   "id": "044a337c",
   "metadata": {},
   "outputs": [
    {
     "data": {
      "text/plain": [
       "1"
      ]
     },
     "execution_count": 2,
     "metadata": {},
     "output_type": "execute_result"
    }
   ],
   "source": [
    "def quiz2(str):\n",
    "    str2 = str.split('-')[1]\n",
    "    return int(str2[0])\n",
    "\n",
    "str = '641104-1034510'\n",
    "quiz2(str)"
   ]
  },
  {
   "cell_type": "code",
   "execution_count": 1,
   "id": "264e6897",
   "metadata": {},
   "outputs": [
    {
     "data": {
      "text/plain": [
       "1"
      ]
     },
     "execution_count": 1,
     "metadata": {},
     "output_type": "execute_result"
    }
   ],
   "source": [
    "quiz2 = lambda str : int(str.split('-')[1][0])\n",
    "\n",
    "str = '641104-1034510'\n",
    "quiz2(str)"
   ]
  }
 ],
 "metadata": {
  "kernelspec": {
   "display_name": "Python 3 (ipykernel)",
   "language": "python",
   "name": "python3"
  },
  "language_info": {
   "codemirror_mode": {
    "name": "ipython",
    "version": 3
   },
   "file_extension": ".py",
   "mimetype": "text/x-python",
   "name": "python",
   "nbconvert_exporter": "python",
   "pygments_lexer": "ipython3",
   "version": "3.9.12"
  }
 },
 "nbformat": 4,
 "nbformat_minor": 5
}
