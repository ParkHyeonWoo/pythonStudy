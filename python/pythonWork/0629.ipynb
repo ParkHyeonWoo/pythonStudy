{
 "cells": [
  {
   "cell_type": "code",
   "execution_count": 1,
   "id": "ec73aee3",
   "metadata": {},
   "outputs": [],
   "source": [
    "api_key = 'RGAPI-5f1da01a-8bc4-45fd-9eb1-c0f00e116249'"
   ]
  },
  {
   "cell_type": "code",
   "execution_count": 33,
   "id": "2450296e",
   "metadata": {},
   "outputs": [],
   "source": [
    "import pandas as pd\n",
    "import requests\n",
    "import cx_Oracle\n",
    "from tqdm import tqdm"
   ]
  },
  {
   "cell_type": "code",
   "execution_count": 3,
   "id": "12c86e00",
   "metadata": {},
   "outputs": [],
   "source": [
    "url_diamond_1 = 'https://kr.api.riotgames.com/lol/league/v4/entries/RANKED_SOLO_5x5/DIAMOND/I?page=1&api_key='+api_key"
   ]
  },
  {
   "cell_type": "code",
   "execution_count": 24,
   "id": "2e7923f0",
   "metadata": {},
   "outputs": [],
   "source": [
    "res_diamond_1 = requests.get(url_diamond_1).json()"
   ]
  },
  {
   "cell_type": "code",
   "execution_count": 5,
   "id": "aed6e61d",
   "metadata": {},
   "outputs": [
    {
     "data": {
      "text/plain": [
       "205"
      ]
     },
     "execution_count": 5,
     "metadata": {},
     "output_type": "execute_result"
    }
   ],
   "source": [
    "len(res_diamond_1)"
   ]
  },
  {
   "cell_type": "code",
   "execution_count": 6,
   "id": "65f31ee7",
   "metadata": {},
   "outputs": [
    {
     "data": {
      "text/plain": [
       "dict_keys(['leagueId', 'queueType', 'tier', 'rank', 'summonerId', 'summonerName', 'leaguePoints', 'wins', 'losses', 'veteran', 'inactive', 'freshBlood', 'hotStreak'])"
      ]
     },
     "execution_count": 6,
     "metadata": {},
     "output_type": "execute_result"
    }
   ],
   "source": [
    "res_diamond_1[0].keys()"
   ]
  },
  {
   "cell_type": "code",
   "execution_count": 7,
   "id": "5bf8d3ae",
   "metadata": {},
   "outputs": [],
   "source": [
    "summonerName_lst = list(map(lambda x: x['summonerName'], res_diamond_1))"
   ]
  },
  {
   "cell_type": "code",
   "execution_count": 8,
   "id": "61921d52",
   "metadata": {},
   "outputs": [
    {
     "data": {
      "text/plain": [
       "['Sehee lu',\n",
       " '이블린 그 자체',\n",
       " '르 작',\n",
       " 'Jasm1ne',\n",
       " '꿀태영',\n",
       " '냉동참치명치펀치',\n",
       " '싱거워',\n",
       " '갓병대 욱',\n",
       " '8분만 버티자',\n",
       " '김홍순3',\n",
       " '지겨워죽겠엉',\n",
       " '다시 태어난 애',\n",
       " '벡스 갈리오',\n",
       " '하이 눈 김주호',\n",
       " '겜포기안함',\n",
       " 'SEK4',\n",
       " '괴롭히지마피즈',\n",
       " '신미야',\n",
       " '22 05 29bb',\n",
       " '블루와 옐로우',\n",
       " '아기도파',\n",
       " 'Fatty',\n",
       " '씨맥의 동기부여',\n",
       " '나참챈싫다',\n",
       " '우리팀은 조평신',\n",
       " 'Round One',\n",
       " '소영이는공주야',\n",
       " 'mid revenant',\n",
       " '법무법인 김앤장',\n",
       " '구도비틀기',\n",
       " '새드보이제이비',\n",
       " '얼음 연꽃',\n",
       " 'Pxxch',\n",
       " '겜에정떨어진사람',\n",
       " 'SUPPOSSED',\n",
       " 'Lovely',\n",
       " 'SN Bin',\n",
       " '짜피나크면못막아',\n",
       " '지나가다멈춘부계',\n",
       " 'zunyidiyi jug',\n",
       " '띠동갑남친',\n",
       " '오빠 이러지마',\n",
       " '서른웅',\n",
       " 'Youtube Axiyo',\n",
       " '상 상',\n",
       " '돌망치 오우거',\n",
       " '쵸비루키페이커띵구쇼메이커비디디',\n",
       " '탑 라인전 최약체',\n",
       " '패배가무서운사람',\n",
       " '조까안가',\n",
       " '고 광',\n",
       " 'lihai1',\n",
       " '빨간악보',\n",
       " 'Esquif7',\n",
       " '마스터 우르곳',\n",
       " '트위치 카제',\n",
       " 'moochin련',\n",
       " 'Lv60 qiangshou',\n",
       " 'Stay Sunday',\n",
       " '채팅차단하고홧팅',\n",
       " '유창하다',\n",
       " '미드는개백정',\n",
       " 'Migung',\n",
       " '카운트다운4',\n",
       " '나는 너무 못한다',\n",
       " 'itsuka Kotor1',\n",
       " '싸우지들마세여',\n",
       " '첼린저갈피지컬',\n",
       " '어둠잔fan',\n",
       " '카서스뽀삐쉔',\n",
       " 'kiss and kill',\n",
       " '미라크리',\n",
       " '기백짱짱123',\n",
       " 'skyplay',\n",
       " '어른도치씩씩',\n",
       " 'llllIIllllllIIII',\n",
       " '난 바보양',\n",
       " '페이스북 정철환',\n",
       " 'alalalalalala',\n",
       " 'BVSide',\n",
       " '에 디',\n",
       " '아 뭔 미드근코여',\n",
       " '간단해요',\n",
       " '도 빈',\n",
       " 'LoL Catarina',\n",
       " '창 의',\n",
       " '지 띵',\n",
       " '포뇨의지옥참마도',\n",
       " 'AttxcK',\n",
       " 'wai heo ',\n",
       " 'TF Kuguri',\n",
       " 'srysrysrysryteam',\n",
       " '애쉬서폿장인',\n",
       " '2001년생 원딜러',\n",
       " '혼자자요',\n",
       " '김지혜 선생',\n",
       " '원 없이 딜',\n",
       " 'zhang lang e ba',\n",
       " '건강이 우선이야',\n",
       " '가로등으로무차별폭행',\n",
       " '황 첼',\n",
       " '눈작은사람',\n",
       " '치욱치욱',\n",
       " 'zsxcasdasd',\n",
       " '우준정',\n",
       " 'DFLNN',\n",
       " '버러지잡대',\n",
       " 'I 전투 기계 I',\n",
       " '재해레벨 귀',\n",
       " '수환짱짱',\n",
       " '다하까',\n",
       " '코코아뽕빨러',\n",
       " '마티아스잠머',\n",
       " '물만난고양이',\n",
       " '잠자기싫다',\n",
       " '다드몬아이이다',\n",
       " '도오오오직',\n",
       " '하여간에 롤만했다하면 스트레스',\n",
       " '눈이 녹아간다',\n",
       " 'The Rek shy',\n",
       " '선혈제이스',\n",
       " 'b2z',\n",
       " '07 INFP그자체',\n",
       " '후픽좀후픽좀후픽',\n",
       " 'Qurella',\n",
       " '후 You',\n",
       " 'Adeline Jp',\n",
       " 'Quates',\n",
       " '미안하다룰루보여주려어그로끌었다',\n",
       " 'SPEED3577',\n",
       " '미니세훈',\n",
       " 'pa wu gui qi',\n",
       " '신 기',\n",
       " 'Hushen fan',\n",
       " 'dubooyeon',\n",
       " '엄마있음1234',\n",
       " '김재하',\n",
       " '재스민 속',\n",
       " 'louii',\n",
       " '세레쟈',\n",
       " 'IvernExperience',\n",
       " '똘 민',\n",
       " '따뜻한말차프라페',\n",
       " 'Kitagawa san',\n",
       " '게임이기려면싸우지좀말고해라쫌',\n",
       " '사자는크와아앙',\n",
       " '캐리두',\n",
       " '안즈2',\n",
       " 'chicquinn',\n",
       " '혁 좌',\n",
       " '서포터인권파괴자',\n",
       " 'ni men cai b',\n",
       " '도지아부지',\n",
       " '하고싶은날엔',\n",
       " '연기지망생',\n",
       " 'dkdks',\n",
       " '해피 가든',\n",
       " '탑으로 폐관수련',\n",
       " '앤 쥐',\n",
       " '우글이',\n",
       " '1999년 5월 1일',\n",
       " 'flu',\n",
       " '우주를파괴할남자',\n",
       " '전서방 닭갈비',\n",
       " '짱 해 커',\n",
       " 'MVP Eclipse',\n",
       " '플루몬',\n",
       " '쁘띠공주 시진핑',\n",
       " 'Gusha',\n",
       " '08원딜지망',\n",
       " '강태상태망테',\n",
       " 'OI기고 싶다',\n",
       " '난말로안해날라가',\n",
       " '도박요정',\n",
       " '짝동영',\n",
       " '소신2',\n",
       " '구자담',\n",
       " 'NlDAlKlNG',\n",
       " '챌 유 미',\n",
       " '짱시시',\n",
       " 'JUSlN',\n",
       " '바론바로돼지',\n",
       " '여름밤의 추억',\n",
       " '보로스',\n",
       " '사수를사수하는법',\n",
       " '마지막 시작',\n",
       " '오산1짱 문채은',\n",
       " 'Seri',\n",
       " '고수달다이아보냄',\n",
       " 'Princess 잰',\n",
       " 'MiMiC KING',\n",
       " 'L I T E B O X',\n",
       " 'M             친',\n",
       " '게살치킨',\n",
       " '하찮은 누누',\n",
       " '이제팀웍이보이내',\n",
       " '민사부라',\n",
       " '도봉구 김수환',\n",
       " '서유은',\n",
       " 'shijiediyiadc',\n",
       " 'svsksvsvk',\n",
       " 'sycusgqhuqiqq',\n",
       " 'Nuskin12',\n",
       " '불멸의철갑귤',\n",
       " '청약철회아이디']"
      ]
     },
     "execution_count": 8,
     "metadata": {},
     "output_type": "execute_result"
    }
   ],
   "source": [
    "summonerName_lst"
   ]
  },
  {
   "cell_type": "code",
   "execution_count": 9,
   "id": "69c4a060",
   "metadata": {},
   "outputs": [],
   "source": [
    "from my_utils import *"
   ]
  },
  {
   "cell_type": "code",
   "execution_count": 10,
   "id": "ab560aec",
   "metadata": {},
   "outputs": [],
   "source": [
    "puuid = list(map(lambda x: get_puuid(x), summonerName_lst[:3]))"
   ]
  },
  {
   "cell_type": "code",
   "execution_count": 11,
   "id": "e367045e",
   "metadata": {},
   "outputs": [],
   "source": [
    "matchid = list(map(lambda x: get_matchid(x, 3), puuid))"
   ]
  },
  {
   "cell_type": "code",
   "execution_count": 12,
   "id": "3bfadc1f",
   "metadata": {},
   "outputs": [],
   "source": [
    "matchs = []\n",
    "for i in matchid:\n",
    "    matchs.extend(get_matchs_timelines(i))"
   ]
  },
  {
   "cell_type": "code",
   "execution_count": 13,
   "id": "57ae82fc",
   "metadata": {},
   "outputs": [],
   "source": [
    "def get_lst(summonerName_lst):\n",
    "    tmp = []\n",
    "    for i in summonerName_lst[:3]:\n",
    "        puuid = get_puuid(i)\n",
    "        matchid = get_matchid(puuid, 3)\n",
    "        matchs_timelines = get_matchs_timelines(matchid)\n",
    "        tmp.extend(matchs_timelines)\n",
    "    return tmp"
   ]
  },
  {
   "cell_type": "code",
   "execution_count": 27,
   "id": "0f06bacc",
   "metadata": {},
   "outputs": [],
   "source": [
    "tmp = get_lst(summonerName_lst)"
   ]
  },
  {
   "cell_type": "code",
   "execution_count": 29,
   "id": "7eb235b5",
   "metadata": {},
   "outputs": [],
   "source": [
    "df = pd.DataFrame(tmp, columns = ['gameid', 'matchs', 'timelines'])"
   ]
  },
  {
   "cell_type": "code",
   "execution_count": 30,
   "id": "b38946ee",
   "metadata": {},
   "outputs": [
    {
     "data": {
      "text/html": [
       "<div>\n",
       "<style scoped>\n",
       "    .dataframe tbody tr th:only-of-type {\n",
       "        vertical-align: middle;\n",
       "    }\n",
       "\n",
       "    .dataframe tbody tr th {\n",
       "        vertical-align: top;\n",
       "    }\n",
       "\n",
       "    .dataframe thead th {\n",
       "        text-align: right;\n",
       "    }\n",
       "</style>\n",
       "<table border=\"1\" class=\"dataframe\">\n",
       "  <thead>\n",
       "    <tr style=\"text-align: right;\">\n",
       "      <th></th>\n",
       "      <th>gameid</th>\n",
       "      <th>matchs</th>\n",
       "      <th>timelines</th>\n",
       "    </tr>\n",
       "  </thead>\n",
       "  <tbody>\n",
       "    <tr>\n",
       "      <th>0</th>\n",
       "      <td>KR_5959757493</td>\n",
       "      <td>{'metadata': {'dataVersion': '2', 'matchId': '...</td>\n",
       "      <td>{'metadata': {'dataVersion': '2', 'matchId': '...</td>\n",
       "    </tr>\n",
       "    <tr>\n",
       "      <th>1</th>\n",
       "      <td>KR_5959723670</td>\n",
       "      <td>{'metadata': {'dataVersion': '2', 'matchId': '...</td>\n",
       "      <td>{'metadata': {'dataVersion': '2', 'matchId': '...</td>\n",
       "    </tr>\n",
       "    <tr>\n",
       "      <th>2</th>\n",
       "      <td>KR_5959674785</td>\n",
       "      <td>{'metadata': {'dataVersion': '2', 'matchId': '...</td>\n",
       "      <td>{'metadata': {'dataVersion': '2', 'matchId': '...</td>\n",
       "    </tr>\n",
       "    <tr>\n",
       "      <th>3</th>\n",
       "      <td>KR_5997104424</td>\n",
       "      <td>{'metadata': {'dataVersion': '2', 'matchId': '...</td>\n",
       "      <td>{'metadata': {'dataVersion': '2', 'matchId': '...</td>\n",
       "    </tr>\n",
       "    <tr>\n",
       "      <th>4</th>\n",
       "      <td>KR_5997030619</td>\n",
       "      <td>{'metadata': {'dataVersion': '2', 'matchId': '...</td>\n",
       "      <td>{'metadata': {'dataVersion': '2', 'matchId': '...</td>\n",
       "    </tr>\n",
       "    <tr>\n",
       "      <th>5</th>\n",
       "      <td>KR_5996994464</td>\n",
       "      <td>{'metadata': {'dataVersion': '2', 'matchId': '...</td>\n",
       "      <td>{'metadata': {'dataVersion': '2', 'matchId': '...</td>\n",
       "    </tr>\n",
       "    <tr>\n",
       "      <th>6</th>\n",
       "      <td>KR_6004039447</td>\n",
       "      <td>{'metadata': {'dataVersion': '2', 'matchId': '...</td>\n",
       "      <td>{'metadata': {'dataVersion': '2', 'matchId': '...</td>\n",
       "    </tr>\n",
       "    <tr>\n",
       "      <th>7</th>\n",
       "      <td>KR_6004006724</td>\n",
       "      <td>{'metadata': {'dataVersion': '2', 'matchId': '...</td>\n",
       "      <td>{'metadata': {'dataVersion': '2', 'matchId': '...</td>\n",
       "    </tr>\n",
       "    <tr>\n",
       "      <th>8</th>\n",
       "      <td>KR_6003971542</td>\n",
       "      <td>{'metadata': {'dataVersion': '2', 'matchId': '...</td>\n",
       "      <td>{'metadata': {'dataVersion': '2', 'matchId': '...</td>\n",
       "    </tr>\n",
       "  </tbody>\n",
       "</table>\n",
       "</div>"
      ],
      "text/plain": [
       "          gameid                                             matchs  \\\n",
       "0  KR_5959757493  {'metadata': {'dataVersion': '2', 'matchId': '...   \n",
       "1  KR_5959723670  {'metadata': {'dataVersion': '2', 'matchId': '...   \n",
       "2  KR_5959674785  {'metadata': {'dataVersion': '2', 'matchId': '...   \n",
       "3  KR_5997104424  {'metadata': {'dataVersion': '2', 'matchId': '...   \n",
       "4  KR_5997030619  {'metadata': {'dataVersion': '2', 'matchId': '...   \n",
       "5  KR_5996994464  {'metadata': {'dataVersion': '2', 'matchId': '...   \n",
       "6  KR_6004039447  {'metadata': {'dataVersion': '2', 'matchId': '...   \n",
       "7  KR_6004006724  {'metadata': {'dataVersion': '2', 'matchId': '...   \n",
       "8  KR_6003971542  {'metadata': {'dataVersion': '2', 'matchId': '...   \n",
       "\n",
       "                                           timelines  \n",
       "0  {'metadata': {'dataVersion': '2', 'matchId': '...  \n",
       "1  {'metadata': {'dataVersion': '2', 'matchId': '...  \n",
       "2  {'metadata': {'dataVersion': '2', 'matchId': '...  \n",
       "3  {'metadata': {'dataVersion': '2', 'matchId': '...  \n",
       "4  {'metadata': {'dataVersion': '2', 'matchId': '...  \n",
       "5  {'metadata': {'dataVersion': '2', 'matchId': '...  \n",
       "6  {'metadata': {'dataVersion': '2', 'matchId': '...  \n",
       "7  {'metadata': {'dataVersion': '2', 'matchId': '...  \n",
       "8  {'metadata': {'dataVersion': '2', 'matchId': '...  "
      ]
     },
     "execution_count": 30,
     "metadata": {},
     "output_type": "execute_result"
    }
   ],
   "source": [
    "df"
   ]
  },
  {
   "cell_type": "code",
   "execution_count": 34,
   "id": "bafac662",
   "metadata": {},
   "outputs": [],
   "source": [
    "def matchs_lst(df):\n",
    "    lst = []\n",
    "    for i in tqdm(range(len(df))):\n",
    "        if df.iloc[i].matchs['info']['gameMode'] == 'CLASSIC':\n",
    "            for j in range(10):\n",
    "                try:\n",
    "                    tmp = []\n",
    "                    tmp.append(df.iloc[i].matchs['info']['gameId'])\n",
    "                    tmp.append(df.iloc[i].matchs['info']['gameDuration'])\n",
    "                    tmp.append(df.iloc[i].matchs['info']['gameVersion'])\n",
    "                    tmp.append(df.iloc[i].matchs['info']['participants'][j]['participantId'])\n",
    "                    tmp.append(df.iloc[i].matchs['info']['participants'][j]['teamId'])\n",
    "                    tmp.append(df.iloc[i].matchs['info']['participants'][j]['championName'])\n",
    "                    tmp.append(df.iloc[i].matchs['info']['participants'][j]['totalDamageDealt'])\n",
    "                    tmp.append(df.iloc[i].matchs['info']['participants'][j]['totalDamageDealtToChampions'])\n",
    "                    tmp.append(df.iloc[i].matchs['info']['participants'][j]['totalDamageTaken'])\n",
    "                    tmp.append(df.iloc[i].matchs['info']['participants'][j]['teamPosition'])\n",
    "                    tmp.append(df.iloc[i].matchs['info']['participants'][j]['summonerName'])\n",
    "                    tmp.append(df.iloc[i].matchs['info']['participants'][j]['summonerLevel'])\n",
    "                    tmp.append(df.iloc[i].matchs['info']['participants'][j]['kills'])\n",
    "                    tmp.append(df.iloc[i].matchs['info']['participants'][j]['assists'])\n",
    "                    tmp.append(df.iloc[i].matchs['info']['participants'][j]['deaths'])\n",
    "                    tmp.append(df.iloc[i].matchs['info']['participants'][j]['summoner1Id'])\n",
    "                    tmp.append(df.iloc[i].matchs['info']['participants'][j]['summoner2Id'])\n",
    "                    tmp.append(df.iloc[i].matchs['info']['participants'][j]['item0'])\n",
    "                    tmp.append(df.iloc[i].matchs['info']['participants'][j]['item1'])\n",
    "                    tmp.append(df.iloc[i].matchs['info']['participants'][j]['item2'])\n",
    "                    tmp.append(df.iloc[i].matchs['info']['participants'][j]['item3'])\n",
    "                    tmp.append(df.iloc[i].matchs['info']['participants'][j]['item4'])\n",
    "                    tmp.append(df.iloc[i].matchs['info']['participants'][j]['item5'])\n",
    "                    tmp.append(df.iloc[i].matchs['info']['participants'][j]['item6'])\n",
    "                    lst.append(tmp)\n",
    "                except Exception as e:\n",
    "                    print(e)\n",
    "    return lst"
   ]
  },
  {
   "cell_type": "code",
   "execution_count": 36,
   "id": "9a730ffc",
   "metadata": {},
   "outputs": [
    {
     "name": "stderr",
     "output_type": "stream",
     "text": [
      "100%|████████████████████████████████████████████████████████████████████████████████████| 9/9 [00:00<00:00, 62.54it/s]\n"
     ]
    }
   ],
   "source": [
    "tmp = matchs_lst(df)"
   ]
  },
  {
   "cell_type": "code",
   "execution_count": 39,
   "id": "c48c330a",
   "metadata": {},
   "outputs": [
    {
     "data": {
      "text/html": [
       "<div>\n",
       "<style scoped>\n",
       "    .dataframe tbody tr th:only-of-type {\n",
       "        vertical-align: middle;\n",
       "    }\n",
       "\n",
       "    .dataframe tbody tr th {\n",
       "        vertical-align: top;\n",
       "    }\n",
       "\n",
       "    .dataframe thead th {\n",
       "        text-align: right;\n",
       "    }\n",
       "</style>\n",
       "<table border=\"1\" class=\"dataframe\">\n",
       "  <thead>\n",
       "    <tr style=\"text-align: right;\">\n",
       "      <th></th>\n",
       "      <th>0</th>\n",
       "      <th>1</th>\n",
       "      <th>2</th>\n",
       "      <th>3</th>\n",
       "      <th>4</th>\n",
       "      <th>5</th>\n",
       "      <th>6</th>\n",
       "      <th>7</th>\n",
       "      <th>8</th>\n",
       "      <th>9</th>\n",
       "      <th>...</th>\n",
       "      <th>14</th>\n",
       "      <th>15</th>\n",
       "      <th>16</th>\n",
       "      <th>17</th>\n",
       "      <th>18</th>\n",
       "      <th>19</th>\n",
       "      <th>20</th>\n",
       "      <th>21</th>\n",
       "      <th>22</th>\n",
       "      <th>23</th>\n",
       "    </tr>\n",
       "  </thead>\n",
       "  <tbody>\n",
       "    <tr>\n",
       "      <th>0</th>\n",
       "      <td>5959757493</td>\n",
       "      <td>1689</td>\n",
       "      <td>12.11.445.6412</td>\n",
       "      <td>1</td>\n",
       "      <td>100</td>\n",
       "      <td>Graves</td>\n",
       "      <td>142549</td>\n",
       "      <td>6977</td>\n",
       "      <td>19602</td>\n",
       "      <td>TOP</td>\n",
       "      <td>...</td>\n",
       "      <td>6</td>\n",
       "      <td>12</td>\n",
       "      <td>4</td>\n",
       "      <td>6692</td>\n",
       "      <td>6676</td>\n",
       "      <td>1036</td>\n",
       "      <td>1036</td>\n",
       "      <td>2031</td>\n",
       "      <td>3047</td>\n",
       "      <td>3363</td>\n",
       "    </tr>\n",
       "    <tr>\n",
       "      <th>1</th>\n",
       "      <td>5959757493</td>\n",
       "      <td>1689</td>\n",
       "      <td>12.11.445.6412</td>\n",
       "      <td>2</td>\n",
       "      <td>100</td>\n",
       "      <td>Nidalee</td>\n",
       "      <td>140498</td>\n",
       "      <td>17258</td>\n",
       "      <td>29708</td>\n",
       "      <td>JUNGLE</td>\n",
       "      <td>...</td>\n",
       "      <td>7</td>\n",
       "      <td>11</td>\n",
       "      <td>4</td>\n",
       "      <td>3100</td>\n",
       "      <td>3108</td>\n",
       "      <td>0</td>\n",
       "      <td>3020</td>\n",
       "      <td>4636</td>\n",
       "      <td>1082</td>\n",
       "      <td>3364</td>\n",
       "    </tr>\n",
       "    <tr>\n",
       "      <th>2</th>\n",
       "      <td>5959757493</td>\n",
       "      <td>1689</td>\n",
       "      <td>12.11.445.6412</td>\n",
       "      <td>3</td>\n",
       "      <td>100</td>\n",
       "      <td>Yone</td>\n",
       "      <td>145738</td>\n",
       "      <td>17145</td>\n",
       "      <td>20452</td>\n",
       "      <td>MIDDLE</td>\n",
       "      <td>...</td>\n",
       "      <td>7</td>\n",
       "      <td>3</td>\n",
       "      <td>4</td>\n",
       "      <td>1054</td>\n",
       "      <td>3006</td>\n",
       "      <td>3033</td>\n",
       "      <td>6673</td>\n",
       "      <td>3133</td>\n",
       "      <td>1037</td>\n",
       "      <td>3364</td>\n",
       "    </tr>\n",
       "    <tr>\n",
       "      <th>3</th>\n",
       "      <td>5959757493</td>\n",
       "      <td>1689</td>\n",
       "      <td>12.11.445.6412</td>\n",
       "      <td>4</td>\n",
       "      <td>100</td>\n",
       "      <td>Seraphine</td>\n",
       "      <td>129066</td>\n",
       "      <td>11252</td>\n",
       "      <td>13552</td>\n",
       "      <td>BOTTOM</td>\n",
       "      <td>...</td>\n",
       "      <td>2</td>\n",
       "      <td>3</td>\n",
       "      <td>4</td>\n",
       "      <td>3040</td>\n",
       "      <td>0</td>\n",
       "      <td>6656</td>\n",
       "      <td>1011</td>\n",
       "      <td>3011</td>\n",
       "      <td>3158</td>\n",
       "      <td>3363</td>\n",
       "    </tr>\n",
       "    <tr>\n",
       "      <th>4</th>\n",
       "      <td>5959757493</td>\n",
       "      <td>1689</td>\n",
       "      <td>12.11.445.6412</td>\n",
       "      <td>5</td>\n",
       "      <td>100</td>\n",
       "      <td>Senna</td>\n",
       "      <td>37252</td>\n",
       "      <td>12510</td>\n",
       "      <td>13125</td>\n",
       "      <td>UTILITY</td>\n",
       "      <td>...</td>\n",
       "      <td>3</td>\n",
       "      <td>4</td>\n",
       "      <td>7</td>\n",
       "      <td>3864</td>\n",
       "      <td>6692</td>\n",
       "      <td>2055</td>\n",
       "      <td>3179</td>\n",
       "      <td>3086</td>\n",
       "      <td>3009</td>\n",
       "      <td>3364</td>\n",
       "    </tr>\n",
       "    <tr>\n",
       "      <th>...</th>\n",
       "      <td>...</td>\n",
       "      <td>...</td>\n",
       "      <td>...</td>\n",
       "      <td>...</td>\n",
       "      <td>...</td>\n",
       "      <td>...</td>\n",
       "      <td>...</td>\n",
       "      <td>...</td>\n",
       "      <td>...</td>\n",
       "      <td>...</td>\n",
       "      <td>...</td>\n",
       "      <td>...</td>\n",
       "      <td>...</td>\n",
       "      <td>...</td>\n",
       "      <td>...</td>\n",
       "      <td>...</td>\n",
       "      <td>...</td>\n",
       "      <td>...</td>\n",
       "      <td>...</td>\n",
       "      <td>...</td>\n",
       "      <td>...</td>\n",
       "    </tr>\n",
       "    <tr>\n",
       "      <th>75</th>\n",
       "      <td>6003971542</td>\n",
       "      <td>1432</td>\n",
       "      <td>12.12.450.4196</td>\n",
       "      <td>6</td>\n",
       "      <td>200</td>\n",
       "      <td>Sejuani</td>\n",
       "      <td>94285</td>\n",
       "      <td>7902</td>\n",
       "      <td>15899</td>\n",
       "      <td>TOP</td>\n",
       "      <td>...</td>\n",
       "      <td>4</td>\n",
       "      <td>14</td>\n",
       "      <td>12</td>\n",
       "      <td>3070</td>\n",
       "      <td>1029</td>\n",
       "      <td>6662</td>\n",
       "      <td>3076</td>\n",
       "      <td>3047</td>\n",
       "      <td>1028</td>\n",
       "      <td>3364</td>\n",
       "    </tr>\n",
       "    <tr>\n",
       "      <th>76</th>\n",
       "      <td>6003971542</td>\n",
       "      <td>1432</td>\n",
       "      <td>12.12.450.4196</td>\n",
       "      <td>7</td>\n",
       "      <td>200</td>\n",
       "      <td>Graves</td>\n",
       "      <td>133526</td>\n",
       "      <td>11259</td>\n",
       "      <td>21130</td>\n",
       "      <td>JUNGLE</td>\n",
       "      <td>...</td>\n",
       "      <td>2</td>\n",
       "      <td>11</td>\n",
       "      <td>4</td>\n",
       "      <td>6630</td>\n",
       "      <td>2055</td>\n",
       "      <td>3133</td>\n",
       "      <td>1036</td>\n",
       "      <td>3111</td>\n",
       "      <td>3067</td>\n",
       "      <td>3364</td>\n",
       "    </tr>\n",
       "    <tr>\n",
       "      <th>77</th>\n",
       "      <td>6003971542</td>\n",
       "      <td>1432</td>\n",
       "      <td>12.12.450.4196</td>\n",
       "      <td>8</td>\n",
       "      <td>200</td>\n",
       "      <td>Cassiopeia</td>\n",
       "      <td>111655</td>\n",
       "      <td>19602</td>\n",
       "      <td>17087</td>\n",
       "      <td>MIDDLE</td>\n",
       "      <td>...</td>\n",
       "      <td>5</td>\n",
       "      <td>12</td>\n",
       "      <td>4</td>\n",
       "      <td>6656</td>\n",
       "      <td>2421</td>\n",
       "      <td>2055</td>\n",
       "      <td>3116</td>\n",
       "      <td>3040</td>\n",
       "      <td>1029</td>\n",
       "      <td>3364</td>\n",
       "    </tr>\n",
       "    <tr>\n",
       "      <th>78</th>\n",
       "      <td>6003971542</td>\n",
       "      <td>1432</td>\n",
       "      <td>12.12.450.4196</td>\n",
       "      <td>9</td>\n",
       "      <td>200</td>\n",
       "      <td>Ezreal</td>\n",
       "      <td>69853</td>\n",
       "      <td>8698</td>\n",
       "      <td>13713</td>\n",
       "      <td>BOTTOM</td>\n",
       "      <td>...</td>\n",
       "      <td>8</td>\n",
       "      <td>7</td>\n",
       "      <td>4</td>\n",
       "      <td>1055</td>\n",
       "      <td>3158</td>\n",
       "      <td>3078</td>\n",
       "      <td>3133</td>\n",
       "      <td>3070</td>\n",
       "      <td>1036</td>\n",
       "      <td>3363</td>\n",
       "    </tr>\n",
       "    <tr>\n",
       "      <th>79</th>\n",
       "      <td>6003971542</td>\n",
       "      <td>1432</td>\n",
       "      <td>12.12.450.4196</td>\n",
       "      <td>10</td>\n",
       "      <td>200</td>\n",
       "      <td>Leona</td>\n",
       "      <td>18602</td>\n",
       "      <td>4685</td>\n",
       "      <td>10747</td>\n",
       "      <td>UTILITY</td>\n",
       "      <td>...</td>\n",
       "      <td>4</td>\n",
       "      <td>4</td>\n",
       "      <td>14</td>\n",
       "      <td>3190</td>\n",
       "      <td>3860</td>\n",
       "      <td>2055</td>\n",
       "      <td>3111</td>\n",
       "      <td>0</td>\n",
       "      <td>0</td>\n",
       "      <td>3364</td>\n",
       "    </tr>\n",
       "  </tbody>\n",
       "</table>\n",
       "<p>80 rows × 24 columns</p>\n",
       "</div>"
      ],
      "text/plain": [
       "            0     1               2   3    4           5       6      7   \\\n",
       "0   5959757493  1689  12.11.445.6412   1  100      Graves  142549   6977   \n",
       "1   5959757493  1689  12.11.445.6412   2  100     Nidalee  140498  17258   \n",
       "2   5959757493  1689  12.11.445.6412   3  100        Yone  145738  17145   \n",
       "3   5959757493  1689  12.11.445.6412   4  100   Seraphine  129066  11252   \n",
       "4   5959757493  1689  12.11.445.6412   5  100       Senna   37252  12510   \n",
       "..         ...   ...             ...  ..  ...         ...     ...    ...   \n",
       "75  6003971542  1432  12.12.450.4196   6  200     Sejuani   94285   7902   \n",
       "76  6003971542  1432  12.12.450.4196   7  200      Graves  133526  11259   \n",
       "77  6003971542  1432  12.12.450.4196   8  200  Cassiopeia  111655  19602   \n",
       "78  6003971542  1432  12.12.450.4196   9  200      Ezreal   69853   8698   \n",
       "79  6003971542  1432  12.12.450.4196  10  200       Leona   18602   4685   \n",
       "\n",
       "       8        9   ... 14  15  16    17    18    19    20    21    22    23  \n",
       "0   19602      TOP  ...  6  12   4  6692  6676  1036  1036  2031  3047  3363  \n",
       "1   29708   JUNGLE  ...  7  11   4  3100  3108     0  3020  4636  1082  3364  \n",
       "2   20452   MIDDLE  ...  7   3   4  1054  3006  3033  6673  3133  1037  3364  \n",
       "3   13552   BOTTOM  ...  2   3   4  3040     0  6656  1011  3011  3158  3363  \n",
       "4   13125  UTILITY  ...  3   4   7  3864  6692  2055  3179  3086  3009  3364  \n",
       "..    ...      ...  ... ..  ..  ..   ...   ...   ...   ...   ...   ...   ...  \n",
       "75  15899      TOP  ...  4  14  12  3070  1029  6662  3076  3047  1028  3364  \n",
       "76  21130   JUNGLE  ...  2  11   4  6630  2055  3133  1036  3111  3067  3364  \n",
       "77  17087   MIDDLE  ...  5  12   4  6656  2421  2055  3116  3040  1029  3364  \n",
       "78  13713   BOTTOM  ...  8   7   4  1055  3158  3078  3133  3070  1036  3363  \n",
       "79  10747  UTILITY  ...  4   4  14  3190  3860  2055  3111     0     0  3364  \n",
       "\n",
       "[80 rows x 24 columns]"
      ]
     },
     "execution_count": 39,
     "metadata": {},
     "output_type": "execute_result"
    }
   ],
   "source": [
    "df = pd.DataFrame(tmp)\n",
    "df"
   ]
  },
  {
   "cell_type": "code",
   "execution_count": 14,
   "id": "94f2a2a8",
   "metadata": {},
   "outputs": [],
   "source": [
    "division_lst = ['I', 'II', 'III', 'IV']"
   ]
  },
  {
   "cell_type": "code",
   "execution_count": 15,
   "id": "a8d9fff6",
   "metadata": {},
   "outputs": [],
   "source": [
    "tier = 'BRONZE'"
   ]
  },
  {
   "cell_type": "code",
   "execution_count": 16,
   "id": "e832698e",
   "metadata": {},
   "outputs": [],
   "source": [
    "page = 1"
   ]
  },
  {
   "cell_type": "code",
   "execution_count": 17,
   "id": "21be19e4",
   "metadata": {},
   "outputs": [],
   "source": [
    "def divi_lst(division_lst):\n",
    "    lst = []\n",
    "    for division in division_lst:\n",
    "        url = 'https://kr.api.riotgames.com/lol/league/v4/entries/RANKED_SOLO_5x5/'+tier+'/'+division+'?page='+str(page)+'&api_key='+api_key\n",
    "        res = requests.get(url).json()\n",
    "        lst.extend(res)\n",
    "    return lst"
   ]
  },
  {
   "cell_type": "code",
   "execution_count": 18,
   "id": "fab1afc9",
   "metadata": {},
   "outputs": [],
   "source": [
    "def get_rawData(tier):\n",
    "    division_lst = ['I', 'II', 'III', 'IV']\n",
    "    lst = []\n",
    "    lst.extend(divi_lst(division_lst))\n",
    "    summonerName_lst_tmp = []\n",
    "    for i in range(len(lst)):\n",
    "        summonerName_lst_tmp.append(lst[i]['summonerName'])\n",
    "    data = []\n",
    "    data.extend(get_lst(summonerName_lst_tmp))\n",
    "    df = pd.DataFrame(data, columns = ['gameid', 'matchs', 'timelines'])\n",
    "    return df"
   ]
  },
  {
   "cell_type": "code",
   "execution_count": 19,
   "id": "62e2561b",
   "metadata": {},
   "outputs": [],
   "source": [
    "data_tmp = get_rawData(tier)"
   ]
  },
  {
   "cell_type": "code",
   "execution_count": 22,
   "id": "fcea48d2",
   "metadata": {},
   "outputs": [
    {
     "data": {
      "text/plain": [
       "pandas.core.frame.DataFrame"
      ]
     },
     "execution_count": 22,
     "metadata": {},
     "output_type": "execute_result"
    }
   ],
   "source": [
    "type(data_tmp)"
   ]
  },
  {
   "cell_type": "code",
   "execution_count": 107,
   "id": "ffab7d61",
   "metadata": {},
   "outputs": [
    {
     "data": {
      "text/plain": [
       "500"
      ]
     },
     "execution_count": 107,
     "metadata": {},
     "output_type": "execute_result"
    }
   ],
   "source": [
    "data_tmp.iloc[0].timelines['info']['frames'][0]['participantFrames']['1']['totalGold']"
   ]
  },
  {
   "cell_type": "code",
   "execution_count": 15,
   "id": "c88d3578",
   "metadata": {},
   "outputs": [
    {
     "data": {
      "text/plain": [
       "dict_keys(['frameInterval', 'frames', 'gameId', 'participants'])"
      ]
     },
     "execution_count": 15,
     "metadata": {},
     "output_type": "execute_result"
    }
   ],
   "source": [
    "data_tmp.iloc[0].timelines['info'].keys()"
   ]
  },
  {
   "cell_type": "code",
   "execution_count": 27,
   "id": "521a2448",
   "metadata": {},
   "outputs": [
    {
     "data": {
      "text/plain": [
       "dict_keys(['participantId', 'puuid'])"
      ]
     },
     "execution_count": 27,
     "metadata": {},
     "output_type": "execute_result"
    }
   ],
   "source": [
    "data_tmp.iloc[0].timelines['info']['participants'][0].keys()"
   ]
  },
  {
   "cell_type": "code",
   "execution_count": 30,
   "id": "5720f070",
   "metadata": {},
   "outputs": [
    {
     "data": {
      "text/plain": [
       "60000"
      ]
     },
     "execution_count": 30,
     "metadata": {},
     "output_type": "execute_result"
    }
   ],
   "source": [
    "data_tmp.iloc[0].timelines['info']['frameInterval']"
   ]
  },
  {
   "cell_type": "code",
   "execution_count": 191,
   "id": "84deb150",
   "metadata": {},
   "outputs": [
    {
     "data": {
      "text/plain": [
       "{'championStats': {'abilityHaste': 0,\n",
       "  'abilityPower': 0,\n",
       "  'armor': 33,\n",
       "  'armorPen': 0,\n",
       "  'armorPenPercent': 0,\n",
       "  'attackDamage': 25,\n",
       "  'attackSpeed': 100,\n",
       "  'bonusArmorPenPercent': 0,\n",
       "  'bonusMagicPenPercent': 0,\n",
       "  'ccReduction': 0,\n",
       "  'cooldownReduction': 0,\n",
       "  'health': 669,\n",
       "  'healthMax': 669,\n",
       "  'healthRegen': 0,\n",
       "  'lifesteal': 0,\n",
       "  'magicPen': 0,\n",
       "  'magicPenPercent': 0,\n",
       "  'magicResist': 32,\n",
       "  'movementSpeed': 355,\n",
       "  'omnivamp': 0,\n",
       "  'physicalVamp': 0,\n",
       "  'power': 251,\n",
       "  'powerMax': 251,\n",
       "  'powerRegen': 0,\n",
       "  'spellVamp': 0},\n",
       " 'currentGold': 500,\n",
       " 'damageStats': {'magicDamageDone': 0,\n",
       "  'magicDamageDoneToChampions': 0,\n",
       "  'magicDamageTaken': 0,\n",
       "  'physicalDamageDone': 0,\n",
       "  'physicalDamageDoneToChampions': 0,\n",
       "  'physicalDamageTaken': 0,\n",
       "  'totalDamageDone': 0,\n",
       "  'totalDamageDoneToChampions': 0,\n",
       "  'totalDamageTaken': 0,\n",
       "  'trueDamageDone': 0,\n",
       "  'trueDamageDoneToChampions': 0,\n",
       "  'trueDamageTaken': 0},\n",
       " 'goldPerSecond': 0,\n",
       " 'jungleMinionsKilled': 0,\n",
       " 'level': 1,\n",
       " 'minionsKilled': 0,\n",
       " 'participantId': 1,\n",
       " 'position': {'x': 554, 'y': 581},\n",
       " 'timeEnemySpentControlled': 0,\n",
       " 'totalGold': 500,\n",
       " 'xp': 0}"
      ]
     },
     "execution_count": 191,
     "metadata": {},
     "output_type": "execute_result"
    }
   ],
   "source": [
    "data_tmp.iloc[0].timelines['info']['frames'][0]['participantFrames']['1']"
   ]
  },
  {
   "cell_type": "code",
   "execution_count": 207,
   "id": "86010347",
   "metadata": {},
   "outputs": [
    {
     "data": {
      "text/plain": [
       "500"
      ]
     },
     "execution_count": 207,
     "metadata": {},
     "output_type": "execute_result"
    }
   ],
   "source": [
    "data_tmp.iloc[7].timelines['info']['frames'][0]['participantFrames']['10']['totalGold']"
   ]
  },
  {
   "cell_type": "code",
   "execution_count": 165,
   "id": "40ded0cb",
   "metadata": {},
   "outputs": [
    {
     "data": {
      "text/plain": [
       "20"
      ]
     },
     "execution_count": 165,
     "metadata": {},
     "output_type": "execute_result"
    }
   ],
   "source": [
    "len(data_tmp.iloc[0].timelines['info']['frames'])"
   ]
  },
  {
   "cell_type": "code",
   "execution_count": 164,
   "id": "2fb6b939",
   "metadata": {},
   "outputs": [
    {
     "data": {
      "text/plain": [
       "10"
      ]
     },
     "execution_count": 164,
     "metadata": {},
     "output_type": "execute_result"
    }
   ],
   "source": [
    "len(data_tmp.iloc[0].timelines['info']['frames'][19]['participantFrames'])"
   ]
  },
  {
   "cell_type": "code",
   "execution_count": 148,
   "id": "3ff8b487",
   "metadata": {},
   "outputs": [
    {
     "data": {
      "text/plain": [
       "38"
      ]
     },
     "execution_count": 148,
     "metadata": {},
     "output_type": "execute_result"
    }
   ],
   "source": [
    "len(data_tmp.iloc[0].timelines['info']['frames'][1]['events'])"
   ]
  },
  {
   "cell_type": "code",
   "execution_count": 151,
   "id": "0ab1db84",
   "metadata": {},
   "outputs": [
    {
     "data": {
      "text/plain": [
       "{'levelUpType': 'NORMAL',\n",
       " 'participantId': 1,\n",
       " 'skillSlot': 1,\n",
       " 'timestamp': 52313,\n",
       " 'type': 'SKILL_LEVEL_UP'}"
      ]
     },
     "execution_count": 151,
     "metadata": {},
     "output_type": "execute_result"
    }
   ],
   "source": [
    "data_tmp.iloc[0].timelines['info']['frames'][1]['events'][37]"
   ]
  },
  {
   "cell_type": "code",
   "execution_count": 20,
   "id": "94bc7bb4",
   "metadata": {},
   "outputs": [
    {
     "data": {
      "text/plain": [
       "dict_keys(['gameCreation', 'gameDuration', 'gameEndTimestamp', 'gameId', 'gameMode', 'gameName', 'gameStartTimestamp', 'gameType', 'gameVersion', 'mapId', 'participants', 'platformId', 'queueId', 'teams', 'tournamentCode'])"
      ]
     },
     "execution_count": 20,
     "metadata": {},
     "output_type": "execute_result"
    }
   ],
   "source": [
    "data_tmp.iloc[0].matchs['info'].keys()"
   ]
  },
  {
   "cell_type": "code",
   "execution_count": 21,
   "id": "9de4c800",
   "metadata": {},
   "outputs": [
    {
     "data": {
      "text/plain": [
       "'CLASSIC'"
      ]
     },
     "execution_count": 21,
     "metadata": {},
     "output_type": "execute_result"
    }
   ],
   "source": [
    "data_tmp.iloc[0].matchs['info']['gameMode']"
   ]
  },
  {
   "cell_type": "code",
   "execution_count": 181,
   "id": "2910dad9",
   "metadata": {},
   "outputs": [
    {
     "data": {
      "text/plain": [
       "10"
      ]
     },
     "execution_count": 181,
     "metadata": {},
     "output_type": "execute_result"
    }
   ],
   "source": [
    "len(data_tmp.iloc[0].matchs['info']['participants'])"
   ]
  },
  {
   "cell_type": "code",
   "execution_count": 202,
   "id": "00dba4c8",
   "metadata": {},
   "outputs": [
    {
     "data": {
      "text/plain": [
       "3340"
      ]
     },
     "execution_count": 202,
     "metadata": {},
     "output_type": "execute_result"
    }
   ],
   "source": [
    "data_tmp.iloc[0].matchs['info']['participants'][1]['item6'] #장신구"
   ]
  },
  {
   "cell_type": "code",
   "execution_count": 18,
   "id": "3726ef9e",
   "metadata": {},
   "outputs": [
    {
     "data": {
      "text/plain": [
       "dict_keys(['assists', 'baronKills', 'bountyLevel', 'challenges', 'champExperience', 'champLevel', 'championId', 'championName', 'championTransform', 'consumablesPurchased', 'damageDealtToBuildings', 'damageDealtToObjectives', 'damageDealtToTurrets', 'damageSelfMitigated', 'deaths', 'detectorWardsPlaced', 'doubleKills', 'dragonKills', 'eligibleForProgression', 'firstBloodAssist', 'firstBloodKill', 'firstTowerAssist', 'firstTowerKill', 'gameEndedInEarlySurrender', 'gameEndedInSurrender', 'goldEarned', 'goldSpent', 'individualPosition', 'inhibitorKills', 'inhibitorTakedowns', 'inhibitorsLost', 'item0', 'item1', 'item2', 'item3', 'item4', 'item5', 'item6', 'itemsPurchased', 'killingSprees', 'kills', 'lane', 'largestCriticalStrike', 'largestKillingSpree', 'largestMultiKill', 'longestTimeSpentLiving', 'magicDamageDealt', 'magicDamageDealtToChampions', 'magicDamageTaken', 'neutralMinionsKilled', 'nexusKills', 'nexusLost', 'nexusTakedowns', 'objectivesStolen', 'objectivesStolenAssists', 'participantId', 'pentaKills', 'perks', 'physicalDamageDealt', 'physicalDamageDealtToChampions', 'physicalDamageTaken', 'profileIcon', 'puuid', 'quadraKills', 'riotIdName', 'riotIdTagline', 'role', 'sightWardsBoughtInGame', 'spell1Casts', 'spell2Casts', 'spell3Casts', 'spell4Casts', 'summoner1Casts', 'summoner1Id', 'summoner2Casts', 'summoner2Id', 'summonerId', 'summonerLevel', 'summonerName', 'teamEarlySurrendered', 'teamId', 'teamPosition', 'timeCCingOthers', 'timePlayed', 'totalDamageDealt', 'totalDamageDealtToChampions', 'totalDamageShieldedOnTeammates', 'totalDamageTaken', 'totalHeal', 'totalHealsOnTeammates', 'totalMinionsKilled', 'totalTimeCCDealt', 'totalTimeSpentDead', 'totalUnitsHealed', 'tripleKills', 'trueDamageDealt', 'trueDamageDealtToChampions', 'trueDamageTaken', 'turretKills', 'turretTakedowns', 'turretsLost', 'unrealKills', 'visionScore', 'visionWardsBoughtInGame', 'wardsKilled', 'wardsPlaced', 'win'])"
      ]
     },
     "execution_count": 18,
     "metadata": {},
     "output_type": "execute_result"
    }
   ],
   "source": [
    "data_tmp.iloc[0].matchs['info']['participants'][0].keys()"
   ]
  },
  {
   "cell_type": "code",
   "execution_count": 37,
   "id": "d8d17c9a",
   "metadata": {},
   "outputs": [
    {
     "data": {
      "text/plain": [
       "4"
      ]
     },
     "execution_count": 37,
     "metadata": {},
     "output_type": "execute_result"
    }
   ],
   "source": [
    "data_tmp.iloc[0].matchs['info']['participants'][0]['summoner2Id']"
   ]
  },
  {
   "cell_type": "code",
   "execution_count": 38,
   "id": "ba879e00",
   "metadata": {},
   "outputs": [
    {
     "data": {
      "text/plain": [
       "2"
      ]
     },
     "execution_count": 38,
     "metadata": {},
     "output_type": "execute_result"
    }
   ],
   "source": [
    "data_tmp.iloc[0].matchs['info']['participants'][0]['itemsPurchased']"
   ]
  },
  {
   "cell_type": "code",
   "execution_count": 36,
   "id": "a89c130c",
   "metadata": {},
   "outputs": [],
   "source": [
    "from tqdm import tqdm"
   ]
  },
  {
   "cell_type": "code",
   "execution_count": 119,
   "id": "6a6056d9",
   "metadata": {},
   "outputs": [],
   "source": [
    "def matchs_lst(df):\n",
    "    lst = []\n",
    "    for i in tqdm(range(len(df))):\n",
    "        for j in range(len(df.iloc[i].matchs['info']['participants'])):\n",
    "            tmp = []\n",
    "            tmp.append(df.iloc[i].matchs['info']['gameId'])\n",
    "            tmp.append(df.iloc[i].matchs['info']['gameDuration'])\n",
    "            tmp.append(df.iloc[i].matchs['info']['gameVersion'])\n",
    "            tmp.append(df.iloc[i].matchs['info']['participants'][j]['participantId'])\n",
    "            tmp.append(df.iloc[i].matchs['info']['participants'][j]['teamId'])\n",
    "            tmp.append(df.iloc[i].matchs['info']['participants'][j]['championName'])\n",
    "            tmp.append(df.iloc[i].matchs['info']['participants'][j]['totalDamageDealt'])\n",
    "            tmp.append(df.iloc[i].matchs['info']['participants'][j]['totalDamageDealtToChampions'])\n",
    "            tmp.append(df.iloc[i].matchs['info']['participants'][j]['totalDamageTaken'])\n",
    "            tmp.append(df.iloc[i].matchs['info']['participants'][j]['teamPosition'])\n",
    "            tmp.append(df.iloc[i].matchs['info']['participants'][j]['summonerName'])\n",
    "            tmp.append(df.iloc[i].matchs['info']['participants'][j]['summonerLevel'])\n",
    "            lst.append(tmp)\n",
    "    return lst"
   ]
  },
  {
   "cell_type": "code",
   "execution_count": 120,
   "id": "cce6d90b",
   "metadata": {},
   "outputs": [
    {
     "name": "stderr",
     "output_type": "stream",
     "text": [
      "100%|███████████████████████████████████████████████████████████████████████████████████| 9/9 [00:00<00:00, 138.55it/s]\n"
     ]
    }
   ],
   "source": [
    "matchs = matchs_lst(data_tmp)"
   ]
  },
  {
   "cell_type": "code",
   "execution_count": 121,
   "id": "56343a89",
   "metadata": {},
   "outputs": [],
   "source": [
    "def timelines_lst(df):\n",
    "    lst = []\n",
    "    for i in tqdm(range(len(df))):\n",
    "        for j in range(1, len(df.iloc[0].timelines['info']['frames'][0]['participantFrames'])+1):\n",
    "            tmp = []\n",
    "            tmp.append(df.iloc[i].timelines['info']['gameId'])\n",
    "            tmp.append(df.iloc[i].timelines['info']['participants'][j-1]['participantId'])\n",
    "            tmp.append(df.iloc[i].timelines['info']['frames'][5]['participantFrames'][str(j)]['totalGold'])\n",
    "            tmp.append(df.iloc[i].timelines['info']['frames'][6]['participantFrames'][str(j)]['totalGold'])\n",
    "            tmp.append(df.iloc[i].timelines['info']['frames'][7]['participantFrames'][str(j)]['totalGold'])\n",
    "            lst.append(tmp)\n",
    "    return lst"
   ]
  },
  {
   "cell_type": "code",
   "execution_count": 122,
   "id": "cc7a102e",
   "metadata": {},
   "outputs": [
    {
     "name": "stderr",
     "output_type": "stream",
     "text": [
      "100%|███████████████████████████████████████████████████████████████████████████████████| 9/9 [00:00<00:00, 257.30it/s]\n"
     ]
    }
   ],
   "source": [
    "timelines = timelines_lst(data_tmp)"
   ]
  },
  {
   "cell_type": "code",
   "execution_count": 123,
   "id": "1d459424",
   "metadata": {},
   "outputs": [],
   "source": [
    "df_matchs = pd.DataFrame(matchs, columns = ['gameId', 'gameDuration', 'gameVersion', 'participantId', 'teamId', \n",
    "                                            'championName', 'totalDamageDealt', 'totalDamageDealtToChampions', \n",
    "                                            'totalDamageTaken', 'teamPosition', 'summonerName', 'summonerLevel'])\n",
    "df_timelines = pd.DataFrame(timelines, columns = ['gameId', 'participantId', 'g_5', 'g_6', 'g_7'])"
   ]
  },
  {
   "cell_type": "code",
   "execution_count": 124,
   "id": "93ecee04",
   "metadata": {},
   "outputs": [],
   "source": [
    "merge_df = pd.merge(df_matchs, df_timelines)"
   ]
  },
  {
   "cell_type": "code",
   "execution_count": 126,
   "id": "a2c1f81d",
   "metadata": {},
   "outputs": [
    {
     "name": "stdout",
     "output_type": "stream",
     "text": [
      "db_open!\n"
     ]
    }
   ],
   "source": [
    "db_open()"
   ]
  },
  {
   "cell_type": "code",
   "execution_count": 134,
   "id": "53fe6cfa",
   "metadata": {},
   "outputs": [],
   "source": [
    "query = 'drop table lol_stats'"
   ]
  },
  {
   "cell_type": "code",
   "execution_count": 136,
   "id": "8fd01e57",
   "metadata": {},
   "outputs": [],
   "source": [
    "query = \"\"\"\n",
    "create table lol_stats(gameId varchar(20), gameDuration varchar(20), gameVersion varchar(20), participantId varchar(20), teamId varchar(20), championName varchar(20), totalDamageDealt number(20), totalDamageDealtToChampions number(20), totalDamageTaken number(20),\n",
    "teamPosition varchar(30), summonerName varchar(30), summonerLevel varchar(20), g_5 number(20), g_6 number(20), g_7 number(20), constraint match_timeline_pk primary key (gameId, participantId))\n",
    "\"\"\""
   ]
  },
  {
   "cell_type": "code",
   "execution_count": 137,
   "id": "f2bfefe2",
   "metadata": {},
   "outputs": [
    {
     "data": {
      "text/plain": [
       "'success'"
      ]
     },
     "execution_count": 137,
     "metadata": {},
     "output_type": "execute_result"
    }
   ],
   "source": [
    "sql_execute(query)"
   ]
  },
  {
   "cell_type": "code",
   "execution_count": 140,
   "id": "67c23de0",
   "metadata": {},
   "outputs": [],
   "source": [
    "def insert(x):\n",
    "    query = (f\"insert into lol_stats(gameId, gameDuration, gameVersion, participantId, teamId, totalDamageDealt, totalDamageTaken, teamPosition, summonerName, summonerLevel, g_5, g_6, g_7)\"\n",
    "            f\"values(\\'{x.gameId}\\', \\'{x.gameDuration}\\', \\'{x.gameVersion}\\', \\'{x.participantId}\\', \\'{x.teamId}\\', \\'{x.championName}\\', {x.totalDamageDealt}, {x.totalDamageDealtToChampions}, {x.totalDamageTaken},\"\n",
    "            f\"\\'{x.teamPosition}\\', \\'{x.summonerName}\\', \\'{x.summonerLevel}\\', {x.g_5}, {x.g_6}, {x.g_7})\")\n",
    "    sql_execute(query)\n",
    "    return"
   ]
  },
  {
   "cell_type": "code",
   "execution_count": 141,
   "id": "185d2fdf",
   "metadata": {},
   "outputs": [
    {
     "name": "stderr",
     "output_type": "stream",
     "text": [
      "100%|█████████████████████████████████████████████████████████████████████████████████| 90/90 [00:00<00:00, 331.65it/s]\n"
     ]
    },
    {
     "data": {
      "text/plain": [
       "0     None\n",
       "1     None\n",
       "2     None\n",
       "3     None\n",
       "4     None\n",
       "      ... \n",
       "85    None\n",
       "86    None\n",
       "87    None\n",
       "88    None\n",
       "89    None\n",
       "Length: 90, dtype: object"
      ]
     },
     "execution_count": 141,
     "metadata": {},
     "output_type": "execute_result"
    }
   ],
   "source": [
    "tqdm.pandas()\n",
    "merge_df.progress_apply(lambda x: insert(x), axis = 1)"
   ]
  },
  {
   "cell_type": "code",
   "execution_count": 142,
   "id": "cc849df2",
   "metadata": {},
   "outputs": [],
   "source": [
    "query = 'select * from lol_stats'"
   ]
  },
  {
   "cell_type": "code",
   "execution_count": 143,
   "id": "a9a21e69",
   "metadata": {
    "scrolled": true
   },
   "outputs": [
    {
     "name": "stderr",
     "output_type": "stream",
     "text": [
      "C:\\Users\\user\\anaconda3\\lib\\site-packages\\pandas\\io\\sql.py:761: UserWarning: pandas only support SQLAlchemy connectable(engine/connection) ordatabase string URI or sqlite3 DBAPI2 connectionother DBAPI2 objects are not tested, please consider using SQLAlchemy\n",
      "  warnings.warn(\n"
     ]
    },
    {
     "data": {
      "text/html": [
       "<div>\n",
       "<style scoped>\n",
       "    .dataframe tbody tr th:only-of-type {\n",
       "        vertical-align: middle;\n",
       "    }\n",
       "\n",
       "    .dataframe tbody tr th {\n",
       "        vertical-align: top;\n",
       "    }\n",
       "\n",
       "    .dataframe thead th {\n",
       "        text-align: right;\n",
       "    }\n",
       "</style>\n",
       "<table border=\"1\" class=\"dataframe\">\n",
       "  <thead>\n",
       "    <tr style=\"text-align: right;\">\n",
       "      <th></th>\n",
       "      <th>GAMEID</th>\n",
       "      <th>GAMEDURATION</th>\n",
       "      <th>GAMEVERSION</th>\n",
       "      <th>PARTICIPANTID</th>\n",
       "      <th>TEAMID</th>\n",
       "      <th>TOTALDAMAGEDEALT</th>\n",
       "      <th>TOTALDAMAGETAKEN</th>\n",
       "      <th>TEAMPOSITION</th>\n",
       "      <th>SUMMONERNAME</th>\n",
       "      <th>SUMMONERLEVEL</th>\n",
       "      <th>G_5</th>\n",
       "      <th>G_6</th>\n",
       "      <th>G_7</th>\n",
       "    </tr>\n",
       "  </thead>\n",
       "  <tbody>\n",
       "    <tr>\n",
       "      <th>0</th>\n",
       "      <td>5938416886</td>\n",
       "      <td>1934</td>\n",
       "      <td>12.10.442.9993</td>\n",
       "      <td>1</td>\n",
       "      <td>100</td>\n",
       "      <td>107997</td>\n",
       "      <td>40925</td>\n",
       "      <td>JUNGLE</td>\n",
       "      <td>snowman0222</td>\n",
       "      <td>151</td>\n",
       "      <td>1808</td>\n",
       "      <td>2062</td>\n",
       "      <td>2253</td>\n",
       "    </tr>\n",
       "    <tr>\n",
       "      <th>1</th>\n",
       "      <td>5938416886</td>\n",
       "      <td>1934</td>\n",
       "      <td>12.10.442.9993</td>\n",
       "      <td>2</td>\n",
       "      <td>100</td>\n",
       "      <td>121864</td>\n",
       "      <td>33370</td>\n",
       "      <td>TOP</td>\n",
       "      <td>알파쿤</td>\n",
       "      <td>64</td>\n",
       "      <td>1817</td>\n",
       "      <td>2031</td>\n",
       "      <td>2188</td>\n",
       "    </tr>\n",
       "    <tr>\n",
       "      <th>2</th>\n",
       "      <td>5938416886</td>\n",
       "      <td>1934</td>\n",
       "      <td>12.10.442.9993</td>\n",
       "      <td>3</td>\n",
       "      <td>100</td>\n",
       "      <td>91953</td>\n",
       "      <td>41150</td>\n",
       "      <td>BOTTOM</td>\n",
       "      <td>탑애메</td>\n",
       "      <td>82</td>\n",
       "      <td>1126</td>\n",
       "      <td>1653</td>\n",
       "      <td>1864</td>\n",
       "    </tr>\n",
       "    <tr>\n",
       "      <th>3</th>\n",
       "      <td>5938416886</td>\n",
       "      <td>1934</td>\n",
       "      <td>12.10.442.9993</td>\n",
       "      <td>4</td>\n",
       "      <td>100</td>\n",
       "      <td>7896</td>\n",
       "      <td>4920</td>\n",
       "      <td>UTILITY</td>\n",
       "      <td>강형욱네보신탕집</td>\n",
       "      <td>55</td>\n",
       "      <td>955</td>\n",
       "      <td>1339</td>\n",
       "      <td>1473</td>\n",
       "    </tr>\n",
       "    <tr>\n",
       "      <th>4</th>\n",
       "      <td>5938416886</td>\n",
       "      <td>1934</td>\n",
       "      <td>12.10.442.9993</td>\n",
       "      <td>5</td>\n",
       "      <td>100</td>\n",
       "      <td>163783</td>\n",
       "      <td>18715</td>\n",
       "      <td>MIDDLE</td>\n",
       "      <td>쉐도우베라럭스</td>\n",
       "      <td>183</td>\n",
       "      <td>1529</td>\n",
       "      <td>1746</td>\n",
       "      <td>2275</td>\n",
       "    </tr>\n",
       "    <tr>\n",
       "      <th>...</th>\n",
       "      <td>...</td>\n",
       "      <td>...</td>\n",
       "      <td>...</td>\n",
       "      <td>...</td>\n",
       "      <td>...</td>\n",
       "      <td>...</td>\n",
       "      <td>...</td>\n",
       "      <td>...</td>\n",
       "      <td>...</td>\n",
       "      <td>...</td>\n",
       "      <td>...</td>\n",
       "      <td>...</td>\n",
       "      <td>...</td>\n",
       "    </tr>\n",
       "    <tr>\n",
       "      <th>85</th>\n",
       "      <td>5992818535</td>\n",
       "      <td>1779</td>\n",
       "      <td>12.12.450.4196</td>\n",
       "      <td>6</td>\n",
       "      <td>200</td>\n",
       "      <td>220240</td>\n",
       "      <td>29660</td>\n",
       "      <td>JUNGLE</td>\n",
       "      <td>vaemqrlcxvz</td>\n",
       "      <td>123</td>\n",
       "      <td>1485</td>\n",
       "      <td>1792</td>\n",
       "      <td>2085</td>\n",
       "    </tr>\n",
       "    <tr>\n",
       "      <th>86</th>\n",
       "      <td>5992818535</td>\n",
       "      <td>1779</td>\n",
       "      <td>12.12.450.4196</td>\n",
       "      <td>7</td>\n",
       "      <td>200</td>\n",
       "      <td>127907</td>\n",
       "      <td>19070</td>\n",
       "      <td>MIDDLE</td>\n",
       "      <td>떡볶이개꿀맛</td>\n",
       "      <td>154</td>\n",
       "      <td>1729</td>\n",
       "      <td>1988</td>\n",
       "      <td>2740</td>\n",
       "    </tr>\n",
       "    <tr>\n",
       "      <th>87</th>\n",
       "      <td>5992818535</td>\n",
       "      <td>1779</td>\n",
       "      <td>12.12.450.4196</td>\n",
       "      <td>8</td>\n",
       "      <td>200</td>\n",
       "      <td>151034</td>\n",
       "      <td>28468</td>\n",
       "      <td>TOP</td>\n",
       "      <td>꽃미남 우르곳</td>\n",
       "      <td>34</td>\n",
       "      <td>1403</td>\n",
       "      <td>2010</td>\n",
       "      <td>2132</td>\n",
       "    </tr>\n",
       "    <tr>\n",
       "      <th>88</th>\n",
       "      <td>5992818535</td>\n",
       "      <td>1779</td>\n",
       "      <td>12.12.450.4196</td>\n",
       "      <td>9</td>\n",
       "      <td>200</td>\n",
       "      <td>65104</td>\n",
       "      <td>12767</td>\n",
       "      <td>BOTTOM</td>\n",
       "      <td>준비취소</td>\n",
       "      <td>143</td>\n",
       "      <td>1487</td>\n",
       "      <td>1924</td>\n",
       "      <td>2343</td>\n",
       "    </tr>\n",
       "    <tr>\n",
       "      <th>89</th>\n",
       "      <td>5992818535</td>\n",
       "      <td>1779</td>\n",
       "      <td>12.12.450.4196</td>\n",
       "      <td>10</td>\n",
       "      <td>200</td>\n",
       "      <td>33364</td>\n",
       "      <td>20481</td>\n",
       "      <td>UTILITY</td>\n",
       "      <td>게이조이고즐기고</td>\n",
       "      <td>231</td>\n",
       "      <td>1161</td>\n",
       "      <td>1896</td>\n",
       "      <td>2138</td>\n",
       "    </tr>\n",
       "  </tbody>\n",
       "</table>\n",
       "<p>90 rows × 13 columns</p>\n",
       "</div>"
      ],
      "text/plain": [
       "        GAMEID GAMEDURATION     GAMEVERSION PARTICIPANTID TEAMID  \\\n",
       "0   5938416886         1934  12.10.442.9993             1    100   \n",
       "1   5938416886         1934  12.10.442.9993             2    100   \n",
       "2   5938416886         1934  12.10.442.9993             3    100   \n",
       "3   5938416886         1934  12.10.442.9993             4    100   \n",
       "4   5938416886         1934  12.10.442.9993             5    100   \n",
       "..         ...          ...             ...           ...    ...   \n",
       "85  5992818535         1779  12.12.450.4196             6    200   \n",
       "86  5992818535         1779  12.12.450.4196             7    200   \n",
       "87  5992818535         1779  12.12.450.4196             8    200   \n",
       "88  5992818535         1779  12.12.450.4196             9    200   \n",
       "89  5992818535         1779  12.12.450.4196            10    200   \n",
       "\n",
       "    TOTALDAMAGEDEALT  TOTALDAMAGETAKEN TEAMPOSITION SUMMONERNAME  \\\n",
       "0             107997             40925       JUNGLE  snowman0222   \n",
       "1             121864             33370          TOP          알파쿤   \n",
       "2              91953             41150       BOTTOM          탑애메   \n",
       "3               7896              4920      UTILITY     강형욱네보신탕집   \n",
       "4             163783             18715       MIDDLE      쉐도우베라럭스   \n",
       "..               ...               ...          ...          ...   \n",
       "85            220240             29660       JUNGLE  vaemqrlcxvz   \n",
       "86            127907             19070       MIDDLE       떡볶이개꿀맛   \n",
       "87            151034             28468          TOP      꽃미남 우르곳   \n",
       "88             65104             12767       BOTTOM         준비취소   \n",
       "89             33364             20481      UTILITY     게이조이고즐기고   \n",
       "\n",
       "   SUMMONERLEVEL   G_5   G_6   G_7  \n",
       "0            151  1808  2062  2253  \n",
       "1             64  1817  2031  2188  \n",
       "2             82  1126  1653  1864  \n",
       "3             55   955  1339  1473  \n",
       "4            183  1529  1746  2275  \n",
       "..           ...   ...   ...   ...  \n",
       "85           123  1485  1792  2085  \n",
       "86           154  1729  1988  2740  \n",
       "87            34  1403  2010  2132  \n",
       "88           143  1487  1924  2343  \n",
       "89           231  1161  1896  2138  \n",
       "\n",
       "[90 rows x 13 columns]"
      ]
     },
     "execution_count": 143,
     "metadata": {},
     "output_type": "execute_result"
    }
   ],
   "source": [
    "sql_execute(query)"
   ]
  },
  {
   "cell_type": "code",
   "execution_count": 144,
   "id": "8bcc96d0",
   "metadata": {},
   "outputs": [
    {
     "name": "stdout",
     "output_type": "stream",
     "text": [
      "db_close!\n"
     ]
    }
   ],
   "source": [
    "db_close()"
   ]
  }
 ],
 "metadata": {
  "kernelspec": {
   "display_name": "Python 3 (ipykernel)",
   "language": "python",
   "name": "python3"
  },
  "language_info": {
   "codemirror_mode": {
    "name": "ipython",
    "version": 3
   },
   "file_extension": ".py",
   "mimetype": "text/x-python",
   "name": "python",
   "nbconvert_exporter": "python",
   "pygments_lexer": "ipython3",
   "version": "3.9.12"
  }
 },
 "nbformat": 4,
 "nbformat_minor": 5
}
