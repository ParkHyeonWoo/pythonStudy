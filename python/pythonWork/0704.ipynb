{
 "cells": [
  {
   "cell_type": "code",
   "execution_count": 1,
   "id": "d37eefe5",
   "metadata": {},
   "outputs": [],
   "source": [
    "import numpy as np\n",
    "import requests\n",
    "import pandas as pd\n",
    "from my_utils import *\n",
    "from tqdm import tqdm\n",
    "tqdm.pandas()\n",
    "import matplotlib.pyplot as plt"
   ]
  },
  {
   "cell_type": "code",
   "execution_count": 21,
   "id": "e3a7f2fd",
   "metadata": {},
   "outputs": [],
   "source": [
    "from matplotlib import font_manager, rc\n",
    "font_path = \"C:/windows/Fonts/gulim.ttc\"\n",
    "font = font_manager.FontProperties(fname = font_path).get_name()\n",
    "rc('font', family = font)"
   ]
  },
  {
   "cell_type": "code",
   "execution_count": 5,
   "id": "dd25cc80",
   "metadata": {},
   "outputs": [
    {
     "name": "stdout",
     "output_type": "stream",
     "text": [
      "db_open!\n",
      "db_close!\n"
     ]
    },
    {
     "name": "stderr",
     "output_type": "stream",
     "text": [
      "C:\\Users\\user\\anaconda3\\lib\\site-packages\\pandas\\io\\sql.py:761: UserWarning: pandas only support SQLAlchemy connectable(engine/connection) ordatabase string URI or sqlite3 DBAPI2 connectionother DBAPI2 objects are not tested, please consider using SQLAlchemy\n",
      "  warnings.warn(\n"
     ]
    }
   ],
   "source": [
    "db_open()\n",
    "df = sql_execute('select * from lol_stats')\n",
    "db_close()"
   ]
  },
  {
   "cell_type": "code",
   "execution_count": 6,
   "id": "9eb53723",
   "metadata": {},
   "outputs": [
    {
     "data": {
      "text/html": [
       "<div>\n",
       "<style scoped>\n",
       "    .dataframe tbody tr th:only-of-type {\n",
       "        vertical-align: middle;\n",
       "    }\n",
       "\n",
       "    .dataframe tbody tr th {\n",
       "        vertical-align: top;\n",
       "    }\n",
       "\n",
       "    .dataframe thead th {\n",
       "        text-align: right;\n",
       "    }\n",
       "</style>\n",
       "<table border=\"1\" class=\"dataframe\">\n",
       "  <thead>\n",
       "    <tr style=\"text-align: right;\">\n",
       "      <th></th>\n",
       "      <th>GAMEID</th>\n",
       "      <th>GAMEDURATION</th>\n",
       "      <th>GAMEVERSION</th>\n",
       "      <th>PARTICIPANTID</th>\n",
       "      <th>TEAMID</th>\n",
       "      <th>TOTALDAMAGEDEALT</th>\n",
       "      <th>TOTALDAMAGETAKEN</th>\n",
       "      <th>TEAMPOSITION</th>\n",
       "      <th>SUMMONERNAME</th>\n",
       "      <th>SUMMONERLEVEL</th>\n",
       "      <th>G_5</th>\n",
       "      <th>G_6</th>\n",
       "      <th>G_7</th>\n",
       "    </tr>\n",
       "  </thead>\n",
       "  <tbody>\n",
       "    <tr>\n",
       "      <th>0</th>\n",
       "      <td>5938416886</td>\n",
       "      <td>1934</td>\n",
       "      <td>12.10.442.9993</td>\n",
       "      <td>1</td>\n",
       "      <td>100</td>\n",
       "      <td>107997</td>\n",
       "      <td>40925</td>\n",
       "      <td>JUNGLE</td>\n",
       "      <td>snowman0222</td>\n",
       "      <td>151</td>\n",
       "      <td>1808</td>\n",
       "      <td>2062</td>\n",
       "      <td>2253</td>\n",
       "    </tr>\n",
       "    <tr>\n",
       "      <th>1</th>\n",
       "      <td>5938416886</td>\n",
       "      <td>1934</td>\n",
       "      <td>12.10.442.9993</td>\n",
       "      <td>2</td>\n",
       "      <td>100</td>\n",
       "      <td>121864</td>\n",
       "      <td>33370</td>\n",
       "      <td>TOP</td>\n",
       "      <td>알파쿤</td>\n",
       "      <td>64</td>\n",
       "      <td>1817</td>\n",
       "      <td>2031</td>\n",
       "      <td>2188</td>\n",
       "    </tr>\n",
       "    <tr>\n",
       "      <th>2</th>\n",
       "      <td>5938416886</td>\n",
       "      <td>1934</td>\n",
       "      <td>12.10.442.9993</td>\n",
       "      <td>3</td>\n",
       "      <td>100</td>\n",
       "      <td>91953</td>\n",
       "      <td>41150</td>\n",
       "      <td>BOTTOM</td>\n",
       "      <td>탑애메</td>\n",
       "      <td>82</td>\n",
       "      <td>1126</td>\n",
       "      <td>1653</td>\n",
       "      <td>1864</td>\n",
       "    </tr>\n",
       "    <tr>\n",
       "      <th>3</th>\n",
       "      <td>5938416886</td>\n",
       "      <td>1934</td>\n",
       "      <td>12.10.442.9993</td>\n",
       "      <td>4</td>\n",
       "      <td>100</td>\n",
       "      <td>7896</td>\n",
       "      <td>4920</td>\n",
       "      <td>UTILITY</td>\n",
       "      <td>강형욱네보신탕집</td>\n",
       "      <td>55</td>\n",
       "      <td>955</td>\n",
       "      <td>1339</td>\n",
       "      <td>1473</td>\n",
       "    </tr>\n",
       "    <tr>\n",
       "      <th>4</th>\n",
       "      <td>5938416886</td>\n",
       "      <td>1934</td>\n",
       "      <td>12.10.442.9993</td>\n",
       "      <td>5</td>\n",
       "      <td>100</td>\n",
       "      <td>163783</td>\n",
       "      <td>18715</td>\n",
       "      <td>MIDDLE</td>\n",
       "      <td>쉐도우베라럭스</td>\n",
       "      <td>183</td>\n",
       "      <td>1529</td>\n",
       "      <td>1746</td>\n",
       "      <td>2275</td>\n",
       "    </tr>\n",
       "    <tr>\n",
       "      <th>...</th>\n",
       "      <td>...</td>\n",
       "      <td>...</td>\n",
       "      <td>...</td>\n",
       "      <td>...</td>\n",
       "      <td>...</td>\n",
       "      <td>...</td>\n",
       "      <td>...</td>\n",
       "      <td>...</td>\n",
       "      <td>...</td>\n",
       "      <td>...</td>\n",
       "      <td>...</td>\n",
       "      <td>...</td>\n",
       "      <td>...</td>\n",
       "    </tr>\n",
       "    <tr>\n",
       "      <th>85</th>\n",
       "      <td>5992818535</td>\n",
       "      <td>1779</td>\n",
       "      <td>12.12.450.4196</td>\n",
       "      <td>6</td>\n",
       "      <td>200</td>\n",
       "      <td>220240</td>\n",
       "      <td>29660</td>\n",
       "      <td>JUNGLE</td>\n",
       "      <td>vaemqrlcxvz</td>\n",
       "      <td>123</td>\n",
       "      <td>1485</td>\n",
       "      <td>1792</td>\n",
       "      <td>2085</td>\n",
       "    </tr>\n",
       "    <tr>\n",
       "      <th>86</th>\n",
       "      <td>5992818535</td>\n",
       "      <td>1779</td>\n",
       "      <td>12.12.450.4196</td>\n",
       "      <td>7</td>\n",
       "      <td>200</td>\n",
       "      <td>127907</td>\n",
       "      <td>19070</td>\n",
       "      <td>MIDDLE</td>\n",
       "      <td>떡볶이개꿀맛</td>\n",
       "      <td>154</td>\n",
       "      <td>1729</td>\n",
       "      <td>1988</td>\n",
       "      <td>2740</td>\n",
       "    </tr>\n",
       "    <tr>\n",
       "      <th>87</th>\n",
       "      <td>5992818535</td>\n",
       "      <td>1779</td>\n",
       "      <td>12.12.450.4196</td>\n",
       "      <td>8</td>\n",
       "      <td>200</td>\n",
       "      <td>151034</td>\n",
       "      <td>28468</td>\n",
       "      <td>TOP</td>\n",
       "      <td>꽃미남 우르곳</td>\n",
       "      <td>34</td>\n",
       "      <td>1403</td>\n",
       "      <td>2010</td>\n",
       "      <td>2132</td>\n",
       "    </tr>\n",
       "    <tr>\n",
       "      <th>88</th>\n",
       "      <td>5992818535</td>\n",
       "      <td>1779</td>\n",
       "      <td>12.12.450.4196</td>\n",
       "      <td>9</td>\n",
       "      <td>200</td>\n",
       "      <td>65104</td>\n",
       "      <td>12767</td>\n",
       "      <td>BOTTOM</td>\n",
       "      <td>준비취소</td>\n",
       "      <td>143</td>\n",
       "      <td>1487</td>\n",
       "      <td>1924</td>\n",
       "      <td>2343</td>\n",
       "    </tr>\n",
       "    <tr>\n",
       "      <th>89</th>\n",
       "      <td>5992818535</td>\n",
       "      <td>1779</td>\n",
       "      <td>12.12.450.4196</td>\n",
       "      <td>10</td>\n",
       "      <td>200</td>\n",
       "      <td>33364</td>\n",
       "      <td>20481</td>\n",
       "      <td>UTILITY</td>\n",
       "      <td>게이조이고즐기고</td>\n",
       "      <td>231</td>\n",
       "      <td>1161</td>\n",
       "      <td>1896</td>\n",
       "      <td>2138</td>\n",
       "    </tr>\n",
       "  </tbody>\n",
       "</table>\n",
       "<p>90 rows × 13 columns</p>\n",
       "</div>"
      ],
      "text/plain": [
       "        GAMEID GAMEDURATION     GAMEVERSION PARTICIPANTID TEAMID  \\\n",
       "0   5938416886         1934  12.10.442.9993             1    100   \n",
       "1   5938416886         1934  12.10.442.9993             2    100   \n",
       "2   5938416886         1934  12.10.442.9993             3    100   \n",
       "3   5938416886         1934  12.10.442.9993             4    100   \n",
       "4   5938416886         1934  12.10.442.9993             5    100   \n",
       "..         ...          ...             ...           ...    ...   \n",
       "85  5992818535         1779  12.12.450.4196             6    200   \n",
       "86  5992818535         1779  12.12.450.4196             7    200   \n",
       "87  5992818535         1779  12.12.450.4196             8    200   \n",
       "88  5992818535         1779  12.12.450.4196             9    200   \n",
       "89  5992818535         1779  12.12.450.4196            10    200   \n",
       "\n",
       "    TOTALDAMAGEDEALT  TOTALDAMAGETAKEN TEAMPOSITION SUMMONERNAME  \\\n",
       "0             107997             40925       JUNGLE  snowman0222   \n",
       "1             121864             33370          TOP          알파쿤   \n",
       "2              91953             41150       BOTTOM          탑애메   \n",
       "3               7896              4920      UTILITY     강형욱네보신탕집   \n",
       "4             163783             18715       MIDDLE      쉐도우베라럭스   \n",
       "..               ...               ...          ...          ...   \n",
       "85            220240             29660       JUNGLE  vaemqrlcxvz   \n",
       "86            127907             19070       MIDDLE       떡볶이개꿀맛   \n",
       "87            151034             28468          TOP      꽃미남 우르곳   \n",
       "88             65104             12767       BOTTOM         준비취소   \n",
       "89             33364             20481      UTILITY     게이조이고즐기고   \n",
       "\n",
       "   SUMMONERLEVEL   G_5   G_6   G_7  \n",
       "0            151  1808  2062  2253  \n",
       "1             64  1817  2031  2188  \n",
       "2             82  1126  1653  1864  \n",
       "3             55   955  1339  1473  \n",
       "4            183  1529  1746  2275  \n",
       "..           ...   ...   ...   ...  \n",
       "85           123  1485  1792  2085  \n",
       "86           154  1729  1988  2740  \n",
       "87            34  1403  2010  2132  \n",
       "88           143  1487  1924  2343  \n",
       "89           231  1161  1896  2138  \n",
       "\n",
       "[90 rows x 13 columns]"
      ]
     },
     "execution_count": 6,
     "metadata": {},
     "output_type": "execute_result"
    }
   ],
   "source": [
    "df"
   ]
  },
  {
   "cell_type": "code",
   "execution_count": 7,
   "id": "de9e03d5",
   "metadata": {},
   "outputs": [],
   "source": [
    "tmp_df = df[['TEAMPOSITION', 'TOTALDAMAGEDEALT', 'TOTALDAMAGETAKEN', 'G_7']]"
   ]
  },
  {
   "cell_type": "code",
   "execution_count": 9,
   "id": "f6eb8221",
   "metadata": {},
   "outputs": [],
   "source": [
    "tmp_df = tmp_df[~tmp_df.TEAMPOSITION.isna()]"
   ]
  },
  {
   "cell_type": "code",
   "execution_count": 10,
   "id": "88f84287",
   "metadata": {},
   "outputs": [],
   "source": [
    "group_df = tmp_df.groupby('TEAMPOSITION').mean().round()"
   ]
  },
  {
   "cell_type": "code",
   "execution_count": 11,
   "id": "1c6501e5",
   "metadata": {},
   "outputs": [
    {
     "data": {
      "text/html": [
       "<div>\n",
       "<style scoped>\n",
       "    .dataframe tbody tr th:only-of-type {\n",
       "        vertical-align: middle;\n",
       "    }\n",
       "\n",
       "    .dataframe tbody tr th {\n",
       "        vertical-align: top;\n",
       "    }\n",
       "\n",
       "    .dataframe thead th {\n",
       "        text-align: right;\n",
       "    }\n",
       "</style>\n",
       "<table border=\"1\" class=\"dataframe\">\n",
       "  <thead>\n",
       "    <tr style=\"text-align: right;\">\n",
       "      <th></th>\n",
       "      <th>TOTALDAMAGEDEALT</th>\n",
       "      <th>TOTALDAMAGETAKEN</th>\n",
       "      <th>G_7</th>\n",
       "    </tr>\n",
       "    <tr>\n",
       "      <th>TEAMPOSITION</th>\n",
       "      <th></th>\n",
       "      <th></th>\n",
       "      <th></th>\n",
       "    </tr>\n",
       "  </thead>\n",
       "  <tbody>\n",
       "    <tr>\n",
       "      <th>BOTTOM</th>\n",
       "      <td>126274.0</td>\n",
       "      <td>21165.0</td>\n",
       "      <td>2320.0</td>\n",
       "    </tr>\n",
       "    <tr>\n",
       "      <th>JUNGLE</th>\n",
       "      <td>136983.0</td>\n",
       "      <td>30629.0</td>\n",
       "      <td>2263.0</td>\n",
       "    </tr>\n",
       "    <tr>\n",
       "      <th>MIDDLE</th>\n",
       "      <td>107198.0</td>\n",
       "      <td>23653.0</td>\n",
       "      <td>2309.0</td>\n",
       "    </tr>\n",
       "    <tr>\n",
       "      <th>TOP</th>\n",
       "      <td>125549.0</td>\n",
       "      <td>28162.0</td>\n",
       "      <td>2230.0</td>\n",
       "    </tr>\n",
       "    <tr>\n",
       "      <th>UTILITY</th>\n",
       "      <td>32794.0</td>\n",
       "      <td>19267.0</td>\n",
       "      <td>1821.0</td>\n",
       "    </tr>\n",
       "  </tbody>\n",
       "</table>\n",
       "</div>"
      ],
      "text/plain": [
       "              TOTALDAMAGEDEALT  TOTALDAMAGETAKEN     G_7\n",
       "TEAMPOSITION                                            \n",
       "BOTTOM                126274.0           21165.0  2320.0\n",
       "JUNGLE                136983.0           30629.0  2263.0\n",
       "MIDDLE                107198.0           23653.0  2309.0\n",
       "TOP                   125549.0           28162.0  2230.0\n",
       "UTILITY                32794.0           19267.0  1821.0"
      ]
     },
     "execution_count": 11,
     "metadata": {},
     "output_type": "execute_result"
    }
   ],
   "source": [
    "group_df"
   ]
  },
  {
   "cell_type": "code",
   "execution_count": 12,
   "id": "cbbaacb1",
   "metadata": {},
   "outputs": [
    {
     "data": {
      "text/plain": [
       "TOTALDAMAGEDEALT    136983.0\n",
       "TOTALDAMAGETAKEN     30629.0\n",
       "G_7                   2263.0\n",
       "Name: JUNGLE, dtype: float64"
      ]
     },
     "execution_count": 12,
     "metadata": {},
     "output_type": "execute_result"
    }
   ],
   "source": [
    "group_df.loc['JUNGLE']"
   ]
  },
  {
   "cell_type": "code",
   "execution_count": 17,
   "id": "85170ca2",
   "metadata": {},
   "outputs": [
    {
     "data": {
      "text/plain": [
       "Text(0.5, 1.0, '파이차트')"
      ]
     },
     "execution_count": 17,
     "metadata": {},
     "output_type": "execute_result"
    },
    {
     "data": {
      "image/png": "[encoded data removed]",
      "text/plain": [
       "<Figure size 432x288 with 1 Axes>"
      ]
     },
     "metadata": {},
     "output_type": "display_data"
    }
   ],
   "source": [
    "plt.figure()\n",
    "plt.pie(group_df.loc['JUNGLE'], labels = ['준 피해량', '받은 피해량', '7분 골드량'], \n",
    "        shadow = False, autopct = '%1.1f%%', explode = (0,0,0))\n",
    "plt.grid(True)\n",
    "plt.legend(loc = 3)\n",
    "plt.title('파이차트')"
   ]
  },
  {
   "cell_type": "code",
   "execution_count": 24,
   "id": "a3912675",
   "metadata": {},
   "outputs": [],
   "source": [
    "def calc_explod(x):\n",
    "    x = x.values.tolist()\n",
    "    max_idx = x.index(max(x))\n",
    "    lsn = [0 for i in range(len(x))]\n",
    "    lsn[max_idx] = 0.05\n",
    "    return lsn"
   ]
  },
  {
   "cell_type": "code",
   "execution_count": 25,
   "id": "054355ef",
   "metadata": {},
   "outputs": [
    {
     "data": {
      "text/plain": [
       "Text(0.5, 1.0, '파이차트')"
      ]
     },
     "execution_count": 25,
     "metadata": {},
     "output_type": "execute_result"
    },
    {
     "data": {
      "image/png": "[encoded data removed]",
      "text/plain": [
       "<Figure size 432x288 with 1 Axes>"
      ]
     },
     "metadata": {},
     "output_type": "display_data"
    }
   ],
   "source": [
    "plt.figure()\n",
    "plt.pie(group_df.loc['BOTTOM'], labels = ['준 피해량', '받은 피해량', '7분 골드량'], \n",
    "        shadow = False, autopct = '%1.1f%%', \n",
    "        explode = calc_explod(group_df.loc['BOTTOM']))\n",
    "plt.grid(True)\n",
    "plt.legend(loc = 3)\n",
    "plt.title('파이차트')"
   ]
  },
  {
   "cell_type": "code",
   "execution_count": 27,
   "id": "54a79959",
   "metadata": {},
   "outputs": [],
   "source": [
    "my_tmp = tmp_df[['TEAMPOSITION', 'TOTALDAMAGEDEALT']]"
   ]
  },
  {
   "cell_type": "code",
   "execution_count": 29,
   "id": "c5c22713",
   "metadata": {},
   "outputs": [],
   "source": [
    "my_tmp.set_index('TEAMPOSITION', inplace = True)"
   ]
  },
  {
   "cell_type": "code",
   "execution_count": 30,
   "id": "b8c5ae2e",
   "metadata": {},
   "outputs": [
    {
     "data": {
      "text/html": [
       "<div>\n",
       "<style scoped>\n",
       "    .dataframe tbody tr th:only-of-type {\n",
       "        vertical-align: middle;\n",
       "    }\n",
       "\n",
       "    .dataframe tbody tr th {\n",
       "        vertical-align: top;\n",
       "    }\n",
       "\n",
       "    .dataframe thead th {\n",
       "        text-align: right;\n",
       "    }\n",
       "</style>\n",
       "<table border=\"1\" class=\"dataframe\">\n",
       "  <thead>\n",
       "    <tr style=\"text-align: right;\">\n",
       "      <th></th>\n",
       "      <th>TOTALDAMAGEDEALT</th>\n",
       "    </tr>\n",
       "    <tr>\n",
       "      <th>TEAMPOSITION</th>\n",
       "      <th></th>\n",
       "    </tr>\n",
       "  </thead>\n",
       "  <tbody>\n",
       "    <tr>\n",
       "      <th>JUNGLE</th>\n",
       "      <td>107997</td>\n",
       "    </tr>\n",
       "    <tr>\n",
       "      <th>TOP</th>\n",
       "      <td>121864</td>\n",
       "    </tr>\n",
       "    <tr>\n",
       "      <th>BOTTOM</th>\n",
       "      <td>91953</td>\n",
       "    </tr>\n",
       "    <tr>\n",
       "      <th>UTILITY</th>\n",
       "      <td>7896</td>\n",
       "    </tr>\n",
       "    <tr>\n",
       "      <th>MIDDLE</th>\n",
       "      <td>163783</td>\n",
       "    </tr>\n",
       "    <tr>\n",
       "      <th>...</th>\n",
       "      <td>...</td>\n",
       "    </tr>\n",
       "    <tr>\n",
       "      <th>JUNGLE</th>\n",
       "      <td>220240</td>\n",
       "    </tr>\n",
       "    <tr>\n",
       "      <th>MIDDLE</th>\n",
       "      <td>127907</td>\n",
       "    </tr>\n",
       "    <tr>\n",
       "      <th>TOP</th>\n",
       "      <td>151034</td>\n",
       "    </tr>\n",
       "    <tr>\n",
       "      <th>BOTTOM</th>\n",
       "      <td>65104</td>\n",
       "    </tr>\n",
       "    <tr>\n",
       "      <th>UTILITY</th>\n",
       "      <td>33364</td>\n",
       "    </tr>\n",
       "  </tbody>\n",
       "</table>\n",
       "<p>70 rows × 1 columns</p>\n",
       "</div>"
      ],
      "text/plain": [
       "              TOTALDAMAGEDEALT\n",
       "TEAMPOSITION                  \n",
       "JUNGLE                  107997\n",
       "TOP                     121864\n",
       "BOTTOM                   91953\n",
       "UTILITY                   7896\n",
       "MIDDLE                  163783\n",
       "...                        ...\n",
       "JUNGLE                  220240\n",
       "MIDDLE                  127907\n",
       "TOP                     151034\n",
       "BOTTOM                   65104\n",
       "UTILITY                  33364\n",
       "\n",
       "[70 rows x 1 columns]"
      ]
     },
     "execution_count": 30,
     "metadata": {},
     "output_type": "execute_result"
    }
   ],
   "source": [
    "my_tmp"
   ]
  },
  {
   "cell_type": "code",
   "execution_count": 31,
   "id": "c207d50d",
   "metadata": {},
   "outputs": [
    {
     "data": {
      "image/png": "[encoded data removed]",
      "text/plain": [
       "<Figure size 576x432 with 1 Axes>"
      ]
     },
     "metadata": {
      "needs_background": "light"
     },
     "output_type": "display_data"
    }
   ],
   "source": [
    "plt.figure(figsize = (8, 6))\n",
    "plt.hist(my_tmp, bins = len(my_tmp), label = '전 라인', rwidth = 0.9)\n",
    "\n",
    "plt.xlabel('준 피해량', size = 14)\n",
    "plt.ylabel('빈도 수', size = 14)\n",
    "plt.title('딜량 히스토그램')\n",
    "plt.legend(loc = 'upper right')\n",
    "plt.grid(axis = 'y', alpha = 0.3)"
   ]
  },
  {
   "cell_type": "markdown",
   "id": "3404f754",
   "metadata": {},
   "source": [
    "아나콘다 프롬포트 -> conda install seaborn"
   ]
  },
  {
   "cell_type": "markdown",
   "id": "f6e23a59",
   "metadata": {},
   "source": [
    "conda uninstall seaborn  \n",
    "conda uninstall numpy  \n",
    "conda uninstall scipy"
   ]
  },
  {
   "cell_type": "markdown",
   "id": "207683df",
   "metadata": {},
   "source": [
    "conda remove --force scipy, numpy, seaborn"
   ]
  },
  {
   "cell_type": "code",
   "execution_count": 3,
   "id": "d66ff764",
   "metadata": {},
   "outputs": [],
   "source": [
    "import seaborn as sns"
   ]
  },
  {
   "cell_type": "code",
   "execution_count": 12,
   "id": "30319fd0",
   "metadata": {},
   "outputs": [],
   "source": [
    "url = 'http://openapi.seoul.go.kr:8088/635555674b61726f37305648774969/xml/GetParkInfo/1/5/'"
   ]
  },
  {
   "cell_type": "code",
   "execution_count": 13,
   "id": "0ce34647",
   "metadata": {},
   "outputs": [],
   "source": [
    "df = df_creater(url)"
   ]
  },
  {
   "cell_type": "code",
   "execution_count": 14,
   "id": "ba3ffb93",
   "metadata": {},
   "outputs": [
    {
     "data": {
      "text/html": [
       "<div>\n",
       "<style scoped>\n",
       "    .dataframe tbody tr th:only-of-type {\n",
       "        vertical-align: middle;\n",
       "    }\n",
       "\n",
       "    .dataframe tbody tr th {\n",
       "        vertical-align: top;\n",
       "    }\n",
       "\n",
       "    .dataframe thead th {\n",
       "        text-align: right;\n",
       "    }\n",
       "</style>\n",
       "<table border=\"1\" class=\"dataframe\">\n",
       "  <thead>\n",
       "    <tr style=\"text-align: right;\">\n",
       "      <th></th>\n",
       "      <th>PARKING_NAME</th>\n",
       "      <th>ADDR</th>\n",
       "      <th>PARKING_CODE</th>\n",
       "      <th>PARKING_TYPE</th>\n",
       "      <th>PARKING_TYPE_NM</th>\n",
       "      <th>OPERATION_RULE</th>\n",
       "      <th>OPERATION_RULE_NM</th>\n",
       "      <th>TEL</th>\n",
       "      <th>CAPACITY</th>\n",
       "      <th>PAY_YN</th>\n",
       "      <th>...</th>\n",
       "      <th>TIME_RATE</th>\n",
       "      <th>ADD_RATES</th>\n",
       "      <th>ADD_TIME_RATE</th>\n",
       "      <th>BUS_RATES</th>\n",
       "      <th>BUS_TIME_RATE</th>\n",
       "      <th>BUS_ADD_TIME_RATE</th>\n",
       "      <th>BUS_ADD_RATES</th>\n",
       "      <th>DAY_MAXIMUM</th>\n",
       "      <th>LAT</th>\n",
       "      <th>LNG</th>\n",
       "    </tr>\n",
       "  </thead>\n",
       "  <tbody>\n",
       "    <tr>\n",
       "      <th>0</th>\n",
       "      <td>초안산근린공원주차장(구)</td>\n",
       "      <td>도봉구 창동 24-0</td>\n",
       "      <td>1010089</td>\n",
       "      <td>NW</td>\n",
       "      <td>노외 주차장</td>\n",
       "      <td>1</td>\n",
       "      <td>시간제 주차장</td>\n",
       "      <td></td>\n",
       "      <td>71.0</td>\n",
       "      <td>Y</td>\n",
       "      <td>...</td>\n",
       "      <td>0.0</td>\n",
       "      <td>300.0</td>\n",
       "      <td>10.0</td>\n",
       "      <td>0.0</td>\n",
       "      <td>0.0</td>\n",
       "      <td>0.0</td>\n",
       "      <td>0.0</td>\n",
       "      <td>0.0</td>\n",
       "      <td>37.649279</td>\n",
       "      <td>127.040474</td>\n",
       "    </tr>\n",
       "    <tr>\n",
       "      <th>1</th>\n",
       "      <td>초안산근린공원주차장(구)</td>\n",
       "      <td>도봉구 창동 24-0</td>\n",
       "      <td>1010089</td>\n",
       "      <td>NW</td>\n",
       "      <td>노외 주차장</td>\n",
       "      <td>1</td>\n",
       "      <td>시간제 주차장</td>\n",
       "      <td></td>\n",
       "      <td>71.0</td>\n",
       "      <td>Y</td>\n",
       "      <td>...</td>\n",
       "      <td>0.0</td>\n",
       "      <td>300.0</td>\n",
       "      <td>10.0</td>\n",
       "      <td>0.0</td>\n",
       "      <td>0.0</td>\n",
       "      <td>0.0</td>\n",
       "      <td>0.0</td>\n",
       "      <td>0.0</td>\n",
       "      <td>37.649279</td>\n",
       "      <td>127.040474</td>\n",
       "    </tr>\n",
       "    <tr>\n",
       "      <th>2</th>\n",
       "      <td>마들스타디움(근린공원)(구)</td>\n",
       "      <td>노원구 상계동 770-2</td>\n",
       "      <td>1012254</td>\n",
       "      <td>NW</td>\n",
       "      <td>노외 주차장</td>\n",
       "      <td>1</td>\n",
       "      <td>시간제 주차장</td>\n",
       "      <td>02-2289-6735</td>\n",
       "      <td>177.0</td>\n",
       "      <td>Y</td>\n",
       "      <td>...</td>\n",
       "      <td>5.0</td>\n",
       "      <td>150.0</td>\n",
       "      <td>5.0</td>\n",
       "      <td>0.0</td>\n",
       "      <td>0.0</td>\n",
       "      <td>0.0</td>\n",
       "      <td>0.0</td>\n",
       "      <td>11000.0</td>\n",
       "      <td>37.643917</td>\n",
       "      <td>127.058567</td>\n",
       "    </tr>\n",
       "    <tr>\n",
       "      <th>3</th>\n",
       "      <td>마들스타디움(근린공원)(구)</td>\n",
       "      <td>노원구 상계동 770-2</td>\n",
       "      <td>1012254</td>\n",
       "      <td>NW</td>\n",
       "      <td>노외 주차장</td>\n",
       "      <td>1</td>\n",
       "      <td>시간제 주차장</td>\n",
       "      <td>02-2289-6735</td>\n",
       "      <td>177.0</td>\n",
       "      <td>Y</td>\n",
       "      <td>...</td>\n",
       "      <td>5.0</td>\n",
       "      <td>150.0</td>\n",
       "      <td>5.0</td>\n",
       "      <td>0.0</td>\n",
       "      <td>0.0</td>\n",
       "      <td>0.0</td>\n",
       "      <td>0.0</td>\n",
       "      <td>11000.0</td>\n",
       "      <td>37.643917</td>\n",
       "      <td>127.058567</td>\n",
       "    </tr>\n",
       "    <tr>\n",
       "      <th>4</th>\n",
       "      <td>마장동(건물) 공영주차장(구)</td>\n",
       "      <td>성동구 마장동 463-2</td>\n",
       "      <td>1013181</td>\n",
       "      <td>NW</td>\n",
       "      <td>노외 주차장</td>\n",
       "      <td>1</td>\n",
       "      <td>시간제 주차장</td>\n",
       "      <td>02-2204-7970</td>\n",
       "      <td>54.0</td>\n",
       "      <td>Y</td>\n",
       "      <td>...</td>\n",
       "      <td>5.0</td>\n",
       "      <td>50.0</td>\n",
       "      <td>5.0</td>\n",
       "      <td>0.0</td>\n",
       "      <td>0.0</td>\n",
       "      <td>0.0</td>\n",
       "      <td>0.0</td>\n",
       "      <td>0.0</td>\n",
       "      <td>37.569939</td>\n",
       "      <td>127.035145</td>\n",
       "    </tr>\n",
       "    <tr>\n",
       "      <th>...</th>\n",
       "      <td>...</td>\n",
       "      <td>...</td>\n",
       "      <td>...</td>\n",
       "      <td>...</td>\n",
       "      <td>...</td>\n",
       "      <td>...</td>\n",
       "      <td>...</td>\n",
       "      <td>...</td>\n",
       "      <td>...</td>\n",
       "      <td>...</td>\n",
       "      <td>...</td>\n",
       "      <td>...</td>\n",
       "      <td>...</td>\n",
       "      <td>...</td>\n",
       "      <td>...</td>\n",
       "      <td>...</td>\n",
       "      <td>...</td>\n",
       "      <td>...</td>\n",
       "      <td>...</td>\n",
       "      <td>...</td>\n",
       "      <td>...</td>\n",
       "    </tr>\n",
       "    <tr>\n",
       "      <th>995</th>\n",
       "      <td>을지로 공영주차장(시)</td>\n",
       "      <td>중구 을지로3가 282-8</td>\n",
       "      <td>1367804</td>\n",
       "      <td>NS</td>\n",
       "      <td>노상 주차장</td>\n",
       "      <td>1</td>\n",
       "      <td>시간제 주차장</td>\n",
       "      <td></td>\n",
       "      <td>1.0</td>\n",
       "      <td>Y</td>\n",
       "      <td>...</td>\n",
       "      <td>5.0</td>\n",
       "      <td>750.0</td>\n",
       "      <td>5.0</td>\n",
       "      <td>0.0</td>\n",
       "      <td>0.0</td>\n",
       "      <td>0.0</td>\n",
       "      <td>0.0</td>\n",
       "      <td>0.0</td>\n",
       "      <td>37.566397</td>\n",
       "      <td>126.991446</td>\n",
       "    </tr>\n",
       "    <tr>\n",
       "      <th>996</th>\n",
       "      <td>을지로 공영주차장(시)</td>\n",
       "      <td>중구 을지로3가 282-8</td>\n",
       "      <td>1367804</td>\n",
       "      <td>NS</td>\n",
       "      <td>노상 주차장</td>\n",
       "      <td>1</td>\n",
       "      <td>시간제 주차장</td>\n",
       "      <td></td>\n",
       "      <td>1.0</td>\n",
       "      <td>Y</td>\n",
       "      <td>...</td>\n",
       "      <td>5.0</td>\n",
       "      <td>750.0</td>\n",
       "      <td>5.0</td>\n",
       "      <td>0.0</td>\n",
       "      <td>0.0</td>\n",
       "      <td>0.0</td>\n",
       "      <td>0.0</td>\n",
       "      <td>0.0</td>\n",
       "      <td>37.566665</td>\n",
       "      <td>126.999797</td>\n",
       "    </tr>\n",
       "    <tr>\n",
       "      <th>997</th>\n",
       "      <td>을지로 공영주차장(시)</td>\n",
       "      <td>중구 을지로3가 282-8</td>\n",
       "      <td>1367804</td>\n",
       "      <td>NS</td>\n",
       "      <td>노상 주차장</td>\n",
       "      <td>1</td>\n",
       "      <td>시간제 주차장</td>\n",
       "      <td></td>\n",
       "      <td>1.0</td>\n",
       "      <td>Y</td>\n",
       "      <td>...</td>\n",
       "      <td>5.0</td>\n",
       "      <td>750.0</td>\n",
       "      <td>5.0</td>\n",
       "      <td>0.0</td>\n",
       "      <td>0.0</td>\n",
       "      <td>0.0</td>\n",
       "      <td>0.0</td>\n",
       "      <td>0.0</td>\n",
       "      <td>37.566392</td>\n",
       "      <td>126.994388</td>\n",
       "    </tr>\n",
       "    <tr>\n",
       "      <th>998</th>\n",
       "      <td>을지로 공영주차장(시)</td>\n",
       "      <td>중구 을지로3가 282-8</td>\n",
       "      <td>1367804</td>\n",
       "      <td>NS</td>\n",
       "      <td>노상 주차장</td>\n",
       "      <td>1</td>\n",
       "      <td>시간제 주차장</td>\n",
       "      <td></td>\n",
       "      <td>1.0</td>\n",
       "      <td>Y</td>\n",
       "      <td>...</td>\n",
       "      <td>5.0</td>\n",
       "      <td>750.0</td>\n",
       "      <td>5.0</td>\n",
       "      <td>0.0</td>\n",
       "      <td>0.0</td>\n",
       "      <td>0.0</td>\n",
       "      <td>0.0</td>\n",
       "      <td>0.0</td>\n",
       "      <td>37.566749</td>\n",
       "      <td>126.997575</td>\n",
       "    </tr>\n",
       "    <tr>\n",
       "      <th>999</th>\n",
       "      <td>을지로 공영주차장(시)</td>\n",
       "      <td>중구 을지로3가 282-8</td>\n",
       "      <td>1367804</td>\n",
       "      <td>NS</td>\n",
       "      <td>노상 주차장</td>\n",
       "      <td>1</td>\n",
       "      <td>시간제 주차장</td>\n",
       "      <td></td>\n",
       "      <td>1.0</td>\n",
       "      <td>Y</td>\n",
       "      <td>...</td>\n",
       "      <td>5.0</td>\n",
       "      <td>750.0</td>\n",
       "      <td>5.0</td>\n",
       "      <td>0.0</td>\n",
       "      <td>0.0</td>\n",
       "      <td>0.0</td>\n",
       "      <td>0.0</td>\n",
       "      <td>0.0</td>\n",
       "      <td>37.566414</td>\n",
       "      <td>126.994858</td>\n",
       "    </tr>\n",
       "  </tbody>\n",
       "</table>\n",
       "<p>1000 rows × 37 columns</p>\n",
       "</div>"
      ],
      "text/plain": [
       "         PARKING_NAME            ADDR PARKING_CODE PARKING_TYPE  \\\n",
       "0       초안산근린공원주차장(구)     도봉구 창동 24-0      1010089           NW   \n",
       "1       초안산근린공원주차장(구)     도봉구 창동 24-0      1010089           NW   \n",
       "2     마들스타디움(근린공원)(구)   노원구 상계동 770-2      1012254           NW   \n",
       "3     마들스타디움(근린공원)(구)   노원구 상계동 770-2      1012254           NW   \n",
       "4    마장동(건물) 공영주차장(구)   성동구 마장동 463-2      1013181           NW   \n",
       "..                ...             ...          ...          ...   \n",
       "995      을지로 공영주차장(시)  중구 을지로3가 282-8      1367804           NS   \n",
       "996      을지로 공영주차장(시)  중구 을지로3가 282-8      1367804           NS   \n",
       "997      을지로 공영주차장(시)  중구 을지로3가 282-8      1367804           NS   \n",
       "998      을지로 공영주차장(시)  중구 을지로3가 282-8      1367804           NS   \n",
       "999      을지로 공영주차장(시)  중구 을지로3가 282-8      1367804           NS   \n",
       "\n",
       "    PARKING_TYPE_NM OPERATION_RULE OPERATION_RULE_NM           TEL  CAPACITY  \\\n",
       "0            노외 주차장              1           시간제 주차장                    71.0   \n",
       "1            노외 주차장              1           시간제 주차장                    71.0   \n",
       "2            노외 주차장              1           시간제 주차장  02-2289-6735     177.0   \n",
       "3            노외 주차장              1           시간제 주차장  02-2289-6735     177.0   \n",
       "4            노외 주차장              1           시간제 주차장  02-2204-7970      54.0   \n",
       "..              ...            ...               ...           ...       ...   \n",
       "995          노상 주차장              1           시간제 주차장                     1.0   \n",
       "996          노상 주차장              1           시간제 주차장                     1.0   \n",
       "997          노상 주차장              1           시간제 주차장                     1.0   \n",
       "998          노상 주차장              1           시간제 주차장                     1.0   \n",
       "999          노상 주차장              1           시간제 주차장                     1.0   \n",
       "\n",
       "    PAY_YN  ... TIME_RATE ADD_RATES ADD_TIME_RATE BUS_RATES BUS_TIME_RATE  \\\n",
       "0        Y  ...       0.0     300.0          10.0       0.0           0.0   \n",
       "1        Y  ...       0.0     300.0          10.0       0.0           0.0   \n",
       "2        Y  ...       5.0     150.0           5.0       0.0           0.0   \n",
       "3        Y  ...       5.0     150.0           5.0       0.0           0.0   \n",
       "4        Y  ...       5.0      50.0           5.0       0.0           0.0   \n",
       "..     ...  ...       ...       ...           ...       ...           ...   \n",
       "995      Y  ...       5.0     750.0           5.0       0.0           0.0   \n",
       "996      Y  ...       5.0     750.0           5.0       0.0           0.0   \n",
       "997      Y  ...       5.0     750.0           5.0       0.0           0.0   \n",
       "998      Y  ...       5.0     750.0           5.0       0.0           0.0   \n",
       "999      Y  ...       5.0     750.0           5.0       0.0           0.0   \n",
       "\n",
       "    BUS_ADD_TIME_RATE BUS_ADD_RATES DAY_MAXIMUM        LAT         LNG  \n",
       "0                 0.0           0.0         0.0  37.649279  127.040474  \n",
       "1                 0.0           0.0         0.0  37.649279  127.040474  \n",
       "2                 0.0           0.0     11000.0  37.643917  127.058567  \n",
       "3                 0.0           0.0     11000.0  37.643917  127.058567  \n",
       "4                 0.0           0.0         0.0  37.569939  127.035145  \n",
       "..                ...           ...         ...        ...         ...  \n",
       "995               0.0           0.0         0.0  37.566397  126.991446  \n",
       "996               0.0           0.0         0.0  37.566665  126.999797  \n",
       "997               0.0           0.0         0.0  37.566392  126.994388  \n",
       "998               0.0           0.0         0.0  37.566749  126.997575  \n",
       "999               0.0           0.0         0.0  37.566414  126.994858  \n",
       "\n",
       "[1000 rows x 37 columns]"
      ]
     },
     "execution_count": 14,
     "metadata": {},
     "output_type": "execute_result"
    }
   ],
   "source": [
    "df"
   ]
  },
  {
   "cell_type": "code",
   "execution_count": 15,
   "id": "dd7ed96a",
   "metadata": {},
   "outputs": [],
   "source": [
    "my_df = df[['PARKING_NAME', 'CAPACITY', 'PAY_NM', 'SATURDAY_PAY_NM', 'HOLIDAY_PAY_NM'\n",
    "           , 'FULLTIME_MONTHLY', 'RATES', 'ADD_RATES']]"
   ]
  },
  {
   "cell_type": "code",
   "execution_count": 16,
   "id": "da4131b0",
   "metadata": {},
   "outputs": [],
   "source": [
    "my_df.columns = ['주자창명', '주차수', '유무료', '주말유무료', '공휴일유무료'\n",
    "                 , '월정기권금액', '기본요금', '추가요금']"
   ]
  },
  {
   "cell_type": "code",
   "execution_count": 17,
   "id": "df480ac4",
   "metadata": {},
   "outputs": [],
   "source": [
    "my_df = my_df.drop_duplicates()"
   ]
  },
  {
   "cell_type": "code",
   "execution_count": 18,
   "id": "5f2d5c99",
   "metadata": {},
   "outputs": [
    {
     "data": {
      "text/html": [
       "<div>\n",
       "<style scoped>\n",
       "    .dataframe tbody tr th:only-of-type {\n",
       "        vertical-align: middle;\n",
       "    }\n",
       "\n",
       "    .dataframe tbody tr th {\n",
       "        vertical-align: top;\n",
       "    }\n",
       "\n",
       "    .dataframe thead th {\n",
       "        text-align: right;\n",
       "    }\n",
       "</style>\n",
       "<table border=\"1\" class=\"dataframe\">\n",
       "  <thead>\n",
       "    <tr style=\"text-align: right;\">\n",
       "      <th></th>\n",
       "      <th>주자창명</th>\n",
       "      <th>주차수</th>\n",
       "      <th>유무료</th>\n",
       "      <th>주말유무료</th>\n",
       "      <th>공휴일유무료</th>\n",
       "      <th>월정기권금액</th>\n",
       "      <th>기본요금</th>\n",
       "      <th>추가요금</th>\n",
       "    </tr>\n",
       "  </thead>\n",
       "  <tbody>\n",
       "    <tr>\n",
       "      <th>0</th>\n",
       "      <td>초안산근린공원주차장(구)</td>\n",
       "      <td>71.0</td>\n",
       "      <td>유료</td>\n",
       "      <td>무료</td>\n",
       "      <td>무료</td>\n",
       "      <td>0</td>\n",
       "      <td>0.0</td>\n",
       "      <td>300.0</td>\n",
       "    </tr>\n",
       "    <tr>\n",
       "      <th>2</th>\n",
       "      <td>마들스타디움(근린공원)(구)</td>\n",
       "      <td>177.0</td>\n",
       "      <td>유료</td>\n",
       "      <td>무료</td>\n",
       "      <td>무료</td>\n",
       "      <td>100000</td>\n",
       "      <td>150.0</td>\n",
       "      <td>150.0</td>\n",
       "    </tr>\n",
       "    <tr>\n",
       "      <th>4</th>\n",
       "      <td>마장동(건물) 공영주차장(구)</td>\n",
       "      <td>54.0</td>\n",
       "      <td>유료</td>\n",
       "      <td>무료</td>\n",
       "      <td>무료</td>\n",
       "      <td>50000</td>\n",
       "      <td>50.0</td>\n",
       "      <td>50.0</td>\n",
       "    </tr>\n",
       "    <tr>\n",
       "      <th>6</th>\n",
       "      <td>영등포여고 공영(구)</td>\n",
       "      <td>98.0</td>\n",
       "      <td>유료</td>\n",
       "      <td>무료</td>\n",
       "      <td>무료</td>\n",
       "      <td>65000</td>\n",
       "      <td>50.0</td>\n",
       "      <td>50.0</td>\n",
       "    </tr>\n",
       "    <tr>\n",
       "      <th>8</th>\n",
       "      <td>당산근린공원 공영(구)</td>\n",
       "      <td>190.0</td>\n",
       "      <td>유료</td>\n",
       "      <td>무료</td>\n",
       "      <td>무료</td>\n",
       "      <td>100000</td>\n",
       "      <td>150.0</td>\n",
       "      <td>150.0</td>\n",
       "    </tr>\n",
       "    <tr>\n",
       "      <th>...</th>\n",
       "      <td>...</td>\n",
       "      <td>...</td>\n",
       "      <td>...</td>\n",
       "      <td>...</td>\n",
       "      <td>...</td>\n",
       "      <td>...</td>\n",
       "      <td>...</td>\n",
       "      <td>...</td>\n",
       "    </tr>\n",
       "    <tr>\n",
       "      <th>685</th>\n",
       "      <td>적선동 주차장(시)</td>\n",
       "      <td>30.0</td>\n",
       "      <td>유료</td>\n",
       "      <td>무료</td>\n",
       "      <td>무료</td>\n",
       "      <td>0</td>\n",
       "      <td>340.0</td>\n",
       "      <td>340.0</td>\n",
       "    </tr>\n",
       "    <tr>\n",
       "      <th>687</th>\n",
       "      <td>해군본부앞 공영주차장(시)</td>\n",
       "      <td>1.0</td>\n",
       "      <td>유료</td>\n",
       "      <td>무료</td>\n",
       "      <td>유료</td>\n",
       "      <td></td>\n",
       "      <td>220.0</td>\n",
       "      <td>220.0</td>\n",
       "    </tr>\n",
       "    <tr>\n",
       "      <th>727</th>\n",
       "      <td>가산동 금천교 공영주차장(시)</td>\n",
       "      <td>1.0</td>\n",
       "      <td>유료</td>\n",
       "      <td>무료</td>\n",
       "      <td>유료</td>\n",
       "      <td>0</td>\n",
       "      <td>200.0</td>\n",
       "      <td>200.0</td>\n",
       "    </tr>\n",
       "    <tr>\n",
       "      <th>766</th>\n",
       "      <td>당산고가밑 공영주차장(시)</td>\n",
       "      <td>1.0</td>\n",
       "      <td>유료</td>\n",
       "      <td>무료</td>\n",
       "      <td>유료</td>\n",
       "      <td></td>\n",
       "      <td>260.0</td>\n",
       "      <td>260.0</td>\n",
       "    </tr>\n",
       "    <tr>\n",
       "      <th>812</th>\n",
       "      <td>을지로 공영주차장(시)</td>\n",
       "      <td>1.0</td>\n",
       "      <td>유료</td>\n",
       "      <td>무료</td>\n",
       "      <td>유료</td>\n",
       "      <td></td>\n",
       "      <td>750.0</td>\n",
       "      <td>750.0</td>\n",
       "    </tr>\n",
       "  </tbody>\n",
       "</table>\n",
       "<p>109 rows × 8 columns</p>\n",
       "</div>"
      ],
      "text/plain": [
       "                 주자창명    주차수 유무료 주말유무료 공휴일유무료  월정기권금액   기본요금   추가요금\n",
       "0       초안산근린공원주차장(구)   71.0  유료    무료     무료       0    0.0  300.0\n",
       "2     마들스타디움(근린공원)(구)  177.0  유료    무료     무료  100000  150.0  150.0\n",
       "4    마장동(건물) 공영주차장(구)   54.0  유료    무료     무료   50000   50.0   50.0\n",
       "6         영등포여고 공영(구)   98.0  유료    무료     무료   65000   50.0   50.0\n",
       "8        당산근린공원 공영(구)  190.0  유료    무료     무료  100000  150.0  150.0\n",
       "..                ...    ...  ..   ...    ...     ...    ...    ...\n",
       "685        적선동 주차장(시)   30.0  유료    무료     무료       0  340.0  340.0\n",
       "687    해군본부앞 공영주차장(시)    1.0  유료    무료     유료          220.0  220.0\n",
       "727  가산동 금천교 공영주차장(시)    1.0  유료    무료     유료       0  200.0  200.0\n",
       "766    당산고가밑 공영주차장(시)    1.0  유료    무료     유료          260.0  260.0\n",
       "812      을지로 공영주차장(시)    1.0  유료    무료     유료          750.0  750.0\n",
       "\n",
       "[109 rows x 8 columns]"
      ]
     },
     "execution_count": 18,
     "metadata": {},
     "output_type": "execute_result"
    }
   ],
   "source": [
    "my_df"
   ]
  },
  {
   "cell_type": "code",
   "execution_count": 28,
   "id": "ad7990d1",
   "metadata": {},
   "outputs": [
    {
     "data": {
      "text/plain": [
       "<AxesSubplot:title={'center':'주차장 유무료'}, xlabel='유무료', ylabel='count'>"
      ]
     },
     "execution_count": 28,
     "metadata": {},
     "output_type": "execute_result"
    },
    {
     "data": {
      "image/png": "[encoded data removed]",
      "text/plain": [
       "<Figure size 432x288 with 1 Axes>"
      ]
     },
     "metadata": {
      "needs_background": "light"
     },
     "output_type": "display_data"
    }
   ],
   "source": [
    "plt.figure()\n",
    "plt.title('주차장 유무료')\n",
    "sns.countplot(x = '유무료', data = my_df, order = ['유료', '무료'])"
   ]
  },
  {
   "cell_type": "code",
   "execution_count": 29,
   "id": "2f7cc9e3",
   "metadata": {},
   "outputs": [
    {
     "data": {
      "text/plain": [
       "<AxesSubplot:title={'center':'기본요금 히스토그램'}, xlabel='기본요금', ylabel='Count'>"
      ]
     },
     "execution_count": 29,
     "metadata": {},
     "output_type": "execute_result"
    },
    {
     "data": {
      "image/png": "[encoded data removed]",
      "text/plain": [
       "<Figure size 432x288 with 1 Axes>"
      ]
     },
     "metadata": {
      "needs_background": "light"
     },
     "output_type": "display_data"
    }
   ],
   "source": [
    "plt.figure()\n",
    "plt.title('기본요금 히스토그램')\n",
    "sns.histplot(x = my_df['기본요금'])"
   ]
  },
  {
   "cell_type": "code",
   "execution_count": 31,
   "id": "97d63f75",
   "metadata": {},
   "outputs": [
    {
     "data": {
      "text/plain": [
       "<AxesSubplot:xlabel='기본요금', ylabel='추가요금'>"
      ]
     },
     "execution_count": 31,
     "metadata": {},
     "output_type": "execute_result"
    },
    {
     "data": {
      "image/png": "[encoded data removed]",
      "text/plain": [
       "<Figure size 432x288 with 1 Axes>"
      ]
     },
     "metadata": {
      "needs_background": "light"
     },
     "output_type": "display_data"
    }
   ],
   "source": [
    "sns.histplot(x = my_df['기본요금'], y = my_df['추가요금'])"
   ]
  },
  {
   "cell_type": "code",
   "execution_count": 32,
   "id": "fa458c94",
   "metadata": {},
   "outputs": [
    {
     "data": {
      "text/plain": [
       "<AxesSubplot:xlabel='기본요금', ylabel='Density'>"
      ]
     },
     "execution_count": 32,
     "metadata": {},
     "output_type": "execute_result"
    },
    {
     "data": {
      "image/png": "[encoded data removed]",
      "text/plain": [
       "<Figure size 432x288 with 1 Axes>"
      ]
     },
     "metadata": {
      "needs_background": "light"
     },
     "output_type": "display_data"
    }
   ],
   "source": [
    "plt.figure()\n",
    "sns.kdeplot(x = my_df['기본요금'])"
   ]
  },
  {
   "cell_type": "code",
   "execution_count": 6,
   "id": "17efb382",
   "metadata": {},
   "outputs": [
    {
     "name": "stdout",
     "output_type": "stream",
     "text": [
      "db_open!\n",
      "db_close!\n"
     ]
    },
    {
     "name": "stderr",
     "output_type": "stream",
     "text": [
      "C:\\Users\\user\\anaconda3\\lib\\site-packages\\pandas\\io\\sql.py:761: UserWarning: pandas only support SQLAlchemy connectable(engine/connection) ordatabase string URI or sqlite3 DBAPI2 connectionother DBAPI2 objects are not tested, please consider using SQLAlchemy\n",
      "  warnings.warn(\n"
     ]
    }
   ],
   "source": [
    "db_open()\n",
    "lol_df = sql_execute('select * from lol_stats')\n",
    "db_close()"
   ]
  },
  {
   "cell_type": "code",
   "execution_count": 9,
   "id": "98fdb33f",
   "metadata": {},
   "outputs": [
    {
     "data": {
      "text/plain": [
       "<AxesSubplot:xlabel='G_7', ylabel='Density'>"
      ]
     },
     "execution_count": 9,
     "metadata": {},
     "output_type": "execute_result"
    },
    {
     "data": {
      "image/png": "[encoded data removed]",
      "text/plain": [
       "<Figure size 432x288 with 1 Axes>"
      ]
     },
     "metadata": {
      "needs_background": "light"
     },
     "output_type": "display_data"
    }
   ],
   "source": [
    "plt.figure()\n",
    "sns.kdeplot(x = lol_df['G_7'])"
   ]
  },
  {
   "cell_type": "code",
   "execution_count": 10,
   "id": "31a8c2a2",
   "metadata": {},
   "outputs": [
    {
     "data": {
      "text/plain": [
       "<AxesSubplot:xlabel='G_7', ylabel='Density'>"
      ]
     },
     "execution_count": 10,
     "metadata": {},
     "output_type": "execute_result"
    },
    {
     "data": {
      "image/png": "[encoded data removed]",
      "text/plain": [
       "<Figure size 432x288 with 1 Axes>"
      ]
     },
     "metadata": {
      "needs_background": "light"
     },
     "output_type": "display_data"
    }
   ],
   "source": [
    "sns.kdeplot(x = lol_df[lol_df.G_7 != 0]['G_7'])"
   ]
  },
  {
   "cell_type": "code",
   "execution_count": 22,
   "id": "3c1c10fa",
   "metadata": {},
   "outputs": [
    {
     "data": {
      "text/plain": [
       "<AxesSubplot:xlabel='기본요금', ylabel='추가요금'>"
      ]
     },
     "execution_count": 22,
     "metadata": {},
     "output_type": "execute_result"
    },
    {
     "data": {
      "image/png": "[encoded data removed]",
      "text/plain": [
       "<Figure size 432x288 with 1 Axes>"
      ]
     },
     "metadata": {
      "needs_background": "light"
     },
     "output_type": "display_data"
    }
   ],
   "source": [
    "plt.figure()\n",
    "sns.kdeplot(x = my_df['기본요금'], y = my_df['추가요금'])"
   ]
  },
  {
   "cell_type": "code",
   "execution_count": 23,
   "id": "94d65449",
   "metadata": {},
   "outputs": [
    {
     "data": {
      "text/plain": [
       "<seaborn.axisgrid.FacetGrid at 0x23ac8c73250>"
      ]
     },
     "execution_count": 23,
     "metadata": {},
     "output_type": "execute_result"
    },
    {
     "data": {
      "image/png": "[encoded data removed]",
      "text/plain": [
       "<Figure size 360x360 with 1 Axes>"
      ]
     },
     "metadata": {
      "needs_background": "light"
     },
     "output_type": "display_data"
    }
   ],
   "source": [
    "sns.displot(x = my_df['추가요금'], kind='ecdf')"
   ]
  },
  {
   "cell_type": "code",
   "execution_count": 24,
   "id": "fdc8f37e",
   "metadata": {},
   "outputs": [
    {
     "data": {
      "text/plain": [
       "<AxesSubplot:xlabel='기본요금', ylabel='Density'>"
      ]
     },
     "execution_count": 24,
     "metadata": {},
     "output_type": "execute_result"
    },
    {
     "data": {
      "image/png": "[encoded data removed]",
      "text/plain": [
       "<Figure size 432x288 with 1 Axes>"
      ]
     },
     "metadata": {
      "needs_background": "light"
     },
     "output_type": "display_data"
    }
   ],
   "source": [
    "sns.kdeplot(x = my_df['기본요금'])\n",
    "sns.rugplot(x = my_df['기본요금'])"
   ]
  },
  {
   "cell_type": "code",
   "execution_count": 25,
   "id": "2fdfbc5d",
   "metadata": {},
   "outputs": [
    {
     "data": {
      "text/plain": [
       "<AxesSubplot:xlabel='주말유무료', ylabel='기본요금'>"
      ]
     },
     "execution_count": 25,
     "metadata": {},
     "output_type": "execute_result"
    },
    {
     "data": {
      "image/png": "[encoded data removed]",
      "text/plain": [
       "<Figure size 432x288 with 1 Axes>"
      ]
     },
     "metadata": {
      "needs_background": "light"
     },
     "output_type": "display_data"
    }
   ],
   "source": [
    "sns.barplot(x = my_df['주말유무료'], y = my_df['기본요금'])"
   ]
  },
  {
   "cell_type": "code",
   "execution_count": 26,
   "id": "d7827fbb",
   "metadata": {},
   "outputs": [
    {
     "data": {
      "text/plain": [
       "<AxesSubplot:xlabel='주말유무료', ylabel='추가요금'>"
      ]
     },
     "execution_count": 26,
     "metadata": {},
     "output_type": "execute_result"
    },
    {
     "data": {
      "image/png": "[encoded data removed]",
      "text/plain": [
       "<Figure size 432x288 with 1 Axes>"
      ]
     },
     "metadata": {
      "needs_background": "light"
     },
     "output_type": "display_data"
    }
   ],
   "source": [
    "sns.violinplot(x = my_df['주말유무료'], y = my_df['추가요금'])"
   ]
  },
  {
   "cell_type": "code",
   "execution_count": 27,
   "id": "18366ff2",
   "metadata": {},
   "outputs": [
    {
     "data": {
      "text/plain": [
       "<AxesSubplot:xlabel='주말유무료', ylabel='추가요금'>"
      ]
     },
     "execution_count": 27,
     "metadata": {},
     "output_type": "execute_result"
    },
    {
     "data": {
      "image/png": "[encoded data removed]",
      "text/plain": [
       "<Figure size 432x288 with 1 Axes>"
      ]
     },
     "metadata": {
      "needs_background": "light"
     },
     "output_type": "display_data"
    }
   ],
   "source": [
    "sns.stripplot(x = my_df['주말유무료'], y = my_df['추가요금'])"
   ]
  },
  {
   "cell_type": "code",
   "execution_count": 29,
   "id": "feb6ae45",
   "metadata": {},
   "outputs": [
    {
     "data": {
      "text/html": [
       "<div>\n",
       "<style scoped>\n",
       "    .dataframe tbody tr th:only-of-type {\n",
       "        vertical-align: middle;\n",
       "    }\n",
       "\n",
       "    .dataframe tbody tr th {\n",
       "        vertical-align: top;\n",
       "    }\n",
       "\n",
       "    .dataframe thead th {\n",
       "        text-align: right;\n",
       "    }\n",
       "</style>\n",
       "<table border=\"1\" class=\"dataframe\">\n",
       "  <thead>\n",
       "    <tr style=\"text-align: right;\">\n",
       "      <th></th>\n",
       "      <th>주차수</th>\n",
       "      <th>기본요금</th>\n",
       "      <th>추가요금</th>\n",
       "    </tr>\n",
       "  </thead>\n",
       "  <tbody>\n",
       "    <tr>\n",
       "      <th>주차수</th>\n",
       "      <td>1.000000</td>\n",
       "      <td>-0.066379</td>\n",
       "      <td>-0.231136</td>\n",
       "    </tr>\n",
       "    <tr>\n",
       "      <th>기본요금</th>\n",
       "      <td>-0.066379</td>\n",
       "      <td>1.000000</td>\n",
       "      <td>0.560982</td>\n",
       "    </tr>\n",
       "    <tr>\n",
       "      <th>추가요금</th>\n",
       "      <td>-0.231136</td>\n",
       "      <td>0.560982</td>\n",
       "      <td>1.000000</td>\n",
       "    </tr>\n",
       "  </tbody>\n",
       "</table>\n",
       "</div>"
      ],
      "text/plain": [
       "           주차수      기본요금      추가요금\n",
       "주차수   1.000000 -0.066379 -0.231136\n",
       "기본요금 -0.066379  1.000000  0.560982\n",
       "추가요금 -0.231136  0.560982  1.000000"
      ]
     },
     "execution_count": 29,
     "metadata": {},
     "output_type": "execute_result"
    }
   ],
   "source": [
    "my_df.corr() #상관관계"
   ]
  },
  {
   "cell_type": "code",
   "execution_count": 30,
   "id": "36f501ae",
   "metadata": {},
   "outputs": [
    {
     "data": {
      "text/plain": [
       "<AxesSubplot:>"
      ]
     },
     "execution_count": 30,
     "metadata": {},
     "output_type": "execute_result"
    },
    {
     "data": {
      "image/png": "[encoded data removed]",
      "text/plain": [
       "<Figure size 432x288 with 2 Axes>"
      ]
     },
     "metadata": {
      "needs_background": "light"
     },
     "output_type": "display_data"
    }
   ],
   "source": [
    "sns.heatmap(my_df.corr(), annot = True, cmap = 'viridis')"
   ]
  },
  {
   "cell_type": "code",
   "execution_count": 31,
   "id": "a493c3b2",
   "metadata": {},
   "outputs": [
    {
     "data": {
      "text/plain": [
       "<seaborn.matrix.ClusterGrid at 0x23ac8ef67f0>"
      ]
     },
     "execution_count": 31,
     "metadata": {},
     "output_type": "execute_result"
    },
    {
     "data": {
      "image/png": "[encoded data removed]",
      "text/plain": [
       "<Figure size 720x720 with 4 Axes>"
      ]
     },
     "metadata": {
      "needs_background": "light"
     },
     "output_type": "display_data"
    }
   ],
   "source": [
    "sns.clustermap(my_df.corr(), annot = True, cmap = 'viridis')"
   ]
  },
  {
   "cell_type": "code",
   "execution_count": 32,
   "id": "1ce2ba8e",
   "metadata": {},
   "outputs": [
    {
     "name": "stderr",
     "output_type": "stream",
     "text": [
      "C:\\Users\\user\\anaconda3\\lib\\site-packages\\seaborn\\distributions.py:2619: FutureWarning: `distplot` is a deprecated function and will be removed in a future version. Please adapt your code to use either `displot` (a figure-level function with similar flexibility) or `histplot` (an axes-level function for histograms).\n",
      "  warnings.warn(msg, FutureWarning)\n",
      "C:\\Users\\user\\anaconda3\\lib\\site-packages\\seaborn\\distributions.py:2619: FutureWarning: `distplot` is a deprecated function and will be removed in a future version. Please adapt your code to use either `displot` (a figure-level function with similar flexibility) or `histplot` (an axes-level function for histograms).\n",
      "  warnings.warn(msg, FutureWarning)\n",
      "C:\\Users\\user\\anaconda3\\lib\\site-packages\\seaborn\\distributions.py:2619: FutureWarning: `distplot` is a deprecated function and will be removed in a future version. Please adapt your code to use either `displot` (a figure-level function with similar flexibility) or `histplot` (an axes-level function for histograms).\n",
      "  warnings.warn(msg, FutureWarning)\n"
     ]
    },
    {
     "data": {
      "text/plain": [
       "<seaborn.axisgrid.FacetGrid at 0x23ac8f4ea60>"
      ]
     },
     "execution_count": 32,
     "metadata": {},
     "output_type": "execute_result"
    },
    {
     "data": {
      "image/png": "[encoded data removed]",
      "text/plain": [
       "<Figure size 432x432 with 4 Axes>"
      ]
     },
     "metadata": {
      "needs_background": "light"
     },
     "output_type": "display_data"
    }
   ],
   "source": [
    "sns.FacetGrid(my_df, col = '주말유무료', row = '공휴일유무료').map(sns.distplot, '기본요금')"
   ]
  },
  {
   "cell_type": "code",
   "execution_count": 34,
   "id": "b0bcae08",
   "metadata": {},
   "outputs": [
    {
     "data": {
      "text/plain": [
       "<seaborn.axisgrid.JointGrid at 0x23ac96c5940>"
      ]
     },
     "execution_count": 34,
     "metadata": {},
     "output_type": "execute_result"
    },
    {
     "data": {
      "image/png": "[encoded data removed]",
      "text/plain": [
       "<Figure size 432x432 with 3 Axes>"
      ]
     },
     "metadata": {
      "needs_background": "light"
     },
     "output_type": "display_data"
    }
   ],
   "source": [
    "sns.jointplot(x = my_df['기본요금'], y = my_df['추가요금'], kind = 'hex')"
   ]
  },
  {
   "cell_type": "code",
   "execution_count": 35,
   "id": "9a835477",
   "metadata": {},
   "outputs": [
    {
     "data": {
      "text/plain": [
       "<seaborn.axisgrid.PairGrid at 0x23ac98c5ca0>"
      ]
     },
     "execution_count": 35,
     "metadata": {},
     "output_type": "execute_result"
    },
    {
     "data": {
      "image/png": "[encoded data removed]",
      "text/plain": [
       "<Figure size 540x540 with 12 Axes>"
      ]
     },
     "metadata": {
      "needs_background": "light"
     },
     "output_type": "display_data"
    }
   ],
   "source": [
    "sns.pairplot(my_df)"
   ]
  },
  {
   "cell_type": "code",
   "execution_count": 36,
   "id": "5a0e7541",
   "metadata": {},
   "outputs": [
    {
     "data": {
      "text/plain": [
       "<AxesSubplot:xlabel='기본요금', ylabel='추가요금'>"
      ]
     },
     "execution_count": 36,
     "metadata": {},
     "output_type": "execute_result"
    },
    {
     "data": {
      "image/png": "[encoded data removed]",
      "text/plain": [
       "<Figure size 432x288 with 1 Axes>"
      ]
     },
     "metadata": {
      "needs_background": "light"
     },
     "output_type": "display_data"
    }
   ],
   "source": [
    "sns.regplot(x = '기본요금', y = '추가요금', data = my_df)"
   ]
  },
  {
   "cell_type": "code",
   "execution_count": 37,
   "id": "d282e082",
   "metadata": {},
   "outputs": [
    {
     "data": {
      "text/plain": [
       "<seaborn.axisgrid.FacetGrid at 0x23ac98c5910>"
      ]
     },
     "execution_count": 37,
     "metadata": {},
     "output_type": "execute_result"
    },
    {
     "data": {
      "image/png": "[encoded data removed]",
      "text/plain": [
       "<Figure size 418x360 with 1 Axes>"
      ]
     },
     "metadata": {
      "needs_background": "light"
     },
     "output_type": "display_data"
    }
   ],
   "source": [
    "sns.lmplot(x = '기본요금', y = '추가요금', data = my_df, hue = '주말유무료')"
   ]
  },
  {
   "cell_type": "code",
   "execution_count": 39,
   "id": "74b3b9f3",
   "metadata": {},
   "outputs": [
    {
     "data": {
      "text/plain": [
       "<seaborn.axisgrid.FacetGrid at 0x23ac96da370>"
      ]
     },
     "execution_count": 39,
     "metadata": {},
     "output_type": "execute_result"
    },
    {
     "data": {
      "image/png": "[encoded data removed]",
      "text/plain": [
       "<Figure size 779x720 with 4 Axes>"
      ]
     },
     "metadata": {
      "needs_background": "light"
     },
     "output_type": "display_data"
    }
   ],
   "source": [
    "sns.relplot(x = '주차수', y = '추가요금', hue = '기본요금', row = '주말유무료', col = '공휴일유무료', data = my_df)"
   ]
  },
  {
   "cell_type": "markdown",
   "id": "5313262a",
   "metadata": {},
   "source": [
    "아나콘다 프롬포트 -> pip install plotly"
   ]
  },
  {
   "cell_type": "code",
   "execution_count": 55,
   "id": "e1549bb9",
   "metadata": {},
   "outputs": [
    {
     "name": "stderr",
     "output_type": "stream",
     "text": [
      "C:\\Users\\user\\AppData\\Local\\Temp\\ipykernel_5816\\2492045562.py:8: FutureWarning:\n",
      "\n",
      "The frame.append method is deprecated and will be removed from pandas in a future version. Use pandas.concat instead.\n",
      "\n",
      "C:\\Users\\user\\AppData\\Local\\Temp\\ipykernel_5816\\2492045562.py:8: FutureWarning:\n",
      "\n",
      "The frame.append method is deprecated and will be removed from pandas in a future version. Use pandas.concat instead.\n",
      "\n",
      "C:\\Users\\user\\AppData\\Local\\Temp\\ipykernel_5816\\2492045562.py:8: FutureWarning:\n",
      "\n",
      "The frame.append method is deprecated and will be removed from pandas in a future version. Use pandas.concat instead.\n",
      "\n"
     ]
    }
   ],
   "source": [
    "url = \"https://api.upbit.com/v1/candles/days\"\n",
    "coin_lst = ['KRW-BTC','KRW-ETH','KRW-XRP']\n",
    "headers = {\"Accept\": \"application/json\"}\n",
    "df = pd.DataFrame()\n",
    "for c in coin_lst:\n",
    "    querystring = {\"market\":c, \"count\":\"200\"}\n",
    "    response = requests.request(\"GET\", url, headers=headers, params=querystring)\n",
    "    df = df.append(pd.DataFrame(response.json()))"
   ]
  },
  {
   "cell_type": "code",
   "execution_count": 48,
   "id": "88bc7163",
   "metadata": {},
   "outputs": [
    {
     "data": {
      "text/html": [
       "<div>\n",
       "<style scoped>\n",
       "    .dataframe tbody tr th:only-of-type {\n",
       "        vertical-align: middle;\n",
       "    }\n",
       "\n",
       "    .dataframe tbody tr th {\n",
       "        vertical-align: top;\n",
       "    }\n",
       "\n",
       "    .dataframe thead th {\n",
       "        text-align: right;\n",
       "    }\n",
       "</style>\n",
       "<table border=\"1\" class=\"dataframe\">\n",
       "  <thead>\n",
       "    <tr style=\"text-align: right;\">\n",
       "      <th></th>\n",
       "      <th>market</th>\n",
       "      <th>candle_date_time_utc</th>\n",
       "      <th>candle_date_time_kst</th>\n",
       "      <th>opening_price</th>\n",
       "      <th>high_price</th>\n",
       "      <th>low_price</th>\n",
       "      <th>trade_price</th>\n",
       "      <th>timestamp</th>\n",
       "      <th>candle_acc_trade_price</th>\n",
       "      <th>candle_acc_trade_volume</th>\n",
       "      <th>prev_closing_price</th>\n",
       "      <th>change_price</th>\n",
       "      <th>change_rate</th>\n",
       "    </tr>\n",
       "  </thead>\n",
       "  <tbody>\n",
       "    <tr>\n",
       "      <th>0</th>\n",
       "      <td>KRW-BTC</td>\n",
       "      <td>2022-07-04T00:00:00</td>\n",
       "      <td>2022-07-04T09:00:00</td>\n",
       "      <td>25454000.0</td>\n",
       "      <td>25467000.0</td>\n",
       "      <td>25150000.0</td>\n",
       "      <td>25212000.0</td>\n",
       "      <td>1656910020754</td>\n",
       "      <td>3.226344e+10</td>\n",
       "      <td>1.275211e+03</td>\n",
       "      <td>25422000.0</td>\n",
       "      <td>-210000.0</td>\n",
       "      <td>-0.008261</td>\n",
       "    </tr>\n",
       "    <tr>\n",
       "      <th>1</th>\n",
       "      <td>KRW-BTC</td>\n",
       "      <td>2022-07-03T00:00:00</td>\n",
       "      <td>2022-07-03T09:00:00</td>\n",
       "      <td>25465000.0</td>\n",
       "      <td>25870000.0</td>\n",
       "      <td>25000000.0</td>\n",
       "      <td>25422000.0</td>\n",
       "      <td>1656892799474</td>\n",
       "      <td>1.016357e+11</td>\n",
       "      <td>4.004473e+03</td>\n",
       "      <td>25463000.0</td>\n",
       "      <td>-41000.0</td>\n",
       "      <td>-0.001610</td>\n",
       "    </tr>\n",
       "    <tr>\n",
       "      <th>2</th>\n",
       "      <td>KRW-BTC</td>\n",
       "      <td>2022-07-02T00:00:00</td>\n",
       "      <td>2022-07-02T09:00:00</td>\n",
       "      <td>25576000.0</td>\n",
       "      <td>25700000.0</td>\n",
       "      <td>25180000.0</td>\n",
       "      <td>25463000.0</td>\n",
       "      <td>1656806399522</td>\n",
       "      <td>9.122699e+10</td>\n",
       "      <td>3.585127e+03</td>\n",
       "      <td>25556000.0</td>\n",
       "      <td>-93000.0</td>\n",
       "      <td>-0.003639</td>\n",
       "    </tr>\n",
       "    <tr>\n",
       "      <th>3</th>\n",
       "      <td>KRW-BTC</td>\n",
       "      <td>2022-07-01T00:00:00</td>\n",
       "      <td>2022-07-01T09:00:00</td>\n",
       "      <td>25999000.0</td>\n",
       "      <td>27110000.0</td>\n",
       "      <td>25100000.0</td>\n",
       "      <td>25556000.0</td>\n",
       "      <td>1656719999317</td>\n",
       "      <td>2.763730e+11</td>\n",
       "      <td>1.066707e+04</td>\n",
       "      <td>26003000.0</td>\n",
       "      <td>-447000.0</td>\n",
       "      <td>-0.017190</td>\n",
       "    </tr>\n",
       "    <tr>\n",
       "      <th>4</th>\n",
       "      <td>KRW-BTC</td>\n",
       "      <td>2022-06-30T00:00:00</td>\n",
       "      <td>2022-06-30T09:00:00</td>\n",
       "      <td>26572000.0</td>\n",
       "      <td>26609000.0</td>\n",
       "      <td>24776000.0</td>\n",
       "      <td>26003000.0</td>\n",
       "      <td>1656633599755</td>\n",
       "      <td>2.925429e+11</td>\n",
       "      <td>1.147834e+04</td>\n",
       "      <td>26548000.0</td>\n",
       "      <td>-545000.0</td>\n",
       "      <td>-0.020529</td>\n",
       "    </tr>\n",
       "    <tr>\n",
       "      <th>...</th>\n",
       "      <td>...</td>\n",
       "      <td>...</td>\n",
       "      <td>...</td>\n",
       "      <td>...</td>\n",
       "      <td>...</td>\n",
       "      <td>...</td>\n",
       "      <td>...</td>\n",
       "      <td>...</td>\n",
       "      <td>...</td>\n",
       "      <td>...</td>\n",
       "      <td>...</td>\n",
       "      <td>...</td>\n",
       "      <td>...</td>\n",
       "    </tr>\n",
       "    <tr>\n",
       "      <th>195</th>\n",
       "      <td>KRW-XRP</td>\n",
       "      <td>2021-12-21T00:00:00</td>\n",
       "      <td>2021-12-21T09:00:00</td>\n",
       "      <td>1090.0</td>\n",
       "      <td>1180.0</td>\n",
       "      <td>1050.0</td>\n",
       "      <td>1160.0</td>\n",
       "      <td>1640131197810</td>\n",
       "      <td>4.132378e+11</td>\n",
       "      <td>3.743888e+08</td>\n",
       "      <td>1090.0</td>\n",
       "      <td>70.0</td>\n",
       "      <td>0.064220</td>\n",
       "    </tr>\n",
       "    <tr>\n",
       "      <th>196</th>\n",
       "      <td>KRW-XRP</td>\n",
       "      <td>2021-12-20T00:00:00</td>\n",
       "      <td>2021-12-20T09:00:00</td>\n",
       "      <td>1040.0</td>\n",
       "      <td>1135.0</td>\n",
       "      <td>1030.0</td>\n",
       "      <td>1090.0</td>\n",
       "      <td>1640044799825</td>\n",
       "      <td>6.379693e+11</td>\n",
       "      <td>5.910902e+08</td>\n",
       "      <td>1040.0</td>\n",
       "      <td>50.0</td>\n",
       "      <td>0.048077</td>\n",
       "    </tr>\n",
       "    <tr>\n",
       "      <th>197</th>\n",
       "      <td>KRW-XRP</td>\n",
       "      <td>2021-12-19T00:00:00</td>\n",
       "      <td>2021-12-19T09:00:00</td>\n",
       "      <td>1025.0</td>\n",
       "      <td>1055.0</td>\n",
       "      <td>1025.0</td>\n",
       "      <td>1040.0</td>\n",
       "      <td>1639958399505</td>\n",
       "      <td>1.522162e+11</td>\n",
       "      <td>1.468964e+08</td>\n",
       "      <td>1025.0</td>\n",
       "      <td>15.0</td>\n",
       "      <td>0.014634</td>\n",
       "    </tr>\n",
       "    <tr>\n",
       "      <th>198</th>\n",
       "      <td>KRW-XRP</td>\n",
       "      <td>2021-12-18T00:00:00</td>\n",
       "      <td>2021-12-18T09:00:00</td>\n",
       "      <td>1000.0</td>\n",
       "      <td>1040.0</td>\n",
       "      <td>996.0</td>\n",
       "      <td>1025.0</td>\n",
       "      <td>1639871999805</td>\n",
       "      <td>1.392812e+11</td>\n",
       "      <td>1.368503e+08</td>\n",
       "      <td>1000.0</td>\n",
       "      <td>25.0</td>\n",
       "      <td>0.025000</td>\n",
       "    </tr>\n",
       "    <tr>\n",
       "      <th>199</th>\n",
       "      <td>KRW-XRP</td>\n",
       "      <td>2021-12-17T00:00:00</td>\n",
       "      <td>2021-12-17T09:00:00</td>\n",
       "      <td>1010.0</td>\n",
       "      <td>1035.0</td>\n",
       "      <td>981.0</td>\n",
       "      <td>1000.0</td>\n",
       "      <td>1639785599266</td>\n",
       "      <td>2.502061e+11</td>\n",
       "      <td>2.488166e+08</td>\n",
       "      <td>1005.0</td>\n",
       "      <td>-5.0</td>\n",
       "      <td>-0.004975</td>\n",
       "    </tr>\n",
       "  </tbody>\n",
       "</table>\n",
       "<p>600 rows × 13 columns</p>\n",
       "</div>"
      ],
      "text/plain": [
       "      market candle_date_time_utc candle_date_time_kst  opening_price  \\\n",
       "0    KRW-BTC  2022-07-04T00:00:00  2022-07-04T09:00:00     25454000.0   \n",
       "1    KRW-BTC  2022-07-03T00:00:00  2022-07-03T09:00:00     25465000.0   \n",
       "2    KRW-BTC  2022-07-02T00:00:00  2022-07-02T09:00:00     25576000.0   \n",
       "3    KRW-BTC  2022-07-01T00:00:00  2022-07-01T09:00:00     25999000.0   \n",
       "4    KRW-BTC  2022-06-30T00:00:00  2022-06-30T09:00:00     26572000.0   \n",
       "..       ...                  ...                  ...            ...   \n",
       "195  KRW-XRP  2021-12-21T00:00:00  2021-12-21T09:00:00         1090.0   \n",
       "196  KRW-XRP  2021-12-20T00:00:00  2021-12-20T09:00:00         1040.0   \n",
       "197  KRW-XRP  2021-12-19T00:00:00  2021-12-19T09:00:00         1025.0   \n",
       "198  KRW-XRP  2021-12-18T00:00:00  2021-12-18T09:00:00         1000.0   \n",
       "199  KRW-XRP  2021-12-17T00:00:00  2021-12-17T09:00:00         1010.0   \n",
       "\n",
       "     high_price   low_price  trade_price      timestamp  \\\n",
       "0    25467000.0  25150000.0   25212000.0  1656910020754   \n",
       "1    25870000.0  25000000.0   25422000.0  1656892799474   \n",
       "2    25700000.0  25180000.0   25463000.0  1656806399522   \n",
       "3    27110000.0  25100000.0   25556000.0  1656719999317   \n",
       "4    26609000.0  24776000.0   26003000.0  1656633599755   \n",
       "..          ...         ...          ...            ...   \n",
       "195      1180.0      1050.0       1160.0  1640131197810   \n",
       "196      1135.0      1030.0       1090.0  1640044799825   \n",
       "197      1055.0      1025.0       1040.0  1639958399505   \n",
       "198      1040.0       996.0       1025.0  1639871999805   \n",
       "199      1035.0       981.0       1000.0  1639785599266   \n",
       "\n",
       "     candle_acc_trade_price  candle_acc_trade_volume  prev_closing_price  \\\n",
       "0              3.226344e+10             1.275211e+03          25422000.0   \n",
       "1              1.016357e+11             4.004473e+03          25463000.0   \n",
       "2              9.122699e+10             3.585127e+03          25556000.0   \n",
       "3              2.763730e+11             1.066707e+04          26003000.0   \n",
       "4              2.925429e+11             1.147834e+04          26548000.0   \n",
       "..                      ...                      ...                 ...   \n",
       "195            4.132378e+11             3.743888e+08              1090.0   \n",
       "196            6.379693e+11             5.910902e+08              1040.0   \n",
       "197            1.522162e+11             1.468964e+08              1025.0   \n",
       "198            1.392812e+11             1.368503e+08              1000.0   \n",
       "199            2.502061e+11             2.488166e+08              1005.0   \n",
       "\n",
       "     change_price  change_rate  \n",
       "0       -210000.0    -0.008261  \n",
       "1        -41000.0    -0.001610  \n",
       "2        -93000.0    -0.003639  \n",
       "3       -447000.0    -0.017190  \n",
       "4       -545000.0    -0.020529  \n",
       "..            ...          ...  \n",
       "195          70.0     0.064220  \n",
       "196          50.0     0.048077  \n",
       "197          15.0     0.014634  \n",
       "198          25.0     0.025000  \n",
       "199          -5.0    -0.004975  \n",
       "\n",
       "[600 rows x 13 columns]"
      ]
     },
     "execution_count": 48,
     "metadata": {},
     "output_type": "execute_result"
    }
   ],
   "source": [
    "df"
   ]
  },
  {
   "cell_type": "code",
   "execution_count": 42,
   "id": "62f973b4",
   "metadata": {},
   "outputs": [
    {
     "data": {
      "text/html": [
       "        <script type=\"text/javascript\">\n",
       "        window.PlotlyConfig = {MathJaxConfig: 'local'};\n",
       "        if (window.MathJax && window.MathJax.Hub && window.MathJax.Hub.Config) {window.MathJax.Hub.Config({SVG: {font: \"STIX-Web\"}});}\n",
       "        if (typeof require !== 'undefined') {\n",
       "        require.undef(\"plotly\");\n",
       "        requirejs.config({\n",
       "            paths: {\n",
       "                'plotly': ['https://cdn.plot.ly/plotly-2.12.1.min']\n",
       "            }\n",
       "        });\n",
       "        require(['plotly'], function(Plotly) {\n",
       "            window._Plotly = Plotly;\n",
       "        });\n",
       "        }\n",
       "        </script>\n",
       "        "
      ]
     },
     "metadata": {},
     "output_type": "display_data"
    }
   ],
   "source": [
    "import plotly\n",
    "import plotly.graph_objs as go\n",
    "plotly.offline.init_notebook_mode(connected = True)"
   ]
  },
  {
   "cell_type": "code",
   "execution_count": 57,
   "id": "c88dea4d",
   "metadata": {},
   "outputs": [],
   "source": [
    "df['candle_date_time_utc'] = df['candle_date_time_utc'].str[:10]\n",
    "df['candle_date_time_kst'] = df['candle_date_time_kst'].str[:10]\n"
   ]
  },
  {
   "cell_type": "code",
   "execution_count": 58,
   "id": "59676645",
   "metadata": {},
   "outputs": [],
   "source": [
    "df['market'] = df['market'].str[4:]"
   ]
  },
  {
   "cell_type": "code",
   "execution_count": 59,
   "id": "46ab9172",
   "metadata": {
    "scrolled": true
   },
   "outputs": [
    {
     "data": {
      "text/html": [
       "<div>\n",
       "<style scoped>\n",
       "    .dataframe tbody tr th:only-of-type {\n",
       "        vertical-align: middle;\n",
       "    }\n",
       "\n",
       "    .dataframe tbody tr th {\n",
       "        vertical-align: top;\n",
       "    }\n",
       "\n",
       "    .dataframe thead th {\n",
       "        text-align: right;\n",
       "    }\n",
       "</style>\n",
       "<table border=\"1\" class=\"dataframe\">\n",
       "  <thead>\n",
       "    <tr style=\"text-align: right;\">\n",
       "      <th></th>\n",
       "      <th>market</th>\n",
       "      <th>candle_date_time_utc</th>\n",
       "      <th>candle_date_time_kst</th>\n",
       "      <th>opening_price</th>\n",
       "      <th>high_price</th>\n",
       "      <th>low_price</th>\n",
       "      <th>trade_price</th>\n",
       "      <th>timestamp</th>\n",
       "      <th>candle_acc_trade_price</th>\n",
       "      <th>candle_acc_trade_volume</th>\n",
       "      <th>prev_closing_price</th>\n",
       "      <th>change_price</th>\n",
       "      <th>change_rate</th>\n",
       "    </tr>\n",
       "  </thead>\n",
       "  <tbody>\n",
       "    <tr>\n",
       "      <th>0</th>\n",
       "      <td>BTC</td>\n",
       "      <td>2022-07-04</td>\n",
       "      <td>2022-07-04</td>\n",
       "      <td>25454000.0</td>\n",
       "      <td>25467000.0</td>\n",
       "      <td>25150000.0</td>\n",
       "      <td>25236000.0</td>\n",
       "      <td>1656910460125</td>\n",
       "      <td>3.256036e+10</td>\n",
       "      <td>1.286980e+03</td>\n",
       "      <td>25422000.0</td>\n",
       "      <td>-186000.0</td>\n",
       "      <td>-0.007316</td>\n",
       "    </tr>\n",
       "    <tr>\n",
       "      <th>1</th>\n",
       "      <td>BTC</td>\n",
       "      <td>2022-07-03</td>\n",
       "      <td>2022-07-03</td>\n",
       "      <td>25465000.0</td>\n",
       "      <td>25870000.0</td>\n",
       "      <td>25000000.0</td>\n",
       "      <td>25422000.0</td>\n",
       "      <td>1656892799474</td>\n",
       "      <td>1.016357e+11</td>\n",
       "      <td>4.004473e+03</td>\n",
       "      <td>25463000.0</td>\n",
       "      <td>-41000.0</td>\n",
       "      <td>-0.001610</td>\n",
       "    </tr>\n",
       "    <tr>\n",
       "      <th>2</th>\n",
       "      <td>BTC</td>\n",
       "      <td>2022-07-02</td>\n",
       "      <td>2022-07-02</td>\n",
       "      <td>25576000.0</td>\n",
       "      <td>25700000.0</td>\n",
       "      <td>25180000.0</td>\n",
       "      <td>25463000.0</td>\n",
       "      <td>1656806399522</td>\n",
       "      <td>9.122699e+10</td>\n",
       "      <td>3.585127e+03</td>\n",
       "      <td>25556000.0</td>\n",
       "      <td>-93000.0</td>\n",
       "      <td>-0.003639</td>\n",
       "    </tr>\n",
       "    <tr>\n",
       "      <th>3</th>\n",
       "      <td>BTC</td>\n",
       "      <td>2022-07-01</td>\n",
       "      <td>2022-07-01</td>\n",
       "      <td>25999000.0</td>\n",
       "      <td>27110000.0</td>\n",
       "      <td>25100000.0</td>\n",
       "      <td>25556000.0</td>\n",
       "      <td>1656719999317</td>\n",
       "      <td>2.763730e+11</td>\n",
       "      <td>1.066707e+04</td>\n",
       "      <td>26003000.0</td>\n",
       "      <td>-447000.0</td>\n",
       "      <td>-0.017190</td>\n",
       "    </tr>\n",
       "    <tr>\n",
       "      <th>4</th>\n",
       "      <td>BTC</td>\n",
       "      <td>2022-06-30</td>\n",
       "      <td>2022-06-30</td>\n",
       "      <td>26572000.0</td>\n",
       "      <td>26609000.0</td>\n",
       "      <td>24776000.0</td>\n",
       "      <td>26003000.0</td>\n",
       "      <td>1656633599755</td>\n",
       "      <td>2.925429e+11</td>\n",
       "      <td>1.147834e+04</td>\n",
       "      <td>26548000.0</td>\n",
       "      <td>-545000.0</td>\n",
       "      <td>-0.020529</td>\n",
       "    </tr>\n",
       "    <tr>\n",
       "      <th>...</th>\n",
       "      <td>...</td>\n",
       "      <td>...</td>\n",
       "      <td>...</td>\n",
       "      <td>...</td>\n",
       "      <td>...</td>\n",
       "      <td>...</td>\n",
       "      <td>...</td>\n",
       "      <td>...</td>\n",
       "      <td>...</td>\n",
       "      <td>...</td>\n",
       "      <td>...</td>\n",
       "      <td>...</td>\n",
       "      <td>...</td>\n",
       "    </tr>\n",
       "    <tr>\n",
       "      <th>195</th>\n",
       "      <td>XRP</td>\n",
       "      <td>2021-12-21</td>\n",
       "      <td>2021-12-21</td>\n",
       "      <td>1090.0</td>\n",
       "      <td>1180.0</td>\n",
       "      <td>1050.0</td>\n",
       "      <td>1160.0</td>\n",
       "      <td>1640131197810</td>\n",
       "      <td>4.132378e+11</td>\n",
       "      <td>3.743888e+08</td>\n",
       "      <td>1090.0</td>\n",
       "      <td>70.0</td>\n",
       "      <td>0.064220</td>\n",
       "    </tr>\n",
       "    <tr>\n",
       "      <th>196</th>\n",
       "      <td>XRP</td>\n",
       "      <td>2021-12-20</td>\n",
       "      <td>2021-12-20</td>\n",
       "      <td>1040.0</td>\n",
       "      <td>1135.0</td>\n",
       "      <td>1030.0</td>\n",
       "      <td>1090.0</td>\n",
       "      <td>1640044799825</td>\n",
       "      <td>6.379693e+11</td>\n",
       "      <td>5.910902e+08</td>\n",
       "      <td>1040.0</td>\n",
       "      <td>50.0</td>\n",
       "      <td>0.048077</td>\n",
       "    </tr>\n",
       "    <tr>\n",
       "      <th>197</th>\n",
       "      <td>XRP</td>\n",
       "      <td>2021-12-19</td>\n",
       "      <td>2021-12-19</td>\n",
       "      <td>1025.0</td>\n",
       "      <td>1055.0</td>\n",
       "      <td>1025.0</td>\n",
       "      <td>1040.0</td>\n",
       "      <td>1639958399505</td>\n",
       "      <td>1.522162e+11</td>\n",
       "      <td>1.468964e+08</td>\n",
       "      <td>1025.0</td>\n",
       "      <td>15.0</td>\n",
       "      <td>0.014634</td>\n",
       "    </tr>\n",
       "    <tr>\n",
       "      <th>198</th>\n",
       "      <td>XRP</td>\n",
       "      <td>2021-12-18</td>\n",
       "      <td>2021-12-18</td>\n",
       "      <td>1000.0</td>\n",
       "      <td>1040.0</td>\n",
       "      <td>996.0</td>\n",
       "      <td>1025.0</td>\n",
       "      <td>1639871999805</td>\n",
       "      <td>1.392812e+11</td>\n",
       "      <td>1.368503e+08</td>\n",
       "      <td>1000.0</td>\n",
       "      <td>25.0</td>\n",
       "      <td>0.025000</td>\n",
       "    </tr>\n",
       "    <tr>\n",
       "      <th>199</th>\n",
       "      <td>XRP</td>\n",
       "      <td>2021-12-17</td>\n",
       "      <td>2021-12-17</td>\n",
       "      <td>1010.0</td>\n",
       "      <td>1035.0</td>\n",
       "      <td>981.0</td>\n",
       "      <td>1000.0</td>\n",
       "      <td>1639785599266</td>\n",
       "      <td>2.502061e+11</td>\n",
       "      <td>2.488166e+08</td>\n",
       "      <td>1005.0</td>\n",
       "      <td>-5.0</td>\n",
       "      <td>-0.004975</td>\n",
       "    </tr>\n",
       "  </tbody>\n",
       "</table>\n",
       "<p>600 rows × 13 columns</p>\n",
       "</div>"
      ],
      "text/plain": [
       "    market candle_date_time_utc candle_date_time_kst  opening_price  \\\n",
       "0      BTC           2022-07-04           2022-07-04     25454000.0   \n",
       "1      BTC           2022-07-03           2022-07-03     25465000.0   \n",
       "2      BTC           2022-07-02           2022-07-02     25576000.0   \n",
       "3      BTC           2022-07-01           2022-07-01     25999000.0   \n",
       "4      BTC           2022-06-30           2022-06-30     26572000.0   \n",
       "..     ...                  ...                  ...            ...   \n",
       "195    XRP           2021-12-21           2021-12-21         1090.0   \n",
       "196    XRP           2021-12-20           2021-12-20         1040.0   \n",
       "197    XRP           2021-12-19           2021-12-19         1025.0   \n",
       "198    XRP           2021-12-18           2021-12-18         1000.0   \n",
       "199    XRP           2021-12-17           2021-12-17         1010.0   \n",
       "\n",
       "     high_price   low_price  trade_price      timestamp  \\\n",
       "0    25467000.0  25150000.0   25236000.0  1656910460125   \n",
       "1    25870000.0  25000000.0   25422000.0  1656892799474   \n",
       "2    25700000.0  25180000.0   25463000.0  1656806399522   \n",
       "3    27110000.0  25100000.0   25556000.0  1656719999317   \n",
       "4    26609000.0  24776000.0   26003000.0  1656633599755   \n",
       "..          ...         ...          ...            ...   \n",
       "195      1180.0      1050.0       1160.0  1640131197810   \n",
       "196      1135.0      1030.0       1090.0  1640044799825   \n",
       "197      1055.0      1025.0       1040.0  1639958399505   \n",
       "198      1040.0       996.0       1025.0  1639871999805   \n",
       "199      1035.0       981.0       1000.0  1639785599266   \n",
       "\n",
       "     candle_acc_trade_price  candle_acc_trade_volume  prev_closing_price  \\\n",
       "0              3.256036e+10             1.286980e+03          25422000.0   \n",
       "1              1.016357e+11             4.004473e+03          25463000.0   \n",
       "2              9.122699e+10             3.585127e+03          25556000.0   \n",
       "3              2.763730e+11             1.066707e+04          26003000.0   \n",
       "4              2.925429e+11             1.147834e+04          26548000.0   \n",
       "..                      ...                      ...                 ...   \n",
       "195            4.132378e+11             3.743888e+08              1090.0   \n",
       "196            6.379693e+11             5.910902e+08              1040.0   \n",
       "197            1.522162e+11             1.468964e+08              1025.0   \n",
       "198            1.392812e+11             1.368503e+08              1000.0   \n",
       "199            2.502061e+11             2.488166e+08              1005.0   \n",
       "\n",
       "     change_price  change_rate  \n",
       "0       -186000.0    -0.007316  \n",
       "1        -41000.0    -0.001610  \n",
       "2        -93000.0    -0.003639  \n",
       "3       -447000.0    -0.017190  \n",
       "4       -545000.0    -0.020529  \n",
       "..            ...          ...  \n",
       "195          70.0     0.064220  \n",
       "196          50.0     0.048077  \n",
       "197          15.0     0.014634  \n",
       "198          25.0     0.025000  \n",
       "199          -5.0    -0.004975  \n",
       "\n",
       "[600 rows x 13 columns]"
      ]
     },
     "execution_count": 59,
     "metadata": {},
     "output_type": "execute_result"
    }
   ],
   "source": [
    "df"
   ]
  },
  {
   "cell_type": "code",
   "execution_count": 90,
   "id": "0de4c968",
   "metadata": {},
   "outputs": [
    {
     "data": {
      "text/html": [
       "<div>\n",
       "<style scoped>\n",
       "    .dataframe tbody tr th:only-of-type {\n",
       "        vertical-align: middle;\n",
       "    }\n",
       "\n",
       "    .dataframe tbody tr th {\n",
       "        vertical-align: top;\n",
       "    }\n",
       "\n",
       "    .dataframe thead th {\n",
       "        text-align: right;\n",
       "    }\n",
       "</style>\n",
       "<table border=\"1\" class=\"dataframe\">\n",
       "  <thead>\n",
       "    <tr style=\"text-align: right;\">\n",
       "      <th></th>\n",
       "      <th>market</th>\n",
       "      <th>candle_date_time_utc</th>\n",
       "      <th>candle_date_time_kst</th>\n",
       "      <th>opening_price</th>\n",
       "      <th>high_price</th>\n",
       "      <th>low_price</th>\n",
       "      <th>trade_price</th>\n",
       "      <th>timestamp</th>\n",
       "      <th>candle_acc_trade_price</th>\n",
       "      <th>candle_acc_trade_volume</th>\n",
       "      <th>prev_closing_price</th>\n",
       "      <th>change_price</th>\n",
       "      <th>change_rate</th>\n",
       "    </tr>\n",
       "  </thead>\n",
       "  <tbody>\n",
       "    <tr>\n",
       "      <th>0</th>\n",
       "      <td>ETH</td>\n",
       "      <td>2022-07-04</td>\n",
       "      <td>2022-07-04</td>\n",
       "      <td>1416000.0</td>\n",
       "      <td>1418000.0</td>\n",
       "      <td>1383500.0</td>\n",
       "      <td>1389500.0</td>\n",
       "      <td>1656910460639</td>\n",
       "      <td>1.694926e+10</td>\n",
       "      <td>12112.681342</td>\n",
       "      <td>1416000.0</td>\n",
       "      <td>-26500.0</td>\n",
       "      <td>-0.018715</td>\n",
       "    </tr>\n",
       "    <tr>\n",
       "      <th>1</th>\n",
       "      <td>ETH</td>\n",
       "      <td>2022-07-03</td>\n",
       "      <td>2022-07-03</td>\n",
       "      <td>1409500.0</td>\n",
       "      <td>1433500.0</td>\n",
       "      <td>1381500.0</td>\n",
       "      <td>1416000.0</td>\n",
       "      <td>1656892795842</td>\n",
       "      <td>5.332819e+10</td>\n",
       "      <td>37904.049465</td>\n",
       "      <td>1409500.0</td>\n",
       "      <td>6500.0</td>\n",
       "      <td>0.004612</td>\n",
       "    </tr>\n",
       "    <tr>\n",
       "      <th>2</th>\n",
       "      <td>ETH</td>\n",
       "      <td>2022-07-02</td>\n",
       "      <td>2022-07-02</td>\n",
       "      <td>1405000.0</td>\n",
       "      <td>1424000.0</td>\n",
       "      <td>1364000.0</td>\n",
       "      <td>1409500.0</td>\n",
       "      <td>1656806399499</td>\n",
       "      <td>5.851793e+10</td>\n",
       "      <td>42066.223246</td>\n",
       "      <td>1403500.0</td>\n",
       "      <td>6000.0</td>\n",
       "      <td>0.004275</td>\n",
       "    </tr>\n",
       "    <tr>\n",
       "      <th>3</th>\n",
       "      <td>ETH</td>\n",
       "      <td>2022-07-01</td>\n",
       "      <td>2022-07-01</td>\n",
       "      <td>1398500.0</td>\n",
       "      <td>1450000.0</td>\n",
       "      <td>1365000.0</td>\n",
       "      <td>1403500.0</td>\n",
       "      <td>1656719999756</td>\n",
       "      <td>1.422083e+11</td>\n",
       "      <td>101323.792207</td>\n",
       "      <td>1400500.0</td>\n",
       "      <td>3000.0</td>\n",
       "      <td>0.002142</td>\n",
       "    </tr>\n",
       "    <tr>\n",
       "      <th>4</th>\n",
       "      <td>ETH</td>\n",
       "      <td>2022-06-30</td>\n",
       "      <td>2022-06-30</td>\n",
       "      <td>1453000.0</td>\n",
       "      <td>1462000.0</td>\n",
       "      <td>1331500.0</td>\n",
       "      <td>1400500.0</td>\n",
       "      <td>1656633596323</td>\n",
       "      <td>1.385134e+11</td>\n",
       "      <td>100591.494763</td>\n",
       "      <td>1453000.0</td>\n",
       "      <td>-52500.0</td>\n",
       "      <td>-0.036132</td>\n",
       "    </tr>\n",
       "    <tr>\n",
       "      <th>...</th>\n",
       "      <td>...</td>\n",
       "      <td>...</td>\n",
       "      <td>...</td>\n",
       "      <td>...</td>\n",
       "      <td>...</td>\n",
       "      <td>...</td>\n",
       "      <td>...</td>\n",
       "      <td>...</td>\n",
       "      <td>...</td>\n",
       "      <td>...</td>\n",
       "      <td>...</td>\n",
       "      <td>...</td>\n",
       "      <td>...</td>\n",
       "    </tr>\n",
       "    <tr>\n",
       "      <th>195</th>\n",
       "      <td>ETH</td>\n",
       "      <td>2021-12-21</td>\n",
       "      <td>2021-12-21</td>\n",
       "      <td>4866000.0</td>\n",
       "      <td>4996000.0</td>\n",
       "      <td>4818000.0</td>\n",
       "      <td>4936000.0</td>\n",
       "      <td>1640131199860</td>\n",
       "      <td>2.394508e+11</td>\n",
       "      <td>48674.267021</td>\n",
       "      <td>4866000.0</td>\n",
       "      <td>70000.0</td>\n",
       "      <td>0.014386</td>\n",
       "    </tr>\n",
       "    <tr>\n",
       "      <th>196</th>\n",
       "      <td>ETH</td>\n",
       "      <td>2021-12-20</td>\n",
       "      <td>2021-12-20</td>\n",
       "      <td>4899000.0</td>\n",
       "      <td>4947000.0</td>\n",
       "      <td>4700000.0</td>\n",
       "      <td>4866000.0</td>\n",
       "      <td>1640044799939</td>\n",
       "      <td>2.557547e+11</td>\n",
       "      <td>53342.442067</td>\n",
       "      <td>4899000.0</td>\n",
       "      <td>-33000.0</td>\n",
       "      <td>-0.006736</td>\n",
       "    </tr>\n",
       "    <tr>\n",
       "      <th>197</th>\n",
       "      <td>ETH</td>\n",
       "      <td>2021-12-19</td>\n",
       "      <td>2021-12-19</td>\n",
       "      <td>4932000.0</td>\n",
       "      <td>4999000.0</td>\n",
       "      <td>4865000.0</td>\n",
       "      <td>4899000.0</td>\n",
       "      <td>1639958399598</td>\n",
       "      <td>1.723996e+11</td>\n",
       "      <td>35030.382373</td>\n",
       "      <td>4933000.0</td>\n",
       "      <td>-34000.0</td>\n",
       "      <td>-0.006892</td>\n",
       "    </tr>\n",
       "    <tr>\n",
       "      <th>198</th>\n",
       "      <td>ETH</td>\n",
       "      <td>2021-12-18</td>\n",
       "      <td>2021-12-18</td>\n",
       "      <td>4869000.0</td>\n",
       "      <td>4964000.0</td>\n",
       "      <td>4734000.0</td>\n",
       "      <td>4933000.0</td>\n",
       "      <td>1639871999370</td>\n",
       "      <td>1.799115e+11</td>\n",
       "      <td>36916.428194</td>\n",
       "      <td>4872000.0</td>\n",
       "      <td>61000.0</td>\n",
       "      <td>0.012521</td>\n",
       "    </tr>\n",
       "    <tr>\n",
       "      <th>199</th>\n",
       "      <td>ETH</td>\n",
       "      <td>2021-12-17</td>\n",
       "      <td>2021-12-17</td>\n",
       "      <td>4965000.0</td>\n",
       "      <td>4999000.0</td>\n",
       "      <td>4676000.0</td>\n",
       "      <td>4872000.0</td>\n",
       "      <td>1639785599131</td>\n",
       "      <td>3.357918e+11</td>\n",
       "      <td>69380.853343</td>\n",
       "      <td>4965000.0</td>\n",
       "      <td>-93000.0</td>\n",
       "      <td>-0.018731</td>\n",
       "    </tr>\n",
       "  </tbody>\n",
       "</table>\n",
       "<p>200 rows × 13 columns</p>\n",
       "</div>"
      ],
      "text/plain": [
       "    market candle_date_time_utc candle_date_time_kst  opening_price  \\\n",
       "0      ETH           2022-07-04           2022-07-04      1416000.0   \n",
       "1      ETH           2022-07-03           2022-07-03      1409500.0   \n",
       "2      ETH           2022-07-02           2022-07-02      1405000.0   \n",
       "3      ETH           2022-07-01           2022-07-01      1398500.0   \n",
       "4      ETH           2022-06-30           2022-06-30      1453000.0   \n",
       "..     ...                  ...                  ...            ...   \n",
       "195    ETH           2021-12-21           2021-12-21      4866000.0   \n",
       "196    ETH           2021-12-20           2021-12-20      4899000.0   \n",
       "197    ETH           2021-12-19           2021-12-19      4932000.0   \n",
       "198    ETH           2021-12-18           2021-12-18      4869000.0   \n",
       "199    ETH           2021-12-17           2021-12-17      4965000.0   \n",
       "\n",
       "     high_price  low_price  trade_price      timestamp  \\\n",
       "0     1418000.0  1383500.0    1389500.0  1656910460639   \n",
       "1     1433500.0  1381500.0    1416000.0  1656892795842   \n",
       "2     1424000.0  1364000.0    1409500.0  1656806399499   \n",
       "3     1450000.0  1365000.0    1403500.0  1656719999756   \n",
       "4     1462000.0  1331500.0    1400500.0  1656633596323   \n",
       "..          ...        ...          ...            ...   \n",
       "195   4996000.0  4818000.0    4936000.0  1640131199860   \n",
       "196   4947000.0  4700000.0    4866000.0  1640044799939   \n",
       "197   4999000.0  4865000.0    4899000.0  1639958399598   \n",
       "198   4964000.0  4734000.0    4933000.0  1639871999370   \n",
       "199   4999000.0  4676000.0    4872000.0  1639785599131   \n",
       "\n",
       "     candle_acc_trade_price  candle_acc_trade_volume  prev_closing_price  \\\n",
       "0              1.694926e+10             12112.681342           1416000.0   \n",
       "1              5.332819e+10             37904.049465           1409500.0   \n",
       "2              5.851793e+10             42066.223246           1403500.0   \n",
       "3              1.422083e+11            101323.792207           1400500.0   \n",
       "4              1.385134e+11            100591.494763           1453000.0   \n",
       "..                      ...                      ...                 ...   \n",
       "195            2.394508e+11             48674.267021           4866000.0   \n",
       "196            2.557547e+11             53342.442067           4899000.0   \n",
       "197            1.723996e+11             35030.382373           4933000.0   \n",
       "198            1.799115e+11             36916.428194           4872000.0   \n",
       "199            3.357918e+11             69380.853343           4965000.0   \n",
       "\n",
       "     change_price  change_rate  \n",
       "0        -26500.0    -0.018715  \n",
       "1          6500.0     0.004612  \n",
       "2          6000.0     0.004275  \n",
       "3          3000.0     0.002142  \n",
       "4        -52500.0    -0.036132  \n",
       "..            ...          ...  \n",
       "195       70000.0     0.014386  \n",
       "196      -33000.0    -0.006736  \n",
       "197      -34000.0    -0.006892  \n",
       "198       61000.0     0.012521  \n",
       "199      -93000.0    -0.018731  \n",
       "\n",
       "[200 rows x 13 columns]"
      ]
     },
     "execution_count": 90,
     "metadata": {},
     "output_type": "execute_result"
    }
   ],
   "source": [
    "df[df.market == 'ETH']"
   ]
  },
  {
   "cell_type": "code",
   "execution_count": 74,
   "id": "89cb6f4a",
   "metadata": {},
   "outputs": [],
   "source": [
    "import plotly.express as px"
   ]
  },
  {
   "cell_type": "code",
   "execution_count": 77,
   "id": "77d44862",
   "metadata": {},
   "outputs": [
    {
     "data": {
      "application/vnd.plotly.v1+json": {
       "config": {
        "linkText": "Export to plot.ly",
        "plotlyServerURL": "https://plot.ly",
        "showLink": false
       },
       "data": [
        {
         "type": "scatter",
         "x": [
          1,
          2,
          3,
          4
         ],
         "y": [
          4,
          3,
          2,
          1
         ]
        }
       ],
       "layout": {
        "template": {
         "data": {
          "bar": [
           {
            "error_x": {
             "color": "#2a3f5f"
            },
            "error_y": {
             "color": "#2a3f5f"
            },
            "marker": {
             "line": {
              "color": "#E5ECF6",
              "width": 0.5
             },
             "pattern": {
              "fillmode": "overlay",
              "size": 10,
              "solidity": 0.2
             }
            },
            "type": "bar"
           }
          ],
          "barpolar": [
           {
            "marker": {
             "line": {
              "color": "#E5ECF6",
              "width": 0.5
             },
             "pattern": {
              "fillmode": "overlay",
              "size": 10,
              "solidity": 0.2
             }
            },
            "type": "barpolar"
           }
          ],
          "carpet": [
           {
            "aaxis": {
             "endlinecolor": "#2a3f5f",
             "gridcolor": "white",
             "linecolor": "white",
             "minorgridcolor": "white",
             "startlinecolor": "#2a3f5f"
            },
            "baxis": {
             "endlinecolor": "#2a3f5f",
             "gridcolor": "white",
             "linecolor": "white",
             "minorgridcolor": "white",
             "startlinecolor": "#2a3f5f"
            },
            "type": "carpet"
           }
          ],
          "choropleth": [
           {
            "colorbar": {
             "outlinewidth": 0,
             "ticks": ""
            },
            "type": "choropleth"
           }
          ],
          "contour": [
           {
            "colorbar": {
             "outlinewidth": 0,
             "ticks": ""
            },
            "colorscale": [
             [
              0,
              "#0d0887"
             ],
             [
              0.1111111111111111,
              "#46039f"
             ],
             [
              0.2222222222222222,
              "#7201a8"
             ],
             [
              0.3333333333333333,
              "#9c179e"
             ],
             [
              0.4444444444444444,
              "#bd3786"
             ],
             [
              0.5555555555555556,
              "#d8576b"
             ],
             [
              0.6666666666666666,
              "#ed7953"
             ],
             [
              0.7777777777777778,
              "#fb9f3a"
             ],
             [
              0.8888888888888888,
              "#fdca26"
             ],
             [
              1,
              "#f0f921"
             ]
            ],
            "type": "contour"
           }
          ],
          "contourcarpet": [
           {
            "colorbar": {
             "outlinewidth": 0,
             "ticks": ""
            },
            "type": "contourcarpet"
           }
          ],
          "heatmap": [
           {
            "colorbar": {
             "outlinewidth": 0,
             "ticks": ""
            },
            "colorscale": [
             [
              0,
              "#0d0887"
             ],
             [
              0.1111111111111111,
              "#46039f"
             ],
             [
              0.2222222222222222,
              "#7201a8"
             ],
             [
              0.3333333333333333,
              "#9c179e"
             ],
             [
              0.4444444444444444,
              "#bd3786"
             ],
             [
              0.5555555555555556,
              "#d8576b"
             ],
             [
              0.6666666666666666,
              "#ed7953"
             ],
             [
              0.7777777777777778,
              "#fb9f3a"
             ],
             [
              0.8888888888888888,
              "#fdca26"
             ],
             [
              1,
              "#f0f921"
             ]
            ],
            "type": "heatmap"
           }
          ],
          "heatmapgl": [
           {
            "colorbar": {
             "outlinewidth": 0,
             "ticks": ""
            },
            "colorscale": [
             [
              0,
              "#0d0887"
             ],
             [
              0.1111111111111111,
              "#46039f"
             ],
             [
              0.2222222222222222,
              "#7201a8"
             ],
             [
              0.3333333333333333,
              "#9c179e"
             ],
             [
              0.4444444444444444,
              "#bd3786"
             ],
             [
              0.5555555555555556,
              "#d8576b"
             ],
             [
              0.6666666666666666,
              "#ed7953"
             ],
             [
              0.7777777777777778,
              "#fb9f3a"
             ],
             [
              0.8888888888888888,
              "#fdca26"
             ],
             [
              1,
              "#f0f921"
             ]
            ],
            "type": "heatmapgl"
           }
          ],
          "histogram": [
           {
            "marker": {
             "pattern": {
              "fillmode": "overlay",
              "size": 10,
              "solidity": 0.2
             }
            },
            "type": "histogram"
           }
          ],
          "histogram2d": [
           {
            "colorbar": {
             "outlinewidth": 0,
             "ticks": ""
            },
            "colorscale": [
             [
              0,
              "#0d0887"
             ],
             [
              0.1111111111111111,
              "#46039f"
             ],
             [
              0.2222222222222222,
              "#7201a8"
             ],
             [
              0.3333333333333333,
              "#9c179e"
             ],
             [
              0.4444444444444444,
              "#bd3786"
             ],
             [
              0.5555555555555556,
              "#d8576b"
             ],
             [
              0.6666666666666666,
              "#ed7953"
             ],
             [
              0.7777777777777778,
              "#fb9f3a"
             ],
             [
              0.8888888888888888,
              "#fdca26"
             ],
             [
              1,
              "#f0f921"
             ]
            ],
            "type": "histogram2d"
           }
          ],
          "histogram2dcontour": [
           {
            "colorbar": {
             "outlinewidth": 0,
             "ticks": ""
            },
            "colorscale": [
             [
              0,
              "#0d0887"
             ],
             [
              0.1111111111111111,
              "#46039f"
             ],
             [
              0.2222222222222222,
              "#7201a8"
             ],
             [
              0.3333333333333333,
              "#9c179e"
             ],
             [
              0.4444444444444444,
              "#bd3786"
             ],
             [
              0.5555555555555556,
              "#d8576b"
             ],
             [
              0.6666666666666666,
              "#ed7953"
             ],
             [
              0.7777777777777778,
              "#fb9f3a"
             ],
             [
              0.8888888888888888,
              "#fdca26"
             ],
             [
              1,
              "#f0f921"
             ]
            ],
            "type": "histogram2dcontour"
           }
          ],
          "mesh3d": [
           {
            "colorbar": {
             "outlinewidth": 0,
             "ticks": ""
            },
            "type": "mesh3d"
           }
          ],
          "parcoords": [
           {
            "line": {
             "colorbar": {
              "outlinewidth": 0,
              "ticks": ""
             }
            },
            "type": "parcoords"
           }
          ],
          "pie": [
           {
            "automargin": true,
            "type": "pie"
           }
          ],
          "scatter": [
           {
            "fillpattern": {
             "fillmode": "overlay",
             "size": 10,
             "solidity": 0.2
            },
            "type": "scatter"
           }
          ],
          "scatter3d": [
           {
            "line": {
             "colorbar": {
              "outlinewidth": 0,
              "ticks": ""
             }
            },
            "marker": {
             "colorbar": {
              "outlinewidth": 0,
              "ticks": ""
             }
            },
            "type": "scatter3d"
           }
          ],
          "scattercarpet": [
           {
            "marker": {
             "colorbar": {
              "outlinewidth": 0,
              "ticks": ""
             }
            },
            "type": "scattercarpet"
           }
          ],
          "scattergeo": [
           {
            "marker": {
             "colorbar": {
              "outlinewidth": 0,
              "ticks": ""
             }
            },
            "type": "scattergeo"
           }
          ],
          "scattergl": [
           {
            "marker": {
             "colorbar": {
              "outlinewidth": 0,
              "ticks": ""
             }
            },
            "type": "scattergl"
           }
          ],
          "scattermapbox": [
           {
            "marker": {
             "colorbar": {
              "outlinewidth": 0,
              "ticks": ""
             }
            },
            "type": "scattermapbox"
           }
          ],
          "scatterpolar": [
           {
            "marker": {
             "colorbar": {
              "outlinewidth": 0,
              "ticks": ""
             }
            },
            "type": "scatterpolar"
           }
          ],
          "scatterpolargl": [
           {
            "marker": {
             "colorbar": {
              "outlinewidth": 0,
              "ticks": ""
             }
            },
            "type": "scatterpolargl"
           }
          ],
          "scatterternary": [
           {
            "marker": {
             "colorbar": {
              "outlinewidth": 0,
              "ticks": ""
             }
            },
            "type": "scatterternary"
           }
          ],
          "surface": [
           {
            "colorbar": {
             "outlinewidth": 0,
             "ticks": ""
            },
            "colorscale": [
             [
              0,
              "#0d0887"
             ],
             [
              0.1111111111111111,
              "#46039f"
             ],
             [
              0.2222222222222222,
              "#7201a8"
             ],
             [
              0.3333333333333333,
              "#9c179e"
             ],
             [
              0.4444444444444444,
              "#bd3786"
             ],
             [
              0.5555555555555556,
              "#d8576b"
             ],
             [
              0.6666666666666666,
              "#ed7953"
             ],
             [
              0.7777777777777778,
              "#fb9f3a"
             ],
             [
              0.8888888888888888,
              "#fdca26"
             ],
             [
              1,
              "#f0f921"
             ]
            ],
            "type": "surface"
           }
          ],
          "table": [
           {
            "cells": {
             "fill": {
              "color": "#EBF0F8"
             },
             "line": {
              "color": "white"
             }
            },
            "header": {
             "fill": {
              "color": "#C8D4E3"
             },
             "line": {
              "color": "white"
             }
            },
            "type": "table"
           }
          ]
         },
         "layout": {
          "annotationdefaults": {
           "arrowcolor": "#2a3f5f",
           "arrowhead": 0,
           "arrowwidth": 1
          },
          "autotypenumbers": "strict",
          "coloraxis": {
           "colorbar": {
            "outlinewidth": 0,
            "ticks": ""
           }
          },
          "colorscale": {
           "diverging": [
            [
             0,
             "#8e0152"
            ],
            [
             0.1,
             "#c51b7d"
            ],
            [
             0.2,
             "#de77ae"
            ],
            [
             0.3,
             "#f1b6da"
            ],
            [
             0.4,
             "#fde0ef"
            ],
            [
             0.5,
             "#f7f7f7"
            ],
            [
             0.6,
             "#e6f5d0"
            ],
            [
             0.7,
             "#b8e186"
            ],
            [
             0.8,
             "#7fbc41"
            ],
            [
             0.9,
             "#4d9221"
            ],
            [
             1,
             "#276419"
            ]
           ],
           "sequential": [
            [
             0,
             "#0d0887"
            ],
            [
             0.1111111111111111,
             "#46039f"
            ],
            [
             0.2222222222222222,
             "#7201a8"
            ],
            [
             0.3333333333333333,
             "#9c179e"
            ],
            [
             0.4444444444444444,
             "#bd3786"
            ],
            [
             0.5555555555555556,
             "#d8576b"
            ],
            [
             0.6666666666666666,
             "#ed7953"
            ],
            [
             0.7777777777777778,
             "#fb9f3a"
            ],
            [
             0.8888888888888888,
             "#fdca26"
            ],
            [
             1,
             "#f0f921"
            ]
           ],
           "sequentialminus": [
            [
             0,
             "#0d0887"
            ],
            [
             0.1111111111111111,
             "#46039f"
            ],
            [
             0.2222222222222222,
             "#7201a8"
            ],
            [
             0.3333333333333333,
             "#9c179e"
            ],
            [
             0.4444444444444444,
             "#bd3786"
            ],
            [
             0.5555555555555556,
             "#d8576b"
            ],
            [
             0.6666666666666666,
             "#ed7953"
            ],
            [
             0.7777777777777778,
             "#fb9f3a"
            ],
            [
             0.8888888888888888,
             "#fdca26"
            ],
            [
             1,
             "#f0f921"
            ]
           ]
          },
          "colorway": [
           "#636efa",
           "#EF553B",
           "#00cc96",
           "#ab63fa",
           "#FFA15A",
           "#19d3f3",
           "#FF6692",
           "#B6E880",
           "#FF97FF",
           "#FECB52"
          ],
          "font": {
           "color": "#2a3f5f"
          },
          "geo": {
           "bgcolor": "white",
           "lakecolor": "white",
           "landcolor": "#E5ECF6",
           "showlakes": true,
           "showland": true,
           "subunitcolor": "white"
          },
          "hoverlabel": {
           "align": "left"
          },
          "hovermode": "closest",
          "mapbox": {
           "style": "light"
          },
          "paper_bgcolor": "white",
          "plot_bgcolor": "#E5ECF6",
          "polar": {
           "angularaxis": {
            "gridcolor": "white",
            "linecolor": "white",
            "ticks": ""
           },
           "bgcolor": "#E5ECF6",
           "radialaxis": {
            "gridcolor": "white",
            "linecolor": "white",
            "ticks": ""
           }
          },
          "scene": {
           "xaxis": {
            "backgroundcolor": "#E5ECF6",
            "gridcolor": "white",
            "gridwidth": 2,
            "linecolor": "white",
            "showbackground": true,
            "ticks": "",
            "zerolinecolor": "white"
           },
           "yaxis": {
            "backgroundcolor": "#E5ECF6",
            "gridcolor": "white",
            "gridwidth": 2,
            "linecolor": "white",
            "showbackground": true,
            "ticks": "",
            "zerolinecolor": "white"
           },
           "zaxis": {
            "backgroundcolor": "#E5ECF6",
            "gridcolor": "white",
            "gridwidth": 2,
            "linecolor": "white",
            "showbackground": true,
            "ticks": "",
            "zerolinecolor": "white"
           }
          },
          "shapedefaults": {
           "line": {
            "color": "#2a3f5f"
           }
          },
          "ternary": {
           "aaxis": {
            "gridcolor": "white",
            "linecolor": "white",
            "ticks": ""
           },
           "baxis": {
            "gridcolor": "white",
            "linecolor": "white",
            "ticks": ""
           },
           "bgcolor": "#E5ECF6",
           "caxis": {
            "gridcolor": "white",
            "linecolor": "white",
            "ticks": ""
           }
          },
          "title": {
           "x": 0.05
          },
          "xaxis": {
           "automargin": true,
           "gridcolor": "white",
           "linecolor": "white",
           "ticks": "",
           "title": {
            "standoff": 15
           },
           "zerolinecolor": "white",
           "zerolinewidth": 2
          },
          "yaxis": {
           "automargin": true,
           "gridcolor": "white",
           "linecolor": "white",
           "ticks": "",
           "title": {
            "standoff": 15
           },
           "zerolinecolor": "white",
           "zerolinewidth": 2
          }
         }
        },
        "title": {
         "text": "hello world"
        }
       }
      },
      "text/html": [
       "<div>                            <div id=\"da874515-be30-41db-8e96-81ea69f14836\" class=\"plotly-graph-div\" style=\"height:525px; width:100%;\"></div>            <script type=\"text/javascript\">                require([\"plotly\"], function(Plotly) {                    window.PLOTLYENV=window.PLOTLYENV || {};                                    if (document.getElementById(\"da874515-be30-41db-8e96-81ea69f14836\")) {                    Plotly.newPlot(                        \"da874515-be30-41db-8e96-81ea69f14836\",                        [{\"x\":[1,2,3,4],\"y\":[4,3,2,1],\"type\":\"scatter\"}],                        {\"template\":{\"data\":{\"barpolar\":[{\"marker\":{\"line\":{\"color\":\"#E5ECF6\",\"width\":0.5},\"pattern\":{\"fillmode\":\"overlay\",\"size\":10,\"solidity\":0.2}},\"type\":\"barpolar\"}],\"bar\":[{\"error_x\":{\"color\":\"#2a3f5f\"},\"error_y\":{\"color\":\"#2a3f5f\"},\"marker\":{\"line\":{\"color\":\"#E5ECF6\",\"width\":0.5},\"pattern\":{\"fillmode\":\"overlay\",\"size\":10,\"solidity\":0.2}},\"type\":\"bar\"}],\"carpet\":[{\"aaxis\":{\"endlinecolor\":\"#2a3f5f\",\"gridcolor\":\"white\",\"linecolor\":\"white\",\"minorgridcolor\":\"white\",\"startlinecolor\":\"#2a3f5f\"},\"baxis\":{\"endlinecolor\":\"#2a3f5f\",\"gridcolor\":\"white\",\"linecolor\":\"white\",\"minorgridcolor\":\"white\",\"startlinecolor\":\"#2a3f5f\"},\"type\":\"carpet\"}],\"choropleth\":[{\"colorbar\":{\"outlinewidth\":0,\"ticks\":\"\"},\"type\":\"choropleth\"}],\"contourcarpet\":[{\"colorbar\":{\"outlinewidth\":0,\"ticks\":\"\"},\"type\":\"contourcarpet\"}],\"contour\":[{\"colorbar\":{\"outlinewidth\":0,\"ticks\":\"\"},\"colorscale\":[[0.0,\"#0d0887\"],[0.1111111111111111,\"#46039f\"],[0.2222222222222222,\"#7201a8\"],[0.3333333333333333,\"#9c179e\"],[0.4444444444444444,\"#bd3786\"],[0.5555555555555556,\"#d8576b\"],[0.6666666666666666,\"#ed7953\"],[0.7777777777777778,\"#fb9f3a\"],[0.8888888888888888,\"#fdca26\"],[1.0,\"#f0f921\"]],\"type\":\"contour\"}],\"heatmapgl\":[{\"colorbar\":{\"outlinewidth\":0,\"ticks\":\"\"},\"colorscale\":[[0.0,\"#0d0887\"],[0.1111111111111111,\"#46039f\"],[0.2222222222222222,\"#7201a8\"],[0.3333333333333333,\"#9c179e\"],[0.4444444444444444,\"#bd3786\"],[0.5555555555555556,\"#d8576b\"],[0.6666666666666666,\"#ed7953\"],[0.7777777777777778,\"#fb9f3a\"],[0.8888888888888888,\"#fdca26\"],[1.0,\"#f0f921\"]],\"type\":\"heatmapgl\"}],\"heatmap\":[{\"colorbar\":{\"outlinewidth\":0,\"ticks\":\"\"},\"colorscale\":[[0.0,\"#0d0887\"],[0.1111111111111111,\"#46039f\"],[0.2222222222222222,\"#7201a8\"],[0.3333333333333333,\"#9c179e\"],[0.4444444444444444,\"#bd3786\"],[0.5555555555555556,\"#d8576b\"],[0.6666666666666666,\"#ed7953\"],[0.7777777777777778,\"#fb9f3a\"],[0.8888888888888888,\"#fdca26\"],[1.0,\"#f0f921\"]],\"type\":\"heatmap\"}],\"histogram2dcontour\":[{\"colorbar\":{\"outlinewidth\":0,\"ticks\":\"\"},\"colorscale\":[[0.0,\"#0d0887\"],[0.1111111111111111,\"#46039f\"],[0.2222222222222222,\"#7201a8\"],[0.3333333333333333,\"#9c179e\"],[0.4444444444444444,\"#bd3786\"],[0.5555555555555556,\"#d8576b\"],[0.6666666666666666,\"#ed7953\"],[0.7777777777777778,\"#fb9f3a\"],[0.8888888888888888,\"#fdca26\"],[1.0,\"#f0f921\"]],\"type\":\"histogram2dcontour\"}],\"histogram2d\":[{\"colorbar\":{\"outlinewidth\":0,\"ticks\":\"\"},\"colorscale\":[[0.0,\"#0d0887\"],[0.1111111111111111,\"#46039f\"],[0.2222222222222222,\"#7201a8\"],[0.3333333333333333,\"#9c179e\"],[0.4444444444444444,\"#bd3786\"],[0.5555555555555556,\"#d8576b\"],[0.6666666666666666,\"#ed7953\"],[0.7777777777777778,\"#fb9f3a\"],[0.8888888888888888,\"#fdca26\"],[1.0,\"#f0f921\"]],\"type\":\"histogram2d\"}],\"histogram\":[{\"marker\":{\"pattern\":{\"fillmode\":\"overlay\",\"size\":10,\"solidity\":0.2}},\"type\":\"histogram\"}],\"mesh3d\":[{\"colorbar\":{\"outlinewidth\":0,\"ticks\":\"\"},\"type\":\"mesh3d\"}],\"parcoords\":[{\"line\":{\"colorbar\":{\"outlinewidth\":0,\"ticks\":\"\"}},\"type\":\"parcoords\"}],\"pie\":[{\"automargin\":true,\"type\":\"pie\"}],\"scatter3d\":[{\"line\":{\"colorbar\":{\"outlinewidth\":0,\"ticks\":\"\"}},\"marker\":{\"colorbar\":{\"outlinewidth\":0,\"ticks\":\"\"}},\"type\":\"scatter3d\"}],\"scattercarpet\":[{\"marker\":{\"colorbar\":{\"outlinewidth\":0,\"ticks\":\"\"}},\"type\":\"scattercarpet\"}],\"scattergeo\":[{\"marker\":{\"colorbar\":{\"outlinewidth\":0,\"ticks\":\"\"}},\"type\":\"scattergeo\"}],\"scattergl\":[{\"marker\":{\"colorbar\":{\"outlinewidth\":0,\"ticks\":\"\"}},\"type\":\"scattergl\"}],\"scattermapbox\":[{\"marker\":{\"colorbar\":{\"outlinewidth\":0,\"ticks\":\"\"}},\"type\":\"scattermapbox\"}],\"scatterpolargl\":[{\"marker\":{\"colorbar\":{\"outlinewidth\":0,\"ticks\":\"\"}},\"type\":\"scatterpolargl\"}],\"scatterpolar\":[{\"marker\":{\"colorbar\":{\"outlinewidth\":0,\"ticks\":\"\"}},\"type\":\"scatterpolar\"}],\"scatter\":[{\"fillpattern\":{\"fillmode\":\"overlay\",\"size\":10,\"solidity\":0.2},\"type\":\"scatter\"}],\"scatterternary\":[{\"marker\":{\"colorbar\":{\"outlinewidth\":0,\"ticks\":\"\"}},\"type\":\"scatterternary\"}],\"surface\":[{\"colorbar\":{\"outlinewidth\":0,\"ticks\":\"\"},\"colorscale\":[[0.0,\"#0d0887\"],[0.1111111111111111,\"#46039f\"],[0.2222222222222222,\"#7201a8\"],[0.3333333333333333,\"#9c179e\"],[0.4444444444444444,\"#bd3786\"],[0.5555555555555556,\"#d8576b\"],[0.6666666666666666,\"#ed7953\"],[0.7777777777777778,\"#fb9f3a\"],[0.8888888888888888,\"#fdca26\"],[1.0,\"#f0f921\"]],\"type\":\"surface\"}],\"table\":[{\"cells\":{\"fill\":{\"color\":\"#EBF0F8\"},\"line\":{\"color\":\"white\"}},\"header\":{\"fill\":{\"color\":\"#C8D4E3\"},\"line\":{\"color\":\"white\"}},\"type\":\"table\"}]},\"layout\":{\"annotationdefaults\":{\"arrowcolor\":\"#2a3f5f\",\"arrowhead\":0,\"arrowwidth\":1},\"autotypenumbers\":\"strict\",\"coloraxis\":{\"colorbar\":{\"outlinewidth\":0,\"ticks\":\"\"}},\"colorscale\":{\"diverging\":[[0,\"#8e0152\"],[0.1,\"#c51b7d\"],[0.2,\"#de77ae\"],[0.3,\"#f1b6da\"],[0.4,\"#fde0ef\"],[0.5,\"#f7f7f7\"],[0.6,\"#e6f5d0\"],[0.7,\"#b8e186\"],[0.8,\"#7fbc41\"],[0.9,\"#4d9221\"],[1,\"#276419\"]],\"sequential\":[[0.0,\"#0d0887\"],[0.1111111111111111,\"#46039f\"],[0.2222222222222222,\"#7201a8\"],[0.3333333333333333,\"#9c179e\"],[0.4444444444444444,\"#bd3786\"],[0.5555555555555556,\"#d8576b\"],[0.6666666666666666,\"#ed7953\"],[0.7777777777777778,\"#fb9f3a\"],[0.8888888888888888,\"#fdca26\"],[1.0,\"#f0f921\"]],\"sequentialminus\":[[0.0,\"#0d0887\"],[0.1111111111111111,\"#46039f\"],[0.2222222222222222,\"#7201a8\"],[0.3333333333333333,\"#9c179e\"],[0.4444444444444444,\"#bd3786\"],[0.5555555555555556,\"#d8576b\"],[0.6666666666666666,\"#ed7953\"],[0.7777777777777778,\"#fb9f3a\"],[0.8888888888888888,\"#fdca26\"],[1.0,\"#f0f921\"]]},\"colorway\":[\"#636efa\",\"#EF553B\",\"#00cc96\",\"#ab63fa\",\"#FFA15A\",\"#19d3f3\",\"#FF6692\",\"#B6E880\",\"#FF97FF\",\"#FECB52\"],\"font\":{\"color\":\"#2a3f5f\"},\"geo\":{\"bgcolor\":\"white\",\"lakecolor\":\"white\",\"landcolor\":\"#E5ECF6\",\"showlakes\":true,\"showland\":true,\"subunitcolor\":\"white\"},\"hoverlabel\":{\"align\":\"left\"},\"hovermode\":\"closest\",\"mapbox\":{\"style\":\"light\"},\"paper_bgcolor\":\"white\",\"plot_bgcolor\":\"#E5ECF6\",\"polar\":{\"angularaxis\":{\"gridcolor\":\"white\",\"linecolor\":\"white\",\"ticks\":\"\"},\"bgcolor\":\"#E5ECF6\",\"radialaxis\":{\"gridcolor\":\"white\",\"linecolor\":\"white\",\"ticks\":\"\"}},\"scene\":{\"xaxis\":{\"backgroundcolor\":\"#E5ECF6\",\"gridcolor\":\"white\",\"gridwidth\":2,\"linecolor\":\"white\",\"showbackground\":true,\"ticks\":\"\",\"zerolinecolor\":\"white\"},\"yaxis\":{\"backgroundcolor\":\"#E5ECF6\",\"gridcolor\":\"white\",\"gridwidth\":2,\"linecolor\":\"white\",\"showbackground\":true,\"ticks\":\"\",\"zerolinecolor\":\"white\"},\"zaxis\":{\"backgroundcolor\":\"#E5ECF6\",\"gridcolor\":\"white\",\"gridwidth\":2,\"linecolor\":\"white\",\"showbackground\":true,\"ticks\":\"\",\"zerolinecolor\":\"white\"}},\"shapedefaults\":{\"line\":{\"color\":\"#2a3f5f\"}},\"ternary\":{\"aaxis\":{\"gridcolor\":\"white\",\"linecolor\":\"white\",\"ticks\":\"\"},\"baxis\":{\"gridcolor\":\"white\",\"linecolor\":\"white\",\"ticks\":\"\"},\"bgcolor\":\"#E5ECF6\",\"caxis\":{\"gridcolor\":\"white\",\"linecolor\":\"white\",\"ticks\":\"\"}},\"title\":{\"x\":0.05},\"xaxis\":{\"automargin\":true,\"gridcolor\":\"white\",\"linecolor\":\"white\",\"ticks\":\"\",\"title\":{\"standoff\":15},\"zerolinecolor\":\"white\",\"zerolinewidth\":2},\"yaxis\":{\"automargin\":true,\"gridcolor\":\"white\",\"linecolor\":\"white\",\"ticks\":\"\",\"title\":{\"standoff\":15},\"zerolinecolor\":\"white\",\"zerolinewidth\":2}}},\"title\":{\"text\":\"hello world\"}},                        {\"responsive\": true}                    ).then(function(){\n",
       "                            \n",
       "var gd = document.getElementById('da874515-be30-41db-8e96-81ea69f14836');\n",
       "var x = new MutationObserver(function (mutations, observer) {{\n",
       "        var display = window.getComputedStyle(gd).display;\n",
       "        if (!display || display === 'none') {{\n",
       "            console.log([gd, 'removed!']);\n",
       "            Plotly.purge(gd);\n",
       "            observer.disconnect();\n",
       "        }}\n",
       "}});\n",
       "\n",
       "// Listen for the removal of the full notebook cells\n",
       "var notebookContainer = gd.closest('#notebook-container');\n",
       "if (notebookContainer) {{\n",
       "    x.observe(notebookContainer, {childList: true});\n",
       "}}\n",
       "\n",
       "// Listen for the clearing of the current output cell\n",
       "var outputEl = gd.closest('.output');\n",
       "if (outputEl) {{\n",
       "    x.observe(outputEl, {childList: true});\n",
       "}}\n",
       "\n",
       "                        })                };                });            </script>        </div>"
      ]
     },
     "metadata": {},
     "output_type": "display_data"
    }
   ],
   "source": [
    "plotly.offline.iplot({\n",
    "    \"data\":[go.Scatter(x=[1,2,3,4], y=[4,3,2,1])],\n",
    "    \"layout\":go.Layout(title=\"hello world\")\n",
    "})"
   ]
  },
  {
   "cell_type": "code",
   "execution_count": 87,
   "id": "0a48a679",
   "metadata": {},
   "outputs": [
    {
     "data": {
      "application/vnd.plotly.v1+json": {
       "config": {
        "linkText": "Export to plot.ly",
        "plotlyServerURL": "https://plot.ly",
        "showLink": false
       },
       "data": [
        {
         "hovertemplate": "candle_date_time_kst=%{x}<br>trade_price=%{y}<extra></extra>",
         "legendgroup": "",
         "marker": {
          "color": "#636efa",
          "symbol": "circle"
         },
         "mode": "markers",
         "name": "",
         "orientation": "v",
         "showlegend": false,
         "type": "scatter",
         "x": [
          "2022-07-04",
          "2022-07-03",
          "2022-07-02",
          "2022-07-01",
          "2022-06-30",
          "2022-06-29",
          "2022-06-28",
          "2022-06-27",
          "2022-06-26",
          "2022-06-25",
          "2022-06-24",
          "2022-06-23",
          "2022-06-22",
          "2022-06-21",
          "2022-06-20",
          "2022-06-19",
          "2022-06-18",
          "2022-06-17",
          "2022-06-16",
          "2022-06-15",
          "2022-06-14",
          "2022-06-13",
          "2022-06-12",
          "2022-06-11",
          "2022-06-10",
          "2022-06-09",
          "2022-06-08",
          "2022-06-07",
          "2022-06-06",
          "2022-06-05",
          "2022-06-04",
          "2022-06-03",
          "2022-06-02",
          "2022-06-01",
          "2022-05-31",
          "2022-05-30",
          "2022-05-29",
          "2022-05-28",
          "2022-05-27",
          "2022-05-26",
          "2022-05-25",
          "2022-05-24",
          "2022-05-23",
          "2022-05-22",
          "2022-05-21",
          "2022-05-20",
          "2022-05-19",
          "2022-05-18",
          "2022-05-17",
          "2022-05-16",
          "2022-05-15",
          "2022-05-14",
          "2022-05-13",
          "2022-05-12",
          "2022-05-11",
          "2022-05-10",
          "2022-05-09",
          "2022-05-08",
          "2022-05-07",
          "2022-05-06",
          "2022-05-05",
          "2022-05-04",
          "2022-05-03",
          "2022-05-02",
          "2022-05-01",
          "2022-04-30",
          "2022-04-29",
          "2022-04-28",
          "2022-04-27",
          "2022-04-26",
          "2022-04-25",
          "2022-04-24",
          "2022-04-23",
          "2022-04-22",
          "2022-04-21",
          "2022-04-20",
          "2022-04-19",
          "2022-04-18",
          "2022-04-17",
          "2022-04-16",
          "2022-04-15",
          "2022-04-14",
          "2022-04-13",
          "2022-04-12",
          "2022-04-11",
          "2022-04-10",
          "2022-04-09",
          "2022-04-08",
          "2022-04-07",
          "2022-04-06",
          "2022-04-05",
          "2022-04-04",
          "2022-04-03",
          "2022-04-02",
          "2022-04-01",
          "2022-03-31",
          "2022-03-30",
          "2022-03-29",
          "2022-03-28",
          "2022-03-27",
          "2022-03-26",
          "2022-03-25",
          "2022-03-24",
          "2022-03-23",
          "2022-03-22",
          "2022-03-21",
          "2022-03-20",
          "2022-03-19",
          "2022-03-18",
          "2022-03-17",
          "2022-03-16",
          "2022-03-15",
          "2022-03-14",
          "2022-03-13",
          "2022-03-12",
          "2022-03-11",
          "2022-03-10",
          "2022-03-09",
          "2022-03-08",
          "2022-03-07",
          "2022-03-06",
          "2022-03-05",
          "2022-03-04",
          "2022-03-03",
          "2022-03-02",
          "2022-03-01",
          "2022-02-28",
          "2022-02-27",
          "2022-02-26",
          "2022-02-25",
          "2022-02-24",
          "2022-02-23",
          "2022-02-22",
          "2022-02-21",
          "2022-02-20",
          "2022-02-19",
          "2022-02-18",
          "2022-02-17",
          "2022-02-16",
          "2022-02-15",
          "2022-02-14",
          "2022-02-13",
          "2022-02-12",
          "2022-02-11",
          "2022-02-10",
          "2022-02-09",
          "2022-02-08",
          "2022-02-07",
          "2022-02-06",
          "2022-02-05",
          "2022-02-04",
          "2022-02-03",
          "2022-02-02",
          "2022-02-01",
          "2022-01-31",
          "2022-01-30",
          "2022-01-29",
          "2022-01-28",
          "2022-01-27",
          "2022-01-26",
          "2022-01-25",
          "2022-01-24",
          "2022-01-23",
          "2022-01-22",
          "2022-01-21",
          "2022-01-20",
          "2022-01-19",
          "2022-01-18",
          "2022-01-17",
          "2022-01-16",
          "2022-01-15",
          "2022-01-14",
          "2022-01-13",
          "2022-01-12",
          "2022-01-11",
          "2022-01-10",
          "2022-01-09",
          "2022-01-08",
          "2022-01-07",
          "2022-01-06",
          "2022-01-05",
          "2022-01-04",
          "2022-01-03",
          "2022-01-02",
          "2022-01-01",
          "2021-12-31",
          "2021-12-30",
          "2021-12-29",
          "2021-12-28",
          "2021-12-27",
          "2021-12-26",
          "2021-12-25",
          "2021-12-24",
          "2021-12-23",
          "2021-12-22",
          "2021-12-21",
          "2021-12-20",
          "2021-12-19",
          "2021-12-18",
          "2021-12-17"
         ],
         "xaxis": "x",
         "y": [
          422,
          424,
          416,
          416,
          433,
          435,
          442,
          460,
          469,
          476,
          479,
          436,
          422,
          429,
          418,
          424,
          406,
          423,
          412,
          444,
          418,
          405,
          448,
          470,
          493,
          508,
          511,
          516,
          507,
          502,
          499,
          498,
          510,
          506,
          529,
          522,
          495,
          493,
          492,
          507,
          521,
          521,
          519,
          543,
          534,
          531,
          539,
          523,
          564,
          557,
          586,
          568,
          566,
          521,
          578,
          678,
          665,
          744,
          762,
          785,
          779,
          824,
          781,
          789,
          779,
          767,
          789,
          819,
          831,
          821,
          869,
          880,
          892,
          903,
          920,
          936,
          962,
          959,
          947,
          977,
          984,
          912,
          907,
          901,
          880,
          946,
          952,
          947,
          975,
          937,
          1010,
          1015,
          1030,
          1005,
          1015,
          1000,
          1040,
          1035,
          1040,
          1025,
          1010,
          1000,
          1015,
          1020,
          1025,
          1020,
          985,
          994,
          970,
          971,
          970,
          949,
          961,
          954,
          982,
          1005,
          913,
          941,
          898,
          899,
          903,
          931,
          883,
          920,
          936,
          949,
          947,
          887,
          920,
          939,
          852,
          853,
          877,
          863,
          954,
          1005,
          961,
          936,
          1015,
          1030,
          972,
          988,
          1000,
          929,
          1010,
          1055,
          1070,
          1020,
          833,
          817,
          799,
          749,
          741,
          776,
          760,
          751,
          765,
          757,
          750,
          758,
          750,
          748,
          769,
          738,
          791,
          878,
          892,
          909,
          928,
          941,
          948,
          938,
          934,
          969,
          942,
          908,
          929,
          932,
          944,
          962,
          955,
          1005,
          1020,
          1045,
          1035,
          1020,
          1020,
          1005,
          1040,
          1125,
          1120,
          1120,
          1115,
          1205,
          1170,
          1160,
          1090,
          1040,
          1025,
          1000
         ],
         "yaxis": "y"
        }
       ],
       "layout": {
        "legend": {
         "tracegroupgap": 0
        },
        "margin": {
         "t": 60
        },
        "template": {
         "data": {
          "bar": [
           {
            "error_x": {
             "color": "#2a3f5f"
            },
            "error_y": {
             "color": "#2a3f5f"
            },
            "marker": {
             "line": {
              "color": "#E5ECF6",
              "width": 0.5
             },
             "pattern": {
              "fillmode": "overlay",
              "size": 10,
              "solidity": 0.2
             }
            },
            "type": "bar"
           }
          ],
          "barpolar": [
           {
            "marker": {
             "line": {
              "color": "#E5ECF6",
              "width": 0.5
             },
             "pattern": {
              "fillmode": "overlay",
              "size": 10,
              "solidity": 0.2
             }
            },
            "type": "barpolar"
           }
          ],
          "carpet": [
           {
            "aaxis": {
             "endlinecolor": "#2a3f5f",
             "gridcolor": "white",
             "linecolor": "white",
             "minorgridcolor": "white",
             "startlinecolor": "#2a3f5f"
            },
            "baxis": {
             "endlinecolor": "#2a3f5f",
             "gridcolor": "white",
             "linecolor": "white",
             "minorgridcolor": "white",
             "startlinecolor": "#2a3f5f"
            },
            "type": "carpet"
           }
          ],
          "choropleth": [
           {
            "colorbar": {
             "outlinewidth": 0,
             "ticks": ""
            },
            "type": "choropleth"
           }
          ],
          "contour": [
           {
            "colorbar": {
             "outlinewidth": 0,
             "ticks": ""
            },
            "colorscale": [
             [
              0,
              "#0d0887"
             ],
             [
              0.1111111111111111,
              "#46039f"
             ],
             [
              0.2222222222222222,
              "#7201a8"
             ],
             [
              0.3333333333333333,
              "#9c179e"
             ],
             [
              0.4444444444444444,
              "#bd3786"
             ],
             [
              0.5555555555555556,
              "#d8576b"
             ],
             [
              0.6666666666666666,
              "#ed7953"
             ],
             [
              0.7777777777777778,
              "#fb9f3a"
             ],
             [
              0.8888888888888888,
              "#fdca26"
             ],
             [
              1,
              "#f0f921"
             ]
            ],
            "type": "contour"
           }
          ],
          "contourcarpet": [
           {
            "colorbar": {
             "outlinewidth": 0,
             "ticks": ""
            },
            "type": "contourcarpet"
           }
          ],
          "heatmap": [
           {
            "colorbar": {
             "outlinewidth": 0,
             "ticks": ""
            },
            "colorscale": [
             [
              0,
              "#0d0887"
             ],
             [
              0.1111111111111111,
              "#46039f"
             ],
             [
              0.2222222222222222,
              "#7201a8"
             ],
             [
              0.3333333333333333,
              "#9c179e"
             ],
             [
              0.4444444444444444,
              "#bd3786"
             ],
             [
              0.5555555555555556,
              "#d8576b"
             ],
             [
              0.6666666666666666,
              "#ed7953"
             ],
             [
              0.7777777777777778,
              "#fb9f3a"
             ],
             [
              0.8888888888888888,
              "#fdca26"
             ],
             [
              1,
              "#f0f921"
             ]
            ],
            "type": "heatmap"
           }
          ],
          "heatmapgl": [
           {
            "colorbar": {
             "outlinewidth": 0,
             "ticks": ""
            },
            "colorscale": [
             [
              0,
              "#0d0887"
             ],
             [
              0.1111111111111111,
              "#46039f"
             ],
             [
              0.2222222222222222,
              "#7201a8"
             ],
             [
              0.3333333333333333,
              "#9c179e"
             ],
             [
              0.4444444444444444,
              "#bd3786"
             ],
             [
              0.5555555555555556,
              "#d8576b"
             ],
             [
              0.6666666666666666,
              "#ed7953"
             ],
             [
              0.7777777777777778,
              "#fb9f3a"
             ],
             [
              0.8888888888888888,
              "#fdca26"
             ],
             [
              1,
              "#f0f921"
             ]
            ],
            "type": "heatmapgl"
           }
          ],
          "histogram": [
           {
            "marker": {
             "pattern": {
              "fillmode": "overlay",
              "size": 10,
              "solidity": 0.2
             }
            },
            "type": "histogram"
           }
          ],
          "histogram2d": [
           {
            "colorbar": {
             "outlinewidth": 0,
             "ticks": ""
            },
            "colorscale": [
             [
              0,
              "#0d0887"
             ],
             [
              0.1111111111111111,
              "#46039f"
             ],
             [
              0.2222222222222222,
              "#7201a8"
             ],
             [
              0.3333333333333333,
              "#9c179e"
             ],
             [
              0.4444444444444444,
              "#bd3786"
             ],
             [
              0.5555555555555556,
              "#d8576b"
             ],
             [
              0.6666666666666666,
              "#ed7953"
             ],
             [
              0.7777777777777778,
              "#fb9f3a"
             ],
             [
              0.8888888888888888,
              "#fdca26"
             ],
             [
              1,
              "#f0f921"
             ]
            ],
            "type": "histogram2d"
           }
          ],
          "histogram2dcontour": [
           {
            "colorbar": {
             "outlinewidth": 0,
             "ticks": ""
            },
            "colorscale": [
             [
              0,
              "#0d0887"
             ],
             [
              0.1111111111111111,
              "#46039f"
             ],
             [
              0.2222222222222222,
              "#7201a8"
             ],
             [
              0.3333333333333333,
              "#9c179e"
             ],
             [
              0.4444444444444444,
              "#bd3786"
             ],
             [
              0.5555555555555556,
              "#d8576b"
             ],
             [
              0.6666666666666666,
              "#ed7953"
             ],
             [
              0.7777777777777778,
              "#fb9f3a"
             ],
             [
              0.8888888888888888,
              "#fdca26"
             ],
             [
              1,
              "#f0f921"
             ]
            ],
            "type": "histogram2dcontour"
           }
          ],
          "mesh3d": [
           {
            "colorbar": {
             "outlinewidth": 0,
             "ticks": ""
            },
            "type": "mesh3d"
           }
          ],
          "parcoords": [
           {
            "line": {
             "colorbar": {
              "outlinewidth": 0,
              "ticks": ""
             }
            },
            "type": "parcoords"
           }
          ],
          "pie": [
           {
            "automargin": true,
            "type": "pie"
           }
          ],
          "scatter": [
           {
            "fillpattern": {
             "fillmode": "overlay",
             "size": 10,
             "solidity": 0.2
            },
            "type": "scatter"
           }
          ],
          "scatter3d": [
           {
            "line": {
             "colorbar": {
              "outlinewidth": 0,
              "ticks": ""
             }
            },
            "marker": {
             "colorbar": {
              "outlinewidth": 0,
              "ticks": ""
             }
            },
            "type": "scatter3d"
           }
          ],
          "scattercarpet": [
           {
            "marker": {
             "colorbar": {
              "outlinewidth": 0,
              "ticks": ""
             }
            },
            "type": "scattercarpet"
           }
          ],
          "scattergeo": [
           {
            "marker": {
             "colorbar": {
              "outlinewidth": 0,
              "ticks": ""
             }
            },
            "type": "scattergeo"
           }
          ],
          "scattergl": [
           {
            "marker": {
             "colorbar": {
              "outlinewidth": 0,
              "ticks": ""
             }
            },
            "type": "scattergl"
           }
          ],
          "scattermapbox": [
           {
            "marker": {
             "colorbar": {
              "outlinewidth": 0,
              "ticks": ""
             }
            },
            "type": "scattermapbox"
           }
          ],
          "scatterpolar": [
           {
            "marker": {
             "colorbar": {
              "outlinewidth": 0,
              "ticks": ""
             }
            },
            "type": "scatterpolar"
           }
          ],
          "scatterpolargl": [
           {
            "marker": {
             "colorbar": {
              "outlinewidth": 0,
              "ticks": ""
             }
            },
            "type": "scatterpolargl"
           }
          ],
          "scatterternary": [
           {
            "marker": {
             "colorbar": {
              "outlinewidth": 0,
              "ticks": ""
             }
            },
            "type": "scatterternary"
           }
          ],
          "surface": [
           {
            "colorbar": {
             "outlinewidth": 0,
             "ticks": ""
            },
            "colorscale": [
             [
              0,
              "#0d0887"
             ],
             [
              0.1111111111111111,
              "#46039f"
             ],
             [
              0.2222222222222222,
              "#7201a8"
             ],
             [
              0.3333333333333333,
              "#9c179e"
             ],
             [
              0.4444444444444444,
              "#bd3786"
             ],
             [
              0.5555555555555556,
              "#d8576b"
             ],
             [
              0.6666666666666666,
              "#ed7953"
             ],
             [
              0.7777777777777778,
              "#fb9f3a"
             ],
             [
              0.8888888888888888,
              "#fdca26"
             ],
             [
              1,
              "#f0f921"
             ]
            ],
            "type": "surface"
           }
          ],
          "table": [
           {
            "cells": {
             "fill": {
              "color": "#EBF0F8"
             },
             "line": {
              "color": "white"
             }
            },
            "header": {
             "fill": {
              "color": "#C8D4E3"
             },
             "line": {
              "color": "white"
             }
            },
            "type": "table"
           }
          ]
         },
         "layout": {
          "annotationdefaults": {
           "arrowcolor": "#2a3f5f",
           "arrowhead": 0,
           "arrowwidth": 1
          },
          "autotypenumbers": "strict",
          "coloraxis": {
           "colorbar": {
            "outlinewidth": 0,
            "ticks": ""
           }
          },
          "colorscale": {
           "diverging": [
            [
             0,
             "#8e0152"
            ],
            [
             0.1,
             "#c51b7d"
            ],
            [
             0.2,
             "#de77ae"
            ],
            [
             0.3,
             "#f1b6da"
            ],
            [
             0.4,
             "#fde0ef"
            ],
            [
             0.5,
             "#f7f7f7"
            ],
            [
             0.6,
             "#e6f5d0"
            ],
            [
             0.7,
             "#b8e186"
            ],
            [
             0.8,
             "#7fbc41"
            ],
            [
             0.9,
             "#4d9221"
            ],
            [
             1,
             "#276419"
            ]
           ],
           "sequential": [
            [
             0,
             "#0d0887"
            ],
            [
             0.1111111111111111,
             "#46039f"
            ],
            [
             0.2222222222222222,
             "#7201a8"
            ],
            [
             0.3333333333333333,
             "#9c179e"
            ],
            [
             0.4444444444444444,
             "#bd3786"
            ],
            [
             0.5555555555555556,
             "#d8576b"
            ],
            [
             0.6666666666666666,
             "#ed7953"
            ],
            [
             0.7777777777777778,
             "#fb9f3a"
            ],
            [
             0.8888888888888888,
             "#fdca26"
            ],
            [
             1,
             "#f0f921"
            ]
           ],
           "sequentialminus": [
            [
             0,
             "#0d0887"
            ],
            [
             0.1111111111111111,
             "#46039f"
            ],
            [
             0.2222222222222222,
             "#7201a8"
            ],
            [
             0.3333333333333333,
             "#9c179e"
            ],
            [
             0.4444444444444444,
             "#bd3786"
            ],
            [
             0.5555555555555556,
             "#d8576b"
            ],
            [
             0.6666666666666666,
             "#ed7953"
            ],
            [
             0.7777777777777778,
             "#fb9f3a"
            ],
            [
             0.8888888888888888,
             "#fdca26"
            ],
            [
             1,
             "#f0f921"
            ]
           ]
          },
          "colorway": [
           "#636efa",
           "#EF553B",
           "#00cc96",
           "#ab63fa",
           "#FFA15A",
           "#19d3f3",
           "#FF6692",
           "#B6E880",
           "#FF97FF",
           "#FECB52"
          ],
          "font": {
           "color": "#2a3f5f"
          },
          "geo": {
           "bgcolor": "white",
           "lakecolor": "white",
           "landcolor": "#E5ECF6",
           "showlakes": true,
           "showland": true,
           "subunitcolor": "white"
          },
          "hoverlabel": {
           "align": "left"
          },
          "hovermode": "closest",
          "mapbox": {
           "style": "light"
          },
          "paper_bgcolor": "white",
          "plot_bgcolor": "#E5ECF6",
          "polar": {
           "angularaxis": {
            "gridcolor": "white",
            "linecolor": "white",
            "ticks": ""
           },
           "bgcolor": "#E5ECF6",
           "radialaxis": {
            "gridcolor": "white",
            "linecolor": "white",
            "ticks": ""
           }
          },
          "scene": {
           "xaxis": {
            "backgroundcolor": "#E5ECF6",
            "gridcolor": "white",
            "gridwidth": 2,
            "linecolor": "white",
            "showbackground": true,
            "ticks": "",
            "zerolinecolor": "white"
           },
           "yaxis": {
            "backgroundcolor": "#E5ECF6",
            "gridcolor": "white",
            "gridwidth": 2,
            "linecolor": "white",
            "showbackground": true,
            "ticks": "",
            "zerolinecolor": "white"
           },
           "zaxis": {
            "backgroundcolor": "#E5ECF6",
            "gridcolor": "white",
            "gridwidth": 2,
            "linecolor": "white",
            "showbackground": true,
            "ticks": "",
            "zerolinecolor": "white"
           }
          },
          "shapedefaults": {
           "line": {
            "color": "#2a3f5f"
           }
          },
          "ternary": {
           "aaxis": {
            "gridcolor": "white",
            "linecolor": "white",
            "ticks": ""
           },
           "baxis": {
            "gridcolor": "white",
            "linecolor": "white",
            "ticks": ""
           },
           "bgcolor": "#E5ECF6",
           "caxis": {
            "gridcolor": "white",
            "linecolor": "white",
            "ticks": ""
           }
          },
          "title": {
           "x": 0.05
          },
          "xaxis": {
           "automargin": true,
           "gridcolor": "white",
           "linecolor": "white",
           "ticks": "",
           "title": {
            "standoff": 15
           },
           "zerolinecolor": "white",
           "zerolinewidth": 2
          },
          "yaxis": {
           "automargin": true,
           "gridcolor": "white",
           "linecolor": "white",
           "ticks": "",
           "title": {
            "standoff": 15
           },
           "zerolinecolor": "white",
           "zerolinewidth": 2
          }
         }
        },
        "xaxis": {
         "anchor": "y",
         "domain": [
          0,
          1
         ],
         "title": {
          "text": "candle_date_time_kst"
         }
        },
        "yaxis": {
         "anchor": "x",
         "domain": [
          0,
          1
         ],
         "title": {
          "text": "trade_price"
         }
        }
       }
      },
      "text/html": [
       "<div>                            <div id=\"34cdb2dd-2635-4e82-ab57-f3ba6d653a9c\" class=\"plotly-graph-div\" style=\"height:525px; width:100%;\"></div>            <script type=\"text/javascript\">                require([\"plotly\"], function(Plotly) {                    window.PLOTLYENV=window.PLOTLYENV || {};                                    if (document.getElementById(\"34cdb2dd-2635-4e82-ab57-f3ba6d653a9c\")) {                    Plotly.newPlot(                        \"34cdb2dd-2635-4e82-ab57-f3ba6d653a9c\",                        [{\"hovertemplate\":\"candle_date_time_kst=%{x}<br>trade_price=%{y}<extra></extra>\",\"legendgroup\":\"\",\"marker\":{\"color\":\"#636efa\",\"symbol\":\"circle\"},\"mode\":\"markers\",\"name\":\"\",\"orientation\":\"v\",\"showlegend\":false,\"x\":[\"2022-07-04\",\"2022-07-03\",\"2022-07-02\",\"2022-07-01\",\"2022-06-30\",\"2022-06-29\",\"2022-06-28\",\"2022-06-27\",\"2022-06-26\",\"2022-06-25\",\"2022-06-24\",\"2022-06-23\",\"2022-06-22\",\"2022-06-21\",\"2022-06-20\",\"2022-06-19\",\"2022-06-18\",\"2022-06-17\",\"2022-06-16\",\"2022-06-15\",\"2022-06-14\",\"2022-06-13\",\"2022-06-12\",\"2022-06-11\",\"2022-06-10\",\"2022-06-09\",\"2022-06-08\",\"2022-06-07\",\"2022-06-06\",\"2022-06-05\",\"2022-06-04\",\"2022-06-03\",\"2022-06-02\",\"2022-06-01\",\"2022-05-31\",\"2022-05-30\",\"2022-05-29\",\"2022-05-28\",\"2022-05-27\",\"2022-05-26\",\"2022-05-25\",\"2022-05-24\",\"2022-05-23\",\"2022-05-22\",\"2022-05-21\",\"2022-05-20\",\"2022-05-19\",\"2022-05-18\",\"2022-05-17\",\"2022-05-16\",\"2022-05-15\",\"2022-05-14\",\"2022-05-13\",\"2022-05-12\",\"2022-05-11\",\"2022-05-10\",\"2022-05-09\",\"2022-05-08\",\"2022-05-07\",\"2022-05-06\",\"2022-05-05\",\"2022-05-04\",\"2022-05-03\",\"2022-05-02\",\"2022-05-01\",\"2022-04-30\",\"2022-04-29\",\"2022-04-28\",\"2022-04-27\",\"2022-04-26\",\"2022-04-25\",\"2022-04-24\",\"2022-04-23\",\"2022-04-22\",\"2022-04-21\",\"2022-04-20\",\"2022-04-19\",\"2022-04-18\",\"2022-04-17\",\"2022-04-16\",\"2022-04-15\",\"2022-04-14\",\"2022-04-13\",\"2022-04-12\",\"2022-04-11\",\"2022-04-10\",\"2022-04-09\",\"2022-04-08\",\"2022-04-07\",\"2022-04-06\",\"2022-04-05\",\"2022-04-04\",\"2022-04-03\",\"2022-04-02\",\"2022-04-01\",\"2022-03-31\",\"2022-03-30\",\"2022-03-29\",\"2022-03-28\",\"2022-03-27\",\"2022-03-26\",\"2022-03-25\",\"2022-03-24\",\"2022-03-23\",\"2022-03-22\",\"2022-03-21\",\"2022-03-20\",\"2022-03-19\",\"2022-03-18\",\"2022-03-17\",\"2022-03-16\",\"2022-03-15\",\"2022-03-14\",\"2022-03-13\",\"2022-03-12\",\"2022-03-11\",\"2022-03-10\",\"2022-03-09\",\"2022-03-08\",\"2022-03-07\",\"2022-03-06\",\"2022-03-05\",\"2022-03-04\",\"2022-03-03\",\"2022-03-02\",\"2022-03-01\",\"2022-02-28\",\"2022-02-27\",\"2022-02-26\",\"2022-02-25\",\"2022-02-24\",\"2022-02-23\",\"2022-02-22\",\"2022-02-21\",\"2022-02-20\",\"2022-02-19\",\"2022-02-18\",\"2022-02-17\",\"2022-02-16\",\"2022-02-15\",\"2022-02-14\",\"2022-02-13\",\"2022-02-12\",\"2022-02-11\",\"2022-02-10\",\"2022-02-09\",\"2022-02-08\",\"2022-02-07\",\"2022-02-06\",\"2022-02-05\",\"2022-02-04\",\"2022-02-03\",\"2022-02-02\",\"2022-02-01\",\"2022-01-31\",\"2022-01-30\",\"2022-01-29\",\"2022-01-28\",\"2022-01-27\",\"2022-01-26\",\"2022-01-25\",\"2022-01-24\",\"2022-01-23\",\"2022-01-22\",\"2022-01-21\",\"2022-01-20\",\"2022-01-19\",\"2022-01-18\",\"2022-01-17\",\"2022-01-16\",\"2022-01-15\",\"2022-01-14\",\"2022-01-13\",\"2022-01-12\",\"2022-01-11\",\"2022-01-10\",\"2022-01-09\",\"2022-01-08\",\"2022-01-07\",\"2022-01-06\",\"2022-01-05\",\"2022-01-04\",\"2022-01-03\",\"2022-01-02\",\"2022-01-01\",\"2021-12-31\",\"2021-12-30\",\"2021-12-29\",\"2021-12-28\",\"2021-12-27\",\"2021-12-26\",\"2021-12-25\",\"2021-12-24\",\"2021-12-23\",\"2021-12-22\",\"2021-12-21\",\"2021-12-20\",\"2021-12-19\",\"2021-12-18\",\"2021-12-17\"],\"xaxis\":\"x\",\"y\":[422.0,424.0,416.0,416.0,433.0,435.0,442.0,460.0,469.0,476.0,479.0,436.0,422.0,429.0,418.0,424.0,406.0,423.0,412.0,444.0,418.0,405.0,448.0,470.0,493.0,508.0,511.0,516.0,507.0,502.0,499.0,498.0,510.0,506.0,529.0,522.0,495.0,493.0,492.0,507.0,521.0,521.0,519.0,543.0,534.0,531.0,539.0,523.0,564.0,557.0,586.0,568.0,566.0,521.0,578.0,678.0,665.0,744.0,762.0,785.0,779.0,824.0,781.0,789.0,779.0,767.0,789.0,819.0,831.0,821.0,869.0,880.0,892.0,903.0,920.0,936.0,962.0,959.0,947.0,977.0,984.0,912.0,907.0,901.0,880.0,946.0,952.0,947.0,975.0,937.0,1010.0,1015.0,1030.0,1005.0,1015.0,1000.0,1040.0,1035.0,1040.0,1025.0,1010.0,1000.0,1015.0,1020.0,1025.0,1020.0,985.0,994.0,970.0,971.0,970.0,949.0,961.0,954.0,982.0,1005.0,913.0,941.0,898.0,899.0,903.0,931.0,883.0,920.0,936.0,949.0,947.0,887.0,920.0,939.0,852.0,853.0,877.0,863.0,954.0,1005.0,961.0,936.0,1015.0,1030.0,972.0,988.0,1000.0,929.0,1010.0,1055.0,1070.0,1020.0,833.0,817.0,799.0,749.0,741.0,776.0,760.0,751.0,765.0,757.0,750.0,758.0,750.0,748.0,769.0,738.0,791.0,878.0,892.0,909.0,928.0,941.0,948.0,938.0,934.0,969.0,942.0,908.0,929.0,932.0,944.0,962.0,955.0,1005.0,1020.0,1045.0,1035.0,1020.0,1020.0,1005.0,1040.0,1125.0,1120.0,1120.0,1115.0,1205.0,1170.0,1160.0,1090.0,1040.0,1025.0,1000.0],\"yaxis\":\"y\",\"type\":\"scatter\"}],                        {\"legend\":{\"tracegroupgap\":0},\"margin\":{\"t\":60},\"template\":{\"data\":{\"barpolar\":[{\"marker\":{\"line\":{\"color\":\"#E5ECF6\",\"width\":0.5},\"pattern\":{\"fillmode\":\"overlay\",\"size\":10,\"solidity\":0.2}},\"type\":\"barpolar\"}],\"bar\":[{\"error_x\":{\"color\":\"#2a3f5f\"},\"error_y\":{\"color\":\"#2a3f5f\"},\"marker\":{\"line\":{\"color\":\"#E5ECF6\",\"width\":0.5},\"pattern\":{\"fillmode\":\"overlay\",\"size\":10,\"solidity\":0.2}},\"type\":\"bar\"}],\"carpet\":[{\"aaxis\":{\"endlinecolor\":\"#2a3f5f\",\"gridcolor\":\"white\",\"linecolor\":\"white\",\"minorgridcolor\":\"white\",\"startlinecolor\":\"#2a3f5f\"},\"baxis\":{\"endlinecolor\":\"#2a3f5f\",\"gridcolor\":\"white\",\"linecolor\":\"white\",\"minorgridcolor\":\"white\",\"startlinecolor\":\"#2a3f5f\"},\"type\":\"carpet\"}],\"choropleth\":[{\"colorbar\":{\"outlinewidth\":0,\"ticks\":\"\"},\"type\":\"choropleth\"}],\"contourcarpet\":[{\"colorbar\":{\"outlinewidth\":0,\"ticks\":\"\"},\"type\":\"contourcarpet\"}],\"contour\":[{\"colorbar\":{\"outlinewidth\":0,\"ticks\":\"\"},\"colorscale\":[[0.0,\"#0d0887\"],[0.1111111111111111,\"#46039f\"],[0.2222222222222222,\"#7201a8\"],[0.3333333333333333,\"#9c179e\"],[0.4444444444444444,\"#bd3786\"],[0.5555555555555556,\"#d8576b\"],[0.6666666666666666,\"#ed7953\"],[0.7777777777777778,\"#fb9f3a\"],[0.8888888888888888,\"#fdca26\"],[1.0,\"#f0f921\"]],\"type\":\"contour\"}],\"heatmapgl\":[{\"colorbar\":{\"outlinewidth\":0,\"ticks\":\"\"},\"colorscale\":[[0.0,\"#0d0887\"],[0.1111111111111111,\"#46039f\"],[0.2222222222222222,\"#7201a8\"],[0.3333333333333333,\"#9c179e\"],[0.4444444444444444,\"#bd3786\"],[0.5555555555555556,\"#d8576b\"],[0.6666666666666666,\"#ed7953\"],[0.7777777777777778,\"#fb9f3a\"],[0.8888888888888888,\"#fdca26\"],[1.0,\"#f0f921\"]],\"type\":\"heatmapgl\"}],\"heatmap\":[{\"colorbar\":{\"outlinewidth\":0,\"ticks\":\"\"},\"colorscale\":[[0.0,\"#0d0887\"],[0.1111111111111111,\"#46039f\"],[0.2222222222222222,\"#7201a8\"],[0.3333333333333333,\"#9c179e\"],[0.4444444444444444,\"#bd3786\"],[0.5555555555555556,\"#d8576b\"],[0.6666666666666666,\"#ed7953\"],[0.7777777777777778,\"#fb9f3a\"],[0.8888888888888888,\"#fdca26\"],[1.0,\"#f0f921\"]],\"type\":\"heatmap\"}],\"histogram2dcontour\":[{\"colorbar\":{\"outlinewidth\":0,\"ticks\":\"\"},\"colorscale\":[[0.0,\"#0d0887\"],[0.1111111111111111,\"#46039f\"],[0.2222222222222222,\"#7201a8\"],[0.3333333333333333,\"#9c179e\"],[0.4444444444444444,\"#bd3786\"],[0.5555555555555556,\"#d8576b\"],[0.6666666666666666,\"#ed7953\"],[0.7777777777777778,\"#fb9f3a\"],[0.8888888888888888,\"#fdca26\"],[1.0,\"#f0f921\"]],\"type\":\"histogram2dcontour\"}],\"histogram2d\":[{\"colorbar\":{\"outlinewidth\":0,\"ticks\":\"\"},\"colorscale\":[[0.0,\"#0d0887\"],[0.1111111111111111,\"#46039f\"],[0.2222222222222222,\"#7201a8\"],[0.3333333333333333,\"#9c179e\"],[0.4444444444444444,\"#bd3786\"],[0.5555555555555556,\"#d8576b\"],[0.6666666666666666,\"#ed7953\"],[0.7777777777777778,\"#fb9f3a\"],[0.8888888888888888,\"#fdca26\"],[1.0,\"#f0f921\"]],\"type\":\"histogram2d\"}],\"histogram\":[{\"marker\":{\"pattern\":{\"fillmode\":\"overlay\",\"size\":10,\"solidity\":0.2}},\"type\":\"histogram\"}],\"mesh3d\":[{\"colorbar\":{\"outlinewidth\":0,\"ticks\":\"\"},\"type\":\"mesh3d\"}],\"parcoords\":[{\"line\":{\"colorbar\":{\"outlinewidth\":0,\"ticks\":\"\"}},\"type\":\"parcoords\"}],\"pie\":[{\"automargin\":true,\"type\":\"pie\"}],\"scatter3d\":[{\"line\":{\"colorbar\":{\"outlinewidth\":0,\"ticks\":\"\"}},\"marker\":{\"colorbar\":{\"outlinewidth\":0,\"ticks\":\"\"}},\"type\":\"scatter3d\"}],\"scattercarpet\":[{\"marker\":{\"colorbar\":{\"outlinewidth\":0,\"ticks\":\"\"}},\"type\":\"scattercarpet\"}],\"scattergeo\":[{\"marker\":{\"colorbar\":{\"outlinewidth\":0,\"ticks\":\"\"}},\"type\":\"scattergeo\"}],\"scattergl\":[{\"marker\":{\"colorbar\":{\"outlinewidth\":0,\"ticks\":\"\"}},\"type\":\"scattergl\"}],\"scattermapbox\":[{\"marker\":{\"colorbar\":{\"outlinewidth\":0,\"ticks\":\"\"}},\"type\":\"scattermapbox\"}],\"scatterpolargl\":[{\"marker\":{\"colorbar\":{\"outlinewidth\":0,\"ticks\":\"\"}},\"type\":\"scatterpolargl\"}],\"scatterpolar\":[{\"marker\":{\"colorbar\":{\"outlinewidth\":0,\"ticks\":\"\"}},\"type\":\"scatterpolar\"}],\"scatter\":[{\"fillpattern\":{\"fillmode\":\"overlay\",\"size\":10,\"solidity\":0.2},\"type\":\"scatter\"}],\"scatterternary\":[{\"marker\":{\"colorbar\":{\"outlinewidth\":0,\"ticks\":\"\"}},\"type\":\"scatterternary\"}],\"surface\":[{\"colorbar\":{\"outlinewidth\":0,\"ticks\":\"\"},\"colorscale\":[[0.0,\"#0d0887\"],[0.1111111111111111,\"#46039f\"],[0.2222222222222222,\"#7201a8\"],[0.3333333333333333,\"#9c179e\"],[0.4444444444444444,\"#bd3786\"],[0.5555555555555556,\"#d8576b\"],[0.6666666666666666,\"#ed7953\"],[0.7777777777777778,\"#fb9f3a\"],[0.8888888888888888,\"#fdca26\"],[1.0,\"#f0f921\"]],\"type\":\"surface\"}],\"table\":[{\"cells\":{\"fill\":{\"color\":\"#EBF0F8\"},\"line\":{\"color\":\"white\"}},\"header\":{\"fill\":{\"color\":\"#C8D4E3\"},\"line\":{\"color\":\"white\"}},\"type\":\"table\"}]},\"layout\":{\"annotationdefaults\":{\"arrowcolor\":\"#2a3f5f\",\"arrowhead\":0,\"arrowwidth\":1},\"autotypenumbers\":\"strict\",\"coloraxis\":{\"colorbar\":{\"outlinewidth\":0,\"ticks\":\"\"}},\"colorscale\":{\"diverging\":[[0,\"#8e0152\"],[0.1,\"#c51b7d\"],[0.2,\"#de77ae\"],[0.3,\"#f1b6da\"],[0.4,\"#fde0ef\"],[0.5,\"#f7f7f7\"],[0.6,\"#e6f5d0\"],[0.7,\"#b8e186\"],[0.8,\"#7fbc41\"],[0.9,\"#4d9221\"],[1,\"#276419\"]],\"sequential\":[[0.0,\"#0d0887\"],[0.1111111111111111,\"#46039f\"],[0.2222222222222222,\"#7201a8\"],[0.3333333333333333,\"#9c179e\"],[0.4444444444444444,\"#bd3786\"],[0.5555555555555556,\"#d8576b\"],[0.6666666666666666,\"#ed7953\"],[0.7777777777777778,\"#fb9f3a\"],[0.8888888888888888,\"#fdca26\"],[1.0,\"#f0f921\"]],\"sequentialminus\":[[0.0,\"#0d0887\"],[0.1111111111111111,\"#46039f\"],[0.2222222222222222,\"#7201a8\"],[0.3333333333333333,\"#9c179e\"],[0.4444444444444444,\"#bd3786\"],[0.5555555555555556,\"#d8576b\"],[0.6666666666666666,\"#ed7953\"],[0.7777777777777778,\"#fb9f3a\"],[0.8888888888888888,\"#fdca26\"],[1.0,\"#f0f921\"]]},\"colorway\":[\"#636efa\",\"#EF553B\",\"#00cc96\",\"#ab63fa\",\"#FFA15A\",\"#19d3f3\",\"#FF6692\",\"#B6E880\",\"#FF97FF\",\"#FECB52\"],\"font\":{\"color\":\"#2a3f5f\"},\"geo\":{\"bgcolor\":\"white\",\"lakecolor\":\"white\",\"landcolor\":\"#E5ECF6\",\"showlakes\":true,\"showland\":true,\"subunitcolor\":\"white\"},\"hoverlabel\":{\"align\":\"left\"},\"hovermode\":\"closest\",\"mapbox\":{\"style\":\"light\"},\"paper_bgcolor\":\"white\",\"plot_bgcolor\":\"#E5ECF6\",\"polar\":{\"angularaxis\":{\"gridcolor\":\"white\",\"linecolor\":\"white\",\"ticks\":\"\"},\"bgcolor\":\"#E5ECF6\",\"radialaxis\":{\"gridcolor\":\"white\",\"linecolor\":\"white\",\"ticks\":\"\"}},\"scene\":{\"xaxis\":{\"backgroundcolor\":\"#E5ECF6\",\"gridcolor\":\"white\",\"gridwidth\":2,\"linecolor\":\"white\",\"showbackground\":true,\"ticks\":\"\",\"zerolinecolor\":\"white\"},\"yaxis\":{\"backgroundcolor\":\"#E5ECF6\",\"gridcolor\":\"white\",\"gridwidth\":2,\"linecolor\":\"white\",\"showbackground\":true,\"ticks\":\"\",\"zerolinecolor\":\"white\"},\"zaxis\":{\"backgroundcolor\":\"#E5ECF6\",\"gridcolor\":\"white\",\"gridwidth\":2,\"linecolor\":\"white\",\"showbackground\":true,\"ticks\":\"\",\"zerolinecolor\":\"white\"}},\"shapedefaults\":{\"line\":{\"color\":\"#2a3f5f\"}},\"ternary\":{\"aaxis\":{\"gridcolor\":\"white\",\"linecolor\":\"white\",\"ticks\":\"\"},\"baxis\":{\"gridcolor\":\"white\",\"linecolor\":\"white\",\"ticks\":\"\"},\"bgcolor\":\"#E5ECF6\",\"caxis\":{\"gridcolor\":\"white\",\"linecolor\":\"white\",\"ticks\":\"\"}},\"title\":{\"x\":0.05},\"xaxis\":{\"automargin\":true,\"gridcolor\":\"white\",\"linecolor\":\"white\",\"ticks\":\"\",\"title\":{\"standoff\":15},\"zerolinecolor\":\"white\",\"zerolinewidth\":2},\"yaxis\":{\"automargin\":true,\"gridcolor\":\"white\",\"linecolor\":\"white\",\"ticks\":\"\",\"title\":{\"standoff\":15},\"zerolinecolor\":\"white\",\"zerolinewidth\":2}}},\"xaxis\":{\"anchor\":\"y\",\"domain\":[0.0,1.0],\"title\":{\"text\":\"candle_date_time_kst\"}},\"yaxis\":{\"anchor\":\"x\",\"domain\":[0.0,1.0],\"title\":{\"text\":\"trade_price\"}}},                        {\"responsive\": true}                    ).then(function(){\n",
       "                            \n",
       "var gd = document.getElementById('34cdb2dd-2635-4e82-ab57-f3ba6d653a9c');\n",
       "var x = new MutationObserver(function (mutations, observer) {{\n",
       "        var display = window.getComputedStyle(gd).display;\n",
       "        if (!display || display === 'none') {{\n",
       "            console.log([gd, 'removed!']);\n",
       "            Plotly.purge(gd);\n",
       "            observer.disconnect();\n",
       "        }}\n",
       "}});\n",
       "\n",
       "// Listen for the removal of the full notebook cells\n",
       "var notebookContainer = gd.closest('#notebook-container');\n",
       "if (notebookContainer) {{\n",
       "    x.observe(notebookContainer, {childList: true});\n",
       "}}\n",
       "\n",
       "// Listen for the clearing of the current output cell\n",
       "var outputEl = gd.closest('.output');\n",
       "if (outputEl) {{\n",
       "    x.observe(outputEl, {childList: true});\n",
       "}}\n",
       "\n",
       "                        })                };                });            </script>        </div>"
      ]
     },
     "metadata": {},
     "output_type": "display_data"
    }
   ],
   "source": [
    "fig = px.scatter(df[df.market == 'XRP'],\n",
    "                x = 'candle_date_time_kst',\n",
    "                y = 'trade_price')\n",
    "plotly.offline.iplot(fig)"
   ]
  },
  {
   "cell_type": "code",
   "execution_count": 89,
   "id": "20ee5931",
   "metadata": {},
   "outputs": [
    {
     "data": {
      "application/vnd.plotly.v1+json": {
       "config": {
        "linkText": "Export to plot.ly",
        "plotlyServerURL": "https://plot.ly",
        "showLink": false
       },
       "data": [
        {
         "hovertemplate": "market=BTC<br>candle_date_time_kst=%{x}<br>candle_acc_trade_price=%{y}<extra></extra>",
         "legendgroup": "BTC",
         "marker": {
          "color": "#636efa",
          "symbol": "circle"
         },
         "mode": "markers",
         "name": "BTC",
         "orientation": "v",
         "showlegend": true,
         "type": "scatter",
         "x": [
          "2022-07-04",
          "2022-07-03",
          "2022-07-02",
          "2022-07-01",
          "2022-06-30",
          "2022-06-29",
          "2022-06-28",
          "2022-06-27",
          "2022-06-26",
          "2022-06-25",
          "2022-06-24",
          "2022-06-23",
          "2022-06-22",
          "2022-06-21",
          "2022-06-20",
          "2022-06-19",
          "2022-06-18",
          "2022-06-17",
          "2022-06-16",
          "2022-06-15",
          "2022-06-14",
          "2022-06-13",
          "2022-06-12",
          "2022-06-11",
          "2022-06-10",
          "2022-06-09",
          "2022-06-08",
          "2022-06-07",
          "2022-06-06",
          "2022-06-05",
          "2022-06-04",
          "2022-06-03",
          "2022-06-02",
          "2022-06-01",
          "2022-05-31",
          "2022-05-30",
          "2022-05-29",
          "2022-05-28",
          "2022-05-27",
          "2022-05-26",
          "2022-05-25",
          "2022-05-24",
          "2022-05-23",
          "2022-05-22",
          "2022-05-21",
          "2022-05-20",
          "2022-05-19",
          "2022-05-18",
          "2022-05-17",
          "2022-05-16",
          "2022-05-15",
          "2022-05-14",
          "2022-05-13",
          "2022-05-12",
          "2022-05-11",
          "2022-05-10",
          "2022-05-09",
          "2022-05-08",
          "2022-05-07",
          "2022-05-06",
          "2022-05-05",
          "2022-05-04",
          "2022-05-03",
          "2022-05-02",
          "2022-05-01",
          "2022-04-30",
          "2022-04-29",
          "2022-04-28",
          "2022-04-27",
          "2022-04-26",
          "2022-04-25",
          "2022-04-24",
          "2022-04-23",
          "2022-04-22",
          "2022-04-21",
          "2022-04-20",
          "2022-04-19",
          "2022-04-18",
          "2022-04-17",
          "2022-04-16",
          "2022-04-15",
          "2022-04-14",
          "2022-04-13",
          "2022-04-12",
          "2022-04-11",
          "2022-04-10",
          "2022-04-09",
          "2022-04-08",
          "2022-04-07",
          "2022-04-06",
          "2022-04-05",
          "2022-04-04",
          "2022-04-03",
          "2022-04-02",
          "2022-04-01",
          "2022-03-31",
          "2022-03-30",
          "2022-03-29",
          "2022-03-28",
          "2022-03-27",
          "2022-03-26",
          "2022-03-25",
          "2022-03-24",
          "2022-03-23",
          "2022-03-22",
          "2022-03-21",
          "2022-03-20",
          "2022-03-19",
          "2022-03-18",
          "2022-03-17",
          "2022-03-16",
          "2022-03-15",
          "2022-03-14",
          "2022-03-13",
          "2022-03-12",
          "2022-03-11",
          "2022-03-10",
          "2022-03-09",
          "2022-03-08",
          "2022-03-07",
          "2022-03-06",
          "2022-03-05",
          "2022-03-04",
          "2022-03-03",
          "2022-03-02",
          "2022-03-01",
          "2022-02-28",
          "2022-02-27",
          "2022-02-26",
          "2022-02-25",
          "2022-02-24",
          "2022-02-23",
          "2022-02-22",
          "2022-02-21",
          "2022-02-20",
          "2022-02-19",
          "2022-02-18",
          "2022-02-17",
          "2022-02-16",
          "2022-02-15",
          "2022-02-14",
          "2022-02-13",
          "2022-02-12",
          "2022-02-11",
          "2022-02-10",
          "2022-02-09",
          "2022-02-08",
          "2022-02-07",
          "2022-02-06",
          "2022-02-05",
          "2022-02-04",
          "2022-02-03",
          "2022-02-02",
          "2022-02-01",
          "2022-01-31",
          "2022-01-30",
          "2022-01-29",
          "2022-01-28",
          "2022-01-27",
          "2022-01-26",
          "2022-01-25",
          "2022-01-24",
          "2022-01-23",
          "2022-01-22",
          "2022-01-21",
          "2022-01-20",
          "2022-01-19",
          "2022-01-18",
          "2022-01-17",
          "2022-01-16",
          "2022-01-15",
          "2022-01-14",
          "2022-01-13",
          "2022-01-12",
          "2022-01-11",
          "2022-01-10",
          "2022-01-09",
          "2022-01-08",
          "2022-01-07",
          "2022-01-06",
          "2022-01-05",
          "2022-01-04",
          "2022-01-03",
          "2022-01-02",
          "2022-01-01",
          "2021-12-31",
          "2021-12-30",
          "2021-12-29",
          "2021-12-28",
          "2021-12-27",
          "2021-12-26",
          "2021-12-25",
          "2021-12-24",
          "2021-12-23",
          "2021-12-22",
          "2021-12-21",
          "2021-12-20",
          "2021-12-19",
          "2021-12-18",
          "2021-12-17"
         ],
         "xaxis": "x",
         "y": [
          32560364921.99215,
          101635661159.56302,
          91226992257.78572,
          276372951294.9279,
          292542947043.12994,
          243859022578.08624,
          145708709679.6057,
          157291687583.22983,
          151630980878.5098,
          172243806128.06155,
          367521476381.12665,
          313542284234.99506,
          209447520551.6528,
          278469858805.06476,
          329953094202.11145,
          381029060910.1559,
          433108212679.0678,
          224342676396.38416,
          305925822885.83704,
          559000697514.428,
          561772913986.8145,
          668025770993.4442,
          219859784066.75397,
          167988296425.94037,
          168289151399.8374,
          113235233678.05505,
          199350471018.1796,
          303250155093.7022,
          172041848037.47153,
          49985999685.45281,
          53025106657.57351,
          137238868186.18251,
          110236787826.56088,
          245744047452.18063,
          256308491503.18982,
          211274731621.14108,
          63691223300.73744,
          71361163243.76425,
          162036860622.9899,
          195505091618.82016,
          147137682970.50873,
          142910723625.20737,
          190334640537.41727,
          128577550743.85239,
          106779412306.24332,
          225269617988.79233,
          242974605150.87173,
          243086612601.30344,
          210535941107.40146,
          224370405726.56384,
          170672551261.52905,
          217008793733.08148,
          498373949608.00916,
          911518039693.9376,
          1328765297059.545,
          501966820215.2406,
          356443725580.1086,
          186618124663.34042,
          80649441505.52292,
          191194804926.25415,
          304844986974.6226,
          194729783161.73004,
          135666989657.8908,
          129931613441.11748,
          141630925351.43323,
          103247900534.68933,
          142344434036.42245,
          159373732264.9677,
          136961777571.22733,
          207571264467.196,
          208005727805.6377,
          82647094726.2008,
          94878858638.68283,
          166518417330.12607,
          235868137067.6446,
          144036924649.38208,
          144033858428.94022,
          197866042963.1782,
          82769167197.80688,
          65131786307.86627,
          113924498278.0374,
          165648379824.71838,
          169540794582.5969,
          238179333127.62677,
          277983876671.78253,
          121721077484.73825,
          119522891228.52135,
          276079923582.83856,
          287115749510.7967,
          371677583452.9044,
          262969075152.23587,
          333784681103.21405,
          216198441541.75647,
          219803855319.6424,
          373769566768.1517,
          290425399182.101,
          234529415255.21085,
          378907479327.83264,
          361568618614.51605,
          292027317612.86926,
          179588672016.24872,
          303815424407.88043,
          382789038401.1927,
          273158203021.73694,
          433481110248.89,
          221912265997.20813,
          205914406605.1418,
          255391353100.587,
          319119972074.8756,
          323349085571.79724,
          628482964168.743,
          271852039162.99026,
          306727422441.91864,
          198434298602.69345,
          131418547496.89621,
          345465440083.8288,
          494328772058.5832,
          479357538041.31586,
          229182242873.09155,
          327977721102.5802,
          231568105039.18558,
          238916280699.47223,
          411649625542.0779,
          298403705749.9444,
          410042464654.7711,
          580017405666.1804,
          510345453158.8512,
          278259630244.21466,
          211661931303.1995,
          367692769588.9642,
          677428293445.7881,
          294355073826.30664,
          249720926168.73676,
          367962097771.5558,
          261930452601.5744,
          141529609090.52924,
          272064780977.97128,
          392341519114.4038,
          244556760070.18353,
          254795069714.37585,
          218529350233.54776,
          141796428812.6518,
          241620206211.6828,
          321480090359.74054,
          488428411754.56024,
          266603510170.62662,
          578845327237.1124,
          337553682455.38916,
          206661446937.4289,
          285441834169.823,
          355674962643.43884,
          148839125406.1171,
          219281053640.67502,
          187434977994.1383,
          211275432696.9253,
          135027081461.63245,
          186286304051.22614,
          254762670308.80963,
          335012964798.7789,
          465503093047.90515,
          308479518001.6424,
          468862727172.81586,
          269289810382.9316,
          542096966238.20294,
          614895368490.7034,
          350489190147.2465,
          243349644791.62622,
          197997204276.519,
          160683769882.9794,
          111417440453.1287,
          135657742666.70593,
          261086090962.35144,
          289837178996.5849,
          296492711681.8847,
          298676109322.26056,
          402570820215.65857,
          174869889802.57343,
          215423691964.91058,
          389528045895.49457,
          339630997052.0713,
          515276777193.21295,
          342512644132.83624,
          360063461140.01263,
          205291308789.9393,
          151064521830.33255,
          285728205436.0753,
          315378745535.8602,
          465098505559.6989,
          436619790606.5887,
          325512198487.4511,
          265030001351.93692,
          230679684124.69763,
          325690062280.693,
          389081707456.7215,
          347172202153.7813,
          394352689438.5196,
          385840635557.5586,
          349830141080.10315,
          318308284131.8217,
          529378851668.7005
         ],
         "yaxis": "y"
        },
        {
         "hovertemplate": "market=ETH<br>candle_date_time_kst=%{x}<br>candle_acc_trade_price=%{y}<extra></extra>",
         "legendgroup": "ETH",
         "marker": {
          "color": "#EF553B",
          "symbol": "circle"
         },
         "mode": "markers",
         "name": "ETH",
         "orientation": "v",
         "showlegend": true,
         "type": "scatter",
         "x": [
          "2022-07-04",
          "2022-07-03",
          "2022-07-02",
          "2022-07-01",
          "2022-06-30",
          "2022-06-29",
          "2022-06-28",
          "2022-06-27",
          "2022-06-26",
          "2022-06-25",
          "2022-06-24",
          "2022-06-23",
          "2022-06-22",
          "2022-06-21",
          "2022-06-20",
          "2022-06-19",
          "2022-06-18",
          "2022-06-17",
          "2022-06-16",
          "2022-06-15",
          "2022-06-14",
          "2022-06-13",
          "2022-06-12",
          "2022-06-11",
          "2022-06-10",
          "2022-06-09",
          "2022-06-08",
          "2022-06-07",
          "2022-06-06",
          "2022-06-05",
          "2022-06-04",
          "2022-06-03",
          "2022-06-02",
          "2022-06-01",
          "2022-05-31",
          "2022-05-30",
          "2022-05-29",
          "2022-05-28",
          "2022-05-27",
          "2022-05-26",
          "2022-05-25",
          "2022-05-24",
          "2022-05-23",
          "2022-05-22",
          "2022-05-21",
          "2022-05-20",
          "2022-05-19",
          "2022-05-18",
          "2022-05-17",
          "2022-05-16",
          "2022-05-15",
          "2022-05-14",
          "2022-05-13",
          "2022-05-12",
          "2022-05-11",
          "2022-05-10",
          "2022-05-09",
          "2022-05-08",
          "2022-05-07",
          "2022-05-06",
          "2022-05-05",
          "2022-05-04",
          "2022-05-03",
          "2022-05-02",
          "2022-05-01",
          "2022-04-30",
          "2022-04-29",
          "2022-04-28",
          "2022-04-27",
          "2022-04-26",
          "2022-04-25",
          "2022-04-24",
          "2022-04-23",
          "2022-04-22",
          "2022-04-21",
          "2022-04-20",
          "2022-04-19",
          "2022-04-18",
          "2022-04-17",
          "2022-04-16",
          "2022-04-15",
          "2022-04-14",
          "2022-04-13",
          "2022-04-12",
          "2022-04-11",
          "2022-04-10",
          "2022-04-09",
          "2022-04-08",
          "2022-04-07",
          "2022-04-06",
          "2022-04-05",
          "2022-04-04",
          "2022-04-03",
          "2022-04-02",
          "2022-04-01",
          "2022-03-31",
          "2022-03-30",
          "2022-03-29",
          "2022-03-28",
          "2022-03-27",
          "2022-03-26",
          "2022-03-25",
          "2022-03-24",
          "2022-03-23",
          "2022-03-22",
          "2022-03-21",
          "2022-03-20",
          "2022-03-19",
          "2022-03-18",
          "2022-03-17",
          "2022-03-16",
          "2022-03-15",
          "2022-03-14",
          "2022-03-13",
          "2022-03-12",
          "2022-03-11",
          "2022-03-10",
          "2022-03-09",
          "2022-03-08",
          "2022-03-07",
          "2022-03-06",
          "2022-03-05",
          "2022-03-04",
          "2022-03-03",
          "2022-03-02",
          "2022-03-01",
          "2022-02-28",
          "2022-02-27",
          "2022-02-26",
          "2022-02-25",
          "2022-02-24",
          "2022-02-23",
          "2022-02-22",
          "2022-02-21",
          "2022-02-20",
          "2022-02-19",
          "2022-02-18",
          "2022-02-17",
          "2022-02-16",
          "2022-02-15",
          "2022-02-14",
          "2022-02-13",
          "2022-02-12",
          "2022-02-11",
          "2022-02-10",
          "2022-02-09",
          "2022-02-08",
          "2022-02-07",
          "2022-02-06",
          "2022-02-05",
          "2022-02-04",
          "2022-02-03",
          "2022-02-02",
          "2022-02-01",
          "2022-01-31",
          "2022-01-30",
          "2022-01-29",
          "2022-01-28",
          "2022-01-27",
          "2022-01-26",
          "2022-01-25",
          "2022-01-24",
          "2022-01-23",
          "2022-01-22",
          "2022-01-21",
          "2022-01-20",
          "2022-01-19",
          "2022-01-18",
          "2022-01-17",
          "2022-01-16",
          "2022-01-15",
          "2022-01-14",
          "2022-01-13",
          "2022-01-12",
          "2022-01-11",
          "2022-01-10",
          "2022-01-09",
          "2022-01-08",
          "2022-01-07",
          "2022-01-06",
          "2022-01-05",
          "2022-01-04",
          "2022-01-03",
          "2022-01-02",
          "2022-01-01",
          "2021-12-31",
          "2021-12-30",
          "2021-12-29",
          "2021-12-28",
          "2021-12-27",
          "2021-12-26",
          "2021-12-25",
          "2021-12-24",
          "2021-12-23",
          "2021-12-22",
          "2021-12-21",
          "2021-12-20",
          "2021-12-19",
          "2021-12-18",
          "2021-12-17"
         ],
         "xaxis": "x",
         "y": [
          16949260626.400225,
          53328185296.65972,
          58517932849.08219,
          142208338852.03918,
          138513409990.66605,
          110798956613.25607,
          119332715640.22128,
          115030117044.86818,
          121910899748.95718,
          122836582762.7896,
          176671084620.9381,
          133490849353.95209,
          176491955219.74014,
          249535652186.18726,
          321114390295.92267,
          377143596577.1303,
          350980975632.78906,
          192792498590.64236,
          337115687972.48676,
          685409940844.5015,
          456264295698.04254,
          589404696551.2993,
          203764315913.7205,
          257906649957.03098,
          117325010312.92293,
          60306704016.1736,
          79603110028.30067,
          159530796095.0496,
          95098952320.3937,
          39383694187.69209,
          38552923839.52855,
          95528779262.53906,
          95581518385.2862,
          131775092489.48619,
          122184077567.29393,
          128170068120.8211,
          56988946003.92613,
          81432223441.44817,
          179097885044.6717,
          226257512123.19876,
          84111796331.72502,
          92251527003.25043,
          104983242210.2991,
          61023064019.73132,
          48999660186.0579,
          110917000433.67976,
          135070332097.94434,
          154048479621.01157,
          134759529542.21405,
          151401701766.46097,
          114723383762.19476,
          158140676751.03912,
          332745981020.5682,
          546890751956.0728,
          605144687161.0381,
          280700299716.4725,
          291222948236.28815,
          109684182917.6429,
          54460035759.33753,
          124285381802.65521,
          162081920675.23267,
          118580165966.56248,
          83070066416.85416,
          103782174253.9549,
          84345421231.71576,
          63781250319.53114,
          98394104872.86331,
          99426527734.26614,
          88548828688.10548,
          144903248081.44562,
          154908103038.55774,
          55135258619.85614,
          49989089445.94153,
          96199345300.47429,
          131807019995.14445,
          105442875138.01099,
          130765819449.80804,
          159157936362.1561,
          61860932625.41913,
          54473789379.96599,
          85013215828.36325,
          159685630375.86835,
          152039281101.7627,
          240017444346.27057,
          269996348769.3111,
          66122079666.73279,
          75482588916.85144,
          170766363101.72488,
          186092447943.1356,
          296397301859.45416,
          133239801859.97012,
          148307388573.42432,
          119391029297.79343,
          149388443461.36862,
          198586606924.4001,
          177715321984.13095,
          169837984166.8185,
          231788267856.3865,
          203023839277.12424,
          120637677099.78406,
          77593715867.82774,
          148117654372.2317,
          174706418801.67456,
          156345895926.0959,
          192362308191.3957,
          132538152305.66235,
          130958880907.52402,
          133075391240.04784,
          178981052020.64108,
          125530163693.73878,
          231232664921.51593,
          126568306321.11546,
          127528302108.98364,
          92001125221.55122,
          70154627051.1325,
          158773941843.87628,
          182747914965.30084,
          243172845750.28616,
          151175788094.8742,
          210835931961.5965,
          106890771172.42073,
          110955465853.63278,
          231612320898.92032,
          212926176063.0734,
          256465656765.47073,
          356786387690.92175,
          366129838738.6108,
          292365546391.07306,
          185628570667.23386,
          267610331354.92822,
          498896271013.6363,
          201245256452.72794,
          234050844724.40714,
          289538928195.02234,
          184000675861.44193,
          140513230736.3024,
          231974618110.2473,
          263165144193.0863,
          174922696286.3192,
          193771414573.97656,
          149616288812.71115,
          90949768410.69162,
          168526786647.80826,
          233143894230.696,
          300580661371.73676,
          153630183448.02805,
          290004025020.64594,
          237992122737.6449,
          169875741804.7713,
          234372047716.52576,
          324433068312.7668,
          177574843051.52408,
          215041812476.35135,
          176423501970.77878,
          180499880511.92792,
          137306271507.63676,
          215973892287.4941,
          262664365463.8354,
          321600946482.8601,
          480520994619.42725,
          254167276469.5026,
          522767948650.5325,
          210160724336.96478,
          453478133769.0801,
          426709244589.57886,
          151834231759.27908,
          113953499378.775,
          116678297425.8401,
          108322794278.55981,
          72977433217.40543,
          68630103142.41846,
          122067486853.21088,
          156194495550.72705,
          190387598398.24484,
          214232366219.36185,
          274651654425.7455,
          127559508348.72668,
          218185653876.883,
          372664159339.54175,
          274750212400.4113,
          218993948792.92917,
          136950069110.25677,
          115708750070.13058,
          82064170253.96738,
          80280456174.97699,
          136926663616.63087,
          160542691334.32092,
          206638930993.19547,
          226682654962.46594,
          130793474415.23866,
          110686382182.91162,
          118703904022.24226,
          199532555550.88364,
          253148731225.16714,
          183801200817.07352,
          239450815721.82962,
          255754689727.83612,
          172399557777.89304,
          179911471864.84314,
          335791783208.3432
         ],
         "yaxis": "y"
        },
        {
         "hovertemplate": "market=XRP<br>candle_date_time_kst=%{x}<br>candle_acc_trade_price=%{y}<extra></extra>",
         "legendgroup": "XRP",
         "marker": {
          "color": "#00cc96",
          "symbol": "circle"
         },
         "mode": "markers",
         "name": "XRP",
         "orientation": "v",
         "showlegend": true,
         "type": "scatter",
         "x": [
          "2022-07-04",
          "2022-07-03",
          "2022-07-02",
          "2022-07-01",
          "2022-06-30",
          "2022-06-29",
          "2022-06-28",
          "2022-06-27",
          "2022-06-26",
          "2022-06-25",
          "2022-06-24",
          "2022-06-23",
          "2022-06-22",
          "2022-06-21",
          "2022-06-20",
          "2022-06-19",
          "2022-06-18",
          "2022-06-17",
          "2022-06-16",
          "2022-06-15",
          "2022-06-14",
          "2022-06-13",
          "2022-06-12",
          "2022-06-11",
          "2022-06-10",
          "2022-06-09",
          "2022-06-08",
          "2022-06-07",
          "2022-06-06",
          "2022-06-05",
          "2022-06-04",
          "2022-06-03",
          "2022-06-02",
          "2022-06-01",
          "2022-05-31",
          "2022-05-30",
          "2022-05-29",
          "2022-05-28",
          "2022-05-27",
          "2022-05-26",
          "2022-05-25",
          "2022-05-24",
          "2022-05-23",
          "2022-05-22",
          "2022-05-21",
          "2022-05-20",
          "2022-05-19",
          "2022-05-18",
          "2022-05-17",
          "2022-05-16",
          "2022-05-15",
          "2022-05-14",
          "2022-05-13",
          "2022-05-12",
          "2022-05-11",
          "2022-05-10",
          "2022-05-09",
          "2022-05-08",
          "2022-05-07",
          "2022-05-06",
          "2022-05-05",
          "2022-05-04",
          "2022-05-03",
          "2022-05-02",
          "2022-05-01",
          "2022-04-30",
          "2022-04-29",
          "2022-04-28",
          "2022-04-27",
          "2022-04-26",
          "2022-04-25",
          "2022-04-24",
          "2022-04-23",
          "2022-04-22",
          "2022-04-21",
          "2022-04-20",
          "2022-04-19",
          "2022-04-18",
          "2022-04-17",
          "2022-04-16",
          "2022-04-15",
          "2022-04-14",
          "2022-04-13",
          "2022-04-12",
          "2022-04-11",
          "2022-04-10",
          "2022-04-09",
          "2022-04-08",
          "2022-04-07",
          "2022-04-06",
          "2022-04-05",
          "2022-04-04",
          "2022-04-03",
          "2022-04-02",
          "2022-04-01",
          "2022-03-31",
          "2022-03-30",
          "2022-03-29",
          "2022-03-28",
          "2022-03-27",
          "2022-03-26",
          "2022-03-25",
          "2022-03-24",
          "2022-03-23",
          "2022-03-22",
          "2022-03-21",
          "2022-03-20",
          "2022-03-19",
          "2022-03-18",
          "2022-03-17",
          "2022-03-16",
          "2022-03-15",
          "2022-03-14",
          "2022-03-13",
          "2022-03-12",
          "2022-03-11",
          "2022-03-10",
          "2022-03-09",
          "2022-03-08",
          "2022-03-07",
          "2022-03-06",
          "2022-03-05",
          "2022-03-04",
          "2022-03-03",
          "2022-03-02",
          "2022-03-01",
          "2022-02-28",
          "2022-02-27",
          "2022-02-26",
          "2022-02-25",
          "2022-02-24",
          "2022-02-23",
          "2022-02-22",
          "2022-02-21",
          "2022-02-20",
          "2022-02-19",
          "2022-02-18",
          "2022-02-17",
          "2022-02-16",
          "2022-02-15",
          "2022-02-14",
          "2022-02-13",
          "2022-02-12",
          "2022-02-11",
          "2022-02-10",
          "2022-02-09",
          "2022-02-08",
          "2022-02-07",
          "2022-02-06",
          "2022-02-05",
          "2022-02-04",
          "2022-02-03",
          "2022-02-02",
          "2022-02-01",
          "2022-01-31",
          "2022-01-30",
          "2022-01-29",
          "2022-01-28",
          "2022-01-27",
          "2022-01-26",
          "2022-01-25",
          "2022-01-24",
          "2022-01-23",
          "2022-01-22",
          "2022-01-21",
          "2022-01-20",
          "2022-01-19",
          "2022-01-18",
          "2022-01-17",
          "2022-01-16",
          "2022-01-15",
          "2022-01-14",
          "2022-01-13",
          "2022-01-12",
          "2022-01-11",
          "2022-01-10",
          "2022-01-09",
          "2022-01-08",
          "2022-01-07",
          "2022-01-06",
          "2022-01-05",
          "2022-01-04",
          "2022-01-03",
          "2022-01-02",
          "2022-01-01",
          "2021-12-31",
          "2021-12-30",
          "2021-12-29",
          "2021-12-28",
          "2021-12-27",
          "2021-12-26",
          "2021-12-25",
          "2021-12-24",
          "2021-12-23",
          "2021-12-22",
          "2021-12-21",
          "2021-12-20",
          "2021-12-19",
          "2021-12-18",
          "2021-12-17"
         ],
         "xaxis": "x",
         "y": [
          17952779608.66211,
          55423909019.378174,
          51795591806.28787,
          123976327101.13673,
          149955135975.70847,
          111913035436.88953,
          107731147718.28738,
          125201856030.81633,
          104813172418.808,
          120404236787.23802,
          400215233848.78235,
          97351875069.15227,
          114435117923.49579,
          155810395516.98642,
          141647814886.57895,
          139537402655.42502,
          168807390840.41718,
          158558399754.13806,
          167958239507.9303,
          260770865335.10413,
          265920488998.25845,
          346381409638.04205,
          160916230708.26376,
          134529586394.5019,
          152497948941.77222,
          54383087100.18015,
          95798807913.79951,
          165666801156.43936,
          134653249303.68196,
          68262181547.87901,
          53478795161.23426,
          111015308307.42941,
          100192974874.59106,
          157845572084.0139,
          243373517517.70932,
          160895751199.9342,
          66257436328.63484,
          65773256311.46037,
          156962532479.15216,
          185335454523.56677,
          124783454379.8864,
          140808442571.0541,
          158707345383.13745,
          82117771780.6877,
          77159191705.9124,
          199084884243.55713,
          183784618339.52377,
          169453550527.1787,
          166670732031.8651,
          196105925619.1499,
          161467697049.9245,
          280963055740.2367,
          497964454949.609,
          738772862520.4598,
          800427016936.0145,
          427084432537.4566,
          423615874235.7359,
          132159095176.38274,
          92292163413.01187,
          166834076944.9269,
          218531963424.04623,
          167593571708.8226,
          109256712602.921,
          150276338300.01096,
          181408192649.41238,
          153219271080.69934,
          197215114480.42035,
          134978017347.25623,
          158074100953.4661,
          262159709829.7936,
          314069036130.8506,
          110207541265.34691,
          104532595284.71812,
          161461964247.85394,
          185813235162.4106,
          150299645613.78598,
          148848740326.4479,
          212643651287.89282,
          122974120651.20747,
          179729821767.00513,
          543605786688.8827,
          173347336564.6881,
          145901556033.10263,
          221904909433.71057,
          290419033090.3278,
          79462752994.10667,
          77892919768.62392,
          172426280654.13266,
          186254047892.45526,
          342088382238.70544,
          158355369260.35248,
          184308542950.08206,
          122820749724.06537,
          152698922651.1927,
          214718034482.9577,
          273176849865.06094,
          189106226819.0195,
          213921188654.91968,
          312254899038.59094,
          145252861058.02448,
          106950352552.55397,
          139180696415.07376,
          212954770241.05908,
          243491910584.54114,
          259078353372.39758,
          273754820236.44757,
          170888228466.01675,
          324321030373.9165,
          216293834403.271,
          212451324976.24985,
          335509022651.978,
          187814375166.16754,
          273251695202.2418,
          313922161314.18835,
          586215107045.2539,
          506265894539.59424,
          359033784142.3827,
          338856447581.85504,
          212194691852.35236,
          445192777244.2818,
          249939326437.96188,
          365627563388.3441,
          314423032210.1524,
          337510332065.96204,
          300643473265.0652,
          501786400360.7977,
          468299688360.8241,
          420618651168.62164,
          436959278622.0872,
          481301878261.53503,
          766331022490.1926,
          376330946169.5381,
          488011120965.55865,
          511298948921.77576,
          388915277280.76105,
          513699297160.08606,
          400807355850.1188,
          402357759402.9746,
          239480845005.85693,
          288922148622.58673,
          345971127887.15826,
          266198936512.8911,
          537409407283.6865,
          461618963706.2883,
          382661628122.01117,
          473972851894.5428,
          1113812985185.1118,
          831715955341.7217,
          166604646971.0715,
          308461745160.88293,
          199437690294.58203,
          106801694496.7523,
          145798355770.2185,
          110673623485.62292,
          119688046917.75543,
          95784118390.01625,
          139828193157.68518,
          168440332967.64423,
          217034448198.2966,
          341951632445.1496,
          196908530740.47348,
          333697611754.5345,
          191116061314.79578,
          468208867091.1892,
          430080314458.20593,
          156972574111.7591,
          152675941191.35587,
          161202042017.5008,
          107567108975.19893,
          78493103581.82066,
          96416432064.5495,
          190513350485.67996,
          186769535541.6926,
          231545367337.89993,
          260408963725.67783,
          295790839577.4903,
          105984168651.42944,
          156659251364.83942,
          278598925808.79956,
          287639153837.5005,
          289636847889.2179,
          145661269994.75644,
          143826629764.29172,
          143840673150.43076,
          97280886541.82216,
          165653430127.74683,
          191765338263.903,
          246097664700.68433,
          272513518599.32144,
          206192143726.29437,
          123984577540.46074,
          176319056320.35248,
          481393871455.64386,
          432703576834.0063,
          345252659064.4317,
          413237765677.8622,
          637969331964.1031,
          152216184635.1163,
          139281181039.82748,
          250206084897.09152
         ],
         "yaxis": "y"
        }
       ],
       "layout": {
        "legend": {
         "title": {
          "text": "market"
         },
         "tracegroupgap": 0
        },
        "margin": {
         "t": 60
        },
        "template": {
         "data": {
          "bar": [
           {
            "error_x": {
             "color": "#2a3f5f"
            },
            "error_y": {
             "color": "#2a3f5f"
            },
            "marker": {
             "line": {
              "color": "#E5ECF6",
              "width": 0.5
             },
             "pattern": {
              "fillmode": "overlay",
              "size": 10,
              "solidity": 0.2
             }
            },
            "type": "bar"
           }
          ],
          "barpolar": [
           {
            "marker": {
             "line": {
              "color": "#E5ECF6",
              "width": 0.5
             },
             "pattern": {
              "fillmode": "overlay",
              "size": 10,
              "solidity": 0.2
             }
            },
            "type": "barpolar"
           }
          ],
          "carpet": [
           {
            "aaxis": {
             "endlinecolor": "#2a3f5f",
             "gridcolor": "white",
             "linecolor": "white",
             "minorgridcolor": "white",
             "startlinecolor": "#2a3f5f"
            },
            "baxis": {
             "endlinecolor": "#2a3f5f",
             "gridcolor": "white",
             "linecolor": "white",
             "minorgridcolor": "white",
             "startlinecolor": "#2a3f5f"
            },
            "type": "carpet"
           }
          ],
          "choropleth": [
           {
            "colorbar": {
             "outlinewidth": 0,
             "ticks": ""
            },
            "type": "choropleth"
           }
          ],
          "contour": [
           {
            "colorbar": {
             "outlinewidth": 0,
             "ticks": ""
            },
            "colorscale": [
             [
              0,
              "#0d0887"
             ],
             [
              0.1111111111111111,
              "#46039f"
             ],
             [
              0.2222222222222222,
              "#7201a8"
             ],
             [
              0.3333333333333333,
              "#9c179e"
             ],
             [
              0.4444444444444444,
              "#bd3786"
             ],
             [
              0.5555555555555556,
              "#d8576b"
             ],
             [
              0.6666666666666666,
              "#ed7953"
             ],
             [
              0.7777777777777778,
              "#fb9f3a"
             ],
             [
              0.8888888888888888,
              "#fdca26"
             ],
             [
              1,
              "#f0f921"
             ]
            ],
            "type": "contour"
           }
          ],
          "contourcarpet": [
           {
            "colorbar": {
             "outlinewidth": 0,
             "ticks": ""
            },
            "type": "contourcarpet"
           }
          ],
          "heatmap": [
           {
            "colorbar": {
             "outlinewidth": 0,
             "ticks": ""
            },
            "colorscale": [
             [
              0,
              "#0d0887"
             ],
             [
              0.1111111111111111,
              "#46039f"
             ],
             [
              0.2222222222222222,
              "#7201a8"
             ],
             [
              0.3333333333333333,
              "#9c179e"
             ],
             [
              0.4444444444444444,
              "#bd3786"
             ],
             [
              0.5555555555555556,
              "#d8576b"
             ],
             [
              0.6666666666666666,
              "#ed7953"
             ],
             [
              0.7777777777777778,
              "#fb9f3a"
             ],
             [
              0.8888888888888888,
              "#fdca26"
             ],
             [
              1,
              "#f0f921"
             ]
            ],
            "type": "heatmap"
           }
          ],
          "heatmapgl": [
           {
            "colorbar": {
             "outlinewidth": 0,
             "ticks": ""
            },
            "colorscale": [
             [
              0,
              "#0d0887"
             ],
             [
              0.1111111111111111,
              "#46039f"
             ],
             [
              0.2222222222222222,
              "#7201a8"
             ],
             [
              0.3333333333333333,
              "#9c179e"
             ],
             [
              0.4444444444444444,
              "#bd3786"
             ],
             [
              0.5555555555555556,
              "#d8576b"
             ],
             [
              0.6666666666666666,
              "#ed7953"
             ],
             [
              0.7777777777777778,
              "#fb9f3a"
             ],
             [
              0.8888888888888888,
              "#fdca26"
             ],
             [
              1,
              "#f0f921"
             ]
            ],
            "type": "heatmapgl"
           }
          ],
          "histogram": [
           {
            "marker": {
             "pattern": {
              "fillmode": "overlay",
              "size": 10,
              "solidity": 0.2
             }
            },
            "type": "histogram"
           }
          ],
          "histogram2d": [
           {
            "colorbar": {
             "outlinewidth": 0,
             "ticks": ""
            },
            "colorscale": [
             [
              0,
              "#0d0887"
             ],
             [
              0.1111111111111111,
              "#46039f"
             ],
             [
              0.2222222222222222,
              "#7201a8"
             ],
             [
              0.3333333333333333,
              "#9c179e"
             ],
             [
              0.4444444444444444,
              "#bd3786"
             ],
             [
              0.5555555555555556,
              "#d8576b"
             ],
             [
              0.6666666666666666,
              "#ed7953"
             ],
             [
              0.7777777777777778,
              "#fb9f3a"
             ],
             [
              0.8888888888888888,
              "#fdca26"
             ],
             [
              1,
              "#f0f921"
             ]
            ],
            "type": "histogram2d"
           }
          ],
          "histogram2dcontour": [
           {
            "colorbar": {
             "outlinewidth": 0,
             "ticks": ""
            },
            "colorscale": [
             [
              0,
              "#0d0887"
             ],
             [
              0.1111111111111111,
              "#46039f"
             ],
             [
              0.2222222222222222,
              "#7201a8"
             ],
             [
              0.3333333333333333,
              "#9c179e"
             ],
             [
              0.4444444444444444,
              "#bd3786"
             ],
             [
              0.5555555555555556,
              "#d8576b"
             ],
             [
              0.6666666666666666,
              "#ed7953"
             ],
             [
              0.7777777777777778,
              "#fb9f3a"
             ],
             [
              0.8888888888888888,
              "#fdca26"
             ],
             [
              1,
              "#f0f921"
             ]
            ],
            "type": "histogram2dcontour"
           }
          ],
          "mesh3d": [
           {
            "colorbar": {
             "outlinewidth": 0,
             "ticks": ""
            },
            "type": "mesh3d"
           }
          ],
          "parcoords": [
           {
            "line": {
             "colorbar": {
              "outlinewidth": 0,
              "ticks": ""
             }
            },
            "type": "parcoords"
           }
          ],
          "pie": [
           {
            "automargin": true,
            "type": "pie"
           }
          ],
          "scatter": [
           {
            "fillpattern": {
             "fillmode": "overlay",
             "size": 10,
             "solidity": 0.2
            },
            "type": "scatter"
           }
          ],
          "scatter3d": [
           {
            "line": {
             "colorbar": {
              "outlinewidth": 0,
              "ticks": ""
             }
            },
            "marker": {
             "colorbar": {
              "outlinewidth": 0,
              "ticks": ""
             }
            },
            "type": "scatter3d"
           }
          ],
          "scattercarpet": [
           {
            "marker": {
             "colorbar": {
              "outlinewidth": 0,
              "ticks": ""
             }
            },
            "type": "scattercarpet"
           }
          ],
          "scattergeo": [
           {
            "marker": {
             "colorbar": {
              "outlinewidth": 0,
              "ticks": ""
             }
            },
            "type": "scattergeo"
           }
          ],
          "scattergl": [
           {
            "marker": {
             "colorbar": {
              "outlinewidth": 0,
              "ticks": ""
             }
            },
            "type": "scattergl"
           }
          ],
          "scattermapbox": [
           {
            "marker": {
             "colorbar": {
              "outlinewidth": 0,
              "ticks": ""
             }
            },
            "type": "scattermapbox"
           }
          ],
          "scatterpolar": [
           {
            "marker": {
             "colorbar": {
              "outlinewidth": 0,
              "ticks": ""
             }
            },
            "type": "scatterpolar"
           }
          ],
          "scatterpolargl": [
           {
            "marker": {
             "colorbar": {
              "outlinewidth": 0,
              "ticks": ""
             }
            },
            "type": "scatterpolargl"
           }
          ],
          "scatterternary": [
           {
            "marker": {
             "colorbar": {
              "outlinewidth": 0,
              "ticks": ""
             }
            },
            "type": "scatterternary"
           }
          ],
          "surface": [
           {
            "colorbar": {
             "outlinewidth": 0,
             "ticks": ""
            },
            "colorscale": [
             [
              0,
              "#0d0887"
             ],
             [
              0.1111111111111111,
              "#46039f"
             ],
             [
              0.2222222222222222,
              "#7201a8"
             ],
             [
              0.3333333333333333,
              "#9c179e"
             ],
             [
              0.4444444444444444,
              "#bd3786"
             ],
             [
              0.5555555555555556,
              "#d8576b"
             ],
             [
              0.6666666666666666,
              "#ed7953"
             ],
             [
              0.7777777777777778,
              "#fb9f3a"
             ],
             [
              0.8888888888888888,
              "#fdca26"
             ],
             [
              1,
              "#f0f921"
             ]
            ],
            "type": "surface"
           }
          ],
          "table": [
           {
            "cells": {
             "fill": {
              "color": "#EBF0F8"
             },
             "line": {
              "color": "white"
             }
            },
            "header": {
             "fill": {
              "color": "#C8D4E3"
             },
             "line": {
              "color": "white"
             }
            },
            "type": "table"
           }
          ]
         },
         "layout": {
          "annotationdefaults": {
           "arrowcolor": "#2a3f5f",
           "arrowhead": 0,
           "arrowwidth": 1
          },
          "autotypenumbers": "strict",
          "coloraxis": {
           "colorbar": {
            "outlinewidth": 0,
            "ticks": ""
           }
          },
          "colorscale": {
           "diverging": [
            [
             0,
             "#8e0152"
            ],
            [
             0.1,
             "#c51b7d"
            ],
            [
             0.2,
             "#de77ae"
            ],
            [
             0.3,
             "#f1b6da"
            ],
            [
             0.4,
             "#fde0ef"
            ],
            [
             0.5,
             "#f7f7f7"
            ],
            [
             0.6,
             "#e6f5d0"
            ],
            [
             0.7,
             "#b8e186"
            ],
            [
             0.8,
             "#7fbc41"
            ],
            [
             0.9,
             "#4d9221"
            ],
            [
             1,
             "#276419"
            ]
           ],
           "sequential": [
            [
             0,
             "#0d0887"
            ],
            [
             0.1111111111111111,
             "#46039f"
            ],
            [
             0.2222222222222222,
             "#7201a8"
            ],
            [
             0.3333333333333333,
             "#9c179e"
            ],
            [
             0.4444444444444444,
             "#bd3786"
            ],
            [
             0.5555555555555556,
             "#d8576b"
            ],
            [
             0.6666666666666666,
             "#ed7953"
            ],
            [
             0.7777777777777778,
             "#fb9f3a"
            ],
            [
             0.8888888888888888,
             "#fdca26"
            ],
            [
             1,
             "#f0f921"
            ]
           ],
           "sequentialminus": [
            [
             0,
             "#0d0887"
            ],
            [
             0.1111111111111111,
             "#46039f"
            ],
            [
             0.2222222222222222,
             "#7201a8"
            ],
            [
             0.3333333333333333,
             "#9c179e"
            ],
            [
             0.4444444444444444,
             "#bd3786"
            ],
            [
             0.5555555555555556,
             "#d8576b"
            ],
            [
             0.6666666666666666,
             "#ed7953"
            ],
            [
             0.7777777777777778,
             "#fb9f3a"
            ],
            [
             0.8888888888888888,
             "#fdca26"
            ],
            [
             1,
             "#f0f921"
            ]
           ]
          },
          "colorway": [
           "#636efa",
           "#EF553B",
           "#00cc96",
           "#ab63fa",
           "#FFA15A",
           "#19d3f3",
           "#FF6692",
           "#B6E880",
           "#FF97FF",
           "#FECB52"
          ],
          "font": {
           "color": "#2a3f5f"
          },
          "geo": {
           "bgcolor": "white",
           "lakecolor": "white",
           "landcolor": "#E5ECF6",
           "showlakes": true,
           "showland": true,
           "subunitcolor": "white"
          },
          "hoverlabel": {
           "align": "left"
          },
          "hovermode": "closest",
          "mapbox": {
           "style": "light"
          },
          "paper_bgcolor": "white",
          "plot_bgcolor": "#E5ECF6",
          "polar": {
           "angularaxis": {
            "gridcolor": "white",
            "linecolor": "white",
            "ticks": ""
           },
           "bgcolor": "#E5ECF6",
           "radialaxis": {
            "gridcolor": "white",
            "linecolor": "white",
            "ticks": ""
           }
          },
          "scene": {
           "xaxis": {
            "backgroundcolor": "#E5ECF6",
            "gridcolor": "white",
            "gridwidth": 2,
            "linecolor": "white",
            "showbackground": true,
            "ticks": "",
            "zerolinecolor": "white"
           },
           "yaxis": {
            "backgroundcolor": "#E5ECF6",
            "gridcolor": "white",
            "gridwidth": 2,
            "linecolor": "white",
            "showbackground": true,
            "ticks": "",
            "zerolinecolor": "white"
           },
           "zaxis": {
            "backgroundcolor": "#E5ECF6",
            "gridcolor": "white",
            "gridwidth": 2,
            "linecolor": "white",
            "showbackground": true,
            "ticks": "",
            "zerolinecolor": "white"
           }
          },
          "shapedefaults": {
           "line": {
            "color": "#2a3f5f"
           }
          },
          "ternary": {
           "aaxis": {
            "gridcolor": "white",
            "linecolor": "white",
            "ticks": ""
           },
           "baxis": {
            "gridcolor": "white",
            "linecolor": "white",
            "ticks": ""
           },
           "bgcolor": "#E5ECF6",
           "caxis": {
            "gridcolor": "white",
            "linecolor": "white",
            "ticks": ""
           }
          },
          "title": {
           "x": 0.05
          },
          "xaxis": {
           "automargin": true,
           "gridcolor": "white",
           "linecolor": "white",
           "ticks": "",
           "title": {
            "standoff": 15
           },
           "zerolinecolor": "white",
           "zerolinewidth": 2
          },
          "yaxis": {
           "automargin": true,
           "gridcolor": "white",
           "linecolor": "white",
           "ticks": "",
           "title": {
            "standoff": 15
           },
           "zerolinecolor": "white",
           "zerolinewidth": 2
          }
         }
        },
        "xaxis": {
         "anchor": "y",
         "domain": [
          0,
          1
         ],
         "title": {
          "text": "candle_date_time_kst"
         }
        },
        "yaxis": {
         "anchor": "x",
         "domain": [
          0,
          1
         ],
         "title": {
          "text": "candle_acc_trade_price"
         }
        }
       }
      },
      "text/html": [
       "<div>                            <div id=\"b2c40546-b04d-412d-8290-0fe59148cedd\" class=\"plotly-graph-div\" style=\"height:525px; width:100%;\"></div>            <script type=\"text/javascript\">                require([\"plotly\"], function(Plotly) {                    window.PLOTLYENV=window.PLOTLYENV || {};                                    if (document.getElementById(\"b2c40546-b04d-412d-8290-0fe59148cedd\")) {                    Plotly.newPlot(                        \"b2c40546-b04d-412d-8290-0fe59148cedd\",                        [{\"hovertemplate\":\"market=BTC<br>candle_date_time_kst=%{x}<br>candle_acc_trade_price=%{y}<extra></extra>\",\"legendgroup\":\"BTC\",\"marker\":{\"color\":\"#636efa\",\"symbol\":\"circle\"},\"mode\":\"markers\",\"name\":\"BTC\",\"orientation\":\"v\",\"showlegend\":true,\"x\":[\"2022-07-04\",\"2022-07-03\",\"2022-07-02\",\"2022-07-01\",\"2022-06-30\",\"2022-06-29\",\"2022-06-28\",\"2022-06-27\",\"2022-06-26\",\"2022-06-25\",\"2022-06-24\",\"2022-06-23\",\"2022-06-22\",\"2022-06-21\",\"2022-06-20\",\"2022-06-19\",\"2022-06-18\",\"2022-06-17\",\"2022-06-16\",\"2022-06-15\",\"2022-06-14\",\"2022-06-13\",\"2022-06-12\",\"2022-06-11\",\"2022-06-10\",\"2022-06-09\",\"2022-06-08\",\"2022-06-07\",\"2022-06-06\",\"2022-06-05\",\"2022-06-04\",\"2022-06-03\",\"2022-06-02\",\"2022-06-01\",\"2022-05-31\",\"2022-05-30\",\"2022-05-29\",\"2022-05-28\",\"2022-05-27\",\"2022-05-26\",\"2022-05-25\",\"2022-05-24\",\"2022-05-23\",\"2022-05-22\",\"2022-05-21\",\"2022-05-20\",\"2022-05-19\",\"2022-05-18\",\"2022-05-17\",\"2022-05-16\",\"2022-05-15\",\"2022-05-14\",\"2022-05-13\",\"2022-05-12\",\"2022-05-11\",\"2022-05-10\",\"2022-05-09\",\"2022-05-08\",\"2022-05-07\",\"2022-05-06\",\"2022-05-05\",\"2022-05-04\",\"2022-05-03\",\"2022-05-02\",\"2022-05-01\",\"2022-04-30\",\"2022-04-29\",\"2022-04-28\",\"2022-04-27\",\"2022-04-26\",\"2022-04-25\",\"2022-04-24\",\"2022-04-23\",\"2022-04-22\",\"2022-04-21\",\"2022-04-20\",\"2022-04-19\",\"2022-04-18\",\"2022-04-17\",\"2022-04-16\",\"2022-04-15\",\"2022-04-14\",\"2022-04-13\",\"2022-04-12\",\"2022-04-11\",\"2022-04-10\",\"2022-04-09\",\"2022-04-08\",\"2022-04-07\",\"2022-04-06\",\"2022-04-05\",\"2022-04-04\",\"2022-04-03\",\"2022-04-02\",\"2022-04-01\",\"2022-03-31\",\"2022-03-30\",\"2022-03-29\",\"2022-03-28\",\"2022-03-27\",\"2022-03-26\",\"2022-03-25\",\"2022-03-24\",\"2022-03-23\",\"2022-03-22\",\"2022-03-21\",\"2022-03-20\",\"2022-03-19\",\"2022-03-18\",\"2022-03-17\",\"2022-03-16\",\"2022-03-15\",\"2022-03-14\",\"2022-03-13\",\"2022-03-12\",\"2022-03-11\",\"2022-03-10\",\"2022-03-09\",\"2022-03-08\",\"2022-03-07\",\"2022-03-06\",\"2022-03-05\",\"2022-03-04\",\"2022-03-03\",\"2022-03-02\",\"2022-03-01\",\"2022-02-28\",\"2022-02-27\",\"2022-02-26\",\"2022-02-25\",\"2022-02-24\",\"2022-02-23\",\"2022-02-22\",\"2022-02-21\",\"2022-02-20\",\"2022-02-19\",\"2022-02-18\",\"2022-02-17\",\"2022-02-16\",\"2022-02-15\",\"2022-02-14\",\"2022-02-13\",\"2022-02-12\",\"2022-02-11\",\"2022-02-10\",\"2022-02-09\",\"2022-02-08\",\"2022-02-07\",\"2022-02-06\",\"2022-02-05\",\"2022-02-04\",\"2022-02-03\",\"2022-02-02\",\"2022-02-01\",\"2022-01-31\",\"2022-01-30\",\"2022-01-29\",\"2022-01-28\",\"2022-01-27\",\"2022-01-26\",\"2022-01-25\",\"2022-01-24\",\"2022-01-23\",\"2022-01-22\",\"2022-01-21\",\"2022-01-20\",\"2022-01-19\",\"2022-01-18\",\"2022-01-17\",\"2022-01-16\",\"2022-01-15\",\"2022-01-14\",\"2022-01-13\",\"2022-01-12\",\"2022-01-11\",\"2022-01-10\",\"2022-01-09\",\"2022-01-08\",\"2022-01-07\",\"2022-01-06\",\"2022-01-05\",\"2022-01-04\",\"2022-01-03\",\"2022-01-02\",\"2022-01-01\",\"2021-12-31\",\"2021-12-30\",\"2021-12-29\",\"2021-12-28\",\"2021-12-27\",\"2021-12-26\",\"2021-12-25\",\"2021-12-24\",\"2021-12-23\",\"2021-12-22\",\"2021-12-21\",\"2021-12-20\",\"2021-12-19\",\"2021-12-18\",\"2021-12-17\"],\"xaxis\":\"x\",\"y\":[32560364921.99215,101635661159.56302,91226992257.78572,276372951294.9279,292542947043.12994,243859022578.08624,145708709679.6057,157291687583.22983,151630980878.5098,172243806128.06155,367521476381.12665,313542284234.99506,209447520551.6528,278469858805.06476,329953094202.11145,381029060910.1559,433108212679.0678,224342676396.38416,305925822885.83704,559000697514.428,561772913986.8145,668025770993.4442,219859784066.75397,167988296425.94037,168289151399.8374,113235233678.05505,199350471018.1796,303250155093.7022,172041848037.47153,49985999685.45281,53025106657.57351,137238868186.18251,110236787826.56088,245744047452.18063,256308491503.18982,211274731621.14108,63691223300.73744,71361163243.76425,162036860622.9899,195505091618.82016,147137682970.50873,142910723625.20737,190334640537.41727,128577550743.85239,106779412306.24332,225269617988.79233,242974605150.87173,243086612601.30344,210535941107.40146,224370405726.56384,170672551261.52905,217008793733.08148,498373949608.00916,911518039693.9376,1328765297059.545,501966820215.2406,356443725580.1086,186618124663.34042,80649441505.52292,191194804926.25415,304844986974.6226,194729783161.73004,135666989657.8908,129931613441.11748,141630925351.43323,103247900534.68933,142344434036.42245,159373732264.9677,136961777571.22733,207571264467.196,208005727805.6377,82647094726.2008,94878858638.68283,166518417330.12607,235868137067.6446,144036924649.38208,144033858428.94022,197866042963.1782,82769167197.80688,65131786307.86627,113924498278.0374,165648379824.71838,169540794582.5969,238179333127.62677,277983876671.78253,121721077484.73825,119522891228.52135,276079923582.83856,287115749510.7967,371677583452.9044,262969075152.23587,333784681103.21405,216198441541.75647,219803855319.6424,373769566768.1517,290425399182.101,234529415255.21085,378907479327.83264,361568618614.51605,292027317612.86926,179588672016.24872,303815424407.88043,382789038401.1927,273158203021.73694,433481110248.89,221912265997.20813,205914406605.1418,255391353100.587,319119972074.8756,323349085571.79724,628482964168.743,271852039162.99026,306727422441.91864,198434298602.69345,131418547496.89621,345465440083.8288,494328772058.5832,479357538041.31586,229182242873.09155,327977721102.5802,231568105039.18558,238916280699.47223,411649625542.0779,298403705749.9444,410042464654.7711,580017405666.1804,510345453158.8512,278259630244.21466,211661931303.1995,367692769588.9642,677428293445.7881,294355073826.30664,249720926168.73676,367962097771.5558,261930452601.5744,141529609090.52924,272064780977.97128,392341519114.4038,244556760070.18353,254795069714.37585,218529350233.54776,141796428812.6518,241620206211.6828,321480090359.74054,488428411754.56024,266603510170.62662,578845327237.1124,337553682455.38916,206661446937.4289,285441834169.823,355674962643.43884,148839125406.1171,219281053640.67502,187434977994.1383,211275432696.9253,135027081461.63245,186286304051.22614,254762670308.80963,335012964798.7789,465503093047.90515,308479518001.6424,468862727172.81586,269289810382.9316,542096966238.20294,614895368490.7034,350489190147.2465,243349644791.62622,197997204276.519,160683769882.9794,111417440453.1287,135657742666.70593,261086090962.35144,289837178996.5849,296492711681.8847,298676109322.26056,402570820215.65857,174869889802.57343,215423691964.91058,389528045895.49457,339630997052.0713,515276777193.21295,342512644132.83624,360063461140.01263,205291308789.9393,151064521830.33255,285728205436.0753,315378745535.8602,465098505559.6989,436619790606.5887,325512198487.4511,265030001351.93692,230679684124.69763,325690062280.693,389081707456.7215,347172202153.7813,394352689438.5196,385840635557.5586,349830141080.10315,318308284131.8217,529378851668.7005],\"yaxis\":\"y\",\"type\":\"scatter\"},{\"hovertemplate\":\"market=ETH<br>candle_date_time_kst=%{x}<br>candle_acc_trade_price=%{y}<extra></extra>\",\"legendgroup\":\"ETH\",\"marker\":{\"color\":\"#EF553B\",\"symbol\":\"circle\"},\"mode\":\"markers\",\"name\":\"ETH\",\"orientation\":\"v\",\"showlegend\":true,\"x\":[\"2022-07-04\",\"2022-07-03\",\"2022-07-02\",\"2022-07-01\",\"2022-06-30\",\"2022-06-29\",\"2022-06-28\",\"2022-06-27\",\"2022-06-26\",\"2022-06-25\",\"2022-06-24\",\"2022-06-23\",\"2022-06-22\",\"2022-06-21\",\"2022-06-20\",\"2022-06-19\",\"2022-06-18\",\"2022-06-17\",\"2022-06-16\",\"2022-06-15\",\"2022-06-14\",\"2022-06-13\",\"2022-06-12\",\"2022-06-11\",\"2022-06-10\",\"2022-06-09\",\"2022-06-08\",\"2022-06-07\",\"2022-06-06\",\"2022-06-05\",\"2022-06-04\",\"2022-06-03\",\"2022-06-02\",\"2022-06-01\",\"2022-05-31\",\"2022-05-30\",\"2022-05-29\",\"2022-05-28\",\"2022-05-27\",\"2022-05-26\",\"2022-05-25\",\"2022-05-24\",\"2022-05-23\",\"2022-05-22\",\"2022-05-21\",\"2022-05-20\",\"2022-05-19\",\"2022-05-18\",\"2022-05-17\",\"2022-05-16\",\"2022-05-15\",\"2022-05-14\",\"2022-05-13\",\"2022-05-12\",\"2022-05-11\",\"2022-05-10\",\"2022-05-09\",\"2022-05-08\",\"2022-05-07\",\"2022-05-06\",\"2022-05-05\",\"2022-05-04\",\"2022-05-03\",\"2022-05-02\",\"2022-05-01\",\"2022-04-30\",\"2022-04-29\",\"2022-04-28\",\"2022-04-27\",\"2022-04-26\",\"2022-04-25\",\"2022-04-24\",\"2022-04-23\",\"2022-04-22\",\"2022-04-21\",\"2022-04-20\",\"2022-04-19\",\"2022-04-18\",\"2022-04-17\",\"2022-04-16\",\"2022-04-15\",\"2022-04-14\",\"2022-04-13\",\"2022-04-12\",\"2022-04-11\",\"2022-04-10\",\"2022-04-09\",\"2022-04-08\",\"2022-04-07\",\"2022-04-06\",\"2022-04-05\",\"2022-04-04\",\"2022-04-03\",\"2022-04-02\",\"2022-04-01\",\"2022-03-31\",\"2022-03-30\",\"2022-03-29\",\"2022-03-28\",\"2022-03-27\",\"2022-03-26\",\"2022-03-25\",\"2022-03-24\",\"2022-03-23\",\"2022-03-22\",\"2022-03-21\",\"2022-03-20\",\"2022-03-19\",\"2022-03-18\",\"2022-03-17\",\"2022-03-16\",\"2022-03-15\",\"2022-03-14\",\"2022-03-13\",\"2022-03-12\",\"2022-03-11\",\"2022-03-10\",\"2022-03-09\",\"2022-03-08\",\"2022-03-07\",\"2022-03-06\",\"2022-03-05\",\"2022-03-04\",\"2022-03-03\",\"2022-03-02\",\"2022-03-01\",\"2022-02-28\",\"2022-02-27\",\"2022-02-26\",\"2022-02-25\",\"2022-02-24\",\"2022-02-23\",\"2022-02-22\",\"2022-02-21\",\"2022-02-20\",\"2022-02-19\",\"2022-02-18\",\"2022-02-17\",\"2022-02-16\",\"2022-02-15\",\"2022-02-14\",\"2022-02-13\",\"2022-02-12\",\"2022-02-11\",\"2022-02-10\",\"2022-02-09\",\"2022-02-08\",\"2022-02-07\",\"2022-02-06\",\"2022-02-05\",\"2022-02-04\",\"2022-02-03\",\"2022-02-02\",\"2022-02-01\",\"2022-01-31\",\"2022-01-30\",\"2022-01-29\",\"2022-01-28\",\"2022-01-27\",\"2022-01-26\",\"2022-01-25\",\"2022-01-24\",\"2022-01-23\",\"2022-01-22\",\"2022-01-21\",\"2022-01-20\",\"2022-01-19\",\"2022-01-18\",\"2022-01-17\",\"2022-01-16\",\"2022-01-15\",\"2022-01-14\",\"2022-01-13\",\"2022-01-12\",\"2022-01-11\",\"2022-01-10\",\"2022-01-09\",\"2022-01-08\",\"2022-01-07\",\"2022-01-06\",\"2022-01-05\",\"2022-01-04\",\"2022-01-03\",\"2022-01-02\",\"2022-01-01\",\"2021-12-31\",\"2021-12-30\",\"2021-12-29\",\"2021-12-28\",\"2021-12-27\",\"2021-12-26\",\"2021-12-25\",\"2021-12-24\",\"2021-12-23\",\"2021-12-22\",\"2021-12-21\",\"2021-12-20\",\"2021-12-19\",\"2021-12-18\",\"2021-12-17\"],\"xaxis\":\"x\",\"y\":[16949260626.400225,53328185296.65972,58517932849.08219,142208338852.03918,138513409990.66605,110798956613.25607,119332715640.22128,115030117044.86818,121910899748.95718,122836582762.7896,176671084620.9381,133490849353.95209,176491955219.74014,249535652186.18726,321114390295.92267,377143596577.1303,350980975632.78906,192792498590.64236,337115687972.48676,685409940844.5015,456264295698.04254,589404696551.2993,203764315913.7205,257906649957.03098,117325010312.92293,60306704016.1736,79603110028.30067,159530796095.0496,95098952320.3937,39383694187.69209,38552923839.52855,95528779262.53906,95581518385.2862,131775092489.48619,122184077567.29393,128170068120.8211,56988946003.92613,81432223441.44817,179097885044.6717,226257512123.19876,84111796331.72502,92251527003.25043,104983242210.2991,61023064019.73132,48999660186.0579,110917000433.67976,135070332097.94434,154048479621.01157,134759529542.21405,151401701766.46097,114723383762.19476,158140676751.03912,332745981020.5682,546890751956.0728,605144687161.0381,280700299716.4725,291222948236.28815,109684182917.6429,54460035759.33753,124285381802.65521,162081920675.23267,118580165966.56248,83070066416.85416,103782174253.9549,84345421231.71576,63781250319.53114,98394104872.86331,99426527734.26614,88548828688.10548,144903248081.44562,154908103038.55774,55135258619.85614,49989089445.94153,96199345300.47429,131807019995.14445,105442875138.01099,130765819449.80804,159157936362.1561,61860932625.41913,54473789379.96599,85013215828.36325,159685630375.86835,152039281101.7627,240017444346.27057,269996348769.3111,66122079666.73279,75482588916.85144,170766363101.72488,186092447943.1356,296397301859.45416,133239801859.97012,148307388573.42432,119391029297.79343,149388443461.36862,198586606924.4001,177715321984.13095,169837984166.8185,231788267856.3865,203023839277.12424,120637677099.78406,77593715867.82774,148117654372.2317,174706418801.67456,156345895926.0959,192362308191.3957,132538152305.66235,130958880907.52402,133075391240.04784,178981052020.64108,125530163693.73878,231232664921.51593,126568306321.11546,127528302108.98364,92001125221.55122,70154627051.1325,158773941843.87628,182747914965.30084,243172845750.28616,151175788094.8742,210835931961.5965,106890771172.42073,110955465853.63278,231612320898.92032,212926176063.0734,256465656765.47073,356786387690.92175,366129838738.6108,292365546391.07306,185628570667.23386,267610331354.92822,498896271013.6363,201245256452.72794,234050844724.40714,289538928195.02234,184000675861.44193,140513230736.3024,231974618110.2473,263165144193.0863,174922696286.3192,193771414573.97656,149616288812.71115,90949768410.69162,168526786647.80826,233143894230.696,300580661371.73676,153630183448.02805,290004025020.64594,237992122737.6449,169875741804.7713,234372047716.52576,324433068312.7668,177574843051.52408,215041812476.35135,176423501970.77878,180499880511.92792,137306271507.63676,215973892287.4941,262664365463.8354,321600946482.8601,480520994619.42725,254167276469.5026,522767948650.5325,210160724336.96478,453478133769.0801,426709244589.57886,151834231759.27908,113953499378.775,116678297425.8401,108322794278.55981,72977433217.40543,68630103142.41846,122067486853.21088,156194495550.72705,190387598398.24484,214232366219.36185,274651654425.7455,127559508348.72668,218185653876.883,372664159339.54175,274750212400.4113,218993948792.92917,136950069110.25677,115708750070.13058,82064170253.96738,80280456174.97699,136926663616.63087,160542691334.32092,206638930993.19547,226682654962.46594,130793474415.23866,110686382182.91162,118703904022.24226,199532555550.88364,253148731225.16714,183801200817.07352,239450815721.82962,255754689727.83612,172399557777.89304,179911471864.84314,335791783208.3432],\"yaxis\":\"y\",\"type\":\"scatter\"},{\"hovertemplate\":\"market=XRP<br>candle_date_time_kst=%{x}<br>candle_acc_trade_price=%{y}<extra></extra>\",\"legendgroup\":\"XRP\",\"marker\":{\"color\":\"#00cc96\",\"symbol\":\"circle\"},\"mode\":\"markers\",\"name\":\"XRP\",\"orientation\":\"v\",\"showlegend\":true,\"x\":[\"2022-07-04\",\"2022-07-03\",\"2022-07-02\",\"2022-07-01\",\"2022-06-30\",\"2022-06-29\",\"2022-06-28\",\"2022-06-27\",\"2022-06-26\",\"2022-06-25\",\"2022-06-24\",\"2022-06-23\",\"2022-06-22\",\"2022-06-21\",\"2022-06-20\",\"2022-06-19\",\"2022-06-18\",\"2022-06-17\",\"2022-06-16\",\"2022-06-15\",\"2022-06-14\",\"2022-06-13\",\"2022-06-12\",\"2022-06-11\",\"2022-06-10\",\"2022-06-09\",\"2022-06-08\",\"2022-06-07\",\"2022-06-06\",\"2022-06-05\",\"2022-06-04\",\"2022-06-03\",\"2022-06-02\",\"2022-06-01\",\"2022-05-31\",\"2022-05-30\",\"2022-05-29\",\"2022-05-28\",\"2022-05-27\",\"2022-05-26\",\"2022-05-25\",\"2022-05-24\",\"2022-05-23\",\"2022-05-22\",\"2022-05-21\",\"2022-05-20\",\"2022-05-19\",\"2022-05-18\",\"2022-05-17\",\"2022-05-16\",\"2022-05-15\",\"2022-05-14\",\"2022-05-13\",\"2022-05-12\",\"2022-05-11\",\"2022-05-10\",\"2022-05-09\",\"2022-05-08\",\"2022-05-07\",\"2022-05-06\",\"2022-05-05\",\"2022-05-04\",\"2022-05-03\",\"2022-05-02\",\"2022-05-01\",\"2022-04-30\",\"2022-04-29\",\"2022-04-28\",\"2022-04-27\",\"2022-04-26\",\"2022-04-25\",\"2022-04-24\",\"2022-04-23\",\"2022-04-22\",\"2022-04-21\",\"2022-04-20\",\"2022-04-19\",\"2022-04-18\",\"2022-04-17\",\"2022-04-16\",\"2022-04-15\",\"2022-04-14\",\"2022-04-13\",\"2022-04-12\",\"2022-04-11\",\"2022-04-10\",\"2022-04-09\",\"2022-04-08\",\"2022-04-07\",\"2022-04-06\",\"2022-04-05\",\"2022-04-04\",\"2022-04-03\",\"2022-04-02\",\"2022-04-01\",\"2022-03-31\",\"2022-03-30\",\"2022-03-29\",\"2022-03-28\",\"2022-03-27\",\"2022-03-26\",\"2022-03-25\",\"2022-03-24\",\"2022-03-23\",\"2022-03-22\",\"2022-03-21\",\"2022-03-20\",\"2022-03-19\",\"2022-03-18\",\"2022-03-17\",\"2022-03-16\",\"2022-03-15\",\"2022-03-14\",\"2022-03-13\",\"2022-03-12\",\"2022-03-11\",\"2022-03-10\",\"2022-03-09\",\"2022-03-08\",\"2022-03-07\",\"2022-03-06\",\"2022-03-05\",\"2022-03-04\",\"2022-03-03\",\"2022-03-02\",\"2022-03-01\",\"2022-02-28\",\"2022-02-27\",\"2022-02-26\",\"2022-02-25\",\"2022-02-24\",\"2022-02-23\",\"2022-02-22\",\"2022-02-21\",\"2022-02-20\",\"2022-02-19\",\"2022-02-18\",\"2022-02-17\",\"2022-02-16\",\"2022-02-15\",\"2022-02-14\",\"2022-02-13\",\"2022-02-12\",\"2022-02-11\",\"2022-02-10\",\"2022-02-09\",\"2022-02-08\",\"2022-02-07\",\"2022-02-06\",\"2022-02-05\",\"2022-02-04\",\"2022-02-03\",\"2022-02-02\",\"2022-02-01\",\"2022-01-31\",\"2022-01-30\",\"2022-01-29\",\"2022-01-28\",\"2022-01-27\",\"2022-01-26\",\"2022-01-25\",\"2022-01-24\",\"2022-01-23\",\"2022-01-22\",\"2022-01-21\",\"2022-01-20\",\"2022-01-19\",\"2022-01-18\",\"2022-01-17\",\"2022-01-16\",\"2022-01-15\",\"2022-01-14\",\"2022-01-13\",\"2022-01-12\",\"2022-01-11\",\"2022-01-10\",\"2022-01-09\",\"2022-01-08\",\"2022-01-07\",\"2022-01-06\",\"2022-01-05\",\"2022-01-04\",\"2022-01-03\",\"2022-01-02\",\"2022-01-01\",\"2021-12-31\",\"2021-12-30\",\"2021-12-29\",\"2021-12-28\",\"2021-12-27\",\"2021-12-26\",\"2021-12-25\",\"2021-12-24\",\"2021-12-23\",\"2021-12-22\",\"2021-12-21\",\"2021-12-20\",\"2021-12-19\",\"2021-12-18\",\"2021-12-17\"],\"xaxis\":\"x\",\"y\":[17952779608.66211,55423909019.378174,51795591806.28787,123976327101.13673,149955135975.70847,111913035436.88953,107731147718.28738,125201856030.81633,104813172418.808,120404236787.23802,400215233848.78235,97351875069.15227,114435117923.49579,155810395516.98642,141647814886.57895,139537402655.42502,168807390840.41718,158558399754.13806,167958239507.9303,260770865335.10413,265920488998.25845,346381409638.04205,160916230708.26376,134529586394.5019,152497948941.77222,54383087100.18015,95798807913.79951,165666801156.43936,134653249303.68196,68262181547.87901,53478795161.23426,111015308307.42941,100192974874.59106,157845572084.0139,243373517517.70932,160895751199.9342,66257436328.63484,65773256311.46037,156962532479.15216,185335454523.56677,124783454379.8864,140808442571.0541,158707345383.13745,82117771780.6877,77159191705.9124,199084884243.55713,183784618339.52377,169453550527.1787,166670732031.8651,196105925619.1499,161467697049.9245,280963055740.2367,497964454949.609,738772862520.4598,800427016936.0145,427084432537.4566,423615874235.7359,132159095176.38274,92292163413.01187,166834076944.9269,218531963424.04623,167593571708.8226,109256712602.921,150276338300.01096,181408192649.41238,153219271080.69934,197215114480.42035,134978017347.25623,158074100953.4661,262159709829.7936,314069036130.8506,110207541265.34691,104532595284.71812,161461964247.85394,185813235162.4106,150299645613.78598,148848740326.4479,212643651287.89282,122974120651.20747,179729821767.00513,543605786688.8827,173347336564.6881,145901556033.10263,221904909433.71057,290419033090.3278,79462752994.10667,77892919768.62392,172426280654.13266,186254047892.45526,342088382238.70544,158355369260.35248,184308542950.08206,122820749724.06537,152698922651.1927,214718034482.9577,273176849865.06094,189106226819.0195,213921188654.91968,312254899038.59094,145252861058.02448,106950352552.55397,139180696415.07376,212954770241.05908,243491910584.54114,259078353372.39758,273754820236.44757,170888228466.01675,324321030373.9165,216293834403.271,212451324976.24985,335509022651.978,187814375166.16754,273251695202.2418,313922161314.18835,586215107045.2539,506265894539.59424,359033784142.3827,338856447581.85504,212194691852.35236,445192777244.2818,249939326437.96188,365627563388.3441,314423032210.1524,337510332065.96204,300643473265.0652,501786400360.7977,468299688360.8241,420618651168.62164,436959278622.0872,481301878261.53503,766331022490.1926,376330946169.5381,488011120965.55865,511298948921.77576,388915277280.76105,513699297160.08606,400807355850.1188,402357759402.9746,239480845005.85693,288922148622.58673,345971127887.15826,266198936512.8911,537409407283.6865,461618963706.2883,382661628122.01117,473972851894.5428,1113812985185.1118,831715955341.7217,166604646971.0715,308461745160.88293,199437690294.58203,106801694496.7523,145798355770.2185,110673623485.62292,119688046917.75543,95784118390.01625,139828193157.68518,168440332967.64423,217034448198.2966,341951632445.1496,196908530740.47348,333697611754.5345,191116061314.79578,468208867091.1892,430080314458.20593,156972574111.7591,152675941191.35587,161202042017.5008,107567108975.19893,78493103581.82066,96416432064.5495,190513350485.67996,186769535541.6926,231545367337.89993,260408963725.67783,295790839577.4903,105984168651.42944,156659251364.83942,278598925808.79956,287639153837.5005,289636847889.2179,145661269994.75644,143826629764.29172,143840673150.43076,97280886541.82216,165653430127.74683,191765338263.903,246097664700.68433,272513518599.32144,206192143726.29437,123984577540.46074,176319056320.35248,481393871455.64386,432703576834.0063,345252659064.4317,413237765677.8622,637969331964.1031,152216184635.1163,139281181039.82748,250206084897.09152],\"yaxis\":\"y\",\"type\":\"scatter\"}],                        {\"legend\":{\"title\":{\"text\":\"market\"},\"tracegroupgap\":0},\"margin\":{\"t\":60},\"template\":{\"data\":{\"barpolar\":[{\"marker\":{\"line\":{\"color\":\"#E5ECF6\",\"width\":0.5},\"pattern\":{\"fillmode\":\"overlay\",\"size\":10,\"solidity\":0.2}},\"type\":\"barpolar\"}],\"bar\":[{\"error_x\":{\"color\":\"#2a3f5f\"},\"error_y\":{\"color\":\"#2a3f5f\"},\"marker\":{\"line\":{\"color\":\"#E5ECF6\",\"width\":0.5},\"pattern\":{\"fillmode\":\"overlay\",\"size\":10,\"solidity\":0.2}},\"type\":\"bar\"}],\"carpet\":[{\"aaxis\":{\"endlinecolor\":\"#2a3f5f\",\"gridcolor\":\"white\",\"linecolor\":\"white\",\"minorgridcolor\":\"white\",\"startlinecolor\":\"#2a3f5f\"},\"baxis\":{\"endlinecolor\":\"#2a3f5f\",\"gridcolor\":\"white\",\"linecolor\":\"white\",\"minorgridcolor\":\"white\",\"startlinecolor\":\"#2a3f5f\"},\"type\":\"carpet\"}],\"choropleth\":[{\"colorbar\":{\"outlinewidth\":0,\"ticks\":\"\"},\"type\":\"choropleth\"}],\"contourcarpet\":[{\"colorbar\":{\"outlinewidth\":0,\"ticks\":\"\"},\"type\":\"contourcarpet\"}],\"contour\":[{\"colorbar\":{\"outlinewidth\":0,\"ticks\":\"\"},\"colorscale\":[[0.0,\"#0d0887\"],[0.1111111111111111,\"#46039f\"],[0.2222222222222222,\"#7201a8\"],[0.3333333333333333,\"#9c179e\"],[0.4444444444444444,\"#bd3786\"],[0.5555555555555556,\"#d8576b\"],[0.6666666666666666,\"#ed7953\"],[0.7777777777777778,\"#fb9f3a\"],[0.8888888888888888,\"#fdca26\"],[1.0,\"#f0f921\"]],\"type\":\"contour\"}],\"heatmapgl\":[{\"colorbar\":{\"outlinewidth\":0,\"ticks\":\"\"},\"colorscale\":[[0.0,\"#0d0887\"],[0.1111111111111111,\"#46039f\"],[0.2222222222222222,\"#7201a8\"],[0.3333333333333333,\"#9c179e\"],[0.4444444444444444,\"#bd3786\"],[0.5555555555555556,\"#d8576b\"],[0.6666666666666666,\"#ed7953\"],[0.7777777777777778,\"#fb9f3a\"],[0.8888888888888888,\"#fdca26\"],[1.0,\"#f0f921\"]],\"type\":\"heatmapgl\"}],\"heatmap\":[{\"colorbar\":{\"outlinewidth\":0,\"ticks\":\"\"},\"colorscale\":[[0.0,\"#0d0887\"],[0.1111111111111111,\"#46039f\"],[0.2222222222222222,\"#7201a8\"],[0.3333333333333333,\"#9c179e\"],[0.4444444444444444,\"#bd3786\"],[0.5555555555555556,\"#d8576b\"],[0.6666666666666666,\"#ed7953\"],[0.7777777777777778,\"#fb9f3a\"],[0.8888888888888888,\"#fdca26\"],[1.0,\"#f0f921\"]],\"type\":\"heatmap\"}],\"histogram2dcontour\":[{\"colorbar\":{\"outlinewidth\":0,\"ticks\":\"\"},\"colorscale\":[[0.0,\"#0d0887\"],[0.1111111111111111,\"#46039f\"],[0.2222222222222222,\"#7201a8\"],[0.3333333333333333,\"#9c179e\"],[0.4444444444444444,\"#bd3786\"],[0.5555555555555556,\"#d8576b\"],[0.6666666666666666,\"#ed7953\"],[0.7777777777777778,\"#fb9f3a\"],[0.8888888888888888,\"#fdca26\"],[1.0,\"#f0f921\"]],\"type\":\"histogram2dcontour\"}],\"histogram2d\":[{\"colorbar\":{\"outlinewidth\":0,\"ticks\":\"\"},\"colorscale\":[[0.0,\"#0d0887\"],[0.1111111111111111,\"#46039f\"],[0.2222222222222222,\"#7201a8\"],[0.3333333333333333,\"#9c179e\"],[0.4444444444444444,\"#bd3786\"],[0.5555555555555556,\"#d8576b\"],[0.6666666666666666,\"#ed7953\"],[0.7777777777777778,\"#fb9f3a\"],[0.8888888888888888,\"#fdca26\"],[1.0,\"#f0f921\"]],\"type\":\"histogram2d\"}],\"histogram\":[{\"marker\":{\"pattern\":{\"fillmode\":\"overlay\",\"size\":10,\"solidity\":0.2}},\"type\":\"histogram\"}],\"mesh3d\":[{\"colorbar\":{\"outlinewidth\":0,\"ticks\":\"\"},\"type\":\"mesh3d\"}],\"parcoords\":[{\"line\":{\"colorbar\":{\"outlinewidth\":0,\"ticks\":\"\"}},\"type\":\"parcoords\"}],\"pie\":[{\"automargin\":true,\"type\":\"pie\"}],\"scatter3d\":[{\"line\":{\"colorbar\":{\"outlinewidth\":0,\"ticks\":\"\"}},\"marker\":{\"colorbar\":{\"outlinewidth\":0,\"ticks\":\"\"}},\"type\":\"scatter3d\"}],\"scattercarpet\":[{\"marker\":{\"colorbar\":{\"outlinewidth\":0,\"ticks\":\"\"}},\"type\":\"scattercarpet\"}],\"scattergeo\":[{\"marker\":{\"colorbar\":{\"outlinewidth\":0,\"ticks\":\"\"}},\"type\":\"scattergeo\"}],\"scattergl\":[{\"marker\":{\"colorbar\":{\"outlinewidth\":0,\"ticks\":\"\"}},\"type\":\"scattergl\"}],\"scattermapbox\":[{\"marker\":{\"colorbar\":{\"outlinewidth\":0,\"ticks\":\"\"}},\"type\":\"scattermapbox\"}],\"scatterpolargl\":[{\"marker\":{\"colorbar\":{\"outlinewidth\":0,\"ticks\":\"\"}},\"type\":\"scatterpolargl\"}],\"scatterpolar\":[{\"marker\":{\"colorbar\":{\"outlinewidth\":0,\"ticks\":\"\"}},\"type\":\"scatterpolar\"}],\"scatter\":[{\"fillpattern\":{\"fillmode\":\"overlay\",\"size\":10,\"solidity\":0.2},\"type\":\"scatter\"}],\"scatterternary\":[{\"marker\":{\"colorbar\":{\"outlinewidth\":0,\"ticks\":\"\"}},\"type\":\"scatterternary\"}],\"surface\":[{\"colorbar\":{\"outlinewidth\":0,\"ticks\":\"\"},\"colorscale\":[[0.0,\"#0d0887\"],[0.1111111111111111,\"#46039f\"],[0.2222222222222222,\"#7201a8\"],[0.3333333333333333,\"#9c179e\"],[0.4444444444444444,\"#bd3786\"],[0.5555555555555556,\"#d8576b\"],[0.6666666666666666,\"#ed7953\"],[0.7777777777777778,\"#fb9f3a\"],[0.8888888888888888,\"#fdca26\"],[1.0,\"#f0f921\"]],\"type\":\"surface\"}],\"table\":[{\"cells\":{\"fill\":{\"color\":\"#EBF0F8\"},\"line\":{\"color\":\"white\"}},\"header\":{\"fill\":{\"color\":\"#C8D4E3\"},\"line\":{\"color\":\"white\"}},\"type\":\"table\"}]},\"layout\":{\"annotationdefaults\":{\"arrowcolor\":\"#2a3f5f\",\"arrowhead\":0,\"arrowwidth\":1},\"autotypenumbers\":\"strict\",\"coloraxis\":{\"colorbar\":{\"outlinewidth\":0,\"ticks\":\"\"}},\"colorscale\":{\"diverging\":[[0,\"#8e0152\"],[0.1,\"#c51b7d\"],[0.2,\"#de77ae\"],[0.3,\"#f1b6da\"],[0.4,\"#fde0ef\"],[0.5,\"#f7f7f7\"],[0.6,\"#e6f5d0\"],[0.7,\"#b8e186\"],[0.8,\"#7fbc41\"],[0.9,\"#4d9221\"],[1,\"#276419\"]],\"sequential\":[[0.0,\"#0d0887\"],[0.1111111111111111,\"#46039f\"],[0.2222222222222222,\"#7201a8\"],[0.3333333333333333,\"#9c179e\"],[0.4444444444444444,\"#bd3786\"],[0.5555555555555556,\"#d8576b\"],[0.6666666666666666,\"#ed7953\"],[0.7777777777777778,\"#fb9f3a\"],[0.8888888888888888,\"#fdca26\"],[1.0,\"#f0f921\"]],\"sequentialminus\":[[0.0,\"#0d0887\"],[0.1111111111111111,\"#46039f\"],[0.2222222222222222,\"#7201a8\"],[0.3333333333333333,\"#9c179e\"],[0.4444444444444444,\"#bd3786\"],[0.5555555555555556,\"#d8576b\"],[0.6666666666666666,\"#ed7953\"],[0.7777777777777778,\"#fb9f3a\"],[0.8888888888888888,\"#fdca26\"],[1.0,\"#f0f921\"]]},\"colorway\":[\"#636efa\",\"#EF553B\",\"#00cc96\",\"#ab63fa\",\"#FFA15A\",\"#19d3f3\",\"#FF6692\",\"#B6E880\",\"#FF97FF\",\"#FECB52\"],\"font\":{\"color\":\"#2a3f5f\"},\"geo\":{\"bgcolor\":\"white\",\"lakecolor\":\"white\",\"landcolor\":\"#E5ECF6\",\"showlakes\":true,\"showland\":true,\"subunitcolor\":\"white\"},\"hoverlabel\":{\"align\":\"left\"},\"hovermode\":\"closest\",\"mapbox\":{\"style\":\"light\"},\"paper_bgcolor\":\"white\",\"plot_bgcolor\":\"#E5ECF6\",\"polar\":{\"angularaxis\":{\"gridcolor\":\"white\",\"linecolor\":\"white\",\"ticks\":\"\"},\"bgcolor\":\"#E5ECF6\",\"radialaxis\":{\"gridcolor\":\"white\",\"linecolor\":\"white\",\"ticks\":\"\"}},\"scene\":{\"xaxis\":{\"backgroundcolor\":\"#E5ECF6\",\"gridcolor\":\"white\",\"gridwidth\":2,\"linecolor\":\"white\",\"showbackground\":true,\"ticks\":\"\",\"zerolinecolor\":\"white\"},\"yaxis\":{\"backgroundcolor\":\"#E5ECF6\",\"gridcolor\":\"white\",\"gridwidth\":2,\"linecolor\":\"white\",\"showbackground\":true,\"ticks\":\"\",\"zerolinecolor\":\"white\"},\"zaxis\":{\"backgroundcolor\":\"#E5ECF6\",\"gridcolor\":\"white\",\"gridwidth\":2,\"linecolor\":\"white\",\"showbackground\":true,\"ticks\":\"\",\"zerolinecolor\":\"white\"}},\"shapedefaults\":{\"line\":{\"color\":\"#2a3f5f\"}},\"ternary\":{\"aaxis\":{\"gridcolor\":\"white\",\"linecolor\":\"white\",\"ticks\":\"\"},\"baxis\":{\"gridcolor\":\"white\",\"linecolor\":\"white\",\"ticks\":\"\"},\"bgcolor\":\"#E5ECF6\",\"caxis\":{\"gridcolor\":\"white\",\"linecolor\":\"white\",\"ticks\":\"\"}},\"title\":{\"x\":0.05},\"xaxis\":{\"automargin\":true,\"gridcolor\":\"white\",\"linecolor\":\"white\",\"ticks\":\"\",\"title\":{\"standoff\":15},\"zerolinecolor\":\"white\",\"zerolinewidth\":2},\"yaxis\":{\"automargin\":true,\"gridcolor\":\"white\",\"linecolor\":\"white\",\"ticks\":\"\",\"title\":{\"standoff\":15},\"zerolinecolor\":\"white\",\"zerolinewidth\":2}}},\"xaxis\":{\"anchor\":\"y\",\"domain\":[0.0,1.0],\"title\":{\"text\":\"candle_date_time_kst\"}},\"yaxis\":{\"anchor\":\"x\",\"domain\":[0.0,1.0],\"title\":{\"text\":\"candle_acc_trade_price\"}}},                        {\"responsive\": true}                    ).then(function(){\n",
       "                            \n",
       "var gd = document.getElementById('b2c40546-b04d-412d-8290-0fe59148cedd');\n",
       "var x = new MutationObserver(function (mutations, observer) {{\n",
       "        var display = window.getComputedStyle(gd).display;\n",
       "        if (!display || display === 'none') {{\n",
       "            console.log([gd, 'removed!']);\n",
       "            Plotly.purge(gd);\n",
       "            observer.disconnect();\n",
       "        }}\n",
       "}});\n",
       "\n",
       "// Listen for the removal of the full notebook cells\n",
       "var notebookContainer = gd.closest('#notebook-container');\n",
       "if (notebookContainer) {{\n",
       "    x.observe(notebookContainer, {childList: true});\n",
       "}}\n",
       "\n",
       "// Listen for the clearing of the current output cell\n",
       "var outputEl = gd.closest('.output');\n",
       "if (outputEl) {{\n",
       "    x.observe(outputEl, {childList: true});\n",
       "}}\n",
       "\n",
       "                        })                };                });            </script>        </div>"
      ]
     },
     "metadata": {},
     "output_type": "display_data"
    }
   ],
   "source": [
    "fig = px.scatter(df,\n",
    "                x = 'candle_date_time_kst',\n",
    "                y = 'candle_acc_trade_price',\n",
    "                color = 'market')\n",
    "plotly.offline.iplot(fig)"
   ]
  },
  {
   "cell_type": "code",
   "execution_count": null,
   "id": "58378dba",
   "metadata": {},
   "outputs": [],
   "source": []
  }
 ],
 "metadata": {
  "kernelspec": {
   "display_name": "Python 3 (ipykernel)",
   "language": "python",
   "name": "python3"
  },
  "language_info": {
   "codemirror_mode": {
    "name": "ipython",
    "version": 3
   },
   "file_extension": ".py",
   "mimetype": "text/x-python",
   "name": "python",
   "nbconvert_exporter": "python",
   "pygments_lexer": "ipython3",
   "version": "3.9.12"
  }
 },
 "nbformat": 4,
 "nbformat_minor": 5
}
