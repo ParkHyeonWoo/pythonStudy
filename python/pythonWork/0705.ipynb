{
 "cells": [
  {
   "cell_type": "code",
   "execution_count": 1,
   "id": "71c1310e",
   "metadata": {},
   "outputs": [],
   "source": [
    "import numpy as np\n",
    "import pandas as pd\n",
    "import my_utils as mu\n",
    "import requests\n",
    "import matplotlib.pyplot as plt"
   ]
  },
  {
   "cell_type": "code",
   "execution_count": 2,
   "id": "dcb0352a",
   "metadata": {},
   "outputs": [],
   "source": [
    "from matplotlib import font_manager, rc\n",
    "font_path = \"C:/Windows/Fonts/NGULIM.TTF\"\n",
    "font = font_manager.FontProperties(fname=font_path).get_name()\n",
    "rc('font', family=font)"
   ]
  },
  {
   "cell_type": "code",
   "execution_count": 3,
   "id": "9791bc8e",
   "metadata": {},
   "outputs": [
    {
     "name": "stdout",
     "output_type": "stream",
     "text": [
      "open!\n"
     ]
    },
    {
     "data": {
      "text/plain": [
       "'close!'"
      ]
     },
     "execution_count": 3,
     "metadata": {},
     "output_type": "execute_result"
    }
   ],
   "source": [
    "mu.db_open()\n",
    "df = mu.sql_execute('select * from match_stats')\n",
    "mu.db_close()"
   ]
  },
  {
   "cell_type": "code",
   "execution_count": null,
   "id": "4b9a1028",
   "metadata": {},
   "outputs": [],
   "source": [
    "tmp_df = df[['TEAMPOSITION','TOTALDAMAGEDEALTTOCHAMPIONS','TOTALDAMAGETAKEN','G_15']]"
   ]
  },
  {
   "cell_type": "code",
   "execution_count": null,
   "id": "313ac647",
   "metadata": {},
   "outputs": [],
   "source": [
    "tmp_df = tmp_df[~tmp_df.TEAMPOSITION.isna()]"
   ]
  },
  {
   "cell_type": "code",
   "execution_count": null,
   "id": "398930a1",
   "metadata": {},
   "outputs": [],
   "source": [
    "group_df = tmp_df.groupby('TEAMPOSITION').mean().round()"
   ]
  },
  {
   "cell_type": "code",
   "execution_count": null,
   "id": "60570616",
   "metadata": {},
   "outputs": [],
   "source": [
    "group_df.loc['JUNGLE']"
   ]
  },
  {
   "cell_type": "code",
   "execution_count": null,
   "id": "730c82b9",
   "metadata": {},
   "outputs": [],
   "source": [
    "plt.figure()\n",
    "plt.pie(group_df.loc['JUNGLE'], labels = ['딜량','받은 피해량',' 15분 골드'],shadow = False, \n",
    "        autopct = '%1.1f%%', explode = (0,0,0))\n",
    "plt.grid(True)\n",
    "plt.legend(loc = 4)\n",
    "plt.title('파이차트')"
   ]
  },
  {
   "cell_type": "code",
   "execution_count": null,
   "id": "65e9c3a3",
   "metadata": {},
   "outputs": [],
   "source": [
    "def calc_explod(x):\n",
    "    x = x.values.tolist()\n",
    "    max_idx = x.index(max(x))\n",
    "    lsn = [0 for i in range(len(x))]\n",
    "    lsn[max_idx] = 0.05\n",
    "    return lsn"
   ]
  },
  {
   "cell_type": "code",
   "execution_count": null,
   "id": "a8d23796",
   "metadata": {},
   "outputs": [],
   "source": [
    "plt.figure()\n",
    "plt.pie(group_df.loc['BOTTOM'], labels=['딜량','받은 피해량','15분 골드'], shadow=False, autopct='%1.1f%%',\\\n",
    "        explode=calc_explod(group_df.loc['BOTTOM']))\n",
    "plt.grid(True)\n",
    "plt.legend(loc=4)\n",
    "plt.title('파이 차트')"
   ]
  },
  {
   "cell_type": "code",
   "execution_count": null,
   "id": "351b18f3",
   "metadata": {},
   "outputs": [],
   "source": [
    "tmp_df"
   ]
  },
  {
   "cell_type": "code",
   "execution_count": null,
   "id": "5d62678e",
   "metadata": {},
   "outputs": [],
   "source": [
    "my_tmp = tmp_df[['TEAMPOSITION','TOTALDAMAGEDEALTTOCHAMPIONS']]"
   ]
  },
  {
   "cell_type": "code",
   "execution_count": null,
   "id": "54b31aad",
   "metadata": {},
   "outputs": [],
   "source": [
    "my_tmp.set_index('TEAMPOSITION',inplace = True)"
   ]
  },
  {
   "cell_type": "code",
   "execution_count": null,
   "id": "7238cf6e",
   "metadata": {},
   "outputs": [],
   "source": [
    "my_tmp"
   ]
  },
  {
   "cell_type": "code",
   "execution_count": null,
   "id": "226ce307",
   "metadata": {},
   "outputs": [],
   "source": [
    "plt.figure(figsize = (8, 6 ))\n",
    "plt.hist(my_tmp, bins = len(my_tmp), label = '전 라인', rwidth = 0.9)\n",
    "\n",
    "plt.xlabel ('딜량', size = 14)\n",
    "plt.ylabel ('빈도수', size = 14)\n",
    "plt.title('딜량 히스토그램')\n",
    "plt.legend(loc = 'upper right')\n",
    "plt.grid(axis = 'y', alpha = 0.3)"
   ]
  },
  {
   "cell_type": "code",
   "execution_count": null,
   "id": "6490ffff",
   "metadata": {},
   "outputs": [],
   "source": [
    "conda install seaborn"
   ]
  },
  {
   "cell_type": "code",
   "execution_count": null,
   "id": "ff4529c9",
   "metadata": {},
   "outputs": [],
   "source": [
    "import seaborn as sns"
   ]
  },
  {
   "cell_type": "code",
   "execution_count": null,
   "id": "04d092e3",
   "metadata": {},
   "outputs": [],
   "source": [
    "url = 'http://openapi.seoul.go.kr:8088/(인증키)/xml/GetParkInfo/1/5/'"
   ]
  },
  {
   "cell_type": "code",
   "execution_count": null,
   "id": "8848b14f",
   "metadata": {},
   "outputs": [],
   "source": [
    "df = mu.df_creater(url)"
   ]
  },
  {
   "cell_type": "code",
   "execution_count": null,
   "id": "29037218",
   "metadata": {
    "scrolled": false
   },
   "outputs": [],
   "source": [
    "df"
   ]
  },
  {
   "cell_type": "code",
   "execution_count": null,
   "id": "d8d09911",
   "metadata": {},
   "outputs": [],
   "source": [
    "my_df = df[['PARKING_NAME', 'CAPACITY','PAY_NM','SATURDAY_PAY_NM','HOLIDAY_PAY_NM',\n",
    "            'FULLTIME_MONTHLY','RATES','ADD_RATES']]"
   ]
  },
  {
   "cell_type": "code",
   "execution_count": null,
   "id": "8535bf14",
   "metadata": {},
   "outputs": [],
   "source": [
    "my_df.columns = ['주차장명','주차수','유무료','주말유무료','공휴일유무료',\n",
    "                 '월정기권금액','기본요금','추가요금']"
   ]
  },
  {
   "cell_type": "code",
   "execution_count": null,
   "id": "ab150034",
   "metadata": {},
   "outputs": [],
   "source": [
    "my_df = my_df.drop_duplicates()"
   ]
  },
  {
   "cell_type": "code",
   "execution_count": null,
   "id": "e2e540b2",
   "metadata": {},
   "outputs": [],
   "source": [
    "my_df"
   ]
  },
  {
   "cell_type": "code",
   "execution_count": null,
   "id": "71d3f90d",
   "metadata": {},
   "outputs": [],
   "source": [
    "plt.figure()\n",
    "plt.title('주차장 유무료')\n",
    "sns.countplot(x = '유무료', data = my_df , order = ['유료','무료'])"
   ]
  },
  {
   "cell_type": "code",
   "execution_count": null,
   "id": "1835dff2",
   "metadata": {},
   "outputs": [],
   "source": [
    "plt.figure()\n",
    "plt.title('기본요금 히스토그램')\n",
    "sns.histplot(x = my_df['기본요금'])"
   ]
  },
  {
   "cell_type": "code",
   "execution_count": null,
   "id": "aa29a483",
   "metadata": {},
   "outputs": [],
   "source": [
    "sns.histplot(x=my_df['기본요금'], y = my_df['추가요금'])"
   ]
  },
  {
   "cell_type": "code",
   "execution_count": null,
   "id": "ee0744ca",
   "metadata": {},
   "outputs": [],
   "source": [
    "plt.figure()\n",
    "sns.kdeplot(x=my_df['기본요금'])"
   ]
  },
  {
   "cell_type": "code",
   "execution_count": null,
   "id": "3f314c1c",
   "metadata": {},
   "outputs": [],
   "source": [
    "mu.db_open()\n",
    "match_df = mu.sql_execute('select * from match_stats')\n",
    "mu.db_close()"
   ]
  },
  {
   "cell_type": "code",
   "execution_count": null,
   "id": "aed77f66",
   "metadata": {},
   "outputs": [],
   "source": [
    "match_df"
   ]
  },
  {
   "cell_type": "markdown",
   "id": "f306f305",
   "metadata": {},
   "source": [
    "- 골드 20분 데이터를 통해 kdeplot 그려보기"
   ]
  },
  {
   "cell_type": "code",
   "execution_count": null,
   "id": "20282502",
   "metadata": {},
   "outputs": [],
   "source": [
    "tmp_df = match_df[['TEAMPOSITION','G_15','G_20']]"
   ]
  },
  {
   "cell_type": "code",
   "execution_count": null,
   "id": "d9ae2e4f",
   "metadata": {},
   "outputs": [],
   "source": [
    "tmp_df = tmp_df[~tmp_df.TEAMPOSITION.isna()]"
   ]
  },
  {
   "cell_type": "code",
   "execution_count": null,
   "id": "685ab816",
   "metadata": {},
   "outputs": [],
   "source": [
    "sns.kdeplot(x = tmp_df[tmp_df.G_20 != 0]['G_20'])\n",
    "sns.kdeplot(x = tmp_df[tmp_df.G_15 !=0]['G_15'])"
   ]
  },
  {
   "cell_type": "code",
   "execution_count": null,
   "id": "8e0ba4be",
   "metadata": {},
   "outputs": [],
   "source": [
    "tmp_df[tmp_df.G_20!=0]"
   ]
  },
  {
   "cell_type": "code",
   "execution_count": null,
   "id": "d4ed3b34",
   "metadata": {},
   "outputs": [],
   "source": [
    "tmp_df[~tmp_df.TEAMPOSITION.isna()]"
   ]
  },
  {
   "cell_type": "code",
   "execution_count": null,
   "id": "eb36525f",
   "metadata": {},
   "outputs": [],
   "source": [
    "G_30 "
   ]
  },
  {
   "cell_type": "code",
   "execution_count": null,
   "id": "6077ec5e",
   "metadata": {},
   "outputs": [],
   "source": [
    "tmp_df"
   ]
  },
  {
   "cell_type": "code",
   "execution_count": null,
   "id": "69b4b22e",
   "metadata": {},
   "outputs": [],
   "source": [
    "my_df"
   ]
  },
  {
   "cell_type": "code",
   "execution_count": null,
   "id": "cbb57f7f",
   "metadata": {},
   "outputs": [],
   "source": [
    "plt.figure()\n",
    "sns.kdeplot(x=my_df['기본요금'],y=my_df['추가요금'])"
   ]
  },
  {
   "cell_type": "code",
   "execution_count": null,
   "id": "f9366b0b",
   "metadata": {},
   "outputs": [],
   "source": [
    "sns.displot(x=my_df['추가요금'], kind ='ecdf')"
   ]
  },
  {
   "cell_type": "code",
   "execution_count": null,
   "id": "e580a772",
   "metadata": {},
   "outputs": [],
   "source": [
    "sns.kdeplot(x=my_df['기본요금'])\n",
    "sns.rugplot(x=my_df['기본요금'])"
   ]
  },
  {
   "cell_type": "code",
   "execution_count": null,
   "id": "a6e710ad",
   "metadata": {},
   "outputs": [],
   "source": [
    "sns.barplot(x = my_df['주말유무료'], y= my_df['기본요금'])"
   ]
  },
  {
   "cell_type": "code",
   "execution_count": null,
   "id": "e0a4f79b",
   "metadata": {},
   "outputs": [],
   "source": [
    "sns.countplot(x = my_df['주말유무료'])"
   ]
  },
  {
   "cell_type": "code",
   "execution_count": null,
   "id": "c0d5fe13",
   "metadata": {},
   "outputs": [],
   "source": [
    "sns.violinplot(x = my_df['주말유무료'], y = my_df['기본요금'])"
   ]
  },
  {
   "cell_type": "code",
   "execution_count": null,
   "id": "2bb0d523",
   "metadata": {},
   "outputs": [],
   "source": [
    "sns.stripplot(x = my_df['주말유무료'], y=my_df['기본요금'])"
   ]
  },
  {
   "cell_type": "code",
   "execution_count": null,
   "id": "ca9d1f48",
   "metadata": {},
   "outputs": [],
   "source": [
    "my_df.corr()"
   ]
  },
  {
   "cell_type": "code",
   "execution_count": null,
   "id": "fa9d4641",
   "metadata": {},
   "outputs": [],
   "source": [
    "sns.heatmap(my_df.corr(), annot=True, cmap='viridis')"
   ]
  },
  {
   "cell_type": "code",
   "execution_count": null,
   "id": "a60afec0",
   "metadata": {},
   "outputs": [],
   "source": [
    "sns.clustermap(my_df.corr(),annot = True, cmap = 'viridis')"
   ]
  },
  {
   "cell_type": "code",
   "execution_count": null,
   "id": "50bb9298",
   "metadata": {},
   "outputs": [],
   "source": [
    "sns.FacetGrid(my_df, col = '주말유무료', row = '공휴일유무료').map(sns.distplot,'기본요금')"
   ]
  },
  {
   "cell_type": "code",
   "execution_count": null,
   "id": "c557dd67",
   "metadata": {},
   "outputs": [],
   "source": [
    "sns.jointplot(x=my_df['기본요금'], y = my_df['추가요금'], kind ='scatter')"
   ]
  },
  {
   "cell_type": "code",
   "execution_count": null,
   "id": "ac700e70",
   "metadata": {},
   "outputs": [],
   "source": [
    "sns.jointplot(x=my_df['기본요금'], y = my_df['추가요금'], kind ='hex')"
   ]
  },
  {
   "cell_type": "code",
   "execution_count": null,
   "id": "90e20e12",
   "metadata": {},
   "outputs": [],
   "source": [
    "sns.pairplot(my_df)"
   ]
  },
  {
   "cell_type": "code",
   "execution_count": null,
   "id": "f201a666",
   "metadata": {},
   "outputs": [],
   "source": [
    "sns.regplot(x='기본요금', y='추가요금', data=my_df)"
   ]
  },
  {
   "cell_type": "code",
   "execution_count": null,
   "id": "1a2c53ed",
   "metadata": {},
   "outputs": [],
   "source": [
    "sns.lmplot(x='기본요금',y='추가요금',data=my_df, hue = '주말유무료')"
   ]
  },
  {
   "cell_type": "code",
   "execution_count": null,
   "id": "1e2ab480",
   "metadata": {},
   "outputs": [],
   "source": [
    "sns.relplot(x = '주차수', y='추가요금', hue ='기본요금', row = '주말유무료', col = '공휴일유무료',data=my_df)"
   ]
  },
  {
   "cell_type": "code",
   "execution_count": null,
   "id": "ff92241c",
   "metadata": {},
   "outputs": [],
   "source": [
    "import plotly\n",
    "import plotly.graph_objs as go\n",
    "plotly.offline.init_notebook_mode(connected=True)"
   ]
  },
  {
   "cell_type": "code",
   "execution_count": null,
   "id": "d59c050a",
   "metadata": {},
   "outputs": [],
   "source": [
    "url = \"https://api.upbit.com/v1/candles/days\"\n",
    "coin_lst = ['KRW-BTC','KRW-ETH','KRW-XRP']\n",
    "headers = {\"Accept\": \"application/json\"}\n",
    "df = pd.DataFrame()\n",
    "for c in coin_lst:\n",
    "    querystring = {\"market\":c, \"count\":\"200\"}\n",
    "    response = requests.request(\"GET\", url, headers=headers, params=querystring)\n",
    "    df = df.append(pd.DataFrame(response.json()))"
   ]
  },
  {
   "cell_type": "code",
   "execution_count": null,
   "id": "24b94e07",
   "metadata": {},
   "outputs": [],
   "source": [
    "2022-07-03  - > candle_date_time_kst  market - >KRW-BTC => BTC"
   ]
  },
  {
   "cell_type": "code",
   "execution_count": null,
   "id": "e4121ee6",
   "metadata": {},
   "outputs": [],
   "source": [
    "my_df = df[['market','candle_date_time_kst','opening_price','high_price',\n",
    "            'low_price','trade_price','candle_acc_trade_price','candle_acc_trade_volume']].copy()\n",
    "my_df"
   ]
  },
  {
   "cell_type": "code",
   "execution_count": null,
   "id": "01547960",
   "metadata": {},
   "outputs": [],
   "source": [
    "df['market'] = df.market.str.replace('KRW-','')"
   ]
  },
  {
   "cell_type": "code",
   "execution_count": null,
   "id": "d5f9b753",
   "metadata": {},
   "outputs": [],
   "source": [
    "df['candle_date_time_kst'] = df.candle_date_time_kst.str.replace('T09:00:00','')"
   ]
  },
  {
   "cell_type": "code",
   "execution_count": null,
   "id": "21adabe9",
   "metadata": {},
   "outputs": [],
   "source": [
    "help(plotly.offline.iplot)"
   ]
  },
  {
   "cell_type": "code",
   "execution_count": null,
   "id": "393a80bc",
   "metadata": {},
   "outputs": [],
   "source": [
    "import plotly.express as px"
   ]
  },
  {
   "cell_type": "code",
   "execution_count": null,
   "id": "164fed9c",
   "metadata": {},
   "outputs": [],
   "source": [
    "plotly.offline.iplot({\n",
    "    \"data\" : [go.Scatter(x=[1,2,3,4],y=[4,3,2,1])],\n",
    "    \"layout\": go.Layout(title=\"hello world\")\n",
    "})"
   ]
  },
  {
   "cell_type": "code",
   "execution_count": null,
   "id": "d526b15a",
   "metadata": {},
   "outputs": [],
   "source": [
    "fig = px.scatter(df[df.market=='BTC'],\n",
    "                x = 'candle_date_time_kst',\n",
    "                y = 'trade_price'\n",
    "                )\n",
    "\n",
    "\n",
    "plotly.offline.iplot(fig)"
   ]
  },
  {
   "cell_type": "code",
   "execution_count": null,
   "id": "49152b96",
   "metadata": {
    "scrolled": false
   },
   "outputs": [],
   "source": [
    "fig = px.scatter(my_df,\n",
    "                x='candle_date_time_kst',\n",
    "                y='candle_acc_trade_price',\n",
    "                color='market')\n",
    "plotly.offline.iplot(fig)"
   ]
  },
  {
   "cell_type": "code",
   "execution_count": 4,
   "id": "44907691",
   "metadata": {
    "scrolled": true
   },
   "outputs": [
    {
     "data": {
      "text/html": [
       "<div>\n",
       "<style scoped>\n",
       "    .dataframe tbody tr th:only-of-type {\n",
       "        vertical-align: middle;\n",
       "    }\n",
       "\n",
       "    .dataframe tbody tr th {\n",
       "        vertical-align: top;\n",
       "    }\n",
       "\n",
       "    .dataframe thead th {\n",
       "        text-align: right;\n",
       "    }\n",
       "</style>\n",
       "<table border=\"1\" class=\"dataframe\">\n",
       "  <thead>\n",
       "    <tr style=\"text-align: right;\">\n",
       "      <th></th>\n",
       "      <th>GAMEID</th>\n",
       "      <th>GAMEDURATION</th>\n",
       "      <th>GAMEVERSION</th>\n",
       "      <th>SUMMONERNAME</th>\n",
       "      <th>SUMMONERLEVEL</th>\n",
       "      <th>PARTICIPANTID</th>\n",
       "      <th>CHAMPIONNAME</th>\n",
       "      <th>CHAMPEXPERIENCE</th>\n",
       "      <th>TEAMPOSITION</th>\n",
       "      <th>TEAMID</th>\n",
       "      <th>...</th>\n",
       "      <th>G_16</th>\n",
       "      <th>G_17</th>\n",
       "      <th>G_18</th>\n",
       "      <th>G_19</th>\n",
       "      <th>G_20</th>\n",
       "      <th>G_21</th>\n",
       "      <th>G_22</th>\n",
       "      <th>G_23</th>\n",
       "      <th>G_24</th>\n",
       "      <th>G_25</th>\n",
       "    </tr>\n",
       "  </thead>\n",
       "  <tbody>\n",
       "    <tr>\n",
       "      <th>0</th>\n",
       "      <td>KR_5993841747</td>\n",
       "      <td>2019</td>\n",
       "      <td>12.12.450.4196</td>\n",
       "      <td>아이유 유튜브</td>\n",
       "      <td>541</td>\n",
       "      <td>5</td>\n",
       "      <td>Alistar</td>\n",
       "      <td>13776</td>\n",
       "      <td>UTILITY</td>\n",
       "      <td>100</td>\n",
       "      <td>...</td>\n",
       "      <td>4207</td>\n",
       "      <td>4511</td>\n",
       "      <td>4757</td>\n",
       "      <td>5165</td>\n",
       "      <td>5591</td>\n",
       "      <td>5881</td>\n",
       "      <td>6192</td>\n",
       "      <td>6333</td>\n",
       "      <td>6523</td>\n",
       "      <td>6751</td>\n",
       "    </tr>\n",
       "    <tr>\n",
       "      <th>1</th>\n",
       "      <td>KR_5993841747</td>\n",
       "      <td>2019</td>\n",
       "      <td>12.12.450.4196</td>\n",
       "      <td>꽃 독</td>\n",
       "      <td>428</td>\n",
       "      <td>6</td>\n",
       "      <td>Volibear</td>\n",
       "      <td>16061</td>\n",
       "      <td>TOP</td>\n",
       "      <td>200</td>\n",
       "      <td>...</td>\n",
       "      <td>5021</td>\n",
       "      <td>5632</td>\n",
       "      <td>5838</td>\n",
       "      <td>6379</td>\n",
       "      <td>6998</td>\n",
       "      <td>7220</td>\n",
       "      <td>7711</td>\n",
       "      <td>8051</td>\n",
       "      <td>8445</td>\n",
       "      <td>8889</td>\n",
       "    </tr>\n",
       "    <tr>\n",
       "      <th>2</th>\n",
       "      <td>KR_5993841747</td>\n",
       "      <td>2019</td>\n",
       "      <td>12.12.450.4196</td>\n",
       "      <td>갱 원하냐</td>\n",
       "      <td>340</td>\n",
       "      <td>7</td>\n",
       "      <td>Talon</td>\n",
       "      <td>15809</td>\n",
       "      <td>JUNGLE</td>\n",
       "      <td>200</td>\n",
       "      <td>...</td>\n",
       "      <td>6461</td>\n",
       "      <td>6911</td>\n",
       "      <td>7169</td>\n",
       "      <td>7675</td>\n",
       "      <td>8153</td>\n",
       "      <td>8434</td>\n",
       "      <td>8810</td>\n",
       "      <td>9347</td>\n",
       "      <td>10007</td>\n",
       "      <td>10580</td>\n",
       "    </tr>\n",
       "    <tr>\n",
       "      <th>3</th>\n",
       "      <td>KR_5993841747</td>\n",
       "      <td>2019</td>\n",
       "      <td>12.12.450.4196</td>\n",
       "      <td>여름시러</td>\n",
       "      <td>321</td>\n",
       "      <td>8</td>\n",
       "      <td>Zed</td>\n",
       "      <td>15608</td>\n",
       "      <td>MIDDLE</td>\n",
       "      <td>200</td>\n",
       "      <td>...</td>\n",
       "      <td>5897</td>\n",
       "      <td>6507</td>\n",
       "      <td>6803</td>\n",
       "      <td>7940</td>\n",
       "      <td>9000</td>\n",
       "      <td>9706</td>\n",
       "      <td>10114</td>\n",
       "      <td>10656</td>\n",
       "      <td>10976</td>\n",
       "      <td>11398</td>\n",
       "    </tr>\n",
       "    <tr>\n",
       "      <th>4</th>\n",
       "      <td>KR_5993841747</td>\n",
       "      <td>2019</td>\n",
       "      <td>12.12.450.4196</td>\n",
       "      <td>존중배려감사양보</td>\n",
       "      <td>61</td>\n",
       "      <td>9</td>\n",
       "      <td>Bard</td>\n",
       "      <td>13735</td>\n",
       "      <td>UTILITY</td>\n",
       "      <td>200</td>\n",
       "      <td>...</td>\n",
       "      <td>4375</td>\n",
       "      <td>5030</td>\n",
       "      <td>5170</td>\n",
       "      <td>5416</td>\n",
       "      <td>5749</td>\n",
       "      <td>5989</td>\n",
       "      <td>6129</td>\n",
       "      <td>6320</td>\n",
       "      <td>6889</td>\n",
       "      <td>7329</td>\n",
       "    </tr>\n",
       "    <tr>\n",
       "      <th>...</th>\n",
       "      <td>...</td>\n",
       "      <td>...</td>\n",
       "      <td>...</td>\n",
       "      <td>...</td>\n",
       "      <td>...</td>\n",
       "      <td>...</td>\n",
       "      <td>...</td>\n",
       "      <td>...</td>\n",
       "      <td>...</td>\n",
       "      <td>...</td>\n",
       "      <td>...</td>\n",
       "      <td>...</td>\n",
       "      <td>...</td>\n",
       "      <td>...</td>\n",
       "      <td>...</td>\n",
       "      <td>...</td>\n",
       "      <td>...</td>\n",
       "      <td>...</td>\n",
       "      <td>...</td>\n",
       "      <td>...</td>\n",
       "      <td>...</td>\n",
       "    </tr>\n",
       "    <tr>\n",
       "      <th>10065</th>\n",
       "      <td>KR_5989172151</td>\n",
       "      <td>2126</td>\n",
       "      <td>12.12.450.4196</td>\n",
       "      <td>불낙이야 이게</td>\n",
       "      <td>143</td>\n",
       "      <td>6</td>\n",
       "      <td>Darius</td>\n",
       "      <td>18080</td>\n",
       "      <td>TOP</td>\n",
       "      <td>200</td>\n",
       "      <td>...</td>\n",
       "      <td>5435</td>\n",
       "      <td>5557</td>\n",
       "      <td>5904</td>\n",
       "      <td>6390</td>\n",
       "      <td>6951</td>\n",
       "      <td>7298</td>\n",
       "      <td>7867</td>\n",
       "      <td>8150</td>\n",
       "      <td>8892</td>\n",
       "      <td>9064</td>\n",
       "    </tr>\n",
       "    <tr>\n",
       "      <th>10066</th>\n",
       "      <td>KR_5989172151</td>\n",
       "      <td>2126</td>\n",
       "      <td>12.12.450.4196</td>\n",
       "      <td>쁘띠몽쉘</td>\n",
       "      <td>347</td>\n",
       "      <td>7</td>\n",
       "      <td>Ekko</td>\n",
       "      <td>19095</td>\n",
       "      <td>JUNGLE</td>\n",
       "      <td>200</td>\n",
       "      <td>...</td>\n",
       "      <td>5751</td>\n",
       "      <td>5958</td>\n",
       "      <td>6255</td>\n",
       "      <td>6662</td>\n",
       "      <td>7239</td>\n",
       "      <td>7462</td>\n",
       "      <td>7802</td>\n",
       "      <td>8255</td>\n",
       "      <td>8627</td>\n",
       "      <td>9714</td>\n",
       "    </tr>\n",
       "    <tr>\n",
       "      <th>10067</th>\n",
       "      <td>KR_5989172151</td>\n",
       "      <td>2126</td>\n",
       "      <td>12.12.450.4196</td>\n",
       "      <td>IIlIlIlllIIlIIl</td>\n",
       "      <td>305</td>\n",
       "      <td>8</td>\n",
       "      <td>Talon</td>\n",
       "      <td>17721</td>\n",
       "      <td>MIDDLE</td>\n",
       "      <td>200</td>\n",
       "      <td>...</td>\n",
       "      <td>5005</td>\n",
       "      <td>5671</td>\n",
       "      <td>6219</td>\n",
       "      <td>6456</td>\n",
       "      <td>6698</td>\n",
       "      <td>7185</td>\n",
       "      <td>7502</td>\n",
       "      <td>7654</td>\n",
       "      <td>8049</td>\n",
       "      <td>9366</td>\n",
       "    </tr>\n",
       "    <tr>\n",
       "      <th>10068</th>\n",
       "      <td>KR_5989172151</td>\n",
       "      <td>2126</td>\n",
       "      <td>12.12.450.4196</td>\n",
       "      <td>나는야전서연</td>\n",
       "      <td>162</td>\n",
       "      <td>9</td>\n",
       "      <td>Kaisa</td>\n",
       "      <td>16728</td>\n",
       "      <td>BOTTOM</td>\n",
       "      <td>200</td>\n",
       "      <td>...</td>\n",
       "      <td>7212</td>\n",
       "      <td>7707</td>\n",
       "      <td>8267</td>\n",
       "      <td>8584</td>\n",
       "      <td>9305</td>\n",
       "      <td>10157</td>\n",
       "      <td>10400</td>\n",
       "      <td>10613</td>\n",
       "      <td>11255</td>\n",
       "      <td>12529</td>\n",
       "    </tr>\n",
       "    <tr>\n",
       "      <th>10069</th>\n",
       "      <td>KR_5989172151</td>\n",
       "      <td>2126</td>\n",
       "      <td>12.12.450.4196</td>\n",
       "      <td>호호위</td>\n",
       "      <td>217</td>\n",
       "      <td>10</td>\n",
       "      <td>Nautilus</td>\n",
       "      <td>14088</td>\n",
       "      <td>UTILITY</td>\n",
       "      <td>200</td>\n",
       "      <td>...</td>\n",
       "      <td>4409</td>\n",
       "      <td>4749</td>\n",
       "      <td>5253</td>\n",
       "      <td>5394</td>\n",
       "      <td>5780</td>\n",
       "      <td>6145</td>\n",
       "      <td>6329</td>\n",
       "      <td>6470</td>\n",
       "      <td>6790</td>\n",
       "      <td>7060</td>\n",
       "    </tr>\n",
       "  </tbody>\n",
       "</table>\n",
       "<p>10070 rows × 37 columns</p>\n",
       "</div>"
      ],
      "text/plain": [
       "              GAMEID  GAMEDURATION     GAMEVERSION     SUMMONERNAME  \\\n",
       "0      KR_5993841747          2019  12.12.450.4196          아이유 유튜브   \n",
       "1      KR_5993841747          2019  12.12.450.4196              꽃 독   \n",
       "2      KR_5993841747          2019  12.12.450.4196            갱 원하냐   \n",
       "3      KR_5993841747          2019  12.12.450.4196             여름시러   \n",
       "4      KR_5993841747          2019  12.12.450.4196         존중배려감사양보   \n",
       "...              ...           ...             ...              ...   \n",
       "10065  KR_5989172151          2126  12.12.450.4196          불낙이야 이게   \n",
       "10066  KR_5989172151          2126  12.12.450.4196             쁘띠몽쉘   \n",
       "10067  KR_5989172151          2126  12.12.450.4196  IIlIlIlllIIlIIl   \n",
       "10068  KR_5989172151          2126  12.12.450.4196           나는야전서연   \n",
       "10069  KR_5989172151          2126  12.12.450.4196              호호위   \n",
       "\n",
       "       SUMMONERLEVEL  PARTICIPANTID CHAMPIONNAME  CHAMPEXPERIENCE  \\\n",
       "0                541              5      Alistar            13776   \n",
       "1                428              6     Volibear            16061   \n",
       "2                340              7        Talon            15809   \n",
       "3                321              8          Zed            15608   \n",
       "4                 61              9         Bard            13735   \n",
       "...              ...            ...          ...              ...   \n",
       "10065            143              6       Darius            18080   \n",
       "10066            347              7         Ekko            19095   \n",
       "10067            305              8        Talon            17721   \n",
       "10068            162              9        Kaisa            16728   \n",
       "10069            217             10     Nautilus            14088   \n",
       "\n",
       "      TEAMPOSITION  TEAMID  ...  G_16  G_17  G_18  G_19  G_20   G_21   G_22  \\\n",
       "0          UTILITY     100  ...  4207  4511  4757  5165  5591   5881   6192   \n",
       "1              TOP     200  ...  5021  5632  5838  6379  6998   7220   7711   \n",
       "2           JUNGLE     200  ...  6461  6911  7169  7675  8153   8434   8810   \n",
       "3           MIDDLE     200  ...  5897  6507  6803  7940  9000   9706  10114   \n",
       "4          UTILITY     200  ...  4375  5030  5170  5416  5749   5989   6129   \n",
       "...            ...     ...  ...   ...   ...   ...   ...   ...    ...    ...   \n",
       "10065          TOP     200  ...  5435  5557  5904  6390  6951   7298   7867   \n",
       "10066       JUNGLE     200  ...  5751  5958  6255  6662  7239   7462   7802   \n",
       "10067       MIDDLE     200  ...  5005  5671  6219  6456  6698   7185   7502   \n",
       "10068       BOTTOM     200  ...  7212  7707  8267  8584  9305  10157  10400   \n",
       "10069      UTILITY     200  ...  4409  4749  5253  5394  5780   6145   6329   \n",
       "\n",
       "        G_23   G_24   G_25  \n",
       "0       6333   6523   6751  \n",
       "1       8051   8445   8889  \n",
       "2       9347  10007  10580  \n",
       "3      10656  10976  11398  \n",
       "4       6320   6889   7329  \n",
       "...      ...    ...    ...  \n",
       "10065   8150   8892   9064  \n",
       "10066   8255   8627   9714  \n",
       "10067   7654   8049   9366  \n",
       "10068  10613  11255  12529  \n",
       "10069   6470   6790   7060  \n",
       "\n",
       "[10070 rows x 37 columns]"
      ]
     },
     "execution_count": 4,
     "metadata": {},
     "output_type": "execute_result"
    }
   ],
   "source": [
    "df"
   ]
  },
  {
   "cell_type": "code",
   "execution_count": 6,
   "id": "86723c82",
   "metadata": {},
   "outputs": [
    {
     "data": {
      "text/html": [
       "        <script type=\"text/javascript\">\n",
       "        window.PlotlyConfig = {MathJaxConfig: 'local'};\n",
       "        if (window.MathJax) {MathJax.Hub.Config({SVG: {font: \"STIX-Web\"}});}\n",
       "        if (typeof require !== 'undefined') {\n",
       "        require.undef(\"plotly\");\n",
       "        requirejs.config({\n",
       "            paths: {\n",
       "                'plotly': ['https://cdn.plot.ly/plotly-2.9.0.min']\n",
       "            }\n",
       "        });\n",
       "        require(['plotly'], function(Plotly) {\n",
       "            window._Plotly = Plotly;\n",
       "        });\n",
       "        }\n",
       "        </script>\n",
       "        "
      ]
     },
     "metadata": {},
     "output_type": "display_data"
    }
   ],
   "source": [
    "import numpy as np\n",
    "import pandas as pd\n",
    "import my_utils as mu\n",
    "import requests\n",
    "import matplotlib.pyplot as plt\n",
    "import plotly\n",
    "import plotly.graph_objs as go\n",
    "plotly.offline.init_notebook_mode(connected=True)\n",
    "import plotly.express as px"
   ]
  },
  {
   "cell_type": "code",
   "execution_count": 10,
   "id": "475c9eb4",
   "metadata": {},
   "outputs": [
    {
     "name": "stdout",
     "output_type": "stream",
     "text": [
      "open!\n"
     ]
    },
    {
     "data": {
      "text/plain": [
       "'close!'"
      ]
     },
     "execution_count": 10,
     "metadata": {},
     "output_type": "execute_result"
    }
   ],
   "source": [
    "mu.db_open()\n",
    "df = mu.sql_execute('select * from match_stats')\n",
    "mu.db_close()"
   ]
  },
  {
   "cell_type": "code",
   "execution_count": 14,
   "id": "9438d9c4",
   "metadata": {},
   "outputs": [],
   "source": [
    "my_df = df[['CHAMPIONNAME','TOTALDAMAGEDEALTTOCHAMPIONS','TOTALDAMAGETAKEN']]"
   ]
  },
  {
   "cell_type": "code",
   "execution_count": 20,
   "id": "7d9d02aa",
   "metadata": {},
   "outputs": [],
   "source": [
    "my_df = my_df.groupby('CHAMPIONNAME').mean().round().reset_index()"
   ]
  },
  {
   "cell_type": "code",
   "execution_count": 21,
   "id": "566f8f59",
   "metadata": {},
   "outputs": [
    {
     "data": {
      "application/vnd.plotly.v1+json": {
       "config": {
        "linkText": "Export to plot.ly",
        "plotlyServerURL": "https://plot.ly",
        "showLink": false
       },
       "data": [
        {
         "hovertemplate": "CHAMPIONNAME=Aatrox<br>TOTALDAMAGEDEALTTOCHAMPIONS=%{x}<br>TOTALDAMAGETAKEN=%{y}<extra></extra>",
         "legendgroup": "Aatrox",
         "marker": {
          "color": "#636efa",
          "symbol": "circle"
         },
         "mode": "markers",
         "name": "Aatrox",
         "orientation": "v",
         "showlegend": true,
         "type": "scatter",
         "x": [
          17593
         ],
         "xaxis": "x",
         "y": [
          28859
         ],
         "yaxis": "y"
        },
        {
         "hovertemplate": "CHAMPIONNAME=Ahri<br>TOTALDAMAGEDEALTTOCHAMPIONS=%{x}<br>TOTALDAMAGETAKEN=%{y}<extra></extra>",
         "legendgroup": "Ahri",
         "marker": {
          "color": "#EF553B",
          "symbol": "circle"
         },
         "mode": "markers",
         "name": "Ahri",
         "orientation": "v",
         "showlegend": true,
         "type": "scatter",
         "x": [
          17596
         ],
         "xaxis": "x",
         "y": [
          19726
         ],
         "yaxis": "y"
        },
        {
         "hovertemplate": "CHAMPIONNAME=Akali<br>TOTALDAMAGEDEALTTOCHAMPIONS=%{x}<br>TOTALDAMAGETAKEN=%{y}<extra></extra>",
         "legendgroup": "Akali",
         "marker": {
          "color": "#00cc96",
          "symbol": "circle"
         },
         "mode": "markers",
         "name": "Akali",
         "orientation": "v",
         "showlegend": true,
         "type": "scatter",
         "x": [
          19986
         ],
         "xaxis": "x",
         "y": [
          24746
         ],
         "yaxis": "y"
        },
        {
         "hovertemplate": "CHAMPIONNAME=Akshan<br>TOTALDAMAGEDEALTTOCHAMPIONS=%{x}<br>TOTALDAMAGETAKEN=%{y}<extra></extra>",
         "legendgroup": "Akshan",
         "marker": {
          "color": "#ab63fa",
          "symbol": "circle"
         },
         "mode": "markers",
         "name": "Akshan",
         "orientation": "v",
         "showlegend": true,
         "type": "scatter",
         "x": [
          23784
         ],
         "xaxis": "x",
         "y": [
          21099
         ],
         "yaxis": "y"
        },
        {
         "hovertemplate": "CHAMPIONNAME=Alistar<br>TOTALDAMAGEDEALTTOCHAMPIONS=%{x}<br>TOTALDAMAGETAKEN=%{y}<extra></extra>",
         "legendgroup": "Alistar",
         "marker": {
          "color": "#FFA15A",
          "symbol": "circle"
         },
         "mode": "markers",
         "name": "Alistar",
         "orientation": "v",
         "showlegend": true,
         "type": "scatter",
         "x": [
          7330
         ],
         "xaxis": "x",
         "y": [
          24771
         ],
         "yaxis": "y"
        },
        {
         "hovertemplate": "CHAMPIONNAME=Amumu<br>TOTALDAMAGEDEALTTOCHAMPIONS=%{x}<br>TOTALDAMAGETAKEN=%{y}<extra></extra>",
         "legendgroup": "Amumu",
         "marker": {
          "color": "#19d3f3",
          "symbol": "circle"
         },
         "mode": "markers",
         "name": "Amumu",
         "orientation": "v",
         "showlegend": true,
         "type": "scatter",
         "x": [
          15222
         ],
         "xaxis": "x",
         "y": [
          27315
         ],
         "yaxis": "y"
        },
        {
         "hovertemplate": "CHAMPIONNAME=Anivia<br>TOTALDAMAGEDEALTTOCHAMPIONS=%{x}<br>TOTALDAMAGETAKEN=%{y}<extra></extra>",
         "legendgroup": "Anivia",
         "marker": {
          "color": "#FF6692",
          "symbol": "circle"
         },
         "mode": "markers",
         "name": "Anivia",
         "orientation": "v",
         "showlegend": true,
         "type": "scatter",
         "x": [
          19763
         ],
         "xaxis": "x",
         "y": [
          24869
         ],
         "yaxis": "y"
        },
        {
         "hovertemplate": "CHAMPIONNAME=Annie<br>TOTALDAMAGEDEALTTOCHAMPIONS=%{x}<br>TOTALDAMAGETAKEN=%{y}<extra></extra>",
         "legendgroup": "Annie",
         "marker": {
          "color": "#B6E880",
          "symbol": "circle"
         },
         "mode": "markers",
         "name": "Annie",
         "orientation": "v",
         "showlegend": true,
         "type": "scatter",
         "x": [
          18773
         ],
         "xaxis": "x",
         "y": [
          15778
         ],
         "yaxis": "y"
        },
        {
         "hovertemplate": "CHAMPIONNAME=Aphelios<br>TOTALDAMAGEDEALTTOCHAMPIONS=%{x}<br>TOTALDAMAGETAKEN=%{y}<extra></extra>",
         "legendgroup": "Aphelios",
         "marker": {
          "color": "#FF97FF",
          "symbol": "circle"
         },
         "mode": "markers",
         "name": "Aphelios",
         "orientation": "v",
         "showlegend": true,
         "type": "scatter",
         "x": [
          20659
         ],
         "xaxis": "x",
         "y": [
          19957
         ],
         "yaxis": "y"
        },
        {
         "hovertemplate": "CHAMPIONNAME=Ashe<br>TOTALDAMAGEDEALTTOCHAMPIONS=%{x}<br>TOTALDAMAGETAKEN=%{y}<extra></extra>",
         "legendgroup": "Ashe",
         "marker": {
          "color": "#FECB52",
          "symbol": "circle"
         },
         "mode": "markers",
         "name": "Ashe",
         "orientation": "v",
         "showlegend": true,
         "type": "scatter",
         "x": [
          17586
         ],
         "xaxis": "x",
         "y": [
          18214
         ],
         "yaxis": "y"
        },
        {
         "hovertemplate": "CHAMPIONNAME=AurelionSol<br>TOTALDAMAGEDEALTTOCHAMPIONS=%{x}<br>TOTALDAMAGETAKEN=%{y}<extra></extra>",
         "legendgroup": "AurelionSol",
         "marker": {
          "color": "#636efa",
          "symbol": "circle"
         },
         "mode": "markers",
         "name": "AurelionSol",
         "orientation": "v",
         "showlegend": true,
         "type": "scatter",
         "x": [
          13491
         ],
         "xaxis": "x",
         "y": [
          20631
         ],
         "yaxis": "y"
        },
        {
         "hovertemplate": "CHAMPIONNAME=Azir<br>TOTALDAMAGEDEALTTOCHAMPIONS=%{x}<br>TOTALDAMAGETAKEN=%{y}<extra></extra>",
         "legendgroup": "Azir",
         "marker": {
          "color": "#EF553B",
          "symbol": "circle"
         },
         "mode": "markers",
         "name": "Azir",
         "orientation": "v",
         "showlegend": true,
         "type": "scatter",
         "x": [
          22198
         ],
         "xaxis": "x",
         "y": [
          19336
         ],
         "yaxis": "y"
        },
        {
         "hovertemplate": "CHAMPIONNAME=Bard<br>TOTALDAMAGEDEALTTOCHAMPIONS=%{x}<br>TOTALDAMAGETAKEN=%{y}<extra></extra>",
         "legendgroup": "Bard",
         "marker": {
          "color": "#00cc96",
          "symbol": "circle"
         },
         "mode": "markers",
         "name": "Bard",
         "orientation": "v",
         "showlegend": true,
         "type": "scatter",
         "x": [
          11329
         ],
         "xaxis": "x",
         "y": [
          17408
         ],
         "yaxis": "y"
        },
        {
         "hovertemplate": "CHAMPIONNAME=Belveth<br>TOTALDAMAGEDEALTTOCHAMPIONS=%{x}<br>TOTALDAMAGETAKEN=%{y}<extra></extra>",
         "legendgroup": "Belveth",
         "marker": {
          "color": "#ab63fa",
          "symbol": "circle"
         },
         "mode": "markers",
         "name": "Belveth",
         "orientation": "v",
         "showlegend": true,
         "type": "scatter",
         "x": [
          18367
         ],
         "xaxis": "x",
         "y": [
          28362
         ],
         "yaxis": "y"
        },
        {
         "hovertemplate": "CHAMPIONNAME=Blitzcrank<br>TOTALDAMAGEDEALTTOCHAMPIONS=%{x}<br>TOTALDAMAGETAKEN=%{y}<extra></extra>",
         "legendgroup": "Blitzcrank",
         "marker": {
          "color": "#FFA15A",
          "symbol": "circle"
         },
         "mode": "markers",
         "name": "Blitzcrank",
         "orientation": "v",
         "showlegend": true,
         "type": "scatter",
         "x": [
          9176
         ],
         "xaxis": "x",
         "y": [
          22248
         ],
         "yaxis": "y"
        },
        {
         "hovertemplate": "CHAMPIONNAME=Brand<br>TOTALDAMAGEDEALTTOCHAMPIONS=%{x}<br>TOTALDAMAGETAKEN=%{y}<extra></extra>",
         "legendgroup": "Brand",
         "marker": {
          "color": "#19d3f3",
          "symbol": "circle"
         },
         "mode": "markers",
         "name": "Brand",
         "orientation": "v",
         "showlegend": true,
         "type": "scatter",
         "x": [
          25657
         ],
         "xaxis": "x",
         "y": [
          19466
         ],
         "yaxis": "y"
        },
        {
         "hovertemplate": "CHAMPIONNAME=Braum<br>TOTALDAMAGEDEALTTOCHAMPIONS=%{x}<br>TOTALDAMAGETAKEN=%{y}<extra></extra>",
         "legendgroup": "Braum",
         "marker": {
          "color": "#FF6692",
          "symbol": "circle"
         },
         "mode": "markers",
         "name": "Braum",
         "orientation": "v",
         "showlegend": true,
         "type": "scatter",
         "x": [
          6629
         ],
         "xaxis": "x",
         "y": [
          18648
         ],
         "yaxis": "y"
        },
        {
         "hovertemplate": "CHAMPIONNAME=Caitlyn<br>TOTALDAMAGEDEALTTOCHAMPIONS=%{x}<br>TOTALDAMAGETAKEN=%{y}<extra></extra>",
         "legendgroup": "Caitlyn",
         "marker": {
          "color": "#B6E880",
          "symbol": "circle"
         },
         "mode": "markers",
         "name": "Caitlyn",
         "orientation": "v",
         "showlegend": true,
         "type": "scatter",
         "x": [
          18121
         ],
         "xaxis": "x",
         "y": [
          18813
         ],
         "yaxis": "y"
        },
        {
         "hovertemplate": "CHAMPIONNAME=Camille<br>TOTALDAMAGEDEALTTOCHAMPIONS=%{x}<br>TOTALDAMAGETAKEN=%{y}<extra></extra>",
         "legendgroup": "Camille",
         "marker": {
          "color": "#FF97FF",
          "symbol": "circle"
         },
         "mode": "markers",
         "name": "Camille",
         "orientation": "v",
         "showlegend": true,
         "type": "scatter",
         "x": [
          21613
         ],
         "xaxis": "x",
         "y": [
          31174
         ],
         "yaxis": "y"
        },
        {
         "hovertemplate": "CHAMPIONNAME=Cassiopeia<br>TOTALDAMAGEDEALTTOCHAMPIONS=%{x}<br>TOTALDAMAGETAKEN=%{y}<extra></extra>",
         "legendgroup": "Cassiopeia",
         "marker": {
          "color": "#FECB52",
          "symbol": "circle"
         },
         "mode": "markers",
         "name": "Cassiopeia",
         "orientation": "v",
         "showlegend": true,
         "type": "scatter",
         "x": [
          24012
         ],
         "xaxis": "x",
         "y": [
          25186
         ],
         "yaxis": "y"
        },
        {
         "hovertemplate": "CHAMPIONNAME=Chogath<br>TOTALDAMAGEDEALTTOCHAMPIONS=%{x}<br>TOTALDAMAGETAKEN=%{y}<extra></extra>",
         "legendgroup": "Chogath",
         "marker": {
          "color": "#636efa",
          "symbol": "circle"
         },
         "mode": "markers",
         "name": "Chogath",
         "orientation": "v",
         "showlegend": true,
         "type": "scatter",
         "x": [
          13721
         ],
         "xaxis": "x",
         "y": [
          28112
         ],
         "yaxis": "y"
        },
        {
         "hovertemplate": "CHAMPIONNAME=Corki<br>TOTALDAMAGEDEALTTOCHAMPIONS=%{x}<br>TOTALDAMAGETAKEN=%{y}<extra></extra>",
         "legendgroup": "Corki",
         "marker": {
          "color": "#EF553B",
          "symbol": "circle"
         },
         "mode": "markers",
         "name": "Corki",
         "orientation": "v",
         "showlegend": true,
         "type": "scatter",
         "x": [
          28529
         ],
         "xaxis": "x",
         "y": [
          20314
         ],
         "yaxis": "y"
        },
        {
         "hovertemplate": "CHAMPIONNAME=Darius<br>TOTALDAMAGEDEALTTOCHAMPIONS=%{x}<br>TOTALDAMAGETAKEN=%{y}<extra></extra>",
         "legendgroup": "Darius",
         "marker": {
          "color": "#00cc96",
          "symbol": "circle"
         },
         "mode": "markers",
         "name": "Darius",
         "orientation": "v",
         "showlegend": true,
         "type": "scatter",
         "x": [
          17792
         ],
         "xaxis": "x",
         "y": [
          25641
         ],
         "yaxis": "y"
        },
        {
         "hovertemplate": "CHAMPIONNAME=Diana<br>TOTALDAMAGEDEALTTOCHAMPIONS=%{x}<br>TOTALDAMAGETAKEN=%{y}<extra></extra>",
         "legendgroup": "Diana",
         "marker": {
          "color": "#ab63fa",
          "symbol": "circle"
         },
         "mode": "markers",
         "name": "Diana",
         "orientation": "v",
         "showlegend": true,
         "type": "scatter",
         "x": [
          21563
         ],
         "xaxis": "x",
         "y": [
          24654
         ],
         "yaxis": "y"
        },
        {
         "hovertemplate": "CHAMPIONNAME=DrMundo<br>TOTALDAMAGEDEALTTOCHAMPIONS=%{x}<br>TOTALDAMAGETAKEN=%{y}<extra></extra>",
         "legendgroup": "DrMundo",
         "marker": {
          "color": "#FFA15A",
          "symbol": "circle"
         },
         "mode": "markers",
         "name": "DrMundo",
         "orientation": "v",
         "showlegend": true,
         "type": "scatter",
         "x": [
          20120
         ],
         "xaxis": "x",
         "y": [
          35308
         ],
         "yaxis": "y"
        },
        {
         "hovertemplate": "CHAMPIONNAME=Draven<br>TOTALDAMAGEDEALTTOCHAMPIONS=%{x}<br>TOTALDAMAGETAKEN=%{y}<extra></extra>",
         "legendgroup": "Draven",
         "marker": {
          "color": "#19d3f3",
          "symbol": "circle"
         },
         "mode": "markers",
         "name": "Draven",
         "orientation": "v",
         "showlegend": true,
         "type": "scatter",
         "x": [
          19206
         ],
         "xaxis": "x",
         "y": [
          19338
         ],
         "yaxis": "y"
        },
        {
         "hovertemplate": "CHAMPIONNAME=Ekko<br>TOTALDAMAGEDEALTTOCHAMPIONS=%{x}<br>TOTALDAMAGETAKEN=%{y}<extra></extra>",
         "legendgroup": "Ekko",
         "marker": {
          "color": "#FF6692",
          "symbol": "circle"
         },
         "mode": "markers",
         "name": "Ekko",
         "orientation": "v",
         "showlegend": true,
         "type": "scatter",
         "x": [
          20802
         ],
         "xaxis": "x",
         "y": [
          29592
         ],
         "yaxis": "y"
        },
        {
         "hovertemplate": "CHAMPIONNAME=Elise<br>TOTALDAMAGEDEALTTOCHAMPIONS=%{x}<br>TOTALDAMAGETAKEN=%{y}<extra></extra>",
         "legendgroup": "Elise",
         "marker": {
          "color": "#B6E880",
          "symbol": "circle"
         },
         "mode": "markers",
         "name": "Elise",
         "orientation": "v",
         "showlegend": true,
         "type": "scatter",
         "x": [
          18197
         ],
         "xaxis": "x",
         "y": [
          23423
         ],
         "yaxis": "y"
        },
        {
         "hovertemplate": "CHAMPIONNAME=Evelynn<br>TOTALDAMAGEDEALTTOCHAMPIONS=%{x}<br>TOTALDAMAGETAKEN=%{y}<extra></extra>",
         "legendgroup": "Evelynn",
         "marker": {
          "color": "#FF97FF",
          "symbol": "circle"
         },
         "mode": "markers",
         "name": "Evelynn",
         "orientation": "v",
         "showlegend": true,
         "type": "scatter",
         "x": [
          21518
         ],
         "xaxis": "x",
         "y": [
          26640
         ],
         "yaxis": "y"
        },
        {
         "hovertemplate": "CHAMPIONNAME=Ezreal<br>TOTALDAMAGEDEALTTOCHAMPIONS=%{x}<br>TOTALDAMAGETAKEN=%{y}<extra></extra>",
         "legendgroup": "Ezreal",
         "marker": {
          "color": "#FECB52",
          "symbol": "circle"
         },
         "mode": "markers",
         "name": "Ezreal",
         "orientation": "v",
         "showlegend": true,
         "type": "scatter",
         "x": [
          23694
         ],
         "xaxis": "x",
         "y": [
          19185
         ],
         "yaxis": "y"
        },
        {
         "hovertemplate": "CHAMPIONNAME=FiddleSticks<br>TOTALDAMAGEDEALTTOCHAMPIONS=%{x}<br>TOTALDAMAGETAKEN=%{y}<extra></extra>",
         "legendgroup": "FiddleSticks",
         "marker": {
          "color": "#636efa",
          "symbol": "circle"
         },
         "mode": "markers",
         "name": "FiddleSticks",
         "orientation": "v",
         "showlegend": true,
         "type": "scatter",
         "x": [
          15631
         ],
         "xaxis": "x",
         "y": [
          28291
         ],
         "yaxis": "y"
        },
        {
         "hovertemplate": "CHAMPIONNAME=Fiora<br>TOTALDAMAGEDEALTTOCHAMPIONS=%{x}<br>TOTALDAMAGETAKEN=%{y}<extra></extra>",
         "legendgroup": "Fiora",
         "marker": {
          "color": "#EF553B",
          "symbol": "circle"
         },
         "mode": "markers",
         "name": "Fiora",
         "orientation": "v",
         "showlegend": true,
         "type": "scatter",
         "x": [
          21544
         ],
         "xaxis": "x",
         "y": [
          31342
         ],
         "yaxis": "y"
        },
        {
         "hovertemplate": "CHAMPIONNAME=Fizz<br>TOTALDAMAGEDEALTTOCHAMPIONS=%{x}<br>TOTALDAMAGETAKEN=%{y}<extra></extra>",
         "legendgroup": "Fizz",
         "marker": {
          "color": "#00cc96",
          "symbol": "circle"
         },
         "mode": "markers",
         "name": "Fizz",
         "orientation": "v",
         "showlegend": true,
         "type": "scatter",
         "x": [
          19484
         ],
         "xaxis": "x",
         "y": [
          22362
         ],
         "yaxis": "y"
        },
        {
         "hovertemplate": "CHAMPIONNAME=Galio<br>TOTALDAMAGEDEALTTOCHAMPIONS=%{x}<br>TOTALDAMAGETAKEN=%{y}<extra></extra>",
         "legendgroup": "Galio",
         "marker": {
          "color": "#ab63fa",
          "symbol": "circle"
         },
         "mode": "markers",
         "name": "Galio",
         "orientation": "v",
         "showlegend": true,
         "type": "scatter",
         "x": [
          14874
         ],
         "xaxis": "x",
         "y": [
          23708
         ],
         "yaxis": "y"
        },
        {
         "hovertemplate": "CHAMPIONNAME=Gangplank<br>TOTALDAMAGEDEALTTOCHAMPIONS=%{x}<br>TOTALDAMAGETAKEN=%{y}<extra></extra>",
         "legendgroup": "Gangplank",
         "marker": {
          "color": "#FFA15A",
          "symbol": "circle"
         },
         "mode": "markers",
         "name": "Gangplank",
         "orientation": "v",
         "showlegend": true,
         "type": "scatter",
         "x": [
          21618
         ],
         "xaxis": "x",
         "y": [
          25843
         ],
         "yaxis": "y"
        },
        {
         "hovertemplate": "CHAMPIONNAME=Garen<br>TOTALDAMAGEDEALTTOCHAMPIONS=%{x}<br>TOTALDAMAGETAKEN=%{y}<extra></extra>",
         "legendgroup": "Garen",
         "marker": {
          "color": "#19d3f3",
          "symbol": "circle"
         },
         "mode": "markers",
         "name": "Garen",
         "orientation": "v",
         "showlegend": true,
         "type": "scatter",
         "x": [
          15941
         ],
         "xaxis": "x",
         "y": [
          25822
         ],
         "yaxis": "y"
        },
        {
         "hovertemplate": "CHAMPIONNAME=Gnar<br>TOTALDAMAGEDEALTTOCHAMPIONS=%{x}<br>TOTALDAMAGETAKEN=%{y}<extra></extra>",
         "legendgroup": "Gnar",
         "marker": {
          "color": "#FF6692",
          "symbol": "circle"
         },
         "mode": "markers",
         "name": "Gnar",
         "orientation": "v",
         "showlegend": true,
         "type": "scatter",
         "x": [
          20352
         ],
         "xaxis": "x",
         "y": [
          28856
         ],
         "yaxis": "y"
        },
        {
         "hovertemplate": "CHAMPIONNAME=Gragas<br>TOTALDAMAGEDEALTTOCHAMPIONS=%{x}<br>TOTALDAMAGETAKEN=%{y}<extra></extra>",
         "legendgroup": "Gragas",
         "marker": {
          "color": "#B6E880",
          "symbol": "circle"
         },
         "mode": "markers",
         "name": "Gragas",
         "orientation": "v",
         "showlegend": true,
         "type": "scatter",
         "x": [
          17887
         ],
         "xaxis": "x",
         "y": [
          27660
         ],
         "yaxis": "y"
        },
        {
         "hovertemplate": "CHAMPIONNAME=Graves<br>TOTALDAMAGEDEALTTOCHAMPIONS=%{x}<br>TOTALDAMAGETAKEN=%{y}<extra></extra>",
         "legendgroup": "Graves",
         "marker": {
          "color": "#FF97FF",
          "symbol": "circle"
         },
         "mode": "markers",
         "name": "Graves",
         "orientation": "v",
         "showlegend": true,
         "type": "scatter",
         "x": [
          21404
         ],
         "xaxis": "x",
         "y": [
          25553
         ],
         "yaxis": "y"
        },
        {
         "hovertemplate": "CHAMPIONNAME=Gwen<br>TOTALDAMAGEDEALTTOCHAMPIONS=%{x}<br>TOTALDAMAGETAKEN=%{y}<extra></extra>",
         "legendgroup": "Gwen",
         "marker": {
          "color": "#FECB52",
          "symbol": "circle"
         },
         "mode": "markers",
         "name": "Gwen",
         "orientation": "v",
         "showlegend": true,
         "type": "scatter",
         "x": [
          19728
         ],
         "xaxis": "x",
         "y": [
          29390
         ],
         "yaxis": "y"
        },
        {
         "hovertemplate": "CHAMPIONNAME=Hecarim<br>TOTALDAMAGEDEALTTOCHAMPIONS=%{x}<br>TOTALDAMAGETAKEN=%{y}<extra></extra>",
         "legendgroup": "Hecarim",
         "marker": {
          "color": "#636efa",
          "symbol": "circle"
         },
         "mode": "markers",
         "name": "Hecarim",
         "orientation": "v",
         "showlegend": true,
         "type": "scatter",
         "x": [
          21820
         ],
         "xaxis": "x",
         "y": [
          38457
         ],
         "yaxis": "y"
        },
        {
         "hovertemplate": "CHAMPIONNAME=Heimerdinger<br>TOTALDAMAGEDEALTTOCHAMPIONS=%{x}<br>TOTALDAMAGETAKEN=%{y}<extra></extra>",
         "legendgroup": "Heimerdinger",
         "marker": {
          "color": "#EF553B",
          "symbol": "circle"
         },
         "mode": "markers",
         "name": "Heimerdinger",
         "orientation": "v",
         "showlegend": true,
         "type": "scatter",
         "x": [
          26587
         ],
         "xaxis": "x",
         "y": [
          20039
         ],
         "yaxis": "y"
        },
        {
         "hovertemplate": "CHAMPIONNAME=Illaoi<br>TOTALDAMAGEDEALTTOCHAMPIONS=%{x}<br>TOTALDAMAGETAKEN=%{y}<extra></extra>",
         "legendgroup": "Illaoi",
         "marker": {
          "color": "#00cc96",
          "symbol": "circle"
         },
         "mode": "markers",
         "name": "Illaoi",
         "orientation": "v",
         "showlegend": true,
         "type": "scatter",
         "x": [
          22318
         ],
         "xaxis": "x",
         "y": [
          31924
         ],
         "yaxis": "y"
        },
        {
         "hovertemplate": "CHAMPIONNAME=Irelia<br>TOTALDAMAGEDEALTTOCHAMPIONS=%{x}<br>TOTALDAMAGETAKEN=%{y}<extra></extra>",
         "legendgroup": "Irelia",
         "marker": {
          "color": "#ab63fa",
          "symbol": "circle"
         },
         "mode": "markers",
         "name": "Irelia",
         "orientation": "v",
         "showlegend": true,
         "type": "scatter",
         "x": [
          22078
         ],
         "xaxis": "x",
         "y": [
          30797
         ],
         "yaxis": "y"
        },
        {
         "hovertemplate": "CHAMPIONNAME=Ivern<br>TOTALDAMAGEDEALTTOCHAMPIONS=%{x}<br>TOTALDAMAGETAKEN=%{y}<extra></extra>",
         "legendgroup": "Ivern",
         "marker": {
          "color": "#FFA15A",
          "symbol": "circle"
         },
         "mode": "markers",
         "name": "Ivern",
         "orientation": "v",
         "showlegend": true,
         "type": "scatter",
         "x": [
          8668
         ],
         "xaxis": "x",
         "y": [
          14185
         ],
         "yaxis": "y"
        },
        {
         "hovertemplate": "CHAMPIONNAME=Janna<br>TOTALDAMAGEDEALTTOCHAMPIONS=%{x}<br>TOTALDAMAGETAKEN=%{y}<extra></extra>",
         "legendgroup": "Janna",
         "marker": {
          "color": "#19d3f3",
          "symbol": "circle"
         },
         "mode": "markers",
         "name": "Janna",
         "orientation": "v",
         "showlegend": true,
         "type": "scatter",
         "x": [
          5474
         ],
         "xaxis": "x",
         "y": [
          16147
         ],
         "yaxis": "y"
        },
        {
         "hovertemplate": "CHAMPIONNAME=JarvanIV<br>TOTALDAMAGEDEALTTOCHAMPIONS=%{x}<br>TOTALDAMAGETAKEN=%{y}<extra></extra>",
         "legendgroup": "JarvanIV",
         "marker": {
          "color": "#FF6692",
          "symbol": "circle"
         },
         "mode": "markers",
         "name": "JarvanIV",
         "orientation": "v",
         "showlegend": true,
         "type": "scatter",
         "x": [
          13998
         ],
         "xaxis": "x",
         "y": [
          26304
         ],
         "yaxis": "y"
        },
        {
         "hovertemplate": "CHAMPIONNAME=Jax<br>TOTALDAMAGEDEALTTOCHAMPIONS=%{x}<br>TOTALDAMAGETAKEN=%{y}<extra></extra>",
         "legendgroup": "Jax",
         "marker": {
          "color": "#B6E880",
          "symbol": "circle"
         },
         "mode": "markers",
         "name": "Jax",
         "orientation": "v",
         "showlegend": true,
         "type": "scatter",
         "x": [
          20088
         ],
         "xaxis": "x",
         "y": [
          26683
         ],
         "yaxis": "y"
        },
        {
         "hovertemplate": "CHAMPIONNAME=Jayce<br>TOTALDAMAGEDEALTTOCHAMPIONS=%{x}<br>TOTALDAMAGETAKEN=%{y}<extra></extra>",
         "legendgroup": "Jayce",
         "marker": {
          "color": "#FF97FF",
          "symbol": "circle"
         },
         "mode": "markers",
         "name": "Jayce",
         "orientation": "v",
         "showlegend": true,
         "type": "scatter",
         "x": [
          22725
         ],
         "xaxis": "x",
         "y": [
          20172
         ],
         "yaxis": "y"
        },
        {
         "hovertemplate": "CHAMPIONNAME=Jhin<br>TOTALDAMAGEDEALTTOCHAMPIONS=%{x}<br>TOTALDAMAGETAKEN=%{y}<extra></extra>",
         "legendgroup": "Jhin",
         "marker": {
          "color": "#FECB52",
          "symbol": "circle"
         },
         "mode": "markers",
         "name": "Jhin",
         "orientation": "v",
         "showlegend": true,
         "type": "scatter",
         "x": [
          18609
         ],
         "xaxis": "x",
         "y": [
          17989
         ],
         "yaxis": "y"
        },
        {
         "hovertemplate": "CHAMPIONNAME=Jinx<br>TOTALDAMAGEDEALTTOCHAMPIONS=%{x}<br>TOTALDAMAGETAKEN=%{y}<extra></extra>",
         "legendgroup": "Jinx",
         "marker": {
          "color": "#636efa",
          "symbol": "circle"
         },
         "mode": "markers",
         "name": "Jinx",
         "orientation": "v",
         "showlegend": true,
         "type": "scatter",
         "x": [
          20193
         ],
         "xaxis": "x",
         "y": [
          17840
         ],
         "yaxis": "y"
        },
        {
         "hovertemplate": "CHAMPIONNAME=Kaisa<br>TOTALDAMAGEDEALTTOCHAMPIONS=%{x}<br>TOTALDAMAGETAKEN=%{y}<extra></extra>",
         "legendgroup": "Kaisa",
         "marker": {
          "color": "#EF553B",
          "symbol": "circle"
         },
         "mode": "markers",
         "name": "Kaisa",
         "orientation": "v",
         "showlegend": true,
         "type": "scatter",
         "x": [
          21833
         ],
         "xaxis": "x",
         "y": [
          19099
         ],
         "yaxis": "y"
        },
        {
         "hovertemplate": "CHAMPIONNAME=Kalista<br>TOTALDAMAGEDEALTTOCHAMPIONS=%{x}<br>TOTALDAMAGETAKEN=%{y}<extra></extra>",
         "legendgroup": "Kalista",
         "marker": {
          "color": "#00cc96",
          "symbol": "circle"
         },
         "mode": "markers",
         "name": "Kalista",
         "orientation": "v",
         "showlegend": true,
         "type": "scatter",
         "x": [
          20692
         ],
         "xaxis": "x",
         "y": [
          23845
         ],
         "yaxis": "y"
        },
        {
         "hovertemplate": "CHAMPIONNAME=Karma<br>TOTALDAMAGEDEALTTOCHAMPIONS=%{x}<br>TOTALDAMAGETAKEN=%{y}<extra></extra>",
         "legendgroup": "Karma",
         "marker": {
          "color": "#ab63fa",
          "symbol": "circle"
         },
         "mode": "markers",
         "name": "Karma",
         "orientation": "v",
         "showlegend": true,
         "type": "scatter",
         "x": [
          11735
         ],
         "xaxis": "x",
         "y": [
          17411
         ],
         "yaxis": "y"
        },
        {
         "hovertemplate": "CHAMPIONNAME=Karthus<br>TOTALDAMAGEDEALTTOCHAMPIONS=%{x}<br>TOTALDAMAGETAKEN=%{y}<extra></extra>",
         "legendgroup": "Karthus",
         "marker": {
          "color": "#FFA15A",
          "symbol": "circle"
         },
         "mode": "markers",
         "name": "Karthus",
         "orientation": "v",
         "showlegend": true,
         "type": "scatter",
         "x": [
          28037
         ],
         "xaxis": "x",
         "y": [
          24608
         ],
         "yaxis": "y"
        },
        {
         "hovertemplate": "CHAMPIONNAME=Kassadin<br>TOTALDAMAGEDEALTTOCHAMPIONS=%{x}<br>TOTALDAMAGETAKEN=%{y}<extra></extra>",
         "legendgroup": "Kassadin",
         "marker": {
          "color": "#19d3f3",
          "symbol": "circle"
         },
         "mode": "markers",
         "name": "Kassadin",
         "orientation": "v",
         "showlegend": true,
         "type": "scatter",
         "x": [
          18652
         ],
         "xaxis": "x",
         "y": [
          24120
         ],
         "yaxis": "y"
        },
        {
         "hovertemplate": "CHAMPIONNAME=Katarina<br>TOTALDAMAGEDEALTTOCHAMPIONS=%{x}<br>TOTALDAMAGETAKEN=%{y}<extra></extra>",
         "legendgroup": "Katarina",
         "marker": {
          "color": "#FF6692",
          "symbol": "circle"
         },
         "mode": "markers",
         "name": "Katarina",
         "orientation": "v",
         "showlegend": true,
         "type": "scatter",
         "x": [
          22517
         ],
         "xaxis": "x",
         "y": [
          24607
         ],
         "yaxis": "y"
        },
        {
         "hovertemplate": "CHAMPIONNAME=Kayle<br>TOTALDAMAGEDEALTTOCHAMPIONS=%{x}<br>TOTALDAMAGETAKEN=%{y}<extra></extra>",
         "legendgroup": "Kayle",
         "marker": {
          "color": "#B6E880",
          "symbol": "circle"
         },
         "mode": "markers",
         "name": "Kayle",
         "orientation": "v",
         "showlegend": true,
         "type": "scatter",
         "x": [
          21004
         ],
         "xaxis": "x",
         "y": [
          22871
         ],
         "yaxis": "y"
        },
        {
         "hovertemplate": "CHAMPIONNAME=Kayn<br>TOTALDAMAGEDEALTTOCHAMPIONS=%{x}<br>TOTALDAMAGETAKEN=%{y}<extra></extra>",
         "legendgroup": "Kayn",
         "marker": {
          "color": "#FF97FF",
          "symbol": "circle"
         },
         "mode": "markers",
         "name": "Kayn",
         "orientation": "v",
         "showlegend": true,
         "type": "scatter",
         "x": [
          18369
         ],
         "xaxis": "x",
         "y": [
          31222
         ],
         "yaxis": "y"
        },
        {
         "hovertemplate": "CHAMPIONNAME=Kennen<br>TOTALDAMAGEDEALTTOCHAMPIONS=%{x}<br>TOTALDAMAGETAKEN=%{y}<extra></extra>",
         "legendgroup": "Kennen",
         "marker": {
          "color": "#FECB52",
          "symbol": "circle"
         },
         "mode": "markers",
         "name": "Kennen",
         "orientation": "v",
         "showlegend": true,
         "type": "scatter",
         "x": [
          18888
         ],
         "xaxis": "x",
         "y": [
          19953
         ],
         "yaxis": "y"
        },
        {
         "hovertemplate": "CHAMPIONNAME=Khazix<br>TOTALDAMAGEDEALTTOCHAMPIONS=%{x}<br>TOTALDAMAGETAKEN=%{y}<extra></extra>",
         "legendgroup": "Khazix",
         "marker": {
          "color": "#636efa",
          "symbol": "circle"
         },
         "mode": "markers",
         "name": "Khazix",
         "orientation": "v",
         "showlegend": true,
         "type": "scatter",
         "x": [
          18410
         ],
         "xaxis": "x",
         "y": [
          25028
         ],
         "yaxis": "y"
        },
        {
         "hovertemplate": "CHAMPIONNAME=Kindred<br>TOTALDAMAGEDEALTTOCHAMPIONS=%{x}<br>TOTALDAMAGETAKEN=%{y}<extra></extra>",
         "legendgroup": "Kindred",
         "marker": {
          "color": "#EF553B",
          "symbol": "circle"
         },
         "mode": "markers",
         "name": "Kindred",
         "orientation": "v",
         "showlegend": true,
         "type": "scatter",
         "x": [
          21528
         ],
         "xaxis": "x",
         "y": [
          25371
         ],
         "yaxis": "y"
        },
        {
         "hovertemplate": "CHAMPIONNAME=Kled<br>TOTALDAMAGEDEALTTOCHAMPIONS=%{x}<br>TOTALDAMAGETAKEN=%{y}<extra></extra>",
         "legendgroup": "Kled",
         "marker": {
          "color": "#00cc96",
          "symbol": "circle"
         },
         "mode": "markers",
         "name": "Kled",
         "orientation": "v",
         "showlegend": true,
         "type": "scatter",
         "x": [
          18671
         ],
         "xaxis": "x",
         "y": [
          34234
         ],
         "yaxis": "y"
        },
        {
         "hovertemplate": "CHAMPIONNAME=KogMaw<br>TOTALDAMAGEDEALTTOCHAMPIONS=%{x}<br>TOTALDAMAGETAKEN=%{y}<extra></extra>",
         "legendgroup": "KogMaw",
         "marker": {
          "color": "#ab63fa",
          "symbol": "circle"
         },
         "mode": "markers",
         "name": "KogMaw",
         "orientation": "v",
         "showlegend": true,
         "type": "scatter",
         "x": [
          29316
         ],
         "xaxis": "x",
         "y": [
          23712
         ],
         "yaxis": "y"
        },
        {
         "hovertemplate": "CHAMPIONNAME=Leblanc<br>TOTALDAMAGEDEALTTOCHAMPIONS=%{x}<br>TOTALDAMAGETAKEN=%{y}<extra></extra>",
         "legendgroup": "Leblanc",
         "marker": {
          "color": "#FFA15A",
          "symbol": "circle"
         },
         "mode": "markers",
         "name": "Leblanc",
         "orientation": "v",
         "showlegend": true,
         "type": "scatter",
         "x": [
          17702
         ],
         "xaxis": "x",
         "y": [
          19887
         ],
         "yaxis": "y"
        },
        {
         "hovertemplate": "CHAMPIONNAME=LeeSin<br>TOTALDAMAGEDEALTTOCHAMPIONS=%{x}<br>TOTALDAMAGETAKEN=%{y}<extra></extra>",
         "legendgroup": "LeeSin",
         "marker": {
          "color": "#19d3f3",
          "symbol": "circle"
         },
         "mode": "markers",
         "name": "LeeSin",
         "orientation": "v",
         "showlegend": true,
         "type": "scatter",
         "x": [
          15364
         ],
         "xaxis": "x",
         "y": [
          29219
         ],
         "yaxis": "y"
        },
        {
         "hovertemplate": "CHAMPIONNAME=Leona<br>TOTALDAMAGEDEALTTOCHAMPIONS=%{x}<br>TOTALDAMAGETAKEN=%{y}<extra></extra>",
         "legendgroup": "Leona",
         "marker": {
          "color": "#FF6692",
          "symbol": "circle"
         },
         "mode": "markers",
         "name": "Leona",
         "orientation": "v",
         "showlegend": true,
         "type": "scatter",
         "x": [
          6917
         ],
         "xaxis": "x",
         "y": [
          22359
         ],
         "yaxis": "y"
        },
        {
         "hovertemplate": "CHAMPIONNAME=Lillia<br>TOTALDAMAGEDEALTTOCHAMPIONS=%{x}<br>TOTALDAMAGETAKEN=%{y}<extra></extra>",
         "legendgroup": "Lillia",
         "marker": {
          "color": "#B6E880",
          "symbol": "circle"
         },
         "mode": "markers",
         "name": "Lillia",
         "orientation": "v",
         "showlegend": true,
         "type": "scatter",
         "x": [
          19682
         ],
         "xaxis": "x",
         "y": [
          27563
         ],
         "yaxis": "y"
        },
        {
         "hovertemplate": "CHAMPIONNAME=Lissandra<br>TOTALDAMAGEDEALTTOCHAMPIONS=%{x}<br>TOTALDAMAGETAKEN=%{y}<extra></extra>",
         "legendgroup": "Lissandra",
         "marker": {
          "color": "#FF97FF",
          "symbol": "circle"
         },
         "mode": "markers",
         "name": "Lissandra",
         "orientation": "v",
         "showlegend": true,
         "type": "scatter",
         "x": [
          17463
         ],
         "xaxis": "x",
         "y": [
          22388
         ],
         "yaxis": "y"
        },
        {
         "hovertemplate": "CHAMPIONNAME=Lucian<br>TOTALDAMAGEDEALTTOCHAMPIONS=%{x}<br>TOTALDAMAGETAKEN=%{y}<extra></extra>",
         "legendgroup": "Lucian",
         "marker": {
          "color": "#FECB52",
          "symbol": "circle"
         },
         "mode": "markers",
         "name": "Lucian",
         "orientation": "v",
         "showlegend": true,
         "type": "scatter",
         "x": [
          20557
         ],
         "xaxis": "x",
         "y": [
          19177
         ],
         "yaxis": "y"
        },
        {
         "hovertemplate": "CHAMPIONNAME=Lulu<br>TOTALDAMAGEDEALTTOCHAMPIONS=%{x}<br>TOTALDAMAGETAKEN=%{y}<extra></extra>",
         "legendgroup": "Lulu",
         "marker": {
          "color": "#636efa",
          "symbol": "circle"
         },
         "mode": "markers",
         "name": "Lulu",
         "orientation": "v",
         "showlegend": true,
         "type": "scatter",
         "x": [
          5690
         ],
         "xaxis": "x",
         "y": [
          14673
         ],
         "yaxis": "y"
        },
        {
         "hovertemplate": "CHAMPIONNAME=Lux<br>TOTALDAMAGEDEALTTOCHAMPIONS=%{x}<br>TOTALDAMAGETAKEN=%{y}<extra></extra>",
         "legendgroup": "Lux",
         "marker": {
          "color": "#EF553B",
          "symbol": "circle"
         },
         "mode": "markers",
         "name": "Lux",
         "orientation": "v",
         "showlegend": true,
         "type": "scatter",
         "x": [
          16764
         ],
         "xaxis": "x",
         "y": [
          14156
         ],
         "yaxis": "y"
        },
        {
         "hovertemplate": "CHAMPIONNAME=Malphite<br>TOTALDAMAGEDEALTTOCHAMPIONS=%{x}<br>TOTALDAMAGETAKEN=%{y}<extra></extra>",
         "legendgroup": "Malphite",
         "marker": {
          "color": "#00cc96",
          "symbol": "circle"
         },
         "mode": "markers",
         "name": "Malphite",
         "orientation": "v",
         "showlegend": true,
         "type": "scatter",
         "x": [
          15334
         ],
         "xaxis": "x",
         "y": [
          21248
         ],
         "yaxis": "y"
        },
        {
         "hovertemplate": "CHAMPIONNAME=Malzahar<br>TOTALDAMAGEDEALTTOCHAMPIONS=%{x}<br>TOTALDAMAGETAKEN=%{y}<extra></extra>",
         "legendgroup": "Malzahar",
         "marker": {
          "color": "#ab63fa",
          "symbol": "circle"
         },
         "mode": "markers",
         "name": "Malzahar",
         "orientation": "v",
         "showlegend": true,
         "type": "scatter",
         "x": [
          21808
         ],
         "xaxis": "x",
         "y": [
          18365
         ],
         "yaxis": "y"
        },
        {
         "hovertemplate": "CHAMPIONNAME=Maokai<br>TOTALDAMAGEDEALTTOCHAMPIONS=%{x}<br>TOTALDAMAGETAKEN=%{y}<extra></extra>",
         "legendgroup": "Maokai",
         "marker": {
          "color": "#FFA15A",
          "symbol": "circle"
         },
         "mode": "markers",
         "name": "Maokai",
         "orientation": "v",
         "showlegend": true,
         "type": "scatter",
         "x": [
          15927
         ],
         "xaxis": "x",
         "y": [
          27743
         ],
         "yaxis": "y"
        },
        {
         "hovertemplate": "CHAMPIONNAME=MasterYi<br>TOTALDAMAGEDEALTTOCHAMPIONS=%{x}<br>TOTALDAMAGETAKEN=%{y}<extra></extra>",
         "legendgroup": "MasterYi",
         "marker": {
          "color": "#19d3f3",
          "symbol": "circle"
         },
         "mode": "markers",
         "name": "MasterYi",
         "orientation": "v",
         "showlegend": true,
         "type": "scatter",
         "x": [
          18748
         ],
         "xaxis": "x",
         "y": [
          25670
         ],
         "yaxis": "y"
        },
        {
         "hovertemplate": "CHAMPIONNAME=MissFortune<br>TOTALDAMAGEDEALTTOCHAMPIONS=%{x}<br>TOTALDAMAGETAKEN=%{y}<extra></extra>",
         "legendgroup": "MissFortune",
         "marker": {
          "color": "#FF6692",
          "symbol": "circle"
         },
         "mode": "markers",
         "name": "MissFortune",
         "orientation": "v",
         "showlegend": true,
         "type": "scatter",
         "x": [
          19567
         ],
         "xaxis": "x",
         "y": [
          17520
         ],
         "yaxis": "y"
        },
        {
         "hovertemplate": "CHAMPIONNAME=MonkeyKing<br>TOTALDAMAGEDEALTTOCHAMPIONS=%{x}<br>TOTALDAMAGETAKEN=%{y}<extra></extra>",
         "legendgroup": "MonkeyKing",
         "marker": {
          "color": "#B6E880",
          "symbol": "circle"
         },
         "mode": "markers",
         "name": "MonkeyKing",
         "orientation": "v",
         "showlegend": true,
         "type": "scatter",
         "x": [
          18236
         ],
         "xaxis": "x",
         "y": [
          30046
         ],
         "yaxis": "y"
        },
        {
         "hovertemplate": "CHAMPIONNAME=Mordekaiser<br>TOTALDAMAGEDEALTTOCHAMPIONS=%{x}<br>TOTALDAMAGETAKEN=%{y}<extra></extra>",
         "legendgroup": "Mordekaiser",
         "marker": {
          "color": "#FF97FF",
          "symbol": "circle"
         },
         "mode": "markers",
         "name": "Mordekaiser",
         "orientation": "v",
         "showlegend": true,
         "type": "scatter",
         "x": [
          21493
         ],
         "xaxis": "x",
         "y": [
          29521
         ],
         "yaxis": "y"
        },
        {
         "hovertemplate": "CHAMPIONNAME=Morgana<br>TOTALDAMAGEDEALTTOCHAMPIONS=%{x}<br>TOTALDAMAGETAKEN=%{y}<extra></extra>",
         "legendgroup": "Morgana",
         "marker": {
          "color": "#FECB52",
          "symbol": "circle"
         },
         "mode": "markers",
         "name": "Morgana",
         "orientation": "v",
         "showlegend": true,
         "type": "scatter",
         "x": [
          14031
         ],
         "xaxis": "x",
         "y": [
          17133
         ],
         "yaxis": "y"
        },
        {
         "hovertemplate": "CHAMPIONNAME=Nami<br>TOTALDAMAGEDEALTTOCHAMPIONS=%{x}<br>TOTALDAMAGETAKEN=%{y}<extra></extra>",
         "legendgroup": "Nami",
         "marker": {
          "color": "#636efa",
          "symbol": "circle"
         },
         "mode": "markers",
         "name": "Nami",
         "orientation": "v",
         "showlegend": true,
         "type": "scatter",
         "x": [
          7694
         ],
         "xaxis": "x",
         "y": [
          15807
         ],
         "yaxis": "y"
        },
        {
         "hovertemplate": "CHAMPIONNAME=Nasus<br>TOTALDAMAGEDEALTTOCHAMPIONS=%{x}<br>TOTALDAMAGETAKEN=%{y}<extra></extra>",
         "legendgroup": "Nasus",
         "marker": {
          "color": "#EF553B",
          "symbol": "circle"
         },
         "mode": "markers",
         "name": "Nasus",
         "orientation": "v",
         "showlegend": true,
         "type": "scatter",
         "x": [
          16877
         ],
         "xaxis": "x",
         "y": [
          28840
         ],
         "yaxis": "y"
        },
        {
         "hovertemplate": "CHAMPIONNAME=Nautilus<br>TOTALDAMAGEDEALTTOCHAMPIONS=%{x}<br>TOTALDAMAGETAKEN=%{y}<extra></extra>",
         "legendgroup": "Nautilus",
         "marker": {
          "color": "#00cc96",
          "symbol": "circle"
         },
         "mode": "markers",
         "name": "Nautilus",
         "orientation": "v",
         "showlegend": true,
         "type": "scatter",
         "x": [
          8179
         ],
         "xaxis": "x",
         "y": [
          19938
         ],
         "yaxis": "y"
        },
        {
         "hovertemplate": "CHAMPIONNAME=Neeko<br>TOTALDAMAGEDEALTTOCHAMPIONS=%{x}<br>TOTALDAMAGETAKEN=%{y}<extra></extra>",
         "legendgroup": "Neeko",
         "marker": {
          "color": "#ab63fa",
          "symbol": "circle"
         },
         "mode": "markers",
         "name": "Neeko",
         "orientation": "v",
         "showlegend": true,
         "type": "scatter",
         "x": [
          17539
         ],
         "xaxis": "x",
         "y": [
          18982
         ],
         "yaxis": "y"
        },
        {
         "hovertemplate": "CHAMPIONNAME=Nidalee<br>TOTALDAMAGEDEALTTOCHAMPIONS=%{x}<br>TOTALDAMAGETAKEN=%{y}<extra></extra>",
         "legendgroup": "Nidalee",
         "marker": {
          "color": "#FFA15A",
          "symbol": "circle"
         },
         "mode": "markers",
         "name": "Nidalee",
         "orientation": "v",
         "showlegend": true,
         "type": "scatter",
         "x": [
          18349
         ],
         "xaxis": "x",
         "y": [
          29116
         ],
         "yaxis": "y"
        },
        {
         "hovertemplate": "CHAMPIONNAME=Nocturne<br>TOTALDAMAGEDEALTTOCHAMPIONS=%{x}<br>TOTALDAMAGETAKEN=%{y}<extra></extra>",
         "legendgroup": "Nocturne",
         "marker": {
          "color": "#19d3f3",
          "symbol": "circle"
         },
         "mode": "markers",
         "name": "Nocturne",
         "orientation": "v",
         "showlegend": true,
         "type": "scatter",
         "x": [
          16892
         ],
         "xaxis": "x",
         "y": [
          31031
         ],
         "yaxis": "y"
        },
        {
         "hovertemplate": "CHAMPIONNAME=Nunu<br>TOTALDAMAGEDEALTTOCHAMPIONS=%{x}<br>TOTALDAMAGETAKEN=%{y}<extra></extra>",
         "legendgroup": "Nunu",
         "marker": {
          "color": "#FF6692",
          "symbol": "circle"
         },
         "mode": "markers",
         "name": "Nunu",
         "orientation": "v",
         "showlegend": true,
         "type": "scatter",
         "x": [
          14959
         ],
         "xaxis": "x",
         "y": [
          32060
         ],
         "yaxis": "y"
        },
        {
         "hovertemplate": "CHAMPIONNAME=Olaf<br>TOTALDAMAGEDEALTTOCHAMPIONS=%{x}<br>TOTALDAMAGETAKEN=%{y}<extra></extra>",
         "legendgroup": "Olaf",
         "marker": {
          "color": "#B6E880",
          "symbol": "circle"
         },
         "mode": "markers",
         "name": "Olaf",
         "orientation": "v",
         "showlegend": true,
         "type": "scatter",
         "x": [
          21682
         ],
         "xaxis": "x",
         "y": [
          30031
         ],
         "yaxis": "y"
        },
        {
         "hovertemplate": "CHAMPIONNAME=Orianna<br>TOTALDAMAGEDEALTTOCHAMPIONS=%{x}<br>TOTALDAMAGETAKEN=%{y}<extra></extra>",
         "legendgroup": "Orianna",
         "marker": {
          "color": "#FF97FF",
          "symbol": "circle"
         },
         "mode": "markers",
         "name": "Orianna",
         "orientation": "v",
         "showlegend": true,
         "type": "scatter",
         "x": [
          18943
         ],
         "xaxis": "x",
         "y": [
          19987
         ],
         "yaxis": "y"
        },
        {
         "hovertemplate": "CHAMPIONNAME=Ornn<br>TOTALDAMAGEDEALTTOCHAMPIONS=%{x}<br>TOTALDAMAGETAKEN=%{y}<extra></extra>",
         "legendgroup": "Ornn",
         "marker": {
          "color": "#FECB52",
          "symbol": "circle"
         },
         "mode": "markers",
         "name": "Ornn",
         "orientation": "v",
         "showlegend": true,
         "type": "scatter",
         "x": [
          13940
         ],
         "xaxis": "x",
         "y": [
          25212
         ],
         "yaxis": "y"
        },
        {
         "hovertemplate": "CHAMPIONNAME=Pantheon<br>TOTALDAMAGEDEALTTOCHAMPIONS=%{x}<br>TOTALDAMAGETAKEN=%{y}<extra></extra>",
         "legendgroup": "Pantheon",
         "marker": {
          "color": "#636efa",
          "symbol": "circle"
         },
         "mode": "markers",
         "name": "Pantheon",
         "orientation": "v",
         "showlegend": true,
         "type": "scatter",
         "x": [
          17929
         ],
         "xaxis": "x",
         "y": [
          23676
         ],
         "yaxis": "y"
        },
        {
         "hovertemplate": "CHAMPIONNAME=Poppy<br>TOTALDAMAGEDEALTTOCHAMPIONS=%{x}<br>TOTALDAMAGETAKEN=%{y}<extra></extra>",
         "legendgroup": "Poppy",
         "marker": {
          "color": "#EF553B",
          "symbol": "circle"
         },
         "mode": "markers",
         "name": "Poppy",
         "orientation": "v",
         "showlegend": true,
         "type": "scatter",
         "x": [
          14997
         ],
         "xaxis": "x",
         "y": [
          24503
         ],
         "yaxis": "y"
        },
        {
         "hovertemplate": "CHAMPIONNAME=Pyke<br>TOTALDAMAGEDEALTTOCHAMPIONS=%{x}<br>TOTALDAMAGETAKEN=%{y}<extra></extra>",
         "legendgroup": "Pyke",
         "marker": {
          "color": "#00cc96",
          "symbol": "circle"
         },
         "mode": "markers",
         "name": "Pyke",
         "orientation": "v",
         "showlegend": true,
         "type": "scatter",
         "x": [
          10399
         ],
         "xaxis": "x",
         "y": [
          20231
         ],
         "yaxis": "y"
        },
        {
         "hovertemplate": "CHAMPIONNAME=Qiyana<br>TOTALDAMAGEDEALTTOCHAMPIONS=%{x}<br>TOTALDAMAGETAKEN=%{y}<extra></extra>",
         "legendgroup": "Qiyana",
         "marker": {
          "color": "#ab63fa",
          "symbol": "circle"
         },
         "mode": "markers",
         "name": "Qiyana",
         "orientation": "v",
         "showlegend": true,
         "type": "scatter",
         "x": [
          19244
         ],
         "xaxis": "x",
         "y": [
          21988
         ],
         "yaxis": "y"
        },
        {
         "hovertemplate": "CHAMPIONNAME=Quinn<br>TOTALDAMAGEDEALTTOCHAMPIONS=%{x}<br>TOTALDAMAGETAKEN=%{y}<extra></extra>",
         "legendgroup": "Quinn",
         "marker": {
          "color": "#FFA15A",
          "symbol": "circle"
         },
         "mode": "markers",
         "name": "Quinn",
         "orientation": "v",
         "showlegend": true,
         "type": "scatter",
         "x": [
          21488
         ],
         "xaxis": "x",
         "y": [
          22392
         ],
         "yaxis": "y"
        },
        {
         "hovertemplate": "CHAMPIONNAME=Rakan<br>TOTALDAMAGEDEALTTOCHAMPIONS=%{x}<br>TOTALDAMAGETAKEN=%{y}<extra></extra>",
         "legendgroup": "Rakan",
         "marker": {
          "color": "#19d3f3",
          "symbol": "circle"
         },
         "mode": "markers",
         "name": "Rakan",
         "orientation": "v",
         "showlegend": true,
         "type": "scatter",
         "x": [
          7037
         ],
         "xaxis": "x",
         "y": [
          17701
         ],
         "yaxis": "y"
        },
        {
         "hovertemplate": "CHAMPIONNAME=Rammus<br>TOTALDAMAGEDEALTTOCHAMPIONS=%{x}<br>TOTALDAMAGETAKEN=%{y}<extra></extra>",
         "legendgroup": "Rammus",
         "marker": {
          "color": "#FF6692",
          "symbol": "circle"
         },
         "mode": "markers",
         "name": "Rammus",
         "orientation": "v",
         "showlegend": true,
         "type": "scatter",
         "x": [
          11673
         ],
         "xaxis": "x",
         "y": [
          24711
         ],
         "yaxis": "y"
        },
        {
         "hovertemplate": "CHAMPIONNAME=RekSai<br>TOTALDAMAGEDEALTTOCHAMPIONS=%{x}<br>TOTALDAMAGETAKEN=%{y}<extra></extra>",
         "legendgroup": "RekSai",
         "marker": {
          "color": "#B6E880",
          "symbol": "circle"
         },
         "mode": "markers",
         "name": "RekSai",
         "orientation": "v",
         "showlegend": true,
         "type": "scatter",
         "x": [
          16129
         ],
         "xaxis": "x",
         "y": [
          25301
         ],
         "yaxis": "y"
        },
        {
         "hovertemplate": "CHAMPIONNAME=Rell<br>TOTALDAMAGEDEALTTOCHAMPIONS=%{x}<br>TOTALDAMAGETAKEN=%{y}<extra></extra>",
         "legendgroup": "Rell",
         "marker": {
          "color": "#FF97FF",
          "symbol": "circle"
         },
         "mode": "markers",
         "name": "Rell",
         "orientation": "v",
         "showlegend": true,
         "type": "scatter",
         "x": [
          7051
         ],
         "xaxis": "x",
         "y": [
          18242
         ],
         "yaxis": "y"
        },
        {
         "hovertemplate": "CHAMPIONNAME=Renata<br>TOTALDAMAGEDEALTTOCHAMPIONS=%{x}<br>TOTALDAMAGETAKEN=%{y}<extra></extra>",
         "legendgroup": "Renata",
         "marker": {
          "color": "#FECB52",
          "symbol": "circle"
         },
         "mode": "markers",
         "name": "Renata",
         "orientation": "v",
         "showlegend": true,
         "type": "scatter",
         "x": [
          9230
         ],
         "xaxis": "x",
         "y": [
          19273
         ],
         "yaxis": "y"
        },
        {
         "hovertemplate": "CHAMPIONNAME=Renekton<br>TOTALDAMAGEDEALTTOCHAMPIONS=%{x}<br>TOTALDAMAGETAKEN=%{y}<extra></extra>",
         "legendgroup": "Renekton",
         "marker": {
          "color": "#636efa",
          "symbol": "circle"
         },
         "mode": "markers",
         "name": "Renekton",
         "orientation": "v",
         "showlegend": true,
         "type": "scatter",
         "x": [
          17189
         ],
         "xaxis": "x",
         "y": [
          30755
         ],
         "yaxis": "y"
        },
        {
         "hovertemplate": "CHAMPIONNAME=Rengar<br>TOTALDAMAGEDEALTTOCHAMPIONS=%{x}<br>TOTALDAMAGETAKEN=%{y}<extra></extra>",
         "legendgroup": "Rengar",
         "marker": {
          "color": "#EF553B",
          "symbol": "circle"
         },
         "mode": "markers",
         "name": "Rengar",
         "orientation": "v",
         "showlegend": true,
         "type": "scatter",
         "x": [
          16257
         ],
         "xaxis": "x",
         "y": [
          23560
         ],
         "yaxis": "y"
        },
        {
         "hovertemplate": "CHAMPIONNAME=Riven<br>TOTALDAMAGEDEALTTOCHAMPIONS=%{x}<br>TOTALDAMAGETAKEN=%{y}<extra></extra>",
         "legendgroup": "Riven",
         "marker": {
          "color": "#00cc96",
          "symbol": "circle"
         },
         "mode": "markers",
         "name": "Riven",
         "orientation": "v",
         "showlegend": true,
         "type": "scatter",
         "x": [
          17534
         ],
         "xaxis": "x",
         "y": [
          26532
         ],
         "yaxis": "y"
        },
        {
         "hovertemplate": "CHAMPIONNAME=Rumble<br>TOTALDAMAGEDEALTTOCHAMPIONS=%{x}<br>TOTALDAMAGETAKEN=%{y}<extra></extra>",
         "legendgroup": "Rumble",
         "marker": {
          "color": "#ab63fa",
          "symbol": "circle"
         },
         "mode": "markers",
         "name": "Rumble",
         "orientation": "v",
         "showlegend": true,
         "type": "scatter",
         "x": [
          21438
         ],
         "xaxis": "x",
         "y": [
          22637
         ],
         "yaxis": "y"
        },
        {
         "hovertemplate": "CHAMPIONNAME=Ryze<br>TOTALDAMAGEDEALTTOCHAMPIONS=%{x}<br>TOTALDAMAGETAKEN=%{y}<extra></extra>",
         "legendgroup": "Ryze",
         "marker": {
          "color": "#FFA15A",
          "symbol": "circle"
         },
         "mode": "markers",
         "name": "Ryze",
         "orientation": "v",
         "showlegend": true,
         "type": "scatter",
         "x": [
          17817
         ],
         "xaxis": "x",
         "y": [
          24117
         ],
         "yaxis": "y"
        },
        {
         "hovertemplate": "CHAMPIONNAME=Samira<br>TOTALDAMAGEDEALTTOCHAMPIONS=%{x}<br>TOTALDAMAGETAKEN=%{y}<extra></extra>",
         "legendgroup": "Samira",
         "marker": {
          "color": "#19d3f3",
          "symbol": "circle"
         },
         "mode": "markers",
         "name": "Samira",
         "orientation": "v",
         "showlegend": true,
         "type": "scatter",
         "x": [
          21601
         ],
         "xaxis": "x",
         "y": [
          22189
         ],
         "yaxis": "y"
        },
        {
         "hovertemplate": "CHAMPIONNAME=Sejuani<br>TOTALDAMAGEDEALTTOCHAMPIONS=%{x}<br>TOTALDAMAGETAKEN=%{y}<extra></extra>",
         "legendgroup": "Sejuani",
         "marker": {
          "color": "#FF6692",
          "symbol": "circle"
         },
         "mode": "markers",
         "name": "Sejuani",
         "orientation": "v",
         "showlegend": true,
         "type": "scatter",
         "x": [
          14981
         ],
         "xaxis": "x",
         "y": [
          31141
         ],
         "yaxis": "y"
        },
        {
         "hovertemplate": "CHAMPIONNAME=Senna<br>TOTALDAMAGEDEALTTOCHAMPIONS=%{x}<br>TOTALDAMAGETAKEN=%{y}<extra></extra>",
         "legendgroup": "Senna",
         "marker": {
          "color": "#B6E880",
          "symbol": "circle"
         },
         "mode": "markers",
         "name": "Senna",
         "orientation": "v",
         "showlegend": true,
         "type": "scatter",
         "x": [
          16364
         ],
         "xaxis": "x",
         "y": [
          16308
         ],
         "yaxis": "y"
        },
        {
         "hovertemplate": "CHAMPIONNAME=Seraphine<br>TOTALDAMAGEDEALTTOCHAMPIONS=%{x}<br>TOTALDAMAGETAKEN=%{y}<extra></extra>",
         "legendgroup": "Seraphine",
         "marker": {
          "color": "#FF97FF",
          "symbol": "circle"
         },
         "mode": "markers",
         "name": "Seraphine",
         "orientation": "v",
         "showlegend": true,
         "type": "scatter",
         "x": [
          11233
         ],
         "xaxis": "x",
         "y": [
          15855
         ],
         "yaxis": "y"
        },
        {
         "hovertemplate": "CHAMPIONNAME=Sett<br>TOTALDAMAGEDEALTTOCHAMPIONS=%{x}<br>TOTALDAMAGETAKEN=%{y}<extra></extra>",
         "legendgroup": "Sett",
         "marker": {
          "color": "#FECB52",
          "symbol": "circle"
         },
         "mode": "markers",
         "name": "Sett",
         "orientation": "v",
         "showlegend": true,
         "type": "scatter",
         "x": [
          18161
         ],
         "xaxis": "x",
         "y": [
          29037
         ],
         "yaxis": "y"
        },
        {
         "hovertemplate": "CHAMPIONNAME=Shaco<br>TOTALDAMAGEDEALTTOCHAMPIONS=%{x}<br>TOTALDAMAGETAKEN=%{y}<extra></extra>",
         "legendgroup": "Shaco",
         "marker": {
          "color": "#636efa",
          "symbol": "circle"
         },
         "mode": "markers",
         "name": "Shaco",
         "orientation": "v",
         "showlegend": true,
         "type": "scatter",
         "x": [
          17669
         ],
         "xaxis": "x",
         "y": [
          22407
         ],
         "yaxis": "y"
        },
        {
         "hovertemplate": "CHAMPIONNAME=Shen<br>TOTALDAMAGEDEALTTOCHAMPIONS=%{x}<br>TOTALDAMAGETAKEN=%{y}<extra></extra>",
         "legendgroup": "Shen",
         "marker": {
          "color": "#EF553B",
          "symbol": "circle"
         },
         "mode": "markers",
         "name": "Shen",
         "orientation": "v",
         "showlegend": true,
         "type": "scatter",
         "x": [
          12315
         ],
         "xaxis": "x",
         "y": [
          24860
         ],
         "yaxis": "y"
        },
        {
         "hovertemplate": "CHAMPIONNAME=Shyvana<br>TOTALDAMAGEDEALTTOCHAMPIONS=%{x}<br>TOTALDAMAGETAKEN=%{y}<extra></extra>",
         "legendgroup": "Shyvana",
         "marker": {
          "color": "#00cc96",
          "symbol": "circle"
         },
         "mode": "markers",
         "name": "Shyvana",
         "orientation": "v",
         "showlegend": true,
         "type": "scatter",
         "x": [
          22172
         ],
         "xaxis": "x",
         "y": [
          30685
         ],
         "yaxis": "y"
        },
        {
         "hovertemplate": "CHAMPIONNAME=Singed<br>TOTALDAMAGEDEALTTOCHAMPIONS=%{x}<br>TOTALDAMAGETAKEN=%{y}<extra></extra>",
         "legendgroup": "Singed",
         "marker": {
          "color": "#ab63fa",
          "symbol": "circle"
         },
         "mode": "markers",
         "name": "Singed",
         "orientation": "v",
         "showlegend": true,
         "type": "scatter",
         "x": [
          15140
         ],
         "xaxis": "x",
         "y": [
          27633
         ],
         "yaxis": "y"
        },
        {
         "hovertemplate": "CHAMPIONNAME=Sion<br>TOTALDAMAGEDEALTTOCHAMPIONS=%{x}<br>TOTALDAMAGETAKEN=%{y}<extra></extra>",
         "legendgroup": "Sion",
         "marker": {
          "color": "#FFA15A",
          "symbol": "circle"
         },
         "mode": "markers",
         "name": "Sion",
         "orientation": "v",
         "showlegend": true,
         "type": "scatter",
         "x": [
          17492
         ],
         "xaxis": "x",
         "y": [
          34431
         ],
         "yaxis": "y"
        },
        {
         "hovertemplate": "CHAMPIONNAME=Sivir<br>TOTALDAMAGEDEALTTOCHAMPIONS=%{x}<br>TOTALDAMAGETAKEN=%{y}<extra></extra>",
         "legendgroup": "Sivir",
         "marker": {
          "color": "#19d3f3",
          "symbol": "circle"
         },
         "mode": "markers",
         "name": "Sivir",
         "orientation": "v",
         "showlegend": true,
         "type": "scatter",
         "x": [
          18600
         ],
         "xaxis": "x",
         "y": [
          17120
         ],
         "yaxis": "y"
        },
        {
         "hovertemplate": "CHAMPIONNAME=Skarner<br>TOTALDAMAGEDEALTTOCHAMPIONS=%{x}<br>TOTALDAMAGETAKEN=%{y}<extra></extra>",
         "legendgroup": "Skarner",
         "marker": {
          "color": "#FF6692",
          "symbol": "circle"
         },
         "mode": "markers",
         "name": "Skarner",
         "orientation": "v",
         "showlegend": true,
         "type": "scatter",
         "x": [
          16009
         ],
         "xaxis": "x",
         "y": [
          29716
         ],
         "yaxis": "y"
        },
        {
         "hovertemplate": "CHAMPIONNAME=Sona<br>TOTALDAMAGEDEALTTOCHAMPIONS=%{x}<br>TOTALDAMAGETAKEN=%{y}<extra></extra>",
         "legendgroup": "Sona",
         "marker": {
          "color": "#B6E880",
          "symbol": "circle"
         },
         "mode": "markers",
         "name": "Sona",
         "orientation": "v",
         "showlegend": true,
         "type": "scatter",
         "x": [
          10488
         ],
         "xaxis": "x",
         "y": [
          18525
         ],
         "yaxis": "y"
        },
        {
         "hovertemplate": "CHAMPIONNAME=Soraka<br>TOTALDAMAGEDEALTTOCHAMPIONS=%{x}<br>TOTALDAMAGETAKEN=%{y}<extra></extra>",
         "legendgroup": "Soraka",
         "marker": {
          "color": "#FF97FF",
          "symbol": "circle"
         },
         "mode": "markers",
         "name": "Soraka",
         "orientation": "v",
         "showlegend": true,
         "type": "scatter",
         "x": [
          6149
         ],
         "xaxis": "x",
         "y": [
          14984
         ],
         "yaxis": "y"
        },
        {
         "hovertemplate": "CHAMPIONNAME=Swain<br>TOTALDAMAGEDEALTTOCHAMPIONS=%{x}<br>TOTALDAMAGETAKEN=%{y}<extra></extra>",
         "legendgroup": "Swain",
         "marker": {
          "color": "#FECB52",
          "symbol": "circle"
         },
         "mode": "markers",
         "name": "Swain",
         "orientation": "v",
         "showlegend": true,
         "type": "scatter",
         "x": [
          19113
         ],
         "xaxis": "x",
         "y": [
          25899
         ],
         "yaxis": "y"
        },
        {
         "hovertemplate": "CHAMPIONNAME=Sylas<br>TOTALDAMAGEDEALTTOCHAMPIONS=%{x}<br>TOTALDAMAGETAKEN=%{y}<extra></extra>",
         "legendgroup": "Sylas",
         "marker": {
          "color": "#636efa",
          "symbol": "circle"
         },
         "mode": "markers",
         "name": "Sylas",
         "orientation": "v",
         "showlegend": true,
         "type": "scatter",
         "x": [
          19553
         ],
         "xaxis": "x",
         "y": [
          29198
         ],
         "yaxis": "y"
        },
        {
         "hovertemplate": "CHAMPIONNAME=Syndra<br>TOTALDAMAGEDEALTTOCHAMPIONS=%{x}<br>TOTALDAMAGETAKEN=%{y}<extra></extra>",
         "legendgroup": "Syndra",
         "marker": {
          "color": "#EF553B",
          "symbol": "circle"
         },
         "mode": "markers",
         "name": "Syndra",
         "orientation": "v",
         "showlegend": true,
         "type": "scatter",
         "x": [
          21819
         ],
         "xaxis": "x",
         "y": [
          19209
         ],
         "yaxis": "y"
        },
        {
         "hovertemplate": "CHAMPIONNAME=TahmKench<br>TOTALDAMAGEDEALTTOCHAMPIONS=%{x}<br>TOTALDAMAGETAKEN=%{y}<extra></extra>",
         "legendgroup": "TahmKench",
         "marker": {
          "color": "#00cc96",
          "symbol": "circle"
         },
         "mode": "markers",
         "name": "TahmKench",
         "orientation": "v",
         "showlegend": true,
         "type": "scatter",
         "x": [
          12893
         ],
         "xaxis": "x",
         "y": [
          27116
         ],
         "yaxis": "y"
        },
        {
         "hovertemplate": "CHAMPIONNAME=Taliyah<br>TOTALDAMAGEDEALTTOCHAMPIONS=%{x}<br>TOTALDAMAGETAKEN=%{y}<extra></extra>",
         "legendgroup": "Taliyah",
         "marker": {
          "color": "#ab63fa",
          "symbol": "circle"
         },
         "mode": "markers",
         "name": "Taliyah",
         "orientation": "v",
         "showlegend": true,
         "type": "scatter",
         "x": [
          25361
         ],
         "xaxis": "x",
         "y": [
          25089
         ],
         "yaxis": "y"
        },
        {
         "hovertemplate": "CHAMPIONNAME=Talon<br>TOTALDAMAGEDEALTTOCHAMPIONS=%{x}<br>TOTALDAMAGETAKEN=%{y}<extra></extra>",
         "legendgroup": "Talon",
         "marker": {
          "color": "#FFA15A",
          "symbol": "circle"
         },
         "mode": "markers",
         "name": "Talon",
         "orientation": "v",
         "showlegend": true,
         "type": "scatter",
         "x": [
          21246
         ],
         "xaxis": "x",
         "y": [
          28310
         ],
         "yaxis": "y"
        },
        {
         "hovertemplate": "CHAMPIONNAME=Taric<br>TOTALDAMAGEDEALTTOCHAMPIONS=%{x}<br>TOTALDAMAGETAKEN=%{y}<extra></extra>",
         "legendgroup": "Taric",
         "marker": {
          "color": "#19d3f3",
          "symbol": "circle"
         },
         "mode": "markers",
         "name": "Taric",
         "orientation": "v",
         "showlegend": true,
         "type": "scatter",
         "x": [
          6526
         ],
         "xaxis": "x",
         "y": [
          18810
         ],
         "yaxis": "y"
        },
        {
         "hovertemplate": "CHAMPIONNAME=Teemo<br>TOTALDAMAGEDEALTTOCHAMPIONS=%{x}<br>TOTALDAMAGETAKEN=%{y}<extra></extra>",
         "legendgroup": "Teemo",
         "marker": {
          "color": "#FF6692",
          "symbol": "circle"
         },
         "mode": "markers",
         "name": "Teemo",
         "orientation": "v",
         "showlegend": true,
         "type": "scatter",
         "x": [
          24787
         ],
         "xaxis": "x",
         "y": [
          21138
         ],
         "yaxis": "y"
        },
        {
         "hovertemplate": "CHAMPIONNAME=Thresh<br>TOTALDAMAGEDEALTTOCHAMPIONS=%{x}<br>TOTALDAMAGETAKEN=%{y}<extra></extra>",
         "legendgroup": "Thresh",
         "marker": {
          "color": "#B6E880",
          "symbol": "circle"
         },
         "mode": "markers",
         "name": "Thresh",
         "orientation": "v",
         "showlegend": true,
         "type": "scatter",
         "x": [
          6461
         ],
         "xaxis": "x",
         "y": [
          17961
         ],
         "yaxis": "y"
        },
        {
         "hovertemplate": "CHAMPIONNAME=Tristana<br>TOTALDAMAGEDEALTTOCHAMPIONS=%{x}<br>TOTALDAMAGETAKEN=%{y}<extra></extra>",
         "legendgroup": "Tristana",
         "marker": {
          "color": "#FF97FF",
          "symbol": "circle"
         },
         "mode": "markers",
         "name": "Tristana",
         "orientation": "v",
         "showlegend": true,
         "type": "scatter",
         "x": [
          19002
         ],
         "xaxis": "x",
         "y": [
          19339
         ],
         "yaxis": "y"
        },
        {
         "hovertemplate": "CHAMPIONNAME=Trundle<br>TOTALDAMAGEDEALTTOCHAMPIONS=%{x}<br>TOTALDAMAGETAKEN=%{y}<extra></extra>",
         "legendgroup": "Trundle",
         "marker": {
          "color": "#FECB52",
          "symbol": "circle"
         },
         "mode": "markers",
         "name": "Trundle",
         "orientation": "v",
         "showlegend": true,
         "type": "scatter",
         "x": [
          15294
         ],
         "xaxis": "x",
         "y": [
          31360
         ],
         "yaxis": "y"
        },
        {
         "hovertemplate": "CHAMPIONNAME=Tryndamere<br>TOTALDAMAGEDEALTTOCHAMPIONS=%{x}<br>TOTALDAMAGETAKEN=%{y}<extra></extra>",
         "legendgroup": "Tryndamere",
         "marker": {
          "color": "#636efa",
          "symbol": "circle"
         },
         "mode": "markers",
         "name": "Tryndamere",
         "orientation": "v",
         "showlegend": true,
         "type": "scatter",
         "x": [
          14781
         ],
         "xaxis": "x",
         "y": [
          29944
         ],
         "yaxis": "y"
        },
        {
         "hovertemplate": "CHAMPIONNAME=TwistedFate<br>TOTALDAMAGEDEALTTOCHAMPIONS=%{x}<br>TOTALDAMAGETAKEN=%{y}<extra></extra>",
         "legendgroup": "TwistedFate",
         "marker": {
          "color": "#EF553B",
          "symbol": "circle"
         },
         "mode": "markers",
         "name": "TwistedFate",
         "orientation": "v",
         "showlegend": true,
         "type": "scatter",
         "x": [
          14427
         ],
         "xaxis": "x",
         "y": [
          20118
         ],
         "yaxis": "y"
        },
        {
         "hovertemplate": "CHAMPIONNAME=Twitch<br>TOTALDAMAGEDEALTTOCHAMPIONS=%{x}<br>TOTALDAMAGETAKEN=%{y}<extra></extra>",
         "legendgroup": "Twitch",
         "marker": {
          "color": "#00cc96",
          "symbol": "circle"
         },
         "mode": "markers",
         "name": "Twitch",
         "orientation": "v",
         "showlegend": true,
         "type": "scatter",
         "x": [
          22057
         ],
         "xaxis": "x",
         "y": [
          20750
         ],
         "yaxis": "y"
        },
        {
         "hovertemplate": "CHAMPIONNAME=Udyr<br>TOTALDAMAGEDEALTTOCHAMPIONS=%{x}<br>TOTALDAMAGETAKEN=%{y}<extra></extra>",
         "legendgroup": "Udyr",
         "marker": {
          "color": "#ab63fa",
          "symbol": "circle"
         },
         "mode": "markers",
         "name": "Udyr",
         "orientation": "v",
         "showlegend": true,
         "type": "scatter",
         "x": [
          18819
         ],
         "xaxis": "x",
         "y": [
          38553
         ],
         "yaxis": "y"
        },
        {
         "hovertemplate": "CHAMPIONNAME=Urgot<br>TOTALDAMAGEDEALTTOCHAMPIONS=%{x}<br>TOTALDAMAGETAKEN=%{y}<extra></extra>",
         "legendgroup": "Urgot",
         "marker": {
          "color": "#FFA15A",
          "symbol": "circle"
         },
         "mode": "markers",
         "name": "Urgot",
         "orientation": "v",
         "showlegend": true,
         "type": "scatter",
         "x": [
          17247
         ],
         "xaxis": "x",
         "y": [
          24375
         ],
         "yaxis": "y"
        },
        {
         "hovertemplate": "CHAMPIONNAME=Varus<br>TOTALDAMAGEDEALTTOCHAMPIONS=%{x}<br>TOTALDAMAGETAKEN=%{y}<extra></extra>",
         "legendgroup": "Varus",
         "marker": {
          "color": "#19d3f3",
          "symbol": "circle"
         },
         "mode": "markers",
         "name": "Varus",
         "orientation": "v",
         "showlegend": true,
         "type": "scatter",
         "x": [
          21746
         ],
         "xaxis": "x",
         "y": [
          20400
         ],
         "yaxis": "y"
        },
        {
         "hovertemplate": "CHAMPIONNAME=Vayne<br>TOTALDAMAGEDEALTTOCHAMPIONS=%{x}<br>TOTALDAMAGETAKEN=%{y}<extra></extra>",
         "legendgroup": "Vayne",
         "marker": {
          "color": "#FF6692",
          "symbol": "circle"
         },
         "mode": "markers",
         "name": "Vayne",
         "orientation": "v",
         "showlegend": true,
         "type": "scatter",
         "x": [
          21180
         ],
         "xaxis": "x",
         "y": [
          21707
         ],
         "yaxis": "y"
        },
        {
         "hovertemplate": "CHAMPIONNAME=Veigar<br>TOTALDAMAGEDEALTTOCHAMPIONS=%{x}<br>TOTALDAMAGETAKEN=%{y}<extra></extra>",
         "legendgroup": "Veigar",
         "marker": {
          "color": "#B6E880",
          "symbol": "circle"
         },
         "mode": "markers",
         "name": "Veigar",
         "orientation": "v",
         "showlegend": true,
         "type": "scatter",
         "x": [
          20417
         ],
         "xaxis": "x",
         "y": [
          19816
         ],
         "yaxis": "y"
        },
        {
         "hovertemplate": "CHAMPIONNAME=Velkoz<br>TOTALDAMAGEDEALTTOCHAMPIONS=%{x}<br>TOTALDAMAGETAKEN=%{y}<extra></extra>",
         "legendgroup": "Velkoz",
         "marker": {
          "color": "#FF97FF",
          "symbol": "circle"
         },
         "mode": "markers",
         "name": "Velkoz",
         "orientation": "v",
         "showlegend": true,
         "type": "scatter",
         "x": [
          21083
         ],
         "xaxis": "x",
         "y": [
          17066
         ],
         "yaxis": "y"
        },
        {
         "hovertemplate": "CHAMPIONNAME=Vex<br>TOTALDAMAGEDEALTTOCHAMPIONS=%{x}<br>TOTALDAMAGETAKEN=%{y}<extra></extra>",
         "legendgroup": "Vex",
         "marker": {
          "color": "#FECB52",
          "symbol": "circle"
         },
         "mode": "markers",
         "name": "Vex",
         "orientation": "v",
         "showlegend": true,
         "type": "scatter",
         "x": [
          22093
         ],
         "xaxis": "x",
         "y": [
          20211
         ],
         "yaxis": "y"
        },
        {
         "hovertemplate": "CHAMPIONNAME=Vi<br>TOTALDAMAGEDEALTTOCHAMPIONS=%{x}<br>TOTALDAMAGETAKEN=%{y}<extra></extra>",
         "legendgroup": "Vi",
         "marker": {
          "color": "#636efa",
          "symbol": "circle"
         },
         "mode": "markers",
         "name": "Vi",
         "orientation": "v",
         "showlegend": true,
         "type": "scatter",
         "x": [
          17146
         ],
         "xaxis": "x",
         "y": [
          26154
         ],
         "yaxis": "y"
        },
        {
         "hovertemplate": "CHAMPIONNAME=Viego<br>TOTALDAMAGEDEALTTOCHAMPIONS=%{x}<br>TOTALDAMAGETAKEN=%{y}<extra></extra>",
         "legendgroup": "Viego",
         "marker": {
          "color": "#EF553B",
          "symbol": "circle"
         },
         "mode": "markers",
         "name": "Viego",
         "orientation": "v",
         "showlegend": true,
         "type": "scatter",
         "x": [
          17300
         ],
         "xaxis": "x",
         "y": [
          30380
         ],
         "yaxis": "y"
        },
        {
         "hovertemplate": "CHAMPIONNAME=Viktor<br>TOTALDAMAGEDEALTTOCHAMPIONS=%{x}<br>TOTALDAMAGETAKEN=%{y}<extra></extra>",
         "legendgroup": "Viktor",
         "marker": {
          "color": "#00cc96",
          "symbol": "circle"
         },
         "mode": "markers",
         "name": "Viktor",
         "orientation": "v",
         "showlegend": true,
         "type": "scatter",
         "x": [
          23256
         ],
         "xaxis": "x",
         "y": [
          15943
         ],
         "yaxis": "y"
        },
        {
         "hovertemplate": "CHAMPIONNAME=Vladimir<br>TOTALDAMAGEDEALTTOCHAMPIONS=%{x}<br>TOTALDAMAGETAKEN=%{y}<extra></extra>",
         "legendgroup": "Vladimir",
         "marker": {
          "color": "#ab63fa",
          "symbol": "circle"
         },
         "mode": "markers",
         "name": "Vladimir",
         "orientation": "v",
         "showlegend": true,
         "type": "scatter",
         "x": [
          20628
         ],
         "xaxis": "x",
         "y": [
          27640
         ],
         "yaxis": "y"
        },
        {
         "hovertemplate": "CHAMPIONNAME=Volibear<br>TOTALDAMAGEDEALTTOCHAMPIONS=%{x}<br>TOTALDAMAGETAKEN=%{y}<extra></extra>",
         "legendgroup": "Volibear",
         "marker": {
          "color": "#FFA15A",
          "symbol": "circle"
         },
         "mode": "markers",
         "name": "Volibear",
         "orientation": "v",
         "showlegend": true,
         "type": "scatter",
         "x": [
          16905
         ],
         "xaxis": "x",
         "y": [
          29099
         ],
         "yaxis": "y"
        },
        {
         "hovertemplate": "CHAMPIONNAME=Warwick<br>TOTALDAMAGEDEALTTOCHAMPIONS=%{x}<br>TOTALDAMAGETAKEN=%{y}<extra></extra>",
         "legendgroup": "Warwick",
         "marker": {
          "color": "#19d3f3",
          "symbol": "circle"
         },
         "mode": "markers",
         "name": "Warwick",
         "orientation": "v",
         "showlegend": true,
         "type": "scatter",
         "x": [
          17696
         ],
         "xaxis": "x",
         "y": [
          34607
         ],
         "yaxis": "y"
        },
        {
         "hovertemplate": "CHAMPIONNAME=Xayah<br>TOTALDAMAGEDEALTTOCHAMPIONS=%{x}<br>TOTALDAMAGETAKEN=%{y}<extra></extra>",
         "legendgroup": "Xayah",
         "marker": {
          "color": "#FF6692",
          "symbol": "circle"
         },
         "mode": "markers",
         "name": "Xayah",
         "orientation": "v",
         "showlegend": true,
         "type": "scatter",
         "x": [
          21735
         ],
         "xaxis": "x",
         "y": [
          18196
         ],
         "yaxis": "y"
        },
        {
         "hovertemplate": "CHAMPIONNAME=Xerath<br>TOTALDAMAGEDEALTTOCHAMPIONS=%{x}<br>TOTALDAMAGETAKEN=%{y}<extra></extra>",
         "legendgroup": "Xerath",
         "marker": {
          "color": "#B6E880",
          "symbol": "circle"
         },
         "mode": "markers",
         "name": "Xerath",
         "orientation": "v",
         "showlegend": true,
         "type": "scatter",
         "x": [
          22299
         ],
         "xaxis": "x",
         "y": [
          15097
         ],
         "yaxis": "y"
        },
        {
         "hovertemplate": "CHAMPIONNAME=XinZhao<br>TOTALDAMAGEDEALTTOCHAMPIONS=%{x}<br>TOTALDAMAGETAKEN=%{y}<extra></extra>",
         "legendgroup": "XinZhao",
         "marker": {
          "color": "#FF97FF",
          "symbol": "circle"
         },
         "mode": "markers",
         "name": "XinZhao",
         "orientation": "v",
         "showlegend": true,
         "type": "scatter",
         "x": [
          18297
         ],
         "xaxis": "x",
         "y": [
          29718
         ],
         "yaxis": "y"
        },
        {
         "hovertemplate": "CHAMPIONNAME=Yasuo<br>TOTALDAMAGEDEALTTOCHAMPIONS=%{x}<br>TOTALDAMAGETAKEN=%{y}<extra></extra>",
         "legendgroup": "Yasuo",
         "marker": {
          "color": "#FECB52",
          "symbol": "circle"
         },
         "mode": "markers",
         "name": "Yasuo",
         "orientation": "v",
         "showlegend": true,
         "type": "scatter",
         "x": [
          16742
         ],
         "xaxis": "x",
         "y": [
          20670
         ],
         "yaxis": "y"
        },
        {
         "hovertemplate": "CHAMPIONNAME=Yone<br>TOTALDAMAGEDEALTTOCHAMPIONS=%{x}<br>TOTALDAMAGETAKEN=%{y}<extra></extra>",
         "legendgroup": "Yone",
         "marker": {
          "color": "#636efa",
          "symbol": "circle"
         },
         "mode": "markers",
         "name": "Yone",
         "orientation": "v",
         "showlegend": true,
         "type": "scatter",
         "x": [
          21240
         ],
         "xaxis": "x",
         "y": [
          24252
         ],
         "yaxis": "y"
        },
        {
         "hovertemplate": "CHAMPIONNAME=Yorick<br>TOTALDAMAGEDEALTTOCHAMPIONS=%{x}<br>TOTALDAMAGETAKEN=%{y}<extra></extra>",
         "legendgroup": "Yorick",
         "marker": {
          "color": "#EF553B",
          "symbol": "circle"
         },
         "mode": "markers",
         "name": "Yorick",
         "orientation": "v",
         "showlegend": true,
         "type": "scatter",
         "x": [
          18406
         ],
         "xaxis": "x",
         "y": [
          24642
         ],
         "yaxis": "y"
        },
        {
         "hovertemplate": "CHAMPIONNAME=Yuumi<br>TOTALDAMAGEDEALTTOCHAMPIONS=%{x}<br>TOTALDAMAGETAKEN=%{y}<extra></extra>",
         "legendgroup": "Yuumi",
         "marker": {
          "color": "#00cc96",
          "symbol": "circle"
         },
         "mode": "markers",
         "name": "Yuumi",
         "orientation": "v",
         "showlegend": true,
         "type": "scatter",
         "x": [
          8896
         ],
         "xaxis": "x",
         "y": [
          8670
         ],
         "yaxis": "y"
        },
        {
         "hovertemplate": "CHAMPIONNAME=Zac<br>TOTALDAMAGEDEALTTOCHAMPIONS=%{x}<br>TOTALDAMAGETAKEN=%{y}<extra></extra>",
         "legendgroup": "Zac",
         "marker": {
          "color": "#ab63fa",
          "symbol": "circle"
         },
         "mode": "markers",
         "name": "Zac",
         "orientation": "v",
         "showlegend": true,
         "type": "scatter",
         "x": [
          16267
         ],
         "xaxis": "x",
         "y": [
          34193
         ],
         "yaxis": "y"
        },
        {
         "hovertemplate": "CHAMPIONNAME=Zed<br>TOTALDAMAGEDEALTTOCHAMPIONS=%{x}<br>TOTALDAMAGETAKEN=%{y}<extra></extra>",
         "legendgroup": "Zed",
         "marker": {
          "color": "#FFA15A",
          "symbol": "circle"
         },
         "mode": "markers",
         "name": "Zed",
         "orientation": "v",
         "showlegend": true,
         "type": "scatter",
         "x": [
          22611
         ],
         "xaxis": "x",
         "y": [
          22637
         ],
         "yaxis": "y"
        },
        {
         "hovertemplate": "CHAMPIONNAME=Zeri<br>TOTALDAMAGEDEALTTOCHAMPIONS=%{x}<br>TOTALDAMAGETAKEN=%{y}<extra></extra>",
         "legendgroup": "Zeri",
         "marker": {
          "color": "#19d3f3",
          "symbol": "circle"
         },
         "mode": "markers",
         "name": "Zeri",
         "orientation": "v",
         "showlegend": true,
         "type": "scatter",
         "x": [
          22901
         ],
         "xaxis": "x",
         "y": [
          21066
         ],
         "yaxis": "y"
        },
        {
         "hovertemplate": "CHAMPIONNAME=Ziggs<br>TOTALDAMAGEDEALTTOCHAMPIONS=%{x}<br>TOTALDAMAGETAKEN=%{y}<extra></extra>",
         "legendgroup": "Ziggs",
         "marker": {
          "color": "#FF6692",
          "symbol": "circle"
         },
         "mode": "markers",
         "name": "Ziggs",
         "orientation": "v",
         "showlegend": true,
         "type": "scatter",
         "x": [
          22873
         ],
         "xaxis": "x",
         "y": [
          17464
         ],
         "yaxis": "y"
        },
        {
         "hovertemplate": "CHAMPIONNAME=Zilean<br>TOTALDAMAGEDEALTTOCHAMPIONS=%{x}<br>TOTALDAMAGETAKEN=%{y}<extra></extra>",
         "legendgroup": "Zilean",
         "marker": {
          "color": "#B6E880",
          "symbol": "circle"
         },
         "mode": "markers",
         "name": "Zilean",
         "orientation": "v",
         "showlegend": true,
         "type": "scatter",
         "x": [
          10999
         ],
         "xaxis": "x",
         "y": [
          17856
         ],
         "yaxis": "y"
        },
        {
         "hovertemplate": "CHAMPIONNAME=Zoe<br>TOTALDAMAGEDEALTTOCHAMPIONS=%{x}<br>TOTALDAMAGETAKEN=%{y}<extra></extra>",
         "legendgroup": "Zoe",
         "marker": {
          "color": "#FF97FF",
          "symbol": "circle"
         },
         "mode": "markers",
         "name": "Zoe",
         "orientation": "v",
         "showlegend": true,
         "type": "scatter",
         "x": [
          18579
         ],
         "xaxis": "x",
         "y": [
          17353
         ],
         "yaxis": "y"
        },
        {
         "hovertemplate": "CHAMPIONNAME=Zyra<br>TOTALDAMAGEDEALTTOCHAMPIONS=%{x}<br>TOTALDAMAGETAKEN=%{y}<extra></extra>",
         "legendgroup": "Zyra",
         "marker": {
          "color": "#FECB52",
          "symbol": "circle"
         },
         "mode": "markers",
         "name": "Zyra",
         "orientation": "v",
         "showlegend": true,
         "type": "scatter",
         "x": [
          19974
         ],
         "xaxis": "x",
         "y": [
          16093
         ],
         "yaxis": "y"
        }
       ],
       "layout": {
        "legend": {
         "title": {
          "text": "CHAMPIONNAME"
         },
         "tracegroupgap": 0
        },
        "margin": {
         "t": 60
        },
        "template": {
         "data": {
          "bar": [
           {
            "error_x": {
             "color": "#2a3f5f"
            },
            "error_y": {
             "color": "#2a3f5f"
            },
            "marker": {
             "line": {
              "color": "#E5ECF6",
              "width": 0.5
             },
             "pattern": {
              "fillmode": "overlay",
              "size": 10,
              "solidity": 0.2
             }
            },
            "type": "bar"
           }
          ],
          "barpolar": [
           {
            "marker": {
             "line": {
              "color": "#E5ECF6",
              "width": 0.5
             },
             "pattern": {
              "fillmode": "overlay",
              "size": 10,
              "solidity": 0.2
             }
            },
            "type": "barpolar"
           }
          ],
          "carpet": [
           {
            "aaxis": {
             "endlinecolor": "#2a3f5f",
             "gridcolor": "white",
             "linecolor": "white",
             "minorgridcolor": "white",
             "startlinecolor": "#2a3f5f"
            },
            "baxis": {
             "endlinecolor": "#2a3f5f",
             "gridcolor": "white",
             "linecolor": "white",
             "minorgridcolor": "white",
             "startlinecolor": "#2a3f5f"
            },
            "type": "carpet"
           }
          ],
          "choropleth": [
           {
            "colorbar": {
             "outlinewidth": 0,
             "ticks": ""
            },
            "type": "choropleth"
           }
          ],
          "contour": [
           {
            "colorbar": {
             "outlinewidth": 0,
             "ticks": ""
            },
            "colorscale": [
             [
              0,
              "#0d0887"
             ],
             [
              0.1111111111111111,
              "#46039f"
             ],
             [
              0.2222222222222222,
              "#7201a8"
             ],
             [
              0.3333333333333333,
              "#9c179e"
             ],
             [
              0.4444444444444444,
              "#bd3786"
             ],
             [
              0.5555555555555556,
              "#d8576b"
             ],
             [
              0.6666666666666666,
              "#ed7953"
             ],
             [
              0.7777777777777778,
              "#fb9f3a"
             ],
             [
              0.8888888888888888,
              "#fdca26"
             ],
             [
              1,
              "#f0f921"
             ]
            ],
            "type": "contour"
           }
          ],
          "contourcarpet": [
           {
            "colorbar": {
             "outlinewidth": 0,
             "ticks": ""
            },
            "type": "contourcarpet"
           }
          ],
          "heatmap": [
           {
            "colorbar": {
             "outlinewidth": 0,
             "ticks": ""
            },
            "colorscale": [
             [
              0,
              "#0d0887"
             ],
             [
              0.1111111111111111,
              "#46039f"
             ],
             [
              0.2222222222222222,
              "#7201a8"
             ],
             [
              0.3333333333333333,
              "#9c179e"
             ],
             [
              0.4444444444444444,
              "#bd3786"
             ],
             [
              0.5555555555555556,
              "#d8576b"
             ],
             [
              0.6666666666666666,
              "#ed7953"
             ],
             [
              0.7777777777777778,
              "#fb9f3a"
             ],
             [
              0.8888888888888888,
              "#fdca26"
             ],
             [
              1,
              "#f0f921"
             ]
            ],
            "type": "heatmap"
           }
          ],
          "heatmapgl": [
           {
            "colorbar": {
             "outlinewidth": 0,
             "ticks": ""
            },
            "colorscale": [
             [
              0,
              "#0d0887"
             ],
             [
              0.1111111111111111,
              "#46039f"
             ],
             [
              0.2222222222222222,
              "#7201a8"
             ],
             [
              0.3333333333333333,
              "#9c179e"
             ],
             [
              0.4444444444444444,
              "#bd3786"
             ],
             [
              0.5555555555555556,
              "#d8576b"
             ],
             [
              0.6666666666666666,
              "#ed7953"
             ],
             [
              0.7777777777777778,
              "#fb9f3a"
             ],
             [
              0.8888888888888888,
              "#fdca26"
             ],
             [
              1,
              "#f0f921"
             ]
            ],
            "type": "heatmapgl"
           }
          ],
          "histogram": [
           {
            "marker": {
             "pattern": {
              "fillmode": "overlay",
              "size": 10,
              "solidity": 0.2
             }
            },
            "type": "histogram"
           }
          ],
          "histogram2d": [
           {
            "colorbar": {
             "outlinewidth": 0,
             "ticks": ""
            },
            "colorscale": [
             [
              0,
              "#0d0887"
             ],
             [
              0.1111111111111111,
              "#46039f"
             ],
             [
              0.2222222222222222,
              "#7201a8"
             ],
             [
              0.3333333333333333,
              "#9c179e"
             ],
             [
              0.4444444444444444,
              "#bd3786"
             ],
             [
              0.5555555555555556,
              "#d8576b"
             ],
             [
              0.6666666666666666,
              "#ed7953"
             ],
             [
              0.7777777777777778,
              "#fb9f3a"
             ],
             [
              0.8888888888888888,
              "#fdca26"
             ],
             [
              1,
              "#f0f921"
             ]
            ],
            "type": "histogram2d"
           }
          ],
          "histogram2dcontour": [
           {
            "colorbar": {
             "outlinewidth": 0,
             "ticks": ""
            },
            "colorscale": [
             [
              0,
              "#0d0887"
             ],
             [
              0.1111111111111111,
              "#46039f"
             ],
             [
              0.2222222222222222,
              "#7201a8"
             ],
             [
              0.3333333333333333,
              "#9c179e"
             ],
             [
              0.4444444444444444,
              "#bd3786"
             ],
             [
              0.5555555555555556,
              "#d8576b"
             ],
             [
              0.6666666666666666,
              "#ed7953"
             ],
             [
              0.7777777777777778,
              "#fb9f3a"
             ],
             [
              0.8888888888888888,
              "#fdca26"
             ],
             [
              1,
              "#f0f921"
             ]
            ],
            "type": "histogram2dcontour"
           }
          ],
          "mesh3d": [
           {
            "colorbar": {
             "outlinewidth": 0,
             "ticks": ""
            },
            "type": "mesh3d"
           }
          ],
          "parcoords": [
           {
            "line": {
             "colorbar": {
              "outlinewidth": 0,
              "ticks": ""
             }
            },
            "type": "parcoords"
           }
          ],
          "pie": [
           {
            "automargin": true,
            "type": "pie"
           }
          ],
          "scatter": [
           {
            "marker": {
             "colorbar": {
              "outlinewidth": 0,
              "ticks": ""
             }
            },
            "type": "scatter"
           }
          ],
          "scatter3d": [
           {
            "line": {
             "colorbar": {
              "outlinewidth": 0,
              "ticks": ""
             }
            },
            "marker": {
             "colorbar": {
              "outlinewidth": 0,
              "ticks": ""
             }
            },
            "type": "scatter3d"
           }
          ],
          "scattercarpet": [
           {
            "marker": {
             "colorbar": {
              "outlinewidth": 0,
              "ticks": ""
             }
            },
            "type": "scattercarpet"
           }
          ],
          "scattergeo": [
           {
            "marker": {
             "colorbar": {
              "outlinewidth": 0,
              "ticks": ""
             }
            },
            "type": "scattergeo"
           }
          ],
          "scattergl": [
           {
            "marker": {
             "colorbar": {
              "outlinewidth": 0,
              "ticks": ""
             }
            },
            "type": "scattergl"
           }
          ],
          "scattermapbox": [
           {
            "marker": {
             "colorbar": {
              "outlinewidth": 0,
              "ticks": ""
             }
            },
            "type": "scattermapbox"
           }
          ],
          "scatterpolar": [
           {
            "marker": {
             "colorbar": {
              "outlinewidth": 0,
              "ticks": ""
             }
            },
            "type": "scatterpolar"
           }
          ],
          "scatterpolargl": [
           {
            "marker": {
             "colorbar": {
              "outlinewidth": 0,
              "ticks": ""
             }
            },
            "type": "scatterpolargl"
           }
          ],
          "scatterternary": [
           {
            "marker": {
             "colorbar": {
              "outlinewidth": 0,
              "ticks": ""
             }
            },
            "type": "scatterternary"
           }
          ],
          "surface": [
           {
            "colorbar": {
             "outlinewidth": 0,
             "ticks": ""
            },
            "colorscale": [
             [
              0,
              "#0d0887"
             ],
             [
              0.1111111111111111,
              "#46039f"
             ],
             [
              0.2222222222222222,
              "#7201a8"
             ],
             [
              0.3333333333333333,
              "#9c179e"
             ],
             [
              0.4444444444444444,
              "#bd3786"
             ],
             [
              0.5555555555555556,
              "#d8576b"
             ],
             [
              0.6666666666666666,
              "#ed7953"
             ],
             [
              0.7777777777777778,
              "#fb9f3a"
             ],
             [
              0.8888888888888888,
              "#fdca26"
             ],
             [
              1,
              "#f0f921"
             ]
            ],
            "type": "surface"
           }
          ],
          "table": [
           {
            "cells": {
             "fill": {
              "color": "#EBF0F8"
             },
             "line": {
              "color": "white"
             }
            },
            "header": {
             "fill": {
              "color": "#C8D4E3"
             },
             "line": {
              "color": "white"
             }
            },
            "type": "table"
           }
          ]
         },
         "layout": {
          "annotationdefaults": {
           "arrowcolor": "#2a3f5f",
           "arrowhead": 0,
           "arrowwidth": 1
          },
          "autotypenumbers": "strict",
          "coloraxis": {
           "colorbar": {
            "outlinewidth": 0,
            "ticks": ""
           }
          },
          "colorscale": {
           "diverging": [
            [
             0,
             "#8e0152"
            ],
            [
             0.1,
             "#c51b7d"
            ],
            [
             0.2,
             "#de77ae"
            ],
            [
             0.3,
             "#f1b6da"
            ],
            [
             0.4,
             "#fde0ef"
            ],
            [
             0.5,
             "#f7f7f7"
            ],
            [
             0.6,
             "#e6f5d0"
            ],
            [
             0.7,
             "#b8e186"
            ],
            [
             0.8,
             "#7fbc41"
            ],
            [
             0.9,
             "#4d9221"
            ],
            [
             1,
             "#276419"
            ]
           ],
           "sequential": [
            [
             0,
             "#0d0887"
            ],
            [
             0.1111111111111111,
             "#46039f"
            ],
            [
             0.2222222222222222,
             "#7201a8"
            ],
            [
             0.3333333333333333,
             "#9c179e"
            ],
            [
             0.4444444444444444,
             "#bd3786"
            ],
            [
             0.5555555555555556,
             "#d8576b"
            ],
            [
             0.6666666666666666,
             "#ed7953"
            ],
            [
             0.7777777777777778,
             "#fb9f3a"
            ],
            [
             0.8888888888888888,
             "#fdca26"
            ],
            [
             1,
             "#f0f921"
            ]
           ],
           "sequentialminus": [
            [
             0,
             "#0d0887"
            ],
            [
             0.1111111111111111,
             "#46039f"
            ],
            [
             0.2222222222222222,
             "#7201a8"
            ],
            [
             0.3333333333333333,
             "#9c179e"
            ],
            [
             0.4444444444444444,
             "#bd3786"
            ],
            [
             0.5555555555555556,
             "#d8576b"
            ],
            [
             0.6666666666666666,
             "#ed7953"
            ],
            [
             0.7777777777777778,
             "#fb9f3a"
            ],
            [
             0.8888888888888888,
             "#fdca26"
            ],
            [
             1,
             "#f0f921"
            ]
           ]
          },
          "colorway": [
           "#636efa",
           "#EF553B",
           "#00cc96",
           "#ab63fa",
           "#FFA15A",
           "#19d3f3",
           "#FF6692",
           "#B6E880",
           "#FF97FF",
           "#FECB52"
          ],
          "font": {
           "color": "#2a3f5f"
          },
          "geo": {
           "bgcolor": "white",
           "lakecolor": "white",
           "landcolor": "#E5ECF6",
           "showlakes": true,
           "showland": true,
           "subunitcolor": "white"
          },
          "hoverlabel": {
           "align": "left"
          },
          "hovermode": "closest",
          "mapbox": {
           "style": "light"
          },
          "paper_bgcolor": "white",
          "plot_bgcolor": "#E5ECF6",
          "polar": {
           "angularaxis": {
            "gridcolor": "white",
            "linecolor": "white",
            "ticks": ""
           },
           "bgcolor": "#E5ECF6",
           "radialaxis": {
            "gridcolor": "white",
            "linecolor": "white",
            "ticks": ""
           }
          },
          "scene": {
           "xaxis": {
            "backgroundcolor": "#E5ECF6",
            "gridcolor": "white",
            "gridwidth": 2,
            "linecolor": "white",
            "showbackground": true,
            "ticks": "",
            "zerolinecolor": "white"
           },
           "yaxis": {
            "backgroundcolor": "#E5ECF6",
            "gridcolor": "white",
            "gridwidth": 2,
            "linecolor": "white",
            "showbackground": true,
            "ticks": "",
            "zerolinecolor": "white"
           },
           "zaxis": {
            "backgroundcolor": "#E5ECF6",
            "gridcolor": "white",
            "gridwidth": 2,
            "linecolor": "white",
            "showbackground": true,
            "ticks": "",
            "zerolinecolor": "white"
           }
          },
          "shapedefaults": {
           "line": {
            "color": "#2a3f5f"
           }
          },
          "ternary": {
           "aaxis": {
            "gridcolor": "white",
            "linecolor": "white",
            "ticks": ""
           },
           "baxis": {
            "gridcolor": "white",
            "linecolor": "white",
            "ticks": ""
           },
           "bgcolor": "#E5ECF6",
           "caxis": {
            "gridcolor": "white",
            "linecolor": "white",
            "ticks": ""
           }
          },
          "title": {
           "x": 0.05
          },
          "xaxis": {
           "automargin": true,
           "gridcolor": "white",
           "linecolor": "white",
           "ticks": "",
           "title": {
            "standoff": 15
           },
           "zerolinecolor": "white",
           "zerolinewidth": 2
          },
          "yaxis": {
           "automargin": true,
           "gridcolor": "white",
           "linecolor": "white",
           "ticks": "",
           "title": {
            "standoff": 15
           },
           "zerolinecolor": "white",
           "zerolinewidth": 2
          }
         }
        },
        "xaxis": {
         "anchor": "y",
         "domain": [
          0,
          1
         ],
         "title": {
          "text": "TOTALDAMAGEDEALTTOCHAMPIONS"
         }
        },
        "yaxis": {
         "anchor": "x",
         "domain": [
          0,
          1
         ],
         "title": {
          "text": "TOTALDAMAGETAKEN"
         }
        }
       }
      },
      "text/html": [
       "<div>                            <div id=\"ba5254b4-5063-457e-a5f8-83dbaf14208c\" class=\"plotly-graph-div\" style=\"height:525px; width:100%;\"></div>            <script type=\"text/javascript\">                require([\"plotly\"], function(Plotly) {                    window.PLOTLYENV=window.PLOTLYENV || {};                                    if (document.getElementById(\"ba5254b4-5063-457e-a5f8-83dbaf14208c\")) {                    Plotly.newPlot(                        \"ba5254b4-5063-457e-a5f8-83dbaf14208c\",                        [{\"hovertemplate\":\"CHAMPIONNAME=Aatrox<br>TOTALDAMAGEDEALTTOCHAMPIONS=%{x}<br>TOTALDAMAGETAKEN=%{y}<extra></extra>\",\"legendgroup\":\"Aatrox\",\"marker\":{\"color\":\"#636efa\",\"symbol\":\"circle\"},\"mode\":\"markers\",\"name\":\"Aatrox\",\"orientation\":\"v\",\"showlegend\":true,\"x\":[17593.0],\"xaxis\":\"x\",\"y\":[28859.0],\"yaxis\":\"y\",\"type\":\"scatter\"},{\"hovertemplate\":\"CHAMPIONNAME=Ahri<br>TOTALDAMAGEDEALTTOCHAMPIONS=%{x}<br>TOTALDAMAGETAKEN=%{y}<extra></extra>\",\"legendgroup\":\"Ahri\",\"marker\":{\"color\":\"#EF553B\",\"symbol\":\"circle\"},\"mode\":\"markers\",\"name\":\"Ahri\",\"orientation\":\"v\",\"showlegend\":true,\"x\":[17596.0],\"xaxis\":\"x\",\"y\":[19726.0],\"yaxis\":\"y\",\"type\":\"scatter\"},{\"hovertemplate\":\"CHAMPIONNAME=Akali<br>TOTALDAMAGEDEALTTOCHAMPIONS=%{x}<br>TOTALDAMAGETAKEN=%{y}<extra></extra>\",\"legendgroup\":\"Akali\",\"marker\":{\"color\":\"#00cc96\",\"symbol\":\"circle\"},\"mode\":\"markers\",\"name\":\"Akali\",\"orientation\":\"v\",\"showlegend\":true,\"x\":[19986.0],\"xaxis\":\"x\",\"y\":[24746.0],\"yaxis\":\"y\",\"type\":\"scatter\"},{\"hovertemplate\":\"CHAMPIONNAME=Akshan<br>TOTALDAMAGEDEALTTOCHAMPIONS=%{x}<br>TOTALDAMAGETAKEN=%{y}<extra></extra>\",\"legendgroup\":\"Akshan\",\"marker\":{\"color\":\"#ab63fa\",\"symbol\":\"circle\"},\"mode\":\"markers\",\"name\":\"Akshan\",\"orientation\":\"v\",\"showlegend\":true,\"x\":[23784.0],\"xaxis\":\"x\",\"y\":[21099.0],\"yaxis\":\"y\",\"type\":\"scatter\"},{\"hovertemplate\":\"CHAMPIONNAME=Alistar<br>TOTALDAMAGEDEALTTOCHAMPIONS=%{x}<br>TOTALDAMAGETAKEN=%{y}<extra></extra>\",\"legendgroup\":\"Alistar\",\"marker\":{\"color\":\"#FFA15A\",\"symbol\":\"circle\"},\"mode\":\"markers\",\"name\":\"Alistar\",\"orientation\":\"v\",\"showlegend\":true,\"x\":[7330.0],\"xaxis\":\"x\",\"y\":[24771.0],\"yaxis\":\"y\",\"type\":\"scatter\"},{\"hovertemplate\":\"CHAMPIONNAME=Amumu<br>TOTALDAMAGEDEALTTOCHAMPIONS=%{x}<br>TOTALDAMAGETAKEN=%{y}<extra></extra>\",\"legendgroup\":\"Amumu\",\"marker\":{\"color\":\"#19d3f3\",\"symbol\":\"circle\"},\"mode\":\"markers\",\"name\":\"Amumu\",\"orientation\":\"v\",\"showlegend\":true,\"x\":[15222.0],\"xaxis\":\"x\",\"y\":[27315.0],\"yaxis\":\"y\",\"type\":\"scatter\"},{\"hovertemplate\":\"CHAMPIONNAME=Anivia<br>TOTALDAMAGEDEALTTOCHAMPIONS=%{x}<br>TOTALDAMAGETAKEN=%{y}<extra></extra>\",\"legendgroup\":\"Anivia\",\"marker\":{\"color\":\"#FF6692\",\"symbol\":\"circle\"},\"mode\":\"markers\",\"name\":\"Anivia\",\"orientation\":\"v\",\"showlegend\":true,\"x\":[19763.0],\"xaxis\":\"x\",\"y\":[24869.0],\"yaxis\":\"y\",\"type\":\"scatter\"},{\"hovertemplate\":\"CHAMPIONNAME=Annie<br>TOTALDAMAGEDEALTTOCHAMPIONS=%{x}<br>TOTALDAMAGETAKEN=%{y}<extra></extra>\",\"legendgroup\":\"Annie\",\"marker\":{\"color\":\"#B6E880\",\"symbol\":\"circle\"},\"mode\":\"markers\",\"name\":\"Annie\",\"orientation\":\"v\",\"showlegend\":true,\"x\":[18773.0],\"xaxis\":\"x\",\"y\":[15778.0],\"yaxis\":\"y\",\"type\":\"scatter\"},{\"hovertemplate\":\"CHAMPIONNAME=Aphelios<br>TOTALDAMAGEDEALTTOCHAMPIONS=%{x}<br>TOTALDAMAGETAKEN=%{y}<extra></extra>\",\"legendgroup\":\"Aphelios\",\"marker\":{\"color\":\"#FF97FF\",\"symbol\":\"circle\"},\"mode\":\"markers\",\"name\":\"Aphelios\",\"orientation\":\"v\",\"showlegend\":true,\"x\":[20659.0],\"xaxis\":\"x\",\"y\":[19957.0],\"yaxis\":\"y\",\"type\":\"scatter\"},{\"hovertemplate\":\"CHAMPIONNAME=Ashe<br>TOTALDAMAGEDEALTTOCHAMPIONS=%{x}<br>TOTALDAMAGETAKEN=%{y}<extra></extra>\",\"legendgroup\":\"Ashe\",\"marker\":{\"color\":\"#FECB52\",\"symbol\":\"circle\"},\"mode\":\"markers\",\"name\":\"Ashe\",\"orientation\":\"v\",\"showlegend\":true,\"x\":[17586.0],\"xaxis\":\"x\",\"y\":[18214.0],\"yaxis\":\"y\",\"type\":\"scatter\"},{\"hovertemplate\":\"CHAMPIONNAME=AurelionSol<br>TOTALDAMAGEDEALTTOCHAMPIONS=%{x}<br>TOTALDAMAGETAKEN=%{y}<extra></extra>\",\"legendgroup\":\"AurelionSol\",\"marker\":{\"color\":\"#636efa\",\"symbol\":\"circle\"},\"mode\":\"markers\",\"name\":\"AurelionSol\",\"orientation\":\"v\",\"showlegend\":true,\"x\":[13491.0],\"xaxis\":\"x\",\"y\":[20631.0],\"yaxis\":\"y\",\"type\":\"scatter\"},{\"hovertemplate\":\"CHAMPIONNAME=Azir<br>TOTALDAMAGEDEALTTOCHAMPIONS=%{x}<br>TOTALDAMAGETAKEN=%{y}<extra></extra>\",\"legendgroup\":\"Azir\",\"marker\":{\"color\":\"#EF553B\",\"symbol\":\"circle\"},\"mode\":\"markers\",\"name\":\"Azir\",\"orientation\":\"v\",\"showlegend\":true,\"x\":[22198.0],\"xaxis\":\"x\",\"y\":[19336.0],\"yaxis\":\"y\",\"type\":\"scatter\"},{\"hovertemplate\":\"CHAMPIONNAME=Bard<br>TOTALDAMAGEDEALTTOCHAMPIONS=%{x}<br>TOTALDAMAGETAKEN=%{y}<extra></extra>\",\"legendgroup\":\"Bard\",\"marker\":{\"color\":\"#00cc96\",\"symbol\":\"circle\"},\"mode\":\"markers\",\"name\":\"Bard\",\"orientation\":\"v\",\"showlegend\":true,\"x\":[11329.0],\"xaxis\":\"x\",\"y\":[17408.0],\"yaxis\":\"y\",\"type\":\"scatter\"},{\"hovertemplate\":\"CHAMPIONNAME=Belveth<br>TOTALDAMAGEDEALTTOCHAMPIONS=%{x}<br>TOTALDAMAGETAKEN=%{y}<extra></extra>\",\"legendgroup\":\"Belveth\",\"marker\":{\"color\":\"#ab63fa\",\"symbol\":\"circle\"},\"mode\":\"markers\",\"name\":\"Belveth\",\"orientation\":\"v\",\"showlegend\":true,\"x\":[18367.0],\"xaxis\":\"x\",\"y\":[28362.0],\"yaxis\":\"y\",\"type\":\"scatter\"},{\"hovertemplate\":\"CHAMPIONNAME=Blitzcrank<br>TOTALDAMAGEDEALTTOCHAMPIONS=%{x}<br>TOTALDAMAGETAKEN=%{y}<extra></extra>\",\"legendgroup\":\"Blitzcrank\",\"marker\":{\"color\":\"#FFA15A\",\"symbol\":\"circle\"},\"mode\":\"markers\",\"name\":\"Blitzcrank\",\"orientation\":\"v\",\"showlegend\":true,\"x\":[9176.0],\"xaxis\":\"x\",\"y\":[22248.0],\"yaxis\":\"y\",\"type\":\"scatter\"},{\"hovertemplate\":\"CHAMPIONNAME=Brand<br>TOTALDAMAGEDEALTTOCHAMPIONS=%{x}<br>TOTALDAMAGETAKEN=%{y}<extra></extra>\",\"legendgroup\":\"Brand\",\"marker\":{\"color\":\"#19d3f3\",\"symbol\":\"circle\"},\"mode\":\"markers\",\"name\":\"Brand\",\"orientation\":\"v\",\"showlegend\":true,\"x\":[25657.0],\"xaxis\":\"x\",\"y\":[19466.0],\"yaxis\":\"y\",\"type\":\"scatter\"},{\"hovertemplate\":\"CHAMPIONNAME=Braum<br>TOTALDAMAGEDEALTTOCHAMPIONS=%{x}<br>TOTALDAMAGETAKEN=%{y}<extra></extra>\",\"legendgroup\":\"Braum\",\"marker\":{\"color\":\"#FF6692\",\"symbol\":\"circle\"},\"mode\":\"markers\",\"name\":\"Braum\",\"orientation\":\"v\",\"showlegend\":true,\"x\":[6629.0],\"xaxis\":\"x\",\"y\":[18648.0],\"yaxis\":\"y\",\"type\":\"scatter\"},{\"hovertemplate\":\"CHAMPIONNAME=Caitlyn<br>TOTALDAMAGEDEALTTOCHAMPIONS=%{x}<br>TOTALDAMAGETAKEN=%{y}<extra></extra>\",\"legendgroup\":\"Caitlyn\",\"marker\":{\"color\":\"#B6E880\",\"symbol\":\"circle\"},\"mode\":\"markers\",\"name\":\"Caitlyn\",\"orientation\":\"v\",\"showlegend\":true,\"x\":[18121.0],\"xaxis\":\"x\",\"y\":[18813.0],\"yaxis\":\"y\",\"type\":\"scatter\"},{\"hovertemplate\":\"CHAMPIONNAME=Camille<br>TOTALDAMAGEDEALTTOCHAMPIONS=%{x}<br>TOTALDAMAGETAKEN=%{y}<extra></extra>\",\"legendgroup\":\"Camille\",\"marker\":{\"color\":\"#FF97FF\",\"symbol\":\"circle\"},\"mode\":\"markers\",\"name\":\"Camille\",\"orientation\":\"v\",\"showlegend\":true,\"x\":[21613.0],\"xaxis\":\"x\",\"y\":[31174.0],\"yaxis\":\"y\",\"type\":\"scatter\"},{\"hovertemplate\":\"CHAMPIONNAME=Cassiopeia<br>TOTALDAMAGEDEALTTOCHAMPIONS=%{x}<br>TOTALDAMAGETAKEN=%{y}<extra></extra>\",\"legendgroup\":\"Cassiopeia\",\"marker\":{\"color\":\"#FECB52\",\"symbol\":\"circle\"},\"mode\":\"markers\",\"name\":\"Cassiopeia\",\"orientation\":\"v\",\"showlegend\":true,\"x\":[24012.0],\"xaxis\":\"x\",\"y\":[25186.0],\"yaxis\":\"y\",\"type\":\"scatter\"},{\"hovertemplate\":\"CHAMPIONNAME=Chogath<br>TOTALDAMAGEDEALTTOCHAMPIONS=%{x}<br>TOTALDAMAGETAKEN=%{y}<extra></extra>\",\"legendgroup\":\"Chogath\",\"marker\":{\"color\":\"#636efa\",\"symbol\":\"circle\"},\"mode\":\"markers\",\"name\":\"Chogath\",\"orientation\":\"v\",\"showlegend\":true,\"x\":[13721.0],\"xaxis\":\"x\",\"y\":[28112.0],\"yaxis\":\"y\",\"type\":\"scatter\"},{\"hovertemplate\":\"CHAMPIONNAME=Corki<br>TOTALDAMAGEDEALTTOCHAMPIONS=%{x}<br>TOTALDAMAGETAKEN=%{y}<extra></extra>\",\"legendgroup\":\"Corki\",\"marker\":{\"color\":\"#EF553B\",\"symbol\":\"circle\"},\"mode\":\"markers\",\"name\":\"Corki\",\"orientation\":\"v\",\"showlegend\":true,\"x\":[28529.0],\"xaxis\":\"x\",\"y\":[20314.0],\"yaxis\":\"y\",\"type\":\"scatter\"},{\"hovertemplate\":\"CHAMPIONNAME=Darius<br>TOTALDAMAGEDEALTTOCHAMPIONS=%{x}<br>TOTALDAMAGETAKEN=%{y}<extra></extra>\",\"legendgroup\":\"Darius\",\"marker\":{\"color\":\"#00cc96\",\"symbol\":\"circle\"},\"mode\":\"markers\",\"name\":\"Darius\",\"orientation\":\"v\",\"showlegend\":true,\"x\":[17792.0],\"xaxis\":\"x\",\"y\":[25641.0],\"yaxis\":\"y\",\"type\":\"scatter\"},{\"hovertemplate\":\"CHAMPIONNAME=Diana<br>TOTALDAMAGEDEALTTOCHAMPIONS=%{x}<br>TOTALDAMAGETAKEN=%{y}<extra></extra>\",\"legendgroup\":\"Diana\",\"marker\":{\"color\":\"#ab63fa\",\"symbol\":\"circle\"},\"mode\":\"markers\",\"name\":\"Diana\",\"orientation\":\"v\",\"showlegend\":true,\"x\":[21563.0],\"xaxis\":\"x\",\"y\":[24654.0],\"yaxis\":\"y\",\"type\":\"scatter\"},{\"hovertemplate\":\"CHAMPIONNAME=DrMundo<br>TOTALDAMAGEDEALTTOCHAMPIONS=%{x}<br>TOTALDAMAGETAKEN=%{y}<extra></extra>\",\"legendgroup\":\"DrMundo\",\"marker\":{\"color\":\"#FFA15A\",\"symbol\":\"circle\"},\"mode\":\"markers\",\"name\":\"DrMundo\",\"orientation\":\"v\",\"showlegend\":true,\"x\":[20120.0],\"xaxis\":\"x\",\"y\":[35308.0],\"yaxis\":\"y\",\"type\":\"scatter\"},{\"hovertemplate\":\"CHAMPIONNAME=Draven<br>TOTALDAMAGEDEALTTOCHAMPIONS=%{x}<br>TOTALDAMAGETAKEN=%{y}<extra></extra>\",\"legendgroup\":\"Draven\",\"marker\":{\"color\":\"#19d3f3\",\"symbol\":\"circle\"},\"mode\":\"markers\",\"name\":\"Draven\",\"orientation\":\"v\",\"showlegend\":true,\"x\":[19206.0],\"xaxis\":\"x\",\"y\":[19338.0],\"yaxis\":\"y\",\"type\":\"scatter\"},{\"hovertemplate\":\"CHAMPIONNAME=Ekko<br>TOTALDAMAGEDEALTTOCHAMPIONS=%{x}<br>TOTALDAMAGETAKEN=%{y}<extra></extra>\",\"legendgroup\":\"Ekko\",\"marker\":{\"color\":\"#FF6692\",\"symbol\":\"circle\"},\"mode\":\"markers\",\"name\":\"Ekko\",\"orientation\":\"v\",\"showlegend\":true,\"x\":[20802.0],\"xaxis\":\"x\",\"y\":[29592.0],\"yaxis\":\"y\",\"type\":\"scatter\"},{\"hovertemplate\":\"CHAMPIONNAME=Elise<br>TOTALDAMAGEDEALTTOCHAMPIONS=%{x}<br>TOTALDAMAGETAKEN=%{y}<extra></extra>\",\"legendgroup\":\"Elise\",\"marker\":{\"color\":\"#B6E880\",\"symbol\":\"circle\"},\"mode\":\"markers\",\"name\":\"Elise\",\"orientation\":\"v\",\"showlegend\":true,\"x\":[18197.0],\"xaxis\":\"x\",\"y\":[23423.0],\"yaxis\":\"y\",\"type\":\"scatter\"},{\"hovertemplate\":\"CHAMPIONNAME=Evelynn<br>TOTALDAMAGEDEALTTOCHAMPIONS=%{x}<br>TOTALDAMAGETAKEN=%{y}<extra></extra>\",\"legendgroup\":\"Evelynn\",\"marker\":{\"color\":\"#FF97FF\",\"symbol\":\"circle\"},\"mode\":\"markers\",\"name\":\"Evelynn\",\"orientation\":\"v\",\"showlegend\":true,\"x\":[21518.0],\"xaxis\":\"x\",\"y\":[26640.0],\"yaxis\":\"y\",\"type\":\"scatter\"},{\"hovertemplate\":\"CHAMPIONNAME=Ezreal<br>TOTALDAMAGEDEALTTOCHAMPIONS=%{x}<br>TOTALDAMAGETAKEN=%{y}<extra></extra>\",\"legendgroup\":\"Ezreal\",\"marker\":{\"color\":\"#FECB52\",\"symbol\":\"circle\"},\"mode\":\"markers\",\"name\":\"Ezreal\",\"orientation\":\"v\",\"showlegend\":true,\"x\":[23694.0],\"xaxis\":\"x\",\"y\":[19185.0],\"yaxis\":\"y\",\"type\":\"scatter\"},{\"hovertemplate\":\"CHAMPIONNAME=FiddleSticks<br>TOTALDAMAGEDEALTTOCHAMPIONS=%{x}<br>TOTALDAMAGETAKEN=%{y}<extra></extra>\",\"legendgroup\":\"FiddleSticks\",\"marker\":{\"color\":\"#636efa\",\"symbol\":\"circle\"},\"mode\":\"markers\",\"name\":\"FiddleSticks\",\"orientation\":\"v\",\"showlegend\":true,\"x\":[15631.0],\"xaxis\":\"x\",\"y\":[28291.0],\"yaxis\":\"y\",\"type\":\"scatter\"},{\"hovertemplate\":\"CHAMPIONNAME=Fiora<br>TOTALDAMAGEDEALTTOCHAMPIONS=%{x}<br>TOTALDAMAGETAKEN=%{y}<extra></extra>\",\"legendgroup\":\"Fiora\",\"marker\":{\"color\":\"#EF553B\",\"symbol\":\"circle\"},\"mode\":\"markers\",\"name\":\"Fiora\",\"orientation\":\"v\",\"showlegend\":true,\"x\":[21544.0],\"xaxis\":\"x\",\"y\":[31342.0],\"yaxis\":\"y\",\"type\":\"scatter\"},{\"hovertemplate\":\"CHAMPIONNAME=Fizz<br>TOTALDAMAGEDEALTTOCHAMPIONS=%{x}<br>TOTALDAMAGETAKEN=%{y}<extra></extra>\",\"legendgroup\":\"Fizz\",\"marker\":{\"color\":\"#00cc96\",\"symbol\":\"circle\"},\"mode\":\"markers\",\"name\":\"Fizz\",\"orientation\":\"v\",\"showlegend\":true,\"x\":[19484.0],\"xaxis\":\"x\",\"y\":[22362.0],\"yaxis\":\"y\",\"type\":\"scatter\"},{\"hovertemplate\":\"CHAMPIONNAME=Galio<br>TOTALDAMAGEDEALTTOCHAMPIONS=%{x}<br>TOTALDAMAGETAKEN=%{y}<extra></extra>\",\"legendgroup\":\"Galio\",\"marker\":{\"color\":\"#ab63fa\",\"symbol\":\"circle\"},\"mode\":\"markers\",\"name\":\"Galio\",\"orientation\":\"v\",\"showlegend\":true,\"x\":[14874.0],\"xaxis\":\"x\",\"y\":[23708.0],\"yaxis\":\"y\",\"type\":\"scatter\"},{\"hovertemplate\":\"CHAMPIONNAME=Gangplank<br>TOTALDAMAGEDEALTTOCHAMPIONS=%{x}<br>TOTALDAMAGETAKEN=%{y}<extra></extra>\",\"legendgroup\":\"Gangplank\",\"marker\":{\"color\":\"#FFA15A\",\"symbol\":\"circle\"},\"mode\":\"markers\",\"name\":\"Gangplank\",\"orientation\":\"v\",\"showlegend\":true,\"x\":[21618.0],\"xaxis\":\"x\",\"y\":[25843.0],\"yaxis\":\"y\",\"type\":\"scatter\"},{\"hovertemplate\":\"CHAMPIONNAME=Garen<br>TOTALDAMAGEDEALTTOCHAMPIONS=%{x}<br>TOTALDAMAGETAKEN=%{y}<extra></extra>\",\"legendgroup\":\"Garen\",\"marker\":{\"color\":\"#19d3f3\",\"symbol\":\"circle\"},\"mode\":\"markers\",\"name\":\"Garen\",\"orientation\":\"v\",\"showlegend\":true,\"x\":[15941.0],\"xaxis\":\"x\",\"y\":[25822.0],\"yaxis\":\"y\",\"type\":\"scatter\"},{\"hovertemplate\":\"CHAMPIONNAME=Gnar<br>TOTALDAMAGEDEALTTOCHAMPIONS=%{x}<br>TOTALDAMAGETAKEN=%{y}<extra></extra>\",\"legendgroup\":\"Gnar\",\"marker\":{\"color\":\"#FF6692\",\"symbol\":\"circle\"},\"mode\":\"markers\",\"name\":\"Gnar\",\"orientation\":\"v\",\"showlegend\":true,\"x\":[20352.0],\"xaxis\":\"x\",\"y\":[28856.0],\"yaxis\":\"y\",\"type\":\"scatter\"},{\"hovertemplate\":\"CHAMPIONNAME=Gragas<br>TOTALDAMAGEDEALTTOCHAMPIONS=%{x}<br>TOTALDAMAGETAKEN=%{y}<extra></extra>\",\"legendgroup\":\"Gragas\",\"marker\":{\"color\":\"#B6E880\",\"symbol\":\"circle\"},\"mode\":\"markers\",\"name\":\"Gragas\",\"orientation\":\"v\",\"showlegend\":true,\"x\":[17887.0],\"xaxis\":\"x\",\"y\":[27660.0],\"yaxis\":\"y\",\"type\":\"scatter\"},{\"hovertemplate\":\"CHAMPIONNAME=Graves<br>TOTALDAMAGEDEALTTOCHAMPIONS=%{x}<br>TOTALDAMAGETAKEN=%{y}<extra></extra>\",\"legendgroup\":\"Graves\",\"marker\":{\"color\":\"#FF97FF\",\"symbol\":\"circle\"},\"mode\":\"markers\",\"name\":\"Graves\",\"orientation\":\"v\",\"showlegend\":true,\"x\":[21404.0],\"xaxis\":\"x\",\"y\":[25553.0],\"yaxis\":\"y\",\"type\":\"scatter\"},{\"hovertemplate\":\"CHAMPIONNAME=Gwen<br>TOTALDAMAGEDEALTTOCHAMPIONS=%{x}<br>TOTALDAMAGETAKEN=%{y}<extra></extra>\",\"legendgroup\":\"Gwen\",\"marker\":{\"color\":\"#FECB52\",\"symbol\":\"circle\"},\"mode\":\"markers\",\"name\":\"Gwen\",\"orientation\":\"v\",\"showlegend\":true,\"x\":[19728.0],\"xaxis\":\"x\",\"y\":[29390.0],\"yaxis\":\"y\",\"type\":\"scatter\"},{\"hovertemplate\":\"CHAMPIONNAME=Hecarim<br>TOTALDAMAGEDEALTTOCHAMPIONS=%{x}<br>TOTALDAMAGETAKEN=%{y}<extra></extra>\",\"legendgroup\":\"Hecarim\",\"marker\":{\"color\":\"#636efa\",\"symbol\":\"circle\"},\"mode\":\"markers\",\"name\":\"Hecarim\",\"orientation\":\"v\",\"showlegend\":true,\"x\":[21820.0],\"xaxis\":\"x\",\"y\":[38457.0],\"yaxis\":\"y\",\"type\":\"scatter\"},{\"hovertemplate\":\"CHAMPIONNAME=Heimerdinger<br>TOTALDAMAGEDEALTTOCHAMPIONS=%{x}<br>TOTALDAMAGETAKEN=%{y}<extra></extra>\",\"legendgroup\":\"Heimerdinger\",\"marker\":{\"color\":\"#EF553B\",\"symbol\":\"circle\"},\"mode\":\"markers\",\"name\":\"Heimerdinger\",\"orientation\":\"v\",\"showlegend\":true,\"x\":[26587.0],\"xaxis\":\"x\",\"y\":[20039.0],\"yaxis\":\"y\",\"type\":\"scatter\"},{\"hovertemplate\":\"CHAMPIONNAME=Illaoi<br>TOTALDAMAGEDEALTTOCHAMPIONS=%{x}<br>TOTALDAMAGETAKEN=%{y}<extra></extra>\",\"legendgroup\":\"Illaoi\",\"marker\":{\"color\":\"#00cc96\",\"symbol\":\"circle\"},\"mode\":\"markers\",\"name\":\"Illaoi\",\"orientation\":\"v\",\"showlegend\":true,\"x\":[22318.0],\"xaxis\":\"x\",\"y\":[31924.0],\"yaxis\":\"y\",\"type\":\"scatter\"},{\"hovertemplate\":\"CHAMPIONNAME=Irelia<br>TOTALDAMAGEDEALTTOCHAMPIONS=%{x}<br>TOTALDAMAGETAKEN=%{y}<extra></extra>\",\"legendgroup\":\"Irelia\",\"marker\":{\"color\":\"#ab63fa\",\"symbol\":\"circle\"},\"mode\":\"markers\",\"name\":\"Irelia\",\"orientation\":\"v\",\"showlegend\":true,\"x\":[22078.0],\"xaxis\":\"x\",\"y\":[30797.0],\"yaxis\":\"y\",\"type\":\"scatter\"},{\"hovertemplate\":\"CHAMPIONNAME=Ivern<br>TOTALDAMAGEDEALTTOCHAMPIONS=%{x}<br>TOTALDAMAGETAKEN=%{y}<extra></extra>\",\"legendgroup\":\"Ivern\",\"marker\":{\"color\":\"#FFA15A\",\"symbol\":\"circle\"},\"mode\":\"markers\",\"name\":\"Ivern\",\"orientation\":\"v\",\"showlegend\":true,\"x\":[8668.0],\"xaxis\":\"x\",\"y\":[14185.0],\"yaxis\":\"y\",\"type\":\"scatter\"},{\"hovertemplate\":\"CHAMPIONNAME=Janna<br>TOTALDAMAGEDEALTTOCHAMPIONS=%{x}<br>TOTALDAMAGETAKEN=%{y}<extra></extra>\",\"legendgroup\":\"Janna\",\"marker\":{\"color\":\"#19d3f3\",\"symbol\":\"circle\"},\"mode\":\"markers\",\"name\":\"Janna\",\"orientation\":\"v\",\"showlegend\":true,\"x\":[5474.0],\"xaxis\":\"x\",\"y\":[16147.0],\"yaxis\":\"y\",\"type\":\"scatter\"},{\"hovertemplate\":\"CHAMPIONNAME=JarvanIV<br>TOTALDAMAGEDEALTTOCHAMPIONS=%{x}<br>TOTALDAMAGETAKEN=%{y}<extra></extra>\",\"legendgroup\":\"JarvanIV\",\"marker\":{\"color\":\"#FF6692\",\"symbol\":\"circle\"},\"mode\":\"markers\",\"name\":\"JarvanIV\",\"orientation\":\"v\",\"showlegend\":true,\"x\":[13998.0],\"xaxis\":\"x\",\"y\":[26304.0],\"yaxis\":\"y\",\"type\":\"scatter\"},{\"hovertemplate\":\"CHAMPIONNAME=Jax<br>TOTALDAMAGEDEALTTOCHAMPIONS=%{x}<br>TOTALDAMAGETAKEN=%{y}<extra></extra>\",\"legendgroup\":\"Jax\",\"marker\":{\"color\":\"#B6E880\",\"symbol\":\"circle\"},\"mode\":\"markers\",\"name\":\"Jax\",\"orientation\":\"v\",\"showlegend\":true,\"x\":[20088.0],\"xaxis\":\"x\",\"y\":[26683.0],\"yaxis\":\"y\",\"type\":\"scatter\"},{\"hovertemplate\":\"CHAMPIONNAME=Jayce<br>TOTALDAMAGEDEALTTOCHAMPIONS=%{x}<br>TOTALDAMAGETAKEN=%{y}<extra></extra>\",\"legendgroup\":\"Jayce\",\"marker\":{\"color\":\"#FF97FF\",\"symbol\":\"circle\"},\"mode\":\"markers\",\"name\":\"Jayce\",\"orientation\":\"v\",\"showlegend\":true,\"x\":[22725.0],\"xaxis\":\"x\",\"y\":[20172.0],\"yaxis\":\"y\",\"type\":\"scatter\"},{\"hovertemplate\":\"CHAMPIONNAME=Jhin<br>TOTALDAMAGEDEALTTOCHAMPIONS=%{x}<br>TOTALDAMAGETAKEN=%{y}<extra></extra>\",\"legendgroup\":\"Jhin\",\"marker\":{\"color\":\"#FECB52\",\"symbol\":\"circle\"},\"mode\":\"markers\",\"name\":\"Jhin\",\"orientation\":\"v\",\"showlegend\":true,\"x\":[18609.0],\"xaxis\":\"x\",\"y\":[17989.0],\"yaxis\":\"y\",\"type\":\"scatter\"},{\"hovertemplate\":\"CHAMPIONNAME=Jinx<br>TOTALDAMAGEDEALTTOCHAMPIONS=%{x}<br>TOTALDAMAGETAKEN=%{y}<extra></extra>\",\"legendgroup\":\"Jinx\",\"marker\":{\"color\":\"#636efa\",\"symbol\":\"circle\"},\"mode\":\"markers\",\"name\":\"Jinx\",\"orientation\":\"v\",\"showlegend\":true,\"x\":[20193.0],\"xaxis\":\"x\",\"y\":[17840.0],\"yaxis\":\"y\",\"type\":\"scatter\"},{\"hovertemplate\":\"CHAMPIONNAME=Kaisa<br>TOTALDAMAGEDEALTTOCHAMPIONS=%{x}<br>TOTALDAMAGETAKEN=%{y}<extra></extra>\",\"legendgroup\":\"Kaisa\",\"marker\":{\"color\":\"#EF553B\",\"symbol\":\"circle\"},\"mode\":\"markers\",\"name\":\"Kaisa\",\"orientation\":\"v\",\"showlegend\":true,\"x\":[21833.0],\"xaxis\":\"x\",\"y\":[19099.0],\"yaxis\":\"y\",\"type\":\"scatter\"},{\"hovertemplate\":\"CHAMPIONNAME=Kalista<br>TOTALDAMAGEDEALTTOCHAMPIONS=%{x}<br>TOTALDAMAGETAKEN=%{y}<extra></extra>\",\"legendgroup\":\"Kalista\",\"marker\":{\"color\":\"#00cc96\",\"symbol\":\"circle\"},\"mode\":\"markers\",\"name\":\"Kalista\",\"orientation\":\"v\",\"showlegend\":true,\"x\":[20692.0],\"xaxis\":\"x\",\"y\":[23845.0],\"yaxis\":\"y\",\"type\":\"scatter\"},{\"hovertemplate\":\"CHAMPIONNAME=Karma<br>TOTALDAMAGEDEALTTOCHAMPIONS=%{x}<br>TOTALDAMAGETAKEN=%{y}<extra></extra>\",\"legendgroup\":\"Karma\",\"marker\":{\"color\":\"#ab63fa\",\"symbol\":\"circle\"},\"mode\":\"markers\",\"name\":\"Karma\",\"orientation\":\"v\",\"showlegend\":true,\"x\":[11735.0],\"xaxis\":\"x\",\"y\":[17411.0],\"yaxis\":\"y\",\"type\":\"scatter\"},{\"hovertemplate\":\"CHAMPIONNAME=Karthus<br>TOTALDAMAGEDEALTTOCHAMPIONS=%{x}<br>TOTALDAMAGETAKEN=%{y}<extra></extra>\",\"legendgroup\":\"Karthus\",\"marker\":{\"color\":\"#FFA15A\",\"symbol\":\"circle\"},\"mode\":\"markers\",\"name\":\"Karthus\",\"orientation\":\"v\",\"showlegend\":true,\"x\":[28037.0],\"xaxis\":\"x\",\"y\":[24608.0],\"yaxis\":\"y\",\"type\":\"scatter\"},{\"hovertemplate\":\"CHAMPIONNAME=Kassadin<br>TOTALDAMAGEDEALTTOCHAMPIONS=%{x}<br>TOTALDAMAGETAKEN=%{y}<extra></extra>\",\"legendgroup\":\"Kassadin\",\"marker\":{\"color\":\"#19d3f3\",\"symbol\":\"circle\"},\"mode\":\"markers\",\"name\":\"Kassadin\",\"orientation\":\"v\",\"showlegend\":true,\"x\":[18652.0],\"xaxis\":\"x\",\"y\":[24120.0],\"yaxis\":\"y\",\"type\":\"scatter\"},{\"hovertemplate\":\"CHAMPIONNAME=Katarina<br>TOTALDAMAGEDEALTTOCHAMPIONS=%{x}<br>TOTALDAMAGETAKEN=%{y}<extra></extra>\",\"legendgroup\":\"Katarina\",\"marker\":{\"color\":\"#FF6692\",\"symbol\":\"circle\"},\"mode\":\"markers\",\"name\":\"Katarina\",\"orientation\":\"v\",\"showlegend\":true,\"x\":[22517.0],\"xaxis\":\"x\",\"y\":[24607.0],\"yaxis\":\"y\",\"type\":\"scatter\"},{\"hovertemplate\":\"CHAMPIONNAME=Kayle<br>TOTALDAMAGEDEALTTOCHAMPIONS=%{x}<br>TOTALDAMAGETAKEN=%{y}<extra></extra>\",\"legendgroup\":\"Kayle\",\"marker\":{\"color\":\"#B6E880\",\"symbol\":\"circle\"},\"mode\":\"markers\",\"name\":\"Kayle\",\"orientation\":\"v\",\"showlegend\":true,\"x\":[21004.0],\"xaxis\":\"x\",\"y\":[22871.0],\"yaxis\":\"y\",\"type\":\"scatter\"},{\"hovertemplate\":\"CHAMPIONNAME=Kayn<br>TOTALDAMAGEDEALTTOCHAMPIONS=%{x}<br>TOTALDAMAGETAKEN=%{y}<extra></extra>\",\"legendgroup\":\"Kayn\",\"marker\":{\"color\":\"#FF97FF\",\"symbol\":\"circle\"},\"mode\":\"markers\",\"name\":\"Kayn\",\"orientation\":\"v\",\"showlegend\":true,\"x\":[18369.0],\"xaxis\":\"x\",\"y\":[31222.0],\"yaxis\":\"y\",\"type\":\"scatter\"},{\"hovertemplate\":\"CHAMPIONNAME=Kennen<br>TOTALDAMAGEDEALTTOCHAMPIONS=%{x}<br>TOTALDAMAGETAKEN=%{y}<extra></extra>\",\"legendgroup\":\"Kennen\",\"marker\":{\"color\":\"#FECB52\",\"symbol\":\"circle\"},\"mode\":\"markers\",\"name\":\"Kennen\",\"orientation\":\"v\",\"showlegend\":true,\"x\":[18888.0],\"xaxis\":\"x\",\"y\":[19953.0],\"yaxis\":\"y\",\"type\":\"scatter\"},{\"hovertemplate\":\"CHAMPIONNAME=Khazix<br>TOTALDAMAGEDEALTTOCHAMPIONS=%{x}<br>TOTALDAMAGETAKEN=%{y}<extra></extra>\",\"legendgroup\":\"Khazix\",\"marker\":{\"color\":\"#636efa\",\"symbol\":\"circle\"},\"mode\":\"markers\",\"name\":\"Khazix\",\"orientation\":\"v\",\"showlegend\":true,\"x\":[18410.0],\"xaxis\":\"x\",\"y\":[25028.0],\"yaxis\":\"y\",\"type\":\"scatter\"},{\"hovertemplate\":\"CHAMPIONNAME=Kindred<br>TOTALDAMAGEDEALTTOCHAMPIONS=%{x}<br>TOTALDAMAGETAKEN=%{y}<extra></extra>\",\"legendgroup\":\"Kindred\",\"marker\":{\"color\":\"#EF553B\",\"symbol\":\"circle\"},\"mode\":\"markers\",\"name\":\"Kindred\",\"orientation\":\"v\",\"showlegend\":true,\"x\":[21528.0],\"xaxis\":\"x\",\"y\":[25371.0],\"yaxis\":\"y\",\"type\":\"scatter\"},{\"hovertemplate\":\"CHAMPIONNAME=Kled<br>TOTALDAMAGEDEALTTOCHAMPIONS=%{x}<br>TOTALDAMAGETAKEN=%{y}<extra></extra>\",\"legendgroup\":\"Kled\",\"marker\":{\"color\":\"#00cc96\",\"symbol\":\"circle\"},\"mode\":\"markers\",\"name\":\"Kled\",\"orientation\":\"v\",\"showlegend\":true,\"x\":[18671.0],\"xaxis\":\"x\",\"y\":[34234.0],\"yaxis\":\"y\",\"type\":\"scatter\"},{\"hovertemplate\":\"CHAMPIONNAME=KogMaw<br>TOTALDAMAGEDEALTTOCHAMPIONS=%{x}<br>TOTALDAMAGETAKEN=%{y}<extra></extra>\",\"legendgroup\":\"KogMaw\",\"marker\":{\"color\":\"#ab63fa\",\"symbol\":\"circle\"},\"mode\":\"markers\",\"name\":\"KogMaw\",\"orientation\":\"v\",\"showlegend\":true,\"x\":[29316.0],\"xaxis\":\"x\",\"y\":[23712.0],\"yaxis\":\"y\",\"type\":\"scatter\"},{\"hovertemplate\":\"CHAMPIONNAME=Leblanc<br>TOTALDAMAGEDEALTTOCHAMPIONS=%{x}<br>TOTALDAMAGETAKEN=%{y}<extra></extra>\",\"legendgroup\":\"Leblanc\",\"marker\":{\"color\":\"#FFA15A\",\"symbol\":\"circle\"},\"mode\":\"markers\",\"name\":\"Leblanc\",\"orientation\":\"v\",\"showlegend\":true,\"x\":[17702.0],\"xaxis\":\"x\",\"y\":[19887.0],\"yaxis\":\"y\",\"type\":\"scatter\"},{\"hovertemplate\":\"CHAMPIONNAME=LeeSin<br>TOTALDAMAGEDEALTTOCHAMPIONS=%{x}<br>TOTALDAMAGETAKEN=%{y}<extra></extra>\",\"legendgroup\":\"LeeSin\",\"marker\":{\"color\":\"#19d3f3\",\"symbol\":\"circle\"},\"mode\":\"markers\",\"name\":\"LeeSin\",\"orientation\":\"v\",\"showlegend\":true,\"x\":[15364.0],\"xaxis\":\"x\",\"y\":[29219.0],\"yaxis\":\"y\",\"type\":\"scatter\"},{\"hovertemplate\":\"CHAMPIONNAME=Leona<br>TOTALDAMAGEDEALTTOCHAMPIONS=%{x}<br>TOTALDAMAGETAKEN=%{y}<extra></extra>\",\"legendgroup\":\"Leona\",\"marker\":{\"color\":\"#FF6692\",\"symbol\":\"circle\"},\"mode\":\"markers\",\"name\":\"Leona\",\"orientation\":\"v\",\"showlegend\":true,\"x\":[6917.0],\"xaxis\":\"x\",\"y\":[22359.0],\"yaxis\":\"y\",\"type\":\"scatter\"},{\"hovertemplate\":\"CHAMPIONNAME=Lillia<br>TOTALDAMAGEDEALTTOCHAMPIONS=%{x}<br>TOTALDAMAGETAKEN=%{y}<extra></extra>\",\"legendgroup\":\"Lillia\",\"marker\":{\"color\":\"#B6E880\",\"symbol\":\"circle\"},\"mode\":\"markers\",\"name\":\"Lillia\",\"orientation\":\"v\",\"showlegend\":true,\"x\":[19682.0],\"xaxis\":\"x\",\"y\":[27563.0],\"yaxis\":\"y\",\"type\":\"scatter\"},{\"hovertemplate\":\"CHAMPIONNAME=Lissandra<br>TOTALDAMAGEDEALTTOCHAMPIONS=%{x}<br>TOTALDAMAGETAKEN=%{y}<extra></extra>\",\"legendgroup\":\"Lissandra\",\"marker\":{\"color\":\"#FF97FF\",\"symbol\":\"circle\"},\"mode\":\"markers\",\"name\":\"Lissandra\",\"orientation\":\"v\",\"showlegend\":true,\"x\":[17463.0],\"xaxis\":\"x\",\"y\":[22388.0],\"yaxis\":\"y\",\"type\":\"scatter\"},{\"hovertemplate\":\"CHAMPIONNAME=Lucian<br>TOTALDAMAGEDEALTTOCHAMPIONS=%{x}<br>TOTALDAMAGETAKEN=%{y}<extra></extra>\",\"legendgroup\":\"Lucian\",\"marker\":{\"color\":\"#FECB52\",\"symbol\":\"circle\"},\"mode\":\"markers\",\"name\":\"Lucian\",\"orientation\":\"v\",\"showlegend\":true,\"x\":[20557.0],\"xaxis\":\"x\",\"y\":[19177.0],\"yaxis\":\"y\",\"type\":\"scatter\"},{\"hovertemplate\":\"CHAMPIONNAME=Lulu<br>TOTALDAMAGEDEALTTOCHAMPIONS=%{x}<br>TOTALDAMAGETAKEN=%{y}<extra></extra>\",\"legendgroup\":\"Lulu\",\"marker\":{\"color\":\"#636efa\",\"symbol\":\"circle\"},\"mode\":\"markers\",\"name\":\"Lulu\",\"orientation\":\"v\",\"showlegend\":true,\"x\":[5690.0],\"xaxis\":\"x\",\"y\":[14673.0],\"yaxis\":\"y\",\"type\":\"scatter\"},{\"hovertemplate\":\"CHAMPIONNAME=Lux<br>TOTALDAMAGEDEALTTOCHAMPIONS=%{x}<br>TOTALDAMAGETAKEN=%{y}<extra></extra>\",\"legendgroup\":\"Lux\",\"marker\":{\"color\":\"#EF553B\",\"symbol\":\"circle\"},\"mode\":\"markers\",\"name\":\"Lux\",\"orientation\":\"v\",\"showlegend\":true,\"x\":[16764.0],\"xaxis\":\"x\",\"y\":[14156.0],\"yaxis\":\"y\",\"type\":\"scatter\"},{\"hovertemplate\":\"CHAMPIONNAME=Malphite<br>TOTALDAMAGEDEALTTOCHAMPIONS=%{x}<br>TOTALDAMAGETAKEN=%{y}<extra></extra>\",\"legendgroup\":\"Malphite\",\"marker\":{\"color\":\"#00cc96\",\"symbol\":\"circle\"},\"mode\":\"markers\",\"name\":\"Malphite\",\"orientation\":\"v\",\"showlegend\":true,\"x\":[15334.0],\"xaxis\":\"x\",\"y\":[21248.0],\"yaxis\":\"y\",\"type\":\"scatter\"},{\"hovertemplate\":\"CHAMPIONNAME=Malzahar<br>TOTALDAMAGEDEALTTOCHAMPIONS=%{x}<br>TOTALDAMAGETAKEN=%{y}<extra></extra>\",\"legendgroup\":\"Malzahar\",\"marker\":{\"color\":\"#ab63fa\",\"symbol\":\"circle\"},\"mode\":\"markers\",\"name\":\"Malzahar\",\"orientation\":\"v\",\"showlegend\":true,\"x\":[21808.0],\"xaxis\":\"x\",\"y\":[18365.0],\"yaxis\":\"y\",\"type\":\"scatter\"},{\"hovertemplate\":\"CHAMPIONNAME=Maokai<br>TOTALDAMAGEDEALTTOCHAMPIONS=%{x}<br>TOTALDAMAGETAKEN=%{y}<extra></extra>\",\"legendgroup\":\"Maokai\",\"marker\":{\"color\":\"#FFA15A\",\"symbol\":\"circle\"},\"mode\":\"markers\",\"name\":\"Maokai\",\"orientation\":\"v\",\"showlegend\":true,\"x\":[15927.0],\"xaxis\":\"x\",\"y\":[27743.0],\"yaxis\":\"y\",\"type\":\"scatter\"},{\"hovertemplate\":\"CHAMPIONNAME=MasterYi<br>TOTALDAMAGEDEALTTOCHAMPIONS=%{x}<br>TOTALDAMAGETAKEN=%{y}<extra></extra>\",\"legendgroup\":\"MasterYi\",\"marker\":{\"color\":\"#19d3f3\",\"symbol\":\"circle\"},\"mode\":\"markers\",\"name\":\"MasterYi\",\"orientation\":\"v\",\"showlegend\":true,\"x\":[18748.0],\"xaxis\":\"x\",\"y\":[25670.0],\"yaxis\":\"y\",\"type\":\"scatter\"},{\"hovertemplate\":\"CHAMPIONNAME=MissFortune<br>TOTALDAMAGEDEALTTOCHAMPIONS=%{x}<br>TOTALDAMAGETAKEN=%{y}<extra></extra>\",\"legendgroup\":\"MissFortune\",\"marker\":{\"color\":\"#FF6692\",\"symbol\":\"circle\"},\"mode\":\"markers\",\"name\":\"MissFortune\",\"orientation\":\"v\",\"showlegend\":true,\"x\":[19567.0],\"xaxis\":\"x\",\"y\":[17520.0],\"yaxis\":\"y\",\"type\":\"scatter\"},{\"hovertemplate\":\"CHAMPIONNAME=MonkeyKing<br>TOTALDAMAGEDEALTTOCHAMPIONS=%{x}<br>TOTALDAMAGETAKEN=%{y}<extra></extra>\",\"legendgroup\":\"MonkeyKing\",\"marker\":{\"color\":\"#B6E880\",\"symbol\":\"circle\"},\"mode\":\"markers\",\"name\":\"MonkeyKing\",\"orientation\":\"v\",\"showlegend\":true,\"x\":[18236.0],\"xaxis\":\"x\",\"y\":[30046.0],\"yaxis\":\"y\",\"type\":\"scatter\"},{\"hovertemplate\":\"CHAMPIONNAME=Mordekaiser<br>TOTALDAMAGEDEALTTOCHAMPIONS=%{x}<br>TOTALDAMAGETAKEN=%{y}<extra></extra>\",\"legendgroup\":\"Mordekaiser\",\"marker\":{\"color\":\"#FF97FF\",\"symbol\":\"circle\"},\"mode\":\"markers\",\"name\":\"Mordekaiser\",\"orientation\":\"v\",\"showlegend\":true,\"x\":[21493.0],\"xaxis\":\"x\",\"y\":[29521.0],\"yaxis\":\"y\",\"type\":\"scatter\"},{\"hovertemplate\":\"CHAMPIONNAME=Morgana<br>TOTALDAMAGEDEALTTOCHAMPIONS=%{x}<br>TOTALDAMAGETAKEN=%{y}<extra></extra>\",\"legendgroup\":\"Morgana\",\"marker\":{\"color\":\"#FECB52\",\"symbol\":\"circle\"},\"mode\":\"markers\",\"name\":\"Morgana\",\"orientation\":\"v\",\"showlegend\":true,\"x\":[14031.0],\"xaxis\":\"x\",\"y\":[17133.0],\"yaxis\":\"y\",\"type\":\"scatter\"},{\"hovertemplate\":\"CHAMPIONNAME=Nami<br>TOTALDAMAGEDEALTTOCHAMPIONS=%{x}<br>TOTALDAMAGETAKEN=%{y}<extra></extra>\",\"legendgroup\":\"Nami\",\"marker\":{\"color\":\"#636efa\",\"symbol\":\"circle\"},\"mode\":\"markers\",\"name\":\"Nami\",\"orientation\":\"v\",\"showlegend\":true,\"x\":[7694.0],\"xaxis\":\"x\",\"y\":[15807.0],\"yaxis\":\"y\",\"type\":\"scatter\"},{\"hovertemplate\":\"CHAMPIONNAME=Nasus<br>TOTALDAMAGEDEALTTOCHAMPIONS=%{x}<br>TOTALDAMAGETAKEN=%{y}<extra></extra>\",\"legendgroup\":\"Nasus\",\"marker\":{\"color\":\"#EF553B\",\"symbol\":\"circle\"},\"mode\":\"markers\",\"name\":\"Nasus\",\"orientation\":\"v\",\"showlegend\":true,\"x\":[16877.0],\"xaxis\":\"x\",\"y\":[28840.0],\"yaxis\":\"y\",\"type\":\"scatter\"},{\"hovertemplate\":\"CHAMPIONNAME=Nautilus<br>TOTALDAMAGEDEALTTOCHAMPIONS=%{x}<br>TOTALDAMAGETAKEN=%{y}<extra></extra>\",\"legendgroup\":\"Nautilus\",\"marker\":{\"color\":\"#00cc96\",\"symbol\":\"circle\"},\"mode\":\"markers\",\"name\":\"Nautilus\",\"orientation\":\"v\",\"showlegend\":true,\"x\":[8179.0],\"xaxis\":\"x\",\"y\":[19938.0],\"yaxis\":\"y\",\"type\":\"scatter\"},{\"hovertemplate\":\"CHAMPIONNAME=Neeko<br>TOTALDAMAGEDEALTTOCHAMPIONS=%{x}<br>TOTALDAMAGETAKEN=%{y}<extra></extra>\",\"legendgroup\":\"Neeko\",\"marker\":{\"color\":\"#ab63fa\",\"symbol\":\"circle\"},\"mode\":\"markers\",\"name\":\"Neeko\",\"orientation\":\"v\",\"showlegend\":true,\"x\":[17539.0],\"xaxis\":\"x\",\"y\":[18982.0],\"yaxis\":\"y\",\"type\":\"scatter\"},{\"hovertemplate\":\"CHAMPIONNAME=Nidalee<br>TOTALDAMAGEDEALTTOCHAMPIONS=%{x}<br>TOTALDAMAGETAKEN=%{y}<extra></extra>\",\"legendgroup\":\"Nidalee\",\"marker\":{\"color\":\"#FFA15A\",\"symbol\":\"circle\"},\"mode\":\"markers\",\"name\":\"Nidalee\",\"orientation\":\"v\",\"showlegend\":true,\"x\":[18349.0],\"xaxis\":\"x\",\"y\":[29116.0],\"yaxis\":\"y\",\"type\":\"scatter\"},{\"hovertemplate\":\"CHAMPIONNAME=Nocturne<br>TOTALDAMAGEDEALTTOCHAMPIONS=%{x}<br>TOTALDAMAGETAKEN=%{y}<extra></extra>\",\"legendgroup\":\"Nocturne\",\"marker\":{\"color\":\"#19d3f3\",\"symbol\":\"circle\"},\"mode\":\"markers\",\"name\":\"Nocturne\",\"orientation\":\"v\",\"showlegend\":true,\"x\":[16892.0],\"xaxis\":\"x\",\"y\":[31031.0],\"yaxis\":\"y\",\"type\":\"scatter\"},{\"hovertemplate\":\"CHAMPIONNAME=Nunu<br>TOTALDAMAGEDEALTTOCHAMPIONS=%{x}<br>TOTALDAMAGETAKEN=%{y}<extra></extra>\",\"legendgroup\":\"Nunu\",\"marker\":{\"color\":\"#FF6692\",\"symbol\":\"circle\"},\"mode\":\"markers\",\"name\":\"Nunu\",\"orientation\":\"v\",\"showlegend\":true,\"x\":[14959.0],\"xaxis\":\"x\",\"y\":[32060.0],\"yaxis\":\"y\",\"type\":\"scatter\"},{\"hovertemplate\":\"CHAMPIONNAME=Olaf<br>TOTALDAMAGEDEALTTOCHAMPIONS=%{x}<br>TOTALDAMAGETAKEN=%{y}<extra></extra>\",\"legendgroup\":\"Olaf\",\"marker\":{\"color\":\"#B6E880\",\"symbol\":\"circle\"},\"mode\":\"markers\",\"name\":\"Olaf\",\"orientation\":\"v\",\"showlegend\":true,\"x\":[21682.0],\"xaxis\":\"x\",\"y\":[30031.0],\"yaxis\":\"y\",\"type\":\"scatter\"},{\"hovertemplate\":\"CHAMPIONNAME=Orianna<br>TOTALDAMAGEDEALTTOCHAMPIONS=%{x}<br>TOTALDAMAGETAKEN=%{y}<extra></extra>\",\"legendgroup\":\"Orianna\",\"marker\":{\"color\":\"#FF97FF\",\"symbol\":\"circle\"},\"mode\":\"markers\",\"name\":\"Orianna\",\"orientation\":\"v\",\"showlegend\":true,\"x\":[18943.0],\"xaxis\":\"x\",\"y\":[19987.0],\"yaxis\":\"y\",\"type\":\"scatter\"},{\"hovertemplate\":\"CHAMPIONNAME=Ornn<br>TOTALDAMAGEDEALTTOCHAMPIONS=%{x}<br>TOTALDAMAGETAKEN=%{y}<extra></extra>\",\"legendgroup\":\"Ornn\",\"marker\":{\"color\":\"#FECB52\",\"symbol\":\"circle\"},\"mode\":\"markers\",\"name\":\"Ornn\",\"orientation\":\"v\",\"showlegend\":true,\"x\":[13940.0],\"xaxis\":\"x\",\"y\":[25212.0],\"yaxis\":\"y\",\"type\":\"scatter\"},{\"hovertemplate\":\"CHAMPIONNAME=Pantheon<br>TOTALDAMAGEDEALTTOCHAMPIONS=%{x}<br>TOTALDAMAGETAKEN=%{y}<extra></extra>\",\"legendgroup\":\"Pantheon\",\"marker\":{\"color\":\"#636efa\",\"symbol\":\"circle\"},\"mode\":\"markers\",\"name\":\"Pantheon\",\"orientation\":\"v\",\"showlegend\":true,\"x\":[17929.0],\"xaxis\":\"x\",\"y\":[23676.0],\"yaxis\":\"y\",\"type\":\"scatter\"},{\"hovertemplate\":\"CHAMPIONNAME=Poppy<br>TOTALDAMAGEDEALTTOCHAMPIONS=%{x}<br>TOTALDAMAGETAKEN=%{y}<extra></extra>\",\"legendgroup\":\"Poppy\",\"marker\":{\"color\":\"#EF553B\",\"symbol\":\"circle\"},\"mode\":\"markers\",\"name\":\"Poppy\",\"orientation\":\"v\",\"showlegend\":true,\"x\":[14997.0],\"xaxis\":\"x\",\"y\":[24503.0],\"yaxis\":\"y\",\"type\":\"scatter\"},{\"hovertemplate\":\"CHAMPIONNAME=Pyke<br>TOTALDAMAGEDEALTTOCHAMPIONS=%{x}<br>TOTALDAMAGETAKEN=%{y}<extra></extra>\",\"legendgroup\":\"Pyke\",\"marker\":{\"color\":\"#00cc96\",\"symbol\":\"circle\"},\"mode\":\"markers\",\"name\":\"Pyke\",\"orientation\":\"v\",\"showlegend\":true,\"x\":[10399.0],\"xaxis\":\"x\",\"y\":[20231.0],\"yaxis\":\"y\",\"type\":\"scatter\"},{\"hovertemplate\":\"CHAMPIONNAME=Qiyana<br>TOTALDAMAGEDEALTTOCHAMPIONS=%{x}<br>TOTALDAMAGETAKEN=%{y}<extra></extra>\",\"legendgroup\":\"Qiyana\",\"marker\":{\"color\":\"#ab63fa\",\"symbol\":\"circle\"},\"mode\":\"markers\",\"name\":\"Qiyana\",\"orientation\":\"v\",\"showlegend\":true,\"x\":[19244.0],\"xaxis\":\"x\",\"y\":[21988.0],\"yaxis\":\"y\",\"type\":\"scatter\"},{\"hovertemplate\":\"CHAMPIONNAME=Quinn<br>TOTALDAMAGEDEALTTOCHAMPIONS=%{x}<br>TOTALDAMAGETAKEN=%{y}<extra></extra>\",\"legendgroup\":\"Quinn\",\"marker\":{\"color\":\"#FFA15A\",\"symbol\":\"circle\"},\"mode\":\"markers\",\"name\":\"Quinn\",\"orientation\":\"v\",\"showlegend\":true,\"x\":[21488.0],\"xaxis\":\"x\",\"y\":[22392.0],\"yaxis\":\"y\",\"type\":\"scatter\"},{\"hovertemplate\":\"CHAMPIONNAME=Rakan<br>TOTALDAMAGEDEALTTOCHAMPIONS=%{x}<br>TOTALDAMAGETAKEN=%{y}<extra></extra>\",\"legendgroup\":\"Rakan\",\"marker\":{\"color\":\"#19d3f3\",\"symbol\":\"circle\"},\"mode\":\"markers\",\"name\":\"Rakan\",\"orientation\":\"v\",\"showlegend\":true,\"x\":[7037.0],\"xaxis\":\"x\",\"y\":[17701.0],\"yaxis\":\"y\",\"type\":\"scatter\"},{\"hovertemplate\":\"CHAMPIONNAME=Rammus<br>TOTALDAMAGEDEALTTOCHAMPIONS=%{x}<br>TOTALDAMAGETAKEN=%{y}<extra></extra>\",\"legendgroup\":\"Rammus\",\"marker\":{\"color\":\"#FF6692\",\"symbol\":\"circle\"},\"mode\":\"markers\",\"name\":\"Rammus\",\"orientation\":\"v\",\"showlegend\":true,\"x\":[11673.0],\"xaxis\":\"x\",\"y\":[24711.0],\"yaxis\":\"y\",\"type\":\"scatter\"},{\"hovertemplate\":\"CHAMPIONNAME=RekSai<br>TOTALDAMAGEDEALTTOCHAMPIONS=%{x}<br>TOTALDAMAGETAKEN=%{y}<extra></extra>\",\"legendgroup\":\"RekSai\",\"marker\":{\"color\":\"#B6E880\",\"symbol\":\"circle\"},\"mode\":\"markers\",\"name\":\"RekSai\",\"orientation\":\"v\",\"showlegend\":true,\"x\":[16129.0],\"xaxis\":\"x\",\"y\":[25301.0],\"yaxis\":\"y\",\"type\":\"scatter\"},{\"hovertemplate\":\"CHAMPIONNAME=Rell<br>TOTALDAMAGEDEALTTOCHAMPIONS=%{x}<br>TOTALDAMAGETAKEN=%{y}<extra></extra>\",\"legendgroup\":\"Rell\",\"marker\":{\"color\":\"#FF97FF\",\"symbol\":\"circle\"},\"mode\":\"markers\",\"name\":\"Rell\",\"orientation\":\"v\",\"showlegend\":true,\"x\":[7051.0],\"xaxis\":\"x\",\"y\":[18242.0],\"yaxis\":\"y\",\"type\":\"scatter\"},{\"hovertemplate\":\"CHAMPIONNAME=Renata<br>TOTALDAMAGEDEALTTOCHAMPIONS=%{x}<br>TOTALDAMAGETAKEN=%{y}<extra></extra>\",\"legendgroup\":\"Renata\",\"marker\":{\"color\":\"#FECB52\",\"symbol\":\"circle\"},\"mode\":\"markers\",\"name\":\"Renata\",\"orientation\":\"v\",\"showlegend\":true,\"x\":[9230.0],\"xaxis\":\"x\",\"y\":[19273.0],\"yaxis\":\"y\",\"type\":\"scatter\"},{\"hovertemplate\":\"CHAMPIONNAME=Renekton<br>TOTALDAMAGEDEALTTOCHAMPIONS=%{x}<br>TOTALDAMAGETAKEN=%{y}<extra></extra>\",\"legendgroup\":\"Renekton\",\"marker\":{\"color\":\"#636efa\",\"symbol\":\"circle\"},\"mode\":\"markers\",\"name\":\"Renekton\",\"orientation\":\"v\",\"showlegend\":true,\"x\":[17189.0],\"xaxis\":\"x\",\"y\":[30755.0],\"yaxis\":\"y\",\"type\":\"scatter\"},{\"hovertemplate\":\"CHAMPIONNAME=Rengar<br>TOTALDAMAGEDEALTTOCHAMPIONS=%{x}<br>TOTALDAMAGETAKEN=%{y}<extra></extra>\",\"legendgroup\":\"Rengar\",\"marker\":{\"color\":\"#EF553B\",\"symbol\":\"circle\"},\"mode\":\"markers\",\"name\":\"Rengar\",\"orientation\":\"v\",\"showlegend\":true,\"x\":[16257.0],\"xaxis\":\"x\",\"y\":[23560.0],\"yaxis\":\"y\",\"type\":\"scatter\"},{\"hovertemplate\":\"CHAMPIONNAME=Riven<br>TOTALDAMAGEDEALTTOCHAMPIONS=%{x}<br>TOTALDAMAGETAKEN=%{y}<extra></extra>\",\"legendgroup\":\"Riven\",\"marker\":{\"color\":\"#00cc96\",\"symbol\":\"circle\"},\"mode\":\"markers\",\"name\":\"Riven\",\"orientation\":\"v\",\"showlegend\":true,\"x\":[17534.0],\"xaxis\":\"x\",\"y\":[26532.0],\"yaxis\":\"y\",\"type\":\"scatter\"},{\"hovertemplate\":\"CHAMPIONNAME=Rumble<br>TOTALDAMAGEDEALTTOCHAMPIONS=%{x}<br>TOTALDAMAGETAKEN=%{y}<extra></extra>\",\"legendgroup\":\"Rumble\",\"marker\":{\"color\":\"#ab63fa\",\"symbol\":\"circle\"},\"mode\":\"markers\",\"name\":\"Rumble\",\"orientation\":\"v\",\"showlegend\":true,\"x\":[21438.0],\"xaxis\":\"x\",\"y\":[22637.0],\"yaxis\":\"y\",\"type\":\"scatter\"},{\"hovertemplate\":\"CHAMPIONNAME=Ryze<br>TOTALDAMAGEDEALTTOCHAMPIONS=%{x}<br>TOTALDAMAGETAKEN=%{y}<extra></extra>\",\"legendgroup\":\"Ryze\",\"marker\":{\"color\":\"#FFA15A\",\"symbol\":\"circle\"},\"mode\":\"markers\",\"name\":\"Ryze\",\"orientation\":\"v\",\"showlegend\":true,\"x\":[17817.0],\"xaxis\":\"x\",\"y\":[24117.0],\"yaxis\":\"y\",\"type\":\"scatter\"},{\"hovertemplate\":\"CHAMPIONNAME=Samira<br>TOTALDAMAGEDEALTTOCHAMPIONS=%{x}<br>TOTALDAMAGETAKEN=%{y}<extra></extra>\",\"legendgroup\":\"Samira\",\"marker\":{\"color\":\"#19d3f3\",\"symbol\":\"circle\"},\"mode\":\"markers\",\"name\":\"Samira\",\"orientation\":\"v\",\"showlegend\":true,\"x\":[21601.0],\"xaxis\":\"x\",\"y\":[22189.0],\"yaxis\":\"y\",\"type\":\"scatter\"},{\"hovertemplate\":\"CHAMPIONNAME=Sejuani<br>TOTALDAMAGEDEALTTOCHAMPIONS=%{x}<br>TOTALDAMAGETAKEN=%{y}<extra></extra>\",\"legendgroup\":\"Sejuani\",\"marker\":{\"color\":\"#FF6692\",\"symbol\":\"circle\"},\"mode\":\"markers\",\"name\":\"Sejuani\",\"orientation\":\"v\",\"showlegend\":true,\"x\":[14981.0],\"xaxis\":\"x\",\"y\":[31141.0],\"yaxis\":\"y\",\"type\":\"scatter\"},{\"hovertemplate\":\"CHAMPIONNAME=Senna<br>TOTALDAMAGEDEALTTOCHAMPIONS=%{x}<br>TOTALDAMAGETAKEN=%{y}<extra></extra>\",\"legendgroup\":\"Senna\",\"marker\":{\"color\":\"#B6E880\",\"symbol\":\"circle\"},\"mode\":\"markers\",\"name\":\"Senna\",\"orientation\":\"v\",\"showlegend\":true,\"x\":[16364.0],\"xaxis\":\"x\",\"y\":[16308.0],\"yaxis\":\"y\",\"type\":\"scatter\"},{\"hovertemplate\":\"CHAMPIONNAME=Seraphine<br>TOTALDAMAGEDEALTTOCHAMPIONS=%{x}<br>TOTALDAMAGETAKEN=%{y}<extra></extra>\",\"legendgroup\":\"Seraphine\",\"marker\":{\"color\":\"#FF97FF\",\"symbol\":\"circle\"},\"mode\":\"markers\",\"name\":\"Seraphine\",\"orientation\":\"v\",\"showlegend\":true,\"x\":[11233.0],\"xaxis\":\"x\",\"y\":[15855.0],\"yaxis\":\"y\",\"type\":\"scatter\"},{\"hovertemplate\":\"CHAMPIONNAME=Sett<br>TOTALDAMAGEDEALTTOCHAMPIONS=%{x}<br>TOTALDAMAGETAKEN=%{y}<extra></extra>\",\"legendgroup\":\"Sett\",\"marker\":{\"color\":\"#FECB52\",\"symbol\":\"circle\"},\"mode\":\"markers\",\"name\":\"Sett\",\"orientation\":\"v\",\"showlegend\":true,\"x\":[18161.0],\"xaxis\":\"x\",\"y\":[29037.0],\"yaxis\":\"y\",\"type\":\"scatter\"},{\"hovertemplate\":\"CHAMPIONNAME=Shaco<br>TOTALDAMAGEDEALTTOCHAMPIONS=%{x}<br>TOTALDAMAGETAKEN=%{y}<extra></extra>\",\"legendgroup\":\"Shaco\",\"marker\":{\"color\":\"#636efa\",\"symbol\":\"circle\"},\"mode\":\"markers\",\"name\":\"Shaco\",\"orientation\":\"v\",\"showlegend\":true,\"x\":[17669.0],\"xaxis\":\"x\",\"y\":[22407.0],\"yaxis\":\"y\",\"type\":\"scatter\"},{\"hovertemplate\":\"CHAMPIONNAME=Shen<br>TOTALDAMAGEDEALTTOCHAMPIONS=%{x}<br>TOTALDAMAGETAKEN=%{y}<extra></extra>\",\"legendgroup\":\"Shen\",\"marker\":{\"color\":\"#EF553B\",\"symbol\":\"circle\"},\"mode\":\"markers\",\"name\":\"Shen\",\"orientation\":\"v\",\"showlegend\":true,\"x\":[12315.0],\"xaxis\":\"x\",\"y\":[24860.0],\"yaxis\":\"y\",\"type\":\"scatter\"},{\"hovertemplate\":\"CHAMPIONNAME=Shyvana<br>TOTALDAMAGEDEALTTOCHAMPIONS=%{x}<br>TOTALDAMAGETAKEN=%{y}<extra></extra>\",\"legendgroup\":\"Shyvana\",\"marker\":{\"color\":\"#00cc96\",\"symbol\":\"circle\"},\"mode\":\"markers\",\"name\":\"Shyvana\",\"orientation\":\"v\",\"showlegend\":true,\"x\":[22172.0],\"xaxis\":\"x\",\"y\":[30685.0],\"yaxis\":\"y\",\"type\":\"scatter\"},{\"hovertemplate\":\"CHAMPIONNAME=Singed<br>TOTALDAMAGEDEALTTOCHAMPIONS=%{x}<br>TOTALDAMAGETAKEN=%{y}<extra></extra>\",\"legendgroup\":\"Singed\",\"marker\":{\"color\":\"#ab63fa\",\"symbol\":\"circle\"},\"mode\":\"markers\",\"name\":\"Singed\",\"orientation\":\"v\",\"showlegend\":true,\"x\":[15140.0],\"xaxis\":\"x\",\"y\":[27633.0],\"yaxis\":\"y\",\"type\":\"scatter\"},{\"hovertemplate\":\"CHAMPIONNAME=Sion<br>TOTALDAMAGEDEALTTOCHAMPIONS=%{x}<br>TOTALDAMAGETAKEN=%{y}<extra></extra>\",\"legendgroup\":\"Sion\",\"marker\":{\"color\":\"#FFA15A\",\"symbol\":\"circle\"},\"mode\":\"markers\",\"name\":\"Sion\",\"orientation\":\"v\",\"showlegend\":true,\"x\":[17492.0],\"xaxis\":\"x\",\"y\":[34431.0],\"yaxis\":\"y\",\"type\":\"scatter\"},{\"hovertemplate\":\"CHAMPIONNAME=Sivir<br>TOTALDAMAGEDEALTTOCHAMPIONS=%{x}<br>TOTALDAMAGETAKEN=%{y}<extra></extra>\",\"legendgroup\":\"Sivir\",\"marker\":{\"color\":\"#19d3f3\",\"symbol\":\"circle\"},\"mode\":\"markers\",\"name\":\"Sivir\",\"orientation\":\"v\",\"showlegend\":true,\"x\":[18600.0],\"xaxis\":\"x\",\"y\":[17120.0],\"yaxis\":\"y\",\"type\":\"scatter\"},{\"hovertemplate\":\"CHAMPIONNAME=Skarner<br>TOTALDAMAGEDEALTTOCHAMPIONS=%{x}<br>TOTALDAMAGETAKEN=%{y}<extra></extra>\",\"legendgroup\":\"Skarner\",\"marker\":{\"color\":\"#FF6692\",\"symbol\":\"circle\"},\"mode\":\"markers\",\"name\":\"Skarner\",\"orientation\":\"v\",\"showlegend\":true,\"x\":[16009.0],\"xaxis\":\"x\",\"y\":[29716.0],\"yaxis\":\"y\",\"type\":\"scatter\"},{\"hovertemplate\":\"CHAMPIONNAME=Sona<br>TOTALDAMAGEDEALTTOCHAMPIONS=%{x}<br>TOTALDAMAGETAKEN=%{y}<extra></extra>\",\"legendgroup\":\"Sona\",\"marker\":{\"color\":\"#B6E880\",\"symbol\":\"circle\"},\"mode\":\"markers\",\"name\":\"Sona\",\"orientation\":\"v\",\"showlegend\":true,\"x\":[10488.0],\"xaxis\":\"x\",\"y\":[18525.0],\"yaxis\":\"y\",\"type\":\"scatter\"},{\"hovertemplate\":\"CHAMPIONNAME=Soraka<br>TOTALDAMAGEDEALTTOCHAMPIONS=%{x}<br>TOTALDAMAGETAKEN=%{y}<extra></extra>\",\"legendgroup\":\"Soraka\",\"marker\":{\"color\":\"#FF97FF\",\"symbol\":\"circle\"},\"mode\":\"markers\",\"name\":\"Soraka\",\"orientation\":\"v\",\"showlegend\":true,\"x\":[6149.0],\"xaxis\":\"x\",\"y\":[14984.0],\"yaxis\":\"y\",\"type\":\"scatter\"},{\"hovertemplate\":\"CHAMPIONNAME=Swain<br>TOTALDAMAGEDEALTTOCHAMPIONS=%{x}<br>TOTALDAMAGETAKEN=%{y}<extra></extra>\",\"legendgroup\":\"Swain\",\"marker\":{\"color\":\"#FECB52\",\"symbol\":\"circle\"},\"mode\":\"markers\",\"name\":\"Swain\",\"orientation\":\"v\",\"showlegend\":true,\"x\":[19113.0],\"xaxis\":\"x\",\"y\":[25899.0],\"yaxis\":\"y\",\"type\":\"scatter\"},{\"hovertemplate\":\"CHAMPIONNAME=Sylas<br>TOTALDAMAGEDEALTTOCHAMPIONS=%{x}<br>TOTALDAMAGETAKEN=%{y}<extra></extra>\",\"legendgroup\":\"Sylas\",\"marker\":{\"color\":\"#636efa\",\"symbol\":\"circle\"},\"mode\":\"markers\",\"name\":\"Sylas\",\"orientation\":\"v\",\"showlegend\":true,\"x\":[19553.0],\"xaxis\":\"x\",\"y\":[29198.0],\"yaxis\":\"y\",\"type\":\"scatter\"},{\"hovertemplate\":\"CHAMPIONNAME=Syndra<br>TOTALDAMAGEDEALTTOCHAMPIONS=%{x}<br>TOTALDAMAGETAKEN=%{y}<extra></extra>\",\"legendgroup\":\"Syndra\",\"marker\":{\"color\":\"#EF553B\",\"symbol\":\"circle\"},\"mode\":\"markers\",\"name\":\"Syndra\",\"orientation\":\"v\",\"showlegend\":true,\"x\":[21819.0],\"xaxis\":\"x\",\"y\":[19209.0],\"yaxis\":\"y\",\"type\":\"scatter\"},{\"hovertemplate\":\"CHAMPIONNAME=TahmKench<br>TOTALDAMAGEDEALTTOCHAMPIONS=%{x}<br>TOTALDAMAGETAKEN=%{y}<extra></extra>\",\"legendgroup\":\"TahmKench\",\"marker\":{\"color\":\"#00cc96\",\"symbol\":\"circle\"},\"mode\":\"markers\",\"name\":\"TahmKench\",\"orientation\":\"v\",\"showlegend\":true,\"x\":[12893.0],\"xaxis\":\"x\",\"y\":[27116.0],\"yaxis\":\"y\",\"type\":\"scatter\"},{\"hovertemplate\":\"CHAMPIONNAME=Taliyah<br>TOTALDAMAGEDEALTTOCHAMPIONS=%{x}<br>TOTALDAMAGETAKEN=%{y}<extra></extra>\",\"legendgroup\":\"Taliyah\",\"marker\":{\"color\":\"#ab63fa\",\"symbol\":\"circle\"},\"mode\":\"markers\",\"name\":\"Taliyah\",\"orientation\":\"v\",\"showlegend\":true,\"x\":[25361.0],\"xaxis\":\"x\",\"y\":[25089.0],\"yaxis\":\"y\",\"type\":\"scatter\"},{\"hovertemplate\":\"CHAMPIONNAME=Talon<br>TOTALDAMAGEDEALTTOCHAMPIONS=%{x}<br>TOTALDAMAGETAKEN=%{y}<extra></extra>\",\"legendgroup\":\"Talon\",\"marker\":{\"color\":\"#FFA15A\",\"symbol\":\"circle\"},\"mode\":\"markers\",\"name\":\"Talon\",\"orientation\":\"v\",\"showlegend\":true,\"x\":[21246.0],\"xaxis\":\"x\",\"y\":[28310.0],\"yaxis\":\"y\",\"type\":\"scatter\"},{\"hovertemplate\":\"CHAMPIONNAME=Taric<br>TOTALDAMAGEDEALTTOCHAMPIONS=%{x}<br>TOTALDAMAGETAKEN=%{y}<extra></extra>\",\"legendgroup\":\"Taric\",\"marker\":{\"color\":\"#19d3f3\",\"symbol\":\"circle\"},\"mode\":\"markers\",\"name\":\"Taric\",\"orientation\":\"v\",\"showlegend\":true,\"x\":[6526.0],\"xaxis\":\"x\",\"y\":[18810.0],\"yaxis\":\"y\",\"type\":\"scatter\"},{\"hovertemplate\":\"CHAMPIONNAME=Teemo<br>TOTALDAMAGEDEALTTOCHAMPIONS=%{x}<br>TOTALDAMAGETAKEN=%{y}<extra></extra>\",\"legendgroup\":\"Teemo\",\"marker\":{\"color\":\"#FF6692\",\"symbol\":\"circle\"},\"mode\":\"markers\",\"name\":\"Teemo\",\"orientation\":\"v\",\"showlegend\":true,\"x\":[24787.0],\"xaxis\":\"x\",\"y\":[21138.0],\"yaxis\":\"y\",\"type\":\"scatter\"},{\"hovertemplate\":\"CHAMPIONNAME=Thresh<br>TOTALDAMAGEDEALTTOCHAMPIONS=%{x}<br>TOTALDAMAGETAKEN=%{y}<extra></extra>\",\"legendgroup\":\"Thresh\",\"marker\":{\"color\":\"#B6E880\",\"symbol\":\"circle\"},\"mode\":\"markers\",\"name\":\"Thresh\",\"orientation\":\"v\",\"showlegend\":true,\"x\":[6461.0],\"xaxis\":\"x\",\"y\":[17961.0],\"yaxis\":\"y\",\"type\":\"scatter\"},{\"hovertemplate\":\"CHAMPIONNAME=Tristana<br>TOTALDAMAGEDEALTTOCHAMPIONS=%{x}<br>TOTALDAMAGETAKEN=%{y}<extra></extra>\",\"legendgroup\":\"Tristana\",\"marker\":{\"color\":\"#FF97FF\",\"symbol\":\"circle\"},\"mode\":\"markers\",\"name\":\"Tristana\",\"orientation\":\"v\",\"showlegend\":true,\"x\":[19002.0],\"xaxis\":\"x\",\"y\":[19339.0],\"yaxis\":\"y\",\"type\":\"scatter\"},{\"hovertemplate\":\"CHAMPIONNAME=Trundle<br>TOTALDAMAGEDEALTTOCHAMPIONS=%{x}<br>TOTALDAMAGETAKEN=%{y}<extra></extra>\",\"legendgroup\":\"Trundle\",\"marker\":{\"color\":\"#FECB52\",\"symbol\":\"circle\"},\"mode\":\"markers\",\"name\":\"Trundle\",\"orientation\":\"v\",\"showlegend\":true,\"x\":[15294.0],\"xaxis\":\"x\",\"y\":[31360.0],\"yaxis\":\"y\",\"type\":\"scatter\"},{\"hovertemplate\":\"CHAMPIONNAME=Tryndamere<br>TOTALDAMAGEDEALTTOCHAMPIONS=%{x}<br>TOTALDAMAGETAKEN=%{y}<extra></extra>\",\"legendgroup\":\"Tryndamere\",\"marker\":{\"color\":\"#636efa\",\"symbol\":\"circle\"},\"mode\":\"markers\",\"name\":\"Tryndamere\",\"orientation\":\"v\",\"showlegend\":true,\"x\":[14781.0],\"xaxis\":\"x\",\"y\":[29944.0],\"yaxis\":\"y\",\"type\":\"scatter\"},{\"hovertemplate\":\"CHAMPIONNAME=TwistedFate<br>TOTALDAMAGEDEALTTOCHAMPIONS=%{x}<br>TOTALDAMAGETAKEN=%{y}<extra></extra>\",\"legendgroup\":\"TwistedFate\",\"marker\":{\"color\":\"#EF553B\",\"symbol\":\"circle\"},\"mode\":\"markers\",\"name\":\"TwistedFate\",\"orientation\":\"v\",\"showlegend\":true,\"x\":[14427.0],\"xaxis\":\"x\",\"y\":[20118.0],\"yaxis\":\"y\",\"type\":\"scatter\"},{\"hovertemplate\":\"CHAMPIONNAME=Twitch<br>TOTALDAMAGEDEALTTOCHAMPIONS=%{x}<br>TOTALDAMAGETAKEN=%{y}<extra></extra>\",\"legendgroup\":\"Twitch\",\"marker\":{\"color\":\"#00cc96\",\"symbol\":\"circle\"},\"mode\":\"markers\",\"name\":\"Twitch\",\"orientation\":\"v\",\"showlegend\":true,\"x\":[22057.0],\"xaxis\":\"x\",\"y\":[20750.0],\"yaxis\":\"y\",\"type\":\"scatter\"},{\"hovertemplate\":\"CHAMPIONNAME=Udyr<br>TOTALDAMAGEDEALTTOCHAMPIONS=%{x}<br>TOTALDAMAGETAKEN=%{y}<extra></extra>\",\"legendgroup\":\"Udyr\",\"marker\":{\"color\":\"#ab63fa\",\"symbol\":\"circle\"},\"mode\":\"markers\",\"name\":\"Udyr\",\"orientation\":\"v\",\"showlegend\":true,\"x\":[18819.0],\"xaxis\":\"x\",\"y\":[38553.0],\"yaxis\":\"y\",\"type\":\"scatter\"},{\"hovertemplate\":\"CHAMPIONNAME=Urgot<br>TOTALDAMAGEDEALTTOCHAMPIONS=%{x}<br>TOTALDAMAGETAKEN=%{y}<extra></extra>\",\"legendgroup\":\"Urgot\",\"marker\":{\"color\":\"#FFA15A\",\"symbol\":\"circle\"},\"mode\":\"markers\",\"name\":\"Urgot\",\"orientation\":\"v\",\"showlegend\":true,\"x\":[17247.0],\"xaxis\":\"x\",\"y\":[24375.0],\"yaxis\":\"y\",\"type\":\"scatter\"},{\"hovertemplate\":\"CHAMPIONNAME=Varus<br>TOTALDAMAGEDEALTTOCHAMPIONS=%{x}<br>TOTALDAMAGETAKEN=%{y}<extra></extra>\",\"legendgroup\":\"Varus\",\"marker\":{\"color\":\"#19d3f3\",\"symbol\":\"circle\"},\"mode\":\"markers\",\"name\":\"Varus\",\"orientation\":\"v\",\"showlegend\":true,\"x\":[21746.0],\"xaxis\":\"x\",\"y\":[20400.0],\"yaxis\":\"y\",\"type\":\"scatter\"},{\"hovertemplate\":\"CHAMPIONNAME=Vayne<br>TOTALDAMAGEDEALTTOCHAMPIONS=%{x}<br>TOTALDAMAGETAKEN=%{y}<extra></extra>\",\"legendgroup\":\"Vayne\",\"marker\":{\"color\":\"#FF6692\",\"symbol\":\"circle\"},\"mode\":\"markers\",\"name\":\"Vayne\",\"orientation\":\"v\",\"showlegend\":true,\"x\":[21180.0],\"xaxis\":\"x\",\"y\":[21707.0],\"yaxis\":\"y\",\"type\":\"scatter\"},{\"hovertemplate\":\"CHAMPIONNAME=Veigar<br>TOTALDAMAGEDEALTTOCHAMPIONS=%{x}<br>TOTALDAMAGETAKEN=%{y}<extra></extra>\",\"legendgroup\":\"Veigar\",\"marker\":{\"color\":\"#B6E880\",\"symbol\":\"circle\"},\"mode\":\"markers\",\"name\":\"Veigar\",\"orientation\":\"v\",\"showlegend\":true,\"x\":[20417.0],\"xaxis\":\"x\",\"y\":[19816.0],\"yaxis\":\"y\",\"type\":\"scatter\"},{\"hovertemplate\":\"CHAMPIONNAME=Velkoz<br>TOTALDAMAGEDEALTTOCHAMPIONS=%{x}<br>TOTALDAMAGETAKEN=%{y}<extra></extra>\",\"legendgroup\":\"Velkoz\",\"marker\":{\"color\":\"#FF97FF\",\"symbol\":\"circle\"},\"mode\":\"markers\",\"name\":\"Velkoz\",\"orientation\":\"v\",\"showlegend\":true,\"x\":[21083.0],\"xaxis\":\"x\",\"y\":[17066.0],\"yaxis\":\"y\",\"type\":\"scatter\"},{\"hovertemplate\":\"CHAMPIONNAME=Vex<br>TOTALDAMAGEDEALTTOCHAMPIONS=%{x}<br>TOTALDAMAGETAKEN=%{y}<extra></extra>\",\"legendgroup\":\"Vex\",\"marker\":{\"color\":\"#FECB52\",\"symbol\":\"circle\"},\"mode\":\"markers\",\"name\":\"Vex\",\"orientation\":\"v\",\"showlegend\":true,\"x\":[22093.0],\"xaxis\":\"x\",\"y\":[20211.0],\"yaxis\":\"y\",\"type\":\"scatter\"},{\"hovertemplate\":\"CHAMPIONNAME=Vi<br>TOTALDAMAGEDEALTTOCHAMPIONS=%{x}<br>TOTALDAMAGETAKEN=%{y}<extra></extra>\",\"legendgroup\":\"Vi\",\"marker\":{\"color\":\"#636efa\",\"symbol\":\"circle\"},\"mode\":\"markers\",\"name\":\"Vi\",\"orientation\":\"v\",\"showlegend\":true,\"x\":[17146.0],\"xaxis\":\"x\",\"y\":[26154.0],\"yaxis\":\"y\",\"type\":\"scatter\"},{\"hovertemplate\":\"CHAMPIONNAME=Viego<br>TOTALDAMAGEDEALTTOCHAMPIONS=%{x}<br>TOTALDAMAGETAKEN=%{y}<extra></extra>\",\"legendgroup\":\"Viego\",\"marker\":{\"color\":\"#EF553B\",\"symbol\":\"circle\"},\"mode\":\"markers\",\"name\":\"Viego\",\"orientation\":\"v\",\"showlegend\":true,\"x\":[17300.0],\"xaxis\":\"x\",\"y\":[30380.0],\"yaxis\":\"y\",\"type\":\"scatter\"},{\"hovertemplate\":\"CHAMPIONNAME=Viktor<br>TOTALDAMAGEDEALTTOCHAMPIONS=%{x}<br>TOTALDAMAGETAKEN=%{y}<extra></extra>\",\"legendgroup\":\"Viktor\",\"marker\":{\"color\":\"#00cc96\",\"symbol\":\"circle\"},\"mode\":\"markers\",\"name\":\"Viktor\",\"orientation\":\"v\",\"showlegend\":true,\"x\":[23256.0],\"xaxis\":\"x\",\"y\":[15943.0],\"yaxis\":\"y\",\"type\":\"scatter\"},{\"hovertemplate\":\"CHAMPIONNAME=Vladimir<br>TOTALDAMAGEDEALTTOCHAMPIONS=%{x}<br>TOTALDAMAGETAKEN=%{y}<extra></extra>\",\"legendgroup\":\"Vladimir\",\"marker\":{\"color\":\"#ab63fa\",\"symbol\":\"circle\"},\"mode\":\"markers\",\"name\":\"Vladimir\",\"orientation\":\"v\",\"showlegend\":true,\"x\":[20628.0],\"xaxis\":\"x\",\"y\":[27640.0],\"yaxis\":\"y\",\"type\":\"scatter\"},{\"hovertemplate\":\"CHAMPIONNAME=Volibear<br>TOTALDAMAGEDEALTTOCHAMPIONS=%{x}<br>TOTALDAMAGETAKEN=%{y}<extra></extra>\",\"legendgroup\":\"Volibear\",\"marker\":{\"color\":\"#FFA15A\",\"symbol\":\"circle\"},\"mode\":\"markers\",\"name\":\"Volibear\",\"orientation\":\"v\",\"showlegend\":true,\"x\":[16905.0],\"xaxis\":\"x\",\"y\":[29099.0],\"yaxis\":\"y\",\"type\":\"scatter\"},{\"hovertemplate\":\"CHAMPIONNAME=Warwick<br>TOTALDAMAGEDEALTTOCHAMPIONS=%{x}<br>TOTALDAMAGETAKEN=%{y}<extra></extra>\",\"legendgroup\":\"Warwick\",\"marker\":{\"color\":\"#19d3f3\",\"symbol\":\"circle\"},\"mode\":\"markers\",\"name\":\"Warwick\",\"orientation\":\"v\",\"showlegend\":true,\"x\":[17696.0],\"xaxis\":\"x\",\"y\":[34607.0],\"yaxis\":\"y\",\"type\":\"scatter\"},{\"hovertemplate\":\"CHAMPIONNAME=Xayah<br>TOTALDAMAGEDEALTTOCHAMPIONS=%{x}<br>TOTALDAMAGETAKEN=%{y}<extra></extra>\",\"legendgroup\":\"Xayah\",\"marker\":{\"color\":\"#FF6692\",\"symbol\":\"circle\"},\"mode\":\"markers\",\"name\":\"Xayah\",\"orientation\":\"v\",\"showlegend\":true,\"x\":[21735.0],\"xaxis\":\"x\",\"y\":[18196.0],\"yaxis\":\"y\",\"type\":\"scatter\"},{\"hovertemplate\":\"CHAMPIONNAME=Xerath<br>TOTALDAMAGEDEALTTOCHAMPIONS=%{x}<br>TOTALDAMAGETAKEN=%{y}<extra></extra>\",\"legendgroup\":\"Xerath\",\"marker\":{\"color\":\"#B6E880\",\"symbol\":\"circle\"},\"mode\":\"markers\",\"name\":\"Xerath\",\"orientation\":\"v\",\"showlegend\":true,\"x\":[22299.0],\"xaxis\":\"x\",\"y\":[15097.0],\"yaxis\":\"y\",\"type\":\"scatter\"},{\"hovertemplate\":\"CHAMPIONNAME=XinZhao<br>TOTALDAMAGEDEALTTOCHAMPIONS=%{x}<br>TOTALDAMAGETAKEN=%{y}<extra></extra>\",\"legendgroup\":\"XinZhao\",\"marker\":{\"color\":\"#FF97FF\",\"symbol\":\"circle\"},\"mode\":\"markers\",\"name\":\"XinZhao\",\"orientation\":\"v\",\"showlegend\":true,\"x\":[18297.0],\"xaxis\":\"x\",\"y\":[29718.0],\"yaxis\":\"y\",\"type\":\"scatter\"},{\"hovertemplate\":\"CHAMPIONNAME=Yasuo<br>TOTALDAMAGEDEALTTOCHAMPIONS=%{x}<br>TOTALDAMAGETAKEN=%{y}<extra></extra>\",\"legendgroup\":\"Yasuo\",\"marker\":{\"color\":\"#FECB52\",\"symbol\":\"circle\"},\"mode\":\"markers\",\"name\":\"Yasuo\",\"orientation\":\"v\",\"showlegend\":true,\"x\":[16742.0],\"xaxis\":\"x\",\"y\":[20670.0],\"yaxis\":\"y\",\"type\":\"scatter\"},{\"hovertemplate\":\"CHAMPIONNAME=Yone<br>TOTALDAMAGEDEALTTOCHAMPIONS=%{x}<br>TOTALDAMAGETAKEN=%{y}<extra></extra>\",\"legendgroup\":\"Yone\",\"marker\":{\"color\":\"#636efa\",\"symbol\":\"circle\"},\"mode\":\"markers\",\"name\":\"Yone\",\"orientation\":\"v\",\"showlegend\":true,\"x\":[21240.0],\"xaxis\":\"x\",\"y\":[24252.0],\"yaxis\":\"y\",\"type\":\"scatter\"},{\"hovertemplate\":\"CHAMPIONNAME=Yorick<br>TOTALDAMAGEDEALTTOCHAMPIONS=%{x}<br>TOTALDAMAGETAKEN=%{y}<extra></extra>\",\"legendgroup\":\"Yorick\",\"marker\":{\"color\":\"#EF553B\",\"symbol\":\"circle\"},\"mode\":\"markers\",\"name\":\"Yorick\",\"orientation\":\"v\",\"showlegend\":true,\"x\":[18406.0],\"xaxis\":\"x\",\"y\":[24642.0],\"yaxis\":\"y\",\"type\":\"scatter\"},{\"hovertemplate\":\"CHAMPIONNAME=Yuumi<br>TOTALDAMAGEDEALTTOCHAMPIONS=%{x}<br>TOTALDAMAGETAKEN=%{y}<extra></extra>\",\"legendgroup\":\"Yuumi\",\"marker\":{\"color\":\"#00cc96\",\"symbol\":\"circle\"},\"mode\":\"markers\",\"name\":\"Yuumi\",\"orientation\":\"v\",\"showlegend\":true,\"x\":[8896.0],\"xaxis\":\"x\",\"y\":[8670.0],\"yaxis\":\"y\",\"type\":\"scatter\"},{\"hovertemplate\":\"CHAMPIONNAME=Zac<br>TOTALDAMAGEDEALTTOCHAMPIONS=%{x}<br>TOTALDAMAGETAKEN=%{y}<extra></extra>\",\"legendgroup\":\"Zac\",\"marker\":{\"color\":\"#ab63fa\",\"symbol\":\"circle\"},\"mode\":\"markers\",\"name\":\"Zac\",\"orientation\":\"v\",\"showlegend\":true,\"x\":[16267.0],\"xaxis\":\"x\",\"y\":[34193.0],\"yaxis\":\"y\",\"type\":\"scatter\"},{\"hovertemplate\":\"CHAMPIONNAME=Zed<br>TOTALDAMAGEDEALTTOCHAMPIONS=%{x}<br>TOTALDAMAGETAKEN=%{y}<extra></extra>\",\"legendgroup\":\"Zed\",\"marker\":{\"color\":\"#FFA15A\",\"symbol\":\"circle\"},\"mode\":\"markers\",\"name\":\"Zed\",\"orientation\":\"v\",\"showlegend\":true,\"x\":[22611.0],\"xaxis\":\"x\",\"y\":[22637.0],\"yaxis\":\"y\",\"type\":\"scatter\"},{\"hovertemplate\":\"CHAMPIONNAME=Zeri<br>TOTALDAMAGEDEALTTOCHAMPIONS=%{x}<br>TOTALDAMAGETAKEN=%{y}<extra></extra>\",\"legendgroup\":\"Zeri\",\"marker\":{\"color\":\"#19d3f3\",\"symbol\":\"circle\"},\"mode\":\"markers\",\"name\":\"Zeri\",\"orientation\":\"v\",\"showlegend\":true,\"x\":[22901.0],\"xaxis\":\"x\",\"y\":[21066.0],\"yaxis\":\"y\",\"type\":\"scatter\"},{\"hovertemplate\":\"CHAMPIONNAME=Ziggs<br>TOTALDAMAGEDEALTTOCHAMPIONS=%{x}<br>TOTALDAMAGETAKEN=%{y}<extra></extra>\",\"legendgroup\":\"Ziggs\",\"marker\":{\"color\":\"#FF6692\",\"symbol\":\"circle\"},\"mode\":\"markers\",\"name\":\"Ziggs\",\"orientation\":\"v\",\"showlegend\":true,\"x\":[22873.0],\"xaxis\":\"x\",\"y\":[17464.0],\"yaxis\":\"y\",\"type\":\"scatter\"},{\"hovertemplate\":\"CHAMPIONNAME=Zilean<br>TOTALDAMAGEDEALTTOCHAMPIONS=%{x}<br>TOTALDAMAGETAKEN=%{y}<extra></extra>\",\"legendgroup\":\"Zilean\",\"marker\":{\"color\":\"#B6E880\",\"symbol\":\"circle\"},\"mode\":\"markers\",\"name\":\"Zilean\",\"orientation\":\"v\",\"showlegend\":true,\"x\":[10999.0],\"xaxis\":\"x\",\"y\":[17856.0],\"yaxis\":\"y\",\"type\":\"scatter\"},{\"hovertemplate\":\"CHAMPIONNAME=Zoe<br>TOTALDAMAGEDEALTTOCHAMPIONS=%{x}<br>TOTALDAMAGETAKEN=%{y}<extra></extra>\",\"legendgroup\":\"Zoe\",\"marker\":{\"color\":\"#FF97FF\",\"symbol\":\"circle\"},\"mode\":\"markers\",\"name\":\"Zoe\",\"orientation\":\"v\",\"showlegend\":true,\"x\":[18579.0],\"xaxis\":\"x\",\"y\":[17353.0],\"yaxis\":\"y\",\"type\":\"scatter\"},{\"hovertemplate\":\"CHAMPIONNAME=Zyra<br>TOTALDAMAGEDEALTTOCHAMPIONS=%{x}<br>TOTALDAMAGETAKEN=%{y}<extra></extra>\",\"legendgroup\":\"Zyra\",\"marker\":{\"color\":\"#FECB52\",\"symbol\":\"circle\"},\"mode\":\"markers\",\"name\":\"Zyra\",\"orientation\":\"v\",\"showlegend\":true,\"x\":[19974.0],\"xaxis\":\"x\",\"y\":[16093.0],\"yaxis\":\"y\",\"type\":\"scatter\"}],                        {\"legend\":{\"title\":{\"text\":\"CHAMPIONNAME\"},\"tracegroupgap\":0},\"margin\":{\"t\":60},\"template\":{\"data\":{\"barpolar\":[{\"marker\":{\"line\":{\"color\":\"#E5ECF6\",\"width\":0.5},\"pattern\":{\"fillmode\":\"overlay\",\"size\":10,\"solidity\":0.2}},\"type\":\"barpolar\"}],\"bar\":[{\"error_x\":{\"color\":\"#2a3f5f\"},\"error_y\":{\"color\":\"#2a3f5f\"},\"marker\":{\"line\":{\"color\":\"#E5ECF6\",\"width\":0.5},\"pattern\":{\"fillmode\":\"overlay\",\"size\":10,\"solidity\":0.2}},\"type\":\"bar\"}],\"carpet\":[{\"aaxis\":{\"endlinecolor\":\"#2a3f5f\",\"gridcolor\":\"white\",\"linecolor\":\"white\",\"minorgridcolor\":\"white\",\"startlinecolor\":\"#2a3f5f\"},\"baxis\":{\"endlinecolor\":\"#2a3f5f\",\"gridcolor\":\"white\",\"linecolor\":\"white\",\"minorgridcolor\":\"white\",\"startlinecolor\":\"#2a3f5f\"},\"type\":\"carpet\"}],\"choropleth\":[{\"colorbar\":{\"outlinewidth\":0,\"ticks\":\"\"},\"type\":\"choropleth\"}],\"contourcarpet\":[{\"colorbar\":{\"outlinewidth\":0,\"ticks\":\"\"},\"type\":\"contourcarpet\"}],\"contour\":[{\"colorbar\":{\"outlinewidth\":0,\"ticks\":\"\"},\"colorscale\":[[0.0,\"#0d0887\"],[0.1111111111111111,\"#46039f\"],[0.2222222222222222,\"#7201a8\"],[0.3333333333333333,\"#9c179e\"],[0.4444444444444444,\"#bd3786\"],[0.5555555555555556,\"#d8576b\"],[0.6666666666666666,\"#ed7953\"],[0.7777777777777778,\"#fb9f3a\"],[0.8888888888888888,\"#fdca26\"],[1.0,\"#f0f921\"]],\"type\":\"contour\"}],\"heatmapgl\":[{\"colorbar\":{\"outlinewidth\":0,\"ticks\":\"\"},\"colorscale\":[[0.0,\"#0d0887\"],[0.1111111111111111,\"#46039f\"],[0.2222222222222222,\"#7201a8\"],[0.3333333333333333,\"#9c179e\"],[0.4444444444444444,\"#bd3786\"],[0.5555555555555556,\"#d8576b\"],[0.6666666666666666,\"#ed7953\"],[0.7777777777777778,\"#fb9f3a\"],[0.8888888888888888,\"#fdca26\"],[1.0,\"#f0f921\"]],\"type\":\"heatmapgl\"}],\"heatmap\":[{\"colorbar\":{\"outlinewidth\":0,\"ticks\":\"\"},\"colorscale\":[[0.0,\"#0d0887\"],[0.1111111111111111,\"#46039f\"],[0.2222222222222222,\"#7201a8\"],[0.3333333333333333,\"#9c179e\"],[0.4444444444444444,\"#bd3786\"],[0.5555555555555556,\"#d8576b\"],[0.6666666666666666,\"#ed7953\"],[0.7777777777777778,\"#fb9f3a\"],[0.8888888888888888,\"#fdca26\"],[1.0,\"#f0f921\"]],\"type\":\"heatmap\"}],\"histogram2dcontour\":[{\"colorbar\":{\"outlinewidth\":0,\"ticks\":\"\"},\"colorscale\":[[0.0,\"#0d0887\"],[0.1111111111111111,\"#46039f\"],[0.2222222222222222,\"#7201a8\"],[0.3333333333333333,\"#9c179e\"],[0.4444444444444444,\"#bd3786\"],[0.5555555555555556,\"#d8576b\"],[0.6666666666666666,\"#ed7953\"],[0.7777777777777778,\"#fb9f3a\"],[0.8888888888888888,\"#fdca26\"],[1.0,\"#f0f921\"]],\"type\":\"histogram2dcontour\"}],\"histogram2d\":[{\"colorbar\":{\"outlinewidth\":0,\"ticks\":\"\"},\"colorscale\":[[0.0,\"#0d0887\"],[0.1111111111111111,\"#46039f\"],[0.2222222222222222,\"#7201a8\"],[0.3333333333333333,\"#9c179e\"],[0.4444444444444444,\"#bd3786\"],[0.5555555555555556,\"#d8576b\"],[0.6666666666666666,\"#ed7953\"],[0.7777777777777778,\"#fb9f3a\"],[0.8888888888888888,\"#fdca26\"],[1.0,\"#f0f921\"]],\"type\":\"histogram2d\"}],\"histogram\":[{\"marker\":{\"pattern\":{\"fillmode\":\"overlay\",\"size\":10,\"solidity\":0.2}},\"type\":\"histogram\"}],\"mesh3d\":[{\"colorbar\":{\"outlinewidth\":0,\"ticks\":\"\"},\"type\":\"mesh3d\"}],\"parcoords\":[{\"line\":{\"colorbar\":{\"outlinewidth\":0,\"ticks\":\"\"}},\"type\":\"parcoords\"}],\"pie\":[{\"automargin\":true,\"type\":\"pie\"}],\"scatter3d\":[{\"line\":{\"colorbar\":{\"outlinewidth\":0,\"ticks\":\"\"}},\"marker\":{\"colorbar\":{\"outlinewidth\":0,\"ticks\":\"\"}},\"type\":\"scatter3d\"}],\"scattercarpet\":[{\"marker\":{\"colorbar\":{\"outlinewidth\":0,\"ticks\":\"\"}},\"type\":\"scattercarpet\"}],\"scattergeo\":[{\"marker\":{\"colorbar\":{\"outlinewidth\":0,\"ticks\":\"\"}},\"type\":\"scattergeo\"}],\"scattergl\":[{\"marker\":{\"colorbar\":{\"outlinewidth\":0,\"ticks\":\"\"}},\"type\":\"scattergl\"}],\"scattermapbox\":[{\"marker\":{\"colorbar\":{\"outlinewidth\":0,\"ticks\":\"\"}},\"type\":\"scattermapbox\"}],\"scatterpolargl\":[{\"marker\":{\"colorbar\":{\"outlinewidth\":0,\"ticks\":\"\"}},\"type\":\"scatterpolargl\"}],\"scatterpolar\":[{\"marker\":{\"colorbar\":{\"outlinewidth\":0,\"ticks\":\"\"}},\"type\":\"scatterpolar\"}],\"scatter\":[{\"marker\":{\"colorbar\":{\"outlinewidth\":0,\"ticks\":\"\"}},\"type\":\"scatter\"}],\"scatterternary\":[{\"marker\":{\"colorbar\":{\"outlinewidth\":0,\"ticks\":\"\"}},\"type\":\"scatterternary\"}],\"surface\":[{\"colorbar\":{\"outlinewidth\":0,\"ticks\":\"\"},\"colorscale\":[[0.0,\"#0d0887\"],[0.1111111111111111,\"#46039f\"],[0.2222222222222222,\"#7201a8\"],[0.3333333333333333,\"#9c179e\"],[0.4444444444444444,\"#bd3786\"],[0.5555555555555556,\"#d8576b\"],[0.6666666666666666,\"#ed7953\"],[0.7777777777777778,\"#fb9f3a\"],[0.8888888888888888,\"#fdca26\"],[1.0,\"#f0f921\"]],\"type\":\"surface\"}],\"table\":[{\"cells\":{\"fill\":{\"color\":\"#EBF0F8\"},\"line\":{\"color\":\"white\"}},\"header\":{\"fill\":{\"color\":\"#C8D4E3\"},\"line\":{\"color\":\"white\"}},\"type\":\"table\"}]},\"layout\":{\"annotationdefaults\":{\"arrowcolor\":\"#2a3f5f\",\"arrowhead\":0,\"arrowwidth\":1},\"autotypenumbers\":\"strict\",\"coloraxis\":{\"colorbar\":{\"outlinewidth\":0,\"ticks\":\"\"}},\"colorscale\":{\"diverging\":[[0,\"#8e0152\"],[0.1,\"#c51b7d\"],[0.2,\"#de77ae\"],[0.3,\"#f1b6da\"],[0.4,\"#fde0ef\"],[0.5,\"#f7f7f7\"],[0.6,\"#e6f5d0\"],[0.7,\"#b8e186\"],[0.8,\"#7fbc41\"],[0.9,\"#4d9221\"],[1,\"#276419\"]],\"sequential\":[[0.0,\"#0d0887\"],[0.1111111111111111,\"#46039f\"],[0.2222222222222222,\"#7201a8\"],[0.3333333333333333,\"#9c179e\"],[0.4444444444444444,\"#bd3786\"],[0.5555555555555556,\"#d8576b\"],[0.6666666666666666,\"#ed7953\"],[0.7777777777777778,\"#fb9f3a\"],[0.8888888888888888,\"#fdca26\"],[1.0,\"#f0f921\"]],\"sequentialminus\":[[0.0,\"#0d0887\"],[0.1111111111111111,\"#46039f\"],[0.2222222222222222,\"#7201a8\"],[0.3333333333333333,\"#9c179e\"],[0.4444444444444444,\"#bd3786\"],[0.5555555555555556,\"#d8576b\"],[0.6666666666666666,\"#ed7953\"],[0.7777777777777778,\"#fb9f3a\"],[0.8888888888888888,\"#fdca26\"],[1.0,\"#f0f921\"]]},\"colorway\":[\"#636efa\",\"#EF553B\",\"#00cc96\",\"#ab63fa\",\"#FFA15A\",\"#19d3f3\",\"#FF6692\",\"#B6E880\",\"#FF97FF\",\"#FECB52\"],\"font\":{\"color\":\"#2a3f5f\"},\"geo\":{\"bgcolor\":\"white\",\"lakecolor\":\"white\",\"landcolor\":\"#E5ECF6\",\"showlakes\":true,\"showland\":true,\"subunitcolor\":\"white\"},\"hoverlabel\":{\"align\":\"left\"},\"hovermode\":\"closest\",\"mapbox\":{\"style\":\"light\"},\"paper_bgcolor\":\"white\",\"plot_bgcolor\":\"#E5ECF6\",\"polar\":{\"angularaxis\":{\"gridcolor\":\"white\",\"linecolor\":\"white\",\"ticks\":\"\"},\"bgcolor\":\"#E5ECF6\",\"radialaxis\":{\"gridcolor\":\"white\",\"linecolor\":\"white\",\"ticks\":\"\"}},\"scene\":{\"xaxis\":{\"backgroundcolor\":\"#E5ECF6\",\"gridcolor\":\"white\",\"gridwidth\":2,\"linecolor\":\"white\",\"showbackground\":true,\"ticks\":\"\",\"zerolinecolor\":\"white\"},\"yaxis\":{\"backgroundcolor\":\"#E5ECF6\",\"gridcolor\":\"white\",\"gridwidth\":2,\"linecolor\":\"white\",\"showbackground\":true,\"ticks\":\"\",\"zerolinecolor\":\"white\"},\"zaxis\":{\"backgroundcolor\":\"#E5ECF6\",\"gridcolor\":\"white\",\"gridwidth\":2,\"linecolor\":\"white\",\"showbackground\":true,\"ticks\":\"\",\"zerolinecolor\":\"white\"}},\"shapedefaults\":{\"line\":{\"color\":\"#2a3f5f\"}},\"ternary\":{\"aaxis\":{\"gridcolor\":\"white\",\"linecolor\":\"white\",\"ticks\":\"\"},\"baxis\":{\"gridcolor\":\"white\",\"linecolor\":\"white\",\"ticks\":\"\"},\"bgcolor\":\"#E5ECF6\",\"caxis\":{\"gridcolor\":\"white\",\"linecolor\":\"white\",\"ticks\":\"\"}},\"title\":{\"x\":0.05},\"xaxis\":{\"automargin\":true,\"gridcolor\":\"white\",\"linecolor\":\"white\",\"ticks\":\"\",\"title\":{\"standoff\":15},\"zerolinecolor\":\"white\",\"zerolinewidth\":2},\"yaxis\":{\"automargin\":true,\"gridcolor\":\"white\",\"linecolor\":\"white\",\"ticks\":\"\",\"title\":{\"standoff\":15},\"zerolinecolor\":\"white\",\"zerolinewidth\":2}}},\"xaxis\":{\"anchor\":\"y\",\"domain\":[0.0,1.0],\"title\":{\"text\":\"TOTALDAMAGEDEALTTOCHAMPIONS\"}},\"yaxis\":{\"anchor\":\"x\",\"domain\":[0.0,1.0],\"title\":{\"text\":\"TOTALDAMAGETAKEN\"}}},                        {\"responsive\": true}                    ).then(function(){\n",
       "                            \n",
       "var gd = document.getElementById('ba5254b4-5063-457e-a5f8-83dbaf14208c');\n",
       "var x = new MutationObserver(function (mutations, observer) {{\n",
       "        var display = window.getComputedStyle(gd).display;\n",
       "        if (!display || display === 'none') {{\n",
       "            console.log([gd, 'removed!']);\n",
       "            Plotly.purge(gd);\n",
       "            observer.disconnect();\n",
       "        }}\n",
       "}});\n",
       "\n",
       "// Listen for the removal of the full notebook cells\n",
       "var notebookContainer = gd.closest('#notebook-container');\n",
       "if (notebookContainer) {{\n",
       "    x.observe(notebookContainer, {childList: true});\n",
       "}}\n",
       "\n",
       "// Listen for the clearing of the current output cell\n",
       "var outputEl = gd.closest('.output');\n",
       "if (outputEl) {{\n",
       "    x.observe(outputEl, {childList: true});\n",
       "}}\n",
       "\n",
       "                        })                };                });            </script>        </div>"
      ]
     },
     "metadata": {},
     "output_type": "display_data"
    }
   ],
   "source": [
    "fig = px.scatter(my_df,\n",
    "                x = 'TOTALDAMAGEDEALTTOCHAMPIONS',\n",
    "                y = 'TOTALDAMAGETAKEN',\n",
    "                color = 'CHAMPIONNAME')\n",
    "plotly.offline.iplot(fig)"
   ]
  },
  {
   "cell_type": "markdown",
   "id": "c450761d",
   "metadata": {},
   "source": [
    "# 미니프로젝트"
   ]
  },
  {
   "cell_type": "markdown",
   "id": "95823ae8",
   "metadata": {},
   "source": [
    "- api를 통해 라이엇 데이터 수집하기(로우데이터 df만들기) - 티어는 자유로 수집\n",
    "- 불러온 데이터를 전처리(중복제거, na값 제거)하고 matches_timeline df 1개 ,2개  - 최소컬럼 25개(match,timeline 합쳐서)\n",
    "- 위의 과정을 함수화 해서 모듈을 만듭니다. (py파일로 만들기)\n",
    "- 전처리된 로우데이터를 오라클에 저장을 합니다. (insert) - > 함수로 최소 10000개 insert\n",
    "- 팀끼리 상의해서 데이터들을 활용해서 흥미롭고 재밌을거같은 주제를 3가지 선정해서 만들어봅니다.\n",
    "- 지표 분석을 통해 나온 df을 시각화 모듈을 사용해서 표현하세요.(3가지 전부)\n",
    "\n",
    "- 모든부분을 캡쳐해서 폴더에 저장.\n",
    "- 개발보고서, ppt를 만들어서 간단하게 발표 예정\n",
    "- 개발보고서, ppt, py파일, ipynb파일, 사진캡쳐 등 모든 제작물을 하나의 폴더에 저장해서 압축,\n",
    "- appfaa6@gmail.com\n",
    "- 개발보고서에 날짜 2022년 7월 4일로 입력\n",
    "- 금요일 점심 12시까지\n",
    "\n"
   ]
  },
  {
   "cell_type": "code",
   "execution_count": null,
   "id": "fdbc8ac8",
   "metadata": {},
   "outputs": [],
   "source": []
  },
  {
   "cell_type": "code",
   "execution_count": null,
   "id": "305ae176",
   "metadata": {},
   "outputs": [],
   "source": []
  },
  {
   "cell_type": "code",
   "execution_count": null,
   "id": "3ba2b780",
   "metadata": {},
   "outputs": [],
   "source": []
  },
  {
   "cell_type": "code",
   "execution_count": null,
   "id": "64f46e88",
   "metadata": {},
   "outputs": [],
   "source": []
  }
 ],
 "metadata": {
  "kernelspec": {
   "display_name": "Python 3 (ipykernel)",
   "language": "python",
   "name": "python3"
  },
  "language_info": {
   "codemirror_mode": {
    "name": "ipython",
    "version": 3
   },
   "file_extension": ".py",
   "mimetype": "text/x-python",
   "name": "python",
   "nbconvert_exporter": "python",
   "pygments_lexer": "ipython3",
   "version": "3.9.12"
  }
 },
 "nbformat": 4,
 "nbformat_minor": 5
}
