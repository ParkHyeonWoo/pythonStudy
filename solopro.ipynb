{
 "cells": [
  {
   "cell_type": "code",
   "execution_count": 1,
   "id": "538de2f4",
   "metadata": {},
   "outputs": [],
   "source": [
    "import numpy as np\n",
    "import requests\n",
    "import pandas as pd\n",
    "from my_utils import *\n",
    "from tqdm import tqdm\n",
    "tqdm.pandas()"
   ]
  },
  {
   "cell_type": "code",
   "execution_count": 2,
   "id": "b55252ed",
   "metadata": {},
   "outputs": [],
   "source": [
    "from random import *\n",
    "import time"
   ]
  },
  {
   "cell_type": "code",
   "execution_count": 3,
   "id": "dbec81c6",
   "metadata": {},
   "outputs": [],
   "source": [
    "api_key = 'RGAPI-67d136a0-7d96-4365-b1ae-0c458fce4e41'"
   ]
  },
  {
   "cell_type": "code",
   "execution_count": 4,
   "id": "37977bb1",
   "metadata": {},
   "outputs": [],
   "source": [
    "def get_lst(summonerName_lst):\n",
    "    tmp = []\n",
    "    for i in summonerName_lst[:5]:\n",
    "        try:\n",
    "            puuid = get_puuid(i)\n",
    "            matchid = get_matchid(puuid, 3)\n",
    "            matchs_timelines = get_matchs_timelines(matchid)\n",
    "            tmp.extend(matchs_timelines)\n",
    "        except:\n",
    "            continue\n",
    "    return tmp"
   ]
  },
  {
   "cell_type": "code",
   "execution_count": 5,
   "id": "65846ed6",
   "metadata": {},
   "outputs": [],
   "source": [
    "division = ['I', 'II', 'III', 'IV']\n",
    "page = randint(1, 50)\n",
    "divi = randint(0, 3)"
   ]
  },
  {
   "cell_type": "code",
   "execution_count": 6,
   "id": "44c99724",
   "metadata": {},
   "outputs": [],
   "source": [
    "def rawData():\n",
    "    api_key = 'RGAPI-67d136a0-7d96-4365-b1ae-0c458fce4e41'\n",
    "    url = 'https://kr.api.riotgames.com/lol/league/v4/entries/RANKED_SOLO_5x5/DIAMOND/'+division[divi]+'?page='+str(page)+'&api_key='+api_key\n",
    "    res = requests.get(url).json()\n",
    "    summonerName_lst = list(map(lambda x: x['summonerName'], res))\n",
    "    tmp = get_lst(summonerName_lst)\n",
    "    df = pd.DataFrame(tmp, columns = ['gameId', 'matchs', 'timelines'])\n",
    "    tmp_df = df.copy()\n",
    "    \n",
    "    lst = []\n",
    "    for i in range(len(tmp_df)):\n",
    "        if tmp_df.iloc[i].matchs['info']['gameMode'] == 'CLASSIC':\n",
    "            g_id = tmp_df.iloc[i].gameId\n",
    "            match = tmp_df.iloc[i].matchs['info']\n",
    "            timeline = tmp_df.iloc[i].timelines['info']\n",
    "            for j in range(10):\n",
    "                lst_tmp = []\n",
    "                lst_tmp.append(match['gameId'])\n",
    "                lst_tmp.append(match['gameDuration'])\n",
    "                lst_tmp.append(match['gameVersion'])\n",
    "                lst_tmp.append(match['participants'][j]['summonerName'])\n",
    "                lst_tmp.append(match['participants'][j]['summonerLevel'])\n",
    "                lst_tmp.append(match['participants'][j]['participantId'])\n",
    "                lst_tmp.append(match['participants'][j]['championName'])\n",
    "                lst_tmp.append(match['participants'][j]['champExperience'])\n",
    "                lst_tmp.append(match['participants'][j]['teamPosition'])\n",
    "                lst_tmp.append(match['participants'][j]['teamId'])\n",
    "                lst_tmp.append(match['participants'][j]['win'])\n",
    "                lst_tmp.append(match['participants'][j]['kills'])\n",
    "                lst_tmp.append(match['participants'][j]['deaths'])\n",
    "                lst_tmp.append(match['participants'][j]['assists'])\n",
    "                lst_tmp.append(match['participants'][j]['totalDamageDealtToChampions'])\n",
    "                lst_tmp.append(match['participants'][j]['totalDamageTaken'])\n",
    "                \n",
    "                all_time_gold = list(map(lambda x: str(x['participantFrames'][str(j+1)]['totalGold']), timeline['frames']))\n",
    "                lst_tmp.append('|'.join(all_time_gold))\n",
    "                \n",
    "                lst.append(lst_tmp)\n",
    "    \n",
    "    col_lst = ['gameId', 'gameDuration', 'gameVersion', 'summonerName', 'summonerLevel', 'participantId', 'championName', \n",
    "               'champExperience', 'teamPosition', 'teamId', 'win', 'kills', 'deaths', 'assists', 'totalDamageDealtToChampions', \n",
    "               'totalDamageTaken', 'all_time_gold']\n",
    "    \n",
    "    raw_df = pd.DataFrame(lst, columns = col_lst)\n",
    "    raw_df = raw_df.drop_duplicates()\n",
    "    \n",
    "    db_open()\n",
    "    raw_df.progress_apply(lambda x: db_insert(x), axis = 1)\n",
    "    db_close()\n",
    "    \n",
    "    return"
   ]
  },
  {
   "cell_type": "code",
   "execution_count": 7,
   "id": "8c7b7afb",
   "metadata": {},
   "outputs": [
    {
     "name": "stdout",
     "output_type": "stream",
     "text": [
      "db_open!\n",
      "db_close!\n"
     ]
    }
   ],
   "source": [
    "db_open()\n",
    "query = \"drop table solopro\"\n",
    "sql_execute(query)\n",
    "db_close()"
   ]
  },
  {
   "cell_type": "code",
   "execution_count": 8,
   "id": "dd676014",
   "metadata": {},
   "outputs": [
    {
     "name": "stdout",
     "output_type": "stream",
     "text": [
      "db_open!\n",
      "db_close!\n"
     ]
    }
   ],
   "source": [
    "db_open()\n",
    "query = \"\"\"\n",
    "    create table solopro(gameId varchar(50), gameDuration number(20), gameVersion varchar(50), summonerName varchar(100), summonerLevel number(10), \n",
    "    participantId varchar(20), championName varchar(50), champExperience number(20), teamPosition varchar(20), teamId number(10), \n",
    "    win varchar(50), kills number(10), deaths number(10), assists number(10), totalDamageDealtToChampions number(10), totalDamageTaken number(10), \n",
    "    all_time_gold varchar(500))\n",
    "\"\"\"\n",
    "\n",
    "sql_execute(query)\n",
    "db_close()"
   ]
  },
  {
   "cell_type": "code",
   "execution_count": 7,
   "id": "5976e46d",
   "metadata": {},
   "outputs": [],
   "source": [
    "def db_insert(x):\n",
    "    query = (\n",
    "        f\"insert into solopro(gameId, gameDuration, gameVersion, summonerName, summonerLevel, participantId, championName, champExperience, \"\n",
    "        f\"teamPosition, teamId, win, kills, deaths, assists, totalDamageDealtToChampions, totalDamageTaken, all_time_gold)\"\n",
    "        f\"values(\\'{x.gameId}\\', \\'{x.gameDuration}\\', \\'{x.gameVersion}\\', \\'{x.summonerName}\\', {x.summonerLevel}, \\'{x.participantId}\\', \"\n",
    "        f\"\\'{x.championName}\\', {x.champExperience}, \\'{x.teamPosition}\\', {x.teamId}, \\'{x.win}\\', {x.kills}, {x.deaths}, {x.assists}, \"\n",
    "        f\"{x.totalDamageDealtToChampions}, {x.totalDamageTaken}, \\'{x.all_time_gold}\\')\"\n",
    "    )\n",
    "    sql_execute(query)\n",
    "    return"
   ]
  },
  {
   "cell_type": "code",
   "execution_count": 12,
   "id": "ebfecd10",
   "metadata": {},
   "outputs": [
    {
     "name": "stdout",
     "output_type": "stream",
     "text": [
      "db_open!\n"
     ]
    },
    {
     "name": "stderr",
     "output_type": "stream",
     "text": [
      "100%|███████████████████████████████████████████████████████████████████████████████| 200/200 [00:00<00:00, 543.06it/s]\n"
     ]
    },
    {
     "name": "stdout",
     "output_type": "stream",
     "text": [
      "db_close!\n"
     ]
    }
   ],
   "source": [
    "rawData()"
   ]
  },
  {
   "cell_type": "code",
   "execution_count": 8,
   "id": "679f7c66",
   "metadata": {},
   "outputs": [
    {
     "name": "stdout",
     "output_type": "stream",
     "text": [
      "db_open!\n"
     ]
    },
    {
     "name": "stderr",
     "output_type": "stream",
     "text": [
      "100%|█████████████████████████████████████████████████████████████████████████████████| 60/60 [00:00<00:00, 461.82it/s]\n"
     ]
    },
    {
     "name": "stdout",
     "output_type": "stream",
     "text": [
      "db_close!\n"
     ]
    },
    {
     "ename": "KeyboardInterrupt",
     "evalue": "",
     "output_type": "error",
     "traceback": [
      "\u001b[1;31m---------------------------------------------------------------------------\u001b[0m",
      "\u001b[1;31mKeyboardInterrupt\u001b[0m                         Traceback (most recent call last)",
      "Input \u001b[1;32mIn [8]\u001b[0m, in \u001b[0;36m<cell line: 1>\u001b[1;34m()\u001b[0m\n\u001b[0;32m      1\u001b[0m \u001b[38;5;28;01mfor\u001b[39;00m i \u001b[38;5;129;01min\u001b[39;00m \u001b[38;5;28mrange\u001b[39m(\u001b[38;5;241m100\u001b[39m):\n\u001b[0;32m      2\u001b[0m     rawData()\n\u001b[1;32m----> 3\u001b[0m     \u001b[43mtime\u001b[49m\u001b[38;5;241;43m.\u001b[39;49m\u001b[43msleep\u001b[49m\u001b[43m(\u001b[49m\u001b[38;5;241;43m200\u001b[39;49m\u001b[43m)\u001b[49m\n",
      "\u001b[1;31mKeyboardInterrupt\u001b[0m: "
     ]
    }
   ],
   "source": [
    "for i in range(100):\n",
    "    rawData()\n",
    "    time.sleep(200)"
   ]
  },
  {
   "cell_type": "code",
   "execution_count": 9,
   "id": "abefc813",
   "metadata": {},
   "outputs": [
    {
     "name": "stdout",
     "output_type": "stream",
     "text": [
      "db_open!\n",
      "   COUNT(*)\n",
      "0      8000\n",
      "db_close!\n"
     ]
    },
    {
     "name": "stderr",
     "output_type": "stream",
     "text": [
      "C:\\Users\\user\\anaconda3\\lib\\site-packages\\pandas\\io\\sql.py:761: UserWarning: pandas only support SQLAlchemy connectable(engine/connection) ordatabase string URI or sqlite3 DBAPI2 connectionother DBAPI2 objects are not tested, please consider using SQLAlchemy\n",
      "  warnings.warn(\n"
     ]
    }
   ],
   "source": [
    "db_open()\n",
    "print(sql_execute(\"select count(*) from solopro\"))\n",
    "db_close()"
   ]
  },
  {
   "cell_type": "code",
   "execution_count": 42,
   "id": "ae0abad7",
   "metadata": {},
   "outputs": [
    {
     "name": "stdout",
     "output_type": "stream",
     "text": [
      "db_open!\n",
      "db_close!\n"
     ]
    },
    {
     "name": "stderr",
     "output_type": "stream",
     "text": [
      "C:\\Users\\user\\anaconda3\\lib\\site-packages\\pandas\\io\\sql.py:761: UserWarning:\n",
      "\n",
      "pandas only support SQLAlchemy connectable(engine/connection) ordatabase string URI or sqlite3 DBAPI2 connectionother DBAPI2 objects are not tested, please consider using SQLAlchemy\n",
      "\n"
     ]
    }
   ],
   "source": [
    "db_open()\n",
    "df_tmp = sql_execute(\"select * from solopro\")\n",
    "db_close()"
   ]
  },
  {
   "cell_type": "code",
   "execution_count": 43,
   "id": "54601177",
   "metadata": {},
   "outputs": [
    {
     "data": {
      "text/html": [
       "<div>\n",
       "<style scoped>\n",
       "    .dataframe tbody tr th:only-of-type {\n",
       "        vertical-align: middle;\n",
       "    }\n",
       "\n",
       "    .dataframe tbody tr th {\n",
       "        vertical-align: top;\n",
       "    }\n",
       "\n",
       "    .dataframe thead th {\n",
       "        text-align: right;\n",
       "    }\n",
       "</style>\n",
       "<table border=\"1\" class=\"dataframe\">\n",
       "  <thead>\n",
       "    <tr style=\"text-align: right;\">\n",
       "      <th></th>\n",
       "      <th>GAMEID</th>\n",
       "      <th>GAMEDURATION</th>\n",
       "      <th>GAMEVERSION</th>\n",
       "      <th>SUMMONERNAME</th>\n",
       "      <th>SUMMONERLEVEL</th>\n",
       "      <th>PARTICIPANTID</th>\n",
       "      <th>CHAMPIONNAME</th>\n",
       "      <th>CHAMPEXPERIENCE</th>\n",
       "      <th>TEAMPOSITION</th>\n",
       "      <th>TEAMID</th>\n",
       "      <th>WIN</th>\n",
       "      <th>KILLS</th>\n",
       "      <th>DEATHS</th>\n",
       "      <th>ASSISTS</th>\n",
       "      <th>TOTALDAMAGEDEALTTOCHAMPIONS</th>\n",
       "      <th>TOTALDAMAGETAKEN</th>\n",
       "      <th>ALL_TIME_GOLD</th>\n",
       "    </tr>\n",
       "  </thead>\n",
       "  <tbody>\n",
       "    <tr>\n",
       "      <th>0</th>\n",
       "      <td>6027011613</td>\n",
       "      <td>1818</td>\n",
       "      <td>12.13.453.3037</td>\n",
       "      <td>갱무민</td>\n",
       "      <td>321</td>\n",
       "      <td>1</td>\n",
       "      <td>Yone</td>\n",
       "      <td>17047</td>\n",
       "      <td>TOP</td>\n",
       "      <td>100</td>\n",
       "      <td>True</td>\n",
       "      <td>4</td>\n",
       "      <td>7</td>\n",
       "      <td>3</td>\n",
       "      <td>26217</td>\n",
       "      <td>28023</td>\n",
       "      <td>500|500|542|776|1057|1305|1470|1697|1986|2235|...</td>\n",
       "    </tr>\n",
       "    <tr>\n",
       "      <th>1</th>\n",
       "      <td>6027011613</td>\n",
       "      <td>1818</td>\n",
       "      <td>12.13.453.3037</td>\n",
       "      <td>조각배처럼</td>\n",
       "      <td>50</td>\n",
       "      <td>2</td>\n",
       "      <td>FiddleSticks</td>\n",
       "      <td>14126</td>\n",
       "      <td>JUNGLE</td>\n",
       "      <td>100</td>\n",
       "      <td>True</td>\n",
       "      <td>4</td>\n",
       "      <td>4</td>\n",
       "      <td>12</td>\n",
       "      <td>13255</td>\n",
       "      <td>25814</td>\n",
       "      <td>500|500|621|1018|1232|1449|1739|2010|2312|2630...</td>\n",
       "    </tr>\n",
       "    <tr>\n",
       "      <th>2</th>\n",
       "      <td>6027011613</td>\n",
       "      <td>1818</td>\n",
       "      <td>12.13.453.3037</td>\n",
       "      <td>안녕 나는 뎨영이</td>\n",
       "      <td>318</td>\n",
       "      <td>3</td>\n",
       "      <td>TwistedFate</td>\n",
       "      <td>15888</td>\n",
       "      <td>MIDDLE</td>\n",
       "      <td>100</td>\n",
       "      <td>True</td>\n",
       "      <td>6</td>\n",
       "      <td>2</td>\n",
       "      <td>7</td>\n",
       "      <td>12504</td>\n",
       "      <td>16306</td>\n",
       "      <td>500|500|652|1031|1332|1746|2081|2410|3030|3364...</td>\n",
       "    </tr>\n",
       "    <tr>\n",
       "      <th>3</th>\n",
       "      <td>6027011613</td>\n",
       "      <td>1818</td>\n",
       "      <td>12.13.453.3037</td>\n",
       "      <td>soulseen</td>\n",
       "      <td>371</td>\n",
       "      <td>4</td>\n",
       "      <td>Ezreal</td>\n",
       "      <td>15286</td>\n",
       "      <td>BOTTOM</td>\n",
       "      <td>100</td>\n",
       "      <td>True</td>\n",
       "      <td>11</td>\n",
       "      <td>1</td>\n",
       "      <td>12</td>\n",
       "      <td>27205</td>\n",
       "      <td>15517</td>\n",
       "      <td>500|500|584|916|1588|1752|2444|2566|3042|3312|...</td>\n",
       "    </tr>\n",
       "    <tr>\n",
       "      <th>4</th>\n",
       "      <td>6027011613</td>\n",
       "      <td>1818</td>\n",
       "      <td>12.13.453.3037</td>\n",
       "      <td>제발멈춰억까</td>\n",
       "      <td>60</td>\n",
       "      <td>5</td>\n",
       "      <td>Blitzcrank</td>\n",
       "      <td>12359</td>\n",
       "      <td>UTILITY</td>\n",
       "      <td>100</td>\n",
       "      <td>True</td>\n",
       "      <td>5</td>\n",
       "      <td>0</td>\n",
       "      <td>15</td>\n",
       "      <td>7966</td>\n",
       "      <td>16688</td>\n",
       "      <td>500|500|523|678|1065|1199|1510|1674|1908|2106|...</td>\n",
       "    </tr>\n",
       "    <tr>\n",
       "      <th>...</th>\n",
       "      <td>...</td>\n",
       "      <td>...</td>\n",
       "      <td>...</td>\n",
       "      <td>...</td>\n",
       "      <td>...</td>\n",
       "      <td>...</td>\n",
       "      <td>...</td>\n",
       "      <td>...</td>\n",
       "      <td>...</td>\n",
       "      <td>...</td>\n",
       "      <td>...</td>\n",
       "      <td>...</td>\n",
       "      <td>...</td>\n",
       "      <td>...</td>\n",
       "      <td>...</td>\n",
       "      <td>...</td>\n",
       "      <td>...</td>\n",
       "    </tr>\n",
       "    <tr>\n",
       "      <th>7385</th>\n",
       "      <td>6024369885</td>\n",
       "      <td>2214</td>\n",
       "      <td>12.13.453.3037</td>\n",
       "      <td>소중한 나니까</td>\n",
       "      <td>359</td>\n",
       "      <td>6</td>\n",
       "      <td>Gangplank</td>\n",
       "      <td>19784</td>\n",
       "      <td>TOP</td>\n",
       "      <td>200</td>\n",
       "      <td>False</td>\n",
       "      <td>7</td>\n",
       "      <td>7</td>\n",
       "      <td>15</td>\n",
       "      <td>35467</td>\n",
       "      <td>40099</td>\n",
       "      <td>500|500|531|792|1111|1374|1601|1887|2231|2408|...</td>\n",
       "    </tr>\n",
       "    <tr>\n",
       "      <th>7386</th>\n",
       "      <td>6024369885</td>\n",
       "      <td>2214</td>\n",
       "      <td>12.13.453.3037</td>\n",
       "      <td>자크맛에코</td>\n",
       "      <td>88</td>\n",
       "      <td>7</td>\n",
       "      <td>Zac</td>\n",
       "      <td>18303</td>\n",
       "      <td>MIDDLE</td>\n",
       "      <td>200</td>\n",
       "      <td>False</td>\n",
       "      <td>6</td>\n",
       "      <td>6</td>\n",
       "      <td>22</td>\n",
       "      <td>31862</td>\n",
       "      <td>54105</td>\n",
       "      <td>500|500|584|955|1274|1870|2255|2496|2785|3232|...</td>\n",
       "    </tr>\n",
       "    <tr>\n",
       "      <th>7387</th>\n",
       "      <td>6024369885</td>\n",
       "      <td>2214</td>\n",
       "      <td>12.13.453.3037</td>\n",
       "      <td>77Game Viego</td>\n",
       "      <td>61</td>\n",
       "      <td>8</td>\n",
       "      <td>Nidalee</td>\n",
       "      <td>17024</td>\n",
       "      <td>JUNGLE</td>\n",
       "      <td>200</td>\n",
       "      <td>False</td>\n",
       "      <td>6</td>\n",
       "      <td>12</td>\n",
       "      <td>13</td>\n",
       "      <td>32668</td>\n",
       "      <td>49475</td>\n",
       "      <td>500|500|692|928|1128|1358|1579|2023|2145|2696|...</td>\n",
       "    </tr>\n",
       "    <tr>\n",
       "      <th>7388</th>\n",
       "      <td>6024369885</td>\n",
       "      <td>2214</td>\n",
       "      <td>12.13.453.3037</td>\n",
       "      <td>딸기Boy</td>\n",
       "      <td>63</td>\n",
       "      <td>9</td>\n",
       "      <td>Samira</td>\n",
       "      <td>15235</td>\n",
       "      <td>BOTTOM</td>\n",
       "      <td>200</td>\n",
       "      <td>False</td>\n",
       "      <td>5</td>\n",
       "      <td>15</td>\n",
       "      <td>10</td>\n",
       "      <td>31162</td>\n",
       "      <td>35639</td>\n",
       "      <td>500|500|587|958|1151|1567|1774|2106|2423|2581|...</td>\n",
       "    </tr>\n",
       "    <tr>\n",
       "      <th>7389</th>\n",
       "      <td>6024369885</td>\n",
       "      <td>2214</td>\n",
       "      <td>12.13.453.3037</td>\n",
       "      <td>조삼모사</td>\n",
       "      <td>363</td>\n",
       "      <td>10</td>\n",
       "      <td>Pyke</td>\n",
       "      <td>15672</td>\n",
       "      <td>UTILITY</td>\n",
       "      <td>200</td>\n",
       "      <td>False</td>\n",
       "      <td>9</td>\n",
       "      <td>8</td>\n",
       "      <td>7</td>\n",
       "      <td>13386</td>\n",
       "      <td>32869</td>\n",
       "      <td>500|500|533|790|967|1185|1320|1517|1720|1897|2...</td>\n",
       "    </tr>\n",
       "  </tbody>\n",
       "</table>\n",
       "<p>7390 rows × 17 columns</p>\n",
       "</div>"
      ],
      "text/plain": [
       "          GAMEID  GAMEDURATION     GAMEVERSION  SUMMONERNAME  SUMMONERLEVEL  \\\n",
       "0     6027011613          1818  12.13.453.3037           갱무민            321   \n",
       "1     6027011613          1818  12.13.453.3037         조각배처럼             50   \n",
       "2     6027011613          1818  12.13.453.3037     안녕 나는 뎨영이            318   \n",
       "3     6027011613          1818  12.13.453.3037      soulseen            371   \n",
       "4     6027011613          1818  12.13.453.3037        제발멈춰억까             60   \n",
       "...          ...           ...             ...           ...            ...   \n",
       "7385  6024369885          2214  12.13.453.3037       소중한 나니까            359   \n",
       "7386  6024369885          2214  12.13.453.3037         자크맛에코             88   \n",
       "7387  6024369885          2214  12.13.453.3037  77Game Viego             61   \n",
       "7388  6024369885          2214  12.13.453.3037         딸기Boy             63   \n",
       "7389  6024369885          2214  12.13.453.3037          조삼모사            363   \n",
       "\n",
       "     PARTICIPANTID  CHAMPIONNAME  CHAMPEXPERIENCE TEAMPOSITION  TEAMID    WIN  \\\n",
       "0                1          Yone            17047          TOP     100   True   \n",
       "1                2  FiddleSticks            14126       JUNGLE     100   True   \n",
       "2                3   TwistedFate            15888       MIDDLE     100   True   \n",
       "3                4        Ezreal            15286       BOTTOM     100   True   \n",
       "4                5    Blitzcrank            12359      UTILITY     100   True   \n",
       "...            ...           ...              ...          ...     ...    ...   \n",
       "7385             6     Gangplank            19784          TOP     200  False   \n",
       "7386             7           Zac            18303       MIDDLE     200  False   \n",
       "7387             8       Nidalee            17024       JUNGLE     200  False   \n",
       "7388             9        Samira            15235       BOTTOM     200  False   \n",
       "7389            10          Pyke            15672      UTILITY     200  False   \n",
       "\n",
       "      KILLS  DEATHS  ASSISTS  TOTALDAMAGEDEALTTOCHAMPIONS  TOTALDAMAGETAKEN  \\\n",
       "0         4       7        3                        26217             28023   \n",
       "1         4       4       12                        13255             25814   \n",
       "2         6       2        7                        12504             16306   \n",
       "3        11       1       12                        27205             15517   \n",
       "4         5       0       15                         7966             16688   \n",
       "...     ...     ...      ...                          ...               ...   \n",
       "7385      7       7       15                        35467             40099   \n",
       "7386      6       6       22                        31862             54105   \n",
       "7387      6      12       13                        32668             49475   \n",
       "7388      5      15       10                        31162             35639   \n",
       "7389      9       8        7                        13386             32869   \n",
       "\n",
       "                                          ALL_TIME_GOLD  \n",
       "0     500|500|542|776|1057|1305|1470|1697|1986|2235|...  \n",
       "1     500|500|621|1018|1232|1449|1739|2010|2312|2630...  \n",
       "2     500|500|652|1031|1332|1746|2081|2410|3030|3364...  \n",
       "3     500|500|584|916|1588|1752|2444|2566|3042|3312|...  \n",
       "4     500|500|523|678|1065|1199|1510|1674|1908|2106|...  \n",
       "...                                                 ...  \n",
       "7385  500|500|531|792|1111|1374|1601|1887|2231|2408|...  \n",
       "7386  500|500|584|955|1274|1870|2255|2496|2785|3232|...  \n",
       "7387  500|500|692|928|1128|1358|1579|2023|2145|2696|...  \n",
       "7388  500|500|587|958|1151|1567|1774|2106|2423|2581|...  \n",
       "7389  500|500|533|790|967|1185|1320|1517|1720|1897|2...  \n",
       "\n",
       "[7390 rows x 17 columns]"
      ]
     },
     "execution_count": 43,
     "metadata": {},
     "output_type": "execute_result"
    }
   ],
   "source": [
    "df_tmp"
   ]
  },
  {
   "cell_type": "code",
   "execution_count": 8,
   "id": "df77b862",
   "metadata": {},
   "outputs": [],
   "source": [
    "import matplotlib.pyplot as plt\n",
    "import plotly.express as px"
   ]
  },
  {
   "cell_type": "code",
   "execution_count": 9,
   "id": "73a58e77",
   "metadata": {},
   "outputs": [],
   "source": [
    "from matplotlib import font_manager, rc\n",
    "font_path = \"C:/windows/Fonts/gulim.ttc\"\n",
    "font = font_manager.FontProperties(fname = font_path).get_name()\n",
    "rc('font', family = font)"
   ]
  },
  {
   "cell_type": "code",
   "execution_count": 10,
   "id": "54eceeb8",
   "metadata": {},
   "outputs": [
    {
     "data": {
      "text/html": [
       "        <script type=\"text/javascript\">\n",
       "        window.PlotlyConfig = {MathJaxConfig: 'local'};\n",
       "        if (window.MathJax && window.MathJax.Hub && window.MathJax.Hub.Config) {window.MathJax.Hub.Config({SVG: {font: \"STIX-Web\"}});}\n",
       "        if (typeof require !== 'undefined') {\n",
       "        require.undef(\"plotly\");\n",
       "        requirejs.config({\n",
       "            paths: {\n",
       "                'plotly': ['https://cdn.plot.ly/plotly-2.12.1.min']\n",
       "            }\n",
       "        });\n",
       "        require(['plotly'], function(Plotly) {\n",
       "            window._Plotly = Plotly;\n",
       "        });\n",
       "        }\n",
       "        </script>\n",
       "        "
      ]
     },
     "metadata": {},
     "output_type": "display_data"
    }
   ],
   "source": [
    "import plotly\n",
    "import plotly.graph_objs as go\n",
    "plotly.offline.init_notebook_mode(connected = True)"
   ]
  },
  {
   "cell_type": "code",
   "execution_count": 44,
   "id": "4173ee7b",
   "metadata": {},
   "outputs": [],
   "source": [
    "tmp_cham = df_tmp[['CHAMPIONNAME','TOTALDAMAGEDEALTTOCHAMPIONS','TOTALDAMAGETAKEN']]\n",
    "tmp_cham = tmp_cham.groupby('CHAMPIONNAME').mean().round().reset_index()"
   ]
  },
  {
   "cell_type": "code",
   "execution_count": 45,
   "id": "cfdfa02b",
   "metadata": {},
   "outputs": [
    {
     "data": {
      "text/html": [
       "<div>\n",
       "<style scoped>\n",
       "    .dataframe tbody tr th:only-of-type {\n",
       "        vertical-align: middle;\n",
       "    }\n",
       "\n",
       "    .dataframe tbody tr th {\n",
       "        vertical-align: top;\n",
       "    }\n",
       "\n",
       "    .dataframe thead th {\n",
       "        text-align: right;\n",
       "    }\n",
       "</style>\n",
       "<table border=\"1\" class=\"dataframe\">\n",
       "  <thead>\n",
       "    <tr style=\"text-align: right;\">\n",
       "      <th></th>\n",
       "      <th>CHAMPIONNAME</th>\n",
       "      <th>TOTALDAMAGEDEALTTOCHAMPIONS</th>\n",
       "      <th>TOTALDAMAGETAKEN</th>\n",
       "    </tr>\n",
       "  </thead>\n",
       "  <tbody>\n",
       "    <tr>\n",
       "      <th>0</th>\n",
       "      <td>Aatrox</td>\n",
       "      <td>12740.0</td>\n",
       "      <td>23043.0</td>\n",
       "    </tr>\n",
       "    <tr>\n",
       "      <th>1</th>\n",
       "      <td>Ahri</td>\n",
       "      <td>19074.0</td>\n",
       "      <td>18471.0</td>\n",
       "    </tr>\n",
       "    <tr>\n",
       "      <th>2</th>\n",
       "      <td>Akali</td>\n",
       "      <td>12591.0</td>\n",
       "      <td>18177.0</td>\n",
       "    </tr>\n",
       "    <tr>\n",
       "      <th>3</th>\n",
       "      <td>Akshan</td>\n",
       "      <td>20142.0</td>\n",
       "      <td>23024.0</td>\n",
       "    </tr>\n",
       "    <tr>\n",
       "      <th>4</th>\n",
       "      <td>Alistar</td>\n",
       "      <td>3166.0</td>\n",
       "      <td>12024.0</td>\n",
       "    </tr>\n",
       "    <tr>\n",
       "      <th>...</th>\n",
       "      <td>...</td>\n",
       "      <td>...</td>\n",
       "      <td>...</td>\n",
       "    </tr>\n",
       "    <tr>\n",
       "      <th>142</th>\n",
       "      <td>Zed</td>\n",
       "      <td>27953.0</td>\n",
       "      <td>34899.0</td>\n",
       "    </tr>\n",
       "    <tr>\n",
       "      <th>143</th>\n",
       "      <td>Zeri</td>\n",
       "      <td>30373.0</td>\n",
       "      <td>20952.0</td>\n",
       "    </tr>\n",
       "    <tr>\n",
       "      <th>144</th>\n",
       "      <td>Ziggs</td>\n",
       "      <td>28792.0</td>\n",
       "      <td>17834.0</td>\n",
       "    </tr>\n",
       "    <tr>\n",
       "      <th>145</th>\n",
       "      <td>Zilean</td>\n",
       "      <td>7192.0</td>\n",
       "      <td>11553.0</td>\n",
       "    </tr>\n",
       "    <tr>\n",
       "      <th>146</th>\n",
       "      <td>Zoe</td>\n",
       "      <td>26506.0</td>\n",
       "      <td>24347.0</td>\n",
       "    </tr>\n",
       "  </tbody>\n",
       "</table>\n",
       "<p>147 rows × 3 columns</p>\n",
       "</div>"
      ],
      "text/plain": [
       "    CHAMPIONNAME  TOTALDAMAGEDEALTTOCHAMPIONS  TOTALDAMAGETAKEN\n",
       "0         Aatrox                      12740.0           23043.0\n",
       "1           Ahri                      19074.0           18471.0\n",
       "2          Akali                      12591.0           18177.0\n",
       "3         Akshan                      20142.0           23024.0\n",
       "4        Alistar                       3166.0           12024.0\n",
       "..           ...                          ...               ...\n",
       "142          Zed                      27953.0           34899.0\n",
       "143         Zeri                      30373.0           20952.0\n",
       "144        Ziggs                      28792.0           17834.0\n",
       "145       Zilean                       7192.0           11553.0\n",
       "146          Zoe                      26506.0           24347.0\n",
       "\n",
       "[147 rows x 3 columns]"
      ]
     },
     "execution_count": 45,
     "metadata": {},
     "output_type": "execute_result"
    }
   ],
   "source": [
    "tmp_cham"
   ]
  },
  {
   "cell_type": "code",
   "execution_count": 46,
   "id": "a0ce3432",
   "metadata": {},
   "outputs": [
    {
     "data": {
      "application/vnd.plotly.v1+json": {
       "config": {
        "linkText": "Export to plot.ly",
        "plotlyServerURL": "https://plot.ly",
        "showLink": false
       },
       "data": [
        {
         "hovertemplate": "CHAMPIONNAME=Aatrox<br>TOTALDAMAGEDEALTTOCHAMPIONS=%{x}<br>TOTALDAMAGETAKEN=%{y}<extra></extra>",
         "legendgroup": "Aatrox",
         "marker": {
          "color": "#636efa",
          "symbol": "circle"
         },
         "mode": "markers",
         "name": "Aatrox",
         "orientation": "v",
         "showlegend": true,
         "type": "scatter",
         "x": [
          12740
         ],
         "xaxis": "x",
         "y": [
          23043
         ],
         "yaxis": "y"
        },
        {
         "hovertemplate": "CHAMPIONNAME=Ahri<br>TOTALDAMAGEDEALTTOCHAMPIONS=%{x}<br>TOTALDAMAGETAKEN=%{y}<extra></extra>",
         "legendgroup": "Ahri",
         "marker": {
          "color": "#EF553B",
          "symbol": "circle"
         },
         "mode": "markers",
         "name": "Ahri",
         "orientation": "v",
         "showlegend": true,
         "type": "scatter",
         "x": [
          19074
         ],
         "xaxis": "x",
         "y": [
          18471
         ],
         "yaxis": "y"
        },
        {
         "hovertemplate": "CHAMPIONNAME=Akali<br>TOTALDAMAGEDEALTTOCHAMPIONS=%{x}<br>TOTALDAMAGETAKEN=%{y}<extra></extra>",
         "legendgroup": "Akali",
         "marker": {
          "color": "#00cc96",
          "symbol": "circle"
         },
         "mode": "markers",
         "name": "Akali",
         "orientation": "v",
         "showlegend": true,
         "type": "scatter",
         "x": [
          12591
         ],
         "xaxis": "x",
         "y": [
          18177
         ],
         "yaxis": "y"
        },
        {
         "hovertemplate": "CHAMPIONNAME=Akshan<br>TOTALDAMAGEDEALTTOCHAMPIONS=%{x}<br>TOTALDAMAGETAKEN=%{y}<extra></extra>",
         "legendgroup": "Akshan",
         "marker": {
          "color": "#ab63fa",
          "symbol": "circle"
         },
         "mode": "markers",
         "name": "Akshan",
         "orientation": "v",
         "showlegend": true,
         "type": "scatter",
         "x": [
          20142
         ],
         "xaxis": "x",
         "y": [
          23024
         ],
         "yaxis": "y"
        },
        {
         "hovertemplate": "CHAMPIONNAME=Alistar<br>TOTALDAMAGEDEALTTOCHAMPIONS=%{x}<br>TOTALDAMAGETAKEN=%{y}<extra></extra>",
         "legendgroup": "Alistar",
         "marker": {
          "color": "#FFA15A",
          "symbol": "circle"
         },
         "mode": "markers",
         "name": "Alistar",
         "orientation": "v",
         "showlegend": true,
         "type": "scatter",
         "x": [
          3166
         ],
         "xaxis": "x",
         "y": [
          12024
         ],
         "yaxis": "y"
        },
        {
         "hovertemplate": "CHAMPIONNAME=Amumu<br>TOTALDAMAGEDEALTTOCHAMPIONS=%{x}<br>TOTALDAMAGETAKEN=%{y}<extra></extra>",
         "legendgroup": "Amumu",
         "marker": {
          "color": "#19d3f3",
          "symbol": "circle"
         },
         "mode": "markers",
         "name": "Amumu",
         "orientation": "v",
         "showlegend": true,
         "type": "scatter",
         "x": [
          12411
         ],
         "xaxis": "x",
         "y": [
          19060
         ],
         "yaxis": "y"
        },
        {
         "hovertemplate": "CHAMPIONNAME=Anivia<br>TOTALDAMAGEDEALTTOCHAMPIONS=%{x}<br>TOTALDAMAGETAKEN=%{y}<extra></extra>",
         "legendgroup": "Anivia",
         "marker": {
          "color": "#FF6692",
          "symbol": "circle"
         },
         "mode": "markers",
         "name": "Anivia",
         "orientation": "v",
         "showlegend": true,
         "type": "scatter",
         "x": [
          41569
         ],
         "xaxis": "x",
         "y": [
          38828
         ],
         "yaxis": "y"
        },
        {
         "hovertemplate": "CHAMPIONNAME=Aphelios<br>TOTALDAMAGEDEALTTOCHAMPIONS=%{x}<br>TOTALDAMAGETAKEN=%{y}<extra></extra>",
         "legendgroup": "Aphelios",
         "marker": {
          "color": "#B6E880",
          "symbol": "circle"
         },
         "mode": "markers",
         "name": "Aphelios",
         "orientation": "v",
         "showlegend": true,
         "type": "scatter",
         "x": [
          23957
         ],
         "xaxis": "x",
         "y": [
          19565
         ],
         "yaxis": "y"
        },
        {
         "hovertemplate": "CHAMPIONNAME=Ashe<br>TOTALDAMAGEDEALTTOCHAMPIONS=%{x}<br>TOTALDAMAGETAKEN=%{y}<extra></extra>",
         "legendgroup": "Ashe",
         "marker": {
          "color": "#FF97FF",
          "symbol": "circle"
         },
         "mode": "markers",
         "name": "Ashe",
         "orientation": "v",
         "showlegend": true,
         "type": "scatter",
         "x": [
          14517
         ],
         "xaxis": "x",
         "y": [
          13767
         ],
         "yaxis": "y"
        },
        {
         "hovertemplate": "CHAMPIONNAME=Azir<br>TOTALDAMAGEDEALTTOCHAMPIONS=%{x}<br>TOTALDAMAGETAKEN=%{y}<extra></extra>",
         "legendgroup": "Azir",
         "marker": {
          "color": "#FECB52",
          "symbol": "circle"
         },
         "mode": "markers",
         "name": "Azir",
         "orientation": "v",
         "showlegend": true,
         "type": "scatter",
         "x": [
          13192
         ],
         "xaxis": "x",
         "y": [
          16079
         ],
         "yaxis": "y"
        },
        {
         "hovertemplate": "CHAMPIONNAME=Bard<br>TOTALDAMAGEDEALTTOCHAMPIONS=%{x}<br>TOTALDAMAGETAKEN=%{y}<extra></extra>",
         "legendgroup": "Bard",
         "marker": {
          "color": "#636efa",
          "symbol": "circle"
         },
         "mode": "markers",
         "name": "Bard",
         "orientation": "v",
         "showlegend": true,
         "type": "scatter",
         "x": [
          23414
         ],
         "xaxis": "x",
         "y": [
          32065
         ],
         "yaxis": "y"
        },
        {
         "hovertemplate": "CHAMPIONNAME=Belveth<br>TOTALDAMAGEDEALTTOCHAMPIONS=%{x}<br>TOTALDAMAGETAKEN=%{y}<extra></extra>",
         "legendgroup": "Belveth",
         "marker": {
          "color": "#EF553B",
          "symbol": "circle"
         },
         "mode": "markers",
         "name": "Belveth",
         "orientation": "v",
         "showlegend": true,
         "type": "scatter",
         "x": [
          21334
         ],
         "xaxis": "x",
         "y": [
          32014
         ],
         "yaxis": "y"
        },
        {
         "hovertemplate": "CHAMPIONNAME=Blitzcrank<br>TOTALDAMAGEDEALTTOCHAMPIONS=%{x}<br>TOTALDAMAGETAKEN=%{y}<extra></extra>",
         "legendgroup": "Blitzcrank",
         "marker": {
          "color": "#00cc96",
          "symbol": "circle"
         },
         "mode": "markers",
         "name": "Blitzcrank",
         "orientation": "v",
         "showlegend": true,
         "type": "scatter",
         "x": [
          6830
         ],
         "xaxis": "x",
         "y": [
          14925
         ],
         "yaxis": "y"
        },
        {
         "hovertemplate": "CHAMPIONNAME=Brand<br>TOTALDAMAGEDEALTTOCHAMPIONS=%{x}<br>TOTALDAMAGETAKEN=%{y}<extra></extra>",
         "legendgroup": "Brand",
         "marker": {
          "color": "#ab63fa",
          "symbol": "circle"
         },
         "mode": "markers",
         "name": "Brand",
         "orientation": "v",
         "showlegend": true,
         "type": "scatter",
         "x": [
          20377
         ],
         "xaxis": "x",
         "y": [
          18339
         ],
         "yaxis": "y"
        },
        {
         "hovertemplate": "CHAMPIONNAME=Braum<br>TOTALDAMAGEDEALTTOCHAMPIONS=%{x}<br>TOTALDAMAGETAKEN=%{y}<extra></extra>",
         "legendgroup": "Braum",
         "marker": {
          "color": "#FFA15A",
          "symbol": "circle"
         },
         "mode": "markers",
         "name": "Braum",
         "orientation": "v",
         "showlegend": true,
         "type": "scatter",
         "x": [
          5787
         ],
         "xaxis": "x",
         "y": [
          21223
         ],
         "yaxis": "y"
        },
        {
         "hovertemplate": "CHAMPIONNAME=Camille<br>TOTALDAMAGEDEALTTOCHAMPIONS=%{x}<br>TOTALDAMAGETAKEN=%{y}<extra></extra>",
         "legendgroup": "Camille",
         "marker": {
          "color": "#19d3f3",
          "symbol": "circle"
         },
         "mode": "markers",
         "name": "Camille",
         "orientation": "v",
         "showlegend": true,
         "type": "scatter",
         "x": [
          11490
         ],
         "xaxis": "x",
         "y": [
          25260
         ],
         "yaxis": "y"
        },
        {
         "hovertemplate": "CHAMPIONNAME=Cassiopeia<br>TOTALDAMAGEDEALTTOCHAMPIONS=%{x}<br>TOTALDAMAGETAKEN=%{y}<extra></extra>",
         "legendgroup": "Cassiopeia",
         "marker": {
          "color": "#FF6692",
          "symbol": "circle"
         },
         "mode": "markers",
         "name": "Cassiopeia",
         "orientation": "v",
         "showlegend": true,
         "type": "scatter",
         "x": [
          24326
         ],
         "xaxis": "x",
         "y": [
          20931
         ],
         "yaxis": "y"
        },
        {
         "hovertemplate": "CHAMPIONNAME=Chogath<br>TOTALDAMAGEDEALTTOCHAMPIONS=%{x}<br>TOTALDAMAGETAKEN=%{y}<extra></extra>",
         "legendgroup": "Chogath",
         "marker": {
          "color": "#B6E880",
          "symbol": "circle"
         },
         "mode": "markers",
         "name": "Chogath",
         "orientation": "v",
         "showlegend": true,
         "type": "scatter",
         "x": [
          29358
         ],
         "xaxis": "x",
         "y": [
          44452
         ],
         "yaxis": "y"
        },
        {
         "hovertemplate": "CHAMPIONNAME=Corki<br>TOTALDAMAGEDEALTTOCHAMPIONS=%{x}<br>TOTALDAMAGETAKEN=%{y}<extra></extra>",
         "legendgroup": "Corki",
         "marker": {
          "color": "#FF97FF",
          "symbol": "circle"
         },
         "mode": "markers",
         "name": "Corki",
         "orientation": "v",
         "showlegend": true,
         "type": "scatter",
         "x": [
          29494
         ],
         "xaxis": "x",
         "y": [
          16220
         ],
         "yaxis": "y"
        },
        {
         "hovertemplate": "CHAMPIONNAME=Darius<br>TOTALDAMAGEDEALTTOCHAMPIONS=%{x}<br>TOTALDAMAGETAKEN=%{y}<extra></extra>",
         "legendgroup": "Darius",
         "marker": {
          "color": "#FECB52",
          "symbol": "circle"
         },
         "mode": "markers",
         "name": "Darius",
         "orientation": "v",
         "showlegend": true,
         "type": "scatter",
         "x": [
          8246
         ],
         "xaxis": "x",
         "y": [
          23878
         ],
         "yaxis": "y"
        },
        {
         "hovertemplate": "CHAMPIONNAME=Diana<br>TOTALDAMAGEDEALTTOCHAMPIONS=%{x}<br>TOTALDAMAGETAKEN=%{y}<extra></extra>",
         "legendgroup": "Diana",
         "marker": {
          "color": "#636efa",
          "symbol": "circle"
         },
         "mode": "markers",
         "name": "Diana",
         "orientation": "v",
         "showlegend": true,
         "type": "scatter",
         "x": [
          21691
         ],
         "xaxis": "x",
         "y": [
          30035
         ],
         "yaxis": "y"
        },
        {
         "hovertemplate": "CHAMPIONNAME=DrMundo<br>TOTALDAMAGEDEALTTOCHAMPIONS=%{x}<br>TOTALDAMAGETAKEN=%{y}<extra></extra>",
         "legendgroup": "DrMundo",
         "marker": {
          "color": "#EF553B",
          "symbol": "circle"
         },
         "mode": "markers",
         "name": "DrMundo",
         "orientation": "v",
         "showlegend": true,
         "type": "scatter",
         "x": [
          13983
         ],
         "xaxis": "x",
         "y": [
          21316
         ],
         "yaxis": "y"
        },
        {
         "hovertemplate": "CHAMPIONNAME=Draven<br>TOTALDAMAGEDEALTTOCHAMPIONS=%{x}<br>TOTALDAMAGETAKEN=%{y}<extra></extra>",
         "legendgroup": "Draven",
         "marker": {
          "color": "#00cc96",
          "symbol": "circle"
         },
         "mode": "markers",
         "name": "Draven",
         "orientation": "v",
         "showlegend": true,
         "type": "scatter",
         "x": [
          21717
         ],
         "xaxis": "x",
         "y": [
          21521
         ],
         "yaxis": "y"
        },
        {
         "hovertemplate": "CHAMPIONNAME=Ekko<br>TOTALDAMAGEDEALTTOCHAMPIONS=%{x}<br>TOTALDAMAGETAKEN=%{y}<extra></extra>",
         "legendgroup": "Ekko",
         "marker": {
          "color": "#ab63fa",
          "symbol": "circle"
         },
         "mode": "markers",
         "name": "Ekko",
         "orientation": "v",
         "showlegend": true,
         "type": "scatter",
         "x": [
          25738
         ],
         "xaxis": "x",
         "y": [
          29958
         ],
         "yaxis": "y"
        },
        {
         "hovertemplate": "CHAMPIONNAME=Elise<br>TOTALDAMAGEDEALTTOCHAMPIONS=%{x}<br>TOTALDAMAGETAKEN=%{y}<extra></extra>",
         "legendgroup": "Elise",
         "marker": {
          "color": "#FFA15A",
          "symbol": "circle"
         },
         "mode": "markers",
         "name": "Elise",
         "orientation": "v",
         "showlegend": true,
         "type": "scatter",
         "x": [
          9431
         ],
         "xaxis": "x",
         "y": [
          8866
         ],
         "yaxis": "y"
        },
        {
         "hovertemplate": "CHAMPIONNAME=Evelynn<br>TOTALDAMAGEDEALTTOCHAMPIONS=%{x}<br>TOTALDAMAGETAKEN=%{y}<extra></extra>",
         "legendgroup": "Evelynn",
         "marker": {
          "color": "#19d3f3",
          "symbol": "circle"
         },
         "mode": "markers",
         "name": "Evelynn",
         "orientation": "v",
         "showlegend": true,
         "type": "scatter",
         "x": [
          16143
         ],
         "xaxis": "x",
         "y": [
          22765
         ],
         "yaxis": "y"
        },
        {
         "hovertemplate": "CHAMPIONNAME=Ezreal<br>TOTALDAMAGEDEALTTOCHAMPIONS=%{x}<br>TOTALDAMAGETAKEN=%{y}<extra></extra>",
         "legendgroup": "Ezreal",
         "marker": {
          "color": "#FF6692",
          "symbol": "circle"
         },
         "mode": "markers",
         "name": "Ezreal",
         "orientation": "v",
         "showlegend": true,
         "type": "scatter",
         "x": [
          20353
         ],
         "xaxis": "x",
         "y": [
          14825
         ],
         "yaxis": "y"
        },
        {
         "hovertemplate": "CHAMPIONNAME=FiddleSticks<br>TOTALDAMAGEDEALTTOCHAMPIONS=%{x}<br>TOTALDAMAGETAKEN=%{y}<extra></extra>",
         "legendgroup": "FiddleSticks",
         "marker": {
          "color": "#B6E880",
          "symbol": "circle"
         },
         "mode": "markers",
         "name": "FiddleSticks",
         "orientation": "v",
         "showlegend": true,
         "type": "scatter",
         "x": [
          20516
         ],
         "xaxis": "x",
         "y": [
          33538
         ],
         "yaxis": "y"
        },
        {
         "hovertemplate": "CHAMPIONNAME=Fiora<br>TOTALDAMAGEDEALTTOCHAMPIONS=%{x}<br>TOTALDAMAGETAKEN=%{y}<extra></extra>",
         "legendgroup": "Fiora",
         "marker": {
          "color": "#FF97FF",
          "symbol": "circle"
         },
         "mode": "markers",
         "name": "Fiora",
         "orientation": "v",
         "showlegend": true,
         "type": "scatter",
         "x": [
          14200
         ],
         "xaxis": "x",
         "y": [
          25087
         ],
         "yaxis": "y"
        },
        {
         "hovertemplate": "CHAMPIONNAME=Fizz<br>TOTALDAMAGEDEALTTOCHAMPIONS=%{x}<br>TOTALDAMAGETAKEN=%{y}<extra></extra>",
         "legendgroup": "Fizz",
         "marker": {
          "color": "#FECB52",
          "symbol": "circle"
         },
         "mode": "markers",
         "name": "Fizz",
         "orientation": "v",
         "showlegend": true,
         "type": "scatter",
         "x": [
          17169
         ],
         "xaxis": "x",
         "y": [
          25383
         ],
         "yaxis": "y"
        },
        {
         "hovertemplate": "CHAMPIONNAME=Galio<br>TOTALDAMAGEDEALTTOCHAMPIONS=%{x}<br>TOTALDAMAGETAKEN=%{y}<extra></extra>",
         "legendgroup": "Galio",
         "marker": {
          "color": "#636efa",
          "symbol": "circle"
         },
         "mode": "markers",
         "name": "Galio",
         "orientation": "v",
         "showlegend": true,
         "type": "scatter",
         "x": [
          6864
         ],
         "xaxis": "x",
         "y": [
          11948
         ],
         "yaxis": "y"
        },
        {
         "hovertemplate": "CHAMPIONNAME=Gangplank<br>TOTALDAMAGEDEALTTOCHAMPIONS=%{x}<br>TOTALDAMAGETAKEN=%{y}<extra></extra>",
         "legendgroup": "Gangplank",
         "marker": {
          "color": "#EF553B",
          "symbol": "circle"
         },
         "mode": "markers",
         "name": "Gangplank",
         "orientation": "v",
         "showlegend": true,
         "type": "scatter",
         "x": [
          29002
         ],
         "xaxis": "x",
         "y": [
          32925
         ],
         "yaxis": "y"
        },
        {
         "hovertemplate": "CHAMPIONNAME=Garen<br>TOTALDAMAGEDEALTTOCHAMPIONS=%{x}<br>TOTALDAMAGETAKEN=%{y}<extra></extra>",
         "legendgroup": "Garen",
         "marker": {
          "color": "#00cc96",
          "symbol": "circle"
         },
         "mode": "markers",
         "name": "Garen",
         "orientation": "v",
         "showlegend": true,
         "type": "scatter",
         "x": [
          7012
         ],
         "xaxis": "x",
         "y": [
          7342
         ],
         "yaxis": "y"
        },
        {
         "hovertemplate": "CHAMPIONNAME=Gnar<br>TOTALDAMAGEDEALTTOCHAMPIONS=%{x}<br>TOTALDAMAGETAKEN=%{y}<extra></extra>",
         "legendgroup": "Gnar",
         "marker": {
          "color": "#ab63fa",
          "symbol": "circle"
         },
         "mode": "markers",
         "name": "Gnar",
         "orientation": "v",
         "showlegend": true,
         "type": "scatter",
         "x": [
          21079
         ],
         "xaxis": "x",
         "y": [
          29363
         ],
         "yaxis": "y"
        },
        {
         "hovertemplate": "CHAMPIONNAME=Gragas<br>TOTALDAMAGEDEALTTOCHAMPIONS=%{x}<br>TOTALDAMAGETAKEN=%{y}<extra></extra>",
         "legendgroup": "Gragas",
         "marker": {
          "color": "#FFA15A",
          "symbol": "circle"
         },
         "mode": "markers",
         "name": "Gragas",
         "orientation": "v",
         "showlegend": true,
         "type": "scatter",
         "x": [
          21474
         ],
         "xaxis": "x",
         "y": [
          24487
         ],
         "yaxis": "y"
        },
        {
         "hovertemplate": "CHAMPIONNAME=Graves<br>TOTALDAMAGEDEALTTOCHAMPIONS=%{x}<br>TOTALDAMAGETAKEN=%{y}<extra></extra>",
         "legendgroup": "Graves",
         "marker": {
          "color": "#19d3f3",
          "symbol": "circle"
         },
         "mode": "markers",
         "name": "Graves",
         "orientation": "v",
         "showlegend": true,
         "type": "scatter",
         "x": [
          22946
         ],
         "xaxis": "x",
         "y": [
          25627
         ],
         "yaxis": "y"
        },
        {
         "hovertemplate": "CHAMPIONNAME=Gwen<br>TOTALDAMAGEDEALTTOCHAMPIONS=%{x}<br>TOTALDAMAGETAKEN=%{y}<extra></extra>",
         "legendgroup": "Gwen",
         "marker": {
          "color": "#FF6692",
          "symbol": "circle"
         },
         "mode": "markers",
         "name": "Gwen",
         "orientation": "v",
         "showlegend": true,
         "type": "scatter",
         "x": [
          23453
         ],
         "xaxis": "x",
         "y": [
          27549
         ],
         "yaxis": "y"
        },
        {
         "hovertemplate": "CHAMPIONNAME=Hecarim<br>TOTALDAMAGEDEALTTOCHAMPIONS=%{x}<br>TOTALDAMAGETAKEN=%{y}<extra></extra>",
         "legendgroup": "Hecarim",
         "marker": {
          "color": "#B6E880",
          "symbol": "circle"
         },
         "mode": "markers",
         "name": "Hecarim",
         "orientation": "v",
         "showlegend": true,
         "type": "scatter",
         "x": [
          21042
         ],
         "xaxis": "x",
         "y": [
          36181
         ],
         "yaxis": "y"
        },
        {
         "hovertemplate": "CHAMPIONNAME=Heimerdinger<br>TOTALDAMAGEDEALTTOCHAMPIONS=%{x}<br>TOTALDAMAGETAKEN=%{y}<extra></extra>",
         "legendgroup": "Heimerdinger",
         "marker": {
          "color": "#FF97FF",
          "symbol": "circle"
         },
         "mode": "markers",
         "name": "Heimerdinger",
         "orientation": "v",
         "showlegend": true,
         "type": "scatter",
         "x": [
          6581
         ],
         "xaxis": "x",
         "y": [
          8293
         ],
         "yaxis": "y"
        },
        {
         "hovertemplate": "CHAMPIONNAME=Irelia<br>TOTALDAMAGEDEALTTOCHAMPIONS=%{x}<br>TOTALDAMAGETAKEN=%{y}<extra></extra>",
         "legendgroup": "Irelia",
         "marker": {
          "color": "#FECB52",
          "symbol": "circle"
         },
         "mode": "markers",
         "name": "Irelia",
         "orientation": "v",
         "showlegend": true,
         "type": "scatter",
         "x": [
          27091
         ],
         "xaxis": "x",
         "y": [
          32134
         ],
         "yaxis": "y"
        },
        {
         "hovertemplate": "CHAMPIONNAME=Ivern<br>TOTALDAMAGEDEALTTOCHAMPIONS=%{x}<br>TOTALDAMAGETAKEN=%{y}<extra></extra>",
         "legendgroup": "Ivern",
         "marker": {
          "color": "#636efa",
          "symbol": "circle"
         },
         "mode": "markers",
         "name": "Ivern",
         "orientation": "v",
         "showlegend": true,
         "type": "scatter",
         "x": [
          4440
         ],
         "xaxis": "x",
         "y": [
          13450
         ],
         "yaxis": "y"
        },
        {
         "hovertemplate": "CHAMPIONNAME=Janna<br>TOTALDAMAGEDEALTTOCHAMPIONS=%{x}<br>TOTALDAMAGETAKEN=%{y}<extra></extra>",
         "legendgroup": "Janna",
         "marker": {
          "color": "#EF553B",
          "symbol": "circle"
         },
         "mode": "markers",
         "name": "Janna",
         "orientation": "v",
         "showlegend": true,
         "type": "scatter",
         "x": [
          5439
         ],
         "xaxis": "x",
         "y": [
          12412
         ],
         "yaxis": "y"
        },
        {
         "hovertemplate": "CHAMPIONNAME=JarvanIV<br>TOTALDAMAGEDEALTTOCHAMPIONS=%{x}<br>TOTALDAMAGETAKEN=%{y}<extra></extra>",
         "legendgroup": "JarvanIV",
         "marker": {
          "color": "#00cc96",
          "symbol": "circle"
         },
         "mode": "markers",
         "name": "JarvanIV",
         "orientation": "v",
         "showlegend": true,
         "type": "scatter",
         "x": [
          5943
         ],
         "xaxis": "x",
         "y": [
          18111
         ],
         "yaxis": "y"
        },
        {
         "hovertemplate": "CHAMPIONNAME=Jax<br>TOTALDAMAGEDEALTTOCHAMPIONS=%{x}<br>TOTALDAMAGETAKEN=%{y}<extra></extra>",
         "legendgroup": "Jax",
         "marker": {
          "color": "#ab63fa",
          "symbol": "circle"
         },
         "mode": "markers",
         "name": "Jax",
         "orientation": "v",
         "showlegend": true,
         "type": "scatter",
         "x": [
          20138
         ],
         "xaxis": "x",
         "y": [
          25140
         ],
         "yaxis": "y"
        },
        {
         "hovertemplate": "CHAMPIONNAME=Jayce<br>TOTALDAMAGEDEALTTOCHAMPIONS=%{x}<br>TOTALDAMAGETAKEN=%{y}<extra></extra>",
         "legendgroup": "Jayce",
         "marker": {
          "color": "#FFA15A",
          "symbol": "circle"
         },
         "mode": "markers",
         "name": "Jayce",
         "orientation": "v",
         "showlegend": true,
         "type": "scatter",
         "x": [
          23914
         ],
         "xaxis": "x",
         "y": [
          20045
         ],
         "yaxis": "y"
        },
        {
         "hovertemplate": "CHAMPIONNAME=Jhin<br>TOTALDAMAGEDEALTTOCHAMPIONS=%{x}<br>TOTALDAMAGETAKEN=%{y}<extra></extra>",
         "legendgroup": "Jhin",
         "marker": {
          "color": "#19d3f3",
          "symbol": "circle"
         },
         "mode": "markers",
         "name": "Jhin",
         "orientation": "v",
         "showlegend": true,
         "type": "scatter",
         "x": [
          27253
         ],
         "xaxis": "x",
         "y": [
          21906
         ],
         "yaxis": "y"
        },
        {
         "hovertemplate": "CHAMPIONNAME=Jinx<br>TOTALDAMAGEDEALTTOCHAMPIONS=%{x}<br>TOTALDAMAGETAKEN=%{y}<extra></extra>",
         "legendgroup": "Jinx",
         "marker": {
          "color": "#FF6692",
          "symbol": "circle"
         },
         "mode": "markers",
         "name": "Jinx",
         "orientation": "v",
         "showlegend": true,
         "type": "scatter",
         "x": [
          16358
         ],
         "xaxis": "x",
         "y": [
          20377
         ],
         "yaxis": "y"
        },
        {
         "hovertemplate": "CHAMPIONNAME=Kaisa<br>TOTALDAMAGEDEALTTOCHAMPIONS=%{x}<br>TOTALDAMAGETAKEN=%{y}<extra></extra>",
         "legendgroup": "Kaisa",
         "marker": {
          "color": "#B6E880",
          "symbol": "circle"
         },
         "mode": "markers",
         "name": "Kaisa",
         "orientation": "v",
         "showlegend": true,
         "type": "scatter",
         "x": [
          13804
         ],
         "xaxis": "x",
         "y": [
          15725
         ],
         "yaxis": "y"
        },
        {
         "hovertemplate": "CHAMPIONNAME=Kalista<br>TOTALDAMAGEDEALTTOCHAMPIONS=%{x}<br>TOTALDAMAGETAKEN=%{y}<extra></extra>",
         "legendgroup": "Kalista",
         "marker": {
          "color": "#FF97FF",
          "symbol": "circle"
         },
         "mode": "markers",
         "name": "Kalista",
         "orientation": "v",
         "showlegend": true,
         "type": "scatter",
         "x": [
          13614
         ],
         "xaxis": "x",
         "y": [
          20018
         ],
         "yaxis": "y"
        },
        {
         "hovertemplate": "CHAMPIONNAME=Karma<br>TOTALDAMAGEDEALTTOCHAMPIONS=%{x}<br>TOTALDAMAGETAKEN=%{y}<extra></extra>",
         "legendgroup": "Karma",
         "marker": {
          "color": "#FECB52",
          "symbol": "circle"
         },
         "mode": "markers",
         "name": "Karma",
         "orientation": "v",
         "showlegend": true,
         "type": "scatter",
         "x": [
          6946
         ],
         "xaxis": "x",
         "y": [
          14432
         ],
         "yaxis": "y"
        },
        {
         "hovertemplate": "CHAMPIONNAME=Karthus<br>TOTALDAMAGEDEALTTOCHAMPIONS=%{x}<br>TOTALDAMAGETAKEN=%{y}<extra></extra>",
         "legendgroup": "Karthus",
         "marker": {
          "color": "#636efa",
          "symbol": "circle"
         },
         "mode": "markers",
         "name": "Karthus",
         "orientation": "v",
         "showlegend": true,
         "type": "scatter",
         "x": [
          30773
         ],
         "xaxis": "x",
         "y": [
          26077
         ],
         "yaxis": "y"
        },
        {
         "hovertemplate": "CHAMPIONNAME=Kassadin<br>TOTALDAMAGEDEALTTOCHAMPIONS=%{x}<br>TOTALDAMAGETAKEN=%{y}<extra></extra>",
         "legendgroup": "Kassadin",
         "marker": {
          "color": "#EF553B",
          "symbol": "circle"
         },
         "mode": "markers",
         "name": "Kassadin",
         "orientation": "v",
         "showlegend": true,
         "type": "scatter",
         "x": [
          18637
         ],
         "xaxis": "x",
         "y": [
          28475
         ],
         "yaxis": "y"
        },
        {
         "hovertemplate": "CHAMPIONNAME=Katarina<br>TOTALDAMAGEDEALTTOCHAMPIONS=%{x}<br>TOTALDAMAGETAKEN=%{y}<extra></extra>",
         "legendgroup": "Katarina",
         "marker": {
          "color": "#00cc96",
          "symbol": "circle"
         },
         "mode": "markers",
         "name": "Katarina",
         "orientation": "v",
         "showlegend": true,
         "type": "scatter",
         "x": [
          21348
         ],
         "xaxis": "x",
         "y": [
          9804
         ],
         "yaxis": "y"
        },
        {
         "hovertemplate": "CHAMPIONNAME=Kayle<br>TOTALDAMAGEDEALTTOCHAMPIONS=%{x}<br>TOTALDAMAGETAKEN=%{y}<extra></extra>",
         "legendgroup": "Kayle",
         "marker": {
          "color": "#ab63fa",
          "symbol": "circle"
         },
         "mode": "markers",
         "name": "Kayle",
         "orientation": "v",
         "showlegend": true,
         "type": "scatter",
         "x": [
          6931
         ],
         "xaxis": "x",
         "y": [
          16510
         ],
         "yaxis": "y"
        },
        {
         "hovertemplate": "CHAMPIONNAME=Kayn<br>TOTALDAMAGEDEALTTOCHAMPIONS=%{x}<br>TOTALDAMAGETAKEN=%{y}<extra></extra>",
         "legendgroup": "Kayn",
         "marker": {
          "color": "#FFA15A",
          "symbol": "circle"
         },
         "mode": "markers",
         "name": "Kayn",
         "orientation": "v",
         "showlegend": true,
         "type": "scatter",
         "x": [
          25182
         ],
         "xaxis": "x",
         "y": [
          34994
         ],
         "yaxis": "y"
        },
        {
         "hovertemplate": "CHAMPIONNAME=Kennen<br>TOTALDAMAGEDEALTTOCHAMPIONS=%{x}<br>TOTALDAMAGETAKEN=%{y}<extra></extra>",
         "legendgroup": "Kennen",
         "marker": {
          "color": "#19d3f3",
          "symbol": "circle"
         },
         "mode": "markers",
         "name": "Kennen",
         "orientation": "v",
         "showlegend": true,
         "type": "scatter",
         "x": [
          33211
         ],
         "xaxis": "x",
         "y": [
          28039
         ],
         "yaxis": "y"
        },
        {
         "hovertemplate": "CHAMPIONNAME=Khazix<br>TOTALDAMAGEDEALTTOCHAMPIONS=%{x}<br>TOTALDAMAGETAKEN=%{y}<extra></extra>",
         "legendgroup": "Khazix",
         "marker": {
          "color": "#FF6692",
          "symbol": "circle"
         },
         "mode": "markers",
         "name": "Khazix",
         "orientation": "v",
         "showlegend": true,
         "type": "scatter",
         "x": [
          20405
         ],
         "xaxis": "x",
         "y": [
          27466
         ],
         "yaxis": "y"
        },
        {
         "hovertemplate": "CHAMPIONNAME=Kindred<br>TOTALDAMAGEDEALTTOCHAMPIONS=%{x}<br>TOTALDAMAGETAKEN=%{y}<extra></extra>",
         "legendgroup": "Kindred",
         "marker": {
          "color": "#B6E880",
          "symbol": "circle"
         },
         "mode": "markers",
         "name": "Kindred",
         "orientation": "v",
         "showlegend": true,
         "type": "scatter",
         "x": [
          22063
         ],
         "xaxis": "x",
         "y": [
          19533
         ],
         "yaxis": "y"
        },
        {
         "hovertemplate": "CHAMPIONNAME=Kled<br>TOTALDAMAGEDEALTTOCHAMPIONS=%{x}<br>TOTALDAMAGETAKEN=%{y}<extra></extra>",
         "legendgroup": "Kled",
         "marker": {
          "color": "#FF97FF",
          "symbol": "circle"
         },
         "mode": "markers",
         "name": "Kled",
         "orientation": "v",
         "showlegend": true,
         "type": "scatter",
         "x": [
          13953
         ],
         "xaxis": "x",
         "y": [
          24927
         ],
         "yaxis": "y"
        },
        {
         "hovertemplate": "CHAMPIONNAME=KogMaw<br>TOTALDAMAGEDEALTTOCHAMPIONS=%{x}<br>TOTALDAMAGETAKEN=%{y}<extra></extra>",
         "legendgroup": "KogMaw",
         "marker": {
          "color": "#FECB52",
          "symbol": "circle"
         },
         "mode": "markers",
         "name": "KogMaw",
         "orientation": "v",
         "showlegend": true,
         "type": "scatter",
         "x": [
          23044
         ],
         "xaxis": "x",
         "y": [
          21779
         ],
         "yaxis": "y"
        },
        {
         "hovertemplate": "CHAMPIONNAME=Leblanc<br>TOTALDAMAGEDEALTTOCHAMPIONS=%{x}<br>TOTALDAMAGETAKEN=%{y}<extra></extra>",
         "legendgroup": "Leblanc",
         "marker": {
          "color": "#636efa",
          "symbol": "circle"
         },
         "mode": "markers",
         "name": "Leblanc",
         "orientation": "v",
         "showlegend": true,
         "type": "scatter",
         "x": [
          20172
         ],
         "xaxis": "x",
         "y": [
          20260
         ],
         "yaxis": "y"
        },
        {
         "hovertemplate": "CHAMPIONNAME=LeeSin<br>TOTALDAMAGEDEALTTOCHAMPIONS=%{x}<br>TOTALDAMAGETAKEN=%{y}<extra></extra>",
         "legendgroup": "LeeSin",
         "marker": {
          "color": "#EF553B",
          "symbol": "circle"
         },
         "mode": "markers",
         "name": "LeeSin",
         "orientation": "v",
         "showlegend": true,
         "type": "scatter",
         "x": [
          14674
         ],
         "xaxis": "x",
         "y": [
          29270
         ],
         "yaxis": "y"
        },
        {
         "hovertemplate": "CHAMPIONNAME=Leona<br>TOTALDAMAGEDEALTTOCHAMPIONS=%{x}<br>TOTALDAMAGETAKEN=%{y}<extra></extra>",
         "legendgroup": "Leona",
         "marker": {
          "color": "#00cc96",
          "symbol": "circle"
         },
         "mode": "markers",
         "name": "Leona",
         "orientation": "v",
         "showlegend": true,
         "type": "scatter",
         "x": [
          6006
         ],
         "xaxis": "x",
         "y": [
          20238
         ],
         "yaxis": "y"
        },
        {
         "hovertemplate": "CHAMPIONNAME=Lillia<br>TOTALDAMAGEDEALTTOCHAMPIONS=%{x}<br>TOTALDAMAGETAKEN=%{y}<extra></extra>",
         "legendgroup": "Lillia",
         "marker": {
          "color": "#ab63fa",
          "symbol": "circle"
         },
         "mode": "markers",
         "name": "Lillia",
         "orientation": "v",
         "showlegend": true,
         "type": "scatter",
         "x": [
          18139
         ],
         "xaxis": "x",
         "y": [
          20961
         ],
         "yaxis": "y"
        },
        {
         "hovertemplate": "CHAMPIONNAME=Lissandra<br>TOTALDAMAGEDEALTTOCHAMPIONS=%{x}<br>TOTALDAMAGETAKEN=%{y}<extra></extra>",
         "legendgroup": "Lissandra",
         "marker": {
          "color": "#FFA15A",
          "symbol": "circle"
         },
         "mode": "markers",
         "name": "Lissandra",
         "orientation": "v",
         "showlegend": true,
         "type": "scatter",
         "x": [
          24313
         ],
         "xaxis": "x",
         "y": [
          27243
         ],
         "yaxis": "y"
        },
        {
         "hovertemplate": "CHAMPIONNAME=Lucian<br>TOTALDAMAGEDEALTTOCHAMPIONS=%{x}<br>TOTALDAMAGETAKEN=%{y}<extra></extra>",
         "legendgroup": "Lucian",
         "marker": {
          "color": "#19d3f3",
          "symbol": "circle"
         },
         "mode": "markers",
         "name": "Lucian",
         "orientation": "v",
         "showlegend": true,
         "type": "scatter",
         "x": [
          20161
         ],
         "xaxis": "x",
         "y": [
          20066
         ],
         "yaxis": "y"
        },
        {
         "hovertemplate": "CHAMPIONNAME=Lulu<br>TOTALDAMAGEDEALTTOCHAMPIONS=%{x}<br>TOTALDAMAGETAKEN=%{y}<extra></extra>",
         "legendgroup": "Lulu",
         "marker": {
          "color": "#FF6692",
          "symbol": "circle"
         },
         "mode": "markers",
         "name": "Lulu",
         "orientation": "v",
         "showlegend": true,
         "type": "scatter",
         "x": [
          6737
         ],
         "xaxis": "x",
         "y": [
          13785
         ],
         "yaxis": "y"
        },
        {
         "hovertemplate": "CHAMPIONNAME=Malphite<br>TOTALDAMAGEDEALTTOCHAMPIONS=%{x}<br>TOTALDAMAGETAKEN=%{y}<extra></extra>",
         "legendgroup": "Malphite",
         "marker": {
          "color": "#B6E880",
          "symbol": "circle"
         },
         "mode": "markers",
         "name": "Malphite",
         "orientation": "v",
         "showlegend": true,
         "type": "scatter",
         "x": [
          20858
         ],
         "xaxis": "x",
         "y": [
          29446
         ],
         "yaxis": "y"
        },
        {
         "hovertemplate": "CHAMPIONNAME=Malzahar<br>TOTALDAMAGEDEALTTOCHAMPIONS=%{x}<br>TOTALDAMAGETAKEN=%{y}<extra></extra>",
         "legendgroup": "Malzahar",
         "marker": {
          "color": "#FF97FF",
          "symbol": "circle"
         },
         "mode": "markers",
         "name": "Malzahar",
         "orientation": "v",
         "showlegend": true,
         "type": "scatter",
         "x": [
          18329
         ],
         "xaxis": "x",
         "y": [
          16301
         ],
         "yaxis": "y"
        },
        {
         "hovertemplate": "CHAMPIONNAME=Maokai<br>TOTALDAMAGEDEALTTOCHAMPIONS=%{x}<br>TOTALDAMAGETAKEN=%{y}<extra></extra>",
         "legendgroup": "Maokai",
         "marker": {
          "color": "#FECB52",
          "symbol": "circle"
         },
         "mode": "markers",
         "name": "Maokai",
         "orientation": "v",
         "showlegend": true,
         "type": "scatter",
         "x": [
          12803
         ],
         "xaxis": "x",
         "y": [
          22688
         ],
         "yaxis": "y"
        },
        {
         "hovertemplate": "CHAMPIONNAME=MasterYi<br>TOTALDAMAGEDEALTTOCHAMPIONS=%{x}<br>TOTALDAMAGETAKEN=%{y}<extra></extra>",
         "legendgroup": "MasterYi",
         "marker": {
          "color": "#636efa",
          "symbol": "circle"
         },
         "mode": "markers",
         "name": "MasterYi",
         "orientation": "v",
         "showlegend": true,
         "type": "scatter",
         "x": [
          15820
         ],
         "xaxis": "x",
         "y": [
          28705
         ],
         "yaxis": "y"
        },
        {
         "hovertemplate": "CHAMPIONNAME=MissFortune<br>TOTALDAMAGEDEALTTOCHAMPIONS=%{x}<br>TOTALDAMAGETAKEN=%{y}<extra></extra>",
         "legendgroup": "MissFortune",
         "marker": {
          "color": "#EF553B",
          "symbol": "circle"
         },
         "mode": "markers",
         "name": "MissFortune",
         "orientation": "v",
         "showlegend": true,
         "type": "scatter",
         "x": [
          27334
         ],
         "xaxis": "x",
         "y": [
          23683
         ],
         "yaxis": "y"
        },
        {
         "hovertemplate": "CHAMPIONNAME=MonkeyKing<br>TOTALDAMAGEDEALTTOCHAMPIONS=%{x}<br>TOTALDAMAGETAKEN=%{y}<extra></extra>",
         "legendgroup": "MonkeyKing",
         "marker": {
          "color": "#00cc96",
          "symbol": "circle"
         },
         "mode": "markers",
         "name": "MonkeyKing",
         "orientation": "v",
         "showlegend": true,
         "type": "scatter",
         "x": [
          17006
         ],
         "xaxis": "x",
         "y": [
          30868
         ],
         "yaxis": "y"
        },
        {
         "hovertemplate": "CHAMPIONNAME=Mordekaiser<br>TOTALDAMAGEDEALTTOCHAMPIONS=%{x}<br>TOTALDAMAGETAKEN=%{y}<extra></extra>",
         "legendgroup": "Mordekaiser",
         "marker": {
          "color": "#ab63fa",
          "symbol": "circle"
         },
         "mode": "markers",
         "name": "Mordekaiser",
         "orientation": "v",
         "showlegend": true,
         "type": "scatter",
         "x": [
          37149
         ],
         "xaxis": "x",
         "y": [
          48465
         ],
         "yaxis": "y"
        },
        {
         "hovertemplate": "CHAMPIONNAME=Morgana<br>TOTALDAMAGEDEALTTOCHAMPIONS=%{x}<br>TOTALDAMAGETAKEN=%{y}<extra></extra>",
         "legendgroup": "Morgana",
         "marker": {
          "color": "#FFA15A",
          "symbol": "circle"
         },
         "mode": "markers",
         "name": "Morgana",
         "orientation": "v",
         "showlegend": true,
         "type": "scatter",
         "x": [
          6081
         ],
         "xaxis": "x",
         "y": [
          10945
         ],
         "yaxis": "y"
        },
        {
         "hovertemplate": "CHAMPIONNAME=Nami<br>TOTALDAMAGEDEALTTOCHAMPIONS=%{x}<br>TOTALDAMAGETAKEN=%{y}<extra></extra>",
         "legendgroup": "Nami",
         "marker": {
          "color": "#19d3f3",
          "symbol": "circle"
         },
         "mode": "markers",
         "name": "Nami",
         "orientation": "v",
         "showlegend": true,
         "type": "scatter",
         "x": [
          6572
         ],
         "xaxis": "x",
         "y": [
          13351
         ],
         "yaxis": "y"
        },
        {
         "hovertemplate": "CHAMPIONNAME=Nasus<br>TOTALDAMAGEDEALTTOCHAMPIONS=%{x}<br>TOTALDAMAGETAKEN=%{y}<extra></extra>",
         "legendgroup": "Nasus",
         "marker": {
          "color": "#FF6692",
          "symbol": "circle"
         },
         "mode": "markers",
         "name": "Nasus",
         "orientation": "v",
         "showlegend": true,
         "type": "scatter",
         "x": [
          8752
         ],
         "xaxis": "x",
         "y": [
          9438
         ],
         "yaxis": "y"
        },
        {
         "hovertemplate": "CHAMPIONNAME=Nautilus<br>TOTALDAMAGEDEALTTOCHAMPIONS=%{x}<br>TOTALDAMAGETAKEN=%{y}<extra></extra>",
         "legendgroup": "Nautilus",
         "marker": {
          "color": "#B6E880",
          "symbol": "circle"
         },
         "mode": "markers",
         "name": "Nautilus",
         "orientation": "v",
         "showlegend": true,
         "type": "scatter",
         "x": [
          6926
         ],
         "xaxis": "x",
         "y": [
          18315
         ],
         "yaxis": "y"
        },
        {
         "hovertemplate": "CHAMPIONNAME=Neeko<br>TOTALDAMAGEDEALTTOCHAMPIONS=%{x}<br>TOTALDAMAGETAKEN=%{y}<extra></extra>",
         "legendgroup": "Neeko",
         "marker": {
          "color": "#FF97FF",
          "symbol": "circle"
         },
         "mode": "markers",
         "name": "Neeko",
         "orientation": "v",
         "showlegend": true,
         "type": "scatter",
         "x": [
          6965
         ],
         "xaxis": "x",
         "y": [
          7594
         ],
         "yaxis": "y"
        },
        {
         "hovertemplate": "CHAMPIONNAME=Nidalee<br>TOTALDAMAGEDEALTTOCHAMPIONS=%{x}<br>TOTALDAMAGETAKEN=%{y}<extra></extra>",
         "legendgroup": "Nidalee",
         "marker": {
          "color": "#FECB52",
          "symbol": "circle"
         },
         "mode": "markers",
         "name": "Nidalee",
         "orientation": "v",
         "showlegend": true,
         "type": "scatter",
         "x": [
          20237
         ],
         "xaxis": "x",
         "y": [
          33021
         ],
         "yaxis": "y"
        },
        {
         "hovertemplate": "CHAMPIONNAME=Nilah<br>TOTALDAMAGEDEALTTOCHAMPIONS=%{x}<br>TOTALDAMAGETAKEN=%{y}<extra></extra>",
         "legendgroup": "Nilah",
         "marker": {
          "color": "#636efa",
          "symbol": "circle"
         },
         "mode": "markers",
         "name": "Nilah",
         "orientation": "v",
         "showlegend": true,
         "type": "scatter",
         "x": [
          10021
         ],
         "xaxis": "x",
         "y": [
          18483
         ],
         "yaxis": "y"
        },
        {
         "hovertemplate": "CHAMPIONNAME=Nocturne<br>TOTALDAMAGEDEALTTOCHAMPIONS=%{x}<br>TOTALDAMAGETAKEN=%{y}<extra></extra>",
         "legendgroup": "Nocturne",
         "marker": {
          "color": "#EF553B",
          "symbol": "circle"
         },
         "mode": "markers",
         "name": "Nocturne",
         "orientation": "v",
         "showlegend": true,
         "type": "scatter",
         "x": [
          9178
         ],
         "xaxis": "x",
         "y": [
          22625
         ],
         "yaxis": "y"
        },
        {
         "hovertemplate": "CHAMPIONNAME=Nunu<br>TOTALDAMAGEDEALTTOCHAMPIONS=%{x}<br>TOTALDAMAGETAKEN=%{y}<extra></extra>",
         "legendgroup": "Nunu",
         "marker": {
          "color": "#00cc96",
          "symbol": "circle"
         },
         "mode": "markers",
         "name": "Nunu",
         "orientation": "v",
         "showlegend": true,
         "type": "scatter",
         "x": [
          26546
         ],
         "xaxis": "x",
         "y": [
          33966
         ],
         "yaxis": "y"
        },
        {
         "hovertemplate": "CHAMPIONNAME=Orianna<br>TOTALDAMAGEDEALTTOCHAMPIONS=%{x}<br>TOTALDAMAGETAKEN=%{y}<extra></extra>",
         "legendgroup": "Orianna",
         "marker": {
          "color": "#ab63fa",
          "symbol": "circle"
         },
         "mode": "markers",
         "name": "Orianna",
         "orientation": "v",
         "showlegend": true,
         "type": "scatter",
         "x": [
          14511
         ],
         "xaxis": "x",
         "y": [
          12827
         ],
         "yaxis": "y"
        },
        {
         "hovertemplate": "CHAMPIONNAME=Ornn<br>TOTALDAMAGEDEALTTOCHAMPIONS=%{x}<br>TOTALDAMAGETAKEN=%{y}<extra></extra>",
         "legendgroup": "Ornn",
         "marker": {
          "color": "#FFA15A",
          "symbol": "circle"
         },
         "mode": "markers",
         "name": "Ornn",
         "orientation": "v",
         "showlegend": true,
         "type": "scatter",
         "x": [
          13194
         ],
         "xaxis": "x",
         "y": [
          26738
         ],
         "yaxis": "y"
        },
        {
         "hovertemplate": "CHAMPIONNAME=Pantheon<br>TOTALDAMAGEDEALTTOCHAMPIONS=%{x}<br>TOTALDAMAGETAKEN=%{y}<extra></extra>",
         "legendgroup": "Pantheon",
         "marker": {
          "color": "#19d3f3",
          "symbol": "circle"
         },
         "mode": "markers",
         "name": "Pantheon",
         "orientation": "v",
         "showlegend": true,
         "type": "scatter",
         "x": [
          33178
         ],
         "xaxis": "x",
         "y": [
          20738
         ],
         "yaxis": "y"
        },
        {
         "hovertemplate": "CHAMPIONNAME=Poppy<br>TOTALDAMAGEDEALTTOCHAMPIONS=%{x}<br>TOTALDAMAGETAKEN=%{y}<extra></extra>",
         "legendgroup": "Poppy",
         "marker": {
          "color": "#FF6692",
          "symbol": "circle"
         },
         "mode": "markers",
         "name": "Poppy",
         "orientation": "v",
         "showlegend": true,
         "type": "scatter",
         "x": [
          10219
         ],
         "xaxis": "x",
         "y": [
          15886
         ],
         "yaxis": "y"
        },
        {
         "hovertemplate": "CHAMPIONNAME=Pyke<br>TOTALDAMAGEDEALTTOCHAMPIONS=%{x}<br>TOTALDAMAGETAKEN=%{y}<extra></extra>",
         "legendgroup": "Pyke",
         "marker": {
          "color": "#B6E880",
          "symbol": "circle"
         },
         "mode": "markers",
         "name": "Pyke",
         "orientation": "v",
         "showlegend": true,
         "type": "scatter",
         "x": [
          11426
         ],
         "xaxis": "x",
         "y": [
          24425
         ],
         "yaxis": "y"
        },
        {
         "hovertemplate": "CHAMPIONNAME=Qiyana<br>TOTALDAMAGEDEALTTOCHAMPIONS=%{x}<br>TOTALDAMAGETAKEN=%{y}<extra></extra>",
         "legendgroup": "Qiyana",
         "marker": {
          "color": "#FF97FF",
          "symbol": "circle"
         },
         "mode": "markers",
         "name": "Qiyana",
         "orientation": "v",
         "showlegend": true,
         "type": "scatter",
         "x": [
          34272
         ],
         "xaxis": "x",
         "y": [
          34509
         ],
         "yaxis": "y"
        },
        {
         "hovertemplate": "CHAMPIONNAME=Quinn<br>TOTALDAMAGEDEALTTOCHAMPIONS=%{x}<br>TOTALDAMAGETAKEN=%{y}<extra></extra>",
         "legendgroup": "Quinn",
         "marker": {
          "color": "#FECB52",
          "symbol": "circle"
         },
         "mode": "markers",
         "name": "Quinn",
         "orientation": "v",
         "showlegend": true,
         "type": "scatter",
         "x": [
          9050
         ],
         "xaxis": "x",
         "y": [
          18333
         ],
         "yaxis": "y"
        },
        {
         "hovertemplate": "CHAMPIONNAME=Rakan<br>TOTALDAMAGEDEALTTOCHAMPIONS=%{x}<br>TOTALDAMAGETAKEN=%{y}<extra></extra>",
         "legendgroup": "Rakan",
         "marker": {
          "color": "#636efa",
          "symbol": "circle"
         },
         "mode": "markers",
         "name": "Rakan",
         "orientation": "v",
         "showlegend": true,
         "type": "scatter",
         "x": [
          5518
         ],
         "xaxis": "x",
         "y": [
          10914
         ],
         "yaxis": "y"
        },
        {
         "hovertemplate": "CHAMPIONNAME=RekSai<br>TOTALDAMAGEDEALTTOCHAMPIONS=%{x}<br>TOTALDAMAGETAKEN=%{y}<extra></extra>",
         "legendgroup": "RekSai",
         "marker": {
          "color": "#EF553B",
          "symbol": "circle"
         },
         "mode": "markers",
         "name": "RekSai",
         "orientation": "v",
         "showlegend": true,
         "type": "scatter",
         "x": [
          13064
         ],
         "xaxis": "x",
         "y": [
          20538
         ],
         "yaxis": "y"
        },
        {
         "hovertemplate": "CHAMPIONNAME=Renata<br>TOTALDAMAGEDEALTTOCHAMPIONS=%{x}<br>TOTALDAMAGETAKEN=%{y}<extra></extra>",
         "legendgroup": "Renata",
         "marker": {
          "color": "#00cc96",
          "symbol": "circle"
         },
         "mode": "markers",
         "name": "Renata",
         "orientation": "v",
         "showlegend": true,
         "type": "scatter",
         "x": [
          6053
         ],
         "xaxis": "x",
         "y": [
          13960
         ],
         "yaxis": "y"
        },
        {
         "hovertemplate": "CHAMPIONNAME=Renekton<br>TOTALDAMAGEDEALTTOCHAMPIONS=%{x}<br>TOTALDAMAGETAKEN=%{y}<extra></extra>",
         "legendgroup": "Renekton",
         "marker": {
          "color": "#ab63fa",
          "symbol": "circle"
         },
         "mode": "markers",
         "name": "Renekton",
         "orientation": "v",
         "showlegend": true,
         "type": "scatter",
         "x": [
          19891
         ],
         "xaxis": "x",
         "y": [
          41904
         ],
         "yaxis": "y"
        },
        {
         "hovertemplate": "CHAMPIONNAME=Rengar<br>TOTALDAMAGEDEALTTOCHAMPIONS=%{x}<br>TOTALDAMAGETAKEN=%{y}<extra></extra>",
         "legendgroup": "Rengar",
         "marker": {
          "color": "#FFA15A",
          "symbol": "circle"
         },
         "mode": "markers",
         "name": "Rengar",
         "orientation": "v",
         "showlegend": true,
         "type": "scatter",
         "x": [
          19525
         ],
         "xaxis": "x",
         "y": [
          22243
         ],
         "yaxis": "y"
        },
        {
         "hovertemplate": "CHAMPIONNAME=Riven<br>TOTALDAMAGEDEALTTOCHAMPIONS=%{x}<br>TOTALDAMAGETAKEN=%{y}<extra></extra>",
         "legendgroup": "Riven",
         "marker": {
          "color": "#19d3f3",
          "symbol": "circle"
         },
         "mode": "markers",
         "name": "Riven",
         "orientation": "v",
         "showlegend": true,
         "type": "scatter",
         "x": [
          19888
         ],
         "xaxis": "x",
         "y": [
          33222
         ],
         "yaxis": "y"
        },
        {
         "hovertemplate": "CHAMPIONNAME=Rumble<br>TOTALDAMAGEDEALTTOCHAMPIONS=%{x}<br>TOTALDAMAGETAKEN=%{y}<extra></extra>",
         "legendgroup": "Rumble",
         "marker": {
          "color": "#FF6692",
          "symbol": "circle"
         },
         "mode": "markers",
         "name": "Rumble",
         "orientation": "v",
         "showlegend": true,
         "type": "scatter",
         "x": [
          30161
         ],
         "xaxis": "x",
         "y": [
          31662
         ],
         "yaxis": "y"
        },
        {
         "hovertemplate": "CHAMPIONNAME=Ryze<br>TOTALDAMAGEDEALTTOCHAMPIONS=%{x}<br>TOTALDAMAGETAKEN=%{y}<extra></extra>",
         "legendgroup": "Ryze",
         "marker": {
          "color": "#B6E880",
          "symbol": "circle"
         },
         "mode": "markers",
         "name": "Ryze",
         "orientation": "v",
         "showlegend": true,
         "type": "scatter",
         "x": [
          18604
         ],
         "xaxis": "x",
         "y": [
          23174
         ],
         "yaxis": "y"
        },
        {
         "hovertemplate": "CHAMPIONNAME=Samira<br>TOTALDAMAGEDEALTTOCHAMPIONS=%{x}<br>TOTALDAMAGETAKEN=%{y}<extra></extra>",
         "legendgroup": "Samira",
         "marker": {
          "color": "#FF97FF",
          "symbol": "circle"
         },
         "mode": "markers",
         "name": "Samira",
         "orientation": "v",
         "showlegend": true,
         "type": "scatter",
         "x": [
          21532
         ],
         "xaxis": "x",
         "y": [
          20078
         ],
         "yaxis": "y"
        },
        {
         "hovertemplate": "CHAMPIONNAME=Sejuani<br>TOTALDAMAGEDEALTTOCHAMPIONS=%{x}<br>TOTALDAMAGETAKEN=%{y}<extra></extra>",
         "legendgroup": "Sejuani",
         "marker": {
          "color": "#FECB52",
          "symbol": "circle"
         },
         "mode": "markers",
         "name": "Sejuani",
         "orientation": "v",
         "showlegend": true,
         "type": "scatter",
         "x": [
          16283
         ],
         "xaxis": "x",
         "y": [
          19516
         ],
         "yaxis": "y"
        },
        {
         "hovertemplate": "CHAMPIONNAME=Senna<br>TOTALDAMAGEDEALTTOCHAMPIONS=%{x}<br>TOTALDAMAGETAKEN=%{y}<extra></extra>",
         "legendgroup": "Senna",
         "marker": {
          "color": "#636efa",
          "symbol": "circle"
         },
         "mode": "markers",
         "name": "Senna",
         "orientation": "v",
         "showlegend": true,
         "type": "scatter",
         "x": [
          9527
         ],
         "xaxis": "x",
         "y": [
          12527
         ],
         "yaxis": "y"
        },
        {
         "hovertemplate": "CHAMPIONNAME=Seraphine<br>TOTALDAMAGEDEALTTOCHAMPIONS=%{x}<br>TOTALDAMAGETAKEN=%{y}<extra></extra>",
         "legendgroup": "Seraphine",
         "marker": {
          "color": "#EF553B",
          "symbol": "circle"
         },
         "mode": "markers",
         "name": "Seraphine",
         "orientation": "v",
         "showlegend": true,
         "type": "scatter",
         "x": [
          9943
         ],
         "xaxis": "x",
         "y": [
          18624
         ],
         "yaxis": "y"
        },
        {
         "hovertemplate": "CHAMPIONNAME=Sett<br>TOTALDAMAGEDEALTTOCHAMPIONS=%{x}<br>TOTALDAMAGETAKEN=%{y}<extra></extra>",
         "legendgroup": "Sett",
         "marker": {
          "color": "#00cc96",
          "symbol": "circle"
         },
         "mode": "markers",
         "name": "Sett",
         "orientation": "v",
         "showlegend": true,
         "type": "scatter",
         "x": [
          12540
         ],
         "xaxis": "x",
         "y": [
          24720
         ],
         "yaxis": "y"
        },
        {
         "hovertemplate": "CHAMPIONNAME=Shaco<br>TOTALDAMAGEDEALTTOCHAMPIONS=%{x}<br>TOTALDAMAGETAKEN=%{y}<extra></extra>",
         "legendgroup": "Shaco",
         "marker": {
          "color": "#ab63fa",
          "symbol": "circle"
         },
         "mode": "markers",
         "name": "Shaco",
         "orientation": "v",
         "showlegend": true,
         "type": "scatter",
         "x": [
          21158
         ],
         "xaxis": "x",
         "y": [
          22711
         ],
         "yaxis": "y"
        },
        {
         "hovertemplate": "CHAMPIONNAME=Shen<br>TOTALDAMAGEDEALTTOCHAMPIONS=%{x}<br>TOTALDAMAGETAKEN=%{y}<extra></extra>",
         "legendgroup": "Shen",
         "marker": {
          "color": "#FFA15A",
          "symbol": "circle"
         },
         "mode": "markers",
         "name": "Shen",
         "orientation": "v",
         "showlegend": true,
         "type": "scatter",
         "x": [
          12524
         ],
         "xaxis": "x",
         "y": [
          24729
         ],
         "yaxis": "y"
        },
        {
         "hovertemplate": "CHAMPIONNAME=Shyvana<br>TOTALDAMAGEDEALTTOCHAMPIONS=%{x}<br>TOTALDAMAGETAKEN=%{y}<extra></extra>",
         "legendgroup": "Shyvana",
         "marker": {
          "color": "#19d3f3",
          "symbol": "circle"
         },
         "mode": "markers",
         "name": "Shyvana",
         "orientation": "v",
         "showlegend": true,
         "type": "scatter",
         "x": [
          14255
         ],
         "xaxis": "x",
         "y": [
          18166
         ],
         "yaxis": "y"
        },
        {
         "hovertemplate": "CHAMPIONNAME=Singed<br>TOTALDAMAGEDEALTTOCHAMPIONS=%{x}<br>TOTALDAMAGETAKEN=%{y}<extra></extra>",
         "legendgroup": "Singed",
         "marker": {
          "color": "#FF6692",
          "symbol": "circle"
         },
         "mode": "markers",
         "name": "Singed",
         "orientation": "v",
         "showlegend": true,
         "type": "scatter",
         "x": [
          24380
         ],
         "xaxis": "x",
         "y": [
          39626
         ],
         "yaxis": "y"
        },
        {
         "hovertemplate": "CHAMPIONNAME=Sion<br>TOTALDAMAGEDEALTTOCHAMPIONS=%{x}<br>TOTALDAMAGETAKEN=%{y}<extra></extra>",
         "legendgroup": "Sion",
         "marker": {
          "color": "#B6E880",
          "symbol": "circle"
         },
         "mode": "markers",
         "name": "Sion",
         "orientation": "v",
         "showlegend": true,
         "type": "scatter",
         "x": [
          24189
         ],
         "xaxis": "x",
         "y": [
          53704
         ],
         "yaxis": "y"
        },
        {
         "hovertemplate": "CHAMPIONNAME=Sivir<br>TOTALDAMAGEDEALTTOCHAMPIONS=%{x}<br>TOTALDAMAGETAKEN=%{y}<extra></extra>",
         "legendgroup": "Sivir",
         "marker": {
          "color": "#FF97FF",
          "symbol": "circle"
         },
         "mode": "markers",
         "name": "Sivir",
         "orientation": "v",
         "showlegend": true,
         "type": "scatter",
         "x": [
          21422
         ],
         "xaxis": "x",
         "y": [
          23666
         ],
         "yaxis": "y"
        },
        {
         "hovertemplate": "CHAMPIONNAME=Sona<br>TOTALDAMAGEDEALTTOCHAMPIONS=%{x}<br>TOTALDAMAGETAKEN=%{y}<extra></extra>",
         "legendgroup": "Sona",
         "marker": {
          "color": "#FECB52",
          "symbol": "circle"
         },
         "mode": "markers",
         "name": "Sona",
         "orientation": "v",
         "showlegend": true,
         "type": "scatter",
         "x": [
          13056
         ],
         "xaxis": "x",
         "y": [
          24214
         ],
         "yaxis": "y"
        },
        {
         "hovertemplate": "CHAMPIONNAME=Soraka<br>TOTALDAMAGEDEALTTOCHAMPIONS=%{x}<br>TOTALDAMAGETAKEN=%{y}<extra></extra>",
         "legendgroup": "Soraka",
         "marker": {
          "color": "#636efa",
          "symbol": "circle"
         },
         "mode": "markers",
         "name": "Soraka",
         "orientation": "v",
         "showlegend": true,
         "type": "scatter",
         "x": [
          6529
         ],
         "xaxis": "x",
         "y": [
          10491
         ],
         "yaxis": "y"
        },
        {
         "hovertemplate": "CHAMPIONNAME=Swain<br>TOTALDAMAGEDEALTTOCHAMPIONS=%{x}<br>TOTALDAMAGETAKEN=%{y}<extra></extra>",
         "legendgroup": "Swain",
         "marker": {
          "color": "#EF553B",
          "symbol": "circle"
         },
         "mode": "markers",
         "name": "Swain",
         "orientation": "v",
         "showlegend": true,
         "type": "scatter",
         "x": [
          10591
         ],
         "xaxis": "x",
         "y": [
          21463
         ],
         "yaxis": "y"
        },
        {
         "hovertemplate": "CHAMPIONNAME=Sylas<br>TOTALDAMAGEDEALTTOCHAMPIONS=%{x}<br>TOTALDAMAGETAKEN=%{y}<extra></extra>",
         "legendgroup": "Sylas",
         "marker": {
          "color": "#00cc96",
          "symbol": "circle"
         },
         "mode": "markers",
         "name": "Sylas",
         "orientation": "v",
         "showlegend": true,
         "type": "scatter",
         "x": [
          16084
         ],
         "xaxis": "x",
         "y": [
          28348
         ],
         "yaxis": "y"
        },
        {
         "hovertemplate": "CHAMPIONNAME=Syndra<br>TOTALDAMAGEDEALTTOCHAMPIONS=%{x}<br>TOTALDAMAGETAKEN=%{y}<extra></extra>",
         "legendgroup": "Syndra",
         "marker": {
          "color": "#ab63fa",
          "symbol": "circle"
         },
         "mode": "markers",
         "name": "Syndra",
         "orientation": "v",
         "showlegend": true,
         "type": "scatter",
         "x": [
          34037
         ],
         "xaxis": "x",
         "y": [
          29999
         ],
         "yaxis": "y"
        },
        {
         "hovertemplate": "CHAMPIONNAME=TahmKench<br>TOTALDAMAGEDEALTTOCHAMPIONS=%{x}<br>TOTALDAMAGETAKEN=%{y}<extra></extra>",
         "legendgroup": "TahmKench",
         "marker": {
          "color": "#FFA15A",
          "symbol": "circle"
         },
         "mode": "markers",
         "name": "TahmKench",
         "orientation": "v",
         "showlegend": true,
         "type": "scatter",
         "x": [
          6586
         ],
         "xaxis": "x",
         "y": [
          18080
         ],
         "yaxis": "y"
        },
        {
         "hovertemplate": "CHAMPIONNAME=Taliyah<br>TOTALDAMAGEDEALTTOCHAMPIONS=%{x}<br>TOTALDAMAGETAKEN=%{y}<extra></extra>",
         "legendgroup": "Taliyah",
         "marker": {
          "color": "#19d3f3",
          "symbol": "circle"
         },
         "mode": "markers",
         "name": "Taliyah",
         "orientation": "v",
         "showlegend": true,
         "type": "scatter",
         "x": [
          18782
         ],
         "xaxis": "x",
         "y": [
          15683
         ],
         "yaxis": "y"
        },
        {
         "hovertemplate": "CHAMPIONNAME=Talon<br>TOTALDAMAGEDEALTTOCHAMPIONS=%{x}<br>TOTALDAMAGETAKEN=%{y}<extra></extra>",
         "legendgroup": "Talon",
         "marker": {
          "color": "#FF6692",
          "symbol": "circle"
         },
         "mode": "markers",
         "name": "Talon",
         "orientation": "v",
         "showlegend": true,
         "type": "scatter",
         "x": [
          27831
         ],
         "xaxis": "x",
         "y": [
          31226
         ],
         "yaxis": "y"
        },
        {
         "hovertemplate": "CHAMPIONNAME=Taric<br>TOTALDAMAGEDEALTTOCHAMPIONS=%{x}<br>TOTALDAMAGETAKEN=%{y}<extra></extra>",
         "legendgroup": "Taric",
         "marker": {
          "color": "#B6E880",
          "symbol": "circle"
         },
         "mode": "markers",
         "name": "Taric",
         "orientation": "v",
         "showlegend": true,
         "type": "scatter",
         "x": [
          7594
         ],
         "xaxis": "x",
         "y": [
          33384
         ],
         "yaxis": "y"
        },
        {
         "hovertemplate": "CHAMPIONNAME=Teemo<br>TOTALDAMAGEDEALTTOCHAMPIONS=%{x}<br>TOTALDAMAGETAKEN=%{y}<extra></extra>",
         "legendgroup": "Teemo",
         "marker": {
          "color": "#FF97FF",
          "symbol": "circle"
         },
         "mode": "markers",
         "name": "Teemo",
         "orientation": "v",
         "showlegend": true,
         "type": "scatter",
         "x": [
          21320
         ],
         "xaxis": "x",
         "y": [
          29464
         ],
         "yaxis": "y"
        },
        {
         "hovertemplate": "CHAMPIONNAME=Thresh<br>TOTALDAMAGEDEALTTOCHAMPIONS=%{x}<br>TOTALDAMAGETAKEN=%{y}<extra></extra>",
         "legendgroup": "Thresh",
         "marker": {
          "color": "#FECB52",
          "symbol": "circle"
         },
         "mode": "markers",
         "name": "Thresh",
         "orientation": "v",
         "showlegend": true,
         "type": "scatter",
         "x": [
          7999
         ],
         "xaxis": "x",
         "y": [
          20772
         ],
         "yaxis": "y"
        },
        {
         "hovertemplate": "CHAMPIONNAME=Tristana<br>TOTALDAMAGEDEALTTOCHAMPIONS=%{x}<br>TOTALDAMAGETAKEN=%{y}<extra></extra>",
         "legendgroup": "Tristana",
         "marker": {
          "color": "#636efa",
          "symbol": "circle"
         },
         "mode": "markers",
         "name": "Tristana",
         "orientation": "v",
         "showlegend": true,
         "type": "scatter",
         "x": [
          7644
         ],
         "xaxis": "x",
         "y": [
          9290
         ],
         "yaxis": "y"
        },
        {
         "hovertemplate": "CHAMPIONNAME=Trundle<br>TOTALDAMAGEDEALTTOCHAMPIONS=%{x}<br>TOTALDAMAGETAKEN=%{y}<extra></extra>",
         "legendgroup": "Trundle",
         "marker": {
          "color": "#EF553B",
          "symbol": "circle"
         },
         "mode": "markers",
         "name": "Trundle",
         "orientation": "v",
         "showlegend": true,
         "type": "scatter",
         "x": [
          1775
         ],
         "xaxis": "x",
         "y": [
          9775
         ],
         "yaxis": "y"
        },
        {
         "hovertemplate": "CHAMPIONNAME=Tryndamere<br>TOTALDAMAGEDEALTTOCHAMPIONS=%{x}<br>TOTALDAMAGETAKEN=%{y}<extra></extra>",
         "legendgroup": "Tryndamere",
         "marker": {
          "color": "#00cc96",
          "symbol": "circle"
         },
         "mode": "markers",
         "name": "Tryndamere",
         "orientation": "v",
         "showlegend": true,
         "type": "scatter",
         "x": [
          11453
         ],
         "xaxis": "x",
         "y": [
          29964
         ],
         "yaxis": "y"
        },
        {
         "hovertemplate": "CHAMPIONNAME=TwistedFate<br>TOTALDAMAGEDEALTTOCHAMPIONS=%{x}<br>TOTALDAMAGETAKEN=%{y}<extra></extra>",
         "legendgroup": "TwistedFate",
         "marker": {
          "color": "#ab63fa",
          "symbol": "circle"
         },
         "mode": "markers",
         "name": "TwistedFate",
         "orientation": "v",
         "showlegend": true,
         "type": "scatter",
         "x": [
          10299
         ],
         "xaxis": "x",
         "y": [
          17625
         ],
         "yaxis": "y"
        },
        {
         "hovertemplate": "CHAMPIONNAME=Twitch<br>TOTALDAMAGEDEALTTOCHAMPIONS=%{x}<br>TOTALDAMAGETAKEN=%{y}<extra></extra>",
         "legendgroup": "Twitch",
         "marker": {
          "color": "#FFA15A",
          "symbol": "circle"
         },
         "mode": "markers",
         "name": "Twitch",
         "orientation": "v",
         "showlegend": true,
         "type": "scatter",
         "x": [
          25144
         ],
         "xaxis": "x",
         "y": [
          26417
         ],
         "yaxis": "y"
        },
        {
         "hovertemplate": "CHAMPIONNAME=Udyr<br>TOTALDAMAGEDEALTTOCHAMPIONS=%{x}<br>TOTALDAMAGETAKEN=%{y}<extra></extra>",
         "legendgroup": "Udyr",
         "marker": {
          "color": "#19d3f3",
          "symbol": "circle"
         },
         "mode": "markers",
         "name": "Udyr",
         "orientation": "v",
         "showlegend": true,
         "type": "scatter",
         "x": [
          19428
         ],
         "xaxis": "x",
         "y": [
          38376
         ],
         "yaxis": "y"
        },
        {
         "hovertemplate": "CHAMPIONNAME=Urgot<br>TOTALDAMAGEDEALTTOCHAMPIONS=%{x}<br>TOTALDAMAGETAKEN=%{y}<extra></extra>",
         "legendgroup": "Urgot",
         "marker": {
          "color": "#FF6692",
          "symbol": "circle"
         },
         "mode": "markers",
         "name": "Urgot",
         "orientation": "v",
         "showlegend": true,
         "type": "scatter",
         "x": [
          23948
         ],
         "xaxis": "x",
         "y": [
          14358
         ],
         "yaxis": "y"
        },
        {
         "hovertemplate": "CHAMPIONNAME=Vayne<br>TOTALDAMAGEDEALTTOCHAMPIONS=%{x}<br>TOTALDAMAGETAKEN=%{y}<extra></extra>",
         "legendgroup": "Vayne",
         "marker": {
          "color": "#B6E880",
          "symbol": "circle"
         },
         "mode": "markers",
         "name": "Vayne",
         "orientation": "v",
         "showlegend": true,
         "type": "scatter",
         "x": [
          47046
         ],
         "xaxis": "x",
         "y": [
          39244
         ],
         "yaxis": "y"
        },
        {
         "hovertemplate": "CHAMPIONNAME=Veigar<br>TOTALDAMAGEDEALTTOCHAMPIONS=%{x}<br>TOTALDAMAGETAKEN=%{y}<extra></extra>",
         "legendgroup": "Veigar",
         "marker": {
          "color": "#FF97FF",
          "symbol": "circle"
         },
         "mode": "markers",
         "name": "Veigar",
         "orientation": "v",
         "showlegend": true,
         "type": "scatter",
         "x": [
          38457
         ],
         "xaxis": "x",
         "y": [
          15796
         ],
         "yaxis": "y"
        },
        {
         "hovertemplate": "CHAMPIONNAME=Velkoz<br>TOTALDAMAGEDEALTTOCHAMPIONS=%{x}<br>TOTALDAMAGETAKEN=%{y}<extra></extra>",
         "legendgroup": "Velkoz",
         "marker": {
          "color": "#FECB52",
          "symbol": "circle"
         },
         "mode": "markers",
         "name": "Velkoz",
         "orientation": "v",
         "showlegend": true,
         "type": "scatter",
         "x": [
          35774
         ],
         "xaxis": "x",
         "y": [
          22042
         ],
         "yaxis": "y"
        },
        {
         "hovertemplate": "CHAMPIONNAME=Vex<br>TOTALDAMAGEDEALTTOCHAMPIONS=%{x}<br>TOTALDAMAGETAKEN=%{y}<extra></extra>",
         "legendgroup": "Vex",
         "marker": {
          "color": "#636efa",
          "symbol": "circle"
         },
         "mode": "markers",
         "name": "Vex",
         "orientation": "v",
         "showlegend": true,
         "type": "scatter",
         "x": [
          28728
         ],
         "xaxis": "x",
         "y": [
          22922
         ],
         "yaxis": "y"
        },
        {
         "hovertemplate": "CHAMPIONNAME=Viego<br>TOTALDAMAGEDEALTTOCHAMPIONS=%{x}<br>TOTALDAMAGETAKEN=%{y}<extra></extra>",
         "legendgroup": "Viego",
         "marker": {
          "color": "#EF553B",
          "symbol": "circle"
         },
         "mode": "markers",
         "name": "Viego",
         "orientation": "v",
         "showlegend": true,
         "type": "scatter",
         "x": [
          15754
         ],
         "xaxis": "x",
         "y": [
          26001
         ],
         "yaxis": "y"
        },
        {
         "hovertemplate": "CHAMPIONNAME=Viktor<br>TOTALDAMAGEDEALTTOCHAMPIONS=%{x}<br>TOTALDAMAGETAKEN=%{y}<extra></extra>",
         "legendgroup": "Viktor",
         "marker": {
          "color": "#00cc96",
          "symbol": "circle"
         },
         "mode": "markers",
         "name": "Viktor",
         "orientation": "v",
         "showlegend": true,
         "type": "scatter",
         "x": [
          20978
         ],
         "xaxis": "x",
         "y": [
          16668
         ],
         "yaxis": "y"
        },
        {
         "hovertemplate": "CHAMPIONNAME=Vladimir<br>TOTALDAMAGEDEALTTOCHAMPIONS=%{x}<br>TOTALDAMAGETAKEN=%{y}<extra></extra>",
         "legendgroup": "Vladimir",
         "marker": {
          "color": "#ab63fa",
          "symbol": "circle"
         },
         "mode": "markers",
         "name": "Vladimir",
         "orientation": "v",
         "showlegend": true,
         "type": "scatter",
         "x": [
          38843
         ],
         "xaxis": "x",
         "y": [
          45644
         ],
         "yaxis": "y"
        },
        {
         "hovertemplate": "CHAMPIONNAME=Volibear<br>TOTALDAMAGEDEALTTOCHAMPIONS=%{x}<br>TOTALDAMAGETAKEN=%{y}<extra></extra>",
         "legendgroup": "Volibear",
         "marker": {
          "color": "#FFA15A",
          "symbol": "circle"
         },
         "mode": "markers",
         "name": "Volibear",
         "orientation": "v",
         "showlegend": true,
         "type": "scatter",
         "x": [
          16628
         ],
         "xaxis": "x",
         "y": [
          26225
         ],
         "yaxis": "y"
        },
        {
         "hovertemplate": "CHAMPIONNAME=Xayah<br>TOTALDAMAGEDEALTTOCHAMPIONS=%{x}<br>TOTALDAMAGETAKEN=%{y}<extra></extra>",
         "legendgroup": "Xayah",
         "marker": {
          "color": "#19d3f3",
          "symbol": "circle"
         },
         "mode": "markers",
         "name": "Xayah",
         "orientation": "v",
         "showlegend": true,
         "type": "scatter",
         "x": [
          10506
         ],
         "xaxis": "x",
         "y": [
          16355
         ],
         "yaxis": "y"
        },
        {
         "hovertemplate": "CHAMPIONNAME=Xerath<br>TOTALDAMAGEDEALTTOCHAMPIONS=%{x}<br>TOTALDAMAGETAKEN=%{y}<extra></extra>",
         "legendgroup": "Xerath",
         "marker": {
          "color": "#FF6692",
          "symbol": "circle"
         },
         "mode": "markers",
         "name": "Xerath",
         "orientation": "v",
         "showlegend": true,
         "type": "scatter",
         "x": [
          20563
         ],
         "xaxis": "x",
         "y": [
          15356
         ],
         "yaxis": "y"
        },
        {
         "hovertemplate": "CHAMPIONNAME=XinZhao<br>TOTALDAMAGEDEALTTOCHAMPIONS=%{x}<br>TOTALDAMAGETAKEN=%{y}<extra></extra>",
         "legendgroup": "XinZhao",
         "marker": {
          "color": "#B6E880",
          "symbol": "circle"
         },
         "mode": "markers",
         "name": "XinZhao",
         "orientation": "v",
         "showlegend": true,
         "type": "scatter",
         "x": [
          12967
         ],
         "xaxis": "x",
         "y": [
          35217
         ],
         "yaxis": "y"
        },
        {
         "hovertemplate": "CHAMPIONNAME=Yasuo<br>TOTALDAMAGEDEALTTOCHAMPIONS=%{x}<br>TOTALDAMAGETAKEN=%{y}<extra></extra>",
         "legendgroup": "Yasuo",
         "marker": {
          "color": "#FF97FF",
          "symbol": "circle"
         },
         "mode": "markers",
         "name": "Yasuo",
         "orientation": "v",
         "showlegend": true,
         "type": "scatter",
         "x": [
          28275
         ],
         "xaxis": "x",
         "y": [
          29461
         ],
         "yaxis": "y"
        },
        {
         "hovertemplate": "CHAMPIONNAME=Yone<br>TOTALDAMAGEDEALTTOCHAMPIONS=%{x}<br>TOTALDAMAGETAKEN=%{y}<extra></extra>",
         "legendgroup": "Yone",
         "marker": {
          "color": "#FECB52",
          "symbol": "circle"
         },
         "mode": "markers",
         "name": "Yone",
         "orientation": "v",
         "showlegend": true,
         "type": "scatter",
         "x": [
          20631
         ],
         "xaxis": "x",
         "y": [
          25578
         ],
         "yaxis": "y"
        },
        {
         "hovertemplate": "CHAMPIONNAME=Yuumi<br>TOTALDAMAGEDEALTTOCHAMPIONS=%{x}<br>TOTALDAMAGETAKEN=%{y}<extra></extra>",
         "legendgroup": "Yuumi",
         "marker": {
          "color": "#636efa",
          "symbol": "circle"
         },
         "mode": "markers",
         "name": "Yuumi",
         "orientation": "v",
         "showlegend": true,
         "type": "scatter",
         "x": [
          8574
         ],
         "xaxis": "x",
         "y": [
          7506
         ],
         "yaxis": "y"
        },
        {
         "hovertemplate": "CHAMPIONNAME=Zac<br>TOTALDAMAGEDEALTTOCHAMPIONS=%{x}<br>TOTALDAMAGETAKEN=%{y}<extra></extra>",
         "legendgroup": "Zac",
         "marker": {
          "color": "#EF553B",
          "symbol": "circle"
         },
         "mode": "markers",
         "name": "Zac",
         "orientation": "v",
         "showlegend": true,
         "type": "scatter",
         "x": [
          13714
         ],
         "xaxis": "x",
         "y": [
          26509
         ],
         "yaxis": "y"
        },
        {
         "hovertemplate": "CHAMPIONNAME=Zed<br>TOTALDAMAGEDEALTTOCHAMPIONS=%{x}<br>TOTALDAMAGETAKEN=%{y}<extra></extra>",
         "legendgroup": "Zed",
         "marker": {
          "color": "#00cc96",
          "symbol": "circle"
         },
         "mode": "markers",
         "name": "Zed",
         "orientation": "v",
         "showlegend": true,
         "type": "scatter",
         "x": [
          27953
         ],
         "xaxis": "x",
         "y": [
          34899
         ],
         "yaxis": "y"
        },
        {
         "hovertemplate": "CHAMPIONNAME=Zeri<br>TOTALDAMAGEDEALTTOCHAMPIONS=%{x}<br>TOTALDAMAGETAKEN=%{y}<extra></extra>",
         "legendgroup": "Zeri",
         "marker": {
          "color": "#ab63fa",
          "symbol": "circle"
         },
         "mode": "markers",
         "name": "Zeri",
         "orientation": "v",
         "showlegend": true,
         "type": "scatter",
         "x": [
          30373
         ],
         "xaxis": "x",
         "y": [
          20952
         ],
         "yaxis": "y"
        },
        {
         "hovertemplate": "CHAMPIONNAME=Ziggs<br>TOTALDAMAGEDEALTTOCHAMPIONS=%{x}<br>TOTALDAMAGETAKEN=%{y}<extra></extra>",
         "legendgroup": "Ziggs",
         "marker": {
          "color": "#FFA15A",
          "symbol": "circle"
         },
         "mode": "markers",
         "name": "Ziggs",
         "orientation": "v",
         "showlegend": true,
         "type": "scatter",
         "x": [
          28792
         ],
         "xaxis": "x",
         "y": [
          17834
         ],
         "yaxis": "y"
        },
        {
         "hovertemplate": "CHAMPIONNAME=Zilean<br>TOTALDAMAGEDEALTTOCHAMPIONS=%{x}<br>TOTALDAMAGETAKEN=%{y}<extra></extra>",
         "legendgroup": "Zilean",
         "marker": {
          "color": "#19d3f3",
          "symbol": "circle"
         },
         "mode": "markers",
         "name": "Zilean",
         "orientation": "v",
         "showlegend": true,
         "type": "scatter",
         "x": [
          7192
         ],
         "xaxis": "x",
         "y": [
          11553
         ],
         "yaxis": "y"
        },
        {
         "hovertemplate": "CHAMPIONNAME=Zoe<br>TOTALDAMAGEDEALTTOCHAMPIONS=%{x}<br>TOTALDAMAGETAKEN=%{y}<extra></extra>",
         "legendgroup": "Zoe",
         "marker": {
          "color": "#FF6692",
          "symbol": "circle"
         },
         "mode": "markers",
         "name": "Zoe",
         "orientation": "v",
         "showlegend": true,
         "type": "scatter",
         "x": [
          26506
         ],
         "xaxis": "x",
         "y": [
          24347
         ],
         "yaxis": "y"
        }
       ],
       "layout": {
        "legend": {
         "title": {
          "text": "CHAMPIONNAME"
         },
         "tracegroupgap": 0
        },
        "template": {
         "data": {
          "bar": [
           {
            "error_x": {
             "color": "#2a3f5f"
            },
            "error_y": {
             "color": "#2a3f5f"
            },
            "marker": {
             "line": {
              "color": "#E5ECF6",
              "width": 0.5
             },
             "pattern": {
              "fillmode": "overlay",
              "size": 10,
              "solidity": 0.2
             }
            },
            "type": "bar"
           }
          ],
          "barpolar": [
           {
            "marker": {
             "line": {
              "color": "#E5ECF6",
              "width": 0.5
             },
             "pattern": {
              "fillmode": "overlay",
              "size": 10,
              "solidity": 0.2
             }
            },
            "type": "barpolar"
           }
          ],
          "carpet": [
           {
            "aaxis": {
             "endlinecolor": "#2a3f5f",
             "gridcolor": "white",
             "linecolor": "white",
             "minorgridcolor": "white",
             "startlinecolor": "#2a3f5f"
            },
            "baxis": {
             "endlinecolor": "#2a3f5f",
             "gridcolor": "white",
             "linecolor": "white",
             "minorgridcolor": "white",
             "startlinecolor": "#2a3f5f"
            },
            "type": "carpet"
           }
          ],
          "choropleth": [
           {
            "colorbar": {
             "outlinewidth": 0,
             "ticks": ""
            },
            "type": "choropleth"
           }
          ],
          "contour": [
           {
            "colorbar": {
             "outlinewidth": 0,
             "ticks": ""
            },
            "colorscale": [
             [
              0,
              "#0d0887"
             ],
             [
              0.1111111111111111,
              "#46039f"
             ],
             [
              0.2222222222222222,
              "#7201a8"
             ],
             [
              0.3333333333333333,
              "#9c179e"
             ],
             [
              0.4444444444444444,
              "#bd3786"
             ],
             [
              0.5555555555555556,
              "#d8576b"
             ],
             [
              0.6666666666666666,
              "#ed7953"
             ],
             [
              0.7777777777777778,
              "#fb9f3a"
             ],
             [
              0.8888888888888888,
              "#fdca26"
             ],
             [
              1,
              "#f0f921"
             ]
            ],
            "type": "contour"
           }
          ],
          "contourcarpet": [
           {
            "colorbar": {
             "outlinewidth": 0,
             "ticks": ""
            },
            "type": "contourcarpet"
           }
          ],
          "heatmap": [
           {
            "colorbar": {
             "outlinewidth": 0,
             "ticks": ""
            },
            "colorscale": [
             [
              0,
              "#0d0887"
             ],
             [
              0.1111111111111111,
              "#46039f"
             ],
             [
              0.2222222222222222,
              "#7201a8"
             ],
             [
              0.3333333333333333,
              "#9c179e"
             ],
             [
              0.4444444444444444,
              "#bd3786"
             ],
             [
              0.5555555555555556,
              "#d8576b"
             ],
             [
              0.6666666666666666,
              "#ed7953"
             ],
             [
              0.7777777777777778,
              "#fb9f3a"
             ],
             [
              0.8888888888888888,
              "#fdca26"
             ],
             [
              1,
              "#f0f921"
             ]
            ],
            "type": "heatmap"
           }
          ],
          "heatmapgl": [
           {
            "colorbar": {
             "outlinewidth": 0,
             "ticks": ""
            },
            "colorscale": [
             [
              0,
              "#0d0887"
             ],
             [
              0.1111111111111111,
              "#46039f"
             ],
             [
              0.2222222222222222,
              "#7201a8"
             ],
             [
              0.3333333333333333,
              "#9c179e"
             ],
             [
              0.4444444444444444,
              "#bd3786"
             ],
             [
              0.5555555555555556,
              "#d8576b"
             ],
             [
              0.6666666666666666,
              "#ed7953"
             ],
             [
              0.7777777777777778,
              "#fb9f3a"
             ],
             [
              0.8888888888888888,
              "#fdca26"
             ],
             [
              1,
              "#f0f921"
             ]
            ],
            "type": "heatmapgl"
           }
          ],
          "histogram": [
           {
            "marker": {
             "pattern": {
              "fillmode": "overlay",
              "size": 10,
              "solidity": 0.2
             }
            },
            "type": "histogram"
           }
          ],
          "histogram2d": [
           {
            "colorbar": {
             "outlinewidth": 0,
             "ticks": ""
            },
            "colorscale": [
             [
              0,
              "#0d0887"
             ],
             [
              0.1111111111111111,
              "#46039f"
             ],
             [
              0.2222222222222222,
              "#7201a8"
             ],
             [
              0.3333333333333333,
              "#9c179e"
             ],
             [
              0.4444444444444444,
              "#bd3786"
             ],
             [
              0.5555555555555556,
              "#d8576b"
             ],
             [
              0.6666666666666666,
              "#ed7953"
             ],
             [
              0.7777777777777778,
              "#fb9f3a"
             ],
             [
              0.8888888888888888,
              "#fdca26"
             ],
             [
              1,
              "#f0f921"
             ]
            ],
            "type": "histogram2d"
           }
          ],
          "histogram2dcontour": [
           {
            "colorbar": {
             "outlinewidth": 0,
             "ticks": ""
            },
            "colorscale": [
             [
              0,
              "#0d0887"
             ],
             [
              0.1111111111111111,
              "#46039f"
             ],
             [
              0.2222222222222222,
              "#7201a8"
             ],
             [
              0.3333333333333333,
              "#9c179e"
             ],
             [
              0.4444444444444444,
              "#bd3786"
             ],
             [
              0.5555555555555556,
              "#d8576b"
             ],
             [
              0.6666666666666666,
              "#ed7953"
             ],
             [
              0.7777777777777778,
              "#fb9f3a"
             ],
             [
              0.8888888888888888,
              "#fdca26"
             ],
             [
              1,
              "#f0f921"
             ]
            ],
            "type": "histogram2dcontour"
           }
          ],
          "mesh3d": [
           {
            "colorbar": {
             "outlinewidth": 0,
             "ticks": ""
            },
            "type": "mesh3d"
           }
          ],
          "parcoords": [
           {
            "line": {
             "colorbar": {
              "outlinewidth": 0,
              "ticks": ""
             }
            },
            "type": "parcoords"
           }
          ],
          "pie": [
           {
            "automargin": true,
            "type": "pie"
           }
          ],
          "scatter": [
           {
            "fillpattern": {
             "fillmode": "overlay",
             "size": 10,
             "solidity": 0.2
            },
            "type": "scatter"
           }
          ],
          "scatter3d": [
           {
            "line": {
             "colorbar": {
              "outlinewidth": 0,
              "ticks": ""
             }
            },
            "marker": {
             "colorbar": {
              "outlinewidth": 0,
              "ticks": ""
             }
            },
            "type": "scatter3d"
           }
          ],
          "scattercarpet": [
           {
            "marker": {
             "colorbar": {
              "outlinewidth": 0,
              "ticks": ""
             }
            },
            "type": "scattercarpet"
           }
          ],
          "scattergeo": [
           {
            "marker": {
             "colorbar": {
              "outlinewidth": 0,
              "ticks": ""
             }
            },
            "type": "scattergeo"
           }
          ],
          "scattergl": [
           {
            "marker": {
             "colorbar": {
              "outlinewidth": 0,
              "ticks": ""
             }
            },
            "type": "scattergl"
           }
          ],
          "scattermapbox": [
           {
            "marker": {
             "colorbar": {
              "outlinewidth": 0,
              "ticks": ""
             }
            },
            "type": "scattermapbox"
           }
          ],
          "scatterpolar": [
           {
            "marker": {
             "colorbar": {
              "outlinewidth": 0,
              "ticks": ""
             }
            },
            "type": "scatterpolar"
           }
          ],
          "scatterpolargl": [
           {
            "marker": {
             "colorbar": {
              "outlinewidth": 0,
              "ticks": ""
             }
            },
            "type": "scatterpolargl"
           }
          ],
          "scatterternary": [
           {
            "marker": {
             "colorbar": {
              "outlinewidth": 0,
              "ticks": ""
             }
            },
            "type": "scatterternary"
           }
          ],
          "surface": [
           {
            "colorbar": {
             "outlinewidth": 0,
             "ticks": ""
            },
            "colorscale": [
             [
              0,
              "#0d0887"
             ],
             [
              0.1111111111111111,
              "#46039f"
             ],
             [
              0.2222222222222222,
              "#7201a8"
             ],
             [
              0.3333333333333333,
              "#9c179e"
             ],
             [
              0.4444444444444444,
              "#bd3786"
             ],
             [
              0.5555555555555556,
              "#d8576b"
             ],
             [
              0.6666666666666666,
              "#ed7953"
             ],
             [
              0.7777777777777778,
              "#fb9f3a"
             ],
             [
              0.8888888888888888,
              "#fdca26"
             ],
             [
              1,
              "#f0f921"
             ]
            ],
            "type": "surface"
           }
          ],
          "table": [
           {
            "cells": {
             "fill": {
              "color": "#EBF0F8"
             },
             "line": {
              "color": "white"
             }
            },
            "header": {
             "fill": {
              "color": "#C8D4E3"
             },
             "line": {
              "color": "white"
             }
            },
            "type": "table"
           }
          ]
         },
         "layout": {
          "annotationdefaults": {
           "arrowcolor": "#2a3f5f",
           "arrowhead": 0,
           "arrowwidth": 1
          },
          "autotypenumbers": "strict",
          "coloraxis": {
           "colorbar": {
            "outlinewidth": 0,
            "ticks": ""
           }
          },
          "colorscale": {
           "diverging": [
            [
             0,
             "#8e0152"
            ],
            [
             0.1,
             "#c51b7d"
            ],
            [
             0.2,
             "#de77ae"
            ],
            [
             0.3,
             "#f1b6da"
            ],
            [
             0.4,
             "#fde0ef"
            ],
            [
             0.5,
             "#f7f7f7"
            ],
            [
             0.6,
             "#e6f5d0"
            ],
            [
             0.7,
             "#b8e186"
            ],
            [
             0.8,
             "#7fbc41"
            ],
            [
             0.9,
             "#4d9221"
            ],
            [
             1,
             "#276419"
            ]
           ],
           "sequential": [
            [
             0,
             "#0d0887"
            ],
            [
             0.1111111111111111,
             "#46039f"
            ],
            [
             0.2222222222222222,
             "#7201a8"
            ],
            [
             0.3333333333333333,
             "#9c179e"
            ],
            [
             0.4444444444444444,
             "#bd3786"
            ],
            [
             0.5555555555555556,
             "#d8576b"
            ],
            [
             0.6666666666666666,
             "#ed7953"
            ],
            [
             0.7777777777777778,
             "#fb9f3a"
            ],
            [
             0.8888888888888888,
             "#fdca26"
            ],
            [
             1,
             "#f0f921"
            ]
           ],
           "sequentialminus": [
            [
             0,
             "#0d0887"
            ],
            [
             0.1111111111111111,
             "#46039f"
            ],
            [
             0.2222222222222222,
             "#7201a8"
            ],
            [
             0.3333333333333333,
             "#9c179e"
            ],
            [
             0.4444444444444444,
             "#bd3786"
            ],
            [
             0.5555555555555556,
             "#d8576b"
            ],
            [
             0.6666666666666666,
             "#ed7953"
            ],
            [
             0.7777777777777778,
             "#fb9f3a"
            ],
            [
             0.8888888888888888,
             "#fdca26"
            ],
            [
             1,
             "#f0f921"
            ]
           ]
          },
          "colorway": [
           "#636efa",
           "#EF553B",
           "#00cc96",
           "#ab63fa",
           "#FFA15A",
           "#19d3f3",
           "#FF6692",
           "#B6E880",
           "#FF97FF",
           "#FECB52"
          ],
          "font": {
           "color": "#2a3f5f"
          },
          "geo": {
           "bgcolor": "white",
           "lakecolor": "white",
           "landcolor": "#E5ECF6",
           "showlakes": true,
           "showland": true,
           "subunitcolor": "white"
          },
          "hoverlabel": {
           "align": "left"
          },
          "hovermode": "closest",
          "mapbox": {
           "style": "light"
          },
          "paper_bgcolor": "white",
          "plot_bgcolor": "#E5ECF6",
          "polar": {
           "angularaxis": {
            "gridcolor": "white",
            "linecolor": "white",
            "ticks": ""
           },
           "bgcolor": "#E5ECF6",
           "radialaxis": {
            "gridcolor": "white",
            "linecolor": "white",
            "ticks": ""
           }
          },
          "scene": {
           "xaxis": {
            "backgroundcolor": "#E5ECF6",
            "gridcolor": "white",
            "gridwidth": 2,
            "linecolor": "white",
            "showbackground": true,
            "ticks": "",
            "zerolinecolor": "white"
           },
           "yaxis": {
            "backgroundcolor": "#E5ECF6",
            "gridcolor": "white",
            "gridwidth": 2,
            "linecolor": "white",
            "showbackground": true,
            "ticks": "",
            "zerolinecolor": "white"
           },
           "zaxis": {
            "backgroundcolor": "#E5ECF6",
            "gridcolor": "white",
            "gridwidth": 2,
            "linecolor": "white",
            "showbackground": true,
            "ticks": "",
            "zerolinecolor": "white"
           }
          },
          "shapedefaults": {
           "line": {
            "color": "#2a3f5f"
           }
          },
          "ternary": {
           "aaxis": {
            "gridcolor": "white",
            "linecolor": "white",
            "ticks": ""
           },
           "baxis": {
            "gridcolor": "white",
            "linecolor": "white",
            "ticks": ""
           },
           "bgcolor": "#E5ECF6",
           "caxis": {
            "gridcolor": "white",
            "linecolor": "white",
            "ticks": ""
           }
          },
          "title": {
           "x": 0.05
          },
          "xaxis": {
           "automargin": true,
           "gridcolor": "white",
           "linecolor": "white",
           "ticks": "",
           "title": {
            "standoff": 15
           },
           "zerolinecolor": "white",
           "zerolinewidth": 2
          },
          "yaxis": {
           "automargin": true,
           "gridcolor": "white",
           "linecolor": "white",
           "ticks": "",
           "title": {
            "standoff": 15
           },
           "zerolinecolor": "white",
           "zerolinewidth": 2
          }
         }
        },
        "title": {
         "text": "박현우 - 챔피언별 준피해량과 받은 피해량"
        },
        "xaxis": {
         "anchor": "y",
         "domain": [
          0,
          1
         ],
         "title": {
          "text": "TOTALDAMAGEDEALTTOCHAMPIONS"
         }
        },
        "yaxis": {
         "anchor": "x",
         "domain": [
          0,
          1
         ],
         "title": {
          "text": "TOTALDAMAGETAKEN"
         }
        }
       }
      },
      "text/html": [
       "<div>                            <div id=\"614c7c75-273c-430e-9c4e-a4dfa2189748\" class=\"plotly-graph-div\" style=\"height:525px; width:100%;\"></div>            <script type=\"text/javascript\">                require([\"plotly\"], function(Plotly) {                    window.PLOTLYENV=window.PLOTLYENV || {};                                    if (document.getElementById(\"614c7c75-273c-430e-9c4e-a4dfa2189748\")) {                    Plotly.newPlot(                        \"614c7c75-273c-430e-9c4e-a4dfa2189748\",                        [{\"hovertemplate\":\"CHAMPIONNAME=Aatrox<br>TOTALDAMAGEDEALTTOCHAMPIONS=%{x}<br>TOTALDAMAGETAKEN=%{y}<extra></extra>\",\"legendgroup\":\"Aatrox\",\"marker\":{\"color\":\"#636efa\",\"symbol\":\"circle\"},\"mode\":\"markers\",\"name\":\"Aatrox\",\"orientation\":\"v\",\"showlegend\":true,\"x\":[12740.0],\"xaxis\":\"x\",\"y\":[23043.0],\"yaxis\":\"y\",\"type\":\"scatter\"},{\"hovertemplate\":\"CHAMPIONNAME=Ahri<br>TOTALDAMAGEDEALTTOCHAMPIONS=%{x}<br>TOTALDAMAGETAKEN=%{y}<extra></extra>\",\"legendgroup\":\"Ahri\",\"marker\":{\"color\":\"#EF553B\",\"symbol\":\"circle\"},\"mode\":\"markers\",\"name\":\"Ahri\",\"orientation\":\"v\",\"showlegend\":true,\"x\":[19074.0],\"xaxis\":\"x\",\"y\":[18471.0],\"yaxis\":\"y\",\"type\":\"scatter\"},{\"hovertemplate\":\"CHAMPIONNAME=Akali<br>TOTALDAMAGEDEALTTOCHAMPIONS=%{x}<br>TOTALDAMAGETAKEN=%{y}<extra></extra>\",\"legendgroup\":\"Akali\",\"marker\":{\"color\":\"#00cc96\",\"symbol\":\"circle\"},\"mode\":\"markers\",\"name\":\"Akali\",\"orientation\":\"v\",\"showlegend\":true,\"x\":[12591.0],\"xaxis\":\"x\",\"y\":[18177.0],\"yaxis\":\"y\",\"type\":\"scatter\"},{\"hovertemplate\":\"CHAMPIONNAME=Akshan<br>TOTALDAMAGEDEALTTOCHAMPIONS=%{x}<br>TOTALDAMAGETAKEN=%{y}<extra></extra>\",\"legendgroup\":\"Akshan\",\"marker\":{\"color\":\"#ab63fa\",\"symbol\":\"circle\"},\"mode\":\"markers\",\"name\":\"Akshan\",\"orientation\":\"v\",\"showlegend\":true,\"x\":[20142.0],\"xaxis\":\"x\",\"y\":[23024.0],\"yaxis\":\"y\",\"type\":\"scatter\"},{\"hovertemplate\":\"CHAMPIONNAME=Alistar<br>TOTALDAMAGEDEALTTOCHAMPIONS=%{x}<br>TOTALDAMAGETAKEN=%{y}<extra></extra>\",\"legendgroup\":\"Alistar\",\"marker\":{\"color\":\"#FFA15A\",\"symbol\":\"circle\"},\"mode\":\"markers\",\"name\":\"Alistar\",\"orientation\":\"v\",\"showlegend\":true,\"x\":[3166.0],\"xaxis\":\"x\",\"y\":[12024.0],\"yaxis\":\"y\",\"type\":\"scatter\"},{\"hovertemplate\":\"CHAMPIONNAME=Amumu<br>TOTALDAMAGEDEALTTOCHAMPIONS=%{x}<br>TOTALDAMAGETAKEN=%{y}<extra></extra>\",\"legendgroup\":\"Amumu\",\"marker\":{\"color\":\"#19d3f3\",\"symbol\":\"circle\"},\"mode\":\"markers\",\"name\":\"Amumu\",\"orientation\":\"v\",\"showlegend\":true,\"x\":[12411.0],\"xaxis\":\"x\",\"y\":[19060.0],\"yaxis\":\"y\",\"type\":\"scatter\"},{\"hovertemplate\":\"CHAMPIONNAME=Anivia<br>TOTALDAMAGEDEALTTOCHAMPIONS=%{x}<br>TOTALDAMAGETAKEN=%{y}<extra></extra>\",\"legendgroup\":\"Anivia\",\"marker\":{\"color\":\"#FF6692\",\"symbol\":\"circle\"},\"mode\":\"markers\",\"name\":\"Anivia\",\"orientation\":\"v\",\"showlegend\":true,\"x\":[41569.0],\"xaxis\":\"x\",\"y\":[38828.0],\"yaxis\":\"y\",\"type\":\"scatter\"},{\"hovertemplate\":\"CHAMPIONNAME=Aphelios<br>TOTALDAMAGEDEALTTOCHAMPIONS=%{x}<br>TOTALDAMAGETAKEN=%{y}<extra></extra>\",\"legendgroup\":\"Aphelios\",\"marker\":{\"color\":\"#B6E880\",\"symbol\":\"circle\"},\"mode\":\"markers\",\"name\":\"Aphelios\",\"orientation\":\"v\",\"showlegend\":true,\"x\":[23957.0],\"xaxis\":\"x\",\"y\":[19565.0],\"yaxis\":\"y\",\"type\":\"scatter\"},{\"hovertemplate\":\"CHAMPIONNAME=Ashe<br>TOTALDAMAGEDEALTTOCHAMPIONS=%{x}<br>TOTALDAMAGETAKEN=%{y}<extra></extra>\",\"legendgroup\":\"Ashe\",\"marker\":{\"color\":\"#FF97FF\",\"symbol\":\"circle\"},\"mode\":\"markers\",\"name\":\"Ashe\",\"orientation\":\"v\",\"showlegend\":true,\"x\":[14517.0],\"xaxis\":\"x\",\"y\":[13767.0],\"yaxis\":\"y\",\"type\":\"scatter\"},{\"hovertemplate\":\"CHAMPIONNAME=Azir<br>TOTALDAMAGEDEALTTOCHAMPIONS=%{x}<br>TOTALDAMAGETAKEN=%{y}<extra></extra>\",\"legendgroup\":\"Azir\",\"marker\":{\"color\":\"#FECB52\",\"symbol\":\"circle\"},\"mode\":\"markers\",\"name\":\"Azir\",\"orientation\":\"v\",\"showlegend\":true,\"x\":[13192.0],\"xaxis\":\"x\",\"y\":[16079.0],\"yaxis\":\"y\",\"type\":\"scatter\"},{\"hovertemplate\":\"CHAMPIONNAME=Bard<br>TOTALDAMAGEDEALTTOCHAMPIONS=%{x}<br>TOTALDAMAGETAKEN=%{y}<extra></extra>\",\"legendgroup\":\"Bard\",\"marker\":{\"color\":\"#636efa\",\"symbol\":\"circle\"},\"mode\":\"markers\",\"name\":\"Bard\",\"orientation\":\"v\",\"showlegend\":true,\"x\":[23414.0],\"xaxis\":\"x\",\"y\":[32065.0],\"yaxis\":\"y\",\"type\":\"scatter\"},{\"hovertemplate\":\"CHAMPIONNAME=Belveth<br>TOTALDAMAGEDEALTTOCHAMPIONS=%{x}<br>TOTALDAMAGETAKEN=%{y}<extra></extra>\",\"legendgroup\":\"Belveth\",\"marker\":{\"color\":\"#EF553B\",\"symbol\":\"circle\"},\"mode\":\"markers\",\"name\":\"Belveth\",\"orientation\":\"v\",\"showlegend\":true,\"x\":[21334.0],\"xaxis\":\"x\",\"y\":[32014.0],\"yaxis\":\"y\",\"type\":\"scatter\"},{\"hovertemplate\":\"CHAMPIONNAME=Blitzcrank<br>TOTALDAMAGEDEALTTOCHAMPIONS=%{x}<br>TOTALDAMAGETAKEN=%{y}<extra></extra>\",\"legendgroup\":\"Blitzcrank\",\"marker\":{\"color\":\"#00cc96\",\"symbol\":\"circle\"},\"mode\":\"markers\",\"name\":\"Blitzcrank\",\"orientation\":\"v\",\"showlegend\":true,\"x\":[6830.0],\"xaxis\":\"x\",\"y\":[14925.0],\"yaxis\":\"y\",\"type\":\"scatter\"},{\"hovertemplate\":\"CHAMPIONNAME=Brand<br>TOTALDAMAGEDEALTTOCHAMPIONS=%{x}<br>TOTALDAMAGETAKEN=%{y}<extra></extra>\",\"legendgroup\":\"Brand\",\"marker\":{\"color\":\"#ab63fa\",\"symbol\":\"circle\"},\"mode\":\"markers\",\"name\":\"Brand\",\"orientation\":\"v\",\"showlegend\":true,\"x\":[20377.0],\"xaxis\":\"x\",\"y\":[18339.0],\"yaxis\":\"y\",\"type\":\"scatter\"},{\"hovertemplate\":\"CHAMPIONNAME=Braum<br>TOTALDAMAGEDEALTTOCHAMPIONS=%{x}<br>TOTALDAMAGETAKEN=%{y}<extra></extra>\",\"legendgroup\":\"Braum\",\"marker\":{\"color\":\"#FFA15A\",\"symbol\":\"circle\"},\"mode\":\"markers\",\"name\":\"Braum\",\"orientation\":\"v\",\"showlegend\":true,\"x\":[5787.0],\"xaxis\":\"x\",\"y\":[21223.0],\"yaxis\":\"y\",\"type\":\"scatter\"},{\"hovertemplate\":\"CHAMPIONNAME=Camille<br>TOTALDAMAGEDEALTTOCHAMPIONS=%{x}<br>TOTALDAMAGETAKEN=%{y}<extra></extra>\",\"legendgroup\":\"Camille\",\"marker\":{\"color\":\"#19d3f3\",\"symbol\":\"circle\"},\"mode\":\"markers\",\"name\":\"Camille\",\"orientation\":\"v\",\"showlegend\":true,\"x\":[11490.0],\"xaxis\":\"x\",\"y\":[25260.0],\"yaxis\":\"y\",\"type\":\"scatter\"},{\"hovertemplate\":\"CHAMPIONNAME=Cassiopeia<br>TOTALDAMAGEDEALTTOCHAMPIONS=%{x}<br>TOTALDAMAGETAKEN=%{y}<extra></extra>\",\"legendgroup\":\"Cassiopeia\",\"marker\":{\"color\":\"#FF6692\",\"symbol\":\"circle\"},\"mode\":\"markers\",\"name\":\"Cassiopeia\",\"orientation\":\"v\",\"showlegend\":true,\"x\":[24326.0],\"xaxis\":\"x\",\"y\":[20931.0],\"yaxis\":\"y\",\"type\":\"scatter\"},{\"hovertemplate\":\"CHAMPIONNAME=Chogath<br>TOTALDAMAGEDEALTTOCHAMPIONS=%{x}<br>TOTALDAMAGETAKEN=%{y}<extra></extra>\",\"legendgroup\":\"Chogath\",\"marker\":{\"color\":\"#B6E880\",\"symbol\":\"circle\"},\"mode\":\"markers\",\"name\":\"Chogath\",\"orientation\":\"v\",\"showlegend\":true,\"x\":[29358.0],\"xaxis\":\"x\",\"y\":[44452.0],\"yaxis\":\"y\",\"type\":\"scatter\"},{\"hovertemplate\":\"CHAMPIONNAME=Corki<br>TOTALDAMAGEDEALTTOCHAMPIONS=%{x}<br>TOTALDAMAGETAKEN=%{y}<extra></extra>\",\"legendgroup\":\"Corki\",\"marker\":{\"color\":\"#FF97FF\",\"symbol\":\"circle\"},\"mode\":\"markers\",\"name\":\"Corki\",\"orientation\":\"v\",\"showlegend\":true,\"x\":[29494.0],\"xaxis\":\"x\",\"y\":[16220.0],\"yaxis\":\"y\",\"type\":\"scatter\"},{\"hovertemplate\":\"CHAMPIONNAME=Darius<br>TOTALDAMAGEDEALTTOCHAMPIONS=%{x}<br>TOTALDAMAGETAKEN=%{y}<extra></extra>\",\"legendgroup\":\"Darius\",\"marker\":{\"color\":\"#FECB52\",\"symbol\":\"circle\"},\"mode\":\"markers\",\"name\":\"Darius\",\"orientation\":\"v\",\"showlegend\":true,\"x\":[8246.0],\"xaxis\":\"x\",\"y\":[23878.0],\"yaxis\":\"y\",\"type\":\"scatter\"},{\"hovertemplate\":\"CHAMPIONNAME=Diana<br>TOTALDAMAGEDEALTTOCHAMPIONS=%{x}<br>TOTALDAMAGETAKEN=%{y}<extra></extra>\",\"legendgroup\":\"Diana\",\"marker\":{\"color\":\"#636efa\",\"symbol\":\"circle\"},\"mode\":\"markers\",\"name\":\"Diana\",\"orientation\":\"v\",\"showlegend\":true,\"x\":[21691.0],\"xaxis\":\"x\",\"y\":[30035.0],\"yaxis\":\"y\",\"type\":\"scatter\"},{\"hovertemplate\":\"CHAMPIONNAME=DrMundo<br>TOTALDAMAGEDEALTTOCHAMPIONS=%{x}<br>TOTALDAMAGETAKEN=%{y}<extra></extra>\",\"legendgroup\":\"DrMundo\",\"marker\":{\"color\":\"#EF553B\",\"symbol\":\"circle\"},\"mode\":\"markers\",\"name\":\"DrMundo\",\"orientation\":\"v\",\"showlegend\":true,\"x\":[13983.0],\"xaxis\":\"x\",\"y\":[21316.0],\"yaxis\":\"y\",\"type\":\"scatter\"},{\"hovertemplate\":\"CHAMPIONNAME=Draven<br>TOTALDAMAGEDEALTTOCHAMPIONS=%{x}<br>TOTALDAMAGETAKEN=%{y}<extra></extra>\",\"legendgroup\":\"Draven\",\"marker\":{\"color\":\"#00cc96\",\"symbol\":\"circle\"},\"mode\":\"markers\",\"name\":\"Draven\",\"orientation\":\"v\",\"showlegend\":true,\"x\":[21717.0],\"xaxis\":\"x\",\"y\":[21521.0],\"yaxis\":\"y\",\"type\":\"scatter\"},{\"hovertemplate\":\"CHAMPIONNAME=Ekko<br>TOTALDAMAGEDEALTTOCHAMPIONS=%{x}<br>TOTALDAMAGETAKEN=%{y}<extra></extra>\",\"legendgroup\":\"Ekko\",\"marker\":{\"color\":\"#ab63fa\",\"symbol\":\"circle\"},\"mode\":\"markers\",\"name\":\"Ekko\",\"orientation\":\"v\",\"showlegend\":true,\"x\":[25738.0],\"xaxis\":\"x\",\"y\":[29958.0],\"yaxis\":\"y\",\"type\":\"scatter\"},{\"hovertemplate\":\"CHAMPIONNAME=Elise<br>TOTALDAMAGEDEALTTOCHAMPIONS=%{x}<br>TOTALDAMAGETAKEN=%{y}<extra></extra>\",\"legendgroup\":\"Elise\",\"marker\":{\"color\":\"#FFA15A\",\"symbol\":\"circle\"},\"mode\":\"markers\",\"name\":\"Elise\",\"orientation\":\"v\",\"showlegend\":true,\"x\":[9431.0],\"xaxis\":\"x\",\"y\":[8866.0],\"yaxis\":\"y\",\"type\":\"scatter\"},{\"hovertemplate\":\"CHAMPIONNAME=Evelynn<br>TOTALDAMAGEDEALTTOCHAMPIONS=%{x}<br>TOTALDAMAGETAKEN=%{y}<extra></extra>\",\"legendgroup\":\"Evelynn\",\"marker\":{\"color\":\"#19d3f3\",\"symbol\":\"circle\"},\"mode\":\"markers\",\"name\":\"Evelynn\",\"orientation\":\"v\",\"showlegend\":true,\"x\":[16143.0],\"xaxis\":\"x\",\"y\":[22765.0],\"yaxis\":\"y\",\"type\":\"scatter\"},{\"hovertemplate\":\"CHAMPIONNAME=Ezreal<br>TOTALDAMAGEDEALTTOCHAMPIONS=%{x}<br>TOTALDAMAGETAKEN=%{y}<extra></extra>\",\"legendgroup\":\"Ezreal\",\"marker\":{\"color\":\"#FF6692\",\"symbol\":\"circle\"},\"mode\":\"markers\",\"name\":\"Ezreal\",\"orientation\":\"v\",\"showlegend\":true,\"x\":[20353.0],\"xaxis\":\"x\",\"y\":[14825.0],\"yaxis\":\"y\",\"type\":\"scatter\"},{\"hovertemplate\":\"CHAMPIONNAME=FiddleSticks<br>TOTALDAMAGEDEALTTOCHAMPIONS=%{x}<br>TOTALDAMAGETAKEN=%{y}<extra></extra>\",\"legendgroup\":\"FiddleSticks\",\"marker\":{\"color\":\"#B6E880\",\"symbol\":\"circle\"},\"mode\":\"markers\",\"name\":\"FiddleSticks\",\"orientation\":\"v\",\"showlegend\":true,\"x\":[20516.0],\"xaxis\":\"x\",\"y\":[33538.0],\"yaxis\":\"y\",\"type\":\"scatter\"},{\"hovertemplate\":\"CHAMPIONNAME=Fiora<br>TOTALDAMAGEDEALTTOCHAMPIONS=%{x}<br>TOTALDAMAGETAKEN=%{y}<extra></extra>\",\"legendgroup\":\"Fiora\",\"marker\":{\"color\":\"#FF97FF\",\"symbol\":\"circle\"},\"mode\":\"markers\",\"name\":\"Fiora\",\"orientation\":\"v\",\"showlegend\":true,\"x\":[14200.0],\"xaxis\":\"x\",\"y\":[25087.0],\"yaxis\":\"y\",\"type\":\"scatter\"},{\"hovertemplate\":\"CHAMPIONNAME=Fizz<br>TOTALDAMAGEDEALTTOCHAMPIONS=%{x}<br>TOTALDAMAGETAKEN=%{y}<extra></extra>\",\"legendgroup\":\"Fizz\",\"marker\":{\"color\":\"#FECB52\",\"symbol\":\"circle\"},\"mode\":\"markers\",\"name\":\"Fizz\",\"orientation\":\"v\",\"showlegend\":true,\"x\":[17169.0],\"xaxis\":\"x\",\"y\":[25383.0],\"yaxis\":\"y\",\"type\":\"scatter\"},{\"hovertemplate\":\"CHAMPIONNAME=Galio<br>TOTALDAMAGEDEALTTOCHAMPIONS=%{x}<br>TOTALDAMAGETAKEN=%{y}<extra></extra>\",\"legendgroup\":\"Galio\",\"marker\":{\"color\":\"#636efa\",\"symbol\":\"circle\"},\"mode\":\"markers\",\"name\":\"Galio\",\"orientation\":\"v\",\"showlegend\":true,\"x\":[6864.0],\"xaxis\":\"x\",\"y\":[11948.0],\"yaxis\":\"y\",\"type\":\"scatter\"},{\"hovertemplate\":\"CHAMPIONNAME=Gangplank<br>TOTALDAMAGEDEALTTOCHAMPIONS=%{x}<br>TOTALDAMAGETAKEN=%{y}<extra></extra>\",\"legendgroup\":\"Gangplank\",\"marker\":{\"color\":\"#EF553B\",\"symbol\":\"circle\"},\"mode\":\"markers\",\"name\":\"Gangplank\",\"orientation\":\"v\",\"showlegend\":true,\"x\":[29002.0],\"xaxis\":\"x\",\"y\":[32925.0],\"yaxis\":\"y\",\"type\":\"scatter\"},{\"hovertemplate\":\"CHAMPIONNAME=Garen<br>TOTALDAMAGEDEALTTOCHAMPIONS=%{x}<br>TOTALDAMAGETAKEN=%{y}<extra></extra>\",\"legendgroup\":\"Garen\",\"marker\":{\"color\":\"#00cc96\",\"symbol\":\"circle\"},\"mode\":\"markers\",\"name\":\"Garen\",\"orientation\":\"v\",\"showlegend\":true,\"x\":[7012.0],\"xaxis\":\"x\",\"y\":[7342.0],\"yaxis\":\"y\",\"type\":\"scatter\"},{\"hovertemplate\":\"CHAMPIONNAME=Gnar<br>TOTALDAMAGEDEALTTOCHAMPIONS=%{x}<br>TOTALDAMAGETAKEN=%{y}<extra></extra>\",\"legendgroup\":\"Gnar\",\"marker\":{\"color\":\"#ab63fa\",\"symbol\":\"circle\"},\"mode\":\"markers\",\"name\":\"Gnar\",\"orientation\":\"v\",\"showlegend\":true,\"x\":[21079.0],\"xaxis\":\"x\",\"y\":[29363.0],\"yaxis\":\"y\",\"type\":\"scatter\"},{\"hovertemplate\":\"CHAMPIONNAME=Gragas<br>TOTALDAMAGEDEALTTOCHAMPIONS=%{x}<br>TOTALDAMAGETAKEN=%{y}<extra></extra>\",\"legendgroup\":\"Gragas\",\"marker\":{\"color\":\"#FFA15A\",\"symbol\":\"circle\"},\"mode\":\"markers\",\"name\":\"Gragas\",\"orientation\":\"v\",\"showlegend\":true,\"x\":[21474.0],\"xaxis\":\"x\",\"y\":[24487.0],\"yaxis\":\"y\",\"type\":\"scatter\"},{\"hovertemplate\":\"CHAMPIONNAME=Graves<br>TOTALDAMAGEDEALTTOCHAMPIONS=%{x}<br>TOTALDAMAGETAKEN=%{y}<extra></extra>\",\"legendgroup\":\"Graves\",\"marker\":{\"color\":\"#19d3f3\",\"symbol\":\"circle\"},\"mode\":\"markers\",\"name\":\"Graves\",\"orientation\":\"v\",\"showlegend\":true,\"x\":[22946.0],\"xaxis\":\"x\",\"y\":[25627.0],\"yaxis\":\"y\",\"type\":\"scatter\"},{\"hovertemplate\":\"CHAMPIONNAME=Gwen<br>TOTALDAMAGEDEALTTOCHAMPIONS=%{x}<br>TOTALDAMAGETAKEN=%{y}<extra></extra>\",\"legendgroup\":\"Gwen\",\"marker\":{\"color\":\"#FF6692\",\"symbol\":\"circle\"},\"mode\":\"markers\",\"name\":\"Gwen\",\"orientation\":\"v\",\"showlegend\":true,\"x\":[23453.0],\"xaxis\":\"x\",\"y\":[27549.0],\"yaxis\":\"y\",\"type\":\"scatter\"},{\"hovertemplate\":\"CHAMPIONNAME=Hecarim<br>TOTALDAMAGEDEALTTOCHAMPIONS=%{x}<br>TOTALDAMAGETAKEN=%{y}<extra></extra>\",\"legendgroup\":\"Hecarim\",\"marker\":{\"color\":\"#B6E880\",\"symbol\":\"circle\"},\"mode\":\"markers\",\"name\":\"Hecarim\",\"orientation\":\"v\",\"showlegend\":true,\"x\":[21042.0],\"xaxis\":\"x\",\"y\":[36181.0],\"yaxis\":\"y\",\"type\":\"scatter\"},{\"hovertemplate\":\"CHAMPIONNAME=Heimerdinger<br>TOTALDAMAGEDEALTTOCHAMPIONS=%{x}<br>TOTALDAMAGETAKEN=%{y}<extra></extra>\",\"legendgroup\":\"Heimerdinger\",\"marker\":{\"color\":\"#FF97FF\",\"symbol\":\"circle\"},\"mode\":\"markers\",\"name\":\"Heimerdinger\",\"orientation\":\"v\",\"showlegend\":true,\"x\":[6581.0],\"xaxis\":\"x\",\"y\":[8293.0],\"yaxis\":\"y\",\"type\":\"scatter\"},{\"hovertemplate\":\"CHAMPIONNAME=Irelia<br>TOTALDAMAGEDEALTTOCHAMPIONS=%{x}<br>TOTALDAMAGETAKEN=%{y}<extra></extra>\",\"legendgroup\":\"Irelia\",\"marker\":{\"color\":\"#FECB52\",\"symbol\":\"circle\"},\"mode\":\"markers\",\"name\":\"Irelia\",\"orientation\":\"v\",\"showlegend\":true,\"x\":[27091.0],\"xaxis\":\"x\",\"y\":[32134.0],\"yaxis\":\"y\",\"type\":\"scatter\"},{\"hovertemplate\":\"CHAMPIONNAME=Ivern<br>TOTALDAMAGEDEALTTOCHAMPIONS=%{x}<br>TOTALDAMAGETAKEN=%{y}<extra></extra>\",\"legendgroup\":\"Ivern\",\"marker\":{\"color\":\"#636efa\",\"symbol\":\"circle\"},\"mode\":\"markers\",\"name\":\"Ivern\",\"orientation\":\"v\",\"showlegend\":true,\"x\":[4440.0],\"xaxis\":\"x\",\"y\":[13450.0],\"yaxis\":\"y\",\"type\":\"scatter\"},{\"hovertemplate\":\"CHAMPIONNAME=Janna<br>TOTALDAMAGEDEALTTOCHAMPIONS=%{x}<br>TOTALDAMAGETAKEN=%{y}<extra></extra>\",\"legendgroup\":\"Janna\",\"marker\":{\"color\":\"#EF553B\",\"symbol\":\"circle\"},\"mode\":\"markers\",\"name\":\"Janna\",\"orientation\":\"v\",\"showlegend\":true,\"x\":[5439.0],\"xaxis\":\"x\",\"y\":[12412.0],\"yaxis\":\"y\",\"type\":\"scatter\"},{\"hovertemplate\":\"CHAMPIONNAME=JarvanIV<br>TOTALDAMAGEDEALTTOCHAMPIONS=%{x}<br>TOTALDAMAGETAKEN=%{y}<extra></extra>\",\"legendgroup\":\"JarvanIV\",\"marker\":{\"color\":\"#00cc96\",\"symbol\":\"circle\"},\"mode\":\"markers\",\"name\":\"JarvanIV\",\"orientation\":\"v\",\"showlegend\":true,\"x\":[5943.0],\"xaxis\":\"x\",\"y\":[18111.0],\"yaxis\":\"y\",\"type\":\"scatter\"},{\"hovertemplate\":\"CHAMPIONNAME=Jax<br>TOTALDAMAGEDEALTTOCHAMPIONS=%{x}<br>TOTALDAMAGETAKEN=%{y}<extra></extra>\",\"legendgroup\":\"Jax\",\"marker\":{\"color\":\"#ab63fa\",\"symbol\":\"circle\"},\"mode\":\"markers\",\"name\":\"Jax\",\"orientation\":\"v\",\"showlegend\":true,\"x\":[20138.0],\"xaxis\":\"x\",\"y\":[25140.0],\"yaxis\":\"y\",\"type\":\"scatter\"},{\"hovertemplate\":\"CHAMPIONNAME=Jayce<br>TOTALDAMAGEDEALTTOCHAMPIONS=%{x}<br>TOTALDAMAGETAKEN=%{y}<extra></extra>\",\"legendgroup\":\"Jayce\",\"marker\":{\"color\":\"#FFA15A\",\"symbol\":\"circle\"},\"mode\":\"markers\",\"name\":\"Jayce\",\"orientation\":\"v\",\"showlegend\":true,\"x\":[23914.0],\"xaxis\":\"x\",\"y\":[20045.0],\"yaxis\":\"y\",\"type\":\"scatter\"},{\"hovertemplate\":\"CHAMPIONNAME=Jhin<br>TOTALDAMAGEDEALTTOCHAMPIONS=%{x}<br>TOTALDAMAGETAKEN=%{y}<extra></extra>\",\"legendgroup\":\"Jhin\",\"marker\":{\"color\":\"#19d3f3\",\"symbol\":\"circle\"},\"mode\":\"markers\",\"name\":\"Jhin\",\"orientation\":\"v\",\"showlegend\":true,\"x\":[27253.0],\"xaxis\":\"x\",\"y\":[21906.0],\"yaxis\":\"y\",\"type\":\"scatter\"},{\"hovertemplate\":\"CHAMPIONNAME=Jinx<br>TOTALDAMAGEDEALTTOCHAMPIONS=%{x}<br>TOTALDAMAGETAKEN=%{y}<extra></extra>\",\"legendgroup\":\"Jinx\",\"marker\":{\"color\":\"#FF6692\",\"symbol\":\"circle\"},\"mode\":\"markers\",\"name\":\"Jinx\",\"orientation\":\"v\",\"showlegend\":true,\"x\":[16358.0],\"xaxis\":\"x\",\"y\":[20377.0],\"yaxis\":\"y\",\"type\":\"scatter\"},{\"hovertemplate\":\"CHAMPIONNAME=Kaisa<br>TOTALDAMAGEDEALTTOCHAMPIONS=%{x}<br>TOTALDAMAGETAKEN=%{y}<extra></extra>\",\"legendgroup\":\"Kaisa\",\"marker\":{\"color\":\"#B6E880\",\"symbol\":\"circle\"},\"mode\":\"markers\",\"name\":\"Kaisa\",\"orientation\":\"v\",\"showlegend\":true,\"x\":[13804.0],\"xaxis\":\"x\",\"y\":[15725.0],\"yaxis\":\"y\",\"type\":\"scatter\"},{\"hovertemplate\":\"CHAMPIONNAME=Kalista<br>TOTALDAMAGEDEALTTOCHAMPIONS=%{x}<br>TOTALDAMAGETAKEN=%{y}<extra></extra>\",\"legendgroup\":\"Kalista\",\"marker\":{\"color\":\"#FF97FF\",\"symbol\":\"circle\"},\"mode\":\"markers\",\"name\":\"Kalista\",\"orientation\":\"v\",\"showlegend\":true,\"x\":[13614.0],\"xaxis\":\"x\",\"y\":[20018.0],\"yaxis\":\"y\",\"type\":\"scatter\"},{\"hovertemplate\":\"CHAMPIONNAME=Karma<br>TOTALDAMAGEDEALTTOCHAMPIONS=%{x}<br>TOTALDAMAGETAKEN=%{y}<extra></extra>\",\"legendgroup\":\"Karma\",\"marker\":{\"color\":\"#FECB52\",\"symbol\":\"circle\"},\"mode\":\"markers\",\"name\":\"Karma\",\"orientation\":\"v\",\"showlegend\":true,\"x\":[6946.0],\"xaxis\":\"x\",\"y\":[14432.0],\"yaxis\":\"y\",\"type\":\"scatter\"},{\"hovertemplate\":\"CHAMPIONNAME=Karthus<br>TOTALDAMAGEDEALTTOCHAMPIONS=%{x}<br>TOTALDAMAGETAKEN=%{y}<extra></extra>\",\"legendgroup\":\"Karthus\",\"marker\":{\"color\":\"#636efa\",\"symbol\":\"circle\"},\"mode\":\"markers\",\"name\":\"Karthus\",\"orientation\":\"v\",\"showlegend\":true,\"x\":[30773.0],\"xaxis\":\"x\",\"y\":[26077.0],\"yaxis\":\"y\",\"type\":\"scatter\"},{\"hovertemplate\":\"CHAMPIONNAME=Kassadin<br>TOTALDAMAGEDEALTTOCHAMPIONS=%{x}<br>TOTALDAMAGETAKEN=%{y}<extra></extra>\",\"legendgroup\":\"Kassadin\",\"marker\":{\"color\":\"#EF553B\",\"symbol\":\"circle\"},\"mode\":\"markers\",\"name\":\"Kassadin\",\"orientation\":\"v\",\"showlegend\":true,\"x\":[18637.0],\"xaxis\":\"x\",\"y\":[28475.0],\"yaxis\":\"y\",\"type\":\"scatter\"},{\"hovertemplate\":\"CHAMPIONNAME=Katarina<br>TOTALDAMAGEDEALTTOCHAMPIONS=%{x}<br>TOTALDAMAGETAKEN=%{y}<extra></extra>\",\"legendgroup\":\"Katarina\",\"marker\":{\"color\":\"#00cc96\",\"symbol\":\"circle\"},\"mode\":\"markers\",\"name\":\"Katarina\",\"orientation\":\"v\",\"showlegend\":true,\"x\":[21348.0],\"xaxis\":\"x\",\"y\":[9804.0],\"yaxis\":\"y\",\"type\":\"scatter\"},{\"hovertemplate\":\"CHAMPIONNAME=Kayle<br>TOTALDAMAGEDEALTTOCHAMPIONS=%{x}<br>TOTALDAMAGETAKEN=%{y}<extra></extra>\",\"legendgroup\":\"Kayle\",\"marker\":{\"color\":\"#ab63fa\",\"symbol\":\"circle\"},\"mode\":\"markers\",\"name\":\"Kayle\",\"orientation\":\"v\",\"showlegend\":true,\"x\":[6931.0],\"xaxis\":\"x\",\"y\":[16510.0],\"yaxis\":\"y\",\"type\":\"scatter\"},{\"hovertemplate\":\"CHAMPIONNAME=Kayn<br>TOTALDAMAGEDEALTTOCHAMPIONS=%{x}<br>TOTALDAMAGETAKEN=%{y}<extra></extra>\",\"legendgroup\":\"Kayn\",\"marker\":{\"color\":\"#FFA15A\",\"symbol\":\"circle\"},\"mode\":\"markers\",\"name\":\"Kayn\",\"orientation\":\"v\",\"showlegend\":true,\"x\":[25182.0],\"xaxis\":\"x\",\"y\":[34994.0],\"yaxis\":\"y\",\"type\":\"scatter\"},{\"hovertemplate\":\"CHAMPIONNAME=Kennen<br>TOTALDAMAGEDEALTTOCHAMPIONS=%{x}<br>TOTALDAMAGETAKEN=%{y}<extra></extra>\",\"legendgroup\":\"Kennen\",\"marker\":{\"color\":\"#19d3f3\",\"symbol\":\"circle\"},\"mode\":\"markers\",\"name\":\"Kennen\",\"orientation\":\"v\",\"showlegend\":true,\"x\":[33211.0],\"xaxis\":\"x\",\"y\":[28039.0],\"yaxis\":\"y\",\"type\":\"scatter\"},{\"hovertemplate\":\"CHAMPIONNAME=Khazix<br>TOTALDAMAGEDEALTTOCHAMPIONS=%{x}<br>TOTALDAMAGETAKEN=%{y}<extra></extra>\",\"legendgroup\":\"Khazix\",\"marker\":{\"color\":\"#FF6692\",\"symbol\":\"circle\"},\"mode\":\"markers\",\"name\":\"Khazix\",\"orientation\":\"v\",\"showlegend\":true,\"x\":[20405.0],\"xaxis\":\"x\",\"y\":[27466.0],\"yaxis\":\"y\",\"type\":\"scatter\"},{\"hovertemplate\":\"CHAMPIONNAME=Kindred<br>TOTALDAMAGEDEALTTOCHAMPIONS=%{x}<br>TOTALDAMAGETAKEN=%{y}<extra></extra>\",\"legendgroup\":\"Kindred\",\"marker\":{\"color\":\"#B6E880\",\"symbol\":\"circle\"},\"mode\":\"markers\",\"name\":\"Kindred\",\"orientation\":\"v\",\"showlegend\":true,\"x\":[22063.0],\"xaxis\":\"x\",\"y\":[19533.0],\"yaxis\":\"y\",\"type\":\"scatter\"},{\"hovertemplate\":\"CHAMPIONNAME=Kled<br>TOTALDAMAGEDEALTTOCHAMPIONS=%{x}<br>TOTALDAMAGETAKEN=%{y}<extra></extra>\",\"legendgroup\":\"Kled\",\"marker\":{\"color\":\"#FF97FF\",\"symbol\":\"circle\"},\"mode\":\"markers\",\"name\":\"Kled\",\"orientation\":\"v\",\"showlegend\":true,\"x\":[13953.0],\"xaxis\":\"x\",\"y\":[24927.0],\"yaxis\":\"y\",\"type\":\"scatter\"},{\"hovertemplate\":\"CHAMPIONNAME=KogMaw<br>TOTALDAMAGEDEALTTOCHAMPIONS=%{x}<br>TOTALDAMAGETAKEN=%{y}<extra></extra>\",\"legendgroup\":\"KogMaw\",\"marker\":{\"color\":\"#FECB52\",\"symbol\":\"circle\"},\"mode\":\"markers\",\"name\":\"KogMaw\",\"orientation\":\"v\",\"showlegend\":true,\"x\":[23044.0],\"xaxis\":\"x\",\"y\":[21779.0],\"yaxis\":\"y\",\"type\":\"scatter\"},{\"hovertemplate\":\"CHAMPIONNAME=Leblanc<br>TOTALDAMAGEDEALTTOCHAMPIONS=%{x}<br>TOTALDAMAGETAKEN=%{y}<extra></extra>\",\"legendgroup\":\"Leblanc\",\"marker\":{\"color\":\"#636efa\",\"symbol\":\"circle\"},\"mode\":\"markers\",\"name\":\"Leblanc\",\"orientation\":\"v\",\"showlegend\":true,\"x\":[20172.0],\"xaxis\":\"x\",\"y\":[20260.0],\"yaxis\":\"y\",\"type\":\"scatter\"},{\"hovertemplate\":\"CHAMPIONNAME=LeeSin<br>TOTALDAMAGEDEALTTOCHAMPIONS=%{x}<br>TOTALDAMAGETAKEN=%{y}<extra></extra>\",\"legendgroup\":\"LeeSin\",\"marker\":{\"color\":\"#EF553B\",\"symbol\":\"circle\"},\"mode\":\"markers\",\"name\":\"LeeSin\",\"orientation\":\"v\",\"showlegend\":true,\"x\":[14674.0],\"xaxis\":\"x\",\"y\":[29270.0],\"yaxis\":\"y\",\"type\":\"scatter\"},{\"hovertemplate\":\"CHAMPIONNAME=Leona<br>TOTALDAMAGEDEALTTOCHAMPIONS=%{x}<br>TOTALDAMAGETAKEN=%{y}<extra></extra>\",\"legendgroup\":\"Leona\",\"marker\":{\"color\":\"#00cc96\",\"symbol\":\"circle\"},\"mode\":\"markers\",\"name\":\"Leona\",\"orientation\":\"v\",\"showlegend\":true,\"x\":[6006.0],\"xaxis\":\"x\",\"y\":[20238.0],\"yaxis\":\"y\",\"type\":\"scatter\"},{\"hovertemplate\":\"CHAMPIONNAME=Lillia<br>TOTALDAMAGEDEALTTOCHAMPIONS=%{x}<br>TOTALDAMAGETAKEN=%{y}<extra></extra>\",\"legendgroup\":\"Lillia\",\"marker\":{\"color\":\"#ab63fa\",\"symbol\":\"circle\"},\"mode\":\"markers\",\"name\":\"Lillia\",\"orientation\":\"v\",\"showlegend\":true,\"x\":[18139.0],\"xaxis\":\"x\",\"y\":[20961.0],\"yaxis\":\"y\",\"type\":\"scatter\"},{\"hovertemplate\":\"CHAMPIONNAME=Lissandra<br>TOTALDAMAGEDEALTTOCHAMPIONS=%{x}<br>TOTALDAMAGETAKEN=%{y}<extra></extra>\",\"legendgroup\":\"Lissandra\",\"marker\":{\"color\":\"#FFA15A\",\"symbol\":\"circle\"},\"mode\":\"markers\",\"name\":\"Lissandra\",\"orientation\":\"v\",\"showlegend\":true,\"x\":[24313.0],\"xaxis\":\"x\",\"y\":[27243.0],\"yaxis\":\"y\",\"type\":\"scatter\"},{\"hovertemplate\":\"CHAMPIONNAME=Lucian<br>TOTALDAMAGEDEALTTOCHAMPIONS=%{x}<br>TOTALDAMAGETAKEN=%{y}<extra></extra>\",\"legendgroup\":\"Lucian\",\"marker\":{\"color\":\"#19d3f3\",\"symbol\":\"circle\"},\"mode\":\"markers\",\"name\":\"Lucian\",\"orientation\":\"v\",\"showlegend\":true,\"x\":[20161.0],\"xaxis\":\"x\",\"y\":[20066.0],\"yaxis\":\"y\",\"type\":\"scatter\"},{\"hovertemplate\":\"CHAMPIONNAME=Lulu<br>TOTALDAMAGEDEALTTOCHAMPIONS=%{x}<br>TOTALDAMAGETAKEN=%{y}<extra></extra>\",\"legendgroup\":\"Lulu\",\"marker\":{\"color\":\"#FF6692\",\"symbol\":\"circle\"},\"mode\":\"markers\",\"name\":\"Lulu\",\"orientation\":\"v\",\"showlegend\":true,\"x\":[6737.0],\"xaxis\":\"x\",\"y\":[13785.0],\"yaxis\":\"y\",\"type\":\"scatter\"},{\"hovertemplate\":\"CHAMPIONNAME=Malphite<br>TOTALDAMAGEDEALTTOCHAMPIONS=%{x}<br>TOTALDAMAGETAKEN=%{y}<extra></extra>\",\"legendgroup\":\"Malphite\",\"marker\":{\"color\":\"#B6E880\",\"symbol\":\"circle\"},\"mode\":\"markers\",\"name\":\"Malphite\",\"orientation\":\"v\",\"showlegend\":true,\"x\":[20858.0],\"xaxis\":\"x\",\"y\":[29446.0],\"yaxis\":\"y\",\"type\":\"scatter\"},{\"hovertemplate\":\"CHAMPIONNAME=Malzahar<br>TOTALDAMAGEDEALTTOCHAMPIONS=%{x}<br>TOTALDAMAGETAKEN=%{y}<extra></extra>\",\"legendgroup\":\"Malzahar\",\"marker\":{\"color\":\"#FF97FF\",\"symbol\":\"circle\"},\"mode\":\"markers\",\"name\":\"Malzahar\",\"orientation\":\"v\",\"showlegend\":true,\"x\":[18329.0],\"xaxis\":\"x\",\"y\":[16301.0],\"yaxis\":\"y\",\"type\":\"scatter\"},{\"hovertemplate\":\"CHAMPIONNAME=Maokai<br>TOTALDAMAGEDEALTTOCHAMPIONS=%{x}<br>TOTALDAMAGETAKEN=%{y}<extra></extra>\",\"legendgroup\":\"Maokai\",\"marker\":{\"color\":\"#FECB52\",\"symbol\":\"circle\"},\"mode\":\"markers\",\"name\":\"Maokai\",\"orientation\":\"v\",\"showlegend\":true,\"x\":[12803.0],\"xaxis\":\"x\",\"y\":[22688.0],\"yaxis\":\"y\",\"type\":\"scatter\"},{\"hovertemplate\":\"CHAMPIONNAME=MasterYi<br>TOTALDAMAGEDEALTTOCHAMPIONS=%{x}<br>TOTALDAMAGETAKEN=%{y}<extra></extra>\",\"legendgroup\":\"MasterYi\",\"marker\":{\"color\":\"#636efa\",\"symbol\":\"circle\"},\"mode\":\"markers\",\"name\":\"MasterYi\",\"orientation\":\"v\",\"showlegend\":true,\"x\":[15820.0],\"xaxis\":\"x\",\"y\":[28705.0],\"yaxis\":\"y\",\"type\":\"scatter\"},{\"hovertemplate\":\"CHAMPIONNAME=MissFortune<br>TOTALDAMAGEDEALTTOCHAMPIONS=%{x}<br>TOTALDAMAGETAKEN=%{y}<extra></extra>\",\"legendgroup\":\"MissFortune\",\"marker\":{\"color\":\"#EF553B\",\"symbol\":\"circle\"},\"mode\":\"markers\",\"name\":\"MissFortune\",\"orientation\":\"v\",\"showlegend\":true,\"x\":[27334.0],\"xaxis\":\"x\",\"y\":[23683.0],\"yaxis\":\"y\",\"type\":\"scatter\"},{\"hovertemplate\":\"CHAMPIONNAME=MonkeyKing<br>TOTALDAMAGEDEALTTOCHAMPIONS=%{x}<br>TOTALDAMAGETAKEN=%{y}<extra></extra>\",\"legendgroup\":\"MonkeyKing\",\"marker\":{\"color\":\"#00cc96\",\"symbol\":\"circle\"},\"mode\":\"markers\",\"name\":\"MonkeyKing\",\"orientation\":\"v\",\"showlegend\":true,\"x\":[17006.0],\"xaxis\":\"x\",\"y\":[30868.0],\"yaxis\":\"y\",\"type\":\"scatter\"},{\"hovertemplate\":\"CHAMPIONNAME=Mordekaiser<br>TOTALDAMAGEDEALTTOCHAMPIONS=%{x}<br>TOTALDAMAGETAKEN=%{y}<extra></extra>\",\"legendgroup\":\"Mordekaiser\",\"marker\":{\"color\":\"#ab63fa\",\"symbol\":\"circle\"},\"mode\":\"markers\",\"name\":\"Mordekaiser\",\"orientation\":\"v\",\"showlegend\":true,\"x\":[37149.0],\"xaxis\":\"x\",\"y\":[48465.0],\"yaxis\":\"y\",\"type\":\"scatter\"},{\"hovertemplate\":\"CHAMPIONNAME=Morgana<br>TOTALDAMAGEDEALTTOCHAMPIONS=%{x}<br>TOTALDAMAGETAKEN=%{y}<extra></extra>\",\"legendgroup\":\"Morgana\",\"marker\":{\"color\":\"#FFA15A\",\"symbol\":\"circle\"},\"mode\":\"markers\",\"name\":\"Morgana\",\"orientation\":\"v\",\"showlegend\":true,\"x\":[6081.0],\"xaxis\":\"x\",\"y\":[10945.0],\"yaxis\":\"y\",\"type\":\"scatter\"},{\"hovertemplate\":\"CHAMPIONNAME=Nami<br>TOTALDAMAGEDEALTTOCHAMPIONS=%{x}<br>TOTALDAMAGETAKEN=%{y}<extra></extra>\",\"legendgroup\":\"Nami\",\"marker\":{\"color\":\"#19d3f3\",\"symbol\":\"circle\"},\"mode\":\"markers\",\"name\":\"Nami\",\"orientation\":\"v\",\"showlegend\":true,\"x\":[6572.0],\"xaxis\":\"x\",\"y\":[13351.0],\"yaxis\":\"y\",\"type\":\"scatter\"},{\"hovertemplate\":\"CHAMPIONNAME=Nasus<br>TOTALDAMAGEDEALTTOCHAMPIONS=%{x}<br>TOTALDAMAGETAKEN=%{y}<extra></extra>\",\"legendgroup\":\"Nasus\",\"marker\":{\"color\":\"#FF6692\",\"symbol\":\"circle\"},\"mode\":\"markers\",\"name\":\"Nasus\",\"orientation\":\"v\",\"showlegend\":true,\"x\":[8752.0],\"xaxis\":\"x\",\"y\":[9438.0],\"yaxis\":\"y\",\"type\":\"scatter\"},{\"hovertemplate\":\"CHAMPIONNAME=Nautilus<br>TOTALDAMAGEDEALTTOCHAMPIONS=%{x}<br>TOTALDAMAGETAKEN=%{y}<extra></extra>\",\"legendgroup\":\"Nautilus\",\"marker\":{\"color\":\"#B6E880\",\"symbol\":\"circle\"},\"mode\":\"markers\",\"name\":\"Nautilus\",\"orientation\":\"v\",\"showlegend\":true,\"x\":[6926.0],\"xaxis\":\"x\",\"y\":[18315.0],\"yaxis\":\"y\",\"type\":\"scatter\"},{\"hovertemplate\":\"CHAMPIONNAME=Neeko<br>TOTALDAMAGEDEALTTOCHAMPIONS=%{x}<br>TOTALDAMAGETAKEN=%{y}<extra></extra>\",\"legendgroup\":\"Neeko\",\"marker\":{\"color\":\"#FF97FF\",\"symbol\":\"circle\"},\"mode\":\"markers\",\"name\":\"Neeko\",\"orientation\":\"v\",\"showlegend\":true,\"x\":[6965.0],\"xaxis\":\"x\",\"y\":[7594.0],\"yaxis\":\"y\",\"type\":\"scatter\"},{\"hovertemplate\":\"CHAMPIONNAME=Nidalee<br>TOTALDAMAGEDEALTTOCHAMPIONS=%{x}<br>TOTALDAMAGETAKEN=%{y}<extra></extra>\",\"legendgroup\":\"Nidalee\",\"marker\":{\"color\":\"#FECB52\",\"symbol\":\"circle\"},\"mode\":\"markers\",\"name\":\"Nidalee\",\"orientation\":\"v\",\"showlegend\":true,\"x\":[20237.0],\"xaxis\":\"x\",\"y\":[33021.0],\"yaxis\":\"y\",\"type\":\"scatter\"},{\"hovertemplate\":\"CHAMPIONNAME=Nilah<br>TOTALDAMAGEDEALTTOCHAMPIONS=%{x}<br>TOTALDAMAGETAKEN=%{y}<extra></extra>\",\"legendgroup\":\"Nilah\",\"marker\":{\"color\":\"#636efa\",\"symbol\":\"circle\"},\"mode\":\"markers\",\"name\":\"Nilah\",\"orientation\":\"v\",\"showlegend\":true,\"x\":[10021.0],\"xaxis\":\"x\",\"y\":[18483.0],\"yaxis\":\"y\",\"type\":\"scatter\"},{\"hovertemplate\":\"CHAMPIONNAME=Nocturne<br>TOTALDAMAGEDEALTTOCHAMPIONS=%{x}<br>TOTALDAMAGETAKEN=%{y}<extra></extra>\",\"legendgroup\":\"Nocturne\",\"marker\":{\"color\":\"#EF553B\",\"symbol\":\"circle\"},\"mode\":\"markers\",\"name\":\"Nocturne\",\"orientation\":\"v\",\"showlegend\":true,\"x\":[9178.0],\"xaxis\":\"x\",\"y\":[22625.0],\"yaxis\":\"y\",\"type\":\"scatter\"},{\"hovertemplate\":\"CHAMPIONNAME=Nunu<br>TOTALDAMAGEDEALTTOCHAMPIONS=%{x}<br>TOTALDAMAGETAKEN=%{y}<extra></extra>\",\"legendgroup\":\"Nunu\",\"marker\":{\"color\":\"#00cc96\",\"symbol\":\"circle\"},\"mode\":\"markers\",\"name\":\"Nunu\",\"orientation\":\"v\",\"showlegend\":true,\"x\":[26546.0],\"xaxis\":\"x\",\"y\":[33966.0],\"yaxis\":\"y\",\"type\":\"scatter\"},{\"hovertemplate\":\"CHAMPIONNAME=Orianna<br>TOTALDAMAGEDEALTTOCHAMPIONS=%{x}<br>TOTALDAMAGETAKEN=%{y}<extra></extra>\",\"legendgroup\":\"Orianna\",\"marker\":{\"color\":\"#ab63fa\",\"symbol\":\"circle\"},\"mode\":\"markers\",\"name\":\"Orianna\",\"orientation\":\"v\",\"showlegend\":true,\"x\":[14511.0],\"xaxis\":\"x\",\"y\":[12827.0],\"yaxis\":\"y\",\"type\":\"scatter\"},{\"hovertemplate\":\"CHAMPIONNAME=Ornn<br>TOTALDAMAGEDEALTTOCHAMPIONS=%{x}<br>TOTALDAMAGETAKEN=%{y}<extra></extra>\",\"legendgroup\":\"Ornn\",\"marker\":{\"color\":\"#FFA15A\",\"symbol\":\"circle\"},\"mode\":\"markers\",\"name\":\"Ornn\",\"orientation\":\"v\",\"showlegend\":true,\"x\":[13194.0],\"xaxis\":\"x\",\"y\":[26738.0],\"yaxis\":\"y\",\"type\":\"scatter\"},{\"hovertemplate\":\"CHAMPIONNAME=Pantheon<br>TOTALDAMAGEDEALTTOCHAMPIONS=%{x}<br>TOTALDAMAGETAKEN=%{y}<extra></extra>\",\"legendgroup\":\"Pantheon\",\"marker\":{\"color\":\"#19d3f3\",\"symbol\":\"circle\"},\"mode\":\"markers\",\"name\":\"Pantheon\",\"orientation\":\"v\",\"showlegend\":true,\"x\":[33178.0],\"xaxis\":\"x\",\"y\":[20738.0],\"yaxis\":\"y\",\"type\":\"scatter\"},{\"hovertemplate\":\"CHAMPIONNAME=Poppy<br>TOTALDAMAGEDEALTTOCHAMPIONS=%{x}<br>TOTALDAMAGETAKEN=%{y}<extra></extra>\",\"legendgroup\":\"Poppy\",\"marker\":{\"color\":\"#FF6692\",\"symbol\":\"circle\"},\"mode\":\"markers\",\"name\":\"Poppy\",\"orientation\":\"v\",\"showlegend\":true,\"x\":[10219.0],\"xaxis\":\"x\",\"y\":[15886.0],\"yaxis\":\"y\",\"type\":\"scatter\"},{\"hovertemplate\":\"CHAMPIONNAME=Pyke<br>TOTALDAMAGEDEALTTOCHAMPIONS=%{x}<br>TOTALDAMAGETAKEN=%{y}<extra></extra>\",\"legendgroup\":\"Pyke\",\"marker\":{\"color\":\"#B6E880\",\"symbol\":\"circle\"},\"mode\":\"markers\",\"name\":\"Pyke\",\"orientation\":\"v\",\"showlegend\":true,\"x\":[11426.0],\"xaxis\":\"x\",\"y\":[24425.0],\"yaxis\":\"y\",\"type\":\"scatter\"},{\"hovertemplate\":\"CHAMPIONNAME=Qiyana<br>TOTALDAMAGEDEALTTOCHAMPIONS=%{x}<br>TOTALDAMAGETAKEN=%{y}<extra></extra>\",\"legendgroup\":\"Qiyana\",\"marker\":{\"color\":\"#FF97FF\",\"symbol\":\"circle\"},\"mode\":\"markers\",\"name\":\"Qiyana\",\"orientation\":\"v\",\"showlegend\":true,\"x\":[34272.0],\"xaxis\":\"x\",\"y\":[34509.0],\"yaxis\":\"y\",\"type\":\"scatter\"},{\"hovertemplate\":\"CHAMPIONNAME=Quinn<br>TOTALDAMAGEDEALTTOCHAMPIONS=%{x}<br>TOTALDAMAGETAKEN=%{y}<extra></extra>\",\"legendgroup\":\"Quinn\",\"marker\":{\"color\":\"#FECB52\",\"symbol\":\"circle\"},\"mode\":\"markers\",\"name\":\"Quinn\",\"orientation\":\"v\",\"showlegend\":true,\"x\":[9050.0],\"xaxis\":\"x\",\"y\":[18333.0],\"yaxis\":\"y\",\"type\":\"scatter\"},{\"hovertemplate\":\"CHAMPIONNAME=Rakan<br>TOTALDAMAGEDEALTTOCHAMPIONS=%{x}<br>TOTALDAMAGETAKEN=%{y}<extra></extra>\",\"legendgroup\":\"Rakan\",\"marker\":{\"color\":\"#636efa\",\"symbol\":\"circle\"},\"mode\":\"markers\",\"name\":\"Rakan\",\"orientation\":\"v\",\"showlegend\":true,\"x\":[5518.0],\"xaxis\":\"x\",\"y\":[10914.0],\"yaxis\":\"y\",\"type\":\"scatter\"},{\"hovertemplate\":\"CHAMPIONNAME=RekSai<br>TOTALDAMAGEDEALTTOCHAMPIONS=%{x}<br>TOTALDAMAGETAKEN=%{y}<extra></extra>\",\"legendgroup\":\"RekSai\",\"marker\":{\"color\":\"#EF553B\",\"symbol\":\"circle\"},\"mode\":\"markers\",\"name\":\"RekSai\",\"orientation\":\"v\",\"showlegend\":true,\"x\":[13064.0],\"xaxis\":\"x\",\"y\":[20538.0],\"yaxis\":\"y\",\"type\":\"scatter\"},{\"hovertemplate\":\"CHAMPIONNAME=Renata<br>TOTALDAMAGEDEALTTOCHAMPIONS=%{x}<br>TOTALDAMAGETAKEN=%{y}<extra></extra>\",\"legendgroup\":\"Renata\",\"marker\":{\"color\":\"#00cc96\",\"symbol\":\"circle\"},\"mode\":\"markers\",\"name\":\"Renata\",\"orientation\":\"v\",\"showlegend\":true,\"x\":[6053.0],\"xaxis\":\"x\",\"y\":[13960.0],\"yaxis\":\"y\",\"type\":\"scatter\"},{\"hovertemplate\":\"CHAMPIONNAME=Renekton<br>TOTALDAMAGEDEALTTOCHAMPIONS=%{x}<br>TOTALDAMAGETAKEN=%{y}<extra></extra>\",\"legendgroup\":\"Renekton\",\"marker\":{\"color\":\"#ab63fa\",\"symbol\":\"circle\"},\"mode\":\"markers\",\"name\":\"Renekton\",\"orientation\":\"v\",\"showlegend\":true,\"x\":[19891.0],\"xaxis\":\"x\",\"y\":[41904.0],\"yaxis\":\"y\",\"type\":\"scatter\"},{\"hovertemplate\":\"CHAMPIONNAME=Rengar<br>TOTALDAMAGEDEALTTOCHAMPIONS=%{x}<br>TOTALDAMAGETAKEN=%{y}<extra></extra>\",\"legendgroup\":\"Rengar\",\"marker\":{\"color\":\"#FFA15A\",\"symbol\":\"circle\"},\"mode\":\"markers\",\"name\":\"Rengar\",\"orientation\":\"v\",\"showlegend\":true,\"x\":[19525.0],\"xaxis\":\"x\",\"y\":[22243.0],\"yaxis\":\"y\",\"type\":\"scatter\"},{\"hovertemplate\":\"CHAMPIONNAME=Riven<br>TOTALDAMAGEDEALTTOCHAMPIONS=%{x}<br>TOTALDAMAGETAKEN=%{y}<extra></extra>\",\"legendgroup\":\"Riven\",\"marker\":{\"color\":\"#19d3f3\",\"symbol\":\"circle\"},\"mode\":\"markers\",\"name\":\"Riven\",\"orientation\":\"v\",\"showlegend\":true,\"x\":[19888.0],\"xaxis\":\"x\",\"y\":[33222.0],\"yaxis\":\"y\",\"type\":\"scatter\"},{\"hovertemplate\":\"CHAMPIONNAME=Rumble<br>TOTALDAMAGEDEALTTOCHAMPIONS=%{x}<br>TOTALDAMAGETAKEN=%{y}<extra></extra>\",\"legendgroup\":\"Rumble\",\"marker\":{\"color\":\"#FF6692\",\"symbol\":\"circle\"},\"mode\":\"markers\",\"name\":\"Rumble\",\"orientation\":\"v\",\"showlegend\":true,\"x\":[30161.0],\"xaxis\":\"x\",\"y\":[31662.0],\"yaxis\":\"y\",\"type\":\"scatter\"},{\"hovertemplate\":\"CHAMPIONNAME=Ryze<br>TOTALDAMAGEDEALTTOCHAMPIONS=%{x}<br>TOTALDAMAGETAKEN=%{y}<extra></extra>\",\"legendgroup\":\"Ryze\",\"marker\":{\"color\":\"#B6E880\",\"symbol\":\"circle\"},\"mode\":\"markers\",\"name\":\"Ryze\",\"orientation\":\"v\",\"showlegend\":true,\"x\":[18604.0],\"xaxis\":\"x\",\"y\":[23174.0],\"yaxis\":\"y\",\"type\":\"scatter\"},{\"hovertemplate\":\"CHAMPIONNAME=Samira<br>TOTALDAMAGEDEALTTOCHAMPIONS=%{x}<br>TOTALDAMAGETAKEN=%{y}<extra></extra>\",\"legendgroup\":\"Samira\",\"marker\":{\"color\":\"#FF97FF\",\"symbol\":\"circle\"},\"mode\":\"markers\",\"name\":\"Samira\",\"orientation\":\"v\",\"showlegend\":true,\"x\":[21532.0],\"xaxis\":\"x\",\"y\":[20078.0],\"yaxis\":\"y\",\"type\":\"scatter\"},{\"hovertemplate\":\"CHAMPIONNAME=Sejuani<br>TOTALDAMAGEDEALTTOCHAMPIONS=%{x}<br>TOTALDAMAGETAKEN=%{y}<extra></extra>\",\"legendgroup\":\"Sejuani\",\"marker\":{\"color\":\"#FECB52\",\"symbol\":\"circle\"},\"mode\":\"markers\",\"name\":\"Sejuani\",\"orientation\":\"v\",\"showlegend\":true,\"x\":[16283.0],\"xaxis\":\"x\",\"y\":[19516.0],\"yaxis\":\"y\",\"type\":\"scatter\"},{\"hovertemplate\":\"CHAMPIONNAME=Senna<br>TOTALDAMAGEDEALTTOCHAMPIONS=%{x}<br>TOTALDAMAGETAKEN=%{y}<extra></extra>\",\"legendgroup\":\"Senna\",\"marker\":{\"color\":\"#636efa\",\"symbol\":\"circle\"},\"mode\":\"markers\",\"name\":\"Senna\",\"orientation\":\"v\",\"showlegend\":true,\"x\":[9527.0],\"xaxis\":\"x\",\"y\":[12527.0],\"yaxis\":\"y\",\"type\":\"scatter\"},{\"hovertemplate\":\"CHAMPIONNAME=Seraphine<br>TOTALDAMAGEDEALTTOCHAMPIONS=%{x}<br>TOTALDAMAGETAKEN=%{y}<extra></extra>\",\"legendgroup\":\"Seraphine\",\"marker\":{\"color\":\"#EF553B\",\"symbol\":\"circle\"},\"mode\":\"markers\",\"name\":\"Seraphine\",\"orientation\":\"v\",\"showlegend\":true,\"x\":[9943.0],\"xaxis\":\"x\",\"y\":[18624.0],\"yaxis\":\"y\",\"type\":\"scatter\"},{\"hovertemplate\":\"CHAMPIONNAME=Sett<br>TOTALDAMAGEDEALTTOCHAMPIONS=%{x}<br>TOTALDAMAGETAKEN=%{y}<extra></extra>\",\"legendgroup\":\"Sett\",\"marker\":{\"color\":\"#00cc96\",\"symbol\":\"circle\"},\"mode\":\"markers\",\"name\":\"Sett\",\"orientation\":\"v\",\"showlegend\":true,\"x\":[12540.0],\"xaxis\":\"x\",\"y\":[24720.0],\"yaxis\":\"y\",\"type\":\"scatter\"},{\"hovertemplate\":\"CHAMPIONNAME=Shaco<br>TOTALDAMAGEDEALTTOCHAMPIONS=%{x}<br>TOTALDAMAGETAKEN=%{y}<extra></extra>\",\"legendgroup\":\"Shaco\",\"marker\":{\"color\":\"#ab63fa\",\"symbol\":\"circle\"},\"mode\":\"markers\",\"name\":\"Shaco\",\"orientation\":\"v\",\"showlegend\":true,\"x\":[21158.0],\"xaxis\":\"x\",\"y\":[22711.0],\"yaxis\":\"y\",\"type\":\"scatter\"},{\"hovertemplate\":\"CHAMPIONNAME=Shen<br>TOTALDAMAGEDEALTTOCHAMPIONS=%{x}<br>TOTALDAMAGETAKEN=%{y}<extra></extra>\",\"legendgroup\":\"Shen\",\"marker\":{\"color\":\"#FFA15A\",\"symbol\":\"circle\"},\"mode\":\"markers\",\"name\":\"Shen\",\"orientation\":\"v\",\"showlegend\":true,\"x\":[12524.0],\"xaxis\":\"x\",\"y\":[24729.0],\"yaxis\":\"y\",\"type\":\"scatter\"},{\"hovertemplate\":\"CHAMPIONNAME=Shyvana<br>TOTALDAMAGEDEALTTOCHAMPIONS=%{x}<br>TOTALDAMAGETAKEN=%{y}<extra></extra>\",\"legendgroup\":\"Shyvana\",\"marker\":{\"color\":\"#19d3f3\",\"symbol\":\"circle\"},\"mode\":\"markers\",\"name\":\"Shyvana\",\"orientation\":\"v\",\"showlegend\":true,\"x\":[14255.0],\"xaxis\":\"x\",\"y\":[18166.0],\"yaxis\":\"y\",\"type\":\"scatter\"},{\"hovertemplate\":\"CHAMPIONNAME=Singed<br>TOTALDAMAGEDEALTTOCHAMPIONS=%{x}<br>TOTALDAMAGETAKEN=%{y}<extra></extra>\",\"legendgroup\":\"Singed\",\"marker\":{\"color\":\"#FF6692\",\"symbol\":\"circle\"},\"mode\":\"markers\",\"name\":\"Singed\",\"orientation\":\"v\",\"showlegend\":true,\"x\":[24380.0],\"xaxis\":\"x\",\"y\":[39626.0],\"yaxis\":\"y\",\"type\":\"scatter\"},{\"hovertemplate\":\"CHAMPIONNAME=Sion<br>TOTALDAMAGEDEALTTOCHAMPIONS=%{x}<br>TOTALDAMAGETAKEN=%{y}<extra></extra>\",\"legendgroup\":\"Sion\",\"marker\":{\"color\":\"#B6E880\",\"symbol\":\"circle\"},\"mode\":\"markers\",\"name\":\"Sion\",\"orientation\":\"v\",\"showlegend\":true,\"x\":[24189.0],\"xaxis\":\"x\",\"y\":[53704.0],\"yaxis\":\"y\",\"type\":\"scatter\"},{\"hovertemplate\":\"CHAMPIONNAME=Sivir<br>TOTALDAMAGEDEALTTOCHAMPIONS=%{x}<br>TOTALDAMAGETAKEN=%{y}<extra></extra>\",\"legendgroup\":\"Sivir\",\"marker\":{\"color\":\"#FF97FF\",\"symbol\":\"circle\"},\"mode\":\"markers\",\"name\":\"Sivir\",\"orientation\":\"v\",\"showlegend\":true,\"x\":[21422.0],\"xaxis\":\"x\",\"y\":[23666.0],\"yaxis\":\"y\",\"type\":\"scatter\"},{\"hovertemplate\":\"CHAMPIONNAME=Sona<br>TOTALDAMAGEDEALTTOCHAMPIONS=%{x}<br>TOTALDAMAGETAKEN=%{y}<extra></extra>\",\"legendgroup\":\"Sona\",\"marker\":{\"color\":\"#FECB52\",\"symbol\":\"circle\"},\"mode\":\"markers\",\"name\":\"Sona\",\"orientation\":\"v\",\"showlegend\":true,\"x\":[13056.0],\"xaxis\":\"x\",\"y\":[24214.0],\"yaxis\":\"y\",\"type\":\"scatter\"},{\"hovertemplate\":\"CHAMPIONNAME=Soraka<br>TOTALDAMAGEDEALTTOCHAMPIONS=%{x}<br>TOTALDAMAGETAKEN=%{y}<extra></extra>\",\"legendgroup\":\"Soraka\",\"marker\":{\"color\":\"#636efa\",\"symbol\":\"circle\"},\"mode\":\"markers\",\"name\":\"Soraka\",\"orientation\":\"v\",\"showlegend\":true,\"x\":[6529.0],\"xaxis\":\"x\",\"y\":[10491.0],\"yaxis\":\"y\",\"type\":\"scatter\"},{\"hovertemplate\":\"CHAMPIONNAME=Swain<br>TOTALDAMAGEDEALTTOCHAMPIONS=%{x}<br>TOTALDAMAGETAKEN=%{y}<extra></extra>\",\"legendgroup\":\"Swain\",\"marker\":{\"color\":\"#EF553B\",\"symbol\":\"circle\"},\"mode\":\"markers\",\"name\":\"Swain\",\"orientation\":\"v\",\"showlegend\":true,\"x\":[10591.0],\"xaxis\":\"x\",\"y\":[21463.0],\"yaxis\":\"y\",\"type\":\"scatter\"},{\"hovertemplate\":\"CHAMPIONNAME=Sylas<br>TOTALDAMAGEDEALTTOCHAMPIONS=%{x}<br>TOTALDAMAGETAKEN=%{y}<extra></extra>\",\"legendgroup\":\"Sylas\",\"marker\":{\"color\":\"#00cc96\",\"symbol\":\"circle\"},\"mode\":\"markers\",\"name\":\"Sylas\",\"orientation\":\"v\",\"showlegend\":true,\"x\":[16084.0],\"xaxis\":\"x\",\"y\":[28348.0],\"yaxis\":\"y\",\"type\":\"scatter\"},{\"hovertemplate\":\"CHAMPIONNAME=Syndra<br>TOTALDAMAGEDEALTTOCHAMPIONS=%{x}<br>TOTALDAMAGETAKEN=%{y}<extra></extra>\",\"legendgroup\":\"Syndra\",\"marker\":{\"color\":\"#ab63fa\",\"symbol\":\"circle\"},\"mode\":\"markers\",\"name\":\"Syndra\",\"orientation\":\"v\",\"showlegend\":true,\"x\":[34037.0],\"xaxis\":\"x\",\"y\":[29999.0],\"yaxis\":\"y\",\"type\":\"scatter\"},{\"hovertemplate\":\"CHAMPIONNAME=TahmKench<br>TOTALDAMAGEDEALTTOCHAMPIONS=%{x}<br>TOTALDAMAGETAKEN=%{y}<extra></extra>\",\"legendgroup\":\"TahmKench\",\"marker\":{\"color\":\"#FFA15A\",\"symbol\":\"circle\"},\"mode\":\"markers\",\"name\":\"TahmKench\",\"orientation\":\"v\",\"showlegend\":true,\"x\":[6586.0],\"xaxis\":\"x\",\"y\":[18080.0],\"yaxis\":\"y\",\"type\":\"scatter\"},{\"hovertemplate\":\"CHAMPIONNAME=Taliyah<br>TOTALDAMAGEDEALTTOCHAMPIONS=%{x}<br>TOTALDAMAGETAKEN=%{y}<extra></extra>\",\"legendgroup\":\"Taliyah\",\"marker\":{\"color\":\"#19d3f3\",\"symbol\":\"circle\"},\"mode\":\"markers\",\"name\":\"Taliyah\",\"orientation\":\"v\",\"showlegend\":true,\"x\":[18782.0],\"xaxis\":\"x\",\"y\":[15683.0],\"yaxis\":\"y\",\"type\":\"scatter\"},{\"hovertemplate\":\"CHAMPIONNAME=Talon<br>TOTALDAMAGEDEALTTOCHAMPIONS=%{x}<br>TOTALDAMAGETAKEN=%{y}<extra></extra>\",\"legendgroup\":\"Talon\",\"marker\":{\"color\":\"#FF6692\",\"symbol\":\"circle\"},\"mode\":\"markers\",\"name\":\"Talon\",\"orientation\":\"v\",\"showlegend\":true,\"x\":[27831.0],\"xaxis\":\"x\",\"y\":[31226.0],\"yaxis\":\"y\",\"type\":\"scatter\"},{\"hovertemplate\":\"CHAMPIONNAME=Taric<br>TOTALDAMAGEDEALTTOCHAMPIONS=%{x}<br>TOTALDAMAGETAKEN=%{y}<extra></extra>\",\"legendgroup\":\"Taric\",\"marker\":{\"color\":\"#B6E880\",\"symbol\":\"circle\"},\"mode\":\"markers\",\"name\":\"Taric\",\"orientation\":\"v\",\"showlegend\":true,\"x\":[7594.0],\"xaxis\":\"x\",\"y\":[33384.0],\"yaxis\":\"y\",\"type\":\"scatter\"},{\"hovertemplate\":\"CHAMPIONNAME=Teemo<br>TOTALDAMAGEDEALTTOCHAMPIONS=%{x}<br>TOTALDAMAGETAKEN=%{y}<extra></extra>\",\"legendgroup\":\"Teemo\",\"marker\":{\"color\":\"#FF97FF\",\"symbol\":\"circle\"},\"mode\":\"markers\",\"name\":\"Teemo\",\"orientation\":\"v\",\"showlegend\":true,\"x\":[21320.0],\"xaxis\":\"x\",\"y\":[29464.0],\"yaxis\":\"y\",\"type\":\"scatter\"},{\"hovertemplate\":\"CHAMPIONNAME=Thresh<br>TOTALDAMAGEDEALTTOCHAMPIONS=%{x}<br>TOTALDAMAGETAKEN=%{y}<extra></extra>\",\"legendgroup\":\"Thresh\",\"marker\":{\"color\":\"#FECB52\",\"symbol\":\"circle\"},\"mode\":\"markers\",\"name\":\"Thresh\",\"orientation\":\"v\",\"showlegend\":true,\"x\":[7999.0],\"xaxis\":\"x\",\"y\":[20772.0],\"yaxis\":\"y\",\"type\":\"scatter\"},{\"hovertemplate\":\"CHAMPIONNAME=Tristana<br>TOTALDAMAGEDEALTTOCHAMPIONS=%{x}<br>TOTALDAMAGETAKEN=%{y}<extra></extra>\",\"legendgroup\":\"Tristana\",\"marker\":{\"color\":\"#636efa\",\"symbol\":\"circle\"},\"mode\":\"markers\",\"name\":\"Tristana\",\"orientation\":\"v\",\"showlegend\":true,\"x\":[7644.0],\"xaxis\":\"x\",\"y\":[9290.0],\"yaxis\":\"y\",\"type\":\"scatter\"},{\"hovertemplate\":\"CHAMPIONNAME=Trundle<br>TOTALDAMAGEDEALTTOCHAMPIONS=%{x}<br>TOTALDAMAGETAKEN=%{y}<extra></extra>\",\"legendgroup\":\"Trundle\",\"marker\":{\"color\":\"#EF553B\",\"symbol\":\"circle\"},\"mode\":\"markers\",\"name\":\"Trundle\",\"orientation\":\"v\",\"showlegend\":true,\"x\":[1775.0],\"xaxis\":\"x\",\"y\":[9775.0],\"yaxis\":\"y\",\"type\":\"scatter\"},{\"hovertemplate\":\"CHAMPIONNAME=Tryndamere<br>TOTALDAMAGEDEALTTOCHAMPIONS=%{x}<br>TOTALDAMAGETAKEN=%{y}<extra></extra>\",\"legendgroup\":\"Tryndamere\",\"marker\":{\"color\":\"#00cc96\",\"symbol\":\"circle\"},\"mode\":\"markers\",\"name\":\"Tryndamere\",\"orientation\":\"v\",\"showlegend\":true,\"x\":[11453.0],\"xaxis\":\"x\",\"y\":[29964.0],\"yaxis\":\"y\",\"type\":\"scatter\"},{\"hovertemplate\":\"CHAMPIONNAME=TwistedFate<br>TOTALDAMAGEDEALTTOCHAMPIONS=%{x}<br>TOTALDAMAGETAKEN=%{y}<extra></extra>\",\"legendgroup\":\"TwistedFate\",\"marker\":{\"color\":\"#ab63fa\",\"symbol\":\"circle\"},\"mode\":\"markers\",\"name\":\"TwistedFate\",\"orientation\":\"v\",\"showlegend\":true,\"x\":[10299.0],\"xaxis\":\"x\",\"y\":[17625.0],\"yaxis\":\"y\",\"type\":\"scatter\"},{\"hovertemplate\":\"CHAMPIONNAME=Twitch<br>TOTALDAMAGEDEALTTOCHAMPIONS=%{x}<br>TOTALDAMAGETAKEN=%{y}<extra></extra>\",\"legendgroup\":\"Twitch\",\"marker\":{\"color\":\"#FFA15A\",\"symbol\":\"circle\"},\"mode\":\"markers\",\"name\":\"Twitch\",\"orientation\":\"v\",\"showlegend\":true,\"x\":[25144.0],\"xaxis\":\"x\",\"y\":[26417.0],\"yaxis\":\"y\",\"type\":\"scatter\"},{\"hovertemplate\":\"CHAMPIONNAME=Udyr<br>TOTALDAMAGEDEALTTOCHAMPIONS=%{x}<br>TOTALDAMAGETAKEN=%{y}<extra></extra>\",\"legendgroup\":\"Udyr\",\"marker\":{\"color\":\"#19d3f3\",\"symbol\":\"circle\"},\"mode\":\"markers\",\"name\":\"Udyr\",\"orientation\":\"v\",\"showlegend\":true,\"x\":[19428.0],\"xaxis\":\"x\",\"y\":[38376.0],\"yaxis\":\"y\",\"type\":\"scatter\"},{\"hovertemplate\":\"CHAMPIONNAME=Urgot<br>TOTALDAMAGEDEALTTOCHAMPIONS=%{x}<br>TOTALDAMAGETAKEN=%{y}<extra></extra>\",\"legendgroup\":\"Urgot\",\"marker\":{\"color\":\"#FF6692\",\"symbol\":\"circle\"},\"mode\":\"markers\",\"name\":\"Urgot\",\"orientation\":\"v\",\"showlegend\":true,\"x\":[23948.0],\"xaxis\":\"x\",\"y\":[14358.0],\"yaxis\":\"y\",\"type\":\"scatter\"},{\"hovertemplate\":\"CHAMPIONNAME=Vayne<br>TOTALDAMAGEDEALTTOCHAMPIONS=%{x}<br>TOTALDAMAGETAKEN=%{y}<extra></extra>\",\"legendgroup\":\"Vayne\",\"marker\":{\"color\":\"#B6E880\",\"symbol\":\"circle\"},\"mode\":\"markers\",\"name\":\"Vayne\",\"orientation\":\"v\",\"showlegend\":true,\"x\":[47046.0],\"xaxis\":\"x\",\"y\":[39244.0],\"yaxis\":\"y\",\"type\":\"scatter\"},{\"hovertemplate\":\"CHAMPIONNAME=Veigar<br>TOTALDAMAGEDEALTTOCHAMPIONS=%{x}<br>TOTALDAMAGETAKEN=%{y}<extra></extra>\",\"legendgroup\":\"Veigar\",\"marker\":{\"color\":\"#FF97FF\",\"symbol\":\"circle\"},\"mode\":\"markers\",\"name\":\"Veigar\",\"orientation\":\"v\",\"showlegend\":true,\"x\":[38457.0],\"xaxis\":\"x\",\"y\":[15796.0],\"yaxis\":\"y\",\"type\":\"scatter\"},{\"hovertemplate\":\"CHAMPIONNAME=Velkoz<br>TOTALDAMAGEDEALTTOCHAMPIONS=%{x}<br>TOTALDAMAGETAKEN=%{y}<extra></extra>\",\"legendgroup\":\"Velkoz\",\"marker\":{\"color\":\"#FECB52\",\"symbol\":\"circle\"},\"mode\":\"markers\",\"name\":\"Velkoz\",\"orientation\":\"v\",\"showlegend\":true,\"x\":[35774.0],\"xaxis\":\"x\",\"y\":[22042.0],\"yaxis\":\"y\",\"type\":\"scatter\"},{\"hovertemplate\":\"CHAMPIONNAME=Vex<br>TOTALDAMAGEDEALTTOCHAMPIONS=%{x}<br>TOTALDAMAGETAKEN=%{y}<extra></extra>\",\"legendgroup\":\"Vex\",\"marker\":{\"color\":\"#636efa\",\"symbol\":\"circle\"},\"mode\":\"markers\",\"name\":\"Vex\",\"orientation\":\"v\",\"showlegend\":true,\"x\":[28728.0],\"xaxis\":\"x\",\"y\":[22922.0],\"yaxis\":\"y\",\"type\":\"scatter\"},{\"hovertemplate\":\"CHAMPIONNAME=Viego<br>TOTALDAMAGEDEALTTOCHAMPIONS=%{x}<br>TOTALDAMAGETAKEN=%{y}<extra></extra>\",\"legendgroup\":\"Viego\",\"marker\":{\"color\":\"#EF553B\",\"symbol\":\"circle\"},\"mode\":\"markers\",\"name\":\"Viego\",\"orientation\":\"v\",\"showlegend\":true,\"x\":[15754.0],\"xaxis\":\"x\",\"y\":[26001.0],\"yaxis\":\"y\",\"type\":\"scatter\"},{\"hovertemplate\":\"CHAMPIONNAME=Viktor<br>TOTALDAMAGEDEALTTOCHAMPIONS=%{x}<br>TOTALDAMAGETAKEN=%{y}<extra></extra>\",\"legendgroup\":\"Viktor\",\"marker\":{\"color\":\"#00cc96\",\"symbol\":\"circle\"},\"mode\":\"markers\",\"name\":\"Viktor\",\"orientation\":\"v\",\"showlegend\":true,\"x\":[20978.0],\"xaxis\":\"x\",\"y\":[16668.0],\"yaxis\":\"y\",\"type\":\"scatter\"},{\"hovertemplate\":\"CHAMPIONNAME=Vladimir<br>TOTALDAMAGEDEALTTOCHAMPIONS=%{x}<br>TOTALDAMAGETAKEN=%{y}<extra></extra>\",\"legendgroup\":\"Vladimir\",\"marker\":{\"color\":\"#ab63fa\",\"symbol\":\"circle\"},\"mode\":\"markers\",\"name\":\"Vladimir\",\"orientation\":\"v\",\"showlegend\":true,\"x\":[38843.0],\"xaxis\":\"x\",\"y\":[45644.0],\"yaxis\":\"y\",\"type\":\"scatter\"},{\"hovertemplate\":\"CHAMPIONNAME=Volibear<br>TOTALDAMAGEDEALTTOCHAMPIONS=%{x}<br>TOTALDAMAGETAKEN=%{y}<extra></extra>\",\"legendgroup\":\"Volibear\",\"marker\":{\"color\":\"#FFA15A\",\"symbol\":\"circle\"},\"mode\":\"markers\",\"name\":\"Volibear\",\"orientation\":\"v\",\"showlegend\":true,\"x\":[16628.0],\"xaxis\":\"x\",\"y\":[26225.0],\"yaxis\":\"y\",\"type\":\"scatter\"},{\"hovertemplate\":\"CHAMPIONNAME=Xayah<br>TOTALDAMAGEDEALTTOCHAMPIONS=%{x}<br>TOTALDAMAGETAKEN=%{y}<extra></extra>\",\"legendgroup\":\"Xayah\",\"marker\":{\"color\":\"#19d3f3\",\"symbol\":\"circle\"},\"mode\":\"markers\",\"name\":\"Xayah\",\"orientation\":\"v\",\"showlegend\":true,\"x\":[10506.0],\"xaxis\":\"x\",\"y\":[16355.0],\"yaxis\":\"y\",\"type\":\"scatter\"},{\"hovertemplate\":\"CHAMPIONNAME=Xerath<br>TOTALDAMAGEDEALTTOCHAMPIONS=%{x}<br>TOTALDAMAGETAKEN=%{y}<extra></extra>\",\"legendgroup\":\"Xerath\",\"marker\":{\"color\":\"#FF6692\",\"symbol\":\"circle\"},\"mode\":\"markers\",\"name\":\"Xerath\",\"orientation\":\"v\",\"showlegend\":true,\"x\":[20563.0],\"xaxis\":\"x\",\"y\":[15356.0],\"yaxis\":\"y\",\"type\":\"scatter\"},{\"hovertemplate\":\"CHAMPIONNAME=XinZhao<br>TOTALDAMAGEDEALTTOCHAMPIONS=%{x}<br>TOTALDAMAGETAKEN=%{y}<extra></extra>\",\"legendgroup\":\"XinZhao\",\"marker\":{\"color\":\"#B6E880\",\"symbol\":\"circle\"},\"mode\":\"markers\",\"name\":\"XinZhao\",\"orientation\":\"v\",\"showlegend\":true,\"x\":[12967.0],\"xaxis\":\"x\",\"y\":[35217.0],\"yaxis\":\"y\",\"type\":\"scatter\"},{\"hovertemplate\":\"CHAMPIONNAME=Yasuo<br>TOTALDAMAGEDEALTTOCHAMPIONS=%{x}<br>TOTALDAMAGETAKEN=%{y}<extra></extra>\",\"legendgroup\":\"Yasuo\",\"marker\":{\"color\":\"#FF97FF\",\"symbol\":\"circle\"},\"mode\":\"markers\",\"name\":\"Yasuo\",\"orientation\":\"v\",\"showlegend\":true,\"x\":[28275.0],\"xaxis\":\"x\",\"y\":[29461.0],\"yaxis\":\"y\",\"type\":\"scatter\"},{\"hovertemplate\":\"CHAMPIONNAME=Yone<br>TOTALDAMAGEDEALTTOCHAMPIONS=%{x}<br>TOTALDAMAGETAKEN=%{y}<extra></extra>\",\"legendgroup\":\"Yone\",\"marker\":{\"color\":\"#FECB52\",\"symbol\":\"circle\"},\"mode\":\"markers\",\"name\":\"Yone\",\"orientation\":\"v\",\"showlegend\":true,\"x\":[20631.0],\"xaxis\":\"x\",\"y\":[25578.0],\"yaxis\":\"y\",\"type\":\"scatter\"},{\"hovertemplate\":\"CHAMPIONNAME=Yuumi<br>TOTALDAMAGEDEALTTOCHAMPIONS=%{x}<br>TOTALDAMAGETAKEN=%{y}<extra></extra>\",\"legendgroup\":\"Yuumi\",\"marker\":{\"color\":\"#636efa\",\"symbol\":\"circle\"},\"mode\":\"markers\",\"name\":\"Yuumi\",\"orientation\":\"v\",\"showlegend\":true,\"x\":[8574.0],\"xaxis\":\"x\",\"y\":[7506.0],\"yaxis\":\"y\",\"type\":\"scatter\"},{\"hovertemplate\":\"CHAMPIONNAME=Zac<br>TOTALDAMAGEDEALTTOCHAMPIONS=%{x}<br>TOTALDAMAGETAKEN=%{y}<extra></extra>\",\"legendgroup\":\"Zac\",\"marker\":{\"color\":\"#EF553B\",\"symbol\":\"circle\"},\"mode\":\"markers\",\"name\":\"Zac\",\"orientation\":\"v\",\"showlegend\":true,\"x\":[13714.0],\"xaxis\":\"x\",\"y\":[26509.0],\"yaxis\":\"y\",\"type\":\"scatter\"},{\"hovertemplate\":\"CHAMPIONNAME=Zed<br>TOTALDAMAGEDEALTTOCHAMPIONS=%{x}<br>TOTALDAMAGETAKEN=%{y}<extra></extra>\",\"legendgroup\":\"Zed\",\"marker\":{\"color\":\"#00cc96\",\"symbol\":\"circle\"},\"mode\":\"markers\",\"name\":\"Zed\",\"orientation\":\"v\",\"showlegend\":true,\"x\":[27953.0],\"xaxis\":\"x\",\"y\":[34899.0],\"yaxis\":\"y\",\"type\":\"scatter\"},{\"hovertemplate\":\"CHAMPIONNAME=Zeri<br>TOTALDAMAGEDEALTTOCHAMPIONS=%{x}<br>TOTALDAMAGETAKEN=%{y}<extra></extra>\",\"legendgroup\":\"Zeri\",\"marker\":{\"color\":\"#ab63fa\",\"symbol\":\"circle\"},\"mode\":\"markers\",\"name\":\"Zeri\",\"orientation\":\"v\",\"showlegend\":true,\"x\":[30373.0],\"xaxis\":\"x\",\"y\":[20952.0],\"yaxis\":\"y\",\"type\":\"scatter\"},{\"hovertemplate\":\"CHAMPIONNAME=Ziggs<br>TOTALDAMAGEDEALTTOCHAMPIONS=%{x}<br>TOTALDAMAGETAKEN=%{y}<extra></extra>\",\"legendgroup\":\"Ziggs\",\"marker\":{\"color\":\"#FFA15A\",\"symbol\":\"circle\"},\"mode\":\"markers\",\"name\":\"Ziggs\",\"orientation\":\"v\",\"showlegend\":true,\"x\":[28792.0],\"xaxis\":\"x\",\"y\":[17834.0],\"yaxis\":\"y\",\"type\":\"scatter\"},{\"hovertemplate\":\"CHAMPIONNAME=Zilean<br>TOTALDAMAGEDEALTTOCHAMPIONS=%{x}<br>TOTALDAMAGETAKEN=%{y}<extra></extra>\",\"legendgroup\":\"Zilean\",\"marker\":{\"color\":\"#19d3f3\",\"symbol\":\"circle\"},\"mode\":\"markers\",\"name\":\"Zilean\",\"orientation\":\"v\",\"showlegend\":true,\"x\":[7192.0],\"xaxis\":\"x\",\"y\":[11553.0],\"yaxis\":\"y\",\"type\":\"scatter\"},{\"hovertemplate\":\"CHAMPIONNAME=Zoe<br>TOTALDAMAGEDEALTTOCHAMPIONS=%{x}<br>TOTALDAMAGETAKEN=%{y}<extra></extra>\",\"legendgroup\":\"Zoe\",\"marker\":{\"color\":\"#FF6692\",\"symbol\":\"circle\"},\"mode\":\"markers\",\"name\":\"Zoe\",\"orientation\":\"v\",\"showlegend\":true,\"x\":[26506.0],\"xaxis\":\"x\",\"y\":[24347.0],\"yaxis\":\"y\",\"type\":\"scatter\"}],                        {\"legend\":{\"title\":{\"text\":\"CHAMPIONNAME\"},\"tracegroupgap\":0},\"template\":{\"data\":{\"barpolar\":[{\"marker\":{\"line\":{\"color\":\"#E5ECF6\",\"width\":0.5},\"pattern\":{\"fillmode\":\"overlay\",\"size\":10,\"solidity\":0.2}},\"type\":\"barpolar\"}],\"bar\":[{\"error_x\":{\"color\":\"#2a3f5f\"},\"error_y\":{\"color\":\"#2a3f5f\"},\"marker\":{\"line\":{\"color\":\"#E5ECF6\",\"width\":0.5},\"pattern\":{\"fillmode\":\"overlay\",\"size\":10,\"solidity\":0.2}},\"type\":\"bar\"}],\"carpet\":[{\"aaxis\":{\"endlinecolor\":\"#2a3f5f\",\"gridcolor\":\"white\",\"linecolor\":\"white\",\"minorgridcolor\":\"white\",\"startlinecolor\":\"#2a3f5f\"},\"baxis\":{\"endlinecolor\":\"#2a3f5f\",\"gridcolor\":\"white\",\"linecolor\":\"white\",\"minorgridcolor\":\"white\",\"startlinecolor\":\"#2a3f5f\"},\"type\":\"carpet\"}],\"choropleth\":[{\"colorbar\":{\"outlinewidth\":0,\"ticks\":\"\"},\"type\":\"choropleth\"}],\"contourcarpet\":[{\"colorbar\":{\"outlinewidth\":0,\"ticks\":\"\"},\"type\":\"contourcarpet\"}],\"contour\":[{\"colorbar\":{\"outlinewidth\":0,\"ticks\":\"\"},\"colorscale\":[[0.0,\"#0d0887\"],[0.1111111111111111,\"#46039f\"],[0.2222222222222222,\"#7201a8\"],[0.3333333333333333,\"#9c179e\"],[0.4444444444444444,\"#bd3786\"],[0.5555555555555556,\"#d8576b\"],[0.6666666666666666,\"#ed7953\"],[0.7777777777777778,\"#fb9f3a\"],[0.8888888888888888,\"#fdca26\"],[1.0,\"#f0f921\"]],\"type\":\"contour\"}],\"heatmapgl\":[{\"colorbar\":{\"outlinewidth\":0,\"ticks\":\"\"},\"colorscale\":[[0.0,\"#0d0887\"],[0.1111111111111111,\"#46039f\"],[0.2222222222222222,\"#7201a8\"],[0.3333333333333333,\"#9c179e\"],[0.4444444444444444,\"#bd3786\"],[0.5555555555555556,\"#d8576b\"],[0.6666666666666666,\"#ed7953\"],[0.7777777777777778,\"#fb9f3a\"],[0.8888888888888888,\"#fdca26\"],[1.0,\"#f0f921\"]],\"type\":\"heatmapgl\"}],\"heatmap\":[{\"colorbar\":{\"outlinewidth\":0,\"ticks\":\"\"},\"colorscale\":[[0.0,\"#0d0887\"],[0.1111111111111111,\"#46039f\"],[0.2222222222222222,\"#7201a8\"],[0.3333333333333333,\"#9c179e\"],[0.4444444444444444,\"#bd3786\"],[0.5555555555555556,\"#d8576b\"],[0.6666666666666666,\"#ed7953\"],[0.7777777777777778,\"#fb9f3a\"],[0.8888888888888888,\"#fdca26\"],[1.0,\"#f0f921\"]],\"type\":\"heatmap\"}],\"histogram2dcontour\":[{\"colorbar\":{\"outlinewidth\":0,\"ticks\":\"\"},\"colorscale\":[[0.0,\"#0d0887\"],[0.1111111111111111,\"#46039f\"],[0.2222222222222222,\"#7201a8\"],[0.3333333333333333,\"#9c179e\"],[0.4444444444444444,\"#bd3786\"],[0.5555555555555556,\"#d8576b\"],[0.6666666666666666,\"#ed7953\"],[0.7777777777777778,\"#fb9f3a\"],[0.8888888888888888,\"#fdca26\"],[1.0,\"#f0f921\"]],\"type\":\"histogram2dcontour\"}],\"histogram2d\":[{\"colorbar\":{\"outlinewidth\":0,\"ticks\":\"\"},\"colorscale\":[[0.0,\"#0d0887\"],[0.1111111111111111,\"#46039f\"],[0.2222222222222222,\"#7201a8\"],[0.3333333333333333,\"#9c179e\"],[0.4444444444444444,\"#bd3786\"],[0.5555555555555556,\"#d8576b\"],[0.6666666666666666,\"#ed7953\"],[0.7777777777777778,\"#fb9f3a\"],[0.8888888888888888,\"#fdca26\"],[1.0,\"#f0f921\"]],\"type\":\"histogram2d\"}],\"histogram\":[{\"marker\":{\"pattern\":{\"fillmode\":\"overlay\",\"size\":10,\"solidity\":0.2}},\"type\":\"histogram\"}],\"mesh3d\":[{\"colorbar\":{\"outlinewidth\":0,\"ticks\":\"\"},\"type\":\"mesh3d\"}],\"parcoords\":[{\"line\":{\"colorbar\":{\"outlinewidth\":0,\"ticks\":\"\"}},\"type\":\"parcoords\"}],\"pie\":[{\"automargin\":true,\"type\":\"pie\"}],\"scatter3d\":[{\"line\":{\"colorbar\":{\"outlinewidth\":0,\"ticks\":\"\"}},\"marker\":{\"colorbar\":{\"outlinewidth\":0,\"ticks\":\"\"}},\"type\":\"scatter3d\"}],\"scattercarpet\":[{\"marker\":{\"colorbar\":{\"outlinewidth\":0,\"ticks\":\"\"}},\"type\":\"scattercarpet\"}],\"scattergeo\":[{\"marker\":{\"colorbar\":{\"outlinewidth\":0,\"ticks\":\"\"}},\"type\":\"scattergeo\"}],\"scattergl\":[{\"marker\":{\"colorbar\":{\"outlinewidth\":0,\"ticks\":\"\"}},\"type\":\"scattergl\"}],\"scattermapbox\":[{\"marker\":{\"colorbar\":{\"outlinewidth\":0,\"ticks\":\"\"}},\"type\":\"scattermapbox\"}],\"scatterpolargl\":[{\"marker\":{\"colorbar\":{\"outlinewidth\":0,\"ticks\":\"\"}},\"type\":\"scatterpolargl\"}],\"scatterpolar\":[{\"marker\":{\"colorbar\":{\"outlinewidth\":0,\"ticks\":\"\"}},\"type\":\"scatterpolar\"}],\"scatter\":[{\"fillpattern\":{\"fillmode\":\"overlay\",\"size\":10,\"solidity\":0.2},\"type\":\"scatter\"}],\"scatterternary\":[{\"marker\":{\"colorbar\":{\"outlinewidth\":0,\"ticks\":\"\"}},\"type\":\"scatterternary\"}],\"surface\":[{\"colorbar\":{\"outlinewidth\":0,\"ticks\":\"\"},\"colorscale\":[[0.0,\"#0d0887\"],[0.1111111111111111,\"#46039f\"],[0.2222222222222222,\"#7201a8\"],[0.3333333333333333,\"#9c179e\"],[0.4444444444444444,\"#bd3786\"],[0.5555555555555556,\"#d8576b\"],[0.6666666666666666,\"#ed7953\"],[0.7777777777777778,\"#fb9f3a\"],[0.8888888888888888,\"#fdca26\"],[1.0,\"#f0f921\"]],\"type\":\"surface\"}],\"table\":[{\"cells\":{\"fill\":{\"color\":\"#EBF0F8\"},\"line\":{\"color\":\"white\"}},\"header\":{\"fill\":{\"color\":\"#C8D4E3\"},\"line\":{\"color\":\"white\"}},\"type\":\"table\"}]},\"layout\":{\"annotationdefaults\":{\"arrowcolor\":\"#2a3f5f\",\"arrowhead\":0,\"arrowwidth\":1},\"autotypenumbers\":\"strict\",\"coloraxis\":{\"colorbar\":{\"outlinewidth\":0,\"ticks\":\"\"}},\"colorscale\":{\"diverging\":[[0,\"#8e0152\"],[0.1,\"#c51b7d\"],[0.2,\"#de77ae\"],[0.3,\"#f1b6da\"],[0.4,\"#fde0ef\"],[0.5,\"#f7f7f7\"],[0.6,\"#e6f5d0\"],[0.7,\"#b8e186\"],[0.8,\"#7fbc41\"],[0.9,\"#4d9221\"],[1,\"#276419\"]],\"sequential\":[[0.0,\"#0d0887\"],[0.1111111111111111,\"#46039f\"],[0.2222222222222222,\"#7201a8\"],[0.3333333333333333,\"#9c179e\"],[0.4444444444444444,\"#bd3786\"],[0.5555555555555556,\"#d8576b\"],[0.6666666666666666,\"#ed7953\"],[0.7777777777777778,\"#fb9f3a\"],[0.8888888888888888,\"#fdca26\"],[1.0,\"#f0f921\"]],\"sequentialminus\":[[0.0,\"#0d0887\"],[0.1111111111111111,\"#46039f\"],[0.2222222222222222,\"#7201a8\"],[0.3333333333333333,\"#9c179e\"],[0.4444444444444444,\"#bd3786\"],[0.5555555555555556,\"#d8576b\"],[0.6666666666666666,\"#ed7953\"],[0.7777777777777778,\"#fb9f3a\"],[0.8888888888888888,\"#fdca26\"],[1.0,\"#f0f921\"]]},\"colorway\":[\"#636efa\",\"#EF553B\",\"#00cc96\",\"#ab63fa\",\"#FFA15A\",\"#19d3f3\",\"#FF6692\",\"#B6E880\",\"#FF97FF\",\"#FECB52\"],\"font\":{\"color\":\"#2a3f5f\"},\"geo\":{\"bgcolor\":\"white\",\"lakecolor\":\"white\",\"landcolor\":\"#E5ECF6\",\"showlakes\":true,\"showland\":true,\"subunitcolor\":\"white\"},\"hoverlabel\":{\"align\":\"left\"},\"hovermode\":\"closest\",\"mapbox\":{\"style\":\"light\"},\"paper_bgcolor\":\"white\",\"plot_bgcolor\":\"#E5ECF6\",\"polar\":{\"angularaxis\":{\"gridcolor\":\"white\",\"linecolor\":\"white\",\"ticks\":\"\"},\"bgcolor\":\"#E5ECF6\",\"radialaxis\":{\"gridcolor\":\"white\",\"linecolor\":\"white\",\"ticks\":\"\"}},\"scene\":{\"xaxis\":{\"backgroundcolor\":\"#E5ECF6\",\"gridcolor\":\"white\",\"gridwidth\":2,\"linecolor\":\"white\",\"showbackground\":true,\"ticks\":\"\",\"zerolinecolor\":\"white\"},\"yaxis\":{\"backgroundcolor\":\"#E5ECF6\",\"gridcolor\":\"white\",\"gridwidth\":2,\"linecolor\":\"white\",\"showbackground\":true,\"ticks\":\"\",\"zerolinecolor\":\"white\"},\"zaxis\":{\"backgroundcolor\":\"#E5ECF6\",\"gridcolor\":\"white\",\"gridwidth\":2,\"linecolor\":\"white\",\"showbackground\":true,\"ticks\":\"\",\"zerolinecolor\":\"white\"}},\"shapedefaults\":{\"line\":{\"color\":\"#2a3f5f\"}},\"ternary\":{\"aaxis\":{\"gridcolor\":\"white\",\"linecolor\":\"white\",\"ticks\":\"\"},\"baxis\":{\"gridcolor\":\"white\",\"linecolor\":\"white\",\"ticks\":\"\"},\"bgcolor\":\"#E5ECF6\",\"caxis\":{\"gridcolor\":\"white\",\"linecolor\":\"white\",\"ticks\":\"\"}},\"title\":{\"x\":0.05},\"xaxis\":{\"automargin\":true,\"gridcolor\":\"white\",\"linecolor\":\"white\",\"ticks\":\"\",\"title\":{\"standoff\":15},\"zerolinecolor\":\"white\",\"zerolinewidth\":2},\"yaxis\":{\"automargin\":true,\"gridcolor\":\"white\",\"linecolor\":\"white\",\"ticks\":\"\",\"title\":{\"standoff\":15},\"zerolinecolor\":\"white\",\"zerolinewidth\":2}}},\"title\":{\"text\":\"\\ubc15\\ud604\\uc6b0 - \\ucc54\\ud53c\\uc5b8\\ubcc4 \\uc900\\ud53c\\ud574\\ub7c9\\uacfc \\ubc1b\\uc740 \\ud53c\\ud574\\ub7c9\"},\"xaxis\":{\"anchor\":\"y\",\"domain\":[0.0,1.0],\"title\":{\"text\":\"TOTALDAMAGEDEALTTOCHAMPIONS\"}},\"yaxis\":{\"anchor\":\"x\",\"domain\":[0.0,1.0],\"title\":{\"text\":\"TOTALDAMAGETAKEN\"}}},                        {\"responsive\": true}                    ).then(function(){\n",
       "                            \n",
       "var gd = document.getElementById('614c7c75-273c-430e-9c4e-a4dfa2189748');\n",
       "var x = new MutationObserver(function (mutations, observer) {{\n",
       "        var display = window.getComputedStyle(gd).display;\n",
       "        if (!display || display === 'none') {{\n",
       "            console.log([gd, 'removed!']);\n",
       "            Plotly.purge(gd);\n",
       "            observer.disconnect();\n",
       "        }}\n",
       "}});\n",
       "\n",
       "// Listen for the removal of the full notebook cells\n",
       "var notebookContainer = gd.closest('#notebook-container');\n",
       "if (notebookContainer) {{\n",
       "    x.observe(notebookContainer, {childList: true});\n",
       "}}\n",
       "\n",
       "// Listen for the clearing of the current output cell\n",
       "var outputEl = gd.closest('.output');\n",
       "if (outputEl) {{\n",
       "    x.observe(outputEl, {childList: true});\n",
       "}}\n",
       "\n",
       "                        })                };                });            </script>        </div>"
      ]
     },
     "metadata": {},
     "output_type": "display_data"
    }
   ],
   "source": [
    "fig = px.scatter(tmp_cham,\n",
    "                x = 'TOTALDAMAGEDEALTTOCHAMPIONS',\n",
    "                y = 'TOTALDAMAGETAKEN',\n",
    "                color = 'CHAMPIONNAME',\n",
    "                title = '박현우 - 챔피언별 준피해량과 받은 피해량')\n",
    "plotly.offline.iplot(fig)"
   ]
  },
  {
   "cell_type": "code",
   "execution_count": 47,
   "id": "5787ea6b",
   "metadata": {},
   "outputs": [],
   "source": [
    "tmp_gold = df_tmp[['GAMEID', 'GAMEDURATION', 'SUMMONERNAME', 'PARTICIPANTID', 'TEAMID', 'TEAMPOSITION', 'ALL_TIME_GOLD']]"
   ]
  },
  {
   "cell_type": "code",
   "execution_count": 48,
   "id": "26ac8160",
   "metadata": {},
   "outputs": [],
   "source": [
    "tmp_gold = tmp_gold.drop_duplicates()"
   ]
  },
  {
   "cell_type": "code",
   "execution_count": 49,
   "id": "ddfacd95",
   "metadata": {},
   "outputs": [],
   "source": [
    "gold_tmp = tmp_gold[['GAMEID', 'SUMMONERNAME', 'PARTICIPANTID', 'TEAMID', 'TEAMPOSITION']]"
   ]
  },
  {
   "cell_type": "code",
   "execution_count": 50,
   "id": "2f25dc0c",
   "metadata": {},
   "outputs": [
    {
     "data": {
      "text/html": [
       "<div>\n",
       "<style scoped>\n",
       "    .dataframe tbody tr th:only-of-type {\n",
       "        vertical-align: middle;\n",
       "    }\n",
       "\n",
       "    .dataframe tbody tr th {\n",
       "        vertical-align: top;\n",
       "    }\n",
       "\n",
       "    .dataframe thead th {\n",
       "        text-align: right;\n",
       "    }\n",
       "</style>\n",
       "<table border=\"1\" class=\"dataframe\">\n",
       "  <thead>\n",
       "    <tr style=\"text-align: right;\">\n",
       "      <th></th>\n",
       "      <th>GAMEID</th>\n",
       "      <th>SUMMONERNAME</th>\n",
       "      <th>PARTICIPANTID</th>\n",
       "      <th>TEAMID</th>\n",
       "      <th>TEAMPOSITION</th>\n",
       "    </tr>\n",
       "  </thead>\n",
       "  <tbody>\n",
       "    <tr>\n",
       "      <th>0</th>\n",
       "      <td>6027011613</td>\n",
       "      <td>갱무민</td>\n",
       "      <td>1</td>\n",
       "      <td>100</td>\n",
       "      <td>TOP</td>\n",
       "    </tr>\n",
       "    <tr>\n",
       "      <th>1</th>\n",
       "      <td>6027011613</td>\n",
       "      <td>조각배처럼</td>\n",
       "      <td>2</td>\n",
       "      <td>100</td>\n",
       "      <td>JUNGLE</td>\n",
       "    </tr>\n",
       "    <tr>\n",
       "      <th>2</th>\n",
       "      <td>6027011613</td>\n",
       "      <td>안녕 나는 뎨영이</td>\n",
       "      <td>3</td>\n",
       "      <td>100</td>\n",
       "      <td>MIDDLE</td>\n",
       "    </tr>\n",
       "    <tr>\n",
       "      <th>3</th>\n",
       "      <td>6027011613</td>\n",
       "      <td>soulseen</td>\n",
       "      <td>4</td>\n",
       "      <td>100</td>\n",
       "      <td>BOTTOM</td>\n",
       "    </tr>\n",
       "    <tr>\n",
       "      <th>4</th>\n",
       "      <td>6027011613</td>\n",
       "      <td>제발멈춰억까</td>\n",
       "      <td>5</td>\n",
       "      <td>100</td>\n",
       "      <td>UTILITY</td>\n",
       "    </tr>\n",
       "    <tr>\n",
       "      <th>...</th>\n",
       "      <td>...</td>\n",
       "      <td>...</td>\n",
       "      <td>...</td>\n",
       "      <td>...</td>\n",
       "      <td>...</td>\n",
       "    </tr>\n",
       "    <tr>\n",
       "      <th>5505</th>\n",
       "      <td>6016806773</td>\n",
       "      <td>모스트 룰루</td>\n",
       "      <td>6</td>\n",
       "      <td>200</td>\n",
       "      <td>TOP</td>\n",
       "    </tr>\n",
       "    <tr>\n",
       "      <th>5506</th>\n",
       "      <td>6016806773</td>\n",
       "      <td>늙고 병든 장수</td>\n",
       "      <td>7</td>\n",
       "      <td>200</td>\n",
       "      <td>JUNGLE</td>\n",
       "    </tr>\n",
       "    <tr>\n",
       "      <th>5507</th>\n",
       "      <td>6016806773</td>\n",
       "      <td>1일1블랙보리</td>\n",
       "      <td>8</td>\n",
       "      <td>200</td>\n",
       "      <td>MIDDLE</td>\n",
       "    </tr>\n",
       "    <tr>\n",
       "      <th>5508</th>\n",
       "      <td>6016806773</td>\n",
       "      <td>미드탑굿</td>\n",
       "      <td>9</td>\n",
       "      <td>200</td>\n",
       "      <td>BOTTOM</td>\n",
       "    </tr>\n",
       "    <tr>\n",
       "      <th>5509</th>\n",
       "      <td>6016806773</td>\n",
       "      <td>휴야라면좀</td>\n",
       "      <td>10</td>\n",
       "      <td>200</td>\n",
       "      <td>UTILITY</td>\n",
       "    </tr>\n",
       "  </tbody>\n",
       "</table>\n",
       "<p>670 rows × 5 columns</p>\n",
       "</div>"
      ],
      "text/plain": [
       "          GAMEID SUMMONERNAME PARTICIPANTID  TEAMID TEAMPOSITION\n",
       "0     6027011613          갱무민             1     100          TOP\n",
       "1     6027011613        조각배처럼             2     100       JUNGLE\n",
       "2     6027011613    안녕 나는 뎨영이             3     100       MIDDLE\n",
       "3     6027011613     soulseen             4     100       BOTTOM\n",
       "4     6027011613       제발멈춰억까             5     100      UTILITY\n",
       "...          ...          ...           ...     ...          ...\n",
       "5505  6016806773       모스트 룰루             6     200          TOP\n",
       "5506  6016806773     늙고 병든 장수             7     200       JUNGLE\n",
       "5507  6016806773      1일1블랙보리             8     200       MIDDLE\n",
       "5508  6016806773         미드탑굿             9     200       BOTTOM\n",
       "5509  6016806773        휴야라면좀            10     200      UTILITY\n",
       "\n",
       "[670 rows x 5 columns]"
      ]
     },
     "execution_count": 50,
     "metadata": {},
     "output_type": "execute_result"
    }
   ],
   "source": [
    "gold_tmp"
   ]
  },
  {
   "cell_type": "code",
   "execution_count": 183,
   "id": "10e8136f",
   "metadata": {},
   "outputs": [
    {
     "data": {
      "text/plain": [
       "['500',\n",
       " '500',\n",
       " '542',\n",
       " '776',\n",
       " '1057',\n",
       " '1305',\n",
       " '1470',\n",
       " '1697',\n",
       " '1986',\n",
       " '2235',\n",
       " '2420',\n",
       " '2793',\n",
       " '3237',\n",
       " '3548',\n",
       " '3692',\n",
       " '4185',\n",
       " '5154',\n",
       " '5471',\n",
       " '5643',\n",
       " '6031',\n",
       " '6927',\n",
       " '7633',\n",
       " '8282',\n",
       " '8635',\n",
       " '8850',\n",
       " '9177',\n",
       " '10204',\n",
       " '10326',\n",
       " '10923',\n",
       " '11046',\n",
       " '11967',\n",
       " '12210']"
      ]
     },
     "execution_count": 183,
     "metadata": {},
     "output_type": "execute_result"
    }
   ],
   "source": [
    "gold = list(tmp_gold[tmp_gold.SUMMONERNAME == '갱무민'].ALL_TIME_GOLD.str.split('|'))\n",
    "gold = [element for array in gold for element in array]\n",
    "gold"
   ]
  },
  {
   "cell_type": "code",
   "execution_count": 51,
   "id": "cec1deab",
   "metadata": {},
   "outputs": [],
   "source": [
    "tmp = pd.DataFrame()"
   ]
  },
  {
   "cell_type": "code",
   "execution_count": 52,
   "id": "217cc3db",
   "metadata": {},
   "outputs": [
    {
     "name": "stderr",
     "output_type": "stream",
     "text": [
      "C:\\Users\\user\\AppData\\Local\\Temp\\ipykernel_10860\\3736943680.py:8: PerformanceWarning:\n",
      "\n",
      "DataFrame is highly fragmented.  This is usually the result of calling `frame.insert` many times, which has poor performance.  Consider joining all columns at once using pd.concat(axis=1) instead. To get a de-fragmented frame, use `newframe = frame.copy()`\n",
      "\n",
      "C:\\Users\\user\\AppData\\Local\\Temp\\ipykernel_10860\\3736943680.py:8: PerformanceWarning:\n",
      "\n",
      "DataFrame is highly fragmented.  This is usually the result of calling `frame.insert` many times, which has poor performance.  Consider joining all columns at once using pd.concat(axis=1) instead. To get a de-fragmented frame, use `newframe = frame.copy()`\n",
      "\n",
      "C:\\Users\\user\\AppData\\Local\\Temp\\ipykernel_10860\\3736943680.py:8: PerformanceWarning:\n",
      "\n",
      "DataFrame is highly fragmented.  This is usually the result of calling `frame.insert` many times, which has poor performance.  Consider joining all columns at once using pd.concat(axis=1) instead. To get a de-fragmented frame, use `newframe = frame.copy()`\n",
      "\n",
      "C:\\Users\\user\\AppData\\Local\\Temp\\ipykernel_10860\\3736943680.py:8: PerformanceWarning:\n",
      "\n",
      "DataFrame is highly fragmented.  This is usually the result of calling `frame.insert` many times, which has poor performance.  Consider joining all columns at once using pd.concat(axis=1) instead. To get a de-fragmented frame, use `newframe = frame.copy()`\n",
      "\n",
      "C:\\Users\\user\\AppData\\Local\\Temp\\ipykernel_10860\\3736943680.py:8: PerformanceWarning:\n",
      "\n",
      "DataFrame is highly fragmented.  This is usually the result of calling `frame.insert` many times, which has poor performance.  Consider joining all columns at once using pd.concat(axis=1) instead. To get a de-fragmented frame, use `newframe = frame.copy()`\n",
      "\n",
      "C:\\Users\\user\\AppData\\Local\\Temp\\ipykernel_10860\\3736943680.py:8: PerformanceWarning:\n",
      "\n",
      "DataFrame is highly fragmented.  This is usually the result of calling `frame.insert` many times, which has poor performance.  Consider joining all columns at once using pd.concat(axis=1) instead. To get a de-fragmented frame, use `newframe = frame.copy()`\n",
      "\n",
      "C:\\Users\\user\\AppData\\Local\\Temp\\ipykernel_10860\\3736943680.py:8: PerformanceWarning:\n",
      "\n",
      "DataFrame is highly fragmented.  This is usually the result of calling `frame.insert` many times, which has poor performance.  Consider joining all columns at once using pd.concat(axis=1) instead. To get a de-fragmented frame, use `newframe = frame.copy()`\n",
      "\n",
      "C:\\Users\\user\\AppData\\Local\\Temp\\ipykernel_10860\\3736943680.py:8: PerformanceWarning:\n",
      "\n",
      "DataFrame is highly fragmented.  This is usually the result of calling `frame.insert` many times, which has poor performance.  Consider joining all columns at once using pd.concat(axis=1) instead. To get a de-fragmented frame, use `newframe = frame.copy()`\n",
      "\n",
      "C:\\Users\\user\\AppData\\Local\\Temp\\ipykernel_10860\\3736943680.py:8: PerformanceWarning:\n",
      "\n",
      "DataFrame is highly fragmented.  This is usually the result of calling `frame.insert` many times, which has poor performance.  Consider joining all columns at once using pd.concat(axis=1) instead. To get a de-fragmented frame, use `newframe = frame.copy()`\n",
      "\n",
      "C:\\Users\\user\\AppData\\Local\\Temp\\ipykernel_10860\\3736943680.py:8: PerformanceWarning:\n",
      "\n",
      "DataFrame is highly fragmented.  This is usually the result of calling `frame.insert` many times, which has poor performance.  Consider joining all columns at once using pd.concat(axis=1) instead. To get a de-fragmented frame, use `newframe = frame.copy()`\n",
      "\n",
      "C:\\Users\\user\\AppData\\Local\\Temp\\ipykernel_10860\\3736943680.py:8: PerformanceWarning:\n",
      "\n",
      "DataFrame is highly fragmented.  This is usually the result of calling `frame.insert` many times, which has poor performance.  Consider joining all columns at once using pd.concat(axis=1) instead. To get a de-fragmented frame, use `newframe = frame.copy()`\n",
      "\n",
      "C:\\Users\\user\\AppData\\Local\\Temp\\ipykernel_10860\\3736943680.py:8: PerformanceWarning:\n",
      "\n",
      "DataFrame is highly fragmented.  This is usually the result of calling `frame.insert` many times, which has poor performance.  Consider joining all columns at once using pd.concat(axis=1) instead. To get a de-fragmented frame, use `newframe = frame.copy()`\n",
      "\n",
      "C:\\Users\\user\\AppData\\Local\\Temp\\ipykernel_10860\\3736943680.py:8: PerformanceWarning:\n",
      "\n",
      "DataFrame is highly fragmented.  This is usually the result of calling `frame.insert` many times, which has poor performance.  Consider joining all columns at once using pd.concat(axis=1) instead. To get a de-fragmented frame, use `newframe = frame.copy()`\n",
      "\n",
      "C:\\Users\\user\\AppData\\Local\\Temp\\ipykernel_10860\\3736943680.py:8: PerformanceWarning:\n",
      "\n",
      "DataFrame is highly fragmented.  This is usually the result of calling `frame.insert` many times, which has poor performance.  Consider joining all columns at once using pd.concat(axis=1) instead. To get a de-fragmented frame, use `newframe = frame.copy()`\n",
      "\n",
      "C:\\Users\\user\\AppData\\Local\\Temp\\ipykernel_10860\\3736943680.py:8: PerformanceWarning:\n",
      "\n",
      "DataFrame is highly fragmented.  This is usually the result of calling `frame.insert` many times, which has poor performance.  Consider joining all columns at once using pd.concat(axis=1) instead. To get a de-fragmented frame, use `newframe = frame.copy()`\n",
      "\n",
      "C:\\Users\\user\\AppData\\Local\\Temp\\ipykernel_10860\\3736943680.py:8: PerformanceWarning:\n",
      "\n",
      "DataFrame is highly fragmented.  This is usually the result of calling `frame.insert` many times, which has poor performance.  Consider joining all columns at once using pd.concat(axis=1) instead. To get a de-fragmented frame, use `newframe = frame.copy()`\n",
      "\n",
      "C:\\Users\\user\\AppData\\Local\\Temp\\ipykernel_10860\\3736943680.py:8: PerformanceWarning:\n",
      "\n",
      "DataFrame is highly fragmented.  This is usually the result of calling `frame.insert` many times, which has poor performance.  Consider joining all columns at once using pd.concat(axis=1) instead. To get a de-fragmented frame, use `newframe = frame.copy()`\n",
      "\n",
      "C:\\Users\\user\\AppData\\Local\\Temp\\ipykernel_10860\\3736943680.py:8: PerformanceWarning:\n",
      "\n",
      "DataFrame is highly fragmented.  This is usually the result of calling `frame.insert` many times, which has poor performance.  Consider joining all columns at once using pd.concat(axis=1) instead. To get a de-fragmented frame, use `newframe = frame.copy()`\n",
      "\n",
      "C:\\Users\\user\\AppData\\Local\\Temp\\ipykernel_10860\\3736943680.py:8: PerformanceWarning:\n",
      "\n",
      "DataFrame is highly fragmented.  This is usually the result of calling `frame.insert` many times, which has poor performance.  Consider joining all columns at once using pd.concat(axis=1) instead. To get a de-fragmented frame, use `newframe = frame.copy()`\n",
      "\n",
      "C:\\Users\\user\\AppData\\Local\\Temp\\ipykernel_10860\\3736943680.py:8: PerformanceWarning:\n",
      "\n",
      "DataFrame is highly fragmented.  This is usually the result of calling `frame.insert` many times, which has poor performance.  Consider joining all columns at once using pd.concat(axis=1) instead. To get a de-fragmented frame, use `newframe = frame.copy()`\n",
      "\n",
      "C:\\Users\\user\\AppData\\Local\\Temp\\ipykernel_10860\\3736943680.py:8: PerformanceWarning:\n",
      "\n",
      "DataFrame is highly fragmented.  This is usually the result of calling `frame.insert` many times, which has poor performance.  Consider joining all columns at once using pd.concat(axis=1) instead. To get a de-fragmented frame, use `newframe = frame.copy()`\n",
      "\n",
      "C:\\Users\\user\\AppData\\Local\\Temp\\ipykernel_10860\\3736943680.py:8: PerformanceWarning:\n",
      "\n",
      "DataFrame is highly fragmented.  This is usually the result of calling `frame.insert` many times, which has poor performance.  Consider joining all columns at once using pd.concat(axis=1) instead. To get a de-fragmented frame, use `newframe = frame.copy()`\n",
      "\n",
      "C:\\Users\\user\\AppData\\Local\\Temp\\ipykernel_10860\\3736943680.py:8: PerformanceWarning:\n",
      "\n",
      "DataFrame is highly fragmented.  This is usually the result of calling `frame.insert` many times, which has poor performance.  Consider joining all columns at once using pd.concat(axis=1) instead. To get a de-fragmented frame, use `newframe = frame.copy()`\n",
      "\n",
      "C:\\Users\\user\\AppData\\Local\\Temp\\ipykernel_10860\\3736943680.py:8: PerformanceWarning:\n",
      "\n",
      "DataFrame is highly fragmented.  This is usually the result of calling `frame.insert` many times, which has poor performance.  Consider joining all columns at once using pd.concat(axis=1) instead. To get a de-fragmented frame, use `newframe = frame.copy()`\n",
      "\n",
      "C:\\Users\\user\\AppData\\Local\\Temp\\ipykernel_10860\\3736943680.py:8: PerformanceWarning:\n",
      "\n",
      "DataFrame is highly fragmented.  This is usually the result of calling `frame.insert` many times, which has poor performance.  Consider joining all columns at once using pd.concat(axis=1) instead. To get a de-fragmented frame, use `newframe = frame.copy()`\n",
      "\n"
     ]
    },
    {
     "name": "stderr",
     "output_type": "stream",
     "text": [
      "C:\\Users\\user\\AppData\\Local\\Temp\\ipykernel_10860\\3736943680.py:8: PerformanceWarning:\n",
      "\n",
      "DataFrame is highly fragmented.  This is usually the result of calling `frame.insert` many times, which has poor performance.  Consider joining all columns at once using pd.concat(axis=1) instead. To get a de-fragmented frame, use `newframe = frame.copy()`\n",
      "\n",
      "C:\\Users\\user\\AppData\\Local\\Temp\\ipykernel_10860\\3736943680.py:8: PerformanceWarning:\n",
      "\n",
      "DataFrame is highly fragmented.  This is usually the result of calling `frame.insert` many times, which has poor performance.  Consider joining all columns at once using pd.concat(axis=1) instead. To get a de-fragmented frame, use `newframe = frame.copy()`\n",
      "\n",
      "C:\\Users\\user\\AppData\\Local\\Temp\\ipykernel_10860\\3736943680.py:8: PerformanceWarning:\n",
      "\n",
      "DataFrame is highly fragmented.  This is usually the result of calling `frame.insert` many times, which has poor performance.  Consider joining all columns at once using pd.concat(axis=1) instead. To get a de-fragmented frame, use `newframe = frame.copy()`\n",
      "\n"
     ]
    }
   ],
   "source": [
    "for i in range(len(gold_tmp)):\n",
    "    index_tmp = list(tmp_gold[tmp_gold.SUMMONERNAME == gold_tmp.iloc[i].SUMMONERNAME].ALL_TIME_GOLD.str.split('|'))\n",
    "    index_tmp = [element for array in index_tmp for element in array]\n",
    "    tmp['GAMEID'] = ''\n",
    "    tmp['SUMMONERNAME'] = ''\n",
    "    for j in range(len(index_tmp)):\n",
    "        str_tmp = 'G_%d'%j\n",
    "        tmp[str_tmp] = ''\n",
    "        \n",
    "print('end')"
   ]
  },
  {
   "cell_type": "code",
   "execution_count": 53,
   "id": "5be07b78",
   "metadata": {},
   "outputs": [],
   "source": [
    "for i in range(len(gold_tmp)):\n",
    "    index_tmp = list(tmp_gold[tmp_gold.SUMMONERNAME == gold_tmp.iloc[i].SUMMONERNAME].ALL_TIME_GOLD.str.split('|'))\n",
    "    index_tmp = [element for array in index_tmp for element in array]\n",
    "    tmp.loc[i, 'GAMEID'] = gold_tmp.iloc[i].GAMEID\n",
    "    tmp.loc[i, 'SUMMONERNAME'] = gold_tmp.iloc[i].SUMMONERNAME\n",
    "    for j in range(len(index_tmp)):\n",
    "        str_tmp = 'G_%d'%j\n",
    "        tmp.loc[i, str_tmp] = int(index_tmp[j])"
   ]
  },
  {
   "cell_type": "code",
   "execution_count": 54,
   "id": "e4a88882",
   "metadata": {},
   "outputs": [
    {
     "data": {
      "text/html": [
       "<div>\n",
       "<style scoped>\n",
       "    .dataframe tbody tr th:only-of-type {\n",
       "        vertical-align: middle;\n",
       "    }\n",
       "\n",
       "    .dataframe tbody tr th {\n",
       "        vertical-align: top;\n",
       "    }\n",
       "\n",
       "    .dataframe thead th {\n",
       "        text-align: right;\n",
       "    }\n",
       "</style>\n",
       "<table border=\"1\" class=\"dataframe\">\n",
       "  <thead>\n",
       "    <tr style=\"text-align: right;\">\n",
       "      <th></th>\n",
       "      <th>GAMEID</th>\n",
       "      <th>SUMMONERNAME</th>\n",
       "      <th>G_0</th>\n",
       "      <th>G_1</th>\n",
       "      <th>G_2</th>\n",
       "      <th>G_3</th>\n",
       "      <th>G_4</th>\n",
       "      <th>G_5</th>\n",
       "      <th>G_6</th>\n",
       "      <th>G_7</th>\n",
       "      <th>...</th>\n",
       "      <th>G_116</th>\n",
       "      <th>G_117</th>\n",
       "      <th>G_118</th>\n",
       "      <th>G_119</th>\n",
       "      <th>G_120</th>\n",
       "      <th>G_121</th>\n",
       "      <th>G_122</th>\n",
       "      <th>G_123</th>\n",
       "      <th>G_124</th>\n",
       "      <th>G_125</th>\n",
       "    </tr>\n",
       "  </thead>\n",
       "  <tbody>\n",
       "    <tr>\n",
       "      <th>0</th>\n",
       "      <td>6027011613</td>\n",
       "      <td>갱무민</td>\n",
       "      <td>500</td>\n",
       "      <td>500</td>\n",
       "      <td>542</td>\n",
       "      <td>776</td>\n",
       "      <td>1057</td>\n",
       "      <td>1305</td>\n",
       "      <td>1470</td>\n",
       "      <td>1697</td>\n",
       "      <td>...</td>\n",
       "      <td></td>\n",
       "      <td></td>\n",
       "      <td></td>\n",
       "      <td></td>\n",
       "      <td></td>\n",
       "      <td></td>\n",
       "      <td></td>\n",
       "      <td></td>\n",
       "      <td></td>\n",
       "      <td></td>\n",
       "    </tr>\n",
       "    <tr>\n",
       "      <th>1</th>\n",
       "      <td>6027011613</td>\n",
       "      <td>조각배처럼</td>\n",
       "      <td>500</td>\n",
       "      <td>500</td>\n",
       "      <td>621</td>\n",
       "      <td>1018</td>\n",
       "      <td>1232</td>\n",
       "      <td>1449</td>\n",
       "      <td>1739</td>\n",
       "      <td>2010</td>\n",
       "      <td>...</td>\n",
       "      <td></td>\n",
       "      <td></td>\n",
       "      <td></td>\n",
       "      <td></td>\n",
       "      <td></td>\n",
       "      <td></td>\n",
       "      <td></td>\n",
       "      <td></td>\n",
       "      <td></td>\n",
       "      <td></td>\n",
       "    </tr>\n",
       "    <tr>\n",
       "      <th>2</th>\n",
       "      <td>6027011613</td>\n",
       "      <td>안녕 나는 뎨영이</td>\n",
       "      <td>500</td>\n",
       "      <td>500</td>\n",
       "      <td>652</td>\n",
       "      <td>1031</td>\n",
       "      <td>1332</td>\n",
       "      <td>1746</td>\n",
       "      <td>2081</td>\n",
       "      <td>2410</td>\n",
       "      <td>...</td>\n",
       "      <td></td>\n",
       "      <td></td>\n",
       "      <td></td>\n",
       "      <td></td>\n",
       "      <td></td>\n",
       "      <td></td>\n",
       "      <td></td>\n",
       "      <td></td>\n",
       "      <td></td>\n",
       "      <td></td>\n",
       "    </tr>\n",
       "    <tr>\n",
       "      <th>3</th>\n",
       "      <td>6027011613</td>\n",
       "      <td>soulseen</td>\n",
       "      <td>500</td>\n",
       "      <td>500</td>\n",
       "      <td>584</td>\n",
       "      <td>916</td>\n",
       "      <td>1588</td>\n",
       "      <td>1752</td>\n",
       "      <td>2444</td>\n",
       "      <td>2566</td>\n",
       "      <td>...</td>\n",
       "      <td></td>\n",
       "      <td></td>\n",
       "      <td></td>\n",
       "      <td></td>\n",
       "      <td></td>\n",
       "      <td></td>\n",
       "      <td></td>\n",
       "      <td></td>\n",
       "      <td></td>\n",
       "      <td></td>\n",
       "    </tr>\n",
       "    <tr>\n",
       "      <th>4</th>\n",
       "      <td>6027011613</td>\n",
       "      <td>제발멈춰억까</td>\n",
       "      <td>500</td>\n",
       "      <td>500</td>\n",
       "      <td>523</td>\n",
       "      <td>678</td>\n",
       "      <td>1065</td>\n",
       "      <td>1199</td>\n",
       "      <td>1510</td>\n",
       "      <td>1674</td>\n",
       "      <td>...</td>\n",
       "      <td></td>\n",
       "      <td></td>\n",
       "      <td></td>\n",
       "      <td></td>\n",
       "      <td></td>\n",
       "      <td></td>\n",
       "      <td></td>\n",
       "      <td></td>\n",
       "      <td></td>\n",
       "      <td></td>\n",
       "    </tr>\n",
       "    <tr>\n",
       "      <th>...</th>\n",
       "      <td>...</td>\n",
       "      <td>...</td>\n",
       "      <td>...</td>\n",
       "      <td>...</td>\n",
       "      <td>...</td>\n",
       "      <td>...</td>\n",
       "      <td>...</td>\n",
       "      <td>...</td>\n",
       "      <td>...</td>\n",
       "      <td>...</td>\n",
       "      <td>...</td>\n",
       "      <td>...</td>\n",
       "      <td>...</td>\n",
       "      <td>...</td>\n",
       "      <td>...</td>\n",
       "      <td>...</td>\n",
       "      <td>...</td>\n",
       "      <td>...</td>\n",
       "      <td>...</td>\n",
       "      <td>...</td>\n",
       "      <td>...</td>\n",
       "    </tr>\n",
       "    <tr>\n",
       "      <th>665</th>\n",
       "      <td>6016806773</td>\n",
       "      <td>모스트 룰루</td>\n",
       "      <td>500</td>\n",
       "      <td>500</td>\n",
       "      <td>584</td>\n",
       "      <td>860</td>\n",
       "      <td>1099</td>\n",
       "      <td>1661</td>\n",
       "      <td>1868</td>\n",
       "      <td>2238</td>\n",
       "      <td>...</td>\n",
       "      <td></td>\n",
       "      <td></td>\n",
       "      <td></td>\n",
       "      <td></td>\n",
       "      <td></td>\n",
       "      <td></td>\n",
       "      <td></td>\n",
       "      <td></td>\n",
       "      <td></td>\n",
       "      <td></td>\n",
       "    </tr>\n",
       "    <tr>\n",
       "      <th>666</th>\n",
       "      <td>6016806773</td>\n",
       "      <td>늙고 병든 장수</td>\n",
       "      <td>500</td>\n",
       "      <td>500</td>\n",
       "      <td>621</td>\n",
       "      <td>1028</td>\n",
       "      <td>1548</td>\n",
       "      <td>1777</td>\n",
       "      <td>2262</td>\n",
       "      <td>2579</td>\n",
       "      <td>...</td>\n",
       "      <td></td>\n",
       "      <td></td>\n",
       "      <td></td>\n",
       "      <td></td>\n",
       "      <td></td>\n",
       "      <td></td>\n",
       "      <td></td>\n",
       "      <td></td>\n",
       "      <td></td>\n",
       "      <td></td>\n",
       "    </tr>\n",
       "    <tr>\n",
       "      <th>667</th>\n",
       "      <td>6016806773</td>\n",
       "      <td>1일1블랙보리</td>\n",
       "      <td>500</td>\n",
       "      <td>500</td>\n",
       "      <td>584</td>\n",
       "      <td>871</td>\n",
       "      <td>1148</td>\n",
       "      <td>1407</td>\n",
       "      <td>1809</td>\n",
       "      <td>1994</td>\n",
       "      <td>...</td>\n",
       "      <td></td>\n",
       "      <td></td>\n",
       "      <td></td>\n",
       "      <td></td>\n",
       "      <td></td>\n",
       "      <td></td>\n",
       "      <td></td>\n",
       "      <td></td>\n",
       "      <td></td>\n",
       "      <td></td>\n",
       "    </tr>\n",
       "    <tr>\n",
       "      <th>668</th>\n",
       "      <td>6016806773</td>\n",
       "      <td>미드탑굿</td>\n",
       "      <td>500</td>\n",
       "      <td>500</td>\n",
       "      <td>584</td>\n",
       "      <td>769</td>\n",
       "      <td>1109</td>\n",
       "      <td>1469</td>\n",
       "      <td>1725</td>\n",
       "      <td>1980</td>\n",
       "      <td>...</td>\n",
       "      <td></td>\n",
       "      <td></td>\n",
       "      <td></td>\n",
       "      <td></td>\n",
       "      <td></td>\n",
       "      <td></td>\n",
       "      <td></td>\n",
       "      <td></td>\n",
       "      <td></td>\n",
       "      <td></td>\n",
       "    </tr>\n",
       "    <tr>\n",
       "      <th>669</th>\n",
       "      <td>6016806773</td>\n",
       "      <td>휴야라면좀</td>\n",
       "      <td>500</td>\n",
       "      <td>500</td>\n",
       "      <td>544</td>\n",
       "      <td>678</td>\n",
       "      <td>869</td>\n",
       "      <td>1087</td>\n",
       "      <td>1257</td>\n",
       "      <td>1426</td>\n",
       "      <td>...</td>\n",
       "      <td></td>\n",
       "      <td></td>\n",
       "      <td></td>\n",
       "      <td></td>\n",
       "      <td></td>\n",
       "      <td></td>\n",
       "      <td></td>\n",
       "      <td></td>\n",
       "      <td></td>\n",
       "      <td></td>\n",
       "    </tr>\n",
       "  </tbody>\n",
       "</table>\n",
       "<p>670 rows × 128 columns</p>\n",
       "</div>"
      ],
      "text/plain": [
       "         GAMEID SUMMONERNAME  G_0  G_1  G_2   G_3   G_4   G_5   G_6   G_7  \\\n",
       "0    6027011613          갱무민  500  500  542   776  1057  1305  1470  1697   \n",
       "1    6027011613        조각배처럼  500  500  621  1018  1232  1449  1739  2010   \n",
       "2    6027011613    안녕 나는 뎨영이  500  500  652  1031  1332  1746  2081  2410   \n",
       "3    6027011613     soulseen  500  500  584   916  1588  1752  2444  2566   \n",
       "4    6027011613       제발멈춰억까  500  500  523   678  1065  1199  1510  1674   \n",
       "..          ...          ...  ...  ...  ...   ...   ...   ...   ...   ...   \n",
       "665  6016806773       모스트 룰루  500  500  584   860  1099  1661  1868  2238   \n",
       "666  6016806773     늙고 병든 장수  500  500  621  1028  1548  1777  2262  2579   \n",
       "667  6016806773      1일1블랙보리  500  500  584   871  1148  1407  1809  1994   \n",
       "668  6016806773         미드탑굿  500  500  584   769  1109  1469  1725  1980   \n",
       "669  6016806773        휴야라면좀  500  500  544   678   869  1087  1257  1426   \n",
       "\n",
       "     ...  G_116  G_117  G_118  G_119 G_120 G_121 G_122 G_123 G_124 G_125  \n",
       "0    ...                                                                  \n",
       "1    ...                                                                  \n",
       "2    ...                                                                  \n",
       "3    ...                                                                  \n",
       "4    ...                                                                  \n",
       "..   ...    ...    ...    ...    ...   ...   ...   ...   ...   ...   ...  \n",
       "665  ...                                                                  \n",
       "666  ...                                                                  \n",
       "667  ...                                                                  \n",
       "668  ...                                                                  \n",
       "669  ...                                                                  \n",
       "\n",
       "[670 rows x 128 columns]"
      ]
     },
     "execution_count": 54,
     "metadata": {},
     "output_type": "execute_result"
    }
   ],
   "source": [
    "tmp.fillna('')"
   ]
  },
  {
   "cell_type": "code",
   "execution_count": 55,
   "id": "71327895",
   "metadata": {},
   "outputs": [],
   "source": [
    "tmp_gold = pd.merge(gold_tmp, tmp)"
   ]
  },
  {
   "cell_type": "code",
   "execution_count": 56,
   "id": "dcc398c7",
   "metadata": {},
   "outputs": [],
   "source": [
    "tmp_gold = tmp_gold.fillna('')"
   ]
  },
  {
   "cell_type": "code",
   "execution_count": 57,
   "id": "37731fb3",
   "metadata": {},
   "outputs": [
    {
     "data": {
      "text/html": [
       "<div>\n",
       "<style scoped>\n",
       "    .dataframe tbody tr th:only-of-type {\n",
       "        vertical-align: middle;\n",
       "    }\n",
       "\n",
       "    .dataframe tbody tr th {\n",
       "        vertical-align: top;\n",
       "    }\n",
       "\n",
       "    .dataframe thead th {\n",
       "        text-align: right;\n",
       "    }\n",
       "</style>\n",
       "<table border=\"1\" class=\"dataframe\">\n",
       "  <thead>\n",
       "    <tr style=\"text-align: right;\">\n",
       "      <th></th>\n",
       "      <th>GAMEID</th>\n",
       "      <th>SUMMONERNAME</th>\n",
       "      <th>PARTICIPANTID</th>\n",
       "      <th>TEAMID</th>\n",
       "      <th>TEAMPOSITION</th>\n",
       "      <th>G_0</th>\n",
       "      <th>G_1</th>\n",
       "      <th>G_2</th>\n",
       "      <th>G_3</th>\n",
       "      <th>G_4</th>\n",
       "      <th>...</th>\n",
       "      <th>G_116</th>\n",
       "      <th>G_117</th>\n",
       "      <th>G_118</th>\n",
       "      <th>G_119</th>\n",
       "      <th>G_120</th>\n",
       "      <th>G_121</th>\n",
       "      <th>G_122</th>\n",
       "      <th>G_123</th>\n",
       "      <th>G_124</th>\n",
       "      <th>G_125</th>\n",
       "    </tr>\n",
       "  </thead>\n",
       "  <tbody>\n",
       "    <tr>\n",
       "      <th>0</th>\n",
       "      <td>6027011613</td>\n",
       "      <td>갱무민</td>\n",
       "      <td>1</td>\n",
       "      <td>100</td>\n",
       "      <td>TOP</td>\n",
       "      <td>500</td>\n",
       "      <td>500</td>\n",
       "      <td>542</td>\n",
       "      <td>776</td>\n",
       "      <td>1057</td>\n",
       "      <td>...</td>\n",
       "      <td></td>\n",
       "      <td></td>\n",
       "      <td></td>\n",
       "      <td></td>\n",
       "      <td></td>\n",
       "      <td></td>\n",
       "      <td></td>\n",
       "      <td></td>\n",
       "      <td></td>\n",
       "      <td></td>\n",
       "    </tr>\n",
       "    <tr>\n",
       "      <th>1</th>\n",
       "      <td>6027011613</td>\n",
       "      <td>조각배처럼</td>\n",
       "      <td>2</td>\n",
       "      <td>100</td>\n",
       "      <td>JUNGLE</td>\n",
       "      <td>500</td>\n",
       "      <td>500</td>\n",
       "      <td>621</td>\n",
       "      <td>1018</td>\n",
       "      <td>1232</td>\n",
       "      <td>...</td>\n",
       "      <td></td>\n",
       "      <td></td>\n",
       "      <td></td>\n",
       "      <td></td>\n",
       "      <td></td>\n",
       "      <td></td>\n",
       "      <td></td>\n",
       "      <td></td>\n",
       "      <td></td>\n",
       "      <td></td>\n",
       "    </tr>\n",
       "    <tr>\n",
       "      <th>2</th>\n",
       "      <td>6027011613</td>\n",
       "      <td>안녕 나는 뎨영이</td>\n",
       "      <td>3</td>\n",
       "      <td>100</td>\n",
       "      <td>MIDDLE</td>\n",
       "      <td>500</td>\n",
       "      <td>500</td>\n",
       "      <td>652</td>\n",
       "      <td>1031</td>\n",
       "      <td>1332</td>\n",
       "      <td>...</td>\n",
       "      <td></td>\n",
       "      <td></td>\n",
       "      <td></td>\n",
       "      <td></td>\n",
       "      <td></td>\n",
       "      <td></td>\n",
       "      <td></td>\n",
       "      <td></td>\n",
       "      <td></td>\n",
       "      <td></td>\n",
       "    </tr>\n",
       "    <tr>\n",
       "      <th>3</th>\n",
       "      <td>6027011613</td>\n",
       "      <td>soulseen</td>\n",
       "      <td>4</td>\n",
       "      <td>100</td>\n",
       "      <td>BOTTOM</td>\n",
       "      <td>500</td>\n",
       "      <td>500</td>\n",
       "      <td>584</td>\n",
       "      <td>916</td>\n",
       "      <td>1588</td>\n",
       "      <td>...</td>\n",
       "      <td></td>\n",
       "      <td></td>\n",
       "      <td></td>\n",
       "      <td></td>\n",
       "      <td></td>\n",
       "      <td></td>\n",
       "      <td></td>\n",
       "      <td></td>\n",
       "      <td></td>\n",
       "      <td></td>\n",
       "    </tr>\n",
       "    <tr>\n",
       "      <th>4</th>\n",
       "      <td>6027011613</td>\n",
       "      <td>제발멈춰억까</td>\n",
       "      <td>5</td>\n",
       "      <td>100</td>\n",
       "      <td>UTILITY</td>\n",
       "      <td>500</td>\n",
       "      <td>500</td>\n",
       "      <td>523</td>\n",
       "      <td>678</td>\n",
       "      <td>1065</td>\n",
       "      <td>...</td>\n",
       "      <td></td>\n",
       "      <td></td>\n",
       "      <td></td>\n",
       "      <td></td>\n",
       "      <td></td>\n",
       "      <td></td>\n",
       "      <td></td>\n",
       "      <td></td>\n",
       "      <td></td>\n",
       "      <td></td>\n",
       "    </tr>\n",
       "    <tr>\n",
       "      <th>...</th>\n",
       "      <td>...</td>\n",
       "      <td>...</td>\n",
       "      <td>...</td>\n",
       "      <td>...</td>\n",
       "      <td>...</td>\n",
       "      <td>...</td>\n",
       "      <td>...</td>\n",
       "      <td>...</td>\n",
       "      <td>...</td>\n",
       "      <td>...</td>\n",
       "      <td>...</td>\n",
       "      <td>...</td>\n",
       "      <td>...</td>\n",
       "      <td>...</td>\n",
       "      <td>...</td>\n",
       "      <td>...</td>\n",
       "      <td>...</td>\n",
       "      <td>...</td>\n",
       "      <td>...</td>\n",
       "      <td>...</td>\n",
       "      <td>...</td>\n",
       "    </tr>\n",
       "    <tr>\n",
       "      <th>665</th>\n",
       "      <td>6016806773</td>\n",
       "      <td>모스트 룰루</td>\n",
       "      <td>6</td>\n",
       "      <td>200</td>\n",
       "      <td>TOP</td>\n",
       "      <td>500</td>\n",
       "      <td>500</td>\n",
       "      <td>584</td>\n",
       "      <td>860</td>\n",
       "      <td>1099</td>\n",
       "      <td>...</td>\n",
       "      <td></td>\n",
       "      <td></td>\n",
       "      <td></td>\n",
       "      <td></td>\n",
       "      <td></td>\n",
       "      <td></td>\n",
       "      <td></td>\n",
       "      <td></td>\n",
       "      <td></td>\n",
       "      <td></td>\n",
       "    </tr>\n",
       "    <tr>\n",
       "      <th>666</th>\n",
       "      <td>6016806773</td>\n",
       "      <td>늙고 병든 장수</td>\n",
       "      <td>7</td>\n",
       "      <td>200</td>\n",
       "      <td>JUNGLE</td>\n",
       "      <td>500</td>\n",
       "      <td>500</td>\n",
       "      <td>621</td>\n",
       "      <td>1028</td>\n",
       "      <td>1548</td>\n",
       "      <td>...</td>\n",
       "      <td></td>\n",
       "      <td></td>\n",
       "      <td></td>\n",
       "      <td></td>\n",
       "      <td></td>\n",
       "      <td></td>\n",
       "      <td></td>\n",
       "      <td></td>\n",
       "      <td></td>\n",
       "      <td></td>\n",
       "    </tr>\n",
       "    <tr>\n",
       "      <th>667</th>\n",
       "      <td>6016806773</td>\n",
       "      <td>1일1블랙보리</td>\n",
       "      <td>8</td>\n",
       "      <td>200</td>\n",
       "      <td>MIDDLE</td>\n",
       "      <td>500</td>\n",
       "      <td>500</td>\n",
       "      <td>584</td>\n",
       "      <td>871</td>\n",
       "      <td>1148</td>\n",
       "      <td>...</td>\n",
       "      <td></td>\n",
       "      <td></td>\n",
       "      <td></td>\n",
       "      <td></td>\n",
       "      <td></td>\n",
       "      <td></td>\n",
       "      <td></td>\n",
       "      <td></td>\n",
       "      <td></td>\n",
       "      <td></td>\n",
       "    </tr>\n",
       "    <tr>\n",
       "      <th>668</th>\n",
       "      <td>6016806773</td>\n",
       "      <td>미드탑굿</td>\n",
       "      <td>9</td>\n",
       "      <td>200</td>\n",
       "      <td>BOTTOM</td>\n",
       "      <td>500</td>\n",
       "      <td>500</td>\n",
       "      <td>584</td>\n",
       "      <td>769</td>\n",
       "      <td>1109</td>\n",
       "      <td>...</td>\n",
       "      <td></td>\n",
       "      <td></td>\n",
       "      <td></td>\n",
       "      <td></td>\n",
       "      <td></td>\n",
       "      <td></td>\n",
       "      <td></td>\n",
       "      <td></td>\n",
       "      <td></td>\n",
       "      <td></td>\n",
       "    </tr>\n",
       "    <tr>\n",
       "      <th>669</th>\n",
       "      <td>6016806773</td>\n",
       "      <td>휴야라면좀</td>\n",
       "      <td>10</td>\n",
       "      <td>200</td>\n",
       "      <td>UTILITY</td>\n",
       "      <td>500</td>\n",
       "      <td>500</td>\n",
       "      <td>544</td>\n",
       "      <td>678</td>\n",
       "      <td>869</td>\n",
       "      <td>...</td>\n",
       "      <td></td>\n",
       "      <td></td>\n",
       "      <td></td>\n",
       "      <td></td>\n",
       "      <td></td>\n",
       "      <td></td>\n",
       "      <td></td>\n",
       "      <td></td>\n",
       "      <td></td>\n",
       "      <td></td>\n",
       "    </tr>\n",
       "  </tbody>\n",
       "</table>\n",
       "<p>670 rows × 131 columns</p>\n",
       "</div>"
      ],
      "text/plain": [
       "         GAMEID SUMMONERNAME PARTICIPANTID  TEAMID TEAMPOSITION  G_0  G_1  \\\n",
       "0    6027011613          갱무민             1     100          TOP  500  500   \n",
       "1    6027011613        조각배처럼             2     100       JUNGLE  500  500   \n",
       "2    6027011613    안녕 나는 뎨영이             3     100       MIDDLE  500  500   \n",
       "3    6027011613     soulseen             4     100       BOTTOM  500  500   \n",
       "4    6027011613       제발멈춰억까             5     100      UTILITY  500  500   \n",
       "..          ...          ...           ...     ...          ...  ...  ...   \n",
       "665  6016806773       모스트 룰루             6     200          TOP  500  500   \n",
       "666  6016806773     늙고 병든 장수             7     200       JUNGLE  500  500   \n",
       "667  6016806773      1일1블랙보리             8     200       MIDDLE  500  500   \n",
       "668  6016806773         미드탑굿             9     200       BOTTOM  500  500   \n",
       "669  6016806773        휴야라면좀            10     200      UTILITY  500  500   \n",
       "\n",
       "     G_2   G_3   G_4  ...  G_116  G_117  G_118  G_119  G_120  G_121  G_122  \\\n",
       "0    542   776  1057  ...                                                    \n",
       "1    621  1018  1232  ...                                                    \n",
       "2    652  1031  1332  ...                                                    \n",
       "3    584   916  1588  ...                                                    \n",
       "4    523   678  1065  ...                                                    \n",
       "..   ...   ...   ...  ...    ...    ...    ...    ...    ...    ...    ...   \n",
       "665  584   860  1099  ...                                                    \n",
       "666  621  1028  1548  ...                                                    \n",
       "667  584   871  1148  ...                                                    \n",
       "668  584   769  1109  ...                                                    \n",
       "669  544   678   869  ...                                                    \n",
       "\n",
       "    G_123 G_124 G_125  \n",
       "0                      \n",
       "1                      \n",
       "2                      \n",
       "3                      \n",
       "4                      \n",
       "..    ...   ...   ...  \n",
       "665                    \n",
       "666                    \n",
       "667                    \n",
       "668                    \n",
       "669                    \n",
       "\n",
       "[670 rows x 131 columns]"
      ]
     },
     "execution_count": 57,
     "metadata": {},
     "output_type": "execute_result"
    }
   ],
   "source": [
    "tmp_gold"
   ]
  },
  {
   "cell_type": "code",
   "execution_count": 58,
   "id": "35878aae",
   "metadata": {},
   "outputs": [],
   "source": [
    "g15_tmp = tmp_gold[tmp_gold.G_15 != '']"
   ]
  },
  {
   "cell_type": "code",
   "execution_count": 59,
   "id": "7ab40510",
   "metadata": {},
   "outputs": [],
   "source": [
    "g15_tmp = g15_tmp[~g15_tmp.TEAMPOSITION.isna()]"
   ]
  },
  {
   "cell_type": "code",
   "execution_count": 60,
   "id": "032cfcc3",
   "metadata": {},
   "outputs": [],
   "source": [
    "g15_tmp = g15_tmp[['TEAMPOSITION', 'G_15']]"
   ]
  },
  {
   "cell_type": "code",
   "execution_count": 61,
   "id": "6f2fbbfe",
   "metadata": {},
   "outputs": [
    {
     "data": {
      "text/html": [
       "<div>\n",
       "<style scoped>\n",
       "    .dataframe tbody tr th:only-of-type {\n",
       "        vertical-align: middle;\n",
       "    }\n",
       "\n",
       "    .dataframe tbody tr th {\n",
       "        vertical-align: top;\n",
       "    }\n",
       "\n",
       "    .dataframe thead th {\n",
       "        text-align: right;\n",
       "    }\n",
       "</style>\n",
       "<table border=\"1\" class=\"dataframe\">\n",
       "  <thead>\n",
       "    <tr style=\"text-align: right;\">\n",
       "      <th></th>\n",
       "      <th>TEAMPOSITION</th>\n",
       "      <th>G_15</th>\n",
       "    </tr>\n",
       "  </thead>\n",
       "  <tbody>\n",
       "    <tr>\n",
       "      <th>0</th>\n",
       "      <td>TOP</td>\n",
       "      <td>4185</td>\n",
       "    </tr>\n",
       "    <tr>\n",
       "      <th>1</th>\n",
       "      <td>JUNGLE</td>\n",
       "      <td>4735</td>\n",
       "    </tr>\n",
       "    <tr>\n",
       "      <th>2</th>\n",
       "      <td>MIDDLE</td>\n",
       "      <td>5423</td>\n",
       "    </tr>\n",
       "    <tr>\n",
       "      <th>3</th>\n",
       "      <td>BOTTOM</td>\n",
       "      <td>7181</td>\n",
       "    </tr>\n",
       "    <tr>\n",
       "      <th>4</th>\n",
       "      <td>UTILITY</td>\n",
       "      <td>3978</td>\n",
       "    </tr>\n",
       "    <tr>\n",
       "      <th>...</th>\n",
       "      <td>...</td>\n",
       "      <td>...</td>\n",
       "    </tr>\n",
       "    <tr>\n",
       "      <th>665</th>\n",
       "      <td>TOP</td>\n",
       "      <td>5158</td>\n",
       "    </tr>\n",
       "    <tr>\n",
       "      <th>666</th>\n",
       "      <td>JUNGLE</td>\n",
       "      <td>6090</td>\n",
       "    </tr>\n",
       "    <tr>\n",
       "      <th>667</th>\n",
       "      <td>MIDDLE</td>\n",
       "      <td>4369</td>\n",
       "    </tr>\n",
       "    <tr>\n",
       "      <th>668</th>\n",
       "      <td>BOTTOM</td>\n",
       "      <td>7318</td>\n",
       "    </tr>\n",
       "    <tr>\n",
       "      <th>669</th>\n",
       "      <td>UTILITY</td>\n",
       "      <td>3158</td>\n",
       "    </tr>\n",
       "  </tbody>\n",
       "</table>\n",
       "<p>663 rows × 2 columns</p>\n",
       "</div>"
      ],
      "text/plain": [
       "    TEAMPOSITION  G_15\n",
       "0            TOP  4185\n",
       "1         JUNGLE  4735\n",
       "2         MIDDLE  5423\n",
       "3         BOTTOM  7181\n",
       "4        UTILITY  3978\n",
       "..           ...   ...\n",
       "665          TOP  5158\n",
       "666       JUNGLE  6090\n",
       "667       MIDDLE  4369\n",
       "668       BOTTOM  7318\n",
       "669      UTILITY  3158\n",
       "\n",
       "[663 rows x 2 columns]"
      ]
     },
     "execution_count": 61,
     "metadata": {},
     "output_type": "execute_result"
    }
   ],
   "source": [
    "g15_tmp"
   ]
  },
  {
   "cell_type": "code",
   "execution_count": 62,
   "id": "8232620a",
   "metadata": {},
   "outputs": [
    {
     "data": {
      "text/html": [
       "<div>\n",
       "<style scoped>\n",
       "    .dataframe tbody tr th:only-of-type {\n",
       "        vertical-align: middle;\n",
       "    }\n",
       "\n",
       "    .dataframe tbody tr th {\n",
       "        vertical-align: top;\n",
       "    }\n",
       "\n",
       "    .dataframe thead th {\n",
       "        text-align: right;\n",
       "    }\n",
       "</style>\n",
       "<table border=\"1\" class=\"dataframe\">\n",
       "  <thead>\n",
       "    <tr style=\"text-align: right;\">\n",
       "      <th></th>\n",
       "      <th>TEAMPOSITION</th>\n",
       "      <th>G_15</th>\n",
       "    </tr>\n",
       "  </thead>\n",
       "  <tbody>\n",
       "    <tr>\n",
       "      <th>0</th>\n",
       "      <td>BOTTOM</td>\n",
       "      <td>5873.0</td>\n",
       "    </tr>\n",
       "    <tr>\n",
       "      <th>1</th>\n",
       "      <td>JUNGLE</td>\n",
       "      <td>6139.0</td>\n",
       "    </tr>\n",
       "    <tr>\n",
       "      <th>2</th>\n",
       "      <td>MIDDLE</td>\n",
       "      <td>5771.0</td>\n",
       "    </tr>\n",
       "    <tr>\n",
       "      <th>3</th>\n",
       "      <td>TOP</td>\n",
       "      <td>5454.0</td>\n",
       "    </tr>\n",
       "    <tr>\n",
       "      <th>4</th>\n",
       "      <td>UTILITY</td>\n",
       "      <td>4212.0</td>\n",
       "    </tr>\n",
       "  </tbody>\n",
       "</table>\n",
       "</div>"
      ],
      "text/plain": [
       "  TEAMPOSITION    G_15\n",
       "0       BOTTOM  5873.0\n",
       "1       JUNGLE  6139.0\n",
       "2       MIDDLE  5771.0\n",
       "3          TOP  5454.0\n",
       "4      UTILITY  4212.0"
      ]
     },
     "execution_count": 62,
     "metadata": {},
     "output_type": "execute_result"
    }
   ],
   "source": [
    "g15 = g15_tmp.groupby('TEAMPOSITION').mean().round().reset_index()\n",
    "g15"
   ]
  },
  {
   "cell_type": "code",
   "execution_count": 63,
   "id": "37c92278",
   "metadata": {},
   "outputs": [
    {
     "data": {
      "text/plain": [
       "<AxesSubplot:title={'center':'박현우 - 15분 라인별 평균 골드량'}, xlabel='TEAMPOSITION'>"
      ]
     },
     "execution_count": 63,
     "metadata": {},
     "output_type": "execute_result"
    },
    {
     "data": {
      "image/png": "[encoded data removed]",
      "text/plain": [
       "<Figure size 432x288 with 1 Axes>"
      ]
     },
     "metadata": {
      "needs_background": "light"
     },
     "output_type": "display_data"
    }
   ],
   "source": [
    "g15.plot.bar(x='TEAMPOSITION', y='G_15', rot=0, title='박현우 - 15분 라인별 평균 골드량')"
   ]
  }
 ],
 "metadata": {
  "kernelspec": {
   "display_name": "Python 3 (ipykernel)",
   "language": "python",
   "name": "python3"
  },
  "language_info": {
   "codemirror_mode": {
    "name": "ipython",
    "version": 3
   },
   "file_extension": ".py",
   "mimetype": "text/x-python",
   "name": "python",
   "nbconvert_exporter": "python",
   "pygments_lexer": "ipython3",
   "version": "3.9.12"
  }
 },
 "nbformat": 4,
 "nbformat_minor": 5
}
